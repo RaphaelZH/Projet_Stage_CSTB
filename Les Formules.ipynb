{
 "cells": [
  {
   "cell_type": "markdown",
   "metadata": {},
   "source": [
    "# Related formulas to the surface component\n",
    "\n",
    "## Related formulas to collective dwellings\n",
    "\n",
    "### Related formulas to the surface component $M$"
   ]
  },
  {
   "cell_type": "markdown",
   "metadata": {},
   "source": [
    "\\begin{align*}\n",
    "&D_{surface\\_component\\_m} &&= &&\\frac{B_{surface\\_m}}{B_{dwelling\\_total}}\n",
    "\\end{align*}"
   ]
  },
  {
   "cell_type": "markdown",
   "metadata": {},
   "source": [
    "* ***Where:***\n",
    "\n",
    "\\begin{align}\n",
    "&\\color{purple}{B_{surface\\_m}} &&= &&\\left(1-\\color{teal}{D_{share\\_of\\_window}}\\right) \\times \\sqrt{\\color{teal}{D_{surface}} \\times \\color{teal}{B_{dwelling\\_per\\_floor}}} \\times 4 \\times \\color{teal}{D_{ceiling\\_height}} \\notag \\\\\n",
    "&&&&&\\times \\left(\\color{teal}{B_{floors}} + 1\\right) \\\\\n",
    "\\notag \\\\\n",
    "&\\color{purple}{B_{dwelling\\_total}} &&= &&\\color{teal}{B_{dwelling\\_per\\_floor}} \\times \\left(\\color{teal}{B_{floors}} + 1\\right)\n",
    "\\end{align}"
   ]
  },
  {
   "cell_type": "markdown",
   "metadata": {},
   "source": [
    "### Related formulas to the surface component $W$"
   ]
  },
  {
   "cell_type": "markdown",
   "metadata": {},
   "source": [
    "\\begin{align*}\n",
    "&D_{surface\\_component\\_w} &&= &&\\frac{B_{surface\\_w}}{B_{dwelling\\_total}}\n",
    "\\end{align*}"
   ]
  },
  {
   "cell_type": "markdown",
   "metadata": {},
   "source": [
    "* ***Where:***\n",
    "\n",
    "\\begin{align}\n",
    "&\\color{purple}{B_{surface\\_w}} &&= &&\\color{teal}{D_{share\\_of\\_window}} \\times \\sqrt{\\color{teal}{D_{surface}} \\times \\color{teal}{B_{dwelling\\_per\\_floor}}} \\times 4 \\times \\color{teal}{D_{ceiling\\_height}} \\notag \\\\\n",
    "&&&&&\\times \\left(\\color{teal}{B_{floors}} + 1\\right)\n",
    "\\end{align}"
   ]
  },
  {
   "cell_type": "markdown",
   "metadata": {},
   "source": [
    "###  Related formulas to the surface components $R$ and $F$"
   ]
  },
  {
   "cell_type": "markdown",
   "metadata": {},
   "source": [
    "\\begin{align*}\n",
    "&D_{surface\\_component\\_r} &&= &&\\frac{B_{surface\\_r}}{B_{dwelling\\_total}} \\\\\n",
    "\\\\\n",
    "&&&= &&\\frac{D_{surface} \\times B_{dwelling\\_per\\_floor}}{B_{dwelling\\_per\\_floor} \\times \\left(B_{floors} + 1\\right)} \\\\\n",
    "\\\\\n",
    "&&&= &&\\frac{D_{surface}}{B_{floors} + 1} \\\\\n",
    "\\\\\n",
    "&D_{surface\\_component\\_f} &&= &&\\frac{B_{surface\\_f}}{B_{dwelling\\_total}} \\\\\n",
    "\\\\\n",
    "&&&= &&\\frac{D_{surface} \\times B_{dwelling\\_per\\_floor}}{B_{dwelling\\_per\\_floor} \\times \\left(B_{floors} + 1\\right)} \\\\\n",
    "\\\\\n",
    "&&&= &&\\frac{D_{surface}}{B_{floors} + 1} \\\\\n",
    "\\\\\n",
    "&&&= &&D_{surface\\_component\\_r}\n",
    "\\end{align*}"
   ]
  },
  {
   "cell_type": "markdown",
   "metadata": {},
   "source": [
    "* ***Where:***\n",
    "\n",
    "\\begin{align}\n",
    "&\\color{purple}{B_{surface\\_r}} &&= &&\\color{teal}{D_{surface}} \\times \\color{teal}{B_{dwelling\\_per\\_floor}} \\\\\n",
    "\\notag \\\\\n",
    "&B_{surface\\_f} &&= &&D_{surface} \\times B_{dwelling\\_per\\_floor} \\notag \\\\\n",
    "\\notag \\\\\n",
    "&&&= &&B_{surface\\_r} \\notag\n",
    "\\end{align}"
   ]
  },
  {
   "cell_type": "markdown",
   "metadata": {},
   "source": [
    "## Related formulas to individual dwellings\n",
    "\n",
    "### Related formulas to the surface component $M$"
   ]
  },
  {
   "cell_type": "markdown",
   "metadata": {},
   "source": [
    "\\begin{align*}\n",
    "&D_{surface\\_component\\_m} &&= &&\\frac{B_{surface\\_m}}{B_{dwelling\\_total}} \\\\\n",
    "\\\\\n",
    "&&&= &&B_{surface\\_m}\n",
    "\\end{align*}"
   ]
  },
  {
   "cell_type": "markdown",
   "metadata": {},
   "source": [
    "* ***Where:***\n",
    "\n",
    "\\begin{align}\n",
    "&\\color{purple}{B_{surface\\_m}} &&= &&\\left(1-\\color{teal}{D_{share\\_of\\_window}}\\right) \\times \\sqrt{\\frac{\\color{teal}{D_{surface}}}{\\color{teal}{B_{floors}} + 1}} \\times 4 \\times \\color{teal}{D_{ceiling\\_height}} \\times \\left(\\color{teal}{B_{floors}} + 1\\right) \\\\\n",
    "\\notag \\\\\n",
    "&\\color{purple}{B_{dwelling\\_total}} &&= &&1\n",
    "\\end{align}"
   ]
  },
  {
   "cell_type": "markdown",
   "metadata": {},
   "source": [
    "### Related formulas to the surface component $W$"
   ]
  },
  {
   "cell_type": "markdown",
   "metadata": {},
   "source": [
    "\\begin{align*}\n",
    "&D_{surface\\_component\\_w} &&= &&\\frac{B_{surface\\_w}}{B_{dwelling\\_total}} \\\\\n",
    "\\notag \\\\\n",
    "&&&= &&B_{surface\\_w}\n",
    "\\end{align*}"
   ]
  },
  {
   "cell_type": "markdown",
   "metadata": {},
   "source": [
    "* ***Where:***\n",
    "\n",
    "\\begin{align}\n",
    "&\\color{purple}{B_{surface\\_w}} &&= &&\\color{teal}{D_{share\\_of\\_window}} \\times \\sqrt{\\frac{\\color{teal}{D_{surface}}}{\\left(\\color{teal}{B_{floors}} + 1\\right)}} \\times 4 \\times \\color{teal}{D_{ceiling\\_height}} \\times \\left(\\color{teal}{B_{floors}} + 1\\right)\n",
    "\\end{align}"
   ]
  },
  {
   "cell_type": "markdown",
   "metadata": {},
   "source": [
    "###  Related formulas to the surface components $R$ and $F$"
   ]
  },
  {
   "cell_type": "markdown",
   "metadata": {},
   "source": [
    "\\begin{align*}\n",
    "&D_{surface\\_component\\_r} &&= &&B_{surface\\_r} \\\\\n",
    "\\\\\n",
    "&D_{surface\\_component\\_f} &&= &&B_{surface\\_f} \\\\\n",
    "\\\\\n",
    "&&&= &&D_{surface\\_component\\_r}\n",
    "\\end{align*}"
   ]
  },
  {
   "cell_type": "markdown",
   "metadata": {},
   "source": [
    "* ***Where:***\n",
    "\n",
    "\\begin{align}\n",
    "&\\color{purple}{B_{surface\\_r}} &&= &&\\frac{\\color{teal}{D_{surface}}}{\\color{teal}{B_{floors}} + 1} \\\\\n",
    "\\notag \\\\\n",
    "&B_{surface\\_f} &&= &&\\frac{D_{surface}}{B_{floors} + 1} \\notag \\\\\n",
    "\\notag \\\\\n",
    "&&&= &&B_{surface\\_f} \\notag\n",
    "\\end{align}"
   ]
  },
  {
   "cell_type": "markdown",
   "metadata": {},
   "source": [
    "# Related formulas to the overall heat transfer coefficient ($Ug$)"
   ]
  },
  {
   "cell_type": "markdown",
   "metadata": {},
   "source": [
    "\\begin{align*}\n",
    "&D_{ug} &&= &&\\frac{B_{surface\\_m} \\times D_{um} + B_{surface\\_w} \\times D_{uw} + B_{surface\\_r} \\times D_{ur} + B_{surface\\_f} \\times D_{uf}}{B_{surface\\_envelope}} \\\\\n",
    "\\\\\n",
    "&&&= &&\\frac{B_{surface\\_m} \\times D_{um} + B_{surface\\_w} \\times D_{uw} + B_{surface\\_r} \\times \\left(D_{ur} + D_{uf}\\right)}{B_{surface\\_envelope}} \\\\\n",
    "\\\\\n",
    "&&&= &&\\frac{B_{weighted\\_surface\\_total}}{B_{surface\\_envelope}}\n",
    "\\end{align*}"
   ]
  },
  {
   "cell_type": "markdown",
   "metadata": {},
   "source": [
    "* ***Where:***\n",
    "\n",
    "\\begin{align}\n",
    "&\\color{brown}{B_{weighted\\_surface\\_total}} &&= &&\\color{red}{B_{weighted\\_surface\\_m\\_w}} + \\color{red}{B_{weighted\\_surface\\_r\\_f}} \\\\\n",
    "\\notag \\\\\n",
    "&\\color{red}{B_{weighted\\_surface\\_m\\_w}} &&= &&\\color{purple}{B_{surface\\_m}} \\times \\color{red}{D_{um}} + \\color{purple}{B_{surface\\_w}} \\times \\color{red}{D_{uw}} \\\\\n",
    "\\notag \\\\\n",
    "&\\color{red}{B_{weighted\\_surface\\_r\\_f}} &&= &&\\color{purple}{B_{surface\\_r}} \\times \\color{red}{D_{ur}} + \\color{purple}{B_{surface\\_r}} \\times \\color{red}{D_{uf}} \\\\\n",
    "\\notag \\\\\n",
    "&B_{surface\\_envelope} &&= &&B_{surface\\_m} + B_{surface\\_w} + B_{surface\\_r} + B_{surface\\_f} \\notag\n",
    "\\end{align}"
   ]
  },
  {
   "cell_type": "markdown",
   "metadata": {},
   "source": [
    "# Related formulas to the useful energy needs (UEN)\n",
    "\n",
    "## Related formulas to collective dwellings\n",
    "\n",
    "### Related formulas to the UEN per $m^{2}$\n",
    "\n",
    "#### Original related formulas to the UEN per $m^{2}$"
   ]
  },
  {
   "cell_type": "markdown",
   "metadata": {},
   "source": [
    "\\begin{align*}\n",
    "&D_{uen\\_per\\_metre2} &&= &&\\frac{D_{intermittence\\_adjusted} \\times D_{ug} \\times B_{surface\\_envelope} \\times D_{degrees\\_of\\_reference}}{B_{surface\\_habitable} \\times 1000} \\\\\n",
    "\\\\\n",
    "&&&= &&D_{intermittence\\_adjusted} \\times D_{ug} \\times \\frac{B_{surface\\_envelope} \\times D_{degrees\\_of\\_reference}}{B_{surface\\_habitable} \\times 1000}\n",
    "\\end{align*}"
   ]
  },
  {
   "cell_type": "markdown",
   "metadata": {},
   "source": [
    "* ***Where:***\n",
    "\n",
    "\\begin{align*}\n",
    "&D_{intermittence\\_adjusted} &&= &&\\frac{D_{intermittence}}{1 + 0.1 \\times \\left(D_{ug} \\times \\frac{B_{surface\\_envelope}}{B_{surface\\_habitable}} \\times \\frac{2.5}{D_{ceiling\\_height}} - 1\\right)} \\\\\n",
    "\\\\\n",
    "&B_{surface\\_envelope} &&= &&B_{surface\\_m} + B_{surface\\_w} + B_{surface\\_r} + B_{surface\\_f} \\\\\n",
    "\\\\\n",
    "&B_{surface\\_habitable} &&= &&B_{surface\\_r} \\times \\left(B_{floors} + 1\\right)\n",
    "\\end{align*}"
   ]
  },
  {
   "cell_type": "markdown",
   "metadata": {},
   "source": [
    "#### Simplified related formulas to the UEN per  $m^{2}$"
   ]
  },
  {
   "cell_type": "markdown",
   "metadata": {},
   "source": [
    "\\begin{align*}\n",
    "&D_{uen\\_per\\_metre2} &&= &&D_{intermittence\\_adjusted} \\times D_{ug} \\times \\frac{B_{surface\\_envelope} \\times D_{degrees\\_of\\_reference}}{B_{surface\\_habitable} \\times 1000} \\\\\n",
    "\\\\\n",
    "&&&= &&\\frac{D_{intermittence}}{1 + 0.1 \\times \\left(\\frac{B_{weighted\\_surface\\_total}}{B_{surface\\_envelope}} \\times \\frac{B_{surface\\_envelope}}{B_{surface\\_habitable}} \\times \\frac{2.5}{D_{ceiling\\_height}} - 1\\right)} \\\\\n",
    "&&&&&\\times \\frac{B_{weighted\\_surface\\_total}}{B_{surface\\_envelope}} \\times \\frac{B_{surface\\_envelope} \\times D_{degrees\\_of\\_reference}}{B_{surface\\_habitable} \\times 1000} \\\\\n",
    "\\\\\n",
    "&&&= &&\\frac{D_{intermittence}}{1 + \\frac{1}{10} \\times \\left(\\frac{B_{weighted\\_surface\\_total}}{B_{surface\\_habitable}} \\times \\frac{2.5}{D_{ceiling\\_height}} - 1\\right)} \\\\\n",
    "&&&&&\\times \\frac{B_{weighted\\_surface\\_total} \\times D_{degrees\\_of\\_reference}}{B_{surface\\_habitable} \\times 1000} \\\\\n",
    "\\\\\n",
    "&&&= &&\\frac{10 \\times B_{surface\\_habitable} \\times D_{ceiling\\_height} \\times D_{intermittence}}{9 \\times B_{surface\\_habitable} \\times D_{ceiling\\_height} + 2.5 \\times B_{weighted\\_surface\\_total}} \\\\\n",
    "&&&&&\\times \\frac{B_{weighted\\_surface\\_total} \\times D_{degrees\\_of\\_reference}}{B_{surface\\_habitable} \\times 1000} \\\\\n",
    "\\\\\n",
    "&&&= &&\\frac{B_{weighted\\_surface\\_total}}{9 \\times B_{surface\\_habitable} \\times D_{ceiling\\_height} + 2.5 \\times B_{weighted\\_surface\\_total}} \\\\\n",
    "&&&&&\\times \\frac{D_{ceiling\\_height} \\times D_{intermittence} \\times D_{degrees\\_of\\_reference}}{100}\n",
    "\\end{align*}"
   ]
  },
  {
   "cell_type": "markdown",
   "metadata": {},
   "source": [
    "* ***Where:***\n",
    "\n",
    "\\begin{align*}\n",
    "&B_{surface\\_habitable} &&= &&B_{surface\\_r} \\times \\left(B_{floors} + 1\\right)\n",
    "\\end{align*}"
   ]
  },
  {
   "cell_type": "markdown",
   "metadata": {},
   "source": [
    "### Related formulas to the UEN per dwelling"
   ]
  },
  {
   "cell_type": "markdown",
   "metadata": {},
   "source": [
    "\\begin{align}\n",
    "&\\color{brown}{D_{uen\\_per\\_dwelling}} &&= &&D_{uen\\_per\\_metre2} \\times D_{surface} \\notag \\\\\n",
    "\\notag \\\\\n",
    "&&&= &&\\frac{B_{weighted\\_surface\\_total}}{9 \\times B_{surface\\_habitable} \\times D_{ceiling\\_height} + 2.5 \\times B_{weighted\\_surface\\_total}} \\notag \\\\\n",
    "&&&&&\\times \\frac{D_{ceiling\\_height} \\times D_{intermittence} \\times D_{degrees\\_of\\_reference}}{100} \\times D_{surface} \\notag \\\\\n",
    "\\notag \\\\\n",
    "&&&= &&\\color{brown}{D_{uen\\_per\\_dwelling\\_1}} \\times \\color{purple}{D_{uen\\_per\\_dwelling\\_2}}\n",
    "\\end{align}"
   ]
  },
  {
   "cell_type": "markdown",
   "metadata": {},
   "source": [
    "* ***Where:***\n",
    "\n",
    "\\begin{align}\n",
    "&\\color{brown}{D_{uen\\_per\\_dwelling\\_1}} &&= &&\\frac{\\color{brown}{B_{weighted\\_surface\\_total}}}{\\color{brown}{B_{enlarged\\_weighted\\_surface\\_total}}} \\\\\n",
    "\\notag \\\\\n",
    "&\\color{brown}{B_{enlarged\\_weighted\\_surface\\_total}} &&= &&9 \\times \\color{purple}{B_{heightened\\_surface\\_habitable}} + 2.5 \\times \\color{brown}{B_{weighted\\_surface\\_total}} \\\\\n",
    "\\notag \\\\\n",
    "&\\color{purple}{B_{heightened\\_surface\\_habitable}} &&= &&\\color{purple}{B_{surface\\_r}} \\times \\left(\\color{teal}{B_{floors}} + 1\\right) \\times \\color{teal}{D_{ceiling\\_height}} \\\\\n",
    "\\notag \\\\\n",
    "&\\color{purple}{D_{uen\\_per\\_dwelling\\_2}} &&= &&\\color{teal}{D_{ceiling\\_height}} \\times \\color{teal}{D_{intermittence}} \\times \\color{teal}{D_{degrees\\_of\\_reference}} \\times \\color{teal}{D_{surface}} \\notag \\\\\n",
    "&&&&&\\times 0.01\n",
    "\\end{align}"
   ]
  },
  {
   "cell_type": "markdown",
   "metadata": {},
   "source": [
    "## Related formulas to individual dwellings\n",
    "\n",
    "### Related formulas to the UEN per $m^{2}$\n",
    "\n",
    "#### Original related formulas to the UEN per $m^{2}$"
   ]
  },
  {
   "cell_type": "markdown",
   "metadata": {},
   "source": [
    "\\begin{align*}\n",
    "&D_{uen\\_per\\_metre2} &&= &&\\frac{D_{intermittence\\_adjusted} \\times D_{ug} \\times B_{surface\\_envelope} \\times D_{degrees\\_of\\_reference}}{B_{surface\\_habitable} \\times 1000} \\\\\n",
    "\\\\\n",
    "&&&= &&D_{intermittence\\_adjusted} \\times D_{ug} \\times \\frac{B_{surface\\_envelope} \\times D_{degrees\\_of\\_reference}}{B_{surface\\_habitable} \\times 1000}\n",
    "\\end{align*}"
   ]
  },
  {
   "cell_type": "markdown",
   "metadata": {},
   "source": [
    "* ***Where:***\n",
    "\n",
    "\\begin{align*}\n",
    "&D_{intermittence\\_adjusted} &&= &&\\frac{D_{intermittence}}{1 + 0.1 \\times \\left(D_{ug} \\times \\frac{B_{surface\\_envelope}}{B_{surface\\_habitable}} \\times \\frac{2.5}{D_{ceiling\\_height}} - 1\\right)} \\\\\n",
    "\\\\\n",
    "&B_{surface\\_envelope} &&= &&B_{surface\\_m} + B_{surface\\_w} + B_{surface\\_r} + B_{surface\\_f} \\\\\n",
    "\\\\\n",
    "&B_{surface\\_habitable} &&= &&D_{surface}\n",
    "\\end{align*}"
   ]
  },
  {
   "cell_type": "markdown",
   "metadata": {},
   "source": [
    "#### Simplified related formulas to the UEN per  $m^{2}$"
   ]
  },
  {
   "cell_type": "markdown",
   "metadata": {},
   "source": [
    "\\begin{align*}\n",
    "&D_{uen\\_per\\_metre2} &&= &&D_{intermittence\\_adjusted} \\times D_{ug} \\times \\frac{B_{surface\\_envelope} \\times D_{degrees\\_of\\_reference}}{B_{surface\\_habitable} \\times 1000} \\\\\n",
    "\\\\\n",
    "&&&= &&\\frac{D_{intermittence}}{1 + 0.1 \\times \\left(\\frac{B_{weighted\\_surface\\_total}}{B_{surface\\_envelope}} \\times \\frac{B_{surface\\_envelope}}{B_{surface\\_habitable}} \\times \\frac{2.5}{D_{ceiling\\_height}} - 1\\right)} \\\\\n",
    "&&&&&\\times \\frac{B_{weighted\\_surface\\_total}}{B_{surface\\_envelope}} \\times \\frac{B_{surface\\_envelope} \\times D_{degrees\\_of\\_reference}}{B_{surface\\_habitable} \\times 1000} \\\\\n",
    "\\\\\n",
    "&&&= &&\\frac{D_{intermittence}}{1 + \\frac{1}{10} \\times \\left(\\frac{B_{weighted\\_surface\\_total}}{B_{surface\\_habitable}} \\times \\frac{2.5}{D_{ceiling\\_height}} - 1\\right)} \\\\\n",
    "&&&&&\\times \\frac{B_{weighted\\_surface\\_total} \\times D_{degrees\\_of\\_reference}}{B_{surface\\_habitable} \\times 1000} \\\\\n",
    "\\\\\n",
    "&&&= &&\\frac{10 \\times B_{surface\\_habitable} \\times D_{ceiling\\_height} \\times D_{intermittence}}{9 \\times B_{surface\\_habitable} \\times D_{ceiling\\_height} + 2.5 \\times B_{weighted\\_surface\\_total}} \\\\\n",
    "&&&&&\\times \\frac{B_{weighted\\_surface\\_total} \\times D_{degrees\\_of\\_reference}}{B_{surface\\_habitable} \\times 1000} \\\\\n",
    "\\\\\n",
    "&&&= &&\\frac{B_{weighted\\_surface\\_total}}{9 \\times B_{surface\\_habitable} \\times D_{ceiling\\_height} + 2.5 \\times B_{weighted\\_surface\\_total}} \\\\\n",
    "&&&&&\\times \\frac{D_{ceiling\\_height} \\times D_{intermittence} \\times D_{degrees\\_of\\_reference}}{100}\n",
    "\\end{align*}"
   ]
  },
  {
   "cell_type": "markdown",
   "metadata": {},
   "source": [
    "* ***Where:***\n",
    "\n",
    "\\begin{align*}\n",
    "&B_{surface\\_habitable} &&= &&D_{surface}\n",
    "\\end{align*}"
   ]
  },
  {
   "cell_type": "markdown",
   "metadata": {},
   "source": [
    "### Related formulas to the UEN per dwelling"
   ]
  },
  {
   "cell_type": "markdown",
   "metadata": {},
   "source": [
    "\\begin{align}\n",
    "&\\color{brown}{D_{uen\\_per\\_dwelling}} &&= &&D_{uen\\_per\\_metre2} \\times D_{surface} \\notag \\\\\n",
    "\\notag \\\\\n",
    "&&&= &&\\frac{B_{weighted\\_surface\\_total}}{9 \\times B_{surface\\_habitable} \\times D_{ceiling\\_height} + 2.5 \\times B_{weighted\\_surface\\_total}} \\notag \\\\\n",
    "&&&&&\\times \\frac{D_{ceiling\\_height} \\times D_{intermittence} \\times D_{degrees\\_of\\_reference}}{100} \\times D_{surface} \\notag \\\\\n",
    "\\notag \\\\\n",
    "&&&= &&\\color{brown}{D_{uen\\_per\\_dwelling\\_1}} \\times \\color{purple}{D_{uen\\_per\\_dwelling\\_2}}\n",
    "\\end{align}"
   ]
  },
  {
   "cell_type": "markdown",
   "metadata": {},
   "source": [
    "* ***Where:***\n",
    "\n",
    "\\begin{align}\n",
    "&\\color{brown}{D_{uen\\_per\\_dwelling\\_1}} &&= &&\\frac{\\color{brown}{B_{weighted\\_surface\\_total}}}{\\color{brown}{B_{enlarged\\_weighted\\_surface\\_total}}} \\\\\n",
    "\\notag \\\\\n",
    "&\\color{brown}{B_{enlarged\\_weighted\\_surface\\_total}} &&= &&9 \\times \\color{purple}{B_{heightened\\_surface\\_habitable}} + 2.5 \\times \\color{brown}{B_{weighted\\_surface\\_total}} \\\\\n",
    "\\notag \\\\\n",
    "&\\color{purple}{B_{heightened\\_surface\\_habitable}} &&= &&\\color{teal}{D_{surface}} \\times \\color{teal}{D_{ceiling\\_height}} \\\\\n",
    "\\notag \\\\\n",
    "&\\color{purple}{D_{uen\\_per\\_dwelling\\_2}} &&= &&\\color{teal}{D_{ceiling\\_height}} \\times \\color{teal}{D_{intermittence}} \\times \\color{teal}{D_{degrees\\_of\\_reference}} \\times \\color{teal}{D_{surface}} \\notag \\\\\n",
    "&&&&&\\times 0.01\n",
    "\\end{align}"
   ]
  },
  {
   "cell_type": "markdown",
   "metadata": {},
   "source": [
    "# Related formulas to the global heating costs (GHC)\n",
    "\n",
    "## Related formulas to the dwellings with individual heating system\n",
    "\n",
    "### Related formulas for the case $I$"
   ]
  },
  {
   "cell_type": "markdown",
   "metadata": {},
   "source": [
    "* ***When:***\n",
    "\n",
    "    * $\\color{blue}{HS_{initial} = HS_{to\\_switch}}$"
   ]
  },
  {
   "cell_type": "markdown",
   "metadata": {},
   "source": [
    "\\begin{align*}\n",
    "&&\\frac{_{To \\ Switch}}{_{Initial}} &&ER     &&GB     &&CGB    &&OB     &&COB    &&EHP2   &&WB     &&WPB    &&EHP    \\\\\n",
    "&&ER                                &&\\oplus &&       &&       &&       &&       &&       &&       &&       &&       \\\\\n",
    "&&GB                                &&       &&\\oplus &&       &&       &&       &&       &&       &&       &&       \\\\\n",
    "&&CGB                               &&       &&       &&\\oplus &&       &&       &&       &&       &&       &&       \\\\\n",
    "&&OB                                &&       &&       &&       &&\\oplus &&       &&       &&       &&       &&       \\\\\n",
    "&&COB                               &&       &&       &&       &&       &&\\oplus &&       &&       &&       &&       \\\\\n",
    "&&EHP2                              &&       &&       &&       &&       &&       &&\\oplus &&       &&       &&       \\\\\n",
    "&&WB                                &&       &&       &&       &&       &&       &&       &&\\oplus &&       &&       \\\\\n",
    "&&WPB                               &&       &&       &&       &&       &&       &&       &&       &&\\oplus &&       \\\\\n",
    "&&EHP                               &&       &&       &&       &&       &&       &&       &&       &&       &&\\oplus \n",
    "\\end{align*}"
   ]
  },
  {
   "cell_type": "markdown",
   "metadata": {},
   "source": [
    "\\begin{align}\n",
    "&\\color{brown}{D_{GHC\\_I}} &&= &&\\frac{D_{investment\\_cost} \\times HS_{inflation\\_rate\\_1st}}{HS_{discount\\_1st}} + \\frac{D_{investment\\_cost} \\times HS_{inflation\\_rate\\_2nd}}{HS_{discount\\_2nd}} \\notag \\\\\n",
    "&&&&&+ \\frac{D_{uen\\_per\\_dwelling}}{HS_{efficiency}} \\times HS_{energy\\_bill} \\notag + HS_{maintenance} + D_{insulation\\_cost} \\notag \\\\\n",
    "\\notag \\\\\n",
    "&&&= &&\\left(HS_{a\\_investment} + HS_{b\\_investment} \\times D_{uen\\_per\\_dwelling}\\right) \\notag \\\\\n",
    "&&&&&\\times \\frac{HS_{inflation\\_rate\\_1st} \\times HS_{discount\\_2nd} + HS_{inflation\\_rate\\_2nd} \\times HS_{discount\\_1st}}{HS_{discount\\_1st} \\times HS_{discount\\_2nd}} \\notag \\\\\n",
    "&&&&&+ D_{uen\\_per\\_dwelling} \\times \\frac{HS_{energy\\_bill} }{HS_{efficiency}}+ HS_{maintenance} + D_{insulation\\_cost} \\notag \\\\\n",
    "\\notag \\\\\n",
    "&&&= &&\\color{brown}{HS_{ghc\\_uen\\_condition\\_1}} + \\color{brown}{D_{unvariable\\_cost\\_1}}\n",
    "\\end{align}"
   ]
  },
  {
   "cell_type": "markdown",
   "metadata": {},
   "source": [
    "* ***Where:***\n",
    "\n",
    "\\begin{align}\n",
    "&D_{investment\\_cost} &&= &&HS_{a\\_investment} + HS_{b\\_investment} \\times D_{uen\\_per\\_dwelling} \\notag \\\\\n",
    "\\end{align}"
   ]
  },
  {
   "cell_type": "markdown",
   "metadata": {},
   "source": [
    "\\begin{align}\n",
    "&\\color{brown}{HS_{ghc\\_uen\\_condition\\_1}} &&= &&\\color{purple}{HS_{uen\\_cost\\_1}} \\times \\color{brown}{D_{uen\\_per\\_dwelling}} \\\\\n",
    "\\notag \\\\\n",
    "&&&if &&\\color{blue}{HS_{to\\_switch} \\in \\left\\{ER,\\ GB,\\ CGB,\\ OB,\\ COB,\\ EHP2,\\ WB,\\ WPB,\\ EHP\\right\\}} \\notag \\\\\n",
    "&&&\\Rightarrow &&\\color{blue}{HS_{initial} \\in \\left\\{ER,\\ GB,\\ CGB,\\ OB,\\ COB,\\ EHP2,\\ WB,\\ WPB,\\ EHP\\right\\}} \\notag \\\\\n",
    "&&&and &&\\color{blue}{HS_{to\\_switch} = HS_{initial}} \\notag \\\\\n",
    "\\notag \\\\\n",
    "&\\color{purple}{HS_{uen\\_cost\\_1}} &&= &&\\color{teal}{HS_{b\\_investment}} \\times \\color{purple}{HS_{time\\_factor\\_1}} + \\frac{\\color{purple}{HS_{energy\\_bill}}}{\\color{teal}{HS_{efficiency}}} \\\\\n",
    "\\notag \\\\\n",
    "&\\color{purple}{HS_{time\\_factor\\_1}} &&= &&\\frac{\\color{purple}{HS_{inflation\\_rate\\_1st}} \\times \\color{purple}{HS_{discount\\_2nd}} + \\color{purple}{HS_{inflation\\_rate\\_2nd}} \\times \\color{purple}{HS_{discount\\_1st}}}{\\color{purple}{HS_{discount\\_1st}} \\times \\color{purple}{HS_{discount\\_2nd}}} \\\\\n",
    "\\notag \\\\\n",
    "&\\color{purple}{HS_{inflation\\_rate\\_1st}} &&= &&\\left(1 + \\color{teal}{HS_{inflation\\_rate}}\\right)^{18 - \\color{teal}{HS_{initial\\_age}} + \\color{orange}{year}},\\ \\color{orange}{year} \\in [1, 20] \\\\\n",
    "\\notag \\\\ \n",
    "&\\color{purple}{HS_{inflation\\_rate\\_2nd}} &&= &&\\left(1 + \\color{teal}{HS_{inflation\\_rate}}\\right)^{38 - \\color{teal}{HS_{initial\\_age}} + \\color{orange}{year}},\\ \\color{orange}{year} \\in [1, 20] \\\\\n",
    "\\notag \\\\\n",
    "&\\color{purple}{HS_{discount\\_1st}} &&= &&\\left(1 + \\color{teal}{HS_{discount\\_rate}}\\right)^{19 - \\color{teal}{HS_{initial\\_age}}} \\\\\n",
    "\\notag \\\\\n",
    "&\\color{purple}{HS_{discount\\_2nd}} &&= &&\\left(1 + \\color{teal}{HS_{discount\\_rate}}\\right)^{39 - \\color{teal}{HS_{initial\\_age}}} \\\\\n",
    "\\notag \\\\\n",
    "&\\color{purple}{HS_{energy\\_bill}} &&= &&\\sum\\limits_{i = 1}^{40}{\\frac {\\color{teal}{HS_{energy\\_price}} \\times \\left(1 + \\color{teal}{HS_{annual\\_variation}}\\right)^{i + \\color{orange}{year} - 2} + \\color{purple}{HS_{carbon\\_tax}}}{\\left(1 + \\color{teal}{D_{discount\\_rate}}\\right)^{i}}} \\notag \\\\\n",
    "&&&&&,\\ \\color{orange}{year} \\in [1, 20] \\\\\n",
    "\\notag \\\\\n",
    "&\\color{purple}{HS_{carbon\\_tax}} &&= &&\\color{teal}{HS_{emission\\_factor}} \\times \\color{teal}{HS_{carbon\\_price}}\n",
    "\\end{align}"
   ]
  },
  {
   "cell_type": "markdown",
   "metadata": {},
   "source": [
    "\\begin{align}\n",
    "&\\color{brown}{D_{unvariable\\_cost\\_1}} &&= &&\\color{brown}{D_{insulation\\_cost}} + \\color{purple}{HS_{fixed\\_cost\\_1}} \\\\\n",
    "\\notag \\\\\n",
    "&&&if &&\\color{blue}{HS_{to\\_switch} \\in \\left\\{ER,\\ GB,\\ CGB,\\ OB,\\ COB,\\ EHP2,\\ WB,\\ WPB,\\ EHP\\right\\}} \\notag \\\\\n",
    "&&&\\Rightarrow &&\\color{blue}{HS_{initial} \\in \\left\\{ER,\\ GB,\\ CGB,\\ OB,\\ COB,\\ EHP2,\\ WB,\\ WPB,\\ EHP\\right\\}} \\notag \\\\\n",
    "&&&and &&\\color{blue}{HS_{to\\_switch} = HS_{initial}} \\notag \\\\\n",
    "\\notag \\\\\n",
    "&\\color{brown}{D_{insulation\\_cost}} &&= &&\\color{red}{D_{insulation\\_cost\\_m\\_w}} + \\color{red}{D_{insulation\\_cost\\_r\\_f}} \\\\\n",
    "\\notag \\\\\n",
    "&\\color{red}{D_{insulation\\_cost\\_m\\_w}} &&= &&\\frac{\\color{purple}{B_{surface\\_m}}}{\\color{purple}{B_{dwelling\\_total}}} \\times \\color{red}{D_{price\\_including\\_tax\\_m}} \\notag \\\\\n",
    "&&&&&+ \\frac{\\color{purple}{B_{surface\\_w}}}{\\color{purple}{B_{dwelling\\_total}}} \\times \\color{red}{D_{price\\_including\\_tax\\_w}} \\\\\n",
    "\\notag \\\\\n",
    "&\\color{red}{D_{insulation\\_cost\\_r\\_f}} &&= &&\\frac{\\color{teal}{D_{surface}}}{\\color{teal}{B_{floors}} + 1} \\times \\color{red}{D_{price\\_including\\_tax\\_r}} \\notag \\\\\n",
    "&&&&&+ \\frac{\\color{teal}{D_{surface}}}{\\color{teal}{B_{floors}} + 1} \\times \\color{red}{D_{price\\_including\\_tax\\_f}} \\\\\n",
    "\\notag \\\\\n",
    "&\\color{purple}{HS_{fixed\\_cost\\_1}} &&= &&\\color{teal}{HS_{a\\_investment}} \\times \\color{purple}{HS_{time\\_factor\\_1}} + \\color{purple}{HS_{maintenance}}\\\\\n",
    "\\notag \\\\\n",
    "&\\color{purple}{HS_{maintenance}} &&= &&\\sum\\limits_{i = 0}^{39}{\\frac {\\color{teal}{HS_{maintenance\\_cost}} \\times \\left(1 + \\color{teal}{HS_{inflation\\_rate}}\\right)^{i + \\color{orange}{year} - 1}}{\\left(1 + \\color{teal}{D_{discount\\_rate}}\\right)^{i}}},\\ \\color{orange}{year} \\in [1, 20]\n",
    "\\end{align}"
   ]
  },
  {
   "cell_type": "markdown",
   "metadata": {},
   "source": [
    "### Related formulas for the case $II$"
   ]
  },
  {
   "cell_type": "markdown",
   "metadata": {},
   "source": [
    "* ***When:***\n",
    "\n",
    "    * $\\color{blue}{HS_{initial} \\neq HS_{to\\_switch}}$\n",
    "\n",
    "    * $\\color{blue}{HS_{initial} \\in \\{ER,\\ WB,\\ EHP\\}}\\ and\\ \\color{blue}{HS_{to\\_switch} \\in \\{ER,\\ WB,\\ EHP\\}}$\n",
    "\n",
    "    * $\\color{blue}{HS_{initial} \\in \\{GB,\\ CGB\\}}\\ and\\ \\color{blue}{HS_{to\\_switch} \\in \\{GB,\\ CGB\\}}$\n",
    "\n",
    "    * $\\color{blue}{HS_{initial} \\in \\{OB,\\ COB\\}}\\ and\\ \\color{blue}{HS_{to\\_switch} \\in \\{OB,\\ COB\\}}$"
   ]
  },
  {
   "cell_type": "markdown",
   "metadata": {},
   "source": [
    "\\begin{align*}\n",
    "&&\\frac{_{To \\ Switch}}{_{Initial}} &&ER     &&GB     &&CGB    &&OB     &&COB    &&EHP2   &WB     &&WPB    &&EHP    \\\\\n",
    "&&ER                                &&\\times &&       &&       &&       &&       &&       &&\\oplus &&       &&\\oplus \\\\\n",
    "&&GB                                &&       &&\\times &&\\oplus &&       &&       &&       &&       &&       &&       \\\\\n",
    "&&CGB                               &&       &&\\oplus &&\\times &&       &&       &&       &&       &&       &&       \\\\\n",
    "&&OB                                &&       &&       &&       &&\\times &&\\oplus &&       &&       &&       &&       \\\\\n",
    "&&COB                               &&       &&       &&       &&\\oplus &&\\times &&       &&       &&       &&       \\\\\n",
    "&&EHP2                              &&       &&       &&       &&       &&       &&\\times &&       &&       &&       \\\\\n",
    "&&WB                                &&\\oplus &&       &&       &&       &&       &&       &&\\times &&       &&\\oplus \\\\\n",
    "&&WPB                               &&       &&       &&       &&       &&       &&       &&       &&\\times &&       \\\\\n",
    "&&EHP                               &&\\oplus &&       &&       &&       &&       &&       &&\\oplus &&       &&\\times\n",
    "\\end{align*}"
   ]
  },
  {
   "cell_type": "markdown",
   "metadata": {},
   "source": [
    "\\begin{align}\n",
    "&\\color{brown}{D_{GHC\\_II}} &&= &&D_{investment\\_cost} \\times HS_{inflation\\_rate\\_0} + \\frac{D_{investment\\_cost} \\times HS_{inflation\\_rate\\_20}}{HS_{discount\\_20}} \\notag \\\\\n",
    "&&&&&+ \\frac{D_{uen\\_per\\_dwelling}}{HS_{efficiency}} \\times HS_{energy\\_bill} + HS_{maintenance} + D_{insulation\\_cost} \\notag \\\\\n",
    "&&&&&+ HS_{same\\_switch\\_cost} \\notag \\\\\n",
    "\\notag \\\\\n",
    "&&&= &&\\left(HS_{a\\_investment} + HS_{b\\_investment} \\times D_{uen\\_per\\_dwelling}\\right) \\notag \\\\\n",
    "&&&&&\\times \\frac{HS_{discount\\_20} \\times HS_{inflation\\_rate\\_0} + HS_{inflation\\_rate\\_20}}{HS_{discount\\_20}} \\notag \\\\\n",
    "&&&&&+ D_{uen\\_per\\_dwelling} \\times \\frac{HS_{energy\\_bill}}{HS_{efficiency}} + HS_{maintenance} + D_{insulation\\_cost} \\notag \\\\\n",
    "&&&&&+ HS_{same\\_switch\\_cost} \\notag \\\\\n",
    "\\notag \\\\\n",
    "&&&= &&\\color{brown}{HS_{ghc\\_uen\\_condition\\_2}} + \\color{brown}{D_{unvariable\\_cost\\_2}}\n",
    "\\end{align}"
   ]
  },
  {
   "cell_type": "markdown",
   "metadata": {},
   "source": [
    "* ***Where:***\n",
    "\n",
    "\\begin{align}\n",
    "&\\color{brown}{HS_{ghc\\_uen\\_condition\\_2}} &&= &&\\color{purple}{HS_{uen\\_cost\\_2}}  \\times \\color{brown}{D_{uen\\_per\\_dwelling}} \\\\\n",
    "\\notag \\\\\n",
    "&&&if &&\\color{blue}{HS_{to\\_switch} \\in \\left\\{ER,\\ OB,\\ COB,\\ EHP2,\\ WB,\\ WPB,\\ EHP\\right\\}} \\notag \\\\\n",
    "&&&\\Rightarrow &&\\color{blue}{HS_{initial} \\in \\left\\{ER,\\ GB,\\ CGB,\\ OB,\\ COB,\\ EHP2,\\ WB,\\ WPB,\\ EHP\\right\\}} \\notag \\\\\n",
    "&&&and &&\\color{blue}{HS_{to\\_switch} \\neq HS_{initial}} \\notag \\\\\n",
    "\\notag \\\\\n",
    "&&&if &&\\color{blue}{HS_{to\\_switch} \\in \\left\\{GB,\\ CGB\\right\\}} \\notag \\\\\n",
    "&&&\\Rightarrow &&\\color{blue}{HS_{initial} \\in \\left\\{ER,\\ GB,\\ CGB,\\ EHP2,\\ WB,\\ WPB,\\ EHP\\right\\}} \\notag \\\\\n",
    "&&&and &&\\color{blue}{HS_{to\\_switch} \\neq HS_{initial}} \\notag \\\\\n",
    "\\notag \\\\\n",
    "&\\color{purple}{HS_{uen\\_cost\\_2}} &&= &&\\color{teal}{HS_{b\\_investment}} \\times \\color{purple}{HS_{time\\_factor\\_2}} + \\frac{\\color{purple}{HS_{energy\\_bill}}}{\\color{teal}{HS_{efficiency}}} \\\\\n",
    "\\notag \\\\\n",
    "&\\color{purple}{HS_{time\\_factor\\_2}} &&= &&\\frac{\\color{purple}{HS_{discount\\_20}} \\times \\color{purple}{HS_{inflation\\_rate\\_0}} + \\color{purple}{HS_{inflation\\_rate\\_20}}}{\\color{purple}{HS_{discount\\_20}}} \\\\\n",
    "\\notag \\\\\n",
    "&\\color{purple}{HS_{discount\\_20}} &&= &&\\left(1 + \\color{teal}{HS_{discount\\_rate}}\\right)^{20} \\\\\n",
    "\\notag \\\\\n",
    "&\\color{purple}{HS_{inflation\\_rate\\_0}} &&= &&\\left(1 + \\color{teal}{HS_{inflation\\_rate}}\\right)^{\\color{orange}{year} - 1},\\ \\color{orange}{year} \\in [0, 20] \\\\\n",
    "\\notag \\\\\n",
    "&\\color{purple}{HS_{inflation\\_rate\\_20}} &&= &&\\left(1 + \\color{teal}{HS_{inflation\\_rate}}\\right)^{19 + \\color{orange}{year}},\\ \\color{orange}{year} \\in [0, 20]\n",
    "\\end{align}"
   ]
  },
  {
   "cell_type": "markdown",
   "metadata": {},
   "source": [
    "\\begin{align}\n",
    "&\\color{brown}{D_{unvariable\\_cost\\_2}} &&= &&\\color{brown}{D_{insulation\\_cost}} + \\color{purple}{HS_{fixed\\_cost\\_2}} \\\\\n",
    "\\notag \\\\\n",
    "&&&if &&\\color{blue}{HS_{to\\_switch} \\in \\left\\{ER,\\ WB,\\ EHP\\right\\}} \\notag \\\\\n",
    "&&&\\Rightarrow &&\\color{blue}{HS_{initial} \\in \\left\\{ER,\\ WB,\\ EHP\\right\\}} \\notag \\\\\n",
    "&&&and &&\\color{blue}{HS_{to\\_switch} \\neq HS_{initial}} \\notag \\\\\n",
    "\\notag \\\\\n",
    "&&&if &&\\color{blue}{HS_{to\\_switch} \\in \\left\\{GB,\\ CGB\\right\\}} \\notag \\\\\n",
    "&&&\\Rightarrow &&\\color{blue}{HS_{initial} \\in \\left\\{GB,\\ CGB\\right\\}} \\notag \\\\\n",
    "&&&and &&\\color{blue}{HS_{to\\_switch} \\neq HS_{initial}} \\notag \\\\\n",
    "\\notag \\\\\n",
    "&&&if &&\\color{blue}{HS_{to\\_switch} \\in \\left\\{OB,\\ COB\\right\\}} \\notag \\\\\n",
    "&&&\\Rightarrow &&\\color{blue}{HS_{initial} \\in \\left\\{OB,\\ COB\\right\\}} \\notag \\\\\n",
    "&&&and &&\\color{blue}{HS_{to\\_switch} \\neq HS_{initial}} \\notag \\\\\n",
    "\\notag \\\\\n",
    "&\\color{purple}{HS_{fixed\\_cost\\_2}} &&= &&\\color{teal}{HS_{a\\_investment}} \\times \\color{purple}{HS_{time\\_factor\\_2}} + \\color{purple}{HS_{maintenance}} \\notag \\\\\n",
    "&&&&&+ \\color{teal}{HS_{same\\_switch\\_cost}}\n",
    "\\end{align}"
   ]
  },
  {
   "cell_type": "markdown",
   "metadata": {},
   "source": [
    "### Related formulas for the case $III$"
   ]
  },
  {
   "cell_type": "markdown",
   "metadata": {},
   "source": [
    "* ***When:***\n",
    "\n",
    "    * $\\color{blue}{HS_{initial} \\neq HS_{to\\_switch}}$\n",
    "    \n",
    "    * $\\color{blue}{HS_{initial} = WB}\\ and\\ \\color{blue}{HS_{to\\_switch} = WPB}$"
   ]
  },
  {
   "cell_type": "markdown",
   "metadata": {},
   "source": [
    "\\begin{align*}\n",
    "&&\\frac{_{To \\ Switch}}{_{Initial}} &&ER     &&GB     &&CGB    &&OB     &&COB    &&EHP2   &&WB     &&WPB    &&EHP    \\\\\n",
    "&&ER                                &&\\times &&       &&       &&       &&       &&       &&\\times &&       &&\\times \\\\\n",
    "&&GB                                &&       &&\\times &&\\times &&       &&       &&       &&       &&       &&       \\\\\n",
    "&&CGB                               &&       &&\\times &&\\times &&       &&       &&       &&       &&       &&       \\\\\n",
    "&&OB                                &&       &&       &&       &&\\times &&\\times &&       &&       &&       &&       \\\\\n",
    "&&COB                               &&       &&       &&       &&\\times &&\\times &&       &&       &&       &&       \\\\\n",
    "&&EHP2                              &&       &&       &&       &&       &&       &&\\times &&       &&       &&       \\\\\n",
    "&&WB                                &&\\times &&       &&       &&       &&       &&       &&\\times &&\\oplus &&\\times \\\\\n",
    "&&WPB                               &&       &&       &&       &&       &&       &&       &&       &&\\times &&       \\\\\n",
    "&&EHP                               &&\\times &&       &&       &&       &&       &&       &&\\times &&       &&\\times \n",
    "\\end{align*}"
   ]
  },
  {
   "cell_type": "markdown",
   "metadata": {},
   "source": [
    "\\begin{align}\n",
    "&\\color{brown}{D_{GHC\\_III}} &&= &&D_{investment\\_cost} \\times HS_{inflation\\_rate\\_0} + \\frac{D_{investment\\_cost} \\times HS_{inflation\\_rate\\_20}}{HS_{discount\\_20}} \\notag \\\\\n",
    "&&&&&+ \\frac{D_{uen\\_per\\_dwelling}}{HS_{efficiency}} \\times HS_{energy\\_bill} + HS_{maintenance} + D_{insulation\\_cost} \\notag \\\\\n",
    "&&&&&+ HS_{same\\_switch\\_cost} + HS_{control\\_cost} \\notag \\\\\n",
    "\\notag \\\\\n",
    "&&&= &&\\left(HS_{a\\_investment} + HS_{b\\_investment} \\times D_{uen\\_per\\_dwelling}\\right) \\notag \\\\\n",
    "&&&&&\\times \\frac{HS_{discount\\_20} \\times HS_{inflation\\_rate\\_0} + HS_{inflation\\_rate\\_20}}{HS_{discount\\_20}} \\notag \\\\\n",
    "&&&&&+ D_{uen\\_per\\_dwelling} \\times \\frac{HS_{energy\\_bill}}{HS_{efficiency}} + HS_{maintenance} + D_{insulation\\_cost} \\notag \\\\\n",
    "&&&&&+ HS_{same\\_switch\\_cost} + HS_{control\\_cost} \\notag \\\\\n",
    "\\notag \\\\\n",
    "&&&= &&\\color{brown}{HS_{ghc\\_uen\\_condition\\_2}} + \\color{brown}{D_{unvariable\\_cost\\_3}}\\\\\n",
    "\\end{align}"
   ]
  },
  {
   "cell_type": "markdown",
   "metadata": {},
   "source": [
    "* ***Where:***\n",
    "\n",
    "\\begin{align}\n",
    "&\\color{brown}{D_{unvariable\\_cost\\_3}} &&= &&\\color{brown}{D_{insulation\\_cost}} + \\color{purple}{HS_{fixed\\_cost\\_3}} \\\\\n",
    "\\notag \\\\\n",
    "&&&if &&\\color{blue}{HS_{to\\_switch} = WPB} \\notag \\\\\n",
    "&&&\\Rightarrow &&\\color{blue}{HS_{initial} = WB} \\notag \\\\\n",
    "\\notag \\\\\n",
    "&\\color{purple}{HS_{fixed\\_cost\\_3}} &&= &&\\color{purple}{HS_{fixed\\_cost\\_2}} + \\color{purple}{HS_{control\\_cost}} \\\\\n",
    "\\notag \\\\\n",
    "&\\color{purple}{HS_{control\\_cost}} &&= &&\\color{teal}{HS_{delevery\\_type\\_cost}} \\times \\color{teal}{D_{surface}}\n",
    "\\end{align}"
   ]
  },
  {
   "cell_type": "markdown",
   "metadata": {},
   "source": [
    "### Related formulas for the case $IV$"
   ]
  },
  {
   "cell_type": "markdown",
   "metadata": {},
   "source": [
    "* ***When:***\n",
    "\n",
    "    * $\\color{blue}{HS_{initial} \\neq HS_{to\\_switch}}$\n",
    "    \n",
    "    * $\\color{blue}{HS_{initial} \\in \\{GB,\\ CGB\\}}\\ and\\ \\color{blue}{HS_{to\\_switch} \\in \\{OB,\\ COB,\\ EHP2,\\ WPB\\}}$\n",
    "    \n",
    "    * $\\color{blue}{HS_{initial} \\in \\{OB,\\ COB\\}}\\ and\\ \\color{blue}{HS_{to\\_switch} \\in \\{EHP2,\\ WPB\\}}$\n",
    "    \n",
    "    * $\\color{blue}{HS_{initial} \\in \\{EHP2,\\ WPB\\}}\\ and\\ \\color{blue}{HS_{to\\_switch} \\in \\{GB,\\ CGB,\\ OB,\\ COB,\\ EHP2,\\ WPB\\}}$"
   ]
  },
  {
   "cell_type": "markdown",
   "metadata": {},
   "source": [
    "\\begin{align*}\n",
    "&&\\frac{_{To \\ Switch}}{_{Initial}} &&ER     &&GB     &&CGB    &&OB     &&COB    &&EHP2   &&WB     &&WPB    &&EHP    \\\\\n",
    "&&ER                                &&\\times &&       &&       &&       &&       &&       &&\\times &&       &&\\times \\\\\n",
    "&&GB                                &&       &&\\times &&\\times &&\\oplus &&\\oplus &&\\oplus &&       &&\\oplus &&       \\\\\n",
    "&&CGB                               &&       &&\\times &&\\times &&\\oplus &&\\oplus &&\\oplus &&       &&\\oplus &&       \\\\\n",
    "&&OB                                &&       &&       &&       &&\\times &&\\times &&\\oplus &&       &&\\oplus &&       \\\\\n",
    "&&COB                               &&       &&       &&       &&\\times &&\\times &&\\oplus &&       &&\\oplus &&       \\\\\n",
    "&&EHP2                              &&       &&\\oplus &&\\oplus &&\\oplus &&\\oplus &&\\times &&       &&\\oplus &&       \\\\\n",
    "&&WB                                &&\\times &&       &&       &&       &&       &&       &&\\times &&\\times &&\\times \\\\\n",
    "&&WPB                               &&       &&\\oplus &&\\oplus &&\\oplus &&\\oplus &&\\oplus &&       &&\\times &&       \\\\\n",
    "&&EHP                               &&\\times &&       &&       &&       &&       &&       &&\\times &&       &&\\times \n",
    "\\end{align*}"
   ]
  },
  {
   "cell_type": "markdown",
   "metadata": {},
   "source": [
    "\\begin{align}\n",
    "&\\color{brown}{D_{GHC\\_IV}} &&= &&D_{investment\\_cost} \\times HS_{inflation\\_rate\\_0} + \\frac{D_{investment\\_cost} \\times HS_{inflation\\_rate\\_20}}{HS_{discount\\_20}} \\notag \\\\\n",
    "&&&&&+ \\frac{D_{uen\\_per\\_dwelling}}{HS_{efficiency}} \\times HS_{energy\\_bill} + HS_{maintenance} + D_{insulation\\_cost} \\notag \\\\\n",
    "&&&&&+ HS_{different\\_switch\\_cost} \\notag \\\\\n",
    "\\notag \\\\\n",
    "&&&= &&\\left(HS_{a\\_investment} + HS_{b\\_investment} \\times D_{uen\\_per\\_dwelling}\\right) \\notag \\\\\n",
    "&&&&&\\times \\frac{HS_{discount\\_20} \\times HS_{inflation\\_rate\\_0} + HS_{inflation\\_rate\\_20}}{HS_{discount\\_20}} \\notag \\\\\n",
    "&&&&&+ D_{uen\\_per\\_dwelling} \\times \\frac{HS_{energy\\_bill}}{HS_{efficiency}} + HS_{maintenance} + D_{insulation\\_cost} \\notag \\\\\n",
    "&&&&&+ HS_{different\\_switch\\_cost} \\notag \\\\\n",
    "\\notag \\\\\n",
    "&&&= &&\\color{brown}{HS_{ghc\\_uen\\_condition\\_2}} + \\color{brown}{D_{unvariable\\_cost\\_4}}\\\\\n",
    "\\end{align}"
   ]
  },
  {
   "cell_type": "markdown",
   "metadata": {},
   "source": [
    "* ***Where:***\n",
    "\n",
    "\\begin{align}\n",
    "&\\color{brown}{D_{unvariable\\_cost\\_4}} &&= &&\\color{brown}{D_{insulation\\_cost}} + \\color{purple}{HS_{fixed\\_cost\\_4}} \\\\\n",
    "\\notag \\\\\n",
    "&&&if &&\\color{blue}{HS_{to\\_switch} \\in \\left\\{GB,\\ CGB\\right\\}} \\notag \\\\\n",
    "&&&\\Rightarrow &&\\color{blue}{HS_{initial} \\in \\left\\{OB,\\ COB,\\ EHP2,\\ WPB\\right\\}} \\notag \\\\\n",
    "\\notag \\\\\n",
    "&&&if &&\\color{blue}{HS_{to\\_switch} \\in \\left\\{OB,\\ COB\\right\\}} \\notag \\\\\n",
    "&&&\\Rightarrow &&\\color{blue}{HS_{initial} \\in \\left\\{GB,\\ CGB,\\ EHP2,\\ WPB\\right\\}} \\notag \\\\\n",
    "\\notag \\\\\n",
    "&&&if &&\\color{blue}{HS_{to\\_switch} \\in \\left\\{EHP2,\\ WPB\\right\\}} \\notag \\\\\n",
    "&&&\\Rightarrow &&\\color{blue}{HS_{initial} \\in \\left\\{GB,\\ CGB,\\ OB,\\ COB,\\ EHP2,\\ WPB\\right\\}} \\notag \\\\\n",
    "&&&and &&\\color{blue}{HS_{to\\_switch} \\neq HS_{initial}} \\notag \\\\\n",
    "\\notag \\\\\n",
    "&\\color{purple}{HS_{fixed\\_cost\\_4}} &&= &&\\color{teal}{HS_{a\\_investment}} \\times \\color{purple}{HS_{time\\_factor\\_2}} + \\color{purple}{HS_{maintenance}} \\notag \\\\\n",
    "&&&&&+ \\color{teal}{HS_{different\\_switch\\_cost}}\n",
    "\\end{align}"
   ]
  },
  {
   "cell_type": "markdown",
   "metadata": {},
   "source": [
    "### Related formulas for the case $V$"
   ]
  },
  {
   "cell_type": "markdown",
   "metadata": {},
   "source": [
    "* ***When:***\n",
    "\n",
    "    * $\\color{blue}{HS_{initial} \\neq HS_{to\\_switch}}$\n",
    "    \n",
    "    * $\\color{blue}{HS_{initial} \\in \\{ER,\\ EHP\\}}\\ and\\ \\color{blue}{HS_{to\\_switch} \\in \\{GB,\\ CGB,\\ OB,\\ COB,\\ EHP2,\\ WPB\\}}$\n",
    "    \n",
    "    * $\\color{blue}{HS_{initial} \\in \\{GB,\\ CGB,\\ OB,\\ COB,\\ EHP2,\\ WPB\\}}\\ and\\ \\color{blue}{HS_{to\\_switch} \\in \\{ER,\\ WB,\\ EHP\\}}$\n",
    "    \n",
    "    * $\\color{blue}{HS_{initial} = WB}\\ and\\ \\color{blue}{HS_{to\\_switch} \\in \\{GB,\\ CGB,\\ OB,\\ COB,\\ EHP2\\}}$"
   ]
  },
  {
   "cell_type": "markdown",
   "metadata": {},
   "source": [
    "\\begin{align*}\n",
    "&&\\frac{_{To \\ Switch}}{_{Initial}} &&ER     &&GB     &&CGB    &&OB     &&COB    &&EHP2   &&WB     &&WPB    &&EHP    \\\\\n",
    "&&ER                                &&\\times &&\\oplus &&\\oplus &&\\oplus &&\\oplus &&\\oplus &&\\times &&\\oplus &&\\times \\\\\n",
    "&&GB                                &&\\oplus &&\\times &&\\times &&\\times &&\\times &&\\times &&\\oplus &&\\times &&\\oplus \\\\\n",
    "&&CGB                               &&\\oplus &&\\times &&\\times &&\\times &&\\times &&\\times &&\\oplus &&\\times &&\\oplus \\\\\n",
    "&&OB                                &&\\oplus &&       &&       &&\\times &&\\times &&\\times &&\\oplus &&\\times &&\\oplus \\\\\n",
    "&&COB                               &&\\oplus &&       &&       &&\\times &&\\times &&\\times &&\\oplus &&\\times &&\\oplus \\\\\n",
    "&&EHP2                              &&\\oplus &&\\times &&\\times &&\\times &&\\times &&\\times &&\\oplus &&\\times &&\\oplus \\\\\n",
    "&&WB                                &&\\times &&\\oplus &&\\oplus &&\\oplus &&\\oplus &&\\oplus &&\\times &&\\times &&\\times \\\\\n",
    "&&WPB                               &&\\oplus &&\\times &&\\times &&\\times &&\\times &&\\times &&\\oplus &&\\times &&\\oplus \\\\\n",
    "&&EHP                               &&\\times &&\\oplus &&\\oplus &&\\oplus &&\\oplus &&\\oplus &&\\times &&\\oplus &&\\times \n",
    "\\end{align*}"
   ]
  },
  {
   "cell_type": "markdown",
   "metadata": {},
   "source": [
    "\\begin{align}\n",
    "&\\color{brown}{D_{GHC\\_V}} &&= &&D_{investment\\_cost} \\times HS_{inflation\\_rate\\_0} + \\frac{D_{investment\\_cost} \\times HS_{inflation\\_rate\\_20}}{HS_{discount\\_20}} \\notag \\\\\n",
    "&&&&&+ \\frac{D_{uen\\_per\\_dwelling}}{HS_{efficiency}} \\times HS_{energy\\_bill} + HS_{maintenance} + D_{insulation\\_cost} \\notag \\\\\n",
    "&&&&&+ HS_{different\\_switch\\_cost} + HS_{control\\_cost} \\notag \\\\\n",
    "\\notag \\\\\n",
    "&&&= &&\\left(HS_{a\\_investment} + HS_{b\\_investment} \\times D_{uen\\_per\\_dwelling}\\right) \\notag \\\\\n",
    "&&&&&\\times \\frac{HS_{discount\\_20} \\times HS_{inflation\\_rate\\_0} + HS_{inflation\\_rate\\_20}}{HS_{discount\\_20}} \\notag \\\\\n",
    "&&&&&+ D_{uen\\_per\\_dwelling} \\times \\frac{HS_{energy\\_bill}}{HS_{efficiency}} + HS_{maintenance} + D_{insulation\\_cost} \\notag \\\\\n",
    "&&&&&+ HS_{different\\_switch\\_cost} + HS_{control\\_cost} \\notag \\\\\n",
    "\\notag \\\\\n",
    "&&&= &&\\color{brown}{HS_{ghc\\_uen\\_condition\\_2}} + \\color{brown}{D_{unvariable\\_cost\\_5}}\\\\\n",
    "\\end{align}"
   ]
  },
  {
   "cell_type": "markdown",
   "metadata": {},
   "source": [
    "* ***Where:***\n",
    "\n",
    "\\begin{align}\n",
    "&\\color{brown}{D_{unvariable\\_cost\\_5}} &&= &&\\color{brown}{D_{insulation\\_cost}} + \\color{purple}{HS_{fixed\\_cost\\_5}} \\\\\n",
    "\\notag \\\\\n",
    "&&&if &&\\color{blue}{HS_{to\\_switch} \\in \\left\\{ER,\\ WB,\\ EHP\\right\\}} \\notag \\\\\n",
    "&&&\\Rightarrow &&\\color{blue}{HS_{initial} \\in \\left\\{GB,\\ CGB,\\ OB,\\ COB,\\ EHP2,\\ WPB\\right\\}} \\notag \\\\\n",
    "\\notag \\\\\n",
    "&&&if &&\\color{blue}{HS_{to\\_switch} \\in \\left\\{GB,\\ CGB,\\ OB,\\ COB,\\ EHP2\\right\\}} \\notag \\\\\n",
    "&&&\\Rightarrow &&\\color{blue}{HS_{initial} \\in \\left\\{ER,\\ WB,\\ EHP\\right\\}} \\notag \\\\\n",
    "\\notag \\\\\n",
    "&&&if &&\\color{blue}{HS_{to\\_switch} = WPB} \\notag \\\\\n",
    "&&&\\Rightarrow &&\\color{blue}{HS_{initial} \\in \\left\\{ER,\\ EHP\\right\\}} \\notag \\\\\n",
    "\\notag \\\\\n",
    "&\\color{purple}{HS_{fixed\\_cost\\_5}} &&= &&\\color{purple}{HS_{fixed\\_cost\\_4}} + \\color{purple}{HS_{control\\_cost}}\n",
    "\\end{align}"
   ]
  },
  {
   "cell_type": "markdown",
   "metadata": {},
   "source": [
    "### Related formulas for the case $VI$"
   ]
  },
  {
   "cell_type": "markdown",
   "metadata": {},
   "source": [
    "* ***When:***\n",
    "\n",
    "    * $\\color{blue}{HS_{initial} \\neq HS_{to\\_switch}}$\n",
    "    \n",
    "    * $\\color{blue}{HS_{initial} \\in \\{OB,\\ COB\\}} \\quad and \\quad \\color{blue}{HS_{to\\_switch} \\in \\{GB,\\ CGB\\}}$"
   ]
  },
  {
   "cell_type": "markdown",
   "metadata": {},
   "source": [
    "\\begin{align*}\n",
    "&&\\frac{_{To \\ Switch}}{_{Initial}} &&ER     &&GB     &&CGB    &&OB     &&COB    &&EHP2   &&WB     &&WPB    &&EHP    \\\\\n",
    "&&ER                                &&\\times &&\\times &&\\times &&\\times &&\\times &&\\times &&\\times &&\\times &&\\times \\\\\n",
    "&&GB                                &&\\times &&\\times &&\\times &&\\times &&\\times &&\\times &&\\times &&\\times &&\\times \\\\\n",
    "&&CGB                               &&\\times &&\\times &&\\times &&\\times &&\\times &&\\times &&\\times &&\\times &&\\times \\\\\n",
    "&&OB                                &&\\times &&\\oplus &&\\oplus &&\\times &&\\times &&\\times &&\\times &&\\times &&\\times \\\\\n",
    "&&COB                               &&\\times &&\\oplus &&\\oplus &&\\times &&\\times &&\\times &&\\times &&\\times &&\\times \\\\\n",
    "&&EHP2                              &&\\times &&\\times &&\\times &&\\times &&\\times &&\\times &&\\times &&\\times &&\\times \\\\\n",
    "&&WB                                &&\\times &&\\times &&\\times &&\\times &&\\times &&\\times &&\\times &&\\times &&\\times \\\\\n",
    "&&WPB                               &&\\times &&\\times &&\\times &&\\times &&\\times &&\\times &&\\times &&\\times &&\\times \\\\\n",
    "&&EHP                               &&\\times &&\\times &&\\times &&\\times &&\\times &&\\times &&\\times &&\\times &&\\times \n",
    "\\end{align*}"
   ]
  },
  {
   "cell_type": "markdown",
   "metadata": {},
   "source": [
    "\\begin{align}\n",
    "&\\color{brown}{D_{GHC\\_VI}} &&= &&D_{investment\\_cost} \\times HS_{inflation\\_rate\\_0} + \\frac{D_{investment\\_cost} \\times HS_{inflation\\_rate\\_20}}{HS_{discount\\_20}} \\notag \\\\\n",
    "&&&&&+ \\frac{D_{uen\\_per\\_dwelling}}{HS_{efficiency}} \\times HS_{no\\_gas\\_40} + HS_{maintenance} + D_{insulation\\_cost} \\notag \\\\\n",
    "&&&&&+ HS_{different\\_switch\\_cost} \\notag \\\\\n",
    "\\notag \\\\\n",
    "&&&= &&\\left(HS_{a\\_investment} + HS_{b\\_investment} \\times D_{uen\\_per\\_dwelling}\\right) \\notag \\\\\n",
    "&&&&&\\times \\frac{HS_{discount\\_20} \\times HS_{inflation\\_rate\\_0} + HS_{inflation\\_rate\\_20}}{HS_{discount\\_20}} \\notag \\\\\n",
    "&&&&&+ D_{uen\\_per\\_dwelling} \\times \\frac{HS_{no\\_gas\\_40}}{HS_{efficiency}} + HS_{maintenance} + D_{insulation\\_cost} \\notag \\\\\n",
    "&&&&&+ HS_{different\\_switch\\_cost} \\notag \\\\\n",
    "\\notag \\\\\n",
    "&&&= &&\\color{brown}{HS_{ghc\\_uen\\_condition\\_3}} + \\color{brown}{D_{unvariable\\_cost\\_4}}\\\\\n",
    "\\end{align}"
   ]
  },
  {
   "cell_type": "markdown",
   "metadata": {},
   "source": [
    "* ***Where:***\n",
    "\n",
    "\\begin{align}\n",
    "&\\color{brown}{HS_{ghc\\_uen\\_condition\\_3}} &&= &&\\color{purple}{HS_{uen\\_cost\\_3}}  \\times \\color{brown}{D_{uen\\_per\\_dwelling}} \\\\\n",
    "\\notag \\\\\n",
    "&&&if &&\\color{blue}{HS_{to\\_switch} \\in \\left\\{GB,\\ CGB\\right\\}} \\notag \\\\\n",
    "&&&\\Rightarrow &&\\color{blue}{HS_{initial} \\in \\left\\{OB,\\ COB\\right\\}} \\notag \\\\\n",
    "\\notag \\\\\n",
    "&\\color{purple}{HS_{uen\\_cost\\_3}} &&= &&\\color{teal}{HS_{b\\_investment}} \\times \\color{purple}{HS_{time\\_factor\\_2}} + \\frac{\\color{purple}{HS_{no\\_gas\\_prices}}}{\\color{teal}{HS_{efficiency}}} \\\\\n",
    "\\notag \\\\\n",
    "&\\color{purple}{HS_{no\\_gas\\_prices}} &&= &&\\sum\\limits_{i = 1}^{40}{\\frac {\\color{teal}{HS_{specific\\_gas\\_price}} \\times \\left(1 + \\color{teal}{HS_{annual\\_variation}}\\right)^{i + \\color{orange}{year} - 2} + \\color{purple}{HS_{carbon\\_tax}}}{\\left(1 + \\color{teal}{D_{discount\\_rate}}\\right)^{i}}},\\ \\color{orange}{year} \\in [1, 20]\n",
    "\\end{align}"
   ]
  },
  {
   "cell_type": "markdown",
   "metadata": {},
   "source": [
    "## Related formulas to the dwellings with collective heating system\n",
    "\n",
    "### Related formulas for the case $I$"
   ]
  },
  {
   "cell_type": "markdown",
   "metadata": {},
   "source": [
    "* ***When:***\n",
    "\n",
    "    * $\\color{blue}{HS_{initial} = HS_{to\\_switch}}$"
   ]
  },
  {
   "cell_type": "markdown",
   "metadata": {},
   "source": [
    "\\begin{align*}\n",
    "&&\\frac{_{To \\ Switch}}{_{Initial}} &&GB     &&CGB    &&OB     &&COB    &&EHP2   &&WB     &&WPB    &&EHP    \\\\\n",
    "&&GB                                &&\\oplus &&       &&       &&       &&       &&       &&       &&       \\\\\n",
    "&&CGB                               &&       &&\\oplus &&       &&       &&       &&       &&       &&       \\\\\n",
    "&&OB                                &&       &&       &&\\oplus &&       &&       &&       &&       &&       \\\\\n",
    "&&COB                               &&       &&       &&       &&\\oplus &&       &&       &&       &&       \\\\\n",
    "&&EHP2                              &&       &&       &&       &&       &&\\oplus &&       &&       &&       \\\\\n",
    "&&WB                                &&       &&       &&       &&       &&       &&\\oplus &&       &&       \\\\\n",
    "&&WPB                               &&       &&       &&       &&       &&       &&       &&\\oplus &&       \\\\\n",
    "&&EHP                               &&       &&       &&       &&       &&       &&       &&       &&\\oplus \n",
    "\\end{align*}"
   ]
  },
  {
   "cell_type": "markdown",
   "metadata": {},
   "source": [
    "\\begin{align}\n",
    "&\\color{brown}{D_{GHC\\_I}} &&= &&\\color{brown}{HS_{ghc\\_uen\\_condition\\_1}} + \\color{brown}{D_{unvariable\\_cost\\_1}}\n",
    "\\end{align}"
   ]
  },
  {
   "cell_type": "markdown",
   "metadata": {},
   "source": [
    "* ***Where:***\n",
    "\n",
    "\\begin{align}\n",
    "&\\color{brown}{HS_{ghc\\_uen\\_condition\\_1}} &&= &&\\color{purple}{HS_{uen\\_cost\\_1}} \\times \\color{brown}{D_{uen\\_per\\_dwelling}} \\\\\n",
    "\\notag \\\\\n",
    "&&&if &&\\color{blue}{HS_{to\\_switch} \\in \\left\\{GB,\\ CGB,\\ OB,\\ COB,\\ EHP2,\\ WB,\\ WPB,\\ EHP\\right\\}} \\notag \\\\\n",
    "&&&\\Rightarrow &&\\color{blue}{HS_{initial} \\in \\left\\{GB,\\ CGB,\\ OB,\\ COB,\\ EHP2,\\ WB,\\ WPB,\\ EHP\\right\\}} \\notag \\\\\n",
    "&&&and &&\\color{blue}{HS_{to\\_switch} = HS_{initial}} \\notag \\\\\n",
    "\\notag \\\\\n",
    "&\\color{brown}{D_{unvariable\\_cost\\_1}} &&= &&\\color{brown}{D_{insulation\\_cost}} + \\color{purple}{HS_{fixed\\_cost\\_1}} \\\\\n",
    "\\notag \\\\\n",
    "&&&if &&\\color{blue}{HS_{to\\_switch} \\in \\left\\{GB,\\ CGB,\\ OB,\\ COB,\\ EHP2,\\ WB,\\ WPB,\\ EHP\\right\\}} \\notag \\\\\n",
    "&&&\\Rightarrow &&\\color{blue}{HS_{initial} \\in \\left\\{GB,\\ CGB,\\ OB,\\ COB,\\ EHP2,\\ WB,\\ WPB,\\ EHP\\right\\}} \\notag \\\\\n",
    "&&&and &&\\color{blue}{HS_{to\\_switch} = HS_{initial}} \\notag\n",
    "\\end{align}"
   ]
  },
  {
   "cell_type": "markdown",
   "metadata": {},
   "source": [
    "### Related formulas for the case $II$"
   ]
  },
  {
   "cell_type": "markdown",
   "metadata": {},
   "source": [
    "* ***When:***\n",
    "\n",
    "    * $\\color{blue}{HS_{initial} \\neq HS_{to\\_switch}}$\n",
    "    \n",
    "    * $\\color{blue}{HS_{initial} \\in \\{GB, CGB\\}}\\ and\\ \\color{blue}{HS_{to\\_switch} \\in \\{GB, CGB\\}}$\n",
    "    \n",
    "    * $\\color{blue}{HS_{initial} \\in \\{OB, COB\\}}\\ and\\ \\color{blue}{HS_{to\\_switch} \\in \\{OB, COB\\}}$"
   ]
  },
  {
   "cell_type": "markdown",
   "metadata": {},
   "source": [
    "\\begin{align*}\n",
    "&&\\frac{_{To \\ Switch}}{_{Initial}} &&GB     &&CGB    &OB     &&COB    &&EHP2   &&WB     &&WPB    &&EHP    \\\\\n",
    "&&GB                                &&\\times &&\\oplus &       &&       &&       &&       &&       &&       \\\\\n",
    "&&CGB                               &&\\oplus &&\\times &       &&       &&       &&       &&       &&       \\\\\n",
    "&&OB                                &&       &&       &\\times &&\\oplus &&       &&       &&       &&       \\\\\n",
    "&&COB                               &&       &&       &\\oplus &&\\times &&       &&       &&       &&       \\\\\n",
    "&&EHP2                              &&       &&       &       &&       &&\\times &&       &&       &&       \\\\\n",
    "&&WB                                &&       &&       &       &&       &&       &&\\times &&       &&       \\\\\n",
    "&&WPB                               &&       &&       &       &&       &&       &&       &&\\times &&       \\\\\n",
    "&&EHP                               &&       &&       &       &&       &&       &&       &&       &&\\times \n",
    "\\end{align*}"
   ]
  },
  {
   "cell_type": "markdown",
   "metadata": {},
   "source": [
    "\\begin{align}\n",
    "&\\color{brown}{D_{GHC\\_II}} &&= &&\\color{brown}{HS_{ghc\\_uen\\_condition\\_2}} + \\color{brown}{D_{unvariable\\_cost\\_2}}\n",
    "\\end{align}"
   ]
  },
  {
   "cell_type": "markdown",
   "metadata": {},
   "source": [
    "* ***Where:***\n",
    "\n",
    "\\begin{align}\n",
    "&\\color{brown}{HS_{ghc\\_uen\\_condition\\_2}} &&= &&\\color{purple}{HS_{uen\\_cost\\_2}}  \\times \\color{brown}{D_{uen\\_per\\_dwelling}} \\\\\n",
    "\\notag \\\\\n",
    "&&&if &&\\color{blue}{HS_{to\\_switch} \\in \\left\\{OB,\\ COB,\\ EHP2,\\ WB,\\ WPB,\\ EHP\\right\\}} \\notag \\\\\n",
    "&&&\\Rightarrow &&\\color{blue}{HS_{initial} \\in \\left\\{GB,\\ CGB,\\ OB,\\ COB,\\ EHP2,\\ WB,\\ WPB,\\ EHP\\right\\}} \\notag \\\\\n",
    "&&&and &&\\color{blue}{HS_{to\\_switch} \\neq HS_{initial}} \\notag \\\\\n",
    "\\notag \\\\\n",
    "&&&if &&\\color{blue}{HS_{to\\_switch} \\in \\left\\{GB,\\ CGB\\right\\}} \\notag \\\\\n",
    "&&&\\Rightarrow &&\\color{blue}{HS_{initial} \\in \\left\\{GB,\\ CGB,\\ EHP2,\\ WB,\\ WPB,\\ EHP\\right\\}} \\notag \\\\\n",
    "&&&and &&\\color{blue}{HS_{to\\_switch} \\neq HS_{initial}} \\notag \\\\\n",
    "\\notag \\\\\n",
    "&\\color{brown}{D_{unvariable\\_cost\\_2}} &&= &&\\color{brown}{D_{insulation\\_cost}} + \\color{purple}{HS_{fixed\\_cost\\_2}} \\\\\n",
    "\\notag \\\\\n",
    "&&&if &&\\color{blue}{HS_{to\\_switch} \\in \\left\\{GB,\\ CGB\\right\\}} \\notag \\\\\n",
    "&&&\\Rightarrow &&\\color{blue}{HS_{initial} \\in \\left\\{GB,\\ CGB\\right\\}} \\notag \\\\\n",
    "&&&and &&\\color{blue}{HS_{to\\_switch} \\neq HS_{initial}} \\notag \\\\\n",
    "\\notag \\\\\n",
    "&&&if &&\\color{blue}{HS_{to\\_switch} \\in \\left\\{OB,\\ COB\\right\\}} \\notag \\\\\n",
    "&&&\\Rightarrow &&\\color{blue}{HS_{initial} \\in \\left\\{OB,\\ COB\\right\\}} \\notag \\\\\n",
    "&&&and &&\\color{blue}{HS_{to\\_switch} \\neq HS_{initial}} \\notag\n",
    "\\end{align}"
   ]
  },
  {
   "cell_type": "markdown",
   "metadata": {},
   "source": [
    "### Related formulas for the case $III$"
   ]
  },
  {
   "cell_type": "markdown",
   "metadata": {},
   "source": [
    "* ***When:***\n",
    "\n",
    "    * $\\color{blue}{HS_{initial} \\neq HS_{to\\_switch}}$\n",
    "    \n",
    "    * $\\color{blue}{HS_{initial} \\in \\{WB, WPB\\}}\\ and\\ \\color{blue}{HS_{to\\_switch} \\in \\{WB, WPB\\}}$"
   ]
  },
  {
   "cell_type": "markdown",
   "metadata": {},
   "source": [
    "\\begin{align*}\n",
    "&&\\frac{_{To \\ Switch}}{_{Initial}} &&GB     &&CGB    &&OB     &&COB    &&EHP2   &&WB     &&WPB    &&EHP    \\\\\n",
    "&&GB                                &&\\times &&\\times &&       &&       &&       &&       &&       &&       \\\\\n",
    "&&CGB                               &&\\times &&\\times &&       &&       &&       &&       &&       &&       \\\\\n",
    "&&OB                                &&       &&       &&\\times &&\\times &&       &&       &&       &&       \\\\\n",
    "&&COB                               &&       &&       &&\\times &&\\times &&       &&       &&       &&       \\\\\n",
    "&&EHP2                              &&       &&       &&       &&       &&\\times &&       &&       &&       \\\\\n",
    "&&WB                                &&       &&       &&       &&       &&       &&\\times &&\\oplus &&       \\\\\n",
    "&&WPB                               &&       &&       &&       &&       &&       &&\\oplus &&\\times &&       \\\\\n",
    "&&EHP                               &&       &&       &&       &&       &&       &&       &&       &&\\times \n",
    "\\end{align*}"
   ]
  },
  {
   "cell_type": "markdown",
   "metadata": {},
   "source": [
    "\\begin{align}\n",
    "&\\color{brown}{D_{GHC\\_III}} &&= &&\\color{brown}{HS_{ghc\\_uen\\_condition\\_2}} + \\color{brown}{D_{unvariable\\_cost\\_3}}\\\\\n",
    "\\end{align}"
   ]
  },
  {
   "cell_type": "markdown",
   "metadata": {},
   "source": [
    "* ***Where:***\n",
    "\n",
    "\\begin{align}\n",
    "&\\color{brown}{D_{unvariable\\_cost\\_3}} &&= &&\\color{brown}{D_{insulation\\_cost}} + \\color{purple}{HS_{fixed\\_cost\\_3}} \\\\\n",
    "\\notag \\\\\n",
    "&&&if &&\\color{blue}{HS_{to\\_switch} \\in \\left\\{WB,\\ WPB\\right\\}} \\notag \\\\\n",
    "&&&\\Rightarrow &&\\color{blue}{HS_{initial} \\in \\left\\{WB,\\ WPB\\right\\}} \\notag \\\\\n",
    "&&&and &&\\color{blue}{HS_{to\\_switch} \\neq HS_{initial}} \\notag\n",
    "\\end{align}"
   ]
  },
  {
   "cell_type": "markdown",
   "metadata": {},
   "source": [
    "### Related formulas for the case $IV$"
   ]
  },
  {
   "cell_type": "markdown",
   "metadata": {},
   "source": [
    "* ***When:***\n",
    "\n",
    "    * $\\color{blue}{HS_{initial} \\neq HS_{to\\_switch}}$\n",
    "    \n",
    "    * $\\color{blue}{HS_{initial} \\in \\{GB, CGB\\}}\\ and\\ \\color{blue}{HS_{to\\_switch} \\in \\{OB, COB, EHP2, WPB\\}}$\n",
    "    \n",
    "    * $\\color{blue}{HS_{initial} \\in \\{OB, COB\\}}\\ and\\ \\color{blue}{HS_{to\\_switch} \\in \\{EHP2, WPB\\}}$\n",
    "    \n",
    "    * $\\color{blue}{HS_{initial} \\in \\{EHP2, WPB\\}}\\ and\\ \\color{blue}{HS_{to\\_switch} \\in \\{GB, CGB, OB, COB, EHP2, WPB\\}}$\n",
    "    \n",
    "    * $\\color{blue}{HS_{initial} \\in \\{WB, EHP\\}}\\ and\\ \\color{blue}{HS_{to\\_switch} \\in \\{WB, EHP\\}}$"
   ]
  },
  {
   "cell_type": "markdown",
   "metadata": {},
   "source": [
    "\\begin{align*}\n",
    "&&\\frac{_{To \\ Switch}}{_{Initial}} &&GB     &&CGB    &&OB     &&COB    &&EHP2   &&WB     &&WPB    &&EHP    \\\\\n",
    "&&GB                                &&\\times &&\\times &&\\oplus &&\\oplus &&\\oplus &&       &&\\oplus &&       \\\\\n",
    "&&CGB                               &&\\times &&\\times &&\\oplus &&\\oplus &&\\oplus &&       &&\\oplus &&       \\\\\n",
    "&&OB                                &&       &&       &&\\times &&\\times &&\\oplus &&       &&\\oplus &&       \\\\\n",
    "&&COB                               &&       &&       &&\\times &&\\times &&\\oplus &&       &&\\oplus &&       \\\\\n",
    "&&EHP2                              &&\\oplus &&\\oplus &&\\oplus &&\\oplus &&\\times &&       &&\\oplus &&       \\\\\n",
    "&&WB                                &&       &&       &&       &&       &&       &&\\times &&\\times &&\\oplus \\\\\n",
    "&&WPB                               &&\\oplus &&\\oplus &&\\oplus &&\\oplus &&\\oplus &&\\times &&\\times &&       \\\\\n",
    "&&EHP                               &&       &&       &&       &&       &&       &&\\oplus &&       &&\\times \n",
    "\\end{align*}"
   ]
  },
  {
   "cell_type": "markdown",
   "metadata": {},
   "source": [
    "\\begin{align}\n",
    "&\\color{brown}{D_{GHC\\_IV}} &&= &&\\color{brown}{HS_{ghc\\_uen\\_condition\\_2}} + \\color{brown}{D_{unvariable\\_cost\\_4}}\n",
    "\\end{align}"
   ]
  },
  {
   "cell_type": "markdown",
   "metadata": {},
   "source": [
    "* ***Where:***\n",
    "\n",
    "\\begin{align}\n",
    "&\\color{brown}{D_{unvariable\\_cost\\_4}} &&= &&\\color{brown}{D_{insulation\\_cost}} + \\color{purple}{HS_{fixed\\_cost\\_4}} \\\\\n",
    "\\notag \\\\\n",
    "&&&if &&\\color{blue}{HS_{to\\_switch} \\in \\left\\{GB,\\ CGB\\right\\}} \\notag \\\\\n",
    "&&&\\Rightarrow &&\\color{blue}{HS_{initial} \\in \\left\\{OB,\\ COB,\\ EHP2,\\ WPB\\right\\}} \\notag \\\\\n",
    "\\notag \\\\\n",
    "&&&if &&\\color{blue}{HS_{to\\_switch} \\in \\left\\{OB,\\ COB\\right\\}} \\notag \\\\\n",
    "&&&\\Rightarrow &&\\color{blue}{HS_{initial} \\in \\left\\{GB,\\ CGB,\\ EHP2,\\ WPB\\right\\}} \\notag \\\\\n",
    "\\notag \\\\\n",
    "&&&if &&\\color{blue}{HS_{to\\_switch} \\in \\left\\{EHP2,\\ WPB\\right\\}} \\notag \\\\\n",
    "&&&\\Rightarrow &&\\color{blue}{HS_{initial} \\in \\left\\{GB,\\ CGB,\\ OB,\\ COB,\\ EHP2,\\ WPB\\right\\}} \\notag \\\\\n",
    "&&&and &&\\color{blue}{HS_{to\\_switch} \\neq HS_{initial}} \\notag \\\\\n",
    "\\notag \\\\\n",
    "&&&if &&\\color{blue}{HS_{to\\_switch} \\in \\left\\{WB,\\ EHP\\right\\}} \\notag \\\\\n",
    "&&&\\Rightarrow &&\\color{blue}{HS_{initial} \\in \\left\\{WB,\\ EHP\\right\\}} \\notag \\\\\n",
    "&&&and &&\\color{blue}{HS_{to\\_switch} \\neq HS_{initial}} \\notag\n",
    "\\end{align}"
   ]
  },
  {
   "cell_type": "markdown",
   "metadata": {},
   "source": [
    "### Related formulas for the case $V$"
   ]
  },
  {
   "cell_type": "markdown",
   "metadata": {},
   "source": [
    "* ***When:***\n",
    "\n",
    "    * $\\color{blue}{HS_{initial} \\neq HS_{to\\_switch}}$\n",
    "    \n",
    "    * $\\color{blue}{HS_{initial} \\in \\{GB, CGB, OB, COB, EHP2\\}}\\ and\\ \\color{blue}{HS_{to\\_switch} \\in \\{WB, EHP\\}}$\n",
    "    \n",
    "    * $\\color{blue}{HS_{initial} = WB}\\ and\\ \\color{blue}{HS_{to\\_switch} \\in \\{GB, CGB, OB, COB, EHP2\\}}$\n",
    "    \n",
    "    * $\\color{blue}{HS_{initial} = WPB}\\ and\\ \\color{blue}{HS_{to\\_switch} = EHP}$\n",
    "    \n",
    "    * $\\color{blue}{HS_{initial} = EHP}\\ and\\ \\color{blue}{HS_{to\\_switch} \\in \\{GB, CGB, OB, COB, EHP2, WPB\\}}$"
   ]
  },
  {
   "cell_type": "markdown",
   "metadata": {},
   "source": [
    "\\begin{align*}\n",
    "&&\\frac{_{To \\ Switch}}{_{Initial}} &&GB     &&CGB    &&OB     &&COB    &&EHP2   &&WB     &&WPB    &&EHP    \\\\\n",
    "&&GB                                &&\\times &&\\times &&\\times &&\\times &&\\times &&\\oplus &&\\times &&\\oplus \\\\\n",
    "&&CGB                               &&\\times &&\\times &&\\times &&\\times &&\\times &&\\oplus &&\\times &&\\oplus \\\\\n",
    "&&OB                                &&       &&       &&\\times &&\\times &&\\times &&\\oplus &&\\times &&\\oplus \\\\\n",
    "&&COB                               &&       &&       &&\\times &&\\times &&\\times &&\\oplus &&\\times &&\\oplus \\\\\n",
    "&&EHP2                              &&\\times &&\\times &&\\times &&\\times &&\\times &&\\oplus &&\\times &&\\oplus \\\\\n",
    "&&WB                                &&\\oplus &&\\oplus &&\\oplus &&\\oplus &&\\oplus &&\\times &&\\times &&\\times \\\\\n",
    "&&WPB                               &&\\times &&\\times &&\\times &&\\times &&\\times &&\\times &&\\times &&\\oplus \\\\\n",
    "&&EHP                               &&\\oplus &&\\oplus &&\\oplus &&\\oplus &&\\oplus &&\\times &&\\oplus &&\\times \n",
    "\\end{align*}"
   ]
  },
  {
   "cell_type": "markdown",
   "metadata": {},
   "source": [
    "\\begin{align}\n",
    "&\\color{brown}{D_{GHC\\_V}} &&= &&\\color{brown}{HS_{ghc\\_uen\\_condition\\_2}} + \\color{brown}{D_{unvariable\\_cost\\_5}}\n",
    "\\end{align}"
   ]
  },
  {
   "cell_type": "markdown",
   "metadata": {},
   "source": [
    "* ***Where:***\n",
    "\n",
    "\\begin{align}\n",
    "&\\color{brown}{D_{unvariable\\_cost\\_5}} &&= &&\\color{brown}{D_{insulation\\_cost}} + \\color{purple}{HS_{fixed\\_cost\\_5}} \\\\\n",
    "\\notag \\\\\n",
    "&&&if &&\\color{blue}{HS_{to\\_switch} \\in \\left\\{GB,\\ CGB,\\ OB,\\ COB,\\ EHP2\\right\\}} \\notag \\\\\n",
    "&&&\\Rightarrow &&\\color{blue}{HS_{initial} \\in \\left\\{WB,\\ EHP\\right\\}} \\notag \\\\\n",
    "\\notag \\\\\n",
    "&&&if &&\\color{blue}{HS_{to\\_switch} = WB} \\notag \\\\\n",
    "&&&\\Rightarrow &&\\color{blue}{HS_{initial} \\in \\left\\{GB,\\ CGB,\\ OB,\\ COB,\\ EHP2\\right\\}} \\notag \\\\\n",
    "\\notag \\\\\n",
    "&&&if &&\\color{blue}{HS_{to\\_switch} = WPB} \\notag \\\\\n",
    "&&&\\Rightarrow &&\\color{blue}{HS_{initial} = EHP} \\notag \\\\\n",
    "\\notag \\\\\n",
    "&&&if &&\\color{blue}{HS_{to\\_switch} = EHP} \\notag \\\\\n",
    "&&&\\Rightarrow &&\\color{blue}{HS_{initial} \\in \\left\\{GB,\\ CGB,\\ OB,\\ COB,\\ EHP2,\\ WPB\\right\\}} \\notag\n",
    "\\end{align}"
   ]
  },
  {
   "cell_type": "markdown",
   "metadata": {},
   "source": [
    "### Related formulas for the case $VI$"
   ]
  },
  {
   "cell_type": "markdown",
   "metadata": {},
   "source": [
    "* ***When:***\n",
    "\n",
    "    * $\\color{blue}{HS_{initial} \\neq HS_{to\\_switch}}$\n",
    "    \n",
    "    * $\\color{blue}{HS_{initial} \\in \\{OB, COB\\}}\\ and\\ \\color{blue}{HS_{to\\_switch} \\in \\{GB, CGB\\}}$"
   ]
  },
  {
   "cell_type": "markdown",
   "metadata": {},
   "source": [
    "\\begin{align*}\n",
    "&&\\frac{_{To \\ Switch}}{_{Initial}} &&GB     &&CGB    &&OB     &&COB    &&EHP2   &&WB     &&WPB    &&EHP    \\\\\n",
    "&&GB                                &&\\times &&\\times &&\\times &&\\times &&\\times &&\\times &&\\times &&\\times \\\\\n",
    "&&CGB                               &&\\times &&\\times &&\\times &&\\times &&\\times &&\\times &&\\times &&\\times \\\\\n",
    "&&OB                                &&\\oplus &&\\oplus &&\\times &&\\times &&\\times &&\\times &&\\times &&\\times \\\\\n",
    "&&COB                               &&\\oplus &&\\oplus &&\\times &&\\times &&\\times &&\\times &&\\times &&\\times \\\\\n",
    "&&EHP2                              &&\\times &&\\times &&\\times &&\\times &&\\times &&\\times &&\\times &&\\times \\\\\n",
    "&&WB                                &&\\times &&\\times &&\\times &&\\times &&\\times &&\\times &&\\times &&\\times \\\\\n",
    "&&WPB                               &&\\times &&\\times &&\\times &&\\times &&\\times &&\\times &&\\times &&\\times \\\\\n",
    "&&EHP                               &&\\times &&\\times &&\\times &&\\times &&\\times &&\\times &&\\times &&\\times \n",
    "\\end{align*}"
   ]
  },
  {
   "cell_type": "markdown",
   "metadata": {},
   "source": [
    "\\begin{align}\n",
    "&\\color{brown}{D_{GHC\\_VI}} &&= &&\\color{brown}{HS_{ghc\\_uen\\_condition\\_3}} + \\color{brown}{D_{unvariable\\_cost\\_4}}\n",
    "\\end{align}"
   ]
  },
  {
   "cell_type": "markdown",
   "metadata": {},
   "source": [
    "* ***Where:***\n",
    "\n",
    "\\begin{align}\n",
    "&\\color{brown}{HS_{ghc\\_uen\\_condition\\_3}} &&= &&\\color{purple}{HS_{uen\\_cost\\_3}}  \\times \\color{brown}{D_{uen\\_per\\_dwelling}} \\\\\n",
    "\\notag \\\\\n",
    "&&&if &&\\color{blue}{HS_{to\\_switch} \\in \\left\\{GB,\\ CGB\\right\\}} \\notag \\\\\n",
    "&&&\\Rightarrow &&\\color{blue}{HS_{initial} \\in \\left\\{OB,\\ COB\\right\\}} \\notag\n",
    "\\end{align}"
   ]
  }
 ],
 "metadata": {
  "kernelspec": {
   "display_name": "Python 3",
   "language": "python",
   "name": "python3"
  },
  "language_info": {
   "codemirror_mode": {
    "name": "ipython",
    "version": 3
   },
   "file_extension": ".py",
   "mimetype": "text/x-python",
   "name": "python",
   "nbconvert_exporter": "python",
   "pygments_lexer": "ipython3",
   "version": "3.7.6"
  },
  "latex_envs": {
   "LaTeX_envs_menu_present": true,
   "autoclose": true,
   "autocomplete": true,
   "bibliofile": "biblio.bib",
   "cite_by": "apalike",
   "current_citInitial": 1,
   "eqLabelWithNumbers": true,
   "eqNumInitial": 1,
   "hotkeys": {
    "equation": "Ctrl-E",
    "itemize": "Ctrl-I"
   },
   "labels_anchors": false,
   "latex_user_defs": false,
   "report_style_numbering": true,
   "user_envs_cfg": true
  },
  "nbTranslate": {
   "displayLangs": [
    "*"
   ],
   "hotkey": "alt-t",
   "langInMainMenu": true,
   "sourceLang": "en",
   "targetLang": "fr",
   "useGoogleTranslate": true
  },
  "toc": {
   "base_numbering": 1,
   "nav_menu": {},
   "number_sections": true,
   "sideBar": true,
   "skip_h1_title": false,
   "title_cell": "Table of Contents",
   "title_sidebar": "Contents",
   "toc_cell": false,
   "toc_position": {
    "height": "calc(100% - 180px)",
    "left": "10px",
    "top": "150px",
    "width": "320px"
   },
   "toc_section_display": true,
   "toc_window_display": true
  },
  "varInspector": {
   "cols": {
    "lenName": 16,
    "lenType": 16,
    "lenVar": 40
   },
   "kernels_config": {
    "python": {
     "delete_cmd_postfix": "",
     "delete_cmd_prefix": "del ",
     "library": "var_list.py",
     "varRefreshCmd": "print(var_dic_list())"
    },
    "r": {
     "delete_cmd_postfix": ") ",
     "delete_cmd_prefix": "rm(",
     "library": "var_list.r",
     "varRefreshCmd": "cat(var_dic_list()) "
    }
   },
   "position": {
    "height": "144.438px",
    "left": "972px",
    "right": "20px",
    "top": "169px",
    "width": "350px"
   },
   "types_to_exclude": [
    "module",
    "function",
    "builtin_function_or_method",
    "instance",
    "_Feature"
   ],
   "window_display": true
  }
 },
 "nbformat": 4,
 "nbformat_minor": 2
}
