{
 "cells": [
  {
   "cell_type": "markdown",
   "metadata": {
    "toc": true
   },
   "source": [
    "<h1>Table of Contents<span class=\"tocSkip\"></span></h1>\n",
    "<div class=\"toc\"><ul class=\"toc-item\"><li><span><a href=\"#Importation-of-necessary-libraries\" data-toc-modified-id=\"Importation-of-necessary-libraries-1\"><span class=\"toc-item-num\">1&nbsp;&nbsp;</span>Importation of necessary libraries</a></span></li><li><span><a href=\"#Extraction-of-data-from-CSV-files\" data-toc-modified-id=\"Extraction-of-data-from-CSV-files-2\"><span class=\"toc-item-num\">2&nbsp;&nbsp;</span>Extraction of data from CSV files</a></span></li><li><span><a href=\"#Combination-of-all-the-necessary-data-for-the-initial-heating-system\" data-toc-modified-id=\"Combination-of-all-the-necessary-data-for-the-initial-heating-system-3\"><span class=\"toc-item-num\">3&nbsp;&nbsp;</span>Combination of all the necessary data for the initial heating system</a></span><ul class=\"toc-item\"><li><span><a href=\"#Class-for-all-types-of-dwellings\" data-toc-modified-id=\"Class-for-all-types-of-dwellings-3.1\"><span class=\"toc-item-num\">3.1&nbsp;&nbsp;</span>Class for all types of dwellings</a></span></li><li><span><a href=\"#Class-for-the-CID-type-dwellings\" data-toc-modified-id=\"Class-for-the-CID-type-dwellings-3.2\"><span class=\"toc-item-num\">3.2&nbsp;&nbsp;</span>Class for the CID type dwellings</a></span></li><li><span><a href=\"#Class-for-the-CCD-type-dwellings\" data-toc-modified-id=\"Class-for-the-CCD-type-dwellings-3.3\"><span class=\"toc-item-num\">3.3&nbsp;&nbsp;</span>Class for the CCD type dwellings</a></span></li><li><span><a href=\"#Class-for-the-ID-type-dwellings\" data-toc-modified-id=\"Class-for-the-ID-type-dwellings-3.4\"><span class=\"toc-item-num\">3.4&nbsp;&nbsp;</span>Class for the ID type dwellings</a></span></li><li><span><a href=\"#Class-instantiation-for-each-type-of-dwelling\" data-toc-modified-id=\"Class-instantiation-for-each-type-of-dwelling-3.5\"><span class=\"toc-item-num\">3.5&nbsp;&nbsp;</span>Class instantiation for each type of dwelling</a></span></li><li><span><a href=\"#Data-retention\" data-toc-modified-id=\"Data-retention-3.6\"><span class=\"toc-item-num\">3.6&nbsp;&nbsp;</span>Data retention</a></span></li></ul></li><li><span><a href=\"#Creation-of-some-calculable-columns-for-the-initial-heating-system\" data-toc-modified-id=\"Creation-of-some-calculable-columns-for-the-initial-heating-system-4\"><span class=\"toc-item-num\">4&nbsp;&nbsp;</span>Creation of some calculable columns for the initial heating system</a></span><ul class=\"toc-item\"><li><span><a href=\"#Class-for-all-types-of-dwellings\" data-toc-modified-id=\"Class-for-all-types-of-dwellings-4.1\"><span class=\"toc-item-num\">4.1&nbsp;&nbsp;</span>Class for all types of dwellings</a></span></li><li><span><a href=\"#Class-for-the-collective-dwellings\" data-toc-modified-id=\"Class-for-the-collective-dwellings-4.2\"><span class=\"toc-item-num\">4.2&nbsp;&nbsp;</span>Class for the collective dwellings</a></span><ul class=\"toc-item\"><li><span><a href=\"#Class-for-the-DataFrame-with-U-Factors\" data-toc-modified-id=\"Class-for-the-DataFrame-with-U-Factors-4.2.1\"><span class=\"toc-item-num\">4.2.1&nbsp;&nbsp;</span>Class for the DataFrame with U Factors</a></span></li><li><span><a href=\"#Class-for-the-DataFrame-with-U-Prices\" data-toc-modified-id=\"Class-for-the-DataFrame-with-U-Prices-4.2.2\"><span class=\"toc-item-num\">4.2.2&nbsp;&nbsp;</span>Class for the DataFrame with U Prices</a></span></li></ul></li><li><span><a href=\"#Class-for-the-individual-dwellings\" data-toc-modified-id=\"Class-for-the-individual-dwellings-4.3\"><span class=\"toc-item-num\">4.3&nbsp;&nbsp;</span>Class for the individual dwellings</a></span><ul class=\"toc-item\"><li><span><a href=\"#Class-for-the-DataFrame-with-U-Factors\" data-toc-modified-id=\"Class-for-the-DataFrame-with-U-Factors-4.3.1\"><span class=\"toc-item-num\">4.3.1&nbsp;&nbsp;</span>Class for the DataFrame with U Factors</a></span></li><li><span><a href=\"#Class-for-the-DataFrame-with-U-Prices\" data-toc-modified-id=\"Class-for-the-DataFrame-with-U-Prices-4.3.2\"><span class=\"toc-item-num\">4.3.2&nbsp;&nbsp;</span>Class for the DataFrame with U Prices</a></span></li></ul></li><li><span><a href=\"#Class-instantiation-for-each-type-of-dwelling\" data-toc-modified-id=\"Class-instantiation-for-each-type-of-dwelling-4.4\"><span class=\"toc-item-num\">4.4&nbsp;&nbsp;</span>Class instantiation for each type of dwelling</a></span></li></ul></li><li><span><a href=\"#Creation-of-some-calculable-DataFrames-by-adding-targeted-heating-system's-information\" data-toc-modified-id=\"Creation-of-some-calculable-DataFrames-by-adding-targeted-heating-system's-information-5\"><span class=\"toc-item-num\">5&nbsp;&nbsp;</span>Creation of some calculable DataFrames by adding targeted heating system's information</a></span><ul class=\"toc-item\"><li><span><a href=\"#Class-for-all-types-of-dwellings\" data-toc-modified-id=\"Class-for-all-types-of-dwellings-5.1\"><span class=\"toc-item-num\">5.1&nbsp;&nbsp;</span>Class for all types of dwellings</a></span></li><li><span><a href=\"#Class-for-the-CID-type-dwellings\" data-toc-modified-id=\"Class-for-the-CID-type-dwellings-5.2\"><span class=\"toc-item-num\">5.2&nbsp;&nbsp;</span>Class for the CID type dwellings</a></span><ul class=\"toc-item\"><li><span><a href=\"#Class-for-the-DataFrame-with-U-Factors\" data-toc-modified-id=\"Class-for-the-DataFrame-with-U-Factors-5.2.1\"><span class=\"toc-item-num\">5.2.1&nbsp;&nbsp;</span>Class for the DataFrame with U Factors</a></span></li><li><span><a href=\"#Class-for-the-DataFrame-with-U-Prices\" data-toc-modified-id=\"Class-for-the-DataFrame-with-U-Prices-5.2.2\"><span class=\"toc-item-num\">5.2.2&nbsp;&nbsp;</span>Class for the DataFrame with U Prices</a></span></li></ul></li></ul></li></ul></div>"
   ]
  },
  {
   "cell_type": "markdown",
   "metadata": {},
   "source": [
    "# Importation of necessary libraries"
   ]
  },
  {
   "cell_type": "code",
   "execution_count": 1,
   "metadata": {
    "ExecuteTime": {
     "end_time": "2019-10-20T10:01:59.242905Z",
     "start_time": "2019-10-20T10:01:58.592553Z"
    }
   },
   "outputs": [],
   "source": [
    "import pandas as pd\n",
    "\n",
    "import itertools\n",
    "\n",
    "import numpy as np"
   ]
  },
  {
   "cell_type": "markdown",
   "metadata": {},
   "source": [
    "# Extraction of data from CSV files"
   ]
  },
  {
   "cell_type": "code",
   "execution_count": 2,
   "metadata": {
    "ExecuteTime": {
     "end_time": "2019-10-20T10:01:59.306653Z",
     "start_time": "2019-10-20T10:01:59.244466Z"
    },
    "code_folding": []
   },
   "outputs": [],
   "source": [
    "df_Wall_Investment = pd.read_csv('../Input_Data_CSV/Wall_Investment.csv',\n",
    "                                 sep=';',\n",
    "                                 index_col=None,\n",
    "                                 header=0)\n",
    "\n",
    "df_Window_Investment = pd.read_csv('../Input_Data_CSV/Window_Investment.csv',\n",
    "                                   sep=';',\n",
    "                                   index_col=None,\n",
    "                                   header=0)\n",
    "\n",
    "df_Roof_Investment = pd.read_csv('../Input_Data_CSV/Roof_Investment.csv',\n",
    "                                 sep=';',\n",
    "                                 index_col=None,\n",
    "                                 header=0)\n",
    "\n",
    "df_Floor_Investment = pd.read_csv('../Input_Data_CSV/Floor_Investment.csv',\n",
    "                                  sep=';',\n",
    "                                  index_col=None,\n",
    "                                  header=0)\n",
    "\n",
    "df_Housing_Characteristics = pd.read_csv(\n",
    "    '../Input_Data_CSV/Housing_Characteristics.csv',\n",
    "    sep=';',\n",
    "    index_col=None,\n",
    "    header=0)\n",
    "\n",
    "df_Climate_Zone = pd.read_csv('../Input_Data_CSV/Climate_Zone.csv',\n",
    "                              sep=';',\n",
    "                              index_col=None,\n",
    "                              header=0)\n",
    "\n",
    "df_Heating_System = pd.read_csv('../Input_Data_CSV/Heating_System.csv',\n",
    "                                sep=';',\n",
    "                                index_col=None,\n",
    "                                header=0)\n",
    "\n",
    "df_Headcount = pd.read_csv('../Input_Data_CSV/Headcount.csv',\n",
    "                           sep=';',\n",
    "                           index_col=None,\n",
    "                           header=0)\n",
    "\n",
    "df_Economic_Hypothesis = pd.read_csv(\n",
    "    '../Input_Data_CSV/Economic_Hypothesis.csv',\n",
    "    sep=';',\n",
    "    index_col=None,\n",
    "    header=0)"
   ]
  },
  {
   "cell_type": "markdown",
   "metadata": {},
   "source": [
    "# Combination of all the necessary data for the initial heating system\n",
    "\n",
    "## Class for all types of dwellings"
   ]
  },
  {
   "cell_type": "code",
   "execution_count": 3,
   "metadata": {
    "ExecuteTime": {
     "end_time": "2019-10-20T10:01:59.637376Z",
     "start_time": "2019-10-20T10:01:59.632422Z"
    }
   },
   "outputs": [],
   "source": [
    "class All_Types:\n",
    "    def __init__(self, *args):\n",
    "        self.df_1 = df_Climate_Zone\n",
    "        self.df_2 = df_Housing_Characteristics\n",
    "        self.df_3 = df_Headcount\n",
    "        self.df_4 = df_Wall_Investment\n",
    "        self.df_5 = df_Window_Investment\n",
    "        self.df_6 = df_Roof_Investment\n",
    "        self.df_7 = df_Floor_Investment"
   ]
  },
  {
   "cell_type": "markdown",
   "metadata": {},
   "source": [
    "## Class for the CID type dwellings"
   ]
  },
  {
   "cell_type": "code",
   "execution_count": 4,
   "metadata": {
    "ExecuteTime": {
     "end_time": "2019-10-20T10:02:00.141008Z",
     "start_time": "2019-10-20T10:02:00.118337Z"
    }
   },
   "outputs": [],
   "source": [
    "class CID_Type(All_Types):\n",
    "    def init(self, *args):\n",
    "        super().init(*args)\n",
    "\n",
    "    def Combine_Lists(self):\n",
    "        self.list_combined = []\n",
    "        list_dwelling_type = ['CID']\n",
    "        list_climate_type = self.df_1.iloc[:, 0].tolist()\n",
    "        list_construction_period = self.df_2.iloc[:21, 1].tolist()[::3]\n",
    "        list_size_factor = self.df_2.iloc[:3, 2].tolist()\n",
    "        list_heating_system = [\n",
    "            'ER', 'GB', 'CGB', 'OB', 'COB', 'EHP2', 'WB', 'WPB', 'EHP'\n",
    "        ]\n",
    "        list_initial_age = list(range(20))\n",
    "        self.list_combined.append(list_dwelling_type)\n",
    "        self.list_combined.append(list_climate_type)\n",
    "        self.list_combined.append(list_construction_period)\n",
    "        self.list_combined.append(list_size_factor)\n",
    "        self.list_combined.append(list_heating_system)\n",
    "        self.list_combined.append(list_initial_age)\n",
    "        return self.list_combined\n",
    "\n",
    "    def Generate_DF(self):\n",
    "        self.Combine_Lists()\n",
    "        itertools_product = list(itertools.product(*self.list_combined))\n",
    "        self.df = pd.DataFrame(itertools_product,\n",
    "                               columns=[\n",
    "                                   'Dwelling Type', 'Climate Type',\n",
    "                                   'Construction Period', 'Size Factor',\n",
    "                                   'Heating System', 'Initial Age'\n",
    "                               ])\n",
    "        return self.df\n",
    "\n",
    "    def Merge_DFs(self):\n",
    "        self.Generate_DF()\n",
    "        self.df = self.df.merge(self.df_1, how='left', on=['Climate Type'])\n",
    "        self.df = self.df.merge(self.df_2.iloc[:21, 1:9],\n",
    "                                how='left',\n",
    "                                on=['Construction Period', 'Size Factor'])\n",
    "        return self.df\n",
    "\n",
    "    def Concat_DFs(self):\n",
    "        self.Merge_DFs()\n",
    "        self.df = pd.concat([self.df, self.df_3.iloc[0:11340, 6]],\n",
    "                            axis=1,\n",
    "                            join='outer')\n",
    "        return self.df\n",
    "\n",
    "    def Reorder_Columns(self):\n",
    "        self.Concat_DFs()\n",
    "        cols = self.df.columns.tolist()\n",
    "        reordered_cols = cols[:2] + cols[6:7] + cols[2:4] + cols[7:13] + cols[\n",
    "            4:5] + cols[5:6] + cols[13:14]\n",
    "        self.df = self.df[reordered_cols]\n",
    "        return self.df\n",
    "\n",
    "    def Add_U_Factors(self):\n",
    "        self.Reorder_Columns()\n",
    "        self.df = self.df.merge(\n",
    "            self.df_2.loc[:20, ['Construction Period', 'Size Factor', 'Um0']],\n",
    "            how='left',\n",
    "            on=['Construction Period', 'Size Factor'])\n",
    "        for m in range(18):\n",
    "            self.df['Um' + str(m + 1)] = self.df_4.iloc[m, 2]\n",
    "        self.df = self.df.merge(\n",
    "            self.df_2.loc[:20, ['Construction Period', 'Size Factor', 'Uw0']],\n",
    "            how='left',\n",
    "            on=['Construction Period', 'Size Factor'])\n",
    "        for w in range(3):\n",
    "            self.df['Uw' + str(w + 1)] = self.df_5.iloc[w, 2]\n",
    "        self.df = self.df.merge(\n",
    "            self.df_2.loc[:20, ['Construction Period', 'Size Factor', 'Ur0']],\n",
    "            how='left',\n",
    "            on=['Construction Period', 'Size Factor'])\n",
    "        for r in range(3):\n",
    "            self.df['Ur' + str(r + 1)] = self.df_6.iloc[r, 2]\n",
    "        self.df = self.df.merge(\n",
    "            self.df_2.loc[:20, ['Construction Period', 'Size Factor', 'Uf0']],\n",
    "            how='left',\n",
    "            on=['Construction Period', 'Size Factor'])\n",
    "        for f in range(5):\n",
    "            self.df['Uf' + str(f + 1)] = self.df_7.iloc[f, 2]\n",
    "        return self.df\n",
    "\n",
    "    def Add_U_Prices(self):\n",
    "        self.Reorder_Columns()\n",
    "        self.df['Um0'] = 0\n",
    "        for m in range(18):\n",
    "            self.df['Um' + str(m + 1)] = self.df_4.iloc[m, 3]\n",
    "        self.df['Uw0'] = 0\n",
    "        for w in range(3):\n",
    "            self.df['Uw' + str(w + 1)] = self.df_5.iloc[w, 3]\n",
    "        self.df['Ur0'] = 0\n",
    "        for r in range(3):\n",
    "            self.df['Ur' + str(r + 1)] = self.df_6.iloc[r, 3]\n",
    "        self.df['Uf0'] = 0\n",
    "        for f in range(5):\n",
    "            self.df['Uf' + str(f + 1)] = self.df_7.iloc[f, 3]\n",
    "        return self.df"
   ]
  },
  {
   "cell_type": "markdown",
   "metadata": {},
   "source": [
    "## Class for the CCD type dwellings"
   ]
  },
  {
   "cell_type": "markdown",
   "metadata": {
    "ExecuteTime": {
     "end_time": "2019-10-16T08:17:27.354933Z",
     "start_time": "2019-10-16T08:17:27.333060Z"
    }
   },
   "source": [
    "class CCD_Type(All_Types):\n",
    "    def init(self, *args):\n",
    "        super().init(*args)\n",
    "\n",
    "    def Combine_Lists(self):\n",
    "        self.list_combined = []\n",
    "        list_dwelling_type = ['CCD']\n",
    "        list_climate_type = self.df_1.iloc[:, 0].tolist()\n",
    "        list_construction_period = self.df_2.iloc[:21, 1].tolist()[::3]\n",
    "        list_size_factor = self.df_2.iloc[:3, 2].tolist()\n",
    "        list_heating_system = [\n",
    "            'GB', 'CGB', 'OB', 'COB', 'EHP2', 'WB', 'WPB', 'EHP'\n",
    "        ]\n",
    "        list_initial_age = list(range(20))\n",
    "        self.list_combined.append(list_dwelling_type)\n",
    "        self.list_combined.append(list_climate_type)\n",
    "        self.list_combined.append(list_construction_period)\n",
    "        self.list_combined.append(list_size_factor)\n",
    "        self.list_combined.append(list_heating_system)\n",
    "        self.list_combined.append(list_initial_age)\n",
    "        return self.list_combined\n",
    "\n",
    "    def Generate_DF(self):\n",
    "        self.Combine_Lists()\n",
    "        itertools_product = list(itertools.product(*self.list_combined))\n",
    "        self.df = pd.DataFrame(itertools_product,\n",
    "                               columns=[\n",
    "                                   'Dwelling Type', 'Climate Type',\n",
    "                                   'Construction Period', 'Size Factor',\n",
    "                                   'Heating System', 'Initial Age'\n",
    "                               ])\n",
    "        return self.df\n",
    "\n",
    "    def Merge_DFs(self):\n",
    "        self.Generate_DF()\n",
    "        self.df = self.df.merge(self.df_1, how='left', on=['Climate Type'])\n",
    "        self.df = self.df.merge(self.df_2.iloc[:21, 1:9],\n",
    "                                how='left',\n",
    "                                on=['Construction Period', 'Size Factor'])\n",
    "        return self.df\n",
    "\n",
    "    def Add_Columns(self):\n",
    "        self.Merge_DFs()\n",
    "        self.df[self.df_4.columns[0]] = self.df_4.iloc[0, 0]\n",
    "        self.df[self.df_4.columns[1]] = self.df_4.iloc[0, 1]\n",
    "        self.df[self.df_4.columns[2]] = self.df_4.iloc[0, 2]\n",
    "        self.df[self.df_4.columns[3]] = self.df_4.iloc[0, 3]\n",
    "        return self.df\n",
    "\n",
    "    def Concat_DFs(self):\n",
    "        self.Add_Columns()\n",
    "        self.df = pd.concat(\n",
    "            [self.df, self.df_3.iloc[11340:21420, 6].reset_index(drop=True)],\n",
    "            axis=1,\n",
    "            join='outer')\n",
    "        return self.df\n",
    "\n",
    "    def Reorder_Columns(self):\n",
    "        self.Concat_DFs()\n",
    "        cols = self.df.columns.tolist()\n",
    "        reordered_cols = cols[:2] + cols[6:7] + cols[2:4] + cols[7:13] + cols[\n",
    "            4:5] + cols[13:28] + cols[5:6] + cols[28:29]\n",
    "        self.df = self.df[reordered_cols]\n",
    "        return self.df\n",
    "\n",
    "    def Add_U_Factors(self):\n",
    "        self.Reorder_Columns()\n",
    "        self.df = self.df.merge(\n",
    "            self.df_2.loc[:20, ['Construction Period', 'Size Factor', 'Um0']],\n",
    "            how='left',\n",
    "            on=['Construction Period', 'Size Factor'])\n",
    "        for m in range(18):\n",
    "            self.df['Um' + str(m + 1)] = self.df_4.iloc[m, 2]\n",
    "        self.df = self.df.merge(\n",
    "            self.df_2.loc[:20, ['Construction Period', 'Size Factor', 'Uw0']],\n",
    "            how='left',\n",
    "            on=['Construction Period', 'Size Factor'])\n",
    "        for w in range(3):\n",
    "            self.df['Uw' + str(w + 1)] = self.df_5.iloc[w, 2]\n",
    "        self.df = self.df.merge(\n",
    "            self.df_2.loc[:20, ['Construction Period', 'Size Factor', 'Ur0']],\n",
    "            how='left',\n",
    "            on=['Construction Period', 'Size Factor'])\n",
    "        for r in range(3):\n",
    "            self.df['Ur' + str(r + 1)] = self.df_6.iloc[r, 2]\n",
    "        self.df = self.df.merge(\n",
    "            self.df_2.loc[:20, ['Construction Period', 'Size Factor', 'Uf0']],\n",
    "            how='left',\n",
    "            on=['Construction Period', 'Size Factor'])\n",
    "        for f in range(5):\n",
    "            self.df['Uf' + str(f + 1)] = self.df_7.iloc[f, 2]\n",
    "        return self.df\n",
    "\n",
    "    def Add_U_Prices(self):\n",
    "        self.Reorder_Columns()\n",
    "        self.df['Um0'] = 0\n",
    "        for m in range(18):\n",
    "            self.df['Um' + str(m + 1)] = self.df_4.iloc[m, 3]\n",
    "        self.df['Uw0'] = 0\n",
    "        for w in range(3):\n",
    "            self.df['Uw' + str(w + 1)] = self.df_5.iloc[w, 3]\n",
    "        self.df['Ur0'] = 0\n",
    "        for r in range(3):\n",
    "            self.df['Ur' + str(r + 1)] = self.df_6.iloc[r, 3]\n",
    "        self.df['Uf0'] = 0\n",
    "        for f in range(5):\n",
    "            self.df['Uf' + str(f + 1)] = self.df_7.iloc[f, 3]\n",
    "        return self.df"
   ]
  },
  {
   "cell_type": "markdown",
   "metadata": {},
   "source": [
    "## Class for the ID type dwellings"
   ]
  },
  {
   "cell_type": "markdown",
   "metadata": {
    "ExecuteTime": {
     "end_time": "2019-10-16T08:17:27.964020Z",
     "start_time": "2019-10-16T08:17:27.924225Z"
    }
   },
   "source": [
    "class ID_Type(All_Types):\n",
    "    def init(self, *args):\n",
    "        super().init(*args)\n",
    "\n",
    "    def Combine_Lists(self):\n",
    "        self.list_combined = []\n",
    "        list_dwelling_type = ['ID']\n",
    "        list_climate_type = self.df_1.iloc[:, 0].tolist()\n",
    "        list_construction_period = self.df_2.iloc[21:, 1].tolist()[::3]\n",
    "        list_size_factor = self.df_2.iloc[:3, 2].tolist()\n",
    "        list_heating_system = [\n",
    "            'ER', 'GB', 'CGB', 'OB', 'COB', 'EHP2', 'WB', 'WPB', 'EHP'\n",
    "        ]\n",
    "        list_initial_age = list(range(20))\n",
    "        self.list_combined.append(list_dwelling_type)\n",
    "        self.list_combined.append(list_climate_type)\n",
    "        self.list_combined.append(list_construction_period)\n",
    "        self.list_combined.append(list_size_factor)\n",
    "        self.list_combined.append(list_heating_system)\n",
    "        self.list_combined.append(list_initial_age)\n",
    "        return self.list_combined\n",
    "\n",
    "    def Generate_DF(self):\n",
    "        self.Combine_Lists()\n",
    "        itertools_product = list(itertools.product(*self.list_combined))\n",
    "        self.df = pd.DataFrame(itertools_product,\n",
    "                               columns=[\n",
    "                                   'Dwelling Type', 'Climate Type',\n",
    "                                   'Construction Period', 'Size Factor',\n",
    "                                   'Heating System', 'Initial Age'\n",
    "                               ])\n",
    "        return self.df\n",
    "\n",
    "    def Merge_DFs(self):\n",
    "        self.Generate_DF()\n",
    "        self.df = self.df.merge(self.df_1, how='left', on=['Climate Type'])\n",
    "        self.df = self.df.merge(self.df_2.iloc[21:, 1:9],\n",
    "                                how='left',\n",
    "                                on=['Construction Period', 'Size Factor'])\n",
    "        return self.df\n",
    "\n",
    "    def Add_Columns(self):\n",
    "        self.Merge_DFs()\n",
    "        self.df[self.df_4.columns[0]] = self.df_4.iloc[0, 0]\n",
    "        self.df[self.df_4.columns[1]] = self.df_4.iloc[0, 1]\n",
    "        self.df[self.df_4.columns[2]] = self.df_4.iloc[0, 2]\n",
    "        self.df[self.df_4.columns[3]] = self.df_4.iloc[0, 3]\n",
    "        return self.df\n",
    "\n",
    "    def Concat_DFs(self):\n",
    "        self.Add_Columns()\n",
    "        self.df = pd.concat(\n",
    "            [self.df, self.df_3.iloc[21420:, 6].reset_index(drop=True)],\n",
    "            axis=1,\n",
    "            join='outer')\n",
    "        return self.df\n",
    "\n",
    "    def Reorder_Columns(self):\n",
    "        self.Concat_DFs()\n",
    "        cols = self.df.columns.tolist()\n",
    "        reordered_cols = cols[:2] + cols[6:7] + cols[2:4] + cols[7:13] + cols[\n",
    "            4:5] + cols[13:28] + cols[5:6] + cols[28:29]\n",
    "        self.df = self.df[reordered_cols]\n",
    "        return self.df\n",
    "\n",
    "    def Add_U_Factors(self):\n",
    "        self.Reorder_Columns()\n",
    "        self.df = self.df.merge(\n",
    "            self.df_2.loc[21:, ['Construction Period', 'Size Factor', 'Um0']],\n",
    "            how='left',\n",
    "            on=['Construction Period', 'Size Factor'])\n",
    "        for m in range(19):\n",
    "            self.df['Um' + str(m + 1)] = self.df_4.iloc[m + 18, 2]\n",
    "        self.df = self.df.merge(\n",
    "            self.df_2.loc[21:, ['Construction Period', 'Size Factor', 'Uw0']],\n",
    "            how='left',\n",
    "            on=['Construction Period', 'Size Factor'])\n",
    "        for w in range(3):\n",
    "            self.df['Uw' + str(w + 1)] = self.df_5.iloc[w + 3, 2]\n",
    "        self.df = self.df.merge(\n",
    "            self.df_2.loc[21:, ['Construction Period', 'Size Factor', 'Ur0']],\n",
    "            how='left',\n",
    "            on=['Construction Period', 'Size Factor'])\n",
    "        for r in range(7):\n",
    "            self.df['Ur' + str(r + 1)] = self.df_6.iloc[r + 3, 2]\n",
    "        self.df = self.df.merge(\n",
    "            self.df_2.loc[21:, ['Construction Period', 'Size Factor', 'Uf0']],\n",
    "            how='left',\n",
    "            on=['Construction Period', 'Size Factor'])\n",
    "        for f in range(3):\n",
    "            self.df['Uf' + str(f + 1)] = self.df_7.iloc[f + 5, 2]\n",
    "        return self.df\n",
    "\n",
    "    def Add_U_Prices(self):\n",
    "        self.Reorder_Columns()\n",
    "        self.df['Um0'] = 0\n",
    "        for m in range(19):\n",
    "            self.df['Um' + str(m + 1)] = self.df_4.iloc[m + 18, 3]\n",
    "        self.df['Uw0'] = 0\n",
    "        for w in range(3):\n",
    "            self.df['Uw' + str(w + 1)] = self.df_5.iloc[w + 3, 3]\n",
    "        self.df['Ur0'] = 0\n",
    "        for r in range(7):\n",
    "            self.df['Ur' + str(r + 1)] = self.df_6.iloc[r + 3, 3]\n",
    "        self.df['Uf0'] = 0\n",
    "        for f in range(3):\n",
    "            self.df['Uf' + str(f + 1)] = self.df_7.iloc[f + 5, 3]\n",
    "        return self.df"
   ]
  },
  {
   "cell_type": "markdown",
   "metadata": {},
   "source": [
    "## Class instantiation for each type of dwelling"
   ]
  },
  {
   "cell_type": "code",
   "execution_count": 5,
   "metadata": {
    "ExecuteTime": {
     "end_time": "2019-10-20T10:02:02.495422Z",
     "start_time": "2019-10-20T10:02:02.340623Z"
    }
   },
   "outputs": [
    {
     "data": {
      "text/plain": [
       "(11340, 14)"
      ]
     },
     "execution_count": 5,
     "metadata": {},
     "output_type": "execute_result"
    }
   ],
   "source": [
    "Instance_CID = CID_Type()\n",
    "\n",
    "df_CID = Instance_CID.Reorder_Columns()\n",
    "df_CID_UF = Instance_CID.Add_U_Factors()\n",
    "df_CID_UP = Instance_CID.Add_U_Prices()\n",
    "\n",
    "df_CID.shape"
   ]
  },
  {
   "cell_type": "markdown",
   "metadata": {
    "ExecuteTime": {
     "end_time": "2019-10-16T08:17:29.059136Z",
     "start_time": "2019-10-16T08:17:28.849905Z"
    }
   },
   "source": [
    "Instance_CCD = CCD_Type()\n",
    "\n",
    "df_CCD = Instance_CCD.Reorder_Columns()\n",
    "df_CCD_UF = Instance_CCD.Add_U_Factors()\n",
    "df_CCD_UP = Instance_CCD.Add_U_Prices()\n",
    "\n",
    "df_CCD.shape"
   ]
  },
  {
   "cell_type": "markdown",
   "metadata": {
    "ExecuteTime": {
     "end_time": "2019-10-16T08:17:29.340807Z",
     "start_time": "2019-10-16T08:17:29.061609Z"
    }
   },
   "source": [
    "Instance_ID = ID_Type()\n",
    "\n",
    "df_ID = Instance_ID.Reorder_Columns()\n",
    "df_ID_UF = Instance_ID.Add_U_Factors()\n",
    "df_ID_UP = Instance_ID.Add_U_Prices()\n",
    "\n",
    "df_ID.shape"
   ]
  },
  {
   "cell_type": "markdown",
   "metadata": {},
   "source": [
    "## Data retention"
   ]
  },
  {
   "cell_type": "code",
   "execution_count": 6,
   "metadata": {
    "ExecuteTime": {
     "end_time": "2019-10-20T10:02:04.764257Z",
     "start_time": "2019-10-20T10:02:03.615196Z"
    }
   },
   "outputs": [],
   "source": [
    "df_CID.to_csv(\n",
    "    '../Output_Data_CSV/Combination_with_Input_Data/CID_Type_Dwellings.csv',\n",
    "    sep=';',\n",
    "    index=None,\n",
    "    header=True,\n",
    "    encoding='utf-8')\n",
    "\n",
    "df_CID_UF.to_csv(\n",
    "    '../Output_Data_CSV/Combination_with_Input_Data/CID_Type_Dwellings_with_U_Factors.csv',\n",
    "    sep=';',\n",
    "    index=None,\n",
    "    header=True,\n",
    "    encoding='utf-8')\n",
    "\n",
    "df_CID_UP.to_csv(\n",
    "    '../Output_Data_CSV/Combination_with_Input_Data/CID_Type_Dwellings_with_U_Prices.csv',\n",
    "    sep=';',\n",
    "    index=None,\n",
    "    header=True,\n",
    "    encoding='utf-8')\n",
    "\n",
    "#df_CCD.to_csv(\n",
    "#    '../Output_Data_CSV/Combination_with_Input_Data/CCD_Type_Dwellings.csv',\n",
    "#    sep=';',\n",
    "#    index=None,\n",
    "#    header=True,\n",
    "#    encoding='utf-8')\n",
    "#\n",
    "#df_CCD_UF.to_csv(\n",
    "#    '../Output_Data_CSV/Combination_with_Input_Data/CCD_Type_Dwellings_with_U_Factors.csv',\n",
    "#    sep=';',\n",
    "#    index=None,\n",
    "#    header=True,\n",
    "#    encoding='utf-8')\n",
    "#\n",
    "#df_CCD_UP.to_csv(\n",
    "#    '../Output_Data_CSV/Combination_with_Input_Data/CCD_Type_Dwellings_with_U_Prices.csv',\n",
    "#    sep=';',\n",
    "#    index=None,\n",
    "#    header=True,\n",
    "#    encoding='utf-8')\n",
    "#\n",
    "#df_ID.to_csv(\n",
    "#    '../Output_Data_CSV/Combination_with_Input_Data/ID_Type_Dwellings.csv',\n",
    "#    sep=';',\n",
    "#    index=None,\n",
    "#    header=True,\n",
    "#    encoding='utf-8')\n",
    "#\n",
    "#df_ID_UF.to_csv(\n",
    "#    '../Output_Data_CSV/Combination_with_Input_Data/ID_Type_Dwellings_with_U_Factors.csv',\n",
    "#    sep=';',\n",
    "#    index=None,\n",
    "#    header=True,\n",
    "#    encoding='utf-8')\n",
    "#\n",
    "#df_ID_UP.to_csv(\n",
    "#    '../Output_Data_CSV/Combination_with_Input_Data/ID_Type_Dwellings_with_U_Prices.csv',\n",
    "#    sep=';',\n",
    "#    index=None,\n",
    "#    header=True,\n",
    "#    encoding='utf-8')"
   ]
  },
  {
   "cell_type": "markdown",
   "metadata": {},
   "source": [
    "# Creation of some calculable columns for the initial heating system\n",
    "\n",
    "## Class for all types of dwellings"
   ]
  },
  {
   "cell_type": "code",
   "execution_count": 7,
   "metadata": {
    "ExecuteTime": {
     "end_time": "2019-10-20T10:02:04.771147Z",
     "start_time": "2019-10-20T10:02:04.765966Z"
    }
   },
   "outputs": [],
   "source": [
    "class Calculable_Columns:\n",
    "    def __init__(self, df):\n",
    "        self.df = df\n",
    "\n",
    "    def Rename_Columns(self):\n",
    "        self.df.columns = self.df.columns.str.replace(' ', '_')\n",
    "        return self.df"
   ]
  },
  {
   "cell_type": "markdown",
   "metadata": {},
   "source": [
    "## Class for the collective dwellings"
   ]
  },
  {
   "cell_type": "code",
   "execution_count": 8,
   "metadata": {
    "ExecuteTime": {
     "end_time": "2019-10-20T10:02:04.904350Z",
     "start_time": "2019-10-20T10:02:04.896671Z"
    }
   },
   "outputs": [],
   "source": [
    "class Calculable_Columns_for_CxD(Calculable_Columns):\n",
    "    def init(self, df):\n",
    "        super().init(df)\n",
    "\n",
    "    def Surface_M(self):\n",
    "        self.Rename_Columns()\n",
    "        self.df['Surface_M'] = np.multiply(\n",
    "            np.multiply(\n",
    "                np.multiply(\n",
    "                    np.subtract(1, self.df.Share_of_Windows),\n",
    "                    np.sqrt(\n",
    "                        np.multiply(self.df.Surface,\n",
    "                                    self.df.Dwelling_per_Floor))), 4),\n",
    "            np.multiply(self.df.Ceiling_Height, np.add(self.df.Floors, 1)))\n",
    "        return self.df\n",
    "\n",
    "    def Surface_W(self):\n",
    "        self.Rename_Columns()\n",
    "        self.df['Surface_W'] = np.multiply(\n",
    "            np.multiply(\n",
    "                np.multiply(\n",
    "                    self.df.Share_of_Windows,\n",
    "                    np.sqrt(\n",
    "                        np.multiply(self.df.Surface,\n",
    "                                    self.df.Dwelling_per_Floor))), 4),\n",
    "            np.multiply(self.df.Ceiling_Height, np.add(self.df.Floors, 1)))\n",
    "        return self.df"
   ]
  },
  {
   "cell_type": "markdown",
   "metadata": {},
   "source": [
    "### Class for the DataFrame with U Factors"
   ]
  },
  {
   "cell_type": "code",
   "execution_count": 9,
   "metadata": {
    "ExecuteTime": {
     "end_time": "2019-10-20T10:02:05.425018Z",
     "start_time": "2019-10-20T10:02:05.409827Z"
    }
   },
   "outputs": [],
   "source": [
    "class Columns_for_CxD_U_Factors(Calculable_Columns_for_CxD):\n",
    "    def init(self, df):\n",
    "        super().init(df)\n",
    "\n",
    "    def Surface_R(self):\n",
    "        self.Rename_Columns()\n",
    "        self.df['Surface_R'] = np.multiply(self.df.Surface,\n",
    "                                           self.df.Dwelling_per_Floor)\n",
    "        return self.df\n",
    "\n",
    "    def Heightened_Surface_Habitable(self):\n",
    "        self.Surface_R()\n",
    "        self.df['Heightened_Surface_Habitable'] = np.multiply(\n",
    "            np.multiply(self.df.Surface_R, np.add(self.df.Floors, 1)),\n",
    "            self.df.Ceiling_Height)\n",
    "        return self.df\n",
    "\n",
    "    def UEN_per_Dwelling_2(self):\n",
    "        self.Rename_Columns()\n",
    "        self.df['UEN_per_Dwelling_2'] = np.multiply(\n",
    "            np.multiply(\n",
    "                np.multiply(self.df.Ceiling_Height, self.df.Intermittence),\n",
    "                np.multiply(self.df.Degrees_of_Reference, self.df.Surface)),\n",
    "            0.01)\n",
    "        return self.df\n",
    "\n",
    "    def Weighted_Surface(self):\n",
    "        self.Surface_M()\n",
    "        self.Surface_W()\n",
    "        self.Surface_R()\n",
    "        self.df.loc[:, 'Um0':'Um18'] = self.df.loc[:, 'Um0':'Um18'].apply(\n",
    "            lambda x: np.multiply(x, self.df.Surface_M))\n",
    "        self.df.loc[:, 'Uw0':'Uw3'] = self.df.loc[:, 'Uw0':'Uw3'].apply(\n",
    "            lambda x: np.multiply(x, self.df.Surface_W))\n",
    "        self.df.loc[:, 'Ur0':'Ur3'] = self.df.loc[:, 'Ur0':'Ur3'].apply(\n",
    "            lambda x: np.multiply(x, self.df.Surface_R))\n",
    "        self.df.loc[:, 'Uf0':'Uf5'] = self.df.loc[:, 'Uf0':'Uf5'].apply(\n",
    "            lambda x: np.multiply(x, self.df.Surface_R))\n",
    "        return self.df\n",
    "\n",
    "    def Duo_Weighted_Surface(self):\n",
    "        self.Weighted_Surface()\n",
    "        columns_list = []\n",
    "        columns_list_1 = []\n",
    "        columns_list_2 = []\n",
    "        for m in range(19):\n",
    "            for w in range(4):\n",
    "                column_name = 'U_m' + str(m) + '_w' + str(w)\n",
    "                columns_list_1.append(column_name)\n",
    "        for r in range(4):\n",
    "            for f in range(6):\n",
    "                column_name = 'U_r' + str(r) + '_f' + str(f)\n",
    "                columns_list_2.append(column_name)\n",
    "        columns_list = columns_list_1 + columns_list_2\n",
    "        self.df = pd.concat([\n",
    "            self.df,\n",
    "            pd.DataFrame(0, index=self.df.index, columns=columns_list)\n",
    "        ],\n",
    "                            axis=1)\n",
    "        self.df[columns_list_1] = self.df[columns_list_1].apply(\n",
    "            lambda x: np.add(self.df['U' + x.name.split('_')[1]], self.df[\n",
    "                'U' + x.name.split('_')[2]]))\n",
    "        self.df[columns_list_2] = self.df[columns_list_2].apply(\n",
    "            lambda x: np.add(self.df['U' + x.name.split('_')[1]], self.df[\n",
    "                'U' + x.name.split('_')[2]]))\n",
    "        selected_columns = self.df.loc[:, 'Um0':'Uf5'].columns.tolist()\n",
    "        self.df = self.df.drop(selected_columns, axis=1)\n",
    "        return self.df\n",
    "\n",
    "    def Add_Created_Columns(self):\n",
    "        self.Heightened_Surface_Habitable()\n",
    "        self.UEN_per_Dwelling_2()\n",
    "        self.Duo_Weighted_Surface()\n",
    "        return self.df"
   ]
  },
  {
   "cell_type": "markdown",
   "metadata": {},
   "source": [
    "### Class for the DataFrame with U Prices"
   ]
  },
  {
   "cell_type": "code",
   "execution_count": 10,
   "metadata": {
    "ExecuteTime": {
     "end_time": "2019-10-20T10:02:05.969832Z",
     "start_time": "2019-10-20T10:02:05.952276Z"
    }
   },
   "outputs": [],
   "source": [
    "class Columns_for_CxD_U_Prices(Calculable_Columns_for_CxD):\n",
    "    def init(self, df):\n",
    "        super().init(df)\n",
    "\n",
    "    def Dwelling_Total(self):\n",
    "        self.Rename_Columns()\n",
    "        self.df['Dwelling_Total'] = np.multiply(self.df.Dwelling_per_Floor,\n",
    "                                                np.add(self.df.Floors, 1))\n",
    "        return self.df\n",
    "\n",
    "    def Priced_Surface(self):\n",
    "        self.Surface_M()\n",
    "        self.Surface_W()\n",
    "        self.Dwelling_Total()\n",
    "        self.df.loc[:, 'Um0':'Um18'] = self.df.loc[:, 'Um0':'Um18'].apply(\n",
    "            lambda x: np.multiply(\n",
    "                x, np.divide(self.df.Surface_M, self.df.Dwelling_Total)))\n",
    "        self.df.loc[:, 'Uw0':'Uw3'] = self.df.loc[:, 'Uw0':'Uw3'].apply(\n",
    "            lambda x: np.multiply(\n",
    "                x, np.divide(self.df.Surface_W, self.df.Dwelling_Total)))\n",
    "        self.df.loc[:, 'Ur0':'Ur3'] = self.df.loc[:, 'Ur0':'Ur3'].apply(\n",
    "            lambda x: np.multiply(\n",
    "                x, np.divide(self.df.Surface, np.add(self.df.Floors, 1))))\n",
    "        self.df.loc[:, 'Uf0':'Uf5'] = self.df.loc[:, 'Uf0':'Uf5'].apply(\n",
    "            lambda x: np.multiply(\n",
    "                x, np.divide(self.df.Surface, np.add(self.df.Floors, 1))))\n",
    "        return self.df\n",
    "\n",
    "    def Duo_Priced_Surface(self):\n",
    "        self.Priced_Surface()\n",
    "        columns_list = []\n",
    "        columns_list_1 = []\n",
    "        columns_list_2 = []\n",
    "        for m in range(19):\n",
    "            for w in range(4):\n",
    "                column_name = 'U_m' + str(m) + '_w' + str(w)\n",
    "                columns_list_1.append(column_name)\n",
    "        for r in range(4):\n",
    "            for f in range(6):\n",
    "                column_name = 'U_r' + str(r) + '_f' + str(f)\n",
    "                columns_list_2.append(column_name)\n",
    "        columns_list = columns_list_1 + columns_list_2\n",
    "        self.df = pd.concat([\n",
    "            self.df,\n",
    "            pd.DataFrame(0, index=self.df.index, columns=columns_list)\n",
    "        ],\n",
    "                            axis=1)\n",
    "        self.df[columns_list_1] = self.df[columns_list_1].apply(\n",
    "            lambda x: np.add(self.df['U' + x.name.split('_')[1]], self.df[\n",
    "                'U' + x.name.split('_')[2]]))\n",
    "        self.df[columns_list_2] = self.df[columns_list_2].apply(\n",
    "            lambda x: np.add(self.df['U' + x.name.split('_')[1]], self.df[\n",
    "                'U' + x.name.split('_')[2]]))\n",
    "        selected_columns = self.df.loc[:, 'Um0':'Uf5'].columns.tolist()\n",
    "        self.df = self.df.drop(selected_columns, axis=1)\n",
    "        return self.df\n",
    "\n",
    "    def Add_Created_Columns(self):\n",
    "        self.Duo_Priced_Surface()\n",
    "        return self.df"
   ]
  },
  {
   "cell_type": "markdown",
   "metadata": {},
   "source": [
    "## Class for the individual dwellings"
   ]
  },
  {
   "cell_type": "markdown",
   "metadata": {
    "ExecuteTime": {
     "end_time": "2019-10-18T16:50:33.323632Z",
     "start_time": "2019-10-18T16:50:33.317412Z"
    }
   },
   "source": [
    "class Calculable_Columns_for_ID(Calculable_Columns):\n",
    "    def init(self, df, year):\n",
    "        super().init(df)\n",
    "\n",
    "    def Surface_M(self):\n",
    "        self.Rename_Columns()\n",
    "        self.df['Surface_M'] = np.multiply(\n",
    "            np.multiply(\n",
    "                np.multiply(\n",
    "                    np.subtract(1, self.df.Share_of_Windows),\n",
    "                    np.sqrt(\n",
    "                        np.divide(self.df.Surface, np.add(self.df.Floors,\n",
    "                                                          1)))), 4),\n",
    "            np.multiply(self.df.Ceiling_Height, np.add(self.df.Floors, 1)))\n",
    "        return self.df\n",
    "\n",
    "    def Surface_W(self):\n",
    "        self.Rename_Columns()\n",
    "        self.df['Surface_W'] = np.multiply(\n",
    "            np.multiply(\n",
    "                np.multiply(\n",
    "                    self.df.Share_of_Windows,\n",
    "                    np.sqrt(\n",
    "                        np.divide(self.df.Surface, np.add(self.df.Floors,\n",
    "                                                          1)))), 4),\n",
    "            np.multiply(self.df.Ceiling_Height, np.add(self.df.Floors, 1)))\n",
    "        return self.df"
   ]
  },
  {
   "cell_type": "markdown",
   "metadata": {},
   "source": [
    "### Class for the DataFrame with U Factors"
   ]
  },
  {
   "cell_type": "markdown",
   "metadata": {
    "ExecuteTime": {
     "end_time": "2019-10-18T16:50:33.850026Z",
     "start_time": "2019-10-18T16:50:33.831574Z"
    }
   },
   "source": [
    "class Columns_for_ID_U_Factors(Calculable_Columns_for_ID):\n",
    "    def init(self, df):\n",
    "        super().init(df)\n",
    "\n",
    "    def Surface_R(self):\n",
    "        self.Rename_Columns()\n",
    "        self.df['Surface_R'] = np.divide(self.df.Surface,\n",
    "                                         np.add(self.df.Floors, 1))\n",
    "        return self.df\n",
    "\n",
    "    def Heightened_Surface_Habitable(self):\n",
    "        self.Surface_R()\n",
    "        self.df['Heightened_Surface_Habitable'] = np.multiply(\n",
    "            self.df.Surface, self.df.Ceiling_Height)\n",
    "        return self.df\n",
    "\n",
    "    def UEN_per_Dwelling_2(self):\n",
    "        self.Rename_Columns()\n",
    "        self.df['UEN_per_Dwelling_2'] = np.multiply(\n",
    "            np.multiply(\n",
    "                np.multiply(self.df.Ceiling_Height, self.df.Intermittence),\n",
    "                np.multiply(self.df.Degrees_of_Reference, self.df.Surface)),\n",
    "            0.01)\n",
    "        return self.df\n",
    "\n",
    "    def Weighted_Surface(self):\n",
    "        self.Surface_M()\n",
    "        self.Surface_W()\n",
    "        self.Surface_R()\n",
    "        self.df.loc[:, 'Um0':'Um19'] = self.df.loc[:, 'Um0':'Um19'].apply(\n",
    "            lambda x: np.multiply(x, self.df.Surface_M))\n",
    "        self.df.loc[:, 'Uw0':'Uw3'] = self.df.loc[:, 'Uw0':'Uw3'].apply(\n",
    "            lambda x: np.multiply(x, self.df.Surface_W))\n",
    "        self.df.loc[:, 'Ur0':'Ur7'] = self.df.loc[:, 'Ur0':'Ur7'].apply(\n",
    "            lambda x: np.multiply(x, self.df.Surface_R))\n",
    "        self.df.loc[:, 'Uf0':'Uf3'] = self.df.loc[:, 'Uf0':'Uf3'].apply(\n",
    "            lambda x: np.multiply(x, self.df.Surface_R))\n",
    "        return self.df\n",
    "\n",
    "    def Duo_Weighted_Surface(self):\n",
    "        self.Weighted_Surface()\n",
    "        columns_list = []\n",
    "        columns_list_1 = []\n",
    "        columns_list_2 = []\n",
    "        for m in range(20):\n",
    "            for w in range(4):\n",
    "                column_name = 'U_m' + str(m) + '_w' + str(w)\n",
    "                columns_list_1.append(column_name)\n",
    "        for r in range(8):\n",
    "            for f in range(4):\n",
    "                column_name = 'U_r' + str(r) + '_f' + str(f)\n",
    "                columns_list_2.append(column_name)\n",
    "        columns_list = columns_list_1 + columns_list_2\n",
    "        self.df = pd.concat([\n",
    "            self.df,\n",
    "            pd.DataFrame(0, index=self.df.index, columns=columns_list)\n",
    "        ],\n",
    "                            axis=1)\n",
    "        self.df[columns_list_1] = self.df[columns_list_1].apply(\n",
    "            lambda x: np.add(self.df['U' + x.name.split('_')[1]], self.df[\n",
    "                'U' + x.name.split('_')[2]]))\n",
    "        self.df[columns_list_2] = self.df[columns_list_2].apply(\n",
    "            lambda x: np.add(self.df['U' + x.name.split('_')[1]], self.df[\n",
    "                'U' + x.name.split('_')[2]]))\n",
    "        selected_columns = self.df.loc[:, 'Um0':'Uf3'].columns.tolist()\n",
    "        self.df = self.df.drop(selected_columns, axis=1)\n",
    "        return self.df\n",
    "\n",
    "    def Add_Created_Columns(self):\n",
    "        self.Heightened_Surface_Habitable()\n",
    "        self.UEN_per_Dwelling_2()\n",
    "        self.Duo_Weighted_Surface()\n",
    "        self.UEN_Cost_1()\n",
    "        self.UEN_Cost_2()\n",
    "        self.UEN_Cost_3()\n",
    "        return self.df"
   ]
  },
  {
   "cell_type": "markdown",
   "metadata": {},
   "source": [
    "### Class for the DataFrame with U Prices"
   ]
  },
  {
   "cell_type": "markdown",
   "metadata": {
    "ExecuteTime": {
     "end_time": "2019-10-18T16:50:34.345482Z",
     "start_time": "2019-10-18T16:50:34.329739Z"
    }
   },
   "source": [
    "class Columns_for_ID_U_Prices(Calculable_Columns_for_ID):\n",
    "    def init(self, df):\n",
    "        super().init(df)\n",
    "\n",
    "    def Dwelling_Total(self):\n",
    "        self.Rename_Columns()\n",
    "        self.df['Dwelling_Total'] = 1\n",
    "        return self.df\n",
    "\n",
    "    def Priced_Surface(self):\n",
    "        self.Surface_M()\n",
    "        self.Surface_W()\n",
    "        self.Dwelling_Total()\n",
    "        self.df.loc[:, 'Um0':'Um19'] = self.df.loc[:, 'Um0':'Um19'].apply(\n",
    "            lambda x: np.multiply(\n",
    "                x, np.divide(self.df.Surface_M, self.df.Dwelling_Total)))\n",
    "        self.df.loc[:, 'Uw0':'Uw3'] = self.df.loc[:, 'Uw0':'Uw3'].apply(\n",
    "            lambda x: np.multiply(\n",
    "                x, np.divide(self.df.Surface_W, self.df.Dwelling_Total)))\n",
    "        self.df.loc[:, 'Ur0':'Ur7'] = self.df.loc[:, 'Ur0':'Ur7'].apply(\n",
    "            lambda x: np.multiply(\n",
    "                x, np.divide(self.df.Surface, np.add(self.df.Floors, 1))))\n",
    "        self.df.loc[:, 'Uf0':'Uf3'] = self.df.loc[:, 'Uf0':'Uf3'].apply(\n",
    "            lambda x: np.multiply(\n",
    "                x, np.divide(self.df.Surface, np.add(self.df.Floors, 1))))\n",
    "        return self.df\n",
    "\n",
    "    def Duo_Priced_Surface(self):\n",
    "        self.Priced_Surface()\n",
    "        columns_list = []\n",
    "        columns_list_1 = []\n",
    "        columns_list_2 = []\n",
    "        for m in range(20):\n",
    "            for w in range(4):\n",
    "                column_name = 'U_m' + str(m) + '_w' + str(w)\n",
    "                columns_list_1.append(column_name)\n",
    "        for r in range(8):\n",
    "            for f in range(4):\n",
    "                column_name = 'U_r' + str(r) + '_f' + str(f)\n",
    "                columns_list_2.append(column_name)\n",
    "        columns_list = columns_list_1 + columns_list_2\n",
    "        self.df = pd.concat([\n",
    "            self.df,\n",
    "            pd.DataFrame(0, index=self.df.index, columns=columns_list)\n",
    "        ],\n",
    "                            axis=1)\n",
    "        self.df[columns_list_1] = self.df[columns_list_1].apply(\n",
    "            lambda x: np.add(self.df['U' + x.name.split('_')[1]], self.df[\n",
    "                'U' + x.name.split('_')[2]]))\n",
    "        self.df[columns_list_2] = self.df[columns_list_2].apply(\n",
    "            lambda x: np.add(self.df['U' + x.name.split('_')[1]], self.df[\n",
    "                'U' + x.name.split('_')[2]]))\n",
    "        selected_columns = self.df.loc[:, 'Um0':'Uf3'].columns.tolist()\n",
    "        self.df = self.df.drop(selected_columns, axis=1)\n",
    "        return self.df\n",
    "\n",
    "    def Add_Created_Columns(self):\n",
    "        self.Duo_Priced_Surface()\n",
    "        self.Fixed_Cost_1()\n",
    "        self.Fixed_Cost_3()\n",
    "        self.Fixed_Cost_5()\n",
    "        return self.df"
   ]
  },
  {
   "cell_type": "markdown",
   "metadata": {},
   "source": [
    "## Class instantiation for each type of dwelling"
   ]
  },
  {
   "cell_type": "code",
   "execution_count": 11,
   "metadata": {
    "ExecuteTime": {
     "end_time": "2019-10-20T10:02:09.482287Z",
     "start_time": "2019-10-20T10:02:09.093040Z"
    }
   },
   "outputs": [
    {
     "data": {
      "text/plain": [
       "(11340, 119)"
      ]
     },
     "execution_count": 11,
     "metadata": {},
     "output_type": "execute_result"
    }
   ],
   "source": [
    "Instance_df_CID_UF = Columns_for_CxD_U_Factors(df_CID_UF)\n",
    "\n",
    "Prepared_df_CID_UF = Instance_df_CID_UF.Add_Created_Columns()\n",
    "\n",
    "Prepared_df_CID_UF.shape"
   ]
  },
  {
   "cell_type": "code",
   "execution_count": 12,
   "metadata": {
    "ExecuteTime": {
     "end_time": "2019-10-20T10:02:10.020501Z",
     "start_time": "2019-10-20T10:02:09.484391Z"
    }
   },
   "outputs": [
    {
     "data": {
      "text/plain": [
       "(11340, 117)"
      ]
     },
     "execution_count": 12,
     "metadata": {},
     "output_type": "execute_result"
    }
   ],
   "source": [
    "Instance_df_CID_UP = Columns_for_CxD_U_Prices(df_CID_UP)\n",
    "\n",
    "Prepared_df_CID_UP = Instance_df_CID_UP.Add_Created_Columns()\n",
    "\n",
    "Prepared_df_CID_UP.shape"
   ]
  },
  {
   "cell_type": "markdown",
   "metadata": {
    "ExecuteTime": {
     "end_time": "2019-10-16T08:17:37.016504Z",
     "start_time": "2019-10-16T08:17:36.476832Z"
    }
   },
   "source": [
    "Instance_df_CCD_UF = Columns_for_CxD_U_Factors(df_CCD_UF, 0)\n",
    "\n",
    "Prepared_df_CCD_UF = Instance_df_CCD_UF.Add_Created_Columns()\n",
    "\n",
    "Prepared_df_CCD_UF.shape"
   ]
  },
  {
   "cell_type": "markdown",
   "metadata": {
    "ExecuteTime": {
     "end_time": "2019-10-16T08:17:37.560832Z",
     "start_time": "2019-10-16T08:17:37.018276Z"
    }
   },
   "source": [
    "Instance_df_CCD_UP = Columns_for_CxD_U_Prices(df_CCD_UP, 0)\n",
    "\n",
    "Prepared_df_CCD_UP = Instance_df_CCD_UP.Add_Created_Columns()\n",
    "\n",
    "Prepared_df_CCD_UP.shape"
   ]
  },
  {
   "cell_type": "markdown",
   "metadata": {
    "ExecuteTime": {
     "end_time": "2019-10-16T08:17:38.310998Z",
     "start_time": "2019-10-16T08:17:37.562595Z"
    }
   },
   "source": [
    "Instance_df_ID_UF = Columns_for_ID_U_Factors(df_ID_UF, 0)\n",
    "\n",
    "Prepared_df_ID_UF = Instance_df_ID_UF.Add_Created_Columns()\n",
    "\n",
    "Prepared_df_ID_UF.shape"
   ]
  },
  {
   "cell_type": "markdown",
   "metadata": {
    "ExecuteTime": {
     "end_time": "2019-10-16T08:17:39.160761Z",
     "start_time": "2019-10-16T08:17:38.315727Z"
    }
   },
   "source": [
    "Instance_df_ID_UP = Columns_for_ID_U_Prices(df_ID_UF, 0)\n",
    "\n",
    "Prepared_df_ID_UP = Instance_df_ID_UP.Add_Created_Columns()\n",
    "\n",
    "Prepared_df_ID_UP.shape"
   ]
  },
  {
   "cell_type": "markdown",
   "metadata": {},
   "source": [
    "# Creation of some calculable DataFrames by adding targeted heating system's information\n",
    "\n",
    "## Class for all types of dwellings"
   ]
  },
  {
   "cell_type": "code",
   "execution_count": 13,
   "metadata": {
    "ExecuteTime": {
     "end_time": "2019-10-20T10:02:11.780393Z",
     "start_time": "2019-10-20T10:02:11.751758Z"
    }
   },
   "outputs": [],
   "source": [
    "class Calculable_DFs:\n",
    "    def __init__(self, df, year, *args):\n",
    "        self.df = df\n",
    "        self.year = year\n",
    "        self.df_HS = df_Heating_System\n",
    "        self.df_EH = df_Economic_Hypothesis\n",
    "\n",
    "    def Rename_Columns(self):\n",
    "        self.df_T.columns = self.df_T.columns.str.replace(' ', '_')\n",
    "        return self.df_T\n",
    "\n",
    "    def Carbon_Tax(self):\n",
    "        self.df_T['Carbon_Tax'] = np.multiply(self.df_T.Emission_Factor,\n",
    "                                              self.df_T.Carbon_Price)\n",
    "        return self.df_T\n",
    "\n",
    "    def Energy_Bill(self):\n",
    "        self.Carbon_Tax()\n",
    "        self.df_T['Energy_Bill'] = 0\n",
    "        for i in range(1, 41):\n",
    "            self.df_T['Energy_Bill'] = np.add(\n",
    "                np.divide(\n",
    "                    np.add(\n",
    "                        np.multiply(\n",
    "                            self.df_T.Energy_Price,\n",
    "                            np.power(np.add(1, self.df_T.Annual_Variation),\n",
    "                                     np.add(i, np.subtract(self.year, 2)))),\n",
    "                        self.df_T.Carbon_Tax),\n",
    "                    np.power(np.add(1, self.df_T.Discount_Rate), i)),\n",
    "                self.df_T.Energy_Bill)\n",
    "        return self.df_T\n",
    "\n",
    "    def Inflation_Rate_1st(self):\n",
    "        self.df_T['Inflation_Rate_1st'] = np.power(\n",
    "            np.add(1, self.df_T.Inflation_Rate),\n",
    "            np.subtract(np.add(18, self.year), self.df_T.Initial_Age))\n",
    "        return self.df_T\n",
    "\n",
    "    def Inflation_Rate_2nd(self):\n",
    "        self.df_T['Inflation_Rate_2nd'] = np.power(\n",
    "            np.add(1, self.df_T.Inflation_Rate),\n",
    "            np.subtract(np.add(38, self.year), self.df_T.Initial_Age))\n",
    "        return self.df_T\n",
    "\n",
    "    def Discount_1st(self):\n",
    "        self.df_T['Discount_1st'] = np.power(\n",
    "            np.add(1, self.df_T.Discount_Rate),\n",
    "            np.subtract(19, self.df_T.Initial_Age))\n",
    "        return self.df_T\n",
    "\n",
    "    def Discount_2nd(self):\n",
    "        self.df_T['Discount_2nd'] = np.power(\n",
    "            np.add(1, self.df_T.Discount_Rate),\n",
    "            np.subtract(39, self.df_T.Initial_Age))\n",
    "        return self.df_T\n",
    "\n",
    "    def Time_Factor_1(self):\n",
    "        self.Inflation_Rate_1st()\n",
    "        self.Inflation_Rate_2nd()\n",
    "        self.Discount_1st()\n",
    "        self.Discount_2nd()\n",
    "        self.df_T['Time_Factor_1'] = np.divide(\n",
    "            np.add(\n",
    "                np.multiply(self.df_T.Inflation_Rate_1st,\n",
    "                            self.df_T.Discount_2nd),\n",
    "                np.multiply(self.df_T.Inflation_Rate_2nd,\n",
    "                            self.df_T.Discount_1st)),\n",
    "            np.multiply(self.df_T.Discount_1st, self.df_T.Discount_2nd))\n",
    "        return self.df_T\n",
    "\n",
    "    def UEN_Cost_1(self):\n",
    "        self.Energy_Bill()\n",
    "        self.Time_Factor_1()\n",
    "        self.df_T['UEN_Cost_1'] = np.add(\n",
    "            np.multiply(self.df_T.B_Investment, self.df_T.Time_Factor_1),\n",
    "            np.divide(self.df_T.Energy_Bill, self.df_T.Efficiency))\n",
    "        return self.df_T\n",
    "\n",
    "    def Discount_20(self):\n",
    "        self.df_T['Discount_20'] = np.power(np.add(1, self.df_T.Discount_Rate),\n",
    "                                            20)\n",
    "        return self.df_T\n",
    "\n",
    "    def Inflation_Rate_0(self):\n",
    "        self.df_T['Inflation_Rate_0'] = np.power(\n",
    "            np.add(1, self.df_T.Inflation_Rate), np.subtract(self.year, 1))\n",
    "        return self.df_T\n",
    "\n",
    "    def Inflation_Rate_20(self):\n",
    "        self.df_T['Inflation_Rate_20'] = np.power(\n",
    "            np.add(1, self.df_T.Inflation_Rate), np.add(19, self.year))\n",
    "        return self.df_T\n",
    "\n",
    "    def Time_Factor_2(self):\n",
    "        self.Inflation_Rate_0()\n",
    "        self.Inflation_Rate_20()\n",
    "        self.Discount_20()\n",
    "        self.df_T['Time_Factor_2'] = np.divide(\n",
    "            np.add(\n",
    "                np.multiply(self.df_T.Discount_20, self.df_T.Inflation_Rate_0),\n",
    "                self.df_T.Inflation_Rate_20), self.df_T.Discount_20)\n",
    "        return self.df_T\n",
    "\n",
    "    def UEN_Cost_2(self):\n",
    "        self.Energy_Bill()\n",
    "        self.Time_Factor_2()\n",
    "        self.df_T['UEN_Cost_2'] = np.add(\n",
    "            np.multiply(self.df_T.B_Investment, self.df_T.Time_Factor_2),\n",
    "            np.divide(self.df_T.Energy_Bill, self.df_T.Efficiency))\n",
    "        return self.df_T\n",
    "\n",
    "    def No_Gas_Prices(self):\n",
    "        self.Carbon_Tax()\n",
    "        self.df_T['No_Gas_Prices'] = 0\n",
    "        for i in range(1, 41):\n",
    "            self.df_T['No_Gas_Prices'] = np.add(\n",
    "                np.divide(\n",
    "                    np.add(\n",
    "                        np.multiply(\n",
    "                            self.df_T.Specific_Gas_Price,\n",
    "                            np.power(np.add(1, self.df_T.Annual_Variation),\n",
    "                                     np.add(i, np.subtract(self.year, 2)))),\n",
    "                        self.df_T.Carbon_Tax),\n",
    "                    np.power(np.add(1, self.df_T.Discount_Rate), i),\n",
    "                ), self.df_T.No_Gas_Prices)\n",
    "        return self.df_T\n",
    "\n",
    "    def UEN_Cost_3(self):\n",
    "        self.No_Gas_Prices()\n",
    "        self.Time_Factor_2()\n",
    "        self.df_T['UEN_Cost_3'] = np.add(\n",
    "            np.multiply(self.df_T.B_Investment, self.df_T.Time_Factor_2),\n",
    "            np.divide(self.df_T.No_Gas_Prices, self.df_T.Efficiency))\n",
    "        return self.df_T\n",
    "\n",
    "    def Maintenance(self):\n",
    "        self.df_T['Maintenance'] = 0\n",
    "        for i in range(40):\n",
    "            self.df_T['Maintenance'] = np.add(\n",
    "                np.divide(\n",
    "                    np.multiply(\n",
    "                        self.df_T.Maintenance_Cost,\n",
    "                        np.power(np.add(1, self.df_T.Inflation_Rate),\n",
    "                                 np.add(i, np.subtract(self.year, 1)))),\n",
    "                    np.power(np.add(1, self.df_T.Discount_Rate), i)),\n",
    "                self.df_T.Maintenance)\n",
    "        return self.df_T\n",
    "\n",
    "    def Fixed_Cost_1(self):\n",
    "        self.Maintenance()\n",
    "        self.Time_Factor_1()\n",
    "        self.df_T['Fixed_Cost_1'] = np.add(\n",
    "            np.multiply(self.df_T.A_Investment, self.df_T.Time_Factor_1),\n",
    "            self.df_T.Maintenance)\n",
    "        return self.df_T\n",
    "\n",
    "    def Fixed_Cost_2(self):\n",
    "        self.Maintenance()\n",
    "        self.Time_Factor_2()\n",
    "        self.df_T['Fixed_Cost_2'] = np.add(\n",
    "            np.multiply(self.df_T.A_Investment, self.df_T.Time_Factor_2),\n",
    "            np.add(self.df_T.Maintenance, self.df_T.Same_Switch_Cost))\n",
    "        return self.df_T\n",
    "\n",
    "    def Fixed_Cost_4(self):\n",
    "        self.Maintenance()\n",
    "        self.Time_Factor_2()\n",
    "        self.df_T['Fixed_Cost_4'] = np.add(\n",
    "            np.multiply(self.df_T.A_Investment, self.df_T.Time_Factor_2),\n",
    "            np.add(self.df_T.Maintenance, self.df_T.Different_Switch_Cost))\n",
    "        return self.df_T\n",
    "\n",
    "    def Control_Cost(self):\n",
    "        self.df_T['Control_Cost'] = np.multiply(self.df_T.Delevery_Type_Cost,\n",
    "                                                self.df_T.Surface)\n",
    "        return self.df_T\n",
    "\n",
    "    def Fixed_Cost_3(self):\n",
    "        self.Fixed_Cost_2()\n",
    "        self.Control_Cost()\n",
    "        self.df_T['Fixed_Cost_3'] = np.add(self.df_T.Fixed_Cost_2,\n",
    "                                           self.df_T.Control_Cost)\n",
    "        return self.df_T\n",
    "\n",
    "    def Fixed_Cost_5(self):\n",
    "        self.Fixed_Cost_4()\n",
    "        self.Control_Cost()\n",
    "        self.df_T['Fixed_Cost_5'] = np.add(self.df_T.Fixed_Cost_4,\n",
    "                                           self.df_T.Control_Cost)\n",
    "        return self.df_T"
   ]
  },
  {
   "cell_type": "markdown",
   "metadata": {},
   "source": [
    "## Class for the CID type dwellings"
   ]
  },
  {
   "cell_type": "code",
   "execution_count": 14,
   "metadata": {
    "ExecuteTime": {
     "end_time": "2019-10-20T10:02:12.353421Z",
     "start_time": "2019-10-20T10:02:12.329808Z"
    }
   },
   "outputs": [],
   "source": [
    "class Calculable_DFs_for_CID(Calculable_DFs):\n",
    "    def init(self, df):\n",
    "        super().init(df)\n",
    "\n",
    "    def Add_Columns_HS_EH(self):\n",
    "        self.df_T = self.df_T.merge(self.df_HS.iloc[:9, :],\n",
    "                                    how='left',\n",
    "                                    on=['Heating System'])\n",
    "        self.df_T[self.df_EH.columns[1]] = self.df_EH.iloc[0, 1]\n",
    "        self.df_T[self.df_EH.columns[2]] = self.df_EH.iloc[0, 2]\n",
    "        self.df_T[self.df_EH.columns[3]] = self.df_EH.iloc[0, 3]\n",
    "        self.df_T[self.df_EH.columns[4]] = self.df_EH.iloc[0, 4]\n",
    "        self.Rename_Columns()\n",
    "        return self.df_T\n",
    "\n",
    "    def Add_ER_Columns(self):\n",
    "        columns_list = []\n",
    "        for m in range(19):\n",
    "            for w in range(4):\n",
    "                for r in range(4):\n",
    "                    for f in range(6):\n",
    "                        column_name = 'ER_m' + str(m) + '_w' + str(\n",
    "                            w) + '_r' + str(r) + '_f' + str(f)\n",
    "                        columns_list.append(column_name)\n",
    "        self.df = pd.concat([\n",
    "            self.df,\n",
    "            pd.DataFrame(0, index=self.df.index, columns=columns_list)\n",
    "        ],\n",
    "                            axis=1)\n",
    "        return self.df\n",
    "\n",
    "    def Fill_ER_Columns(self):\n",
    "        self.Add_ER_Columns()\n",
    "        selected_columns = self.df.loc[:, 'ER_m0_w0_r0_f0':\n",
    "                                       'ER_m18_w3_r3_f5'].columns.tolist()\n",
    "        self.df[selected_columns] = self.df[selected_columns].apply(\n",
    "            lambda x: np.add(\n",
    "                self.df['U_' + x.name.split('_')[1] + '_' + x.name.split('_')[\n",
    "                    2]], self.df['U_' + x.name.split('_')[3] + '_' + x.name.\n",
    "                                 split('_')[4]]))\n",
    "        selected_columns = self.df.loc[:, 'U_m0_w0':'U_r3_f5'].columns.tolist()\n",
    "        self.df = self.df.drop(selected_columns, axis=1)\n",
    "        return self.df\n",
    "\n",
    "    def Generate_GB_Columns(self):\n",
    "        self.Generate_ER_Columns()\n",
    "        duplicate_df = self.df.loc[:, 'ER_m0_w0_r0_f0':'ER_m18_w3_r3_f5']\n",
    "        duplicate_df.columns = duplicate_df.columns.str.replace('ER_', 'GB_')\n",
    "        self.df = pd.concat([self.df, duplicate_df], axis=1)\n",
    "        del duplicate_df\n",
    "        return self.df\n",
    "\n",
    "    def Generate_CGB_Columns(self):\n",
    "        self.Generate_GB_Columns()\n",
    "        duplicate_df = self.df.loc[:, 'ER_m0_w0_r0_f0':'ER_m18_w3_r3_f5']\n",
    "        duplicate_df.columns = duplicate_df.columns.str.replace('ER_', 'CGB_')\n",
    "        self.df = pd.concat([self.df, duplicate_df], axis=1)\n",
    "        del duplicate_df\n",
    "        return self.df\n",
    "\n",
    "    def Generate_OB_Columns(self):\n",
    "        self.Generate_CGB_Columns()\n",
    "        duplicate_df = self.df.loc[:, 'ER_m0_w0_r0_f0':'ER_m18_w3_r3_f5']\n",
    "        duplicate_df.columns = duplicate_df.columns.str.replace('ER_', 'OB_')\n",
    "        self.df = pd.concat([self.df, duplicate_df], axis=1)\n",
    "        del duplicate_df\n",
    "        return self.df\n",
    "\n",
    "    def Generate_COB_Columns(self):\n",
    "        self.Generate_OB_Columns()\n",
    "        duplicate_df = self.df.loc[:, 'ER_m0_w0_r0_f0':'ER_m18_w3_r3_f5']\n",
    "        duplicate_df.columns = duplicate_df.columns.str.replace('ER_', 'COB_')\n",
    "        self.df = pd.concat([self.df, duplicate_df], axis=1)\n",
    "        del duplicate_df\n",
    "        return self.df\n",
    "\n",
    "    def Generate_EHP2_Columns(self):\n",
    "        self.Generate_COB_Columns()\n",
    "        duplicate_df = self.df.loc[:, 'ER_m0_w0_r0_f0':'ER_m18_w3_r3_f5']\n",
    "        duplicate_df.columns = duplicate_df.columns.str.replace('ER_', 'EHP2_')\n",
    "        self.df = pd.concat([self.df, duplicate_df], axis=1)\n",
    "        del duplicate_df\n",
    "        return self.df\n",
    "\n",
    "    def Generate_WB_Columns(self):\n",
    "        self.Generate_EHP2_Columns()\n",
    "        duplicate_df = self.df.loc[:, 'ER_m0_w0_r0_f0':'ER_m18_w3_r3_f5']\n",
    "        duplicate_df.columns = duplicate_df.columns.str.replace('ER_', 'WB_')\n",
    "        self.df = pd.concat([self.df, duplicate_df], axis=1)\n",
    "        del duplicate_df\n",
    "        return self.df\n",
    "\n",
    "    def Generate_WPB_Columns(self):\n",
    "        self.Generate_WB_Columns()\n",
    "        duplicate_df = self.df.loc[:, 'ER_m0_w0_r0_f0':'ER_m18_w3_r3_f5']\n",
    "        duplicate_df.columns = duplicate_df.columns.str.replace('ER_', 'WPB_')\n",
    "        self.df = pd.concat([self.df, duplicate_df], axis=1)\n",
    "        del duplicate_df\n",
    "        return self.df\n",
    "\n",
    "    def Generate_EHP_Columns(self):\n",
    "        self.Generate_WPB_Columns()\n",
    "        duplicate_df = self.df.loc[:, 'ER_m0_w0_r0_f0':'ER_m18_w3_r3_f5']\n",
    "        duplicate_df.columns = duplicate_df.columns.str.replace('ER_', 'EHP_')\n",
    "        self.df = pd.concat([self.df, duplicate_df], axis=1)\n",
    "        del duplicate_df\n",
    "        return self.df"
   ]
  },
  {
   "cell_type": "markdown",
   "metadata": {},
   "source": [
    "### Class for the DataFrame with U Factors"
   ]
  },
  {
   "cell_type": "code",
   "execution_count": 15,
   "metadata": {
    "ExecuteTime": {
     "end_time": "2019-10-20T10:02:13.076875Z",
     "start_time": "2019-10-20T10:02:13.021989Z"
    }
   },
   "outputs": [],
   "source": [
    "class DF_for_CID_U_Factors(Calculable_DFs_for_CID):\n",
    "    def init(self, df):\n",
    "        super().init(df)\n",
    "\n",
    "    def Calculator_HS(self):\n",
    "        self.UEN_Cost_1()\n",
    "        self.UEN_Cost_3()\n",
    "        self.UEN_Cost_5()\n",
    "        return self.df_T\n",
    "\n",
    "    def Weighted_Surface_Total(self):\n",
    "        self.Fill_ER_Columns()\n",
    "        return self.df\n",
    "\n",
    "    def Enlarged_Weighted_Surface_Total(self):\n",
    "        self.Weighted_Surface_Total()\n",
    "        selected_columns = self.df.loc[:, 'ER_m0_w0_r0_f0':\n",
    "                                       'ER_m18_w3_r3_f5'].columns.tolist()\n",
    "        self.copied_df = self.df[selected_columns].copy()\n",
    "        self.copied_df = self.copied_df.apply(lambda x: np.add(\n",
    "            np.multiply(9, self.df.Heightened_Surface_Habitable),\n",
    "            np.multiply(2.5, x)))\n",
    "        return self.copied_df\n",
    "\n",
    "    def UEN_per_Dwelling_1(self):\n",
    "        self.Enlarged_Weighted_Surface_Total()\n",
    "        selected_columns = self.df.loc[:, 'ER_m0_w0_r0_f0':\n",
    "                                       'ER_m18_w3_r3_f5'].columns.tolist()\n",
    "        self.df[selected_columns] = self.df[selected_columns].div(\n",
    "            self.copied_df)\n",
    "        del self.copied_df\n",
    "        return self.df\n",
    "\n",
    "    def UEN_per_Dwelling(self):\n",
    "        self.UEN_per_Dwelling_1()\n",
    "        selected_columns = self.df.loc[:, 'ER_m0_w0_r0_f0':\n",
    "                                       'ER_m18_w3_r3_f5'].columns.tolist()\n",
    "        self.df[selected_columns] = self.df[selected_columns].apply(\n",
    "            lambda x: np.multiply(x, self.df.UEN_per_Dwelling_2))\n",
    "        return self.df\n",
    "\n",
    "    def Generate_ER_Columns(self):\n",
    "        self.UEN_per_Dwelling()\n",
    "        return self.df\n",
    "\n",
    "    def GHC_UEN_ER(self):\n",
    "        self.Generate_EHP_Columns()\n",
    "        selected_columns = self.df.loc[:, 'ER_m0_w0_r0_f0':\n",
    "                                       'ER_m18_w3_r3_f5'].columns.tolist()\n",
    "\n",
    "        self.df_T = self.df[selected_columns].T\n",
    "        selected_columns_T = self.df['Heating_System'].tolist()\n",
    "        self.df_T.columns = selected_columns_T\n",
    "        self.df_T['Heating System'] = 'ER'\n",
    "        self.Add_Columns_HS_EH()\n",
    "        self.Calculator_HS()\n",
    "\n",
    "        #condition_1 = self.df_T.Heating_System == 'ER'\n",
    "        #condition_1 = np.array(condition_1).reshape(self.df.shape[0], 1)\n",
    "        #condition_2 = ~condition_1\n",
    "        #A = np.array(self.df.loc[:, 'UEN_Cost_1']).reshape(self.df.shape[0], 1)\n",
    "        #B = np.array(self.df.loc[:, 'UEN_Cost_2']).reshape(self.df.shape[0], 1)\n",
    "        #matrix = self.df[selected_columns].values\n",
    "        #matrix = np.multiply(matrix, np.multiply(\n",
    "        #    condition_1, A)) + np.multiply(matrix, np.multiply(condition_2, B))\n",
    "        #df_matrix = pd.DataFrame(matrix, columns=selected_columns)\n",
    "        #self.df[selected_columns] = df_matrix\n",
    "        #del condition_1, condition_2, A, B, matrix, df_matrix\n",
    "        \n",
    "        return self.df_T\n",
    "\n",
    "    def GHC_UEN_GB(self):\n",
    "        self.GHC_UEN_ER()\n",
    "        selected_columns = self.df.loc[:, 'GB_m0_w0_r0_f0':\n",
    "                                       'GB_m18_w3_r3_f5'].columns.tolist()\n",
    "        condition_1 = self.df.Heating_System == 'GB'\n",
    "        condition_1 = np.array(condition_1).reshape(self.df.shape[0], 1)\n",
    "        condition_2 = (self.df.Heating_System == 'ER') | (\n",
    "            self.df.Heating_System == 'CGB') | (\n",
    "                self.df.Heating_System == 'EHP2') | (\n",
    "                    self.df.Heating_System == 'WB') | (\n",
    "                        self.df.Heating_System == 'WPB') | (\n",
    "                            self.df.Heating_System == 'EHP')\n",
    "        condition_2 = np.array(condition_2).reshape(self.df.shape[0], 1)\n",
    "        condition_3 = (self.df.Heating_System == 'OB') | (\n",
    "            self.df.Heating_System == 'COB')\n",
    "        condition_3 = np.array(condition_3).reshape(self.df.shape[0], 1)\n",
    "        A = np.array(self.df.loc[:, 'UEN_Cost_1']).reshape(self.df.shape[0], 1)\n",
    "        B = np.array(self.df.loc[:, 'UEN_Cost_2']).reshape(self.df.shape[0], 1)\n",
    "        C = np.array(self.df.loc[:, 'UEN_Cost_3']).reshape(self.df.shape[0], 1)\n",
    "        matrix = self.df[selected_columns].values\n",
    "        matrix = np.multiply(\n",
    "            matrix, np.multiply(condition_1, A)) + np.multiply(\n",
    "                matrix, np.multiply(condition_2, B)) + np.multiply(\n",
    "                    matrix, np.multiply(condition_3, C))\n",
    "        df_matrix = pd.DataFrame(matrix, columns=selected_columns)\n",
    "        self.df[selected_columns] = df_matrix\n",
    "        del condition_1, condition_2, condition_3, A, B, C, matrix, df_matrix\n",
    "        return self.df\n",
    "\n",
    "    def GHC_UEN_CGB(self):\n",
    "        self.GHC_UEN_GB()\n",
    "        selected_columns = self.df.loc[:, 'CGB_m0_w0_r0_f0':\n",
    "                                       'CGB_m18_w3_r3_f5'].columns.tolist()\n",
    "        condition_1 = self.df.Heating_System == 'CGB'\n",
    "        condition_1 = np.array(condition_1).reshape(self.df.shape[0], 1)\n",
    "        condition_2 = (self.df.Heating_System == 'ER') | (\n",
    "            self.df.Heating_System == 'GB') | (\n",
    "                self.df.Heating_System == 'EHP2') | (\n",
    "                    self.df.Heating_System == 'WB') | (\n",
    "                        self.df.Heating_System == 'WPB') | (\n",
    "                            self.df.Heating_System == 'EHP')\n",
    "        condition_2 = np.array(condition_2).reshape(self.df.shape[0], 1)\n",
    "        condition_3 = (self.df.Heating_System == 'OB') | (\n",
    "            self.df.Heating_System == 'COB')\n",
    "        condition_3 = np.array(condition_3).reshape(self.df.shape[0], 1)\n",
    "        A = np.array(self.df.loc[:, 'UEN_Cost_1']).reshape(self.df.shape[0], 1)\n",
    "        B = np.array(self.df.loc[:, 'UEN_Cost_2']).reshape(self.df.shape[0], 1)\n",
    "        C = np.array(self.df.loc[:, 'UEN_Cost_3']).reshape(self.df.shape[0], 1)\n",
    "        matrix = self.df[selected_columns].values\n",
    "        matrix = np.multiply(\n",
    "            matrix, np.multiply(condition_1, A)) + np.multiply(\n",
    "                matrix, np.multiply(condition_2, B)) + np.multiply(\n",
    "                    matrix, np.multiply(condition_3, C))\n",
    "        df_matrix = pd.DataFrame(matrix, columns=selected_columns)\n",
    "        self.df[selected_columns] = df_matrix\n",
    "        del condition_1, condition_2, condition_3, A, B, C, matrix, df_matrix\n",
    "        return self.df\n",
    "\n",
    "    def GHC_UEN_OB(self):\n",
    "        self.GHC_UEN_CGB()\n",
    "        selected_columns = self.df.loc[:, 'OB_m0_w0_r0_f0':\n",
    "                                       'OB_m18_w3_r3_f5'].columns.tolist()\n",
    "        condition_1 = self.df.Heating_System == 'OB'\n",
    "        condition_1 = np.array(condition_1).reshape(self.df.shape[0], 1)\n",
    "        condition_2 = ~condition_1\n",
    "        A = np.array(self.df.loc[:, 'UEN_Cost_1']).reshape(self.df.shape[0], 1)\n",
    "        B = np.array(self.df.loc[:, 'UEN_Cost_2']).reshape(self.df.shape[0], 1)\n",
    "        matrix = self.df[selected_columns].values\n",
    "        matrix = np.multiply(matrix, np.multiply(\n",
    "            condition_1, A)) + np.multiply(matrix, np.multiply(condition_2, B))\n",
    "        df_matrix = pd.DataFrame(matrix, columns=selected_columns)\n",
    "        self.df[selected_columns] = df_matrix\n",
    "        del condition_1, condition_2, A, B, matrix, df_matrix\n",
    "        return self.df\n",
    "\n",
    "    def GHC_UEN_COB(self):\n",
    "        self.GHC_UEN_OB()\n",
    "        selected_columns = self.df.loc[:, 'COB_m0_w0_r0_f0':\n",
    "                                       'COB_m18_w3_r3_f5'].columns.tolist()\n",
    "        condition_1 = self.df.Heating_System == 'COB'\n",
    "        condition_1 = np.array(condition_1).reshape(self.df.shape[0], 1)\n",
    "        condition_2 = ~condition_1\n",
    "        A = np.array(self.df.loc[:, 'UEN_Cost_1']).reshape(self.df.shape[0], 1)\n",
    "        B = np.array(self.df.loc[:, 'UEN_Cost_2']).reshape(self.df.shape[0], 1)\n",
    "        matrix = self.df[selected_columns].values\n",
    "        matrix = np.multiply(matrix, np.multiply(\n",
    "            condition_1, A)) + np.multiply(matrix, np.multiply(condition_2, B))\n",
    "        df_matrix = pd.DataFrame(matrix, columns=selected_columns)\n",
    "        self.df[selected_columns] = df_matrix\n",
    "        del condition_1, condition_2, A, B, matrix, df_matrix\n",
    "        return self.df\n",
    "\n",
    "    def GHC_UEN_EHP2(self):\n",
    "        self.GHC_UEN_COB()\n",
    "        selected_columns = self.df.loc[:, 'EHP2_m0_w0_r0_f0':\n",
    "                                       'EHP2_m18_w3_r3_f5'].columns.tolist()\n",
    "        condition_1 = self.df.Heating_System == 'EHP2'\n",
    "        condition_1 = np.array(condition_1).reshape(self.df.shape[0], 1)\n",
    "        condition_2 = ~condition_1\n",
    "        A = np.array(self.df.loc[:, 'UEN_Cost_1']).reshape(self.df.shape[0], 1)\n",
    "        B = np.array(self.df.loc[:, 'UEN_Cost_2']).reshape(self.df.shape[0], 1)\n",
    "        matrix = self.df[selected_columns].values\n",
    "        matrix = np.multiply(matrix, np.multiply(\n",
    "            condition_1, A)) + np.multiply(matrix, np.multiply(condition_2, B))\n",
    "        df_matrix = pd.DataFrame(matrix, columns=selected_columns)\n",
    "        self.df[selected_columns] = df_matrix\n",
    "        del condition_1, condition_2, A, B, matrix, df_matrix\n",
    "        return self.df\n",
    "\n",
    "    def GHC_UEN_WB(self):\n",
    "        self.GHC_UEN_EHP2()\n",
    "        selected_columns = self.df.loc[:, 'WB_m0_w0_r0_f0':\n",
    "                                       'WB_m18_w3_r3_f5'].columns.tolist()\n",
    "        condition_1 = self.df.Heating_System == 'WB'\n",
    "        condition_1 = np.array(condition_1).reshape(self.df.shape[0], 1)\n",
    "        condition_2 = ~condition_1\n",
    "        A = np.array(self.df.loc[:, 'UEN_Cost_1']).reshape(self.df.shape[0], 1)\n",
    "        B = np.array(self.df.loc[:, 'UEN_Cost_2']).reshape(self.df.shape[0], 1)\n",
    "        matrix = self.df[selected_columns].values\n",
    "        matrix = np.multiply(matrix, np.multiply(\n",
    "            condition_1, A)) + np.multiply(matrix, np.multiply(condition_2, B))\n",
    "        df_matrix = pd.DataFrame(matrix, columns=selected_columns)\n",
    "        self.df[selected_columns] = df_matrix\n",
    "        del condition_1, condition_2, A, B, matrix, df_matrix\n",
    "        return self.df\n",
    "\n",
    "    def GHC_UEN_WPB(self):\n",
    "        self.GHC_UEN_WB()\n",
    "        selected_columns = self.df.loc[:, 'WPB_m0_w0_r0_f0':\n",
    "                                       'WPB_m18_w3_r3_f5'].columns.tolist()\n",
    "        condition_1 = self.df.Heating_System == 'WPB'\n",
    "        condition_1 = np.array(condition_1).reshape(self.df.shape[0], 1)\n",
    "        condition_2 = ~condition_1\n",
    "        A = np.array(self.df.loc[:, 'UEN_Cost_1']).reshape(self.df.shape[0], 1)\n",
    "        B = np.array(self.df.loc[:, 'UEN_Cost_2']).reshape(self.df.shape[0], 1)\n",
    "        matrix = self.df[selected_columns].values\n",
    "        matrix = np.multiply(matrix, np.multiply(\n",
    "            condition_1, A)) + np.multiply(matrix, np.multiply(condition_2, B))\n",
    "        df_matrix = pd.DataFrame(matrix, columns=selected_columns)\n",
    "        self.df[selected_columns] = df_matrix\n",
    "        del condition_1, condition_2, A, B, matrix, df_matrix\n",
    "        return self.df\n",
    "\n",
    "    def GHC_UEN_EHP(self):\n",
    "        self.GHC_UEN_WPB()\n",
    "        selected_columns = self.df.loc[:, 'EHP_m0_w0_r0_f0':\n",
    "                                       'EHP_m18_w3_r3_f5'].columns.tolist()\n",
    "        condition_1 = self.df.Heating_System == 'EHP'\n",
    "        condition_1 = np.array(condition_1).reshape(self.df.shape[0], 1)\n",
    "        condition_2 = ~condition_1\n",
    "        A = np.array(self.df.loc[:, 'UEN_Cost_1']).reshape(self.df.shape[0], 1)\n",
    "        B = np.array(self.df.loc[:, 'UEN_Cost_2']).reshape(self.df.shape[0], 1)\n",
    "        matrix = self.df[selected_columns].values\n",
    "        matrix = np.multiply(matrix, np.multiply(\n",
    "            condition_1, A)) + np.multiply(matrix, np.multiply(condition_2, B))\n",
    "        df_matrix = pd.DataFrame(matrix, columns=selected_columns)\n",
    "        self.df[selected_columns] = df_matrix\n",
    "        del condition_1, condition_2, A, B, matrix, df_matrix\n",
    "        return self.df"
   ]
  },
  {
   "cell_type": "markdown",
   "metadata": {},
   "source": [
    "### Class for the DataFrame with U Prices"
   ]
  },
  {
   "cell_type": "code",
   "execution_count": 16,
   "metadata": {
    "ExecuteTime": {
     "end_time": "2019-10-20T10:02:13.806320Z",
     "start_time": "2019-10-20T10:02:13.688035Z"
    }
   },
   "outputs": [],
   "source": [
    "class DF_for_CID_U_Prices(Calculable_DFs_for_CID):\n",
    "    def init(self, df):\n",
    "        super().init(df)\n",
    "\n",
    "    def Insulation_Cost(self):\n",
    "        self.Fill_ER_Columns()\n",
    "        return self.df\n",
    "\n",
    "    def Generate_ER_Columns(self):\n",
    "        self.Insulation_Cost()\n",
    "        return self.df\n",
    "\n",
    "    def Multiple_Cost_ER(self):\n",
    "        self.Generate_EHP_Columns()\n",
    "        selected_columns = self.df.loc[:, 'ER_m0_w0_r0_f0':\n",
    "                                       'ER_m18_w3_r3_f5'].columns.tolist()\n",
    "        condition_1 = self.df.Heating_System == 'ER'\n",
    "        condition_1 = np.array(condition_1).reshape(self.df.shape[0], 1)\n",
    "        condition_2 = (self.df.Heating_System == 'WB') | (\n",
    "            self.df.Heating_System == 'EHP')\n",
    "        condition_2 = np.array(condition_2).reshape(self.df.shape[0], 1)\n",
    "        condition_3 = (self.df.Heating_System == 'GB') | (\n",
    "            self.df.Heating_System == 'CGB') | (\n",
    "                self.df.Heating_System == 'OB') | (\n",
    "                    self.df.Heating_System == 'COB') | (\n",
    "                        self.df.Heating_System == 'EHP2') | (\n",
    "                            self.df.Heating_System == 'WPB')\n",
    "        condition_3 = np.array(condition_3).reshape(self.df.shape[0], 1)\n",
    "        A = np.array(self.df.loc[:, 'Fixed_Cost_1']).reshape(\n",
    "            self.df.shape[0], 1)\n",
    "        B = np.array(self.df.loc[:, 'Fixed_Cost_2']).reshape(\n",
    "            self.df.shape[0], 1)\n",
    "        C = np.array(self.df.loc[:, 'Fixed_Cost_5']).reshape(\n",
    "            self.df.shape[0], 1)\n",
    "        matrix = self.df[selected_columns].values\n",
    "        matrix = np.add(matrix, np.multiply(condition_1, A)) + np.add(\n",
    "            matrix, np.multiply(condition_2, B)) + np.add(\n",
    "                matrix, np.multiply(condition_3, C))\n",
    "        df_matrix = pd.DataFrame(matrix, columns=selected_columns)\n",
    "        self.df[selected_columns] = df_matrix\n",
    "        del condition_1, condition_2, condition_3, A, B, C, matrix, df_matrix\n",
    "        return self.df\n",
    "\n",
    "    def Multiple_Cost_GB(self):\n",
    "        self.Multiple_Cost_ER()\n",
    "        selected_columns = self.df.loc[:, 'GB_m0_w0_r0_f0':\n",
    "                                       'GB_m18_w3_r3_f5'].columns.tolist()\n",
    "        condition_1 = self.df.Heating_System == 'GB'\n",
    "        condition_1 = np.array(condition_1).reshape(self.df.shape[0], 1)\n",
    "        condition_2 = (self.df.Heating_System == 'CGB')\n",
    "        condition_2 = np.array(condition_2).reshape(self.df.shape[0], 1)\n",
    "        condition_3 = (self.df.Heating_System == 'OB') | (\n",
    "            self.df.Heating_System == 'COB') | (\n",
    "                self.df.Heating_System == 'EHP2') | (\n",
    "                    self.df.Heating_System == 'WPB')\n",
    "        condition_3 = np.array(condition_3).reshape(self.df.shape[0], 1)\n",
    "        condition_4 = (self.df.Heating_System == 'ER') | (\n",
    "            self.df.Heating_System == 'WB') | (self.df.Heating_System == 'EHP')\n",
    "        condition_4 = np.array(condition_4).reshape(self.df.shape[0], 1)\n",
    "        A = np.array(self.df.loc[:, 'Fixed_Cost_1']).reshape(\n",
    "            self.df.shape[0], 1)\n",
    "        B = np.array(self.df.loc[:, 'Fixed_Cost_2']).reshape(\n",
    "            self.df.shape[0], 1)\n",
    "        C = np.array(self.df.loc[:, 'Fixed_Cost_4']).reshape(\n",
    "            self.df.shape[0], 1)\n",
    "        D = np.array(self.df.loc[:, 'Fixed_Cost_5']).reshape(\n",
    "            self.df.shape[0], 1)\n",
    "        matrix = self.df[selected_columns].values\n",
    "        matrix = np.add(matrix, np.multiply(condition_1, A)) + np.add(\n",
    "            matrix, np.multiply(condition_2, B)) + np.add(\n",
    "                matrix, np.multiply(condition_3, C)) + np.add(\n",
    "                    matrix, np.multiply(condition_4, D))\n",
    "        df_matrix = pd.DataFrame(matrix, columns=selected_columns)\n",
    "        self.df[selected_columns] = df_matrix\n",
    "        del condition_1, condition_2, condition_3, condition_4, A, B, C, D, matrix, df_matrix\n",
    "        return self.df\n",
    "\n",
    "    def Multiple_Cost_CGB(self):\n",
    "        self.Multiple_Cost_GB()\n",
    "        selected_columns = self.df.loc[:, 'CGB_m0_w0_r0_f0':\n",
    "                                       'CGB_m18_w3_r3_f5'].columns.tolist()\n",
    "        condition_1 = self.df.Heating_System == 'CGB'\n",
    "        condition_1 = np.array(condition_1).reshape(self.df.shape[0], 1)\n",
    "        condition_2 = (self.df.Heating_System == 'GB')\n",
    "        condition_2 = np.array(condition_2).reshape(self.df.shape[0], 1)\n",
    "        condition_3 = (self.df.Heating_System == 'OB') | (\n",
    "            self.df.Heating_System == 'COB') | (\n",
    "                self.df.Heating_System == 'EHP2') | (\n",
    "                    self.df.Heating_System == 'WPB')\n",
    "        condition_3 = np.array(condition_3).reshape(self.df.shape[0], 1)\n",
    "        condition_4 = (self.df.Heating_System == 'ER') | (\n",
    "            self.df.Heating_System == 'WB') | (self.df.Heating_System == 'EHP')\n",
    "        condition_4 = np.array(condition_4).reshape(self.df.shape[0], 1)\n",
    "        A = np.array(self.df.loc[:, 'Fixed_Cost_1']).reshape(\n",
    "            self.df.shape[0], 1)\n",
    "        B = np.array(self.df.loc[:, 'Fixed_Cost_2']).reshape(\n",
    "            self.df.shape[0], 1)\n",
    "        C = np.array(self.df.loc[:, 'Fixed_Cost_4']).reshape(\n",
    "            self.df.shape[0], 1)\n",
    "        D = np.array(self.df.loc[:, 'Fixed_Cost_5']).reshape(\n",
    "            self.df.shape[0], 1)\n",
    "        matrix = self.df[selected_columns].values\n",
    "        matrix = np.add(matrix, np.multiply(condition_1, A)) + np.add(\n",
    "            matrix, np.multiply(condition_2, B)) + np.add(\n",
    "                matrix, np.multiply(condition_3, C)) + np.add(\n",
    "                    matrix, np.multiply(condition_4, D))\n",
    "        df_matrix = pd.DataFrame(matrix, columns=selected_columns)\n",
    "        self.df[selected_columns] = df_matrix\n",
    "        del condition_1, condition_2, condition_3, condition_4, A, B, C, D, matrix, df_matrix\n",
    "        return self.df\n",
    "\n",
    "    def Multiple_Cost_OB(self):\n",
    "        self.Multiple_Cost_CGB()\n",
    "        selected_columns = self.df.loc[:, 'OB_m0_w0_r0_f0':\n",
    "                                       'OB_m18_w3_r3_f5'].columns.tolist()\n",
    "        condition_1 = self.df.Heating_System == 'OB'\n",
    "        condition_1 = np.array(condition_1).reshape(self.df.shape[0], 1)\n",
    "        condition_2 = (self.df.Heating_System == 'COB')\n",
    "        condition_2 = np.array(condition_2).reshape(self.df.shape[0], 1)\n",
    "        condition_3 = (self.df.Heating_System == 'GB') | (\n",
    "            self.df.Heating_System == 'CGB') | (\n",
    "                self.df.Heating_System == 'EHP2') | (\n",
    "                    self.df.Heating_System == 'WPB')\n",
    "        condition_3 = np.array(condition_3).reshape(self.df.shape[0], 1)\n",
    "        condition_4 = (self.df.Heating_System == 'ER') | (\n",
    "            self.df.Heating_System == 'WB') | (self.df.Heating_System == 'EHP')\n",
    "        condition_4 = np.array(condition_4).reshape(self.df.shape[0], 1)\n",
    "        A = np.array(self.df.loc[:, 'Fixed_Cost_1']).reshape(\n",
    "            self.df.shape[0], 1)\n",
    "        B = np.array(self.df.loc[:, 'Fixed_Cost_2']).reshape(\n",
    "            self.df.shape[0], 1)\n",
    "        C = np.array(self.df.loc[:, 'Fixed_Cost_4']).reshape(\n",
    "            self.df.shape[0], 1)\n",
    "        D = np.array(self.df.loc[:, 'Fixed_Cost_5']).reshape(\n",
    "            self.df.shape[0], 1)\n",
    "        matrix = self.df[selected_columns].values\n",
    "        matrix = np.add(matrix, np.multiply(condition_1, A)) + np.add(\n",
    "            matrix, np.multiply(condition_2, B)) + np.add(\n",
    "                matrix, np.multiply(condition_3, C)) + np.add(\n",
    "                    matrix, np.multiply(condition_4, D))\n",
    "        df_matrix = pd.DataFrame(matrix, columns=selected_columns)\n",
    "        self.df[selected_columns] = df_matrix\n",
    "        del condition_1, condition_2, condition_3, condition_4, A, B, C, D, matrix, df_matrix\n",
    "        return self.df\n",
    "\n",
    "    def Multiple_Cost_COB(self):\n",
    "        self.Multiple_Cost_OB()\n",
    "        selected_columns = self.df.loc[:, 'COB_m0_w0_r0_f0':\n",
    "                                       'COB_m18_w3_r3_f5'].columns.tolist()\n",
    "        condition_1 = self.df.Heating_System == 'COB'\n",
    "        condition_1 = np.array(condition_1).reshape(self.df.shape[0], 1)\n",
    "        condition_2 = (self.df.Heating_System == 'OB')\n",
    "        condition_2 = np.array(condition_2).reshape(self.df.shape[0], 1)\n",
    "        condition_3 = (self.df.Heating_System == 'GB') | (\n",
    "            self.df.Heating_System == 'CGB') | (\n",
    "                self.df.Heating_System == 'EHP2') | (\n",
    "                    self.df.Heating_System == 'WPB')\n",
    "        condition_3 = np.array(condition_3).reshape(self.df.shape[0], 1)\n",
    "        condition_4 = (self.df.Heating_System == 'ER') | (\n",
    "            self.df.Heating_System == 'WB') | (self.df.Heating_System == 'EHP')\n",
    "        condition_4 = np.array(condition_4).reshape(self.df.shape[0], 1)\n",
    "        A = np.array(self.df.loc[:, 'Fixed_Cost_1']).reshape(\n",
    "            self.df.shape[0], 1)\n",
    "        B = np.array(self.df.loc[:, 'Fixed_Cost_2']).reshape(\n",
    "            self.df.shape[0], 1)\n",
    "        C = np.array(self.df.loc[:, 'Fixed_Cost_4']).reshape(\n",
    "            self.df.shape[0], 1)\n",
    "        D = np.array(self.df.loc[:, 'Fixed_Cost_5']).reshape(\n",
    "            self.df.shape[0], 1)\n",
    "        matrix = self.df[selected_columns].values\n",
    "        matrix = np.add(matrix, np.multiply(condition_1, A)) + np.add(\n",
    "            matrix, np.multiply(condition_2, B)) + np.add(\n",
    "                matrix, np.multiply(condition_3, C)) + np.add(\n",
    "                    matrix, np.multiply(condition_4, D))\n",
    "        df_matrix = pd.DataFrame(matrix, columns=selected_columns)\n",
    "        self.df[selected_columns] = df_matrix\n",
    "        del condition_1, condition_2, condition_3, condition_4, A, B, C, D, matrix, df_matrix\n",
    "        return self.df\n",
    "\n",
    "    def Multiple_Cost_EHP2(self):\n",
    "        self.Multiple_Cost_COB()\n",
    "        selected_columns = self.df.loc[:, 'EHP2_m0_w0_r0_f0':\n",
    "                                       'EHP2_m18_w3_r3_f5'].columns.tolist()\n",
    "        condition_1 = self.df.Heating_System == 'EHP2'\n",
    "        condition_1 = np.array(condition_1).reshape(self.df.shape[0], 1)\n",
    "        condition_2 = (self.df.Heating_System == 'GB') | (\n",
    "            self.df.Heating_System == 'CGB') | (\n",
    "                self.df.Heating_System == 'OB') | (\n",
    "                    self.df.Heating_System == 'COB') | (\n",
    "                        self.df.Heating_System == 'WPB')\n",
    "        condition_2 = np.array(condition_2).reshape(self.df.shape[0], 1)\n",
    "        condition_3 = (self.df.Heating_System == 'ER') | (\n",
    "            self.df.Heating_System == 'WB') | (self.df.Heating_System == 'EHP')\n",
    "        condition_3 = np.array(condition_3).reshape(self.df.shape[0], 1)\n",
    "        A = np.array(self.df.loc[:, 'Fixed_Cost_1']).reshape(\n",
    "            self.df.shape[0], 1)\n",
    "        B = np.array(self.df.loc[:, 'Fixed_Cost_4']).reshape(\n",
    "            self.df.shape[0], 1)\n",
    "        C = np.array(self.df.loc[:, 'Fixed_Cost_5']).reshape(\n",
    "            self.df.shape[0], 1)\n",
    "        matrix = self.df[selected_columns].values\n",
    "        matrix = np.add(matrix, np.multiply(condition_1, A)) + np.add(\n",
    "            matrix, np.multiply(condition_2, B)) + np.add(\n",
    "                matrix, np.multiply(condition_3, C))\n",
    "        df_matrix = pd.DataFrame(matrix, columns=selected_columns)\n",
    "        self.df[selected_columns] = df_matrix\n",
    "        del condition_1, condition_2, condition_3, A, B, C, matrix, df_matrix\n",
    "        return self.df\n",
    "\n",
    "    def Multiple_Cost_WB(self):\n",
    "        self.Multiple_Cost_EHP2()\n",
    "        selected_columns = self.df.loc[:, 'WB_m0_w0_r0_f0':\n",
    "                                       'WB_m18_w3_r3_f5'].columns.tolist()\n",
    "        condition_1 = self.df.Heating_System == 'WB'\n",
    "        condition_1 = np.array(condition_1).reshape(self.df.shape[0], 1)\n",
    "        condition_2 = (self.df.Heating_System == 'ER') | (\n",
    "            self.df.Heating_System == 'EHP')\n",
    "        condition_2 = np.array(condition_2).reshape(self.df.shape[0], 1)\n",
    "        condition_3 = (self.df.Heating_System == 'GB') | (\n",
    "            self.df.Heating_System == 'CGB') | (\n",
    "                self.df.Heating_System == 'OB') | (\n",
    "                    self.df.Heating_System == 'COB') | (\n",
    "                        self.df.Heating_System == 'EHP2') | (\n",
    "                            self.df.Heating_System == 'WPB')\n",
    "        condition_3 = np.array(condition_3).reshape(self.df.shape[0], 1)\n",
    "        A = np.array(self.df.loc[:, 'Fixed_Cost_1']).reshape(\n",
    "            self.df.shape[0], 1)\n",
    "        B = np.array(self.df.loc[:, 'Fixed_Cost_2']).reshape(\n",
    "            self.df.shape[0], 1)\n",
    "        C = np.array(self.df.loc[:, 'Fixed_Cost_5']).reshape(\n",
    "            self.df.shape[0], 1)\n",
    "        matrix = self.df[selected_columns].values\n",
    "        matrix = np.add(matrix, np.multiply(condition_1, A)) + np.add(\n",
    "            matrix, np.multiply(condition_2, B)) + np.add(\n",
    "                matrix, np.multiply(condition_3, C))\n",
    "        df_matrix = pd.DataFrame(matrix, columns=selected_columns)\n",
    "        self.df[selected_columns] = df_matrix\n",
    "        del condition_1, condition_2, condition_3, A, B, C, matrix, df_matrix\n",
    "        return self.df\n",
    "\n",
    "    def Multiple_Cost_WPB(self):\n",
    "        self.Multiple_Cost_WB()\n",
    "        selected_columns = self.df.loc[:, 'WPB_m0_w0_r0_f0':\n",
    "                                       'WPB_m18_w3_r3_f5'].columns.tolist()\n",
    "        condition_1 = self.df.Heating_System == 'WPB'\n",
    "        condition_1 = np.array(condition_1).reshape(self.df.shape[0], 1)\n",
    "        condition_2 = (self.df.Heating_System == 'WB')\n",
    "        condition_2 = np.array(condition_2).reshape(self.df.shape[0], 1)\n",
    "        condition_3 = (self.df.Heating_System == 'GB') | (\n",
    "            self.df.Heating_System == 'CGB') | (\n",
    "                self.df.Heating_System == 'OB') | (\n",
    "                    self.df.Heating_System == 'COB') | (\n",
    "                        self.df.Heating_System == 'EHP2')\n",
    "        condition_3 = np.array(condition_3).reshape(self.df.shape[0], 1)\n",
    "        condition_4 = (self.df.Heating_System == 'ER') | (\n",
    "            self.df.Heating_System == 'EHP')\n",
    "        condition_4 = np.array(condition_4).reshape(self.df.shape[0], 1)\n",
    "        A = np.array(self.df.loc[:, 'Fixed_Cost_1']).reshape(\n",
    "            self.df.shape[0], 1)\n",
    "        B = np.array(self.df.loc[:, 'Fixed_Cost_3']).reshape(\n",
    "            self.df.shape[0], 1)\n",
    "        C = np.array(self.df.loc[:, 'Fixed_Cost_4']).reshape(\n",
    "            self.df.shape[0], 1)\n",
    "        D = np.array(self.df.loc[:, 'Fixed_Cost_5']).reshape(\n",
    "            self.df.shape[0], 1)\n",
    "        matrix = self.df[selected_columns].values\n",
    "        matrix = np.add(matrix, np.multiply(condition_1, A)) + np.add(\n",
    "            matrix, np.multiply(condition_2, B)) + np.add(\n",
    "                matrix, np.multiply(condition_3, C)) + np.add(\n",
    "                    matrix, np.multiply(condition_4, D))\n",
    "        df_matrix = pd.DataFrame(matrix, columns=selected_columns)\n",
    "        self.df[selected_columns] = df_matrix\n",
    "        del condition_1, condition_2, condition_3, condition_4, A, B, C, D, matrix, df_matrix\n",
    "        return self.df\n",
    "\n",
    "    def Multiple_Cost_EHP(self):\n",
    "        self.Multiple_Cost_WPB()\n",
    "        selected_columns = self.df.loc[:, 'EHP_m0_w0_r0_f0':\n",
    "                                       'EHP_m18_w3_r3_f5'].columns.tolist()\n",
    "        condition_1 = self.df.Heating_System == 'EHP'\n",
    "        condition_1 = np.array(condition_1).reshape(self.df.shape[0], 1)\n",
    "        condition_2 = (self.df.Heating_System == 'ER') | (\n",
    "            self.df.Heating_System == 'WB')\n",
    "        condition_2 = np.array(condition_2).reshape(self.df.shape[0], 1)\n",
    "        condition_3 = (self.df.Heating_System == 'GB') | (\n",
    "            self.df.Heating_System == 'CGB') | (\n",
    "                self.df.Heating_System == 'OB') | (\n",
    "                    self.df.Heating_System == 'COB') | (\n",
    "                        self.df.Heating_System == 'EHP2') | (\n",
    "                            self.df.Heating_System == 'WPB')\n",
    "        condition_3 = np.array(condition_3).reshape(self.df.shape[0], 1)\n",
    "        A = np.array(self.df.loc[:, 'Fixed_Cost_1']).reshape(\n",
    "            self.df.shape[0], 1)\n",
    "        B = np.array(self.df.loc[:, 'Fixed_Cost_2']).reshape(\n",
    "            self.df.shape[0], 1)\n",
    "        C = np.array(self.df.loc[:, 'Fixed_Cost_5']).reshape(\n",
    "            self.df.shape[0], 1)\n",
    "        matrix = self.df[selected_columns].values\n",
    "        matrix = np.add(matrix, np.multiply(condition_1, A)) + np.add(\n",
    "            matrix, np.multiply(condition_2, B)) + np.add(\n",
    "                matrix, np.multiply(condition_3, C))\n",
    "        df_matrix = pd.DataFrame(matrix, columns=selected_columns)\n",
    "        self.df[selected_columns] = df_matrix\n",
    "        del condition_1, condition_2, condition_3, A, B, C, matrix, df_matrix\n",
    "        return self.df"
   ]
  },
  {
   "cell_type": "code",
   "execution_count": 17,
   "metadata": {
    "ExecuteTime": {
     "end_time": "2019-10-20T10:03:48.803877Z",
     "start_time": "2019-10-20T10:02:13.885898Z"
    }
   },
   "outputs": [
    {
     "ename": "AttributeError",
     "evalue": "'DataFrame' object has no attribute 'Initial_Age'",
     "output_type": "error",
     "traceback": [
      "\u001b[0;31m---------------------------------------------------------------------------\u001b[0m",
      "\u001b[0;31mAttributeError\u001b[0m                            Traceback (most recent call last)",
      "\u001b[0;32m<ipython-input-17-47869e95cf73>\u001b[0m in \u001b[0;36m<module>\u001b[0;34m\u001b[0m\n\u001b[1;32m      1\u001b[0m \u001b[0ma\u001b[0m \u001b[0;34m=\u001b[0m \u001b[0mDF_for_CID_U_Factors\u001b[0m\u001b[0;34m(\u001b[0m\u001b[0mPrepared_df_CID_UF\u001b[0m\u001b[0;34m,\u001b[0m \u001b[0;36m1\u001b[0m\u001b[0;34m)\u001b[0m\u001b[0;34m\u001b[0m\u001b[0;34m\u001b[0m\u001b[0m\n\u001b[0;32m----> 2\u001b[0;31m \u001b[0mb\u001b[0m \u001b[0;34m=\u001b[0m \u001b[0ma\u001b[0m\u001b[0;34m.\u001b[0m\u001b[0mGHC_UEN_ER\u001b[0m\u001b[0;34m(\u001b[0m\u001b[0;34m)\u001b[0m\u001b[0;34m\u001b[0m\u001b[0;34m\u001b[0m\u001b[0m\n\u001b[0m",
      "\u001b[0;32m<ipython-input-15-f61c58369f3b>\u001b[0m in \u001b[0;36mGHC_UEN_ER\u001b[0;34m(self)\u001b[0m\n\u001b[1;32m     54\u001b[0m         \u001b[0mself\u001b[0m\u001b[0;34m.\u001b[0m\u001b[0mdf_T\u001b[0m\u001b[0;34m[\u001b[0m\u001b[0;34m'Heating System'\u001b[0m\u001b[0;34m]\u001b[0m \u001b[0;34m=\u001b[0m \u001b[0;34m'ER'\u001b[0m\u001b[0;34m\u001b[0m\u001b[0;34m\u001b[0m\u001b[0m\n\u001b[1;32m     55\u001b[0m         \u001b[0mself\u001b[0m\u001b[0;34m.\u001b[0m\u001b[0mAdd_Columns_HS_EH\u001b[0m\u001b[0;34m(\u001b[0m\u001b[0;34m)\u001b[0m\u001b[0;34m\u001b[0m\u001b[0;34m\u001b[0m\u001b[0m\n\u001b[0;32m---> 56\u001b[0;31m         \u001b[0mself\u001b[0m\u001b[0;34m.\u001b[0m\u001b[0mCalculator_HS\u001b[0m\u001b[0;34m(\u001b[0m\u001b[0;34m)\u001b[0m\u001b[0;34m\u001b[0m\u001b[0;34m\u001b[0m\u001b[0m\n\u001b[0m\u001b[1;32m     57\u001b[0m \u001b[0;34m\u001b[0m\u001b[0m\n\u001b[1;32m     58\u001b[0m         \u001b[0;31m#condition_1 = self.df_T.Heating_System == 'ER'\u001b[0m\u001b[0;34m\u001b[0m\u001b[0;34m\u001b[0m\u001b[0;34m\u001b[0m\u001b[0m\n",
      "\u001b[0;32m<ipython-input-15-f61c58369f3b>\u001b[0m in \u001b[0;36mCalculator_HS\u001b[0;34m(self)\u001b[0m\n\u001b[1;32m      4\u001b[0m \u001b[0;34m\u001b[0m\u001b[0m\n\u001b[1;32m      5\u001b[0m     \u001b[0;32mdef\u001b[0m \u001b[0mCalculator_HS\u001b[0m\u001b[0;34m(\u001b[0m\u001b[0mself\u001b[0m\u001b[0;34m)\u001b[0m\u001b[0;34m:\u001b[0m\u001b[0;34m\u001b[0m\u001b[0;34m\u001b[0m\u001b[0m\n\u001b[0;32m----> 6\u001b[0;31m         \u001b[0mself\u001b[0m\u001b[0;34m.\u001b[0m\u001b[0mUEN_Cost_1\u001b[0m\u001b[0;34m(\u001b[0m\u001b[0;34m)\u001b[0m\u001b[0;34m\u001b[0m\u001b[0;34m\u001b[0m\u001b[0m\n\u001b[0m\u001b[1;32m      7\u001b[0m         \u001b[0mself\u001b[0m\u001b[0;34m.\u001b[0m\u001b[0mUEN_Cost_3\u001b[0m\u001b[0;34m(\u001b[0m\u001b[0;34m)\u001b[0m\u001b[0;34m\u001b[0m\u001b[0;34m\u001b[0m\u001b[0m\n\u001b[1;32m      8\u001b[0m         \u001b[0mself\u001b[0m\u001b[0;34m.\u001b[0m\u001b[0mUEN_Cost_5\u001b[0m\u001b[0;34m(\u001b[0m\u001b[0;34m)\u001b[0m\u001b[0;34m\u001b[0m\u001b[0;34m\u001b[0m\u001b[0m\n",
      "\u001b[0;32m<ipython-input-13-3b2828b3448d>\u001b[0m in \u001b[0;36mUEN_Cost_1\u001b[0;34m(self)\u001b[0m\n\u001b[1;32m     71\u001b[0m     \u001b[0;32mdef\u001b[0m \u001b[0mUEN_Cost_1\u001b[0m\u001b[0;34m(\u001b[0m\u001b[0mself\u001b[0m\u001b[0;34m)\u001b[0m\u001b[0;34m:\u001b[0m\u001b[0;34m\u001b[0m\u001b[0;34m\u001b[0m\u001b[0m\n\u001b[1;32m     72\u001b[0m         \u001b[0mself\u001b[0m\u001b[0;34m.\u001b[0m\u001b[0mEnergy_Bill\u001b[0m\u001b[0;34m(\u001b[0m\u001b[0;34m)\u001b[0m\u001b[0;34m\u001b[0m\u001b[0;34m\u001b[0m\u001b[0m\n\u001b[0;32m---> 73\u001b[0;31m         \u001b[0mself\u001b[0m\u001b[0;34m.\u001b[0m\u001b[0mTime_Factor_1\u001b[0m\u001b[0;34m(\u001b[0m\u001b[0;34m)\u001b[0m\u001b[0;34m\u001b[0m\u001b[0;34m\u001b[0m\u001b[0m\n\u001b[0m\u001b[1;32m     74\u001b[0m         self.df_T['UEN_Cost_1'] = np.add(\n\u001b[1;32m     75\u001b[0m             \u001b[0mnp\u001b[0m\u001b[0;34m.\u001b[0m\u001b[0mmultiply\u001b[0m\u001b[0;34m(\u001b[0m\u001b[0mself\u001b[0m\u001b[0;34m.\u001b[0m\u001b[0mdf_T\u001b[0m\u001b[0;34m.\u001b[0m\u001b[0mB_Investment\u001b[0m\u001b[0;34m,\u001b[0m \u001b[0mself\u001b[0m\u001b[0;34m.\u001b[0m\u001b[0mdf_T\u001b[0m\u001b[0;34m.\u001b[0m\u001b[0mTime_Factor_1\u001b[0m\u001b[0;34m)\u001b[0m\u001b[0;34m,\u001b[0m\u001b[0;34m\u001b[0m\u001b[0;34m\u001b[0m\u001b[0m\n",
      "\u001b[0;32m<ipython-input-13-3b2828b3448d>\u001b[0m in \u001b[0;36mTime_Factor_1\u001b[0;34m(self)\u001b[0m\n\u001b[1;32m     56\u001b[0m \u001b[0;34m\u001b[0m\u001b[0m\n\u001b[1;32m     57\u001b[0m     \u001b[0;32mdef\u001b[0m \u001b[0mTime_Factor_1\u001b[0m\u001b[0;34m(\u001b[0m\u001b[0mself\u001b[0m\u001b[0;34m)\u001b[0m\u001b[0;34m:\u001b[0m\u001b[0;34m\u001b[0m\u001b[0;34m\u001b[0m\u001b[0m\n\u001b[0;32m---> 58\u001b[0;31m         \u001b[0mself\u001b[0m\u001b[0;34m.\u001b[0m\u001b[0mInflation_Rate_1st\u001b[0m\u001b[0;34m(\u001b[0m\u001b[0;34m)\u001b[0m\u001b[0;34m\u001b[0m\u001b[0;34m\u001b[0m\u001b[0m\n\u001b[0m\u001b[1;32m     59\u001b[0m         \u001b[0mself\u001b[0m\u001b[0;34m.\u001b[0m\u001b[0mInflation_Rate_2nd\u001b[0m\u001b[0;34m(\u001b[0m\u001b[0;34m)\u001b[0m\u001b[0;34m\u001b[0m\u001b[0;34m\u001b[0m\u001b[0m\n\u001b[1;32m     60\u001b[0m         \u001b[0mself\u001b[0m\u001b[0;34m.\u001b[0m\u001b[0mDiscount_1st\u001b[0m\u001b[0;34m(\u001b[0m\u001b[0;34m)\u001b[0m\u001b[0;34m\u001b[0m\u001b[0;34m\u001b[0m\u001b[0m\n",
      "\u001b[0;32m<ipython-input-13-3b2828b3448d>\u001b[0m in \u001b[0;36mInflation_Rate_1st\u001b[0;34m(self)\u001b[0m\n\u001b[1;32m     34\u001b[0m         self.df_T['Inflation_Rate_1st'] = np.power(\n\u001b[1;32m     35\u001b[0m             \u001b[0mnp\u001b[0m\u001b[0;34m.\u001b[0m\u001b[0madd\u001b[0m\u001b[0;34m(\u001b[0m\u001b[0;36m1\u001b[0m\u001b[0;34m,\u001b[0m \u001b[0mself\u001b[0m\u001b[0;34m.\u001b[0m\u001b[0mdf_T\u001b[0m\u001b[0;34m.\u001b[0m\u001b[0mInflation_Rate\u001b[0m\u001b[0;34m)\u001b[0m\u001b[0;34m,\u001b[0m\u001b[0;34m\u001b[0m\u001b[0;34m\u001b[0m\u001b[0m\n\u001b[0;32m---> 36\u001b[0;31m             np.subtract(np.add(18, self.year), self.df_T.Initial_Age))\n\u001b[0m\u001b[1;32m     37\u001b[0m         \u001b[0;32mreturn\u001b[0m \u001b[0mself\u001b[0m\u001b[0;34m.\u001b[0m\u001b[0mdf_T\u001b[0m\u001b[0;34m\u001b[0m\u001b[0;34m\u001b[0m\u001b[0m\n\u001b[1;32m     38\u001b[0m \u001b[0;34m\u001b[0m\u001b[0m\n",
      "\u001b[0;32m~/anaconda3/lib/python3.7/site-packages/pandas/core/generic.py\u001b[0m in \u001b[0;36m__getattr__\u001b[0;34m(self, name)\u001b[0m\n\u001b[1;32m   5065\u001b[0m             \u001b[0;32mif\u001b[0m \u001b[0mself\u001b[0m\u001b[0;34m.\u001b[0m\u001b[0m_info_axis\u001b[0m\u001b[0;34m.\u001b[0m\u001b[0m_can_hold_identifiers_and_holds_name\u001b[0m\u001b[0;34m(\u001b[0m\u001b[0mname\u001b[0m\u001b[0;34m)\u001b[0m\u001b[0;34m:\u001b[0m\u001b[0;34m\u001b[0m\u001b[0;34m\u001b[0m\u001b[0m\n\u001b[1;32m   5066\u001b[0m                 \u001b[0;32mreturn\u001b[0m \u001b[0mself\u001b[0m\u001b[0;34m[\u001b[0m\u001b[0mname\u001b[0m\u001b[0;34m]\u001b[0m\u001b[0;34m\u001b[0m\u001b[0;34m\u001b[0m\u001b[0m\n\u001b[0;32m-> 5067\u001b[0;31m             \u001b[0;32mreturn\u001b[0m \u001b[0mobject\u001b[0m\u001b[0;34m.\u001b[0m\u001b[0m__getattribute__\u001b[0m\u001b[0;34m(\u001b[0m\u001b[0mself\u001b[0m\u001b[0;34m,\u001b[0m \u001b[0mname\u001b[0m\u001b[0;34m)\u001b[0m\u001b[0;34m\u001b[0m\u001b[0;34m\u001b[0m\u001b[0m\n\u001b[0m\u001b[1;32m   5068\u001b[0m \u001b[0;34m\u001b[0m\u001b[0m\n\u001b[1;32m   5069\u001b[0m     \u001b[0;32mdef\u001b[0m \u001b[0m__setattr__\u001b[0m\u001b[0;34m(\u001b[0m\u001b[0mself\u001b[0m\u001b[0;34m,\u001b[0m \u001b[0mname\u001b[0m\u001b[0;34m,\u001b[0m \u001b[0mvalue\u001b[0m\u001b[0;34m)\u001b[0m\u001b[0;34m:\u001b[0m\u001b[0;34m\u001b[0m\u001b[0;34m\u001b[0m\u001b[0m\n",
      "\u001b[0;31mAttributeError\u001b[0m: 'DataFrame' object has no attribute 'Initial_Age'"
     ]
    }
   ],
   "source": [
    "a = DF_for_CID_U_Factors(Prepared_df_CID_UF, 1)\n",
    "b = a.GHC_UEN_ER()"
   ]
  },
  {
   "cell_type": "code",
   "execution_count": null,
   "metadata": {
    "ExecuteTime": {
     "end_time": "2019-10-20T10:03:48.890652Z",
     "start_time": "2019-10-20T10:02:13.936Z"
    }
   },
   "outputs": [],
   "source": [
    "b.T"
   ]
  },
  {
   "cell_type": "code",
   "execution_count": null,
   "metadata": {
    "ExecuteTime": {
     "end_time": "2019-10-20T10:03:48.899365Z",
     "start_time": "2019-10-20T10:02:13.994Z"
    }
   },
   "outputs": [],
   "source": [
    "b.iloc[:, :-1].T.reset_index(drop=True)"
   ]
  },
  {
   "cell_type": "code",
   "execution_count": null,
   "metadata": {
    "ExecuteTime": {
     "end_time": "2019-10-20T10:03:48.902836Z",
     "start_time": "2019-10-20T10:02:14.131Z"
    }
   },
   "outputs": [],
   "source": [
    "a = DF_for_CID_U_Factors(Prepared_df_CID_UF)\n",
    "UEN_per_Dwelling = a.UEN_per_Dwelling()"
   ]
  },
  {
   "cell_type": "code",
   "execution_count": null,
   "metadata": {
    "ExecuteTime": {
     "end_time": "2019-10-20T10:03:48.907179Z",
     "start_time": "2019-10-20T10:02:14.245Z"
    }
   },
   "outputs": [],
   "source": [
    "UEN_per_Dwelling.ER_m0_w0_r0_f0"
   ]
  },
  {
   "cell_type": "code",
   "execution_count": null,
   "metadata": {
    "ExecuteTime": {
     "end_time": "2019-10-20T10:03:48.915114Z",
     "start_time": "2019-10-20T10:02:14.302Z"
    }
   },
   "outputs": [],
   "source": [
    "A = DF_for_CID_U_Prices(Prepared_df_CID_UP)\n",
    "B = A.Multiple_Cost_EHP()"
   ]
  },
  {
   "cell_type": "code",
   "execution_count": null,
   "metadata": {
    "ExecuteTime": {
     "end_time": "2019-10-20T10:03:48.917369Z",
     "start_time": "2019-10-20T10:02:14.361Z"
    }
   },
   "outputs": [],
   "source": [
    "selected_columns = b.loc[:, 'ER_m0_w0_r0_f0':\n",
    "                         'EHP_m18_w3_r3_f5'].columns.tolist()\n",
    "\n",
    "Total = b[selected_columns] + B[selected_columns]\n",
    "Total = Total.astype(np.int32)\n",
    "Total"
   ]
  },
  {
   "cell_type": "code",
   "execution_count": null,
   "metadata": {
    "ExecuteTime": {
     "end_time": "2019-10-20T10:03:48.920152Z",
     "start_time": "2019-10-20T10:02:14.416Z"
    }
   },
   "outputs": [],
   "source": [
    "Total.shape"
   ]
  },
  {
   "cell_type": "code",
   "execution_count": null,
   "metadata": {
    "ExecuteTime": {
     "end_time": "2019-10-20T10:03:48.923881Z",
     "start_time": "2019-10-20T10:02:14.483Z"
    }
   },
   "outputs": [],
   "source": [
    "columns = Total.columns.tolist()\n",
    "list_all = []\n",
    "for i in range(1824):\n",
    "    list_i = columns[i::1824]\n",
    "    list_all += list_i\n",
    "Total_new = Total[list_all]\n",
    "Total_new"
   ]
  },
  {
   "cell_type": "code",
   "execution_count": null,
   "metadata": {
    "ExecuteTime": {
     "end_time": "2019-10-20T10:03:48.930449Z",
     "start_time": "2019-10-20T10:02:14.558Z"
    }
   },
   "outputs": [],
   "source": [
    "Total_new.shape"
   ]
  },
  {
   "cell_type": "code",
   "execution_count": null,
   "metadata": {
    "ExecuteTime": {
     "end_time": "2019-10-20T10:03:48.933993Z",
     "start_time": "2019-10-20T10:02:14.628Z"
    }
   },
   "outputs": [],
   "source": [
    "df = pd.concat([df_CID, Total_new], axis=1, join='outer')\n",
    "df.shape"
   ]
  },
  {
   "cell_type": "code",
   "execution_count": null,
   "metadata": {
    "ExecuteTime": {
     "end_time": "2019-10-20T10:03:48.937640Z",
     "start_time": "2019-10-20T10:02:14.723Z"
    }
   },
   "outputs": [],
   "source": [
    "df.to_csv('../Output_Data_CSV/Combination_with_Input_Data/df.csv',\n",
    "          sep=';',\n",
    "          index=None,\n",
    "          header=True,\n",
    "          encoding='utf-8')"
   ]
  },
  {
   "cell_type": "code",
   "execution_count": null,
   "metadata": {
    "ExecuteTime": {
     "end_time": "2019-10-20T10:03:48.940089Z",
     "start_time": "2019-10-20T10:02:14.772Z"
    }
   },
   "outputs": [],
   "source": [
    "b.Energy_Price + b.Carbon_Tax"
   ]
  },
  {
   "cell_type": "code",
   "execution_count": null,
   "metadata": {
    "ExecuteTime": {
     "end_time": "2019-10-18T16:20:52.267643Z",
     "start_time": "2019-10-18T16:20:52.244538Z"
    }
   },
   "outputs": [],
   "source": []
  },
  {
   "cell_type": "code",
   "execution_count": null,
   "metadata": {
    "ExecuteTime": {
     "end_time": "2019-10-20T10:03:48.947087Z",
     "start_time": "2019-10-20T10:02:14.861Z"
    }
   },
   "outputs": [],
   "source": [
    "np.divide(np.add(b.Energy_Price, b.Carbon_Tax), np.add(1, b.Discount_Rate))"
   ]
  },
  {
   "cell_type": "code",
   "execution_count": null,
   "metadata": {
    "ExecuteTime": {
     "end_time": "2019-10-20T10:03:48.950594Z",
     "start_time": "2019-10-20T10:02:14.911Z"
    }
   },
   "outputs": [],
   "source": [
    "A = np.divide(\n",
    "    np.add(\n",
    "        np.multiply(\n",
    "            b.Energy_Price,\n",
    "            np.power(np.add(1, b.Annual_Variation),\n",
    "                     np.add(2, np.subtract(0, 2)))), b.Carbon_Tax),\n",
    "    np.power(np.add(1, b.Discount_Rate), 2))"
   ]
  },
  {
   "cell_type": "code",
   "execution_count": null,
   "metadata": {
    "ExecuteTime": {
     "end_time": "2019-10-20T10:03:48.952802Z",
     "start_time": "2019-10-20T10:02:14.967Z"
    }
   },
   "outputs": [],
   "source": [
    "A"
   ]
  },
  {
   "cell_type": "code",
   "execution_count": null,
   "metadata": {
    "ExecuteTime": {
     "end_time": "2019-10-20T10:03:48.956909Z",
     "start_time": "2019-10-20T10:02:15.017Z"
    }
   },
   "outputs": [],
   "source": [
    "B = np.add(\n",
    "    np.multiply(\n",
    "        b.Energy_Price,\n",
    "        np.power(np.add(1, b.Annual_Variation), np.add(2, np.subtract(1, 2)))),\n",
    "    b.Carbon_Tax)\n",
    "B"
   ]
  },
  {
   "cell_type": "code",
   "execution_count": null,
   "metadata": {},
   "outputs": [],
   "source": []
  },
  {
   "cell_type": "code",
   "execution_count": null,
   "metadata": {
    "ExecuteTime": {
     "end_time": "2019-10-20T10:03:48.962813Z",
     "start_time": "2019-10-20T10:02:15.121Z"
    }
   },
   "outputs": [],
   "source": [
    "list_1 = list(range(20))\n",
    "\n",
    "list_1"
   ]
  },
  {
   "cell_type": "code",
   "execution_count": null,
   "metadata": {
    "ExecuteTime": {
     "end_time": "2019-10-20T10:03:48.966678Z",
     "start_time": "2019-10-20T10:02:15.179Z"
    }
   },
   "outputs": [],
   "source": [
    "def Fun(f):\n",
    "    def inne(a, b):\n",
    "        r = f(a, b)\n",
    "        return r\n",
    "\n",
    "    r = inne()\n",
    "    r += 2\n",
    "    return r\n",
    "\n",
    "\n",
    "@Fun\n",
    "def myadd(a, b):\n",
    "    return a + b\n",
    "\n",
    "\n",
    "print(myadd(2, 3))"
   ]
  },
  {
   "cell_type": "code",
   "execution_count": null,
   "metadata": {
    "ExecuteTime": {
     "end_time": "2019-10-20T10:03:48.969603Z",
     "start_time": "2019-10-20T10:02:15.244Z"
    }
   },
   "outputs": [],
   "source": [
    "class A(object):\n",
    "\n",
    "    _g = 1\n",
    "\n",
    "    def foo(self, x):\n",
    "        print('executing foo(%s,%s)' % (self, x))\n",
    "\n",
    "    @classmethod\n",
    "    def class_foo(cls, x):\n",
    "        print('executing class_foo(%s,%s)' % (cls, x))\n",
    "\n",
    "    @staticmethod\n",
    "    def static_foo(x):\n",
    "        print('executing static_foo(%s)' % x)\n",
    "\n",
    "\n",
    "a = A()\n",
    "a.foo(1)\n",
    "a.class_foo(1)\n",
    "A.class_foo(1)\n",
    "a.static_foo(1)\n",
    "A.static_foo(1)"
   ]
  },
  {
   "cell_type": "code",
   "execution_count": null,
   "metadata": {
    "ExecuteTime": {
     "end_time": "2019-10-20T10:03:48.971586Z",
     "start_time": "2019-10-20T10:02:15.304Z"
    }
   },
   "outputs": [],
   "source": [
    "class ShowClassName(object):\n",
    "    def __init__(self, cls):\n",
    "        self._cls = cls\n",
    "\n",
    "    def __call__(self, a):\n",
    "        print('class name:', self._cls.__name__)\n",
    "        return self._cls(a)\n",
    "\n",
    "\n",
    "@ShowClassName\n",
    "class Foobar(object):\n",
    "    def __init__(self, a):\n",
    "        self.value = a\n",
    "\n",
    "    def fun(self):\n",
    "        print(self.value)\n",
    "\n",
    "\n",
    "a = Foobar('xiemanR')\n",
    "a.fun()"
   ]
  },
  {
   "cell_type": "code",
   "execution_count": null,
   "metadata": {
    "ExecuteTime": {
     "end_time": "2019-10-20T10:03:48.974437Z",
     "start_time": "2019-10-20T10:02:15.358Z"
    }
   },
   "outputs": [],
   "source": [
    "df_CID"
   ]
  },
  {
   "cell_type": "code",
   "execution_count": null,
   "metadata": {
    "ExecuteTime": {
     "end_time": "2019-10-20T10:03:48.988399Z",
     "start_time": "2019-10-20T10:02:15.399Z"
    }
   },
   "outputs": [],
   "source": [
    "df = df_CID.T\n",
    "df"
   ]
  },
  {
   "cell_type": "code",
   "execution_count": null,
   "metadata": {
    "ExecuteTime": {
     "end_time": "2019-10-20T10:03:48.990928Z",
     "start_time": "2019-10-20T10:02:15.449Z"
    }
   },
   "outputs": [],
   "source": [
    "df += df"
   ]
  },
  {
   "cell_type": "code",
   "execution_count": null,
   "metadata": {
    "ExecuteTime": {
     "end_time": "2019-10-20T10:03:48.998618Z",
     "start_time": "2019-10-20T10:02:15.488Z"
    }
   },
   "outputs": [],
   "source": [
    "df"
   ]
  },
  {
   "cell_type": "code",
   "execution_count": null,
   "metadata": {
    "ExecuteTime": {
     "end_time": "2019-10-20T10:03:49.002774Z",
     "start_time": "2019-10-20T10:02:15.553Z"
    }
   },
   "outputs": [],
   "source": [
    "df_CID"
   ]
  },
  {
   "cell_type": "code",
   "execution_count": null,
   "metadata": {},
   "outputs": [],
   "source": []
  }
 ],
 "metadata": {
  "hide_input": false,
  "kernelspec": {
   "display_name": "Python 3",
   "language": "python",
   "name": "python3"
  },
  "language_info": {
   "codemirror_mode": {
    "name": "ipython",
    "version": 3
   },
   "file_extension": ".py",
   "mimetype": "text/x-python",
   "name": "python",
   "nbconvert_exporter": "python",
   "pygments_lexer": "ipython3",
   "version": "3.7.3"
  },
  "latex_envs": {
   "LaTeX_envs_menu_present": true,
   "autoclose": true,
   "autocomplete": false,
   "bibliofile": "biblio.bib",
   "cite_by": "apalike",
   "current_citInitial": 1,
   "eqLabelWithNumbers": true,
   "eqNumInitial": 1,
   "hotkeys": {
    "equation": "Ctrl-E",
    "itemize": "Ctrl-I"
   },
   "labels_anchors": true,
   "latex_user_defs": false,
   "report_style_numbering": true,
   "user_envs_cfg": true
  },
  "nbTranslate": {
   "displayLangs": [
    "*"
   ],
   "hotkey": "alt-t",
   "langInMainMenu": true,
   "sourceLang": "en",
   "targetLang": "fr",
   "useGoogleTranslate": true
  },
  "toc": {
   "base_numbering": 1,
   "nav_menu": {},
   "number_sections": true,
   "sideBar": true,
   "skip_h1_title": false,
   "title_cell": "Table of Contents",
   "title_sidebar": "Contents",
   "toc_cell": true,
   "toc_position": {
    "height": "calc(100% - 180px)",
    "left": "10px",
    "top": "150px",
    "width": "223.75px"
   },
   "toc_section_display": true,
   "toc_window_display": true
  },
  "varInspector": {
   "cols": {
    "lenName": 16,
    "lenType": 16,
    "lenVar": 40
   },
   "kernels_config": {
    "python": {
     "delete_cmd_postfix": "",
     "delete_cmd_prefix": "del ",
     "library": "var_list.py",
     "varRefreshCmd": "print(var_dic_list())"
    },
    "r": {
     "delete_cmd_postfix": ") ",
     "delete_cmd_prefix": "rm(",
     "library": "var_list.r",
     "varRefreshCmd": "cat(var_dic_list()) "
    }
   },
   "oldHeight": 122.43799999999999,
   "position": {
    "height": "152px",
    "left": "1060.98px",
    "right": "20px",
    "top": "188px",
    "width": "335px"
   },
   "types_to_exclude": [
    "module",
    "function",
    "builtin_function_or_method",
    "instance",
    "_Feature"
   ],
   "varInspector_section_display": "none",
   "window_display": true
  }
 },
 "nbformat": 4,
 "nbformat_minor": 2
}
