{
 "cells": [
  {
   "cell_type": "markdown",
   "metadata": {
    "toc": true
   },
   "source": [
    "<h1>Table of Contents<span class=\"tocSkip\"></span></h1>\n",
    "<div class=\"toc\"><ul class=\"toc-item\"><li><span><a href=\"#Importation-of-necessary-libraries\" data-toc-modified-id=\"Importation-of-necessary-libraries-1\"><span class=\"toc-item-num\">1&nbsp;&nbsp;</span>Importation of necessary libraries</a></span></li><li><span><a href=\"#Extraction-of-data-from-CSV-files\" data-toc-modified-id=\"Extraction-of-data-from-CSV-files-2\"><span class=\"toc-item-num\">2&nbsp;&nbsp;</span>Extraction of data from CSV files</a></span></li><li><span><a href=\"#Combination-of-all-the-necessary-data\" data-toc-modified-id=\"Combination-of-all-the-necessary-data-3\"><span class=\"toc-item-num\">3&nbsp;&nbsp;</span>Combination of all the necessary data</a></span><ul class=\"toc-item\"><li><span><a href=\"#Class-for-all-types-of-dwellings\" data-toc-modified-id=\"Class-for-all-types-of-dwellings-3.1\"><span class=\"toc-item-num\">3.1&nbsp;&nbsp;</span>Class for all types of dwellings</a></span></li><li><span><a href=\"#Class-for-the-CID-type-dwellings\" data-toc-modified-id=\"Class-for-the-CID-type-dwellings-3.2\"><span class=\"toc-item-num\">3.2&nbsp;&nbsp;</span>Class for the CID type dwellings</a></span></li><li><span><a href=\"#Class-for-the-CCD-type-dwellings\" data-toc-modified-id=\"Class-for-the-CCD-type-dwellings-3.3\"><span class=\"toc-item-num\">3.3&nbsp;&nbsp;</span>Class for the CCD type dwellings</a></span></li><li><span><a href=\"#Class-for-the-ID-type-dwellings\" data-toc-modified-id=\"Class-for-the-ID-type-dwellings-3.4\"><span class=\"toc-item-num\">3.4&nbsp;&nbsp;</span>Class for the ID type dwellings</a></span></li><li><span><a href=\"#Class-instantiation-for-each-type-of-dwelling\" data-toc-modified-id=\"Class-instantiation-for-each-type-of-dwelling-3.5\"><span class=\"toc-item-num\">3.5&nbsp;&nbsp;</span>Class instantiation for each type of dwelling</a></span></li><li><span><a href=\"#Data-retention\" data-toc-modified-id=\"Data-retention-3.6\"><span class=\"toc-item-num\">3.6&nbsp;&nbsp;</span>Data retention</a></span></li></ul></li><li><span><a href=\"#Creation-of-some-calculable-columns\" data-toc-modified-id=\"Creation-of-some-calculable-columns-4\"><span class=\"toc-item-num\">4&nbsp;&nbsp;</span>Creation of some calculable columns</a></span><ul class=\"toc-item\"><li><span><a href=\"#Class-for-all-types-of-dwellings\" data-toc-modified-id=\"Class-for-all-types-of-dwellings-4.1\"><span class=\"toc-item-num\">4.1&nbsp;&nbsp;</span>Class for all types of dwellings</a></span></li><li><span><a href=\"#Class-for-the-collective-dwellings\" data-toc-modified-id=\"Class-for-the-collective-dwellings-4.2\"><span class=\"toc-item-num\">4.2&nbsp;&nbsp;</span>Class for the collective dwellings</a></span><ul class=\"toc-item\"><li><span><a href=\"#Class-for-the-DataFrame-with-U-Factors\" data-toc-modified-id=\"Class-for-the-DataFrame-with-U-Factors-4.2.1\"><span class=\"toc-item-num\">4.2.1&nbsp;&nbsp;</span>Class for the DataFrame with U Factors</a></span></li><li><span><a href=\"#Class-for-the-DataFrame-with-U-Prices\" data-toc-modified-id=\"Class-for-the-DataFrame-with-U-Prices-4.2.2\"><span class=\"toc-item-num\">4.2.2&nbsp;&nbsp;</span>Class for the DataFrame with U Prices</a></span></li></ul></li><li><span><a href=\"#Class-for-the-individual-dwellings-$#####$\" data-toc-modified-id=\"Class-for-the-individual-dwellings-$#####$-4.3\"><span class=\"toc-item-num\">4.3&nbsp;&nbsp;</span>Class for the individual dwellings $#####$</a></span><ul class=\"toc-item\"><li><span><a href=\"#Class-for-the-DataFrame-with-U-Factors\" data-toc-modified-id=\"Class-for-the-DataFrame-with-U-Factors-4.3.1\"><span class=\"toc-item-num\">4.3.1&nbsp;&nbsp;</span>Class for the DataFrame with U Factors</a></span></li><li><span><a href=\"#Class-for-the-DataFrame-with-U-Prices\" data-toc-modified-id=\"Class-for-the-DataFrame-with-U-Prices-4.3.2\"><span class=\"toc-item-num\">4.3.2&nbsp;&nbsp;</span>Class for the DataFrame with U Prices</a></span></li></ul></li><li><span><a href=\"#Class-instantiation-for-each-type-of-dwelling\" data-toc-modified-id=\"Class-instantiation-for-each-type-of-dwelling-4.4\"><span class=\"toc-item-num\">4.4&nbsp;&nbsp;</span>Class instantiation for each type of dwelling</a></span></li></ul></li><li><span><a href=\"#Creation-of-some-calculable-DataFrames\" data-toc-modified-id=\"Creation-of-some-calculable-DataFrames-5\"><span class=\"toc-item-num\">5&nbsp;&nbsp;</span>Creation of some calculable DataFrames</a></span><ul class=\"toc-item\"><li><span><a href=\"#Class-for-all-types-of-dwellings\" data-toc-modified-id=\"Class-for-all-types-of-dwellings-5.1\"><span class=\"toc-item-num\">5.1&nbsp;&nbsp;</span>Class for all types of dwellings</a></span></li><li><span><a href=\"#Class-for-the-CID-type-dwellings\" data-toc-modified-id=\"Class-for-the-CID-type-dwellings-5.2\"><span class=\"toc-item-num\">5.2&nbsp;&nbsp;</span>Class for the CID type dwellings</a></span><ul class=\"toc-item\"><li><span><a href=\"#Class-for-the-DataFrame-with-U-Factors\" data-toc-modified-id=\"Class-for-the-DataFrame-with-U-Factors-5.2.1\"><span class=\"toc-item-num\">5.2.1&nbsp;&nbsp;</span>Class for the DataFrame with U Factors</a></span></li><li><span><a href=\"#Class-for-the-DataFrame-with-U-Prices\" data-toc-modified-id=\"Class-for-the-DataFrame-with-U-Prices-5.2.2\"><span class=\"toc-item-num\">5.2.2&nbsp;&nbsp;</span>Class for the DataFrame with U Prices</a></span></li></ul></li><li><span><a href=\"#Qin\" data-toc-modified-id=\"Qin-5.3\"><span class=\"toc-item-num\">5.3&nbsp;&nbsp;</span>Qin</a></span></li></ul></li></ul></div>"
   ]
  },
  {
   "cell_type": "markdown",
   "metadata": {},
   "source": [
    "# Importation of necessary libraries"
   ]
  },
  {
   "cell_type": "code",
   "execution_count": 1,
   "metadata": {
    "ExecuteTime": {
     "end_time": "2019-10-09T12:43:04.123434Z",
     "start_time": "2019-10-09T12:43:03.030018Z"
    }
   },
   "outputs": [],
   "source": [
    "import pandas as pd\n",
    "\n",
    "import itertools\n",
    "\n",
    "import numpy as np"
   ]
  },
  {
   "cell_type": "markdown",
   "metadata": {},
   "source": [
    "# Extraction of data from CSV files"
   ]
  },
  {
   "cell_type": "code",
   "execution_count": 2,
   "metadata": {
    "ExecuteTime": {
     "end_time": "2019-10-09T12:43:04.174411Z",
     "start_time": "2019-10-09T12:43:04.125355Z"
    },
    "code_folding": []
   },
   "outputs": [],
   "source": [
    "df_Wall_Investment = pd.read_csv('../Input_Data_CSV/Wall_Investment.csv',\n",
    "                                 sep=';',\n",
    "                                 index_col=None,\n",
    "                                 header=0)\n",
    "\n",
    "df_Window_Investment = pd.read_csv('../Input_Data_CSV/Window_Investment.csv',\n",
    "                                   sep=';',\n",
    "                                   index_col=None,\n",
    "                                   header=0)\n",
    "\n",
    "df_Roof_Investment = pd.read_csv('../Input_Data_CSV/Roof_Investment.csv',\n",
    "                                 sep=';',\n",
    "                                 index_col=None,\n",
    "                                 header=0)\n",
    "\n",
    "df_Floor_Investment = pd.read_csv('../Input_Data_CSV/Floor_Investment.csv',\n",
    "                                  sep=';',\n",
    "                                  index_col=None,\n",
    "                                  header=0)\n",
    "\n",
    "df_Housing_Characteristics = pd.read_csv(\n",
    "    '../Input_Data_CSV/Housing_Characteristics.csv',\n",
    "    sep=';',\n",
    "    index_col=None,\n",
    "    header=0)\n",
    "\n",
    "df_Climate_Zone = pd.read_csv('../Input_Data_CSV/Climate_Zone.csv',\n",
    "                              sep=';',\n",
    "                              index_col=None,\n",
    "                              header=0)\n",
    "\n",
    "df_Heating_System = pd.read_csv('../Input_Data_CSV/Heating_System.csv',\n",
    "                                sep=';',\n",
    "                                index_col=None,\n",
    "                                header=0)\n",
    "\n",
    "df_Headcount = pd.read_csv('../Input_Data_CSV/Headcount.csv',\n",
    "                           sep=';',\n",
    "                           index_col=None,\n",
    "                           header=0)\n",
    "\n",
    "df_Economic_Hypothesis = pd.read_csv(\n",
    "    '../Input_Data_CSV/Economic_Hypothesis.csv',\n",
    "    sep=';',\n",
    "    index_col=None,\n",
    "    header=0)"
   ]
  },
  {
   "cell_type": "markdown",
   "metadata": {},
   "source": [
    "# Combination of all the necessary data\n",
    "\n",
    "## Class for all types of dwellings"
   ]
  },
  {
   "cell_type": "code",
   "execution_count": 3,
   "metadata": {
    "ExecuteTime": {
     "end_time": "2019-10-09T12:43:04.222941Z",
     "start_time": "2019-10-09T12:43:04.218699Z"
    }
   },
   "outputs": [],
   "source": [
    "class All_Types:\n",
    "    def __init__(self, *args):\n",
    "        self.df_1 = df_Climate_Zone\n",
    "        self.df_2 = df_Housing_Characteristics\n",
    "        self.df_3 = df_Headcount\n",
    "        self.df_4 = df_Heating_System\n",
    "        self.df_5 = df_Economic_Hypothesis\n",
    "        self.df_6 = df_Wall_Investment\n",
    "        self.df_7 = df_Window_Investment\n",
    "        self.df_8 = df_Roof_Investment\n",
    "        self.df_9 = df_Floor_Investment"
   ]
  },
  {
   "cell_type": "markdown",
   "metadata": {},
   "source": [
    "## Class for the CID type dwellings"
   ]
  },
  {
   "cell_type": "code",
   "execution_count": 4,
   "metadata": {
    "ExecuteTime": {
     "end_time": "2019-10-09T12:43:04.774005Z",
     "start_time": "2019-10-09T12:43:04.749885Z"
    }
   },
   "outputs": [],
   "source": [
    "class CID_Type(All_Types):\n",
    "    def init(self, *args):\n",
    "        super().init(*args)\n",
    "\n",
    "    def Combine_Lists(self):\n",
    "        self.list_combined = []\n",
    "        list_dwelling_type = ['CID']\n",
    "        list_climate_type = self.df_1.iloc[:, 0].tolist()\n",
    "        list_construction_period = self.df_2.iloc[:21, 1].tolist()[::3]\n",
    "        list_size_factor = self.df_2.iloc[:3, 2].tolist()\n",
    "        list_heating_system = [\n",
    "            'ER', 'GB', 'CGB', 'OB', 'COB', 'EHP2', 'WB', 'WPB', 'EHP'\n",
    "        ]\n",
    "        list_initial_age = self.df_3.iloc[:20, 5].tolist()\n",
    "        self.list_combined.append(list_dwelling_type)\n",
    "        self.list_combined.append(list_climate_type)\n",
    "        self.list_combined.append(list_construction_period)\n",
    "        self.list_combined.append(list_size_factor)\n",
    "        self.list_combined.append(list_heating_system)\n",
    "        self.list_combined.append(list_initial_age)\n",
    "        return self.list_combined\n",
    "\n",
    "    def Generate_DF(self):\n",
    "        self.Combine_Lists()\n",
    "        itertools_product = list(itertools.product(*self.list_combined))\n",
    "        self.df = pd.DataFrame(itertools_product,\n",
    "                               columns=[\n",
    "                                   'Dwelling Type', 'Climate Type',\n",
    "                                   'Construction Period', 'Size Factor',\n",
    "                                   'Heating System', 'Initial Age'\n",
    "                               ])\n",
    "        return self.df\n",
    "\n",
    "    def Merge_DFs(self):\n",
    "        self.Generate_DF()\n",
    "        self.df = self.df.merge(self.df_1, how='left', on=['Climate Type'])\n",
    "        self.df = self.df.merge(self.df_2.iloc[:21, 1:9],\n",
    "                                how='left',\n",
    "                                on=['Construction Period', 'Size Factor'])\n",
    "        self.df = self.df.merge(self.df_4.iloc[:9, :],\n",
    "                                how='left',\n",
    "                                on=['Heating System'])\n",
    "        return self.df\n",
    "\n",
    "    def Add_Columns(self):\n",
    "        self.Merge_DFs()\n",
    "        self.df[self.df_5.columns[0]] = self.df_5.iloc[0, 0]\n",
    "        self.df[self.df_5.columns[1]] = self.df_5.iloc[0, 1]\n",
    "        self.df[self.df_5.columns[2]] = self.df_5.iloc[0, 2]\n",
    "        self.df[self.df_5.columns[3]] = self.df_5.iloc[0, 3]\n",
    "        return self.df\n",
    "\n",
    "    def Concat_DFs(self):\n",
    "        self.Add_Columns()\n",
    "        self.df = pd.concat([self.df, self.df_3.iloc[0:11340, 6]],\n",
    "                            axis=1,\n",
    "                            join='outer')\n",
    "        return self.df\n",
    "\n",
    "    def Reorder_Columns(self):\n",
    "        self.Concat_DFs()\n",
    "        cols = self.df.columns.tolist()\n",
    "        reordered_cols = cols[:2] + cols[6:7] + cols[2:4] + cols[7:13] + cols[\n",
    "            4:5] + cols[13:28] + cols[5:6] + cols[28:29]\n",
    "        self.df = self.df[reordered_cols]\n",
    "        return self.df\n",
    "\n",
    "    def Add_U_Factors(self):\n",
    "        self.Reorder_Columns()\n",
    "        self.df = self.df.merge(\n",
    "            self.df_2.loc[:20, ['Construction Period', 'Size Factor', 'Um0']],\n",
    "            how='left',\n",
    "            on=['Construction Period', 'Size Factor'])\n",
    "        for m in range(18):\n",
    "            self.df['Um' + str(m + 1)] = self.df_6.iloc[m, 2]\n",
    "        self.df = self.df.merge(\n",
    "            self.df_2.loc[:20, ['Construction Period', 'Size Factor', 'Uw0']],\n",
    "            how='left',\n",
    "            on=['Construction Period', 'Size Factor'])\n",
    "        for w in range(3):\n",
    "            self.df['Uw' + str(w + 1)] = self.df_7.iloc[w, 2]\n",
    "        self.df = self.df.merge(\n",
    "            self.df_2.loc[:20, ['Construction Period', 'Size Factor', 'Ur0']],\n",
    "            how='left',\n",
    "            on=['Construction Period', 'Size Factor'])\n",
    "        for r in range(3):\n",
    "            self.df['Ur' + str(r + 1)] = self.df_8.iloc[r, 2]\n",
    "        self.df = self.df.merge(\n",
    "            self.df_2.loc[:20, ['Construction Period', 'Size Factor', 'Uf0']],\n",
    "            how='left',\n",
    "            on=['Construction Period', 'Size Factor'])\n",
    "        for f in range(5):\n",
    "            self.df['Uf' + str(f + 1)] = self.df_9.iloc[f, 2]\n",
    "        return self.df\n",
    "\n",
    "    def Add_U_Prices(self):\n",
    "        self.Reorder_Columns()\n",
    "        self.df['Um0'] = 0\n",
    "        for m in range(18):\n",
    "            self.df['Um' + str(m + 1)] = self.df_6.iloc[m, 3]\n",
    "        self.df['Uw0'] = 0\n",
    "        for w in range(3):\n",
    "            self.df['Uw' + str(w + 1)] = self.df_7.iloc[w, 3]\n",
    "        self.df['Ur0'] = 0\n",
    "        for r in range(3):\n",
    "            self.df['Ur' + str(r + 1)] = self.df_8.iloc[r, 3]\n",
    "        self.df['Uf0'] = 0\n",
    "        for f in range(5):\n",
    "            self.df['Uf' + str(f + 1)] = self.df_9.iloc[f, 3]\n",
    "        return self.df"
   ]
  },
  {
   "cell_type": "markdown",
   "metadata": {},
   "source": [
    "## Class for the CCD type dwellings"
   ]
  },
  {
   "cell_type": "code",
   "execution_count": 5,
   "metadata": {
    "ExecuteTime": {
     "end_time": "2019-10-09T12:43:05.309253Z",
     "start_time": "2019-10-09T12:43:05.285035Z"
    }
   },
   "outputs": [],
   "source": [
    "class CCD_Type(All_Types):\n",
    "    def init(self, *args):\n",
    "        super().init(*args)\n",
    "\n",
    "    def Combine_Lists(self):\n",
    "        self.list_combined = []\n",
    "        list_dwelling_type = ['CCD']\n",
    "        list_climate_type = self.df_1.iloc[:, 0].tolist()\n",
    "        list_construction_period = self.df_2.iloc[:21, 1].tolist()[::3]\n",
    "        list_size_factor = self.df_2.iloc[:3, 2].tolist()\n",
    "        list_heating_system = [\n",
    "            'GB', 'CGB', 'OB', 'COB', 'EHP2', 'WB', 'WPB', 'EHP'\n",
    "        ]\n",
    "        list_initial_age = self.df_3.iloc[:20, 5].tolist()\n",
    "        self.list_combined.append(list_dwelling_type)\n",
    "        self.list_combined.append(list_climate_type)\n",
    "        self.list_combined.append(list_construction_period)\n",
    "        self.list_combined.append(list_size_factor)\n",
    "        self.list_combined.append(list_heating_system)\n",
    "        self.list_combined.append(list_initial_age)\n",
    "        return self.list_combined\n",
    "\n",
    "    def Generate_DF(self):\n",
    "        self.Combine_Lists()\n",
    "        itertools_product = list(itertools.product(*self.list_combined))\n",
    "        self.df = pd.DataFrame(itertools_product,\n",
    "                               columns=[\n",
    "                                   'Dwelling Type', 'Climate Type',\n",
    "                                   'Construction Period', 'Size Factor',\n",
    "                                   'Heating System', 'Initial Age'\n",
    "                               ])\n",
    "        return self.df\n",
    "\n",
    "    def Merge_DFs(self):\n",
    "        self.Generate_DF()\n",
    "        self.df = self.df.merge(self.df_1, how='left', on=['Climate Type'])\n",
    "        self.df = self.df.merge(self.df_2.iloc[:21, 1:9],\n",
    "                                how='left',\n",
    "                                on=['Construction Period', 'Size Factor'])\n",
    "        self.df = self.df.merge(self.df_4.iloc[9:17, :],\n",
    "                                how='left',\n",
    "                                on=['Heating System'])\n",
    "        return self.df\n",
    "\n",
    "    def Add_Columns(self):\n",
    "        self.Merge_DFs()\n",
    "        self.df[self.df_5.columns[0]] = self.df_5.iloc[0, 0]\n",
    "        self.df[self.df_5.columns[1]] = self.df_5.iloc[0, 1]\n",
    "        self.df[self.df_5.columns[2]] = self.df_5.iloc[0, 2]\n",
    "        self.df[self.df_5.columns[3]] = self.df_5.iloc[0, 3]\n",
    "        return self.df\n",
    "\n",
    "    def Concat_DFs(self):\n",
    "        self.Add_Columns()\n",
    "        self.df = pd.concat(\n",
    "            [self.df, self.df_3.iloc[11340:21420, 6].reset_index(drop=True)],\n",
    "            axis=1,\n",
    "            join='outer')\n",
    "        return self.df\n",
    "\n",
    "    def Reorder_Columns(self):\n",
    "        self.Concat_DFs()\n",
    "        cols = self.df.columns.tolist()\n",
    "        reordered_cols = cols[:2] + cols[6:7] + cols[2:4] + cols[7:13] + cols[\n",
    "            4:5] + cols[13:28] + cols[5:6] + cols[28:29]\n",
    "        self.df = self.df[reordered_cols]\n",
    "        return self.df\n",
    "\n",
    "    def Add_U_Factors(self):\n",
    "        self.Reorder_Columns()\n",
    "        self.df = self.df.merge(\n",
    "            self.df_2.loc[:20, ['Construction Period', 'Size Factor', 'Um0']],\n",
    "            how='left',\n",
    "            on=['Construction Period', 'Size Factor'])\n",
    "        for m in range(18):\n",
    "            self.df['Um' + str(m + 1)] = self.df_6.iloc[m, 2]\n",
    "        self.df = self.df.merge(\n",
    "            self.df_2.loc[:20, ['Construction Period', 'Size Factor', 'Uw0']],\n",
    "            how='left',\n",
    "            on=['Construction Period', 'Size Factor'])\n",
    "        for w in range(3):\n",
    "            self.df['Uw' + str(w + 1)] = self.df_7.iloc[w, 2]\n",
    "        self.df = self.df.merge(\n",
    "            self.df_2.loc[:20, ['Construction Period', 'Size Factor', 'Ur0']],\n",
    "            how='left',\n",
    "            on=['Construction Period', 'Size Factor'])\n",
    "        for r in range(3):\n",
    "            self.df['Ur' + str(r + 1)] = self.df_8.iloc[r, 2]\n",
    "        self.df = self.df.merge(\n",
    "            self.df_2.loc[:20, ['Construction Period', 'Size Factor', 'Uf0']],\n",
    "            how='left',\n",
    "            on=['Construction Period', 'Size Factor'])\n",
    "        for f in range(5):\n",
    "            self.df['Uf' + str(f + 1)] = self.df_9.iloc[f, 2]\n",
    "        return self.df\n",
    "\n",
    "    def Add_U_Prices(self):\n",
    "        self.Reorder_Columns()\n",
    "        self.df['Um0'] = 0\n",
    "        for m in range(18):\n",
    "            self.df['Um' + str(m + 1)] = self.df_6.iloc[m, 3]\n",
    "        self.df['Uw0'] = 0\n",
    "        for w in range(3):\n",
    "            self.df['Uw' + str(w + 1)] = self.df_7.iloc[w, 3]\n",
    "        self.df['Ur0'] = 0\n",
    "        for r in range(3):\n",
    "            self.df['Ur' + str(r + 1)] = self.df_8.iloc[r, 3]\n",
    "        self.df['Uf0'] = 0\n",
    "        for f in range(5):\n",
    "            self.df['Uf' + str(f + 1)] = self.df_9.iloc[f, 3]\n",
    "        return self.df"
   ]
  },
  {
   "cell_type": "markdown",
   "metadata": {},
   "source": [
    "## Class for the ID type dwellings"
   ]
  },
  {
   "cell_type": "code",
   "execution_count": 6,
   "metadata": {
    "ExecuteTime": {
     "end_time": "2019-10-09T12:43:05.856164Z",
     "start_time": "2019-10-09T12:43:05.832435Z"
    }
   },
   "outputs": [],
   "source": [
    "class ID_Type(All_Types):\n",
    "    def init(self, *args):\n",
    "        super().init(*args)\n",
    "\n",
    "    def Combine_Lists(self):\n",
    "        self.list_combined = []\n",
    "        list_dwelling_type = ['ID']\n",
    "        list_climate_type = self.df_1.iloc[:, 0].tolist()\n",
    "        list_construction_period = self.df_2.iloc[21:, 1].tolist()[::3]\n",
    "        list_size_factor = self.df_2.iloc[:3, 2].tolist()\n",
    "        list_heating_system = [\n",
    "            'ER', 'GB', 'CGB', 'OB', 'COB', 'EHP2', 'WB', 'WPB', 'EHP'\n",
    "        ]\n",
    "        list_initial_age = self.df_3.iloc[:20, 5].tolist()\n",
    "        self.list_combined.append(list_dwelling_type)\n",
    "        self.list_combined.append(list_climate_type)\n",
    "        self.list_combined.append(list_construction_period)\n",
    "        self.list_combined.append(list_size_factor)\n",
    "        self.list_combined.append(list_heating_system)\n",
    "        self.list_combined.append(list_initial_age)\n",
    "        return self.list_combined\n",
    "\n",
    "    def Generate_DF(self):\n",
    "        self.Combine_Lists()\n",
    "        itertools_product = list(itertools.product(*self.list_combined))\n",
    "        self.df = pd.DataFrame(itertools_product,\n",
    "                               columns=[\n",
    "                                   'Dwelling Type', 'Climate Type',\n",
    "                                   'Construction Period', 'Size Factor',\n",
    "                                   'Heating System', 'Initial Age'\n",
    "                               ])\n",
    "        return self.df\n",
    "\n",
    "    def Merge_DFs(self):\n",
    "        self.Generate_DF()\n",
    "        self.df = self.df.merge(self.df_1, how='left', on=['Climate Type'])\n",
    "        self.df = self.df.merge(self.df_2.iloc[21:, 1:9],\n",
    "                                how='left',\n",
    "                                on=['Construction Period', 'Size Factor'])\n",
    "        self.df = self.df.merge(self.df_4.iloc[17:, :],\n",
    "                                how='left',\n",
    "                                on=['Heating System'])\n",
    "        return self.df\n",
    "\n",
    "    def Add_Columns(self):\n",
    "        self.Merge_DFs()\n",
    "        self.df[self.df_5.columns[0]] = self.df_5.iloc[0, 0]\n",
    "        self.df[self.df_5.columns[1]] = self.df_5.iloc[0, 1]\n",
    "        self.df[self.df_5.columns[2]] = self.df_5.iloc[0, 2]\n",
    "        self.df[self.df_5.columns[3]] = self.df_5.iloc[0, 3]\n",
    "        return self.df\n",
    "\n",
    "    def Concat_DFs(self):\n",
    "        self.Add_Columns()\n",
    "        self.df = pd.concat(\n",
    "            [self.df, self.df_3.iloc[21420:, 6].reset_index(drop=True)],\n",
    "            axis=1,\n",
    "            join='outer')\n",
    "        return self.df\n",
    "\n",
    "    def Reorder_Columns(self):\n",
    "        self.Concat_DFs()\n",
    "        cols = self.df.columns.tolist()\n",
    "        reordered_cols = cols[:2] + cols[6:7] + cols[2:4] + cols[7:13] + cols[\n",
    "            4:5] + cols[13:28] + cols[5:6] + cols[28:29]\n",
    "        self.df = self.df[reordered_cols]\n",
    "        return self.df\n",
    "\n",
    "    def Add_U_Factors(self):\n",
    "        self.Reorder_Columns()\n",
    "        self.df = self.df.merge(\n",
    "            self.df_2.loc[21:, ['Construction Period', 'Size Factor', 'Um0']],\n",
    "            how='left',\n",
    "            on=['Construction Period', 'Size Factor'])\n",
    "        for m in range(19):\n",
    "            self.df['Um' + str(m + 1)] = self.df_6.iloc[m + 18, 2]\n",
    "        self.df = self.df.merge(\n",
    "            self.df_2.loc[21:, ['Construction Period', 'Size Factor', 'Uw0']],\n",
    "            how='left',\n",
    "            on=['Construction Period', 'Size Factor'])\n",
    "        for w in range(3):\n",
    "            self.df['Uw' + str(w + 1)] = self.df_7.iloc[w + 3, 2]\n",
    "        self.df = self.df.merge(\n",
    "            self.df_2.loc[21:, ['Construction Period', 'Size Factor', 'Ur0']],\n",
    "            how='left',\n",
    "            on=['Construction Period', 'Size Factor'])\n",
    "        for r in range(7):\n",
    "            self.df['Ur' + str(r + 1)] = self.df_8.iloc[r + 3, 2]\n",
    "        self.df = self.df.merge(\n",
    "            self.df_2.loc[21:, ['Construction Period', 'Size Factor', 'Uf0']],\n",
    "            how='left',\n",
    "            on=['Construction Period', 'Size Factor'])\n",
    "        for f in range(3):\n",
    "            self.df['Uf' + str(f + 1)] = self.df_9.iloc[f + 5, 2]\n",
    "        return self.df\n",
    "\n",
    "    def Add_U_Prices(self):\n",
    "        self.Reorder_Columns()\n",
    "        self.df['Um0'] = 0\n",
    "        for m in range(19):\n",
    "            self.df['Um' + str(m + 1)] = self.df_6.iloc[m + 18, 3]\n",
    "        self.df['Uw0'] = 0\n",
    "        for w in range(3):\n",
    "            self.df['Uw' + str(w + 1)] = self.df_7.iloc[w + 3, 3]\n",
    "        self.df['Ur0'] = 0\n",
    "        for r in range(7):\n",
    "            self.df['Ur' + str(r + 1)] = self.df_8.iloc[r + 3, 3]\n",
    "        self.df['Uf0'] = 0\n",
    "        for f in range(3):\n",
    "            self.df['Uf' + str(f + 1)] = self.df_9.iloc[f + 5, 3]\n",
    "        return self.df"
   ]
  },
  {
   "cell_type": "markdown",
   "metadata": {},
   "source": [
    "## Class instantiation for each type of dwelling"
   ]
  },
  {
   "cell_type": "code",
   "execution_count": 7,
   "metadata": {
    "ExecuteTime": {
     "end_time": "2019-10-09T12:43:06.625632Z",
     "start_time": "2019-10-09T12:43:06.443561Z"
    }
   },
   "outputs": [
    {
     "data": {
      "text/plain": [
       "(11340, 29)"
      ]
     },
     "execution_count": 7,
     "metadata": {},
     "output_type": "execute_result"
    }
   ],
   "source": [
    "Instance_CID = CID_Type()\n",
    "\n",
    "df_CID = Instance_CID.Reorder_Columns()\n",
    "df_CID_UF = Instance_CID.Add_U_Factors()\n",
    "df_CID_UP = Instance_CID.Add_U_Prices()\n",
    "\n",
    "df_CID.shape"
   ]
  },
  {
   "cell_type": "code",
   "execution_count": 8,
   "metadata": {
    "ExecuteTime": {
     "end_time": "2019-10-09T12:43:06.784031Z",
     "start_time": "2019-10-09T12:43:06.627522Z"
    }
   },
   "outputs": [
    {
     "data": {
      "text/plain": [
       "(10080, 29)"
      ]
     },
     "execution_count": 8,
     "metadata": {},
     "output_type": "execute_result"
    }
   ],
   "source": [
    "Instance_CCD = CCD_Type()\n",
    "\n",
    "df_CCD = Instance_CCD.Reorder_Columns()\n",
    "df_CCD_UF = Instance_CCD.Add_U_Factors()\n",
    "df_CCD_UP = Instance_CCD.Add_U_Prices()\n",
    "\n",
    "df_CCD.shape"
   ]
  },
  {
   "cell_type": "code",
   "execution_count": 9,
   "metadata": {
    "ExecuteTime": {
     "end_time": "2019-10-09T12:43:06.956061Z",
     "start_time": "2019-10-09T12:43:06.786051Z"
    }
   },
   "outputs": [
    {
     "data": {
      "text/plain": [
       "(11340, 29)"
      ]
     },
     "execution_count": 9,
     "metadata": {},
     "output_type": "execute_result"
    }
   ],
   "source": [
    "Instance_ID = ID_Type()\n",
    "\n",
    "df_ID = Instance_ID.Reorder_Columns()\n",
    "df_ID_UF = Instance_ID.Add_U_Factors()\n",
    "df_ID_UP = Instance_ID.Add_U_Prices()\n",
    "\n",
    "df_ID.shape"
   ]
  },
  {
   "cell_type": "markdown",
   "metadata": {},
   "source": [
    "## Data retention"
   ]
  },
  {
   "cell_type": "code",
   "execution_count": 10,
   "metadata": {
    "ExecuteTime": {
     "end_time": "2019-10-09T12:43:14.231896Z",
     "start_time": "2019-10-09T12:43:07.072815Z"
    }
   },
   "outputs": [],
   "source": [
    "df_CID.to_csv(\n",
    "    '../Output_Data_CSV/Combination_with_Input_Data/CID_Type_Dwellings.csv',\n",
    "    sep=';',\n",
    "    index=None,\n",
    "    header=True,\n",
    "    encoding='utf-8')\n",
    "\n",
    "df_CID_UF.to_csv(\n",
    "    '../Output_Data_CSV/Combination_with_Input_Data/CID_Type_Dwellings_with_U_Factors.csv',\n",
    "    sep=';',\n",
    "    index=None,\n",
    "    header=True,\n",
    "    encoding='utf-8')\n",
    "\n",
    "df_CID_UP.to_csv(\n",
    "    '../Output_Data_CSV/Combination_with_Input_Data/CID_Type_Dwellings_with_U_Prices.csv',\n",
    "    sep=';',\n",
    "    index=None,\n",
    "    header=True,\n",
    "    encoding='utf-8')\n",
    "\n",
    "df_CCD.to_csv(\n",
    "    '../Output_Data_CSV/Combination_with_Input_Data/CCD_Type_Dwellings.csv',\n",
    "    sep=';',\n",
    "    index=None,\n",
    "    header=True,\n",
    "    encoding='utf-8')\n",
    "\n",
    "df_CCD_UF.to_csv(\n",
    "    '../Output_Data_CSV/Combination_with_Input_Data/CCD_Type_Dwellings_with_U_Factors.csv',\n",
    "    sep=';',\n",
    "    index=None,\n",
    "    header=True,\n",
    "    encoding='utf-8')\n",
    "\n",
    "df_CCD_UP.to_csv(\n",
    "    '../Output_Data_CSV/Combination_with_Input_Data/CCD_Type_Dwellings_with_U_Prices.csv',\n",
    "    sep=';',\n",
    "    index=None,\n",
    "    header=True,\n",
    "    encoding='utf-8')\n",
    "\n",
    "df_ID.to_csv(\n",
    "    '../Output_Data_CSV/Combination_with_Input_Data/ID_Type_Dwellings.csv',\n",
    "    sep=';',\n",
    "    index=None,\n",
    "    header=True,\n",
    "    encoding='utf-8')\n",
    "\n",
    "df_ID_UF.to_csv(\n",
    "    '../Output_Data_CSV/Combination_with_Input_Data/ID_Type_Dwellings_with_U_Factors.csv',\n",
    "    sep=';',\n",
    "    index=None,\n",
    "    header=True,\n",
    "    encoding='utf-8')\n",
    "\n",
    "df_ID_UP.to_csv(\n",
    "    '../Output_Data_CSV/Combination_with_Input_Data/ID_Type_Dwellings_with_U_Prices.csv',\n",
    "    sep=';',\n",
    "    index=None,\n",
    "    header=True,\n",
    "    encoding='utf-8')"
   ]
  },
  {
   "cell_type": "markdown",
   "metadata": {},
   "source": [
    "# Creation of some calculable columns\n",
    "\n",
    "## Class for all types of dwellings"
   ]
  },
  {
   "cell_type": "code",
   "execution_count": 11,
   "metadata": {
    "ExecuteTime": {
     "end_time": "2019-10-09T12:43:14.305763Z",
     "start_time": "2019-10-09T12:43:14.247161Z"
    }
   },
   "outputs": [],
   "source": [
    "class Calculable_Columns:\n",
    "    def __init__(self, df, year):\n",
    "        self.df = df\n",
    "        self.year = year\n",
    "\n",
    "    def Rename_Columns(self):\n",
    "        self.df.columns = self.df.columns.str.replace(' ', '_')\n",
    "        return self.df\n",
    "\n",
    "    def Carbon_Tax(self):\n",
    "        self.Rename_Columns()\n",
    "        self.df['Carbon_Tax'] = np.multiply(self.df.Emission_Factor,\n",
    "                                            self.df.Carbon_Price)\n",
    "        return self.df\n",
    "\n",
    "    def Total_Prices(self):\n",
    "        self.Carbon_Tax()\n",
    "        self.df['Total_Prices'] = 0\n",
    "        for i in range(self.year, 40 + self.year):\n",
    "            self.df['Total_Prices'] = np.add(\n",
    "                np.divide(\n",
    "                    np.add(\n",
    "                        np.multiply(\n",
    "                            self.df.Energy_Price,\n",
    "                            np.power(np.add(1, self.df.Annual_Variation), i)),\n",
    "                        self.df.Carbon_Tax),\n",
    "                    np.power(np.add(1, self.df.Discount_Rate), i)),\n",
    "                self.df.Total_Prices)\n",
    "        return self.df\n",
    "\n",
    "    def Inflation_Rate_19(self):\n",
    "        self.Rename_Columns()\n",
    "        self.df['Inflation_Rate_19'] = np.power(\n",
    "            np.add(1, self.df.Inflation_Rate), np.add(19, self.year))\n",
    "        return self.df\n",
    "\n",
    "    def Inflation_Rate_39(self):\n",
    "        self.Rename_Columns()\n",
    "        self.df['Inflation_Rate_39'] = np.power(\n",
    "            np.add(1, self.df.Inflation_Rate), np.add(39, self.year))\n",
    "        return self.df\n",
    "\n",
    "    def Discount_19(self):\n",
    "        self.Rename_Columns()\n",
    "        self.df['Discount_19'] = np.power(np.add(1, self.df.Discount_Rate),\n",
    "                                          np.add(19, self.df.Initial_Age))\n",
    "        return self.df\n",
    "\n",
    "    def Discount_39(self):\n",
    "        self.Rename_Columns()\n",
    "        self.df['Discount_39'] = np.power(np.add(1, self.df.Discount_Rate),\n",
    "                                          np.add(39, self.df.Initial_Age))\n",
    "        return self.df\n",
    "\n",
    "    def Fraction_19_39(self):\n",
    "        self.Inflation_Rate_19()\n",
    "        self.Inflation_Rate_39()\n",
    "        self.Discount_19()\n",
    "        self.Discount_39()\n",
    "        self.df['Fraction_19_39'] = np.divide(\n",
    "            np.add(np.multiply(self.df.Inflation_Rate_19, self.df.Discount_39),\n",
    "                   np.multiply(self.df.Inflation_Rate_39,\n",
    "                               self.df.Discount_19)),\n",
    "            np.multiply(self.df.Discount_19, self.df.Discount_39))\n",
    "        return self.df\n",
    "\n",
    "    def GHC_Total_Prices_19_39(self):\n",
    "        self.Total_Prices()\n",
    "        self.Fraction_19_39()\n",
    "        self.df['GHC_Total_Prices_19_39'] = np.add(\n",
    "            np.multiply(self.df.B_Investment, self.df.Fraction_19_39),\n",
    "            np.divide(self.df.Total_Prices, self.df.Efficiency))\n",
    "        return self.df\n",
    "\n",
    "    def Discount_20(self):\n",
    "        self.Rename_Columns()\n",
    "        self.df['Discount_20'] = np.power(np.add(1, self.df.Discount_Rate), 20)\n",
    "        return self.df\n",
    "\n",
    "    def Inflation_Rate_0(self):\n",
    "        self.Rename_Columns()\n",
    "        self.df['Inflation_Rate_0'] = np.power(\n",
    "            np.add(1, self.df.Inflation_Rate), self.year)\n",
    "        return self.df\n",
    "\n",
    "    def Inflation_Rate_20(self):\n",
    "        self.Rename_Columns()\n",
    "        self.df['Inflation_Rate_20'] = np.power(\n",
    "            np.add(1, self.df.Inflation_Rate), np.add(20, self.year))\n",
    "        return self.df\n",
    "\n",
    "    def Fraction_0_20(self):\n",
    "        self.Inflation_Rate_0()\n",
    "        self.Inflation_Rate_20()\n",
    "        self.Discount_20()\n",
    "        self.df['Fraction_0_20'] = np.divide(\n",
    "            np.add(np.multiply(self.df.Discount_20, self.df.Inflation_Rate_0),\n",
    "                   self.df.Inflation_Rate_20), self.df.Discount_20)\n",
    "        return self.df\n",
    "\n",
    "    def GHC_Total_Prices_0_20(self):\n",
    "        self.Total_Prices()\n",
    "        self.Fraction_0_20()\n",
    "        self.df['GHC_Total_Prices_0_20'] = np.add(\n",
    "            np.multiply(self.df.B_Investment, self.df.Fraction_0_20),\n",
    "            np.divide(self.df.Total_Prices, self.df.Efficiency))\n",
    "        return self.df\n",
    "\n",
    "    def No_Gas_Prices(self):\n",
    "        self.Carbon_Tax()\n",
    "        self.df['No_Gas_Prices'] = 0\n",
    "        for i in range(self.year, 40 + self.year):\n",
    "            self.df['No_Gas_Prices'] = np.add(\n",
    "                np.divide(\n",
    "                    np.add(\n",
    "                        np.multiply(\n",
    "                            self.df.Specific_Gas_Price,\n",
    "                            np.power(np.add(1, self.df.Annual_Variation), i)),\n",
    "                        self.df.Carbon_Tax),\n",
    "                    np.power(np.add(1, self.df.Discount_Rate), i),\n",
    "                ), self.df.No_Gas_Prices)\n",
    "        return self.df\n",
    "\n",
    "    def GHC_No_Gas_Prices(self):\n",
    "        self.No_Gas_Prices()\n",
    "        self.Fraction_0_20()\n",
    "        self.df['GHC_No_Gas_Prices'] = np.add(\n",
    "            np.multiply(self.df.B_Investment, self.df.Fraction_0_20),\n",
    "            np.divide(self.df.No_Gas_Prices, self.df.Efficiency))\n",
    "        return self.df\n",
    "\n",
    "    def Maintenance(self):\n",
    "        self.Rename_Columns()\n",
    "        self.df['Maintenance'] = 0\n",
    "        for i in range(self.year, 40 + self.year):\n",
    "            self.df['Maintenance'] = np.add(\n",
    "                np.divide(\n",
    "                    np.multiply(self.df.Maintenance_Cost,\n",
    "                                np.power(np.add(1, self.df.Inflation_Rate),\n",
    "                                         i)),\n",
    "                    np.power(np.add(1, self.df.Discount_Rate), i)),\n",
    "                self.df.Maintenance)\n",
    "        return self.df\n",
    "\n",
    "    def Maintenance_19_39(self):\n",
    "        self.Maintenance()\n",
    "        self.Fraction_19_39()\n",
    "        self.df['Maintenance_19_39'] = np.add(\n",
    "            np.multiply(self.df.A_Investment, self.df.Fraction_19_39),\n",
    "            self.df.Maintenance)\n",
    "        return self.df\n",
    "\n",
    "    def Maintenance_Same(self):\n",
    "        self.Maintenance()\n",
    "        self.Fraction_0_20()\n",
    "        self.df['Maintenance_Same'] = np.add(\n",
    "            np.multiply(self.df.A_Investment, self.df.Fraction_0_20),\n",
    "            np.add(self.df.Maintenance, self.df.Same_Switch_Cost))\n",
    "        return self.df\n",
    "\n",
    "    def Maintenance_Different(self):\n",
    "        self.Maintenance()\n",
    "        self.Fraction_0_20()\n",
    "        self.df['Maintenance_Different'] = np.add(\n",
    "            np.multiply(self.df.A_Investment, self.df.Fraction_0_20),\n",
    "            np.add(self.df.Maintenance, self.df.Different_Switch_Cost))\n",
    "        return self.df\n",
    "\n",
    "    def Control_Cost(self):\n",
    "        self.Rename_Columns()\n",
    "        self.df['Control_Cost'] = np.multiply(self.df.Delevery_Type_Cost,\n",
    "                                              self.df.Surface)\n",
    "        return self.df\n",
    "\n",
    "    def Maintenance_Same_Plus(self):\n",
    "        self.Maintenance_Same()\n",
    "        self.Control_Cost()\n",
    "        self.df['Maintenance_Same_Plus'] = np.add(self.df.Maintenance_Same,\n",
    "                                                  self.df.Control_Cost)\n",
    "        return self.df\n",
    "\n",
    "    def Maintenance_Different_Plus(self):\n",
    "        self.Maintenance_Different()\n",
    "        self.Control_Cost()\n",
    "        self.df['Maintenance_Different_Plus'] = np.add(\n",
    "            self.df.Maintenance_Different, self.df.Control_Cost)\n",
    "        return self.df"
   ]
  },
  {
   "cell_type": "markdown",
   "metadata": {},
   "source": [
    "## Class for the collective dwellings"
   ]
  },
  {
   "cell_type": "code",
   "execution_count": 12,
   "metadata": {
    "ExecuteTime": {
     "end_time": "2019-10-09T12:43:14.336272Z",
     "start_time": "2019-10-09T12:43:14.322481Z"
    }
   },
   "outputs": [],
   "source": [
    "class Calculable_Columns_for_CxD(Calculable_Columns):\n",
    "    def init(self, df, year):\n",
    "        super().init(df)\n",
    "\n",
    "    def Surface_M(self):\n",
    "        self.Rename_Columns()\n",
    "        self.df['Surface_M'] = np.multiply(\n",
    "            np.multiply(\n",
    "                np.multiply(\n",
    "                    np.subtract(1, self.df.Share_of_Windows),\n",
    "                    np.sqrt(\n",
    "                        np.multiply(self.df.Surface,\n",
    "                                    self.df.Dwelling_per_Floor))), 4),\n",
    "            np.multiply(self.df.Ceiling_Height, np.add(self.df.Floors, 1)))\n",
    "        return self.df\n",
    "\n",
    "    def Surface_W(self):\n",
    "        self.Rename_Columns()\n",
    "        self.df['Surface_W'] = np.multiply(\n",
    "            np.multiply(\n",
    "                np.multiply(\n",
    "                    self.df.Share_of_Windows,\n",
    "                    np.sqrt(\n",
    "                        np.multiply(self.df.Surface,\n",
    "                                    self.df.Dwelling_per_Floor))), 4),\n",
    "            np.multiply(self.df.Ceiling_Height, np.add(self.df.Floors, 1)))\n",
    "        return self.df"
   ]
  },
  {
   "cell_type": "markdown",
   "metadata": {},
   "source": [
    "### Class for the DataFrame with U Factors"
   ]
  },
  {
   "cell_type": "code",
   "execution_count": 13,
   "metadata": {
    "ExecuteTime": {
     "end_time": "2019-10-09T12:43:14.398857Z",
     "start_time": "2019-10-09T12:43:14.348238Z"
    }
   },
   "outputs": [],
   "source": [
    "class Columns_for_CxD_U_Factors(Calculable_Columns_for_CxD):\n",
    "    def init(self, df):\n",
    "        super().init(df)\n",
    "\n",
    "    def Surface_R(self):\n",
    "        self.Rename_Columns()\n",
    "        self.df['Surface_R'] = np.multiply(self.df.Surface,\n",
    "                                           self.df.Dwelling_per_Floor)\n",
    "        return self.df\n",
    "\n",
    "    def Heightened_Surface_Habitable(self):\n",
    "        self.Surface_R()\n",
    "        self.df['Heightened_Surface_Habitable'] = np.multiply(\n",
    "            np.multiply(self.df.Surface_R, np.add(self.df.Floors, 1)),\n",
    "            self.df.Ceiling_Height)\n",
    "        return self.df\n",
    "\n",
    "    def UEN_per_Dwelling_2(self):\n",
    "        self.Rename_Columns()\n",
    "        self.df['UEN_per_Dwelling_2'] = np.multiply(\n",
    "            np.multiply(\n",
    "                np.multiply(self.df.Ceiling_Height, self.df.Intermittence),\n",
    "                np.multiply(self.df.Degrees_of_Reference, self.df.Surface)),\n",
    "            0.01)\n",
    "        return self.df\n",
    "\n",
    "    def Weighted_Surface(self):\n",
    "        self.Surface_M()\n",
    "        self.Surface_W()\n",
    "        self.Surface_R()\n",
    "        self.df.loc[:, 'Um0':'Um18'] = self.df.loc[:, 'Um0':'Um18'].apply(\n",
    "            lambda x: np.multiply(x, self.df.Surface_M))\n",
    "        self.df.loc[:, 'Uw0':'Uw3'] = self.df.loc[:, 'Uw0':'Uw3'].apply(\n",
    "            lambda x: np.multiply(x, self.df.Surface_W))\n",
    "        self.df.loc[:, 'Ur0':'Ur3'] = self.df.loc[:, 'Ur0':'Ur3'].apply(\n",
    "            lambda x: np.multiply(x, self.df.Surface_R))\n",
    "        self.df.loc[:, 'Uf0':'Uf5'] = self.df.loc[:, 'Uf0':'Uf5'].apply(\n",
    "            lambda x: np.multiply(x, self.df.Surface_R))\n",
    "        return self.df\n",
    "\n",
    "    def Duo_Weighted_Surface(self):\n",
    "        self.Weighted_Surface()\n",
    "        columns_list = []\n",
    "        columns_list_1 = []\n",
    "        columns_list_2 = []\n",
    "        for m in range(19):\n",
    "            for w in range(4):\n",
    "                column_name = 'U_m' + str(m) + '_w' + str(w)\n",
    "                columns_list_1.append(column_name)\n",
    "        for r in range(4):\n",
    "            for f in range(6):\n",
    "                column_name = 'U_r' + str(r) + '_f' + str(f)\n",
    "                columns_list_2.append(column_name)\n",
    "        columns_list = columns_list_1 + columns_list_2\n",
    "        self.df = pd.concat([\n",
    "            self.df,\n",
    "            pd.DataFrame(0, index=self.df.index, columns=columns_list)\n",
    "        ],\n",
    "                            axis=1)\n",
    "        self.df[columns_list_1] = self.df[columns_list_1].apply(\n",
    "            lambda x: np.add(self.df['U' + x.name.split('_')[1]], self.df[\n",
    "                'U' + x.name.split('_')[2]]))\n",
    "        self.df[columns_list_2] = self.df[columns_list_2].apply(\n",
    "            lambda x: np.add(self.df['U' + x.name.split('_')[1]], self.df[\n",
    "                'U' + x.name.split('_')[2]]))\n",
    "        selected_columns = self.df.loc[:, 'Um0':'Uf5'].columns.tolist()\n",
    "        self.df = self.df.drop(selected_columns, axis=1)\n",
    "        return self.df\n",
    "\n",
    "    def Add_Created_Columns(self):\n",
    "        self.Heightened_Surface_Habitable()\n",
    "        self.UEN_per_Dwelling_2()\n",
    "        self.Duo_Weighted_Surface()\n",
    "        self.GHC_Total_Prices_19_39()\n",
    "        self.GHC_Total_Prices_0_20()\n",
    "        self.GHC_No_Gas_Prices()\n",
    "        return self.df"
   ]
  },
  {
   "cell_type": "markdown",
   "metadata": {},
   "source": [
    "### Class for the DataFrame with U Prices"
   ]
  },
  {
   "cell_type": "code",
   "execution_count": 14,
   "metadata": {
    "ExecuteTime": {
     "end_time": "2019-10-09T12:43:14.472807Z",
     "start_time": "2019-10-09T12:43:14.409268Z"
    }
   },
   "outputs": [],
   "source": [
    "class Columns_for_CxD_U_Prices(Calculable_Columns_for_CxD):\n",
    "    def init(self, df):\n",
    "        super().init(df)\n",
    "\n",
    "    def Dwelling_Total(self):\n",
    "        self.Rename_Columns()\n",
    "        self.df['Dwelling_Total'] = np.multiply(self.df.Dwelling_per_Floor,\n",
    "                                                np.add(self.df.Floors, 1))\n",
    "        return self.df\n",
    "\n",
    "    def Priced_Surface(self):\n",
    "        self.Surface_M()\n",
    "        self.Surface_W()\n",
    "        self.Dwelling_Total()\n",
    "        self.df.loc[:, 'Um0':'Um18'] = self.df.loc[:, 'Um0':'Um18'].apply(\n",
    "            lambda x: np.multiply(\n",
    "                x, np.divide(self.df.Surface_M, self.df.Dwelling_Total)))\n",
    "        self.df.loc[:, 'Uw0':'Uw3'] = self.df.loc[:, 'Uw0':'Uw3'].apply(\n",
    "            lambda x: np.multiply(\n",
    "                x, np.divide(self.df.Surface_W, self.df.Dwelling_Total)))\n",
    "        self.df.loc[:, 'Ur0':'Ur3'] = self.df.loc[:, 'Ur0':'Ur3'].apply(\n",
    "            lambda x: np.multiply(\n",
    "                x, np.divide(self.df.Surface, np.add(self.df.Floors, 1))))\n",
    "        self.df.loc[:, 'Uf0':'Uf5'] = self.df.loc[:, 'Uf0':'Uf5'].apply(\n",
    "            lambda x: np.multiply(\n",
    "                x, np.divide(self.df.Surface, np.add(self.df.Floors, 1))))\n",
    "        return self.df\n",
    "\n",
    "    def Duo_Priced_Surface(self):\n",
    "        self.Priced_Surface()\n",
    "        columns_list = []\n",
    "        columns_list_1 = []\n",
    "        columns_list_2 = []\n",
    "        for m in range(19):\n",
    "            for w in range(4):\n",
    "                column_name = 'U_m' + str(m) + '_w' + str(w)\n",
    "                columns_list_1.append(column_name)\n",
    "        for r in range(4):\n",
    "            for f in range(6):\n",
    "                column_name = 'U_r' + str(r) + '_f' + str(f)\n",
    "                columns_list_2.append(column_name)\n",
    "        columns_list = columns_list_1 + columns_list_2\n",
    "        self.df = pd.concat([\n",
    "            self.df,\n",
    "            pd.DataFrame(0, index=self.df.index, columns=columns_list)\n",
    "        ],\n",
    "                            axis=1)\n",
    "        self.df[columns_list_1] = self.df[columns_list_1].apply(\n",
    "            lambda x: np.add(self.df['U' + x.name.split('_')[1]], self.df[\n",
    "                'U' + x.name.split('_')[2]]))\n",
    "        self.df[columns_list_2] = self.df[columns_list_2].apply(\n",
    "            lambda x: np.add(self.df['U' + x.name.split('_')[1]], self.df[\n",
    "                'U' + x.name.split('_')[2]]))\n",
    "        selected_columns = self.df.loc[:, 'Um0':'Uf5'].columns.tolist()\n",
    "        self.df = self.df.drop(selected_columns, axis=1)\n",
    "        return self.df\n",
    "\n",
    "    def Add_Created_Columns(self):\n",
    "        self.Duo_Priced_Surface()\n",
    "        self.Maintenance_19_39()\n",
    "        self.Maintenance_Same_Plus()\n",
    "        self.Maintenance_Different_Plus()\n",
    "        return self.df"
   ]
  },
  {
   "cell_type": "markdown",
   "metadata": {},
   "source": [
    "## Class for the individual dwellings $#####$"
   ]
  },
  {
   "cell_type": "code",
   "execution_count": 15,
   "metadata": {
    "ExecuteTime": {
     "end_time": "2019-10-09T12:43:14.494274Z",
     "start_time": "2019-10-09T12:43:14.477993Z"
    }
   },
   "outputs": [],
   "source": [
    "class Calculable_Columns_for_ID(Calculable_Columns):\n",
    "    def init(self, df, year):\n",
    "        super().init(df)\n",
    "\n",
    "    def Surface_M(self):\n",
    "        self.Rename_Columns()\n",
    "        self.df['Surface_M'] = np.multiply(\n",
    "            np.multiply(\n",
    "                np.multiply(\n",
    "                    np.subtract(1, self.df.Share_of_Windows),\n",
    "                    np.sqrt(\n",
    "                        np.divide(self.df.Surface, np.add(self.df.Floors,\n",
    "                                                          1)))), 4),\n",
    "            np.multiply(self.df.Ceiling_Height, np.add(self.df.Floors, 1)))\n",
    "        return self.df\n",
    "\n",
    "    def Surface_W(self):\n",
    "        self.Rename_Columns()\n",
    "        self.df['Surface_W'] = np.multiply(\n",
    "            np.multiply(\n",
    "                np.multiply(\n",
    "                    self.df.Share_of_Windows,\n",
    "                    np.sqrt(\n",
    "                        np.divide(self.df.Surface, np.add(self.df.Floors,\n",
    "                                                          1)))), 4),\n",
    "            np.multiply(self.df.Ceiling_Height, np.add(self.df.Floors, 1)))\n",
    "        return self.df"
   ]
  },
  {
   "cell_type": "markdown",
   "metadata": {},
   "source": [
    "### Class for the DataFrame with U Factors"
   ]
  },
  {
   "cell_type": "code",
   "execution_count": 16,
   "metadata": {
    "ExecuteTime": {
     "end_time": "2019-10-09T12:43:14.617270Z",
     "start_time": "2019-10-09T12:43:14.500416Z"
    }
   },
   "outputs": [],
   "source": [
    "class Columns_for_ID_U_Factors(Calculable_Columns_for_ID):\n",
    "    def init(self, df):\n",
    "        super().init(df)\n",
    "\n",
    "    def Surface_R(self):\n",
    "        self.Rename_Columns()\n",
    "        self.df['Surface_R'] = np.divide(self.df.Surface,\n",
    "                                         np.add(self.df.Floors, 1))\n",
    "        return self.df\n",
    "\n",
    "    def Heightened_Surface_Habitable(self):\n",
    "        self.Surface_R()\n",
    "        self.df['Heightened_Surface_Habitable'] = np.multiply(\n",
    "            self.df.Surface, self.df.Ceiling_Height)\n",
    "        return self.df\n",
    "\n",
    "    def UEN_per_Dwelling_2(self):\n",
    "        self.Rename_Columns()\n",
    "        self.df['UEN_per_Dwelling_2'] = np.multiply(\n",
    "            np.multiply(\n",
    "                np.multiply(self.df.Ceiling_Height, self.df.Intermittence),\n",
    "                np.multiply(self.df.Degrees_of_Reference, self.df.Surface)),\n",
    "            0.01)\n",
    "        return self.df\n",
    "\n",
    "    def Weighted_Surface(self):\n",
    "        self.Surface_M()\n",
    "        self.Surface_W()\n",
    "        self.Surface_R()\n",
    "        self.df.loc[:, 'Um0':'Um19'] = self.df.loc[:, 'Um0':'Um19'].apply(\n",
    "            lambda x: np.multiply(x, self.df.Surface_M))\n",
    "        self.df.loc[:, 'Uw0':'Uw3'] = self.df.loc[:, 'Uw0':'Uw3'].apply(\n",
    "            lambda x: np.multiply(x, self.df.Surface_W))\n",
    "        self.df.loc[:, 'Ur0':'Ur7'] = self.df.loc[:, 'Ur0':'Ur7'].apply(\n",
    "            lambda x: np.multiply(x, self.df.Surface_R))\n",
    "        self.df.loc[:, 'Uf0':'Uf3'] = self.df.loc[:, 'Uf0':'Uf3'].apply(\n",
    "            lambda x: np.multiply(x, self.df.Surface_R))\n",
    "        return self.df\n",
    "\n",
    "    def Duo_Weighted_Surface(self):\n",
    "        self.Weighted_Surface()\n",
    "        columns_list = []\n",
    "        columns_list_1 = []\n",
    "        columns_list_2 = []\n",
    "        for m in range(20):\n",
    "            for w in range(4):\n",
    "                column_name = 'U_m' + str(m) + '_w' + str(w)\n",
    "                columns_list_1.append(column_name)\n",
    "        for r in range(8):\n",
    "            for f in range(4):\n",
    "                column_name = 'U_r' + str(r) + '_f' + str(f)\n",
    "                columns_list_2.append(column_name)\n",
    "        columns_list = columns_list_1 + columns_list_2\n",
    "        self.df = pd.concat([\n",
    "            self.df,\n",
    "            pd.DataFrame(0, index=self.df.index, columns=columns_list)\n",
    "        ],\n",
    "                            axis=1)\n",
    "        self.df[columns_list_1] = self.df[columns_list_1].apply(\n",
    "            lambda x: np.add(self.df['U' + x.name.split('_')[1]], self.df[\n",
    "                'U' + x.name.split('_')[2]]))\n",
    "        self.df[columns_list_2] = self.df[columns_list_2].apply(\n",
    "            lambda x: np.add(self.df['U' + x.name.split('_')[1]], self.df[\n",
    "                'U' + x.name.split('_')[2]]))\n",
    "        selected_columns = self.df.loc[:, 'Um0':'Uf3'].columns.tolist()\n",
    "        self.df = self.df.drop(selected_columns, axis=1)\n",
    "        return self.df\n",
    "\n",
    "    def Add_Created_Columns(self):\n",
    "        self.Heightened_Surface_Habitable()\n",
    "        self.UEN_per_Dwelling_2()\n",
    "        self.Duo_Weighted_Surface()\n",
    "        self.GHC_Total_Prices_19_39()\n",
    "        self.GHC_Total_Prices_0_20()\n",
    "        self.GHC_No_Gas_Prices()\n",
    "        return self.df"
   ]
  },
  {
   "cell_type": "markdown",
   "metadata": {},
   "source": [
    "### Class for the DataFrame with U Prices"
   ]
  },
  {
   "cell_type": "code",
   "execution_count": 17,
   "metadata": {
    "ExecuteTime": {
     "end_time": "2019-10-09T12:43:14.654020Z",
     "start_time": "2019-10-09T12:43:14.621747Z"
    }
   },
   "outputs": [],
   "source": [
    "class Columns_for_ID_U_Prices(Calculable_Columns_for_ID):\n",
    "    def init(self, df):\n",
    "        super().init(df)\n",
    "\n",
    "    def Dwelling_Total(self):\n",
    "        self.Rename_Columns()\n",
    "        self.df['Dwelling_Total'] = 1\n",
    "        return self.df\n",
    "\n",
    "    def Priced_Surface(self):\n",
    "        self.Surface_M()\n",
    "        self.Surface_W()\n",
    "        self.Dwelling_Total()\n",
    "        self.df.loc[:, 'Um0':'Um19'] = self.df.loc[:, 'Um0':'Um19'].apply(\n",
    "            lambda x: np.multiply(\n",
    "                x, np.divide(self.df.Surface_M, self.df.Dwelling_Total)))\n",
    "        self.df.loc[:, 'Uw0':'Uw3'] = self.df.loc[:, 'Uw0':'Uw3'].apply(\n",
    "            lambda x: np.multiply(\n",
    "                x, np.divide(self.df.Surface_W, self.df.Dwelling_Total)))\n",
    "        self.df.loc[:, 'Ur0':'Ur7'] = self.df.loc[:, 'Ur0':'Ur7'].apply(\n",
    "            lambda x: np.multiply(\n",
    "                x, np.divide(self.df.Surface, np.add(self.df.Floors, 1))))\n",
    "        self.df.loc[:, 'Uf0':'Uf3'] = self.df.loc[:, 'Uf0':'Uf3'].apply(\n",
    "            lambda x: np.multiply(\n",
    "                x, np.divide(self.df.Surface, np.add(self.df.Floors, 1))))\n",
    "        return self.df\n",
    "\n",
    "    def Duo_Priced_Surface(self):\n",
    "        self.Priced_Surface()\n",
    "        columns_list = []\n",
    "        columns_list_1 = []\n",
    "        columns_list_2 = []\n",
    "        for m in range(20):\n",
    "            for w in range(4):\n",
    "                column_name = 'U_m' + str(m) + '_w' + str(w)\n",
    "                columns_list_1.append(column_name)\n",
    "        for r in range(8):\n",
    "            for f in range(4):\n",
    "                column_name = 'U_r' + str(r) + '_f' + str(f)\n",
    "                columns_list_2.append(column_name)\n",
    "        columns_list = columns_list_1 + columns_list_2\n",
    "        self.df = pd.concat([\n",
    "            self.df,\n",
    "            pd.DataFrame(0, index=self.df.index, columns=columns_list)\n",
    "        ],\n",
    "                            axis=1)\n",
    "        self.df[columns_list_1] = self.df[columns_list_1].apply(\n",
    "            lambda x: np.add(self.df['U' + x.name.split('_')[1]], self.df[\n",
    "                'U' + x.name.split('_')[2]]))\n",
    "        self.df[columns_list_2] = self.df[columns_list_2].apply(\n",
    "            lambda x: np.add(self.df['U' + x.name.split('_')[1]], self.df[\n",
    "                'U' + x.name.split('_')[2]]))\n",
    "        selected_columns = self.df.loc[:, 'Um0':'Uf3'].columns.tolist()\n",
    "        self.df = self.df.drop(selected_columns, axis=1)\n",
    "        return self.df\n",
    "\n",
    "    def Add_Created_Columns(self):\n",
    "        self.Duo_Priced_Surface()\n",
    "        self.Maintenance_19_39()\n",
    "        self.Maintenance_Same_Plus()\n",
    "        self.Maintenance_Different_Plus()\n",
    "        return self.df"
   ]
  },
  {
   "cell_type": "markdown",
   "metadata": {},
   "source": [
    "## Class instantiation for each type of dwelling"
   ]
  },
  {
   "cell_type": "code",
   "execution_count": 18,
   "metadata": {
    "ExecuteTime": {
     "end_time": "2019-10-09T12:43:15.550054Z",
     "start_time": "2019-10-09T12:43:14.659865Z"
    }
   },
   "outputs": [
    {
     "data": {
      "text/plain": [
       "(11340, 149)"
      ]
     },
     "execution_count": 18,
     "metadata": {},
     "output_type": "execute_result"
    }
   ],
   "source": [
    "Instance_df_CID_UF = Columns_for_CxD_U_Factors(df_CID_UF, 0)\n",
    "\n",
    "Prepared_df_CID_UF = Instance_df_CID_UF.Add_Created_Columns()\n",
    "\n",
    "Prepared_df_CID_UF.shape"
   ]
  },
  {
   "cell_type": "code",
   "execution_count": 62,
   "metadata": {
    "ExecuteTime": {
     "end_time": "2019-10-09T13:33:33.875905Z",
     "start_time": "2019-10-09T13:33:33.869278Z"
    }
   },
   "outputs": [
    {
     "data": {
      "text/plain": [
       "0        2297.22240\n",
       "1        2297.22240\n",
       "2        2297.22240\n",
       "3        2297.22240\n",
       "4        2297.22240\n",
       "            ...    \n",
       "11335     829.49033\n",
       "11336     829.49033\n",
       "11337     829.49033\n",
       "11338     829.49033\n",
       "11339     829.49033\n",
       "Name: U_m0_w0, Length: 11340, dtype: float64"
      ]
     },
     "execution_count": 62,
     "metadata": {},
     "output_type": "execute_result"
    }
   ],
   "source": [
    "Prepared_df_CID_UF.U_m0_w0"
   ]
  },
  {
   "cell_type": "code",
   "execution_count": 63,
   "metadata": {
    "ExecuteTime": {
     "end_time": "2019-10-09T13:33:50.589775Z",
     "start_time": "2019-10-09T13:33:50.582770Z"
    }
   },
   "outputs": [
    {
     "data": {
      "text/plain": [
       "0        447.70\n",
       "1        447.70\n",
       "2        447.70\n",
       "3        447.70\n",
       "4        447.70\n",
       "          ...  \n",
       "11335     78.96\n",
       "11336     78.96\n",
       "11337     78.96\n",
       "11338     78.96\n",
       "11339     78.96\n",
       "Name: U_r0_f0, Length: 11340, dtype: float64"
      ]
     },
     "execution_count": 63,
     "metadata": {},
     "output_type": "execute_result"
    }
   ],
   "source": [
    "Prepared_df_CID_UF.U_r0_f0"
   ]
  },
  {
   "cell_type": "code",
   "execution_count": 64,
   "metadata": {
    "ExecuteTime": {
     "end_time": "2019-10-09T13:42:20.332099Z",
     "start_time": "2019-10-09T13:42:20.324174Z"
    },
    "scrolled": true
   },
   "outputs": [
    {
     "data": {
      "text/plain": [
       "0        2163.48\n",
       "1        2163.48\n",
       "2        2163.48\n",
       "3        2163.48\n",
       "4        2163.48\n",
       "          ...   \n",
       "11335    3421.60\n",
       "11336    3421.60\n",
       "11337    3421.60\n",
       "11338    3421.60\n",
       "11339    3421.60\n",
       "Name: Heightened_Surface_Habitable, Length: 11340, dtype: float64"
      ]
     },
     "execution_count": 64,
     "metadata": {},
     "output_type": "execute_result"
    }
   ],
   "source": [
    "Prepared_df_CID_UF.Heightened_Surface_Habitable"
   ]
  },
  {
   "cell_type": "code",
   "execution_count": 20,
   "metadata": {
    "ExecuteTime": {
     "end_time": "2019-10-09T12:43:16.360939Z",
     "start_time": "2019-10-09T12:43:15.561928Z"
    }
   },
   "outputs": [
    {
     "data": {
      "text/plain": [
       "(11340, 148)"
      ]
     },
     "execution_count": 20,
     "metadata": {},
     "output_type": "execute_result"
    }
   ],
   "source": [
    "Instance_df_CID_UP = Columns_for_CxD_U_Prices(df_CID_UP, 0)\n",
    "\n",
    "Prepared_df_CID_UP = Instance_df_CID_UP.Add_Created_Columns()\n",
    "\n",
    "Prepared_df_CID_UP.shape"
   ]
  },
  {
   "cell_type": "code",
   "execution_count": 21,
   "metadata": {
    "ExecuteTime": {
     "end_time": "2019-10-09T12:43:17.060921Z",
     "start_time": "2019-10-09T12:43:16.364310Z"
    }
   },
   "outputs": [
    {
     "data": {
      "text/plain": [
       "(10080, 149)"
      ]
     },
     "execution_count": 21,
     "metadata": {},
     "output_type": "execute_result"
    }
   ],
   "source": [
    "Instance_df_CCD_UF = Columns_for_CxD_U_Factors(df_CCD_UF, 0)\n",
    "\n",
    "Prepared_df_CCD_UF = Instance_df_CCD_UF.Add_Created_Columns()\n",
    "\n",
    "Prepared_df_CCD_UF.shape"
   ]
  },
  {
   "cell_type": "code",
   "execution_count": 22,
   "metadata": {
    "ExecuteTime": {
     "end_time": "2019-10-09T12:43:17.718102Z",
     "start_time": "2019-10-09T12:43:17.062645Z"
    }
   },
   "outputs": [
    {
     "data": {
      "text/plain": [
       "(10080, 148)"
      ]
     },
     "execution_count": 22,
     "metadata": {},
     "output_type": "execute_result"
    }
   ],
   "source": [
    "Instance_df_CCD_UP = Columns_for_CxD_U_Prices(df_CCD_UP, 0)\n",
    "\n",
    "Prepared_df_CCD_UP = Instance_df_CCD_UP.Add_Created_Columns()\n",
    "\n",
    "Prepared_df_CCD_UP.shape"
   ]
  },
  {
   "cell_type": "code",
   "execution_count": 23,
   "metadata": {
    "ExecuteTime": {
     "end_time": "2019-10-09T12:43:18.434570Z",
     "start_time": "2019-10-09T12:43:17.719659Z"
    }
   },
   "outputs": [
    {
     "data": {
      "text/plain": [
       "(11340, 161)"
      ]
     },
     "execution_count": 23,
     "metadata": {},
     "output_type": "execute_result"
    }
   ],
   "source": [
    "Instance_df_ID_UF = Columns_for_ID_U_Factors(df_ID_UF, 0)\n",
    "\n",
    "Prepared_df_ID_UF = Instance_df_ID_UF.Add_Created_Columns()\n",
    "\n",
    "Prepared_df_ID_UF.shape"
   ]
  },
  {
   "cell_type": "code",
   "execution_count": 24,
   "metadata": {
    "ExecuteTime": {
     "end_time": "2019-10-09T12:43:19.401166Z",
     "start_time": "2019-10-09T12:43:18.436154Z"
    }
   },
   "outputs": [
    {
     "data": {
      "text/plain": [
       "(11340, 163)"
      ]
     },
     "execution_count": 24,
     "metadata": {},
     "output_type": "execute_result"
    }
   ],
   "source": [
    "Instance_df_ID_UP = Columns_for_ID_U_Prices(df_ID_UF, 0)\n",
    "\n",
    "Prepared_df_ID_UP = Instance_df_ID_UP.Add_Created_Columns()\n",
    "\n",
    "Prepared_df_ID_UP.shape"
   ]
  },
  {
   "cell_type": "markdown",
   "metadata": {},
   "source": [
    "# Creation of some calculable DataFrames\n",
    "\n",
    "## Class for all types of dwellings"
   ]
  },
  {
   "cell_type": "code",
   "execution_count": 25,
   "metadata": {
    "ExecuteTime": {
     "end_time": "2019-10-09T12:43:19.407778Z",
     "start_time": "2019-10-09T12:43:19.403234Z"
    }
   },
   "outputs": [],
   "source": [
    "class Calculable_DFs:\n",
    "    def __init__(self, df):\n",
    "        self.df = df"
   ]
  },
  {
   "cell_type": "markdown",
   "metadata": {},
   "source": [
    "## Class for the CID type dwellings"
   ]
  },
  {
   "cell_type": "code",
   "execution_count": 26,
   "metadata": {
    "ExecuteTime": {
     "end_time": "2019-10-09T12:43:19.445405Z",
     "start_time": "2019-10-09T12:43:19.410917Z"
    }
   },
   "outputs": [],
   "source": [
    "class Calculable_DFs_for_CD(Calculable_DFs):\n",
    "    def init(self, df):\n",
    "        super().init(df)\n",
    "\n",
    "    def Add_ER_Columns(self):\n",
    "        columns_list = []\n",
    "        for m in range(19):\n",
    "            for w in range(4):\n",
    "                for r in range(4):\n",
    "                    for f in range(6):\n",
    "                        column_name = 'ER_m' + str(m) + '_w' + str(\n",
    "                            w) + '_r' + str(r) + '_f' + str(f)\n",
    "                        columns_list.append(column_name)\n",
    "        self.df = pd.concat([\n",
    "            self.df,\n",
    "            pd.DataFrame(0, index=self.df.index, columns=columns_list)\n",
    "        ],\n",
    "                            axis=1)\n",
    "        return self.df\n",
    "\n",
    "    def Fill_ER_Columns(self):\n",
    "        self.Add_ER_Columns()\n",
    "        selected_columns = self.df.loc[:, 'ER_m0_w0_r0_f0':\n",
    "                                       'ER_m18_w3_r3_f5'].columns.tolist()\n",
    "        self.df[selected_columns] = self.df[selected_columns].apply(\n",
    "            lambda x: np.add(\n",
    "                self.df['U_' + x.name.split('_')[1] + '_' + x.name.split('_')[\n",
    "                    2]], self.df['U_' + x.name.split('_')[3] + '_' + x.name.\n",
    "                                 split('_')[4]]))\n",
    "        selected_columns = self.df.loc[:, 'U_m0_w0':'U_r3_f5'].columns.tolist()\n",
    "        self.df = self.df.drop(selected_columns, axis=1)\n",
    "        return self.df\n",
    "\n",
    "    def Generate_GB_Columns(self):\n",
    "        self.Generate_ER_Columns()\n",
    "        duplicate_df = self.df.loc[:, 'ER_m0_w0_r0_f0':'ER_m18_w3_r3_f5']\n",
    "        duplicate_df.columns = duplicate_df.columns.str.replace('ER_', 'GB_')\n",
    "        self.df = pd.concat([self.df, duplicate_df], axis=1)\n",
    "        del duplicate_df\n",
    "        return self.df\n",
    "\n",
    "    def Generate_CGB_Columns(self):\n",
    "        self.Generate_GB_Columns()\n",
    "        duplicate_df = self.df.loc[:, 'ER_m0_w0_r0_f0':'ER_m18_w3_r3_f5']\n",
    "        duplicate_df.columns = duplicate_df.columns.str.replace('ER_', 'CGB_')\n",
    "        self.df = pd.concat([self.df, duplicate_df], axis=1)\n",
    "        del duplicate_df\n",
    "        return self.df\n",
    "\n",
    "    def Generate_OB_Columns(self):\n",
    "        self.Generate_CGB_Columns()\n",
    "        duplicate_df = self.df.loc[:, 'ER_m0_w0_r0_f0':'ER_m18_w3_r3_f5']\n",
    "        duplicate_df.columns = duplicate_df.columns.str.replace('ER_', 'OB_')\n",
    "        self.df = pd.concat([self.df, duplicate_df], axis=1)\n",
    "        del duplicate_df\n",
    "        return self.df\n",
    "\n",
    "    def Generate_COB_Columns(self):\n",
    "        self.Generate_OB_Columns()\n",
    "        duplicate_df = self.df.loc[:, 'ER_m0_w0_r0_f0':'ER_m18_w3_r3_f5']\n",
    "        duplicate_df.columns = duplicate_df.columns.str.replace('ER_', 'COB_')\n",
    "        self.df = pd.concat([self.df, duplicate_df], axis=1)\n",
    "        del duplicate_df\n",
    "        return self.df\n",
    "\n",
    "    def Generate_EHP2_Columns(self):\n",
    "        self.Generate_COB_Columns()\n",
    "        duplicate_df = self.df.loc[:, 'ER_m0_w0_r0_f0':'ER_m18_w3_r3_f5']\n",
    "        duplicate_df.columns = duplicate_df.columns.str.replace('ER_', 'EHP2_')\n",
    "        self.df = pd.concat([self.df, duplicate_df], axis=1)\n",
    "        del duplicate_df\n",
    "        return self.df\n",
    "\n",
    "    def Generate_WB_Columns(self):\n",
    "        self.Generate_EHP2_Columns()\n",
    "        duplicate_df = self.df.loc[:, 'ER_m0_w0_r0_f0':'ER_m18_w3_r3_f5']\n",
    "        duplicate_df.columns = duplicate_df.columns.str.replace('ER_', 'WB_')\n",
    "        self.df = pd.concat([self.df, duplicate_df], axis=1)\n",
    "        del duplicate_df\n",
    "        return self.df\n",
    "\n",
    "    def Generate_WPB_Columns(self):\n",
    "        self.Generate_WB_Columns()\n",
    "        duplicate_df = self.df.loc[:, 'ER_m0_w0_r0_f0':'ER_m18_w3_r3_f5']\n",
    "        duplicate_df.columns = duplicate_df.columns.str.replace('ER_', 'WPB_')\n",
    "        self.df = pd.concat([self.df, duplicate_df], axis=1)\n",
    "        del duplicate_df\n",
    "        return self.df\n",
    "\n",
    "    def Generate_EHP_Columns(self):\n",
    "        self.Generate_WPB_Columns()\n",
    "        duplicate_df = self.df.loc[:, 'ER_m0_w0_r0_f0':'ER_m18_w3_r3_f5']\n",
    "        duplicate_df.columns = duplicate_df.columns.str.replace('ER_', 'EHP_')\n",
    "        self.df = pd.concat([self.df, duplicate_df], axis=1)\n",
    "        del duplicate_df\n",
    "        return self.df"
   ]
  },
  {
   "cell_type": "markdown",
   "metadata": {},
   "source": [
    "### Class for the DataFrame with U Factors"
   ]
  },
  {
   "cell_type": "code",
   "execution_count": 27,
   "metadata": {
    "ExecuteTime": {
     "end_time": "2019-10-09T12:43:19.509199Z",
     "start_time": "2019-10-09T12:43:19.452453Z"
    }
   },
   "outputs": [],
   "source": [
    "class DF_for_CD_U_Factors(Calculable_DFs_for_CD):\n",
    "    def init(self, df):\n",
    "        super().init(df)\n",
    "\n",
    "    def Weighted_Surface_Total(self):\n",
    "        self.Fill_ER_Columns()\n",
    "        return self.df\n",
    "\n",
    "    def Enlarged_Weighted_Surface_Total(self):\n",
    "        self.Weighted_Surface_Total()\n",
    "        selected_columns = self.df.loc[:, 'ER_m0_w0_r0_f0':\n",
    "                                       'ER_m18_w3_r3_f5'].columns.tolist()\n",
    "        self.copied_df = self.df[selected_columns].copy()\n",
    "        self.copied_df = self.copied_df.apply(lambda x: np.add(\n",
    "            np.multiply(9, self.df.Heightened_Surface_Habitable),\n",
    "            np.multiply(2.5, x)))\n",
    "        return self.copied_df\n",
    "\n",
    "    def UEN_per_Dwelling_1(self):\n",
    "        self.Enlarged_Weighted_Surface_Total()\n",
    "        selected_columns = self.df.loc[:, 'ER_m0_w0_r0_f0':\n",
    "                                       'ER_m18_w3_r3_f5'].columns.tolist()\n",
    "        self.df[selected_columns] = self.df[selected_columns].div(\n",
    "            self.copied_df)\n",
    "        del self.copied_df\n",
    "        return self.df\n",
    "\n",
    "    def UEN_per_Dwelling(self):\n",
    "        self.UEN_per_Dwelling_1()\n",
    "        selected_columns = self.df.loc[:, 'ER_m0_w0_r0_f0':\n",
    "                                       'ER_m18_w3_r3_f5'].columns.tolist()\n",
    "        self.df[selected_columns] = self.df[selected_columns].apply(\n",
    "            lambda x: np.multiply(x, self.df.UEN_per_Dwelling_2))\n",
    "        return self.df\n",
    "\n",
    "    def Generate_ER_Columns(self):\n",
    "        self.UEN_per_Dwelling()\n",
    "        return self.df\n",
    "\n",
    "    def GHC_UEN_ER(self):\n",
    "        self.Generate_EHP_Columns()\n",
    "        selected_columns = self.df.loc[:, 'ER_m0_w0_r0_f0':\n",
    "                                       'ER_m18_w3_r3_f5'].columns.tolist()\n",
    "        condition_1 = self.df.Heating_System == 'ER'\n",
    "        condition_1 = np.array(condition_1).reshape(self.df.shape[0], 1)\n",
    "        #condition_2 = ~condition_1\n",
    "        A = np.array(self.df.loc[:, 'GHC_Total_Prices_19_39']).reshape(\n",
    "            self.df.shape[0], 1)\n",
    "        B = np.array(self.df.loc[:, 'GHC_Total_Prices_0_20']).reshape(\n",
    "            self.df.shape[0], 1)\n",
    "        matrix = self.df[selected_columns].values\n",
    "        matrix = np.multiply(matrix, np.multiply(\n",
    "            condition_1,\n",
    "            A))  #+ np.multiply(matrix, np.multiply(condition_2, B))\n",
    "        df_matrix = pd.DataFrame(matrix, columns=selected_columns)\n",
    "        self.df[selected_columns] = df_matrix\n",
    "        #del condition_1, condition_2, A, B, matrix, df_matrix\n",
    "        return self.df\n",
    "\n",
    "    def GHC_UEN_GB(self):\n",
    "        self.GHC_UEN_ER()\n",
    "        selected_columns = self.df.loc[:, 'GB_m0_w0_r0_f0':\n",
    "                                       'GB_m18_w3_r3_f5'].columns.tolist()\n",
    "        condition_1 = self.df.Heating_System == 'GB'\n",
    "        condition_1 = np.array(condition_1).reshape(self.df.shape[0], 1)\n",
    "        condition_2 = (self.df.Heating_System == 'ER') | (\n",
    "            self.df.Heating_System == 'CGB') | (\n",
    "                self.df.Heating_System == 'EHP2') | (\n",
    "                    self.df.Heating_System == 'WB') | (\n",
    "                        self.df.Heating_System == 'WPB') | (\n",
    "                            self.df.Heating_System == 'EHP')\n",
    "        condition_2 = np.array(condition_2).reshape(self.df.shape[0], 1)\n",
    "        condition_3 = (self.df.Heating_System == 'OB') | (\n",
    "            self.df.Heating_System == 'COB')\n",
    "        condition_3 = np.array(condition_3).reshape(self.df.shape[0], 1)\n",
    "        A = np.array(self.df.loc[:, 'GHC_Total_Prices_19_39']).reshape(\n",
    "            self.df.shape[0], 1)\n",
    "        B = np.array(self.df.loc[:, 'GHC_Total_Prices_0_20']).reshape(\n",
    "            self.df.shape[0], 1)\n",
    "        C = np.array(self.df.loc[:, 'GHC_No_Gas_Prices']).reshape(\n",
    "            self.df.shape[0], 1)\n",
    "        matrix = self.df[selected_columns].values\n",
    "        matrix = np.multiply(\n",
    "            matrix, np.multiply(condition_1, A)) + np.multiply(\n",
    "                matrix, np.multiply(condition_2, B)) + np.multiply(\n",
    "                    matrix, np.multiply(condition_3, C))\n",
    "        df_matrix = pd.DataFrame(matrix, columns=selected_columns)\n",
    "        self.df[selected_columns] = df_matrix\n",
    "        del condition_1, condition_2, condition_3, A, B, C, matrix, df_matrix\n",
    "        return self.df\n",
    "\n",
    "    def GHC_UEN_CGB(self):\n",
    "        self.GHC_UEN_GB()\n",
    "        selected_columns = self.df.loc[:, 'CGB_m0_w0_r0_f0':\n",
    "                                       'CGB_m18_w3_r3_f5'].columns.tolist()\n",
    "        condition_1 = self.df.Heating_System == 'CGB'\n",
    "        condition_1 = np.array(condition_1).reshape(self.df.shape[0], 1)\n",
    "        condition_2 = (self.df.Heating_System == 'ER') | (\n",
    "            self.df.Heating_System == 'GB') | (\n",
    "                self.df.Heating_System == 'EHP2') | (\n",
    "                    self.df.Heating_System == 'WB') | (\n",
    "                        self.df.Heating_System == 'WPB') | (\n",
    "                            self.df.Heating_System == 'EHP')\n",
    "        condition_2 = np.array(condition_2).reshape(self.df.shape[0], 1)\n",
    "        condition_3 = (self.df.Heating_System == 'OB') | (\n",
    "            self.df.Heating_System == 'COB')\n",
    "        condition_3 = np.array(condition_3).reshape(self.df.shape[0], 1)\n",
    "        A = np.array(self.df.loc[:, 'GHC_Total_Prices_19_39']).reshape(\n",
    "            self.df.shape[0], 1)\n",
    "        B = np.array(self.df.loc[:, 'GHC_Total_Prices_0_20']).reshape(\n",
    "            self.df.shape[0], 1)\n",
    "        C = np.array(self.df.loc[:, 'GHC_No_Gas_Prices']).reshape(\n",
    "            self.df.shape[0], 1)\n",
    "        matrix = self.df[selected_columns].values\n",
    "        matrix = np.multiply(\n",
    "            matrix, np.multiply(condition_1, A)) + np.multiply(\n",
    "                matrix, np.multiply(condition_2, B)) + np.multiply(\n",
    "                    matrix, np.multiply(condition_3, C))\n",
    "        df_matrix = pd.DataFrame(matrix, columns=selected_columns)\n",
    "        self.df[selected_columns] = df_matrix\n",
    "        del condition_1, condition_2, condition_3, A, B, C, matrix, df_matrix\n",
    "        return self.df\n",
    "\n",
    "    def GHC_UEN_OB(self):\n",
    "        self.GHC_UEN_CGB()\n",
    "        selected_columns = self.df.loc[:, 'OB_m0_w0_r0_f0':\n",
    "                                       'OB_m18_w3_r3_f5'].columns.tolist()\n",
    "        condition_1 = self.df.Heating_System == 'OB'\n",
    "        condition_1 = np.array(condition_1).reshape(self.df.shape[0], 1)\n",
    "        condition_2 = ~condition_1\n",
    "        A = np.array(self.df.loc[:, 'GHC_Total_Prices_19_39']).reshape(\n",
    "            self.df.shape[0], 1)\n",
    "        B = np.array(self.df.loc[:, 'GHC_Total_Prices_0_20']).reshape(\n",
    "            self.df.shape[0], 1)\n",
    "        matrix = self.df[selected_columns].values\n",
    "        matrix = np.multiply(matrix, np.multiply(\n",
    "            condition_1, A)) + np.multiply(matrix, np.multiply(condition_2, B))\n",
    "        df_matrix = pd.DataFrame(matrix, columns=selected_columns)\n",
    "        self.df[selected_columns] = df_matrix\n",
    "        del condition_1, condition_2, A, B, matrix, df_matrix\n",
    "        return self.df\n",
    "\n",
    "    def GHC_UEN_COB(self):\n",
    "        self.GHC_UEN_OB()\n",
    "        selected_columns = self.df.loc[:, 'COB_m0_w0_r0_f0':\n",
    "                                       'COB_m18_w3_r3_f5'].columns.tolist()\n",
    "        condition_1 = self.df.Heating_System == 'COB'\n",
    "        condition_1 = np.array(condition_1).reshape(self.df.shape[0], 1)\n",
    "        condition_2 = ~condition_1\n",
    "        A = np.array(self.df.loc[:, 'GHC_Total_Prices_19_39']).reshape(\n",
    "            self.df.shape[0], 1)\n",
    "        B = np.array(self.df.loc[:, 'GHC_Total_Prices_0_20']).reshape(\n",
    "            self.df.shape[0], 1)\n",
    "        matrix = self.df[selected_columns].values\n",
    "        matrix = np.multiply(matrix, np.multiply(\n",
    "            condition_1, A)) + np.multiply(matrix, np.multiply(condition_2, B))\n",
    "        df_matrix = pd.DataFrame(matrix, columns=selected_columns)\n",
    "        self.df[selected_columns] = df_matrix\n",
    "        del condition_1, condition_2, A, B, matrix, df_matrix\n",
    "        return self.df\n",
    "\n",
    "    def GHC_UEN_EHP2(self):\n",
    "        self.GHC_UEN_COB()\n",
    "        selected_columns = self.df.loc[:, 'EHP2_m0_w0_r0_f0':\n",
    "                                       'EHP2_m18_w3_r3_f5'].columns.tolist()\n",
    "        condition_1 = self.df.Heating_System == 'EHP2'\n",
    "        condition_1 = np.array(condition_1).reshape(self.df.shape[0], 1)\n",
    "        condition_2 = ~condition_1\n",
    "        A = np.array(self.df.loc[:, 'GHC_Total_Prices_19_39']).reshape(\n",
    "            self.df.shape[0], 1)\n",
    "        B = np.array(self.df.loc[:, 'GHC_Total_Prices_0_20']).reshape(\n",
    "            self.df.shape[0], 1)\n",
    "        matrix = self.df[selected_columns].values\n",
    "        matrix = np.multiply(matrix, np.multiply(\n",
    "            condition_1, A)) + np.multiply(matrix, np.multiply(condition_2, B))\n",
    "        df_matrix = pd.DataFrame(matrix, columns=selected_columns)\n",
    "        self.df[selected_columns] = df_matrix\n",
    "        del condition_1, condition_2, A, B, matrix, df_matrix\n",
    "        return self.df\n",
    "\n",
    "    def GHC_UEN_WB(self):\n",
    "        self.GHC_UEN_EHP2()\n",
    "        selected_columns = self.df.loc[:, 'WB_m0_w0_r0_f0':\n",
    "                                       'WB_m18_w3_r3_f5'].columns.tolist()\n",
    "        condition_1 = self.df.Heating_System == 'WB'\n",
    "        condition_1 = np.array(condition_1).reshape(self.df.shape[0], 1)\n",
    "        condition_2 = ~condition_1\n",
    "        A = np.array(self.df.loc[:, 'GHC_Total_Prices_19_39']).reshape(\n",
    "            self.df.shape[0], 1)\n",
    "        B = np.array(self.df.loc[:, 'GHC_Total_Prices_0_20']).reshape(\n",
    "            self.df.shape[0], 1)\n",
    "        matrix = self.df[selected_columns].values\n",
    "        matrix = np.multiply(matrix, np.multiply(\n",
    "            condition_1, A)) + np.multiply(matrix, np.multiply(condition_2, B))\n",
    "        df_matrix = pd.DataFrame(matrix, columns=selected_columns)\n",
    "        self.df[selected_columns] = df_matrix\n",
    "        del condition_1, condition_2, A, B, matrix, df_matrix\n",
    "        return self.df\n",
    "\n",
    "    def GHC_UEN_WPB(self):\n",
    "        self.GHC_UEN_WB()\n",
    "        selected_columns = self.df.loc[:, 'WPB_m0_w0_r0_f0':\n",
    "                                       'WPB_m18_w3_r3_f5'].columns.tolist()\n",
    "        condition_1 = self.df.Heating_System == 'WPB'\n",
    "        condition_1 = np.array(condition_1).reshape(self.df.shape[0], 1)\n",
    "        condition_2 = ~condition_1\n",
    "        A = np.array(self.df.loc[:, 'GHC_Total_Prices_19_39']).reshape(\n",
    "            self.df.shape[0], 1)\n",
    "        B = np.array(self.df.loc[:, 'GHC_Total_Prices_0_20']).reshape(\n",
    "            self.df.shape[0], 1)\n",
    "        matrix = self.df[selected_columns].values\n",
    "        matrix = np.multiply(matrix, np.multiply(\n",
    "            condition_1, A)) + np.multiply(matrix, np.multiply(condition_2, B))\n",
    "        df_matrix = pd.DataFrame(matrix, columns=selected_columns)\n",
    "        self.df[selected_columns] = df_matrix\n",
    "        del condition_1, condition_2, A, B, matrix, df_matrix\n",
    "        return self.df\n",
    "\n",
    "    def GHC_UEN_EHP(self):\n",
    "        self.GHC_UEN_WPB()\n",
    "        selected_columns = self.df.loc[:, 'EHP_m0_w0_r0_f0':\n",
    "                                       'EHP_m18_w3_r3_f5'].columns.tolist()\n",
    "        condition_1 = self.df.Heating_System == 'EHP'\n",
    "        condition_1 = np.array(condition_1).reshape(self.df.shape[0], 1)\n",
    "        condition_2 = ~condition_1\n",
    "        A = np.array(self.df.loc[:, 'GHC_Total_Prices_19_39']).reshape(\n",
    "            self.df.shape[0], 1)\n",
    "        B = np.array(self.df.loc[:, 'GHC_Total_Prices_0_20']).reshape(\n",
    "            self.df.shape[0], 1)\n",
    "        matrix = self.df[selected_columns].values\n",
    "        matrix = np.multiply(matrix, np.multiply(\n",
    "            condition_1, A)) + np.multiply(matrix, np.multiply(condition_2, B))\n",
    "        df_matrix = pd.DataFrame(matrix, columns=selected_columns)\n",
    "        self.df[selected_columns] = df_matrix\n",
    "        del condition_1, condition_2, A, B, matrix, df_matrix\n",
    "        return self.df"
   ]
  },
  {
   "cell_type": "markdown",
   "metadata": {},
   "source": [
    "### Class for the DataFrame with U Prices"
   ]
  },
  {
   "cell_type": "code",
   "execution_count": 28,
   "metadata": {
    "ExecuteTime": {
     "end_time": "2019-10-09T12:43:19.583410Z",
     "start_time": "2019-10-09T12:43:19.511003Z"
    }
   },
   "outputs": [],
   "source": [
    "class DF_for_CD_U_Prices(Calculable_DFs_for_CD):\n",
    "    def init(self, df):\n",
    "        super().init(df)\n",
    "\n",
    "    def Insulation_Cost(self):\n",
    "        self.Fill_ER_Columns()\n",
    "        return self.df\n",
    "\n",
    "    def Generate_ER_Columns(self):\n",
    "        self.Insulation_Cost()\n",
    "        return self.df\n",
    "\n",
    "    def Multiple_Cost_ER(self):\n",
    "        self.Generate_EHP_Columns()\n",
    "        selected_columns = self.df.loc[:, 'ER_m0_w0_r0_f0':\n",
    "                                       'ER_m18_w3_r3_f5'].columns.tolist()\n",
    "        condition_1 = self.df.Heating_System == 'ER'\n",
    "        condition_1 = np.array(condition_1).reshape(self.df.shape[0], 1)\n",
    "        condition_2 = (self.df.Heating_System == 'WB') | (\n",
    "            self.df.Heating_System == 'EHP')\n",
    "        condition_2 = np.array(condition_2).reshape(self.df.shape[0], 1)\n",
    "        condition_3 = (self.df.Heating_System == 'GB') | (\n",
    "            self.df.Heating_System == 'CGB') | (\n",
    "                self.df.Heating_System == 'OB') | (\n",
    "                    self.df.Heating_System == 'COB') | (\n",
    "                        self.df.Heating_System == 'EHP2') | (\n",
    "                            self.df.Heating_System == 'WPB')\n",
    "        condition_3 = np.array(condition_3).reshape(self.df.shape[0], 1)\n",
    "        A = np.array(self.df.loc[:, 'Maintenance_19_39']).reshape(\n",
    "            self.df.shape[0], 1)\n",
    "        B = np.array(self.df.loc[:, 'Maintenance_Same']).reshape(\n",
    "            self.df.shape[0], 1)\n",
    "        C = np.array(self.df.loc[:, 'Maintenance_Different_Plus']).reshape(\n",
    "            self.df.shape[0], 1)\n",
    "        matrix = self.df[selected_columns].values\n",
    "        matrix = np.add(matrix, np.multiply(condition_1, A)) + np.add(\n",
    "            matrix, np.multiply(condition_2, B)) + np.add(\n",
    "                matrix, np.multiply(condition_3, C))\n",
    "        df_matrix = pd.DataFrame(matrix, columns=selected_columns)\n",
    "        self.df[selected_columns] = df_matrix\n",
    "        del condition_1, condition_2, condition_3, A, B, C, matrix, df_matrix\n",
    "        return self.df\n",
    "\n",
    "    def Multiple_Cost_GB(self):\n",
    "        self.Multiple_Cost_ER()\n",
    "        selected_columns = self.df.loc[:, 'GB_m0_w0_r0_f0':\n",
    "                                       'GB_m18_w3_r3_f5'].columns.tolist()\n",
    "        condition_1 = self.df.Heating_System == 'GB'\n",
    "        condition_1 = np.array(condition_1).reshape(self.df.shape[0], 1)\n",
    "        condition_2 = (self.df.Heating_System == 'CGB')\n",
    "        condition_2 = np.array(condition_2).reshape(self.df.shape[0], 1)\n",
    "        condition_3 = (self.df.Heating_System == 'OB') | (\n",
    "            self.df.Heating_System == 'COB') | (\n",
    "                self.df.Heating_System == 'EHP2') | (\n",
    "                    self.df.Heating_System == 'WPB')\n",
    "        condition_3 = np.array(condition_3).reshape(self.df.shape[0], 1)\n",
    "        condition_4 = (self.df.Heating_System == 'ER') | (\n",
    "            self.df.Heating_System == 'WB') | (self.df.Heating_System == 'EHP')\n",
    "        condition_4 = np.array(condition_4).reshape(self.df.shape[0], 1)\n",
    "        A = np.array(self.df.loc[:, 'Maintenance_19_39']).reshape(\n",
    "            self.df.shape[0], 1)\n",
    "        B = np.array(self.df.loc[:, 'Maintenance_Same']).reshape(\n",
    "            self.df.shape[0], 1)\n",
    "        C = np.array(self.df.loc[:, 'Maintenance_Different']).reshape(\n",
    "            self.df.shape[0], 1)\n",
    "        D = np.array(self.df.loc[:, 'Maintenance_Different_Plus']).reshape(\n",
    "            self.df.shape[0], 1)\n",
    "        matrix = self.df[selected_columns].values\n",
    "        matrix = np.add(matrix, np.multiply(condition_1, A)) + np.add(\n",
    "            matrix, np.multiply(condition_2, B)) + np.add(\n",
    "                matrix, np.multiply(condition_3, C)) + np.add(\n",
    "                    matrix, np.multiply(condition_4, D))\n",
    "        df_matrix = pd.DataFrame(matrix, columns=selected_columns)\n",
    "        self.df[selected_columns] = df_matrix\n",
    "        del condition_1, condition_2, condition_3, condition_4, A, B, C, D, matrix, df_matrix\n",
    "        return self.df\n",
    "\n",
    "    def Multiple_Cost_CGB(self):\n",
    "        self.Multiple_Cost_GB()\n",
    "        selected_columns = self.df.loc[:, 'CGB_m0_w0_r0_f0':\n",
    "                                       'CGB_m18_w3_r3_f5'].columns.tolist()\n",
    "        condition_1 = self.df.Heating_System == 'CGB'\n",
    "        condition_1 = np.array(condition_1).reshape(self.df.shape[0], 1)\n",
    "        condition_2 = (self.df.Heating_System == 'GB')\n",
    "        condition_2 = np.array(condition_2).reshape(self.df.shape[0], 1)\n",
    "        condition_3 = (self.df.Heating_System == 'OB') | (\n",
    "            self.df.Heating_System == 'COB') | (\n",
    "                self.df.Heating_System == 'EHP2') | (\n",
    "                    self.df.Heating_System == 'WPB')\n",
    "        condition_3 = np.array(condition_3).reshape(self.df.shape[0], 1)\n",
    "        condition_4 = (self.df.Heating_System == 'ER') | (\n",
    "            self.df.Heating_System == 'WB') | (self.df.Heating_System == 'EHP')\n",
    "        condition_4 = np.array(condition_4).reshape(self.df.shape[0], 1)\n",
    "        A = np.array(self.df.loc[:, 'Maintenance_19_39']).reshape(\n",
    "            self.df.shape[0], 1)\n",
    "        B = np.array(self.df.loc[:, 'Maintenance_Same']).reshape(\n",
    "            self.df.shape[0], 1)\n",
    "        C = np.array(self.df.loc[:, 'Maintenance_Different']).reshape(\n",
    "            self.df.shape[0], 1)\n",
    "        D = np.array(self.df.loc[:, 'Maintenance_Different_Plus']).reshape(\n",
    "            self.df.shape[0], 1)\n",
    "        matrix = self.df[selected_columns].values\n",
    "        matrix = np.add(matrix, np.multiply(condition_1, A)) + np.add(\n",
    "            matrix, np.multiply(condition_2, B)) + np.add(\n",
    "                matrix, np.multiply(condition_3, C)) + np.add(\n",
    "                    matrix, np.multiply(condition_4, D))\n",
    "        df_matrix = pd.DataFrame(matrix, columns=selected_columns)\n",
    "        self.df[selected_columns] = df_matrix\n",
    "        del condition_1, condition_2, condition_3, condition_4, A, B, C, D, matrix, df_matrix\n",
    "        return self.df\n",
    "\n",
    "    def Multiple_Cost_OB(self):\n",
    "        self.Multiple_Cost_CGB()\n",
    "        selected_columns = self.df.loc[:, 'OB_m0_w0_r0_f0':\n",
    "                                       'OB_m18_w3_r3_f5'].columns.tolist()\n",
    "        condition_1 = self.df.Heating_System == 'OB'\n",
    "        condition_1 = np.array(condition_1).reshape(self.df.shape[0], 1)\n",
    "        condition_2 = (self.df.Heating_System == 'COB')\n",
    "        condition_2 = np.array(condition_2).reshape(self.df.shape[0], 1)\n",
    "        condition_3 = (self.df.Heating_System == 'GB') | (\n",
    "            self.df.Heating_System == 'CGB') | (\n",
    "                self.df.Heating_System == 'EHP2') | (\n",
    "                    self.df.Heating_System == 'WPB')\n",
    "        condition_3 = np.array(condition_3).reshape(self.df.shape[0], 1)\n",
    "        condition_4 = (self.df.Heating_System == 'ER') | (\n",
    "            self.df.Heating_System == 'WB') | (self.df.Heating_System == 'EHP')\n",
    "        condition_4 = np.array(condition_4).reshape(self.df.shape[0], 1)\n",
    "        A = np.array(self.df.loc[:, 'Maintenance_19_39']).reshape(\n",
    "            self.df.shape[0], 1)\n",
    "        B = np.array(self.df.loc[:, 'Maintenance_Same']).reshape(\n",
    "            self.df.shape[0], 1)\n",
    "        C = np.array(self.df.loc[:, 'Maintenance_Different']).reshape(\n",
    "            self.df.shape[0], 1)\n",
    "        D = np.array(self.df.loc[:, 'Maintenance_Different_Plus']).reshape(\n",
    "            self.df.shape[0], 1)\n",
    "        matrix = self.df[selected_columns].values\n",
    "        matrix = np.add(matrix, np.multiply(condition_1, A)) + np.add(\n",
    "            matrix, np.multiply(condition_2, B)) + np.add(\n",
    "                matrix, np.multiply(condition_3, C)) + np.add(\n",
    "                    matrix, np.multiply(condition_4, D))\n",
    "        df_matrix = pd.DataFrame(matrix, columns=selected_columns)\n",
    "        self.df[selected_columns] = df_matrix\n",
    "        del condition_1, condition_2, condition_3, condition_4, A, B, C, D, matrix, df_matrix\n",
    "        return self.df\n",
    "\n",
    "    def Multiple_Cost_COB(self):\n",
    "        self.Multiple_Cost_OB()\n",
    "        selected_columns = self.df.loc[:, 'COB_m0_w0_r0_f0':\n",
    "                                       'COB_m18_w3_r3_f5'].columns.tolist()\n",
    "        condition_1 = self.df.Heating_System == 'COB'\n",
    "        condition_1 = np.array(condition_1).reshape(self.df.shape[0], 1)\n",
    "        condition_2 = (self.df.Heating_System == 'OB')\n",
    "        condition_2 = np.array(condition_2).reshape(self.df.shape[0], 1)\n",
    "        condition_3 = (self.df.Heating_System == 'GB') | (\n",
    "            self.df.Heating_System == 'CGB') | (\n",
    "                self.df.Heating_System == 'EHP2') | (\n",
    "                    self.df.Heating_System == 'WPB')\n",
    "        condition_3 = np.array(condition_3).reshape(self.df.shape[0], 1)\n",
    "        condition_4 = (self.df.Heating_System == 'ER') | (\n",
    "            self.df.Heating_System == 'WB') | (self.df.Heating_System == 'EHP')\n",
    "        condition_4 = np.array(condition_4).reshape(self.df.shape[0], 1)\n",
    "        A = np.array(self.df.loc[:, 'Maintenance_19_39']).reshape(\n",
    "            self.df.shape[0], 1)\n",
    "        B = np.array(self.df.loc[:, 'Maintenance_Same']).reshape(\n",
    "            self.df.shape[0], 1)\n",
    "        C = np.array(self.df.loc[:, 'Maintenance_Different']).reshape(\n",
    "            self.df.shape[0], 1)\n",
    "        D = np.array(self.df.loc[:, 'Maintenance_Different_Plus']).reshape(\n",
    "            self.df.shape[0], 1)\n",
    "        matrix = self.df[selected_columns].values\n",
    "        matrix = np.add(matrix, np.multiply(condition_1, A)) + np.add(\n",
    "            matrix, np.multiply(condition_2, B)) + np.add(\n",
    "                matrix, np.multiply(condition_3, C)) + np.add(\n",
    "                    matrix, np.multiply(condition_4, D))\n",
    "        df_matrix = pd.DataFrame(matrix, columns=selected_columns)\n",
    "        self.df[selected_columns] = df_matrix\n",
    "        del condition_1, condition_2, condition_3, condition_4, A, B, C, D, matrix, df_matrix\n",
    "        return self.df\n",
    "\n",
    "    def Multiple_Cost_EHP2(self):\n",
    "        self.Multiple_Cost_COB()\n",
    "        selected_columns = self.df.loc[:, 'EHP2_m0_w0_r0_f0':\n",
    "                                       'EHP2_m18_w3_r3_f5'].columns.tolist()\n",
    "        condition_1 = self.df.Heating_System == 'EHP2'\n",
    "        condition_1 = np.array(condition_1).reshape(self.df.shape[0], 1)\n",
    "        condition_2 = (self.df.Heating_System == 'GB') | (\n",
    "            self.df.Heating_System == 'CGB') | (\n",
    "                self.df.Heating_System == 'OB') | (\n",
    "                    self.df.Heating_System == 'COB') | (\n",
    "                        self.df.Heating_System == 'WPB')\n",
    "        condition_2 = np.array(condition_2).reshape(self.df.shape[0], 1)\n",
    "        condition_3 = (self.df.Heating_System == 'ER') | (\n",
    "            self.df.Heating_System == 'WB') | (self.df.Heating_System == 'EHP')\n",
    "        condition_3 = np.array(condition_3).reshape(self.df.shape[0], 1)\n",
    "        A = np.array(self.df.loc[:, 'Maintenance_19_39']).reshape(\n",
    "            self.df.shape[0], 1)\n",
    "        B = np.array(self.df.loc[:, 'Maintenance_Different']).reshape(\n",
    "            self.df.shape[0], 1)\n",
    "        C = np.array(self.df.loc[:, 'Maintenance_Different_Plus']).reshape(\n",
    "            self.df.shape[0], 1)\n",
    "        matrix = self.df[selected_columns].values\n",
    "        matrix = np.add(matrix, np.multiply(condition_1, A)) + np.add(\n",
    "            matrix, np.multiply(condition_2, B)) + np.add(\n",
    "                matrix, np.multiply(condition_3, C))\n",
    "        df_matrix = pd.DataFrame(matrix, columns=selected_columns)\n",
    "        self.df[selected_columns] = df_matrix\n",
    "        del condition_1, condition_2, condition_3, A, B, C, matrix, df_matrix\n",
    "        return self.df\n",
    "\n",
    "    def Multiple_Cost_WB(self):\n",
    "        self.Multiple_Cost_EHP2()\n",
    "        selected_columns = self.df.loc[:, 'WB_m0_w0_r0_f0':\n",
    "                                       'WB_m18_w3_r3_f5'].columns.tolist()\n",
    "        condition_1 = self.df.Heating_System == 'WB'\n",
    "        condition_1 = np.array(condition_1).reshape(self.df.shape[0], 1)\n",
    "        condition_2 = (self.df.Heating_System == 'ER') | (\n",
    "            self.df.Heating_System == 'EHP')\n",
    "        condition_2 = np.array(condition_2).reshape(self.df.shape[0], 1)\n",
    "        condition_3 = (self.df.Heating_System == 'GB') | (\n",
    "            self.df.Heating_System == 'CGB') | (\n",
    "                self.df.Heating_System == 'OB') | (\n",
    "                    self.df.Heating_System == 'COB') | (\n",
    "                        self.df.Heating_System == 'EHP2') | (\n",
    "                            self.df.Heating_System == 'WPB')\n",
    "        condition_3 = np.array(condition_3).reshape(self.df.shape[0], 1)\n",
    "        A = np.array(self.df.loc[:, 'Maintenance_19_39']).reshape(\n",
    "            self.df.shape[0], 1)\n",
    "        B = np.array(self.df.loc[:, 'Maintenance_Same']).reshape(\n",
    "            self.df.shape[0], 1)\n",
    "        C = np.array(self.df.loc[:, 'Maintenance_Different_Plus']).reshape(\n",
    "            self.df.shape[0], 1)\n",
    "        matrix = self.df[selected_columns].values\n",
    "        matrix = np.add(matrix, np.multiply(condition_1, A)) + np.add(\n",
    "            matrix, np.multiply(condition_2, B)) + np.add(\n",
    "                matrix, np.multiply(condition_3, C))\n",
    "        df_matrix = pd.DataFrame(matrix, columns=selected_columns)\n",
    "        self.df[selected_columns] = df_matrix\n",
    "        del condition_1, condition_2, condition_3, A, B, C, matrix, df_matrix\n",
    "        return self.df\n",
    "\n",
    "    def Multiple_Cost_WPB(self):\n",
    "        self.Multiple_Cost_WB()\n",
    "        selected_columns = self.df.loc[:, 'WPB_m0_w0_r0_f0':\n",
    "                                       'WPB_m18_w3_r3_f5'].columns.tolist()\n",
    "        condition_1 = self.df.Heating_System == 'WPB'\n",
    "        condition_1 = np.array(condition_1).reshape(self.df.shape[0], 1)\n",
    "        condition_2 = (self.df.Heating_System == 'WB')\n",
    "        condition_2 = np.array(condition_2).reshape(self.df.shape[0], 1)\n",
    "        condition_3 = (self.df.Heating_System == 'GB') | (\n",
    "            self.df.Heating_System == 'CGB') | (\n",
    "                self.df.Heating_System == 'OB') | (\n",
    "                    self.df.Heating_System == 'COB') | (\n",
    "                        self.df.Heating_System == 'EHP2')\n",
    "        condition_3 = np.array(condition_3).reshape(self.df.shape[0], 1)\n",
    "        condition_4 = (self.df.Heating_System == 'ER') | (\n",
    "            self.df.Heating_System == 'EHP')\n",
    "        condition_4 = np.array(condition_4).reshape(self.df.shape[0], 1)\n",
    "        A = np.array(self.df.loc[:, 'Maintenance_19_39']).reshape(\n",
    "            self.df.shape[0], 1)\n",
    "        B = np.array(self.df.loc[:, 'Maintenance_Same_Plus']).reshape(\n",
    "            self.df.shape[0], 1)\n",
    "        C = np.array(self.df.loc[:, 'Maintenance_Different']).reshape(\n",
    "            self.df.shape[0], 1)\n",
    "        D = np.array(self.df.loc[:, 'Maintenance_Different_Plus']).reshape(\n",
    "            self.df.shape[0], 1)\n",
    "        matrix = self.df[selected_columns].values\n",
    "        matrix = np.add(matrix, np.multiply(condition_1, A)) + np.add(\n",
    "            matrix, np.multiply(condition_2, B)) + np.add(\n",
    "                matrix, np.multiply(condition_3, C)) + np.add(\n",
    "                    matrix, np.multiply(condition_4, D))\n",
    "        df_matrix = pd.DataFrame(matrix, columns=selected_columns)\n",
    "        self.df[selected_columns] = df_matrix\n",
    "        del condition_1, condition_2, condition_3, condition_4, A, B, C, D, matrix, df_matrix\n",
    "        return self.df\n",
    "\n",
    "    def Multiple_Cost_EHP(self):\n",
    "        self.Multiple_Cost_WPB()\n",
    "        selected_columns = self.df.loc[:, 'EHP_m0_w0_r0_f0':\n",
    "                                       'EHP_m18_w3_r3_f5'].columns.tolist()\n",
    "        condition_1 = self.df.Heating_System == 'EHP'\n",
    "        condition_1 = np.array(condition_1).reshape(self.df.shape[0], 1)\n",
    "        condition_2 = (self.df.Heating_System == 'ER') | (\n",
    "            self.df.Heating_System == 'WB')\n",
    "        condition_2 = np.array(condition_2).reshape(self.df.shape[0], 1)\n",
    "        condition_3 = (self.df.Heating_System == 'GB') | (\n",
    "            self.df.Heating_System == 'CGB') | (\n",
    "                self.df.Heating_System == 'OB') | (\n",
    "                    self.df.Heating_System == 'COB') | (\n",
    "                        self.df.Heating_System == 'EHP2') | (\n",
    "                            self.df.Heating_System == 'WPB')\n",
    "        condition_3 = np.array(condition_3).reshape(self.df.shape[0], 1)\n",
    "        A = np.array(self.df.loc[:, 'Maintenance_19_39']).reshape(\n",
    "            self.df.shape[0], 1)\n",
    "        B = np.array(self.df.loc[:, 'Maintenance_Same']).reshape(\n",
    "            self.df.shape[0], 1)\n",
    "        C = np.array(self.df.loc[:, 'Maintenance_Different_Plus']).reshape(\n",
    "            self.df.shape[0], 1)\n",
    "        matrix = self.df[selected_columns].values\n",
    "        matrix = np.add(matrix, np.multiply(condition_1, A)) + np.add(\n",
    "            matrix, np.multiply(condition_2, B)) + np.add(\n",
    "                matrix, np.multiply(condition_3, C))\n",
    "        df_matrix = pd.DataFrame(matrix, columns=selected_columns)\n",
    "        self.df[selected_columns] = df_matrix\n",
    "        del condition_1, condition_2, condition_3, A, B, C, matrix, df_matrix\n",
    "        return self.df"
   ]
  },
  {
   "cell_type": "code",
   "execution_count": 86,
   "metadata": {
    "ExecuteTime": {
     "end_time": "2019-10-09T14:03:33.714802Z",
     "start_time": "2019-10-09T14:02:34.878595Z"
    }
   },
   "outputs": [],
   "source": [
    "c = DF_for_CD_U_Factors(Prepared_df_CID_UF)\n",
    "d = c.UEN_per_Dwelling()"
   ]
  },
  {
   "cell_type": "code",
   "execution_count": 87,
   "metadata": {
    "ExecuteTime": {
     "end_time": "2019-10-09T14:03:39.304438Z",
     "start_time": "2019-10-09T14:03:39.298921Z"
    }
   },
   "outputs": [
    {
     "data": {
      "text/plain": [
       "0        11179.449406\n",
       "1        11179.449406\n",
       "2        11179.449406\n",
       "3        11179.449406\n",
       "4        11179.449406\n",
       "             ...     \n",
       "11335     2301.868116\n",
       "11336     2301.868116\n",
       "11337     2301.868116\n",
       "11338     2301.868116\n",
       "11339     2301.868116\n",
       "Name: ER_m0_w0_r0_f0, Length: 11340, dtype: float64"
      ]
     },
     "execution_count": 87,
     "metadata": {},
     "output_type": "execute_result"
    }
   ],
   "source": [
    "d.ER_m0_w0_r0_f0"
   ]
  },
  {
   "cell_type": "code",
   "execution_count": 88,
   "metadata": {
    "ExecuteTime": {
     "end_time": "2019-10-09T14:05:34.064683Z",
     "start_time": "2019-10-09T14:05:34.033987Z"
    }
   },
   "outputs": [
    {
     "data": {
      "text/html": [
       "<div>\n",
       "<style scoped>\n",
       "    .dataframe tbody tr th:only-of-type {\n",
       "        vertical-align: middle;\n",
       "    }\n",
       "\n",
       "    .dataframe tbody tr th {\n",
       "        vertical-align: top;\n",
       "    }\n",
       "\n",
       "    .dataframe thead th {\n",
       "        text-align: right;\n",
       "    }\n",
       "</style>\n",
       "<table border=\"1\" class=\"dataframe\">\n",
       "  <thead>\n",
       "    <tr style=\"text-align: right;\">\n",
       "      <th></th>\n",
       "      <th>Dwelling_Type</th>\n",
       "      <th>Climate_Type</th>\n",
       "      <th>Degrees_of_Reference</th>\n",
       "      <th>Construction_Period</th>\n",
       "      <th>Size_Factor</th>\n",
       "      <th>Surface</th>\n",
       "      <th>Ceiling_Height</th>\n",
       "      <th>Share_of_Windows</th>\n",
       "      <th>Dwelling_per_Floor</th>\n",
       "      <th>Floors</th>\n",
       "      <th>...</th>\n",
       "      <th>ER_m18_w3_r2_f2</th>\n",
       "      <th>ER_m18_w3_r2_f3</th>\n",
       "      <th>ER_m18_w3_r2_f4</th>\n",
       "      <th>ER_m18_w3_r2_f5</th>\n",
       "      <th>ER_m18_w3_r3_f0</th>\n",
       "      <th>ER_m18_w3_r3_f1</th>\n",
       "      <th>ER_m18_w3_r3_f2</th>\n",
       "      <th>ER_m18_w3_r3_f3</th>\n",
       "      <th>ER_m18_w3_r3_f4</th>\n",
       "      <th>ER_m18_w3_r3_f5</th>\n",
       "    </tr>\n",
       "  </thead>\n",
       "  <tbody>\n",
       "    <tr>\n",
       "      <td>0</td>\n",
       "      <td>CID</td>\n",
       "      <td>H1</td>\n",
       "      <td>59488</td>\n",
       "      <td>&lt;1948</td>\n",
       "      <td>Middle</td>\n",
       "      <td>60.5</td>\n",
       "      <td>2.98</td>\n",
       "      <td>0.28</td>\n",
       "      <td>2</td>\n",
       "      <td>5</td>\n",
       "      <td>...</td>\n",
       "      <td>2522.813706</td>\n",
       "      <td>2469.607367</td>\n",
       "      <td>2439.987656</td>\n",
       "      <td>2416.260621</td>\n",
       "      <td>2943.475584</td>\n",
       "      <td>2611.180424</td>\n",
       "      <td>2493.271930</td>\n",
       "      <td>2439.987656</td>\n",
       "      <td>2410.324514</td>\n",
       "      <td>2386.562666</td>\n",
       "    </tr>\n",
       "    <tr>\n",
       "      <td>1</td>\n",
       "      <td>CID</td>\n",
       "      <td>H1</td>\n",
       "      <td>59488</td>\n",
       "      <td>&lt;1948</td>\n",
       "      <td>Middle</td>\n",
       "      <td>60.5</td>\n",
       "      <td>2.98</td>\n",
       "      <td>0.28</td>\n",
       "      <td>2</td>\n",
       "      <td>5</td>\n",
       "      <td>...</td>\n",
       "      <td>2522.813706</td>\n",
       "      <td>2469.607367</td>\n",
       "      <td>2439.987656</td>\n",
       "      <td>2416.260621</td>\n",
       "      <td>2943.475584</td>\n",
       "      <td>2611.180424</td>\n",
       "      <td>2493.271930</td>\n",
       "      <td>2439.987656</td>\n",
       "      <td>2410.324514</td>\n",
       "      <td>2386.562666</td>\n",
       "    </tr>\n",
       "    <tr>\n",
       "      <td>2</td>\n",
       "      <td>CID</td>\n",
       "      <td>H1</td>\n",
       "      <td>59488</td>\n",
       "      <td>&lt;1948</td>\n",
       "      <td>Middle</td>\n",
       "      <td>60.5</td>\n",
       "      <td>2.98</td>\n",
       "      <td>0.28</td>\n",
       "      <td>2</td>\n",
       "      <td>5</td>\n",
       "      <td>...</td>\n",
       "      <td>2522.813706</td>\n",
       "      <td>2469.607367</td>\n",
       "      <td>2439.987656</td>\n",
       "      <td>2416.260621</td>\n",
       "      <td>2943.475584</td>\n",
       "      <td>2611.180424</td>\n",
       "      <td>2493.271930</td>\n",
       "      <td>2439.987656</td>\n",
       "      <td>2410.324514</td>\n",
       "      <td>2386.562666</td>\n",
       "    </tr>\n",
       "    <tr>\n",
       "      <td>3</td>\n",
       "      <td>CID</td>\n",
       "      <td>H1</td>\n",
       "      <td>59488</td>\n",
       "      <td>&lt;1948</td>\n",
       "      <td>Middle</td>\n",
       "      <td>60.5</td>\n",
       "      <td>2.98</td>\n",
       "      <td>0.28</td>\n",
       "      <td>2</td>\n",
       "      <td>5</td>\n",
       "      <td>...</td>\n",
       "      <td>2522.813706</td>\n",
       "      <td>2469.607367</td>\n",
       "      <td>2439.987656</td>\n",
       "      <td>2416.260621</td>\n",
       "      <td>2943.475584</td>\n",
       "      <td>2611.180424</td>\n",
       "      <td>2493.271930</td>\n",
       "      <td>2439.987656</td>\n",
       "      <td>2410.324514</td>\n",
       "      <td>2386.562666</td>\n",
       "    </tr>\n",
       "    <tr>\n",
       "      <td>4</td>\n",
       "      <td>CID</td>\n",
       "      <td>H1</td>\n",
       "      <td>59488</td>\n",
       "      <td>&lt;1948</td>\n",
       "      <td>Middle</td>\n",
       "      <td>60.5</td>\n",
       "      <td>2.98</td>\n",
       "      <td>0.28</td>\n",
       "      <td>2</td>\n",
       "      <td>5</td>\n",
       "      <td>...</td>\n",
       "      <td>2522.813706</td>\n",
       "      <td>2469.607367</td>\n",
       "      <td>2439.987656</td>\n",
       "      <td>2416.260621</td>\n",
       "      <td>2943.475584</td>\n",
       "      <td>2611.180424</td>\n",
       "      <td>2493.271930</td>\n",
       "      <td>2439.987656</td>\n",
       "      <td>2410.324514</td>\n",
       "      <td>2386.562666</td>\n",
       "    </tr>\n",
       "    <tr>\n",
       "      <td>...</td>\n",
       "      <td>...</td>\n",
       "      <td>...</td>\n",
       "      <td>...</td>\n",
       "      <td>...</td>\n",
       "      <td>...</td>\n",
       "      <td>...</td>\n",
       "      <td>...</td>\n",
       "      <td>...</td>\n",
       "      <td>...</td>\n",
       "      <td>...</td>\n",
       "      <td>...</td>\n",
       "      <td>...</td>\n",
       "      <td>...</td>\n",
       "      <td>...</td>\n",
       "      <td>...</td>\n",
       "      <td>...</td>\n",
       "      <td>...</td>\n",
       "      <td>...</td>\n",
       "      <td>...</td>\n",
       "      <td>...</td>\n",
       "      <td>...</td>\n",
       "    </tr>\n",
       "    <tr>\n",
       "      <td>11335</td>\n",
       "      <td>CID</td>\n",
       "      <td>H3</td>\n",
       "      <td>34281</td>\n",
       "      <td>2006-2013</td>\n",
       "      <td>Large</td>\n",
       "      <td>94.0</td>\n",
       "      <td>2.60</td>\n",
       "      <td>0.30</td>\n",
       "      <td>2</td>\n",
       "      <td>6</td>\n",
       "      <td>...</td>\n",
       "      <td>1698.406374</td>\n",
       "      <td>1656.865438</td>\n",
       "      <td>1633.740231</td>\n",
       "      <td>1615.215878</td>\n",
       "      <td>1592.030141</td>\n",
       "      <td>1767.401036</td>\n",
       "      <td>1675.341461</td>\n",
       "      <td>1633.740231</td>\n",
       "      <td>1610.581426</td>\n",
       "      <td>1592.030141</td>\n",
       "    </tr>\n",
       "    <tr>\n",
       "      <td>11336</td>\n",
       "      <td>CID</td>\n",
       "      <td>H3</td>\n",
       "      <td>34281</td>\n",
       "      <td>2006-2013</td>\n",
       "      <td>Large</td>\n",
       "      <td>94.0</td>\n",
       "      <td>2.60</td>\n",
       "      <td>0.30</td>\n",
       "      <td>2</td>\n",
       "      <td>6</td>\n",
       "      <td>...</td>\n",
       "      <td>1698.406374</td>\n",
       "      <td>1656.865438</td>\n",
       "      <td>1633.740231</td>\n",
       "      <td>1615.215878</td>\n",
       "      <td>1592.030141</td>\n",
       "      <td>1767.401036</td>\n",
       "      <td>1675.341461</td>\n",
       "      <td>1633.740231</td>\n",
       "      <td>1610.581426</td>\n",
       "      <td>1592.030141</td>\n",
       "    </tr>\n",
       "    <tr>\n",
       "      <td>11337</td>\n",
       "      <td>CID</td>\n",
       "      <td>H3</td>\n",
       "      <td>34281</td>\n",
       "      <td>2006-2013</td>\n",
       "      <td>Large</td>\n",
       "      <td>94.0</td>\n",
       "      <td>2.60</td>\n",
       "      <td>0.30</td>\n",
       "      <td>2</td>\n",
       "      <td>6</td>\n",
       "      <td>...</td>\n",
       "      <td>1698.406374</td>\n",
       "      <td>1656.865438</td>\n",
       "      <td>1633.740231</td>\n",
       "      <td>1615.215878</td>\n",
       "      <td>1592.030141</td>\n",
       "      <td>1767.401036</td>\n",
       "      <td>1675.341461</td>\n",
       "      <td>1633.740231</td>\n",
       "      <td>1610.581426</td>\n",
       "      <td>1592.030141</td>\n",
       "    </tr>\n",
       "    <tr>\n",
       "      <td>11338</td>\n",
       "      <td>CID</td>\n",
       "      <td>H3</td>\n",
       "      <td>34281</td>\n",
       "      <td>2006-2013</td>\n",
       "      <td>Large</td>\n",
       "      <td>94.0</td>\n",
       "      <td>2.60</td>\n",
       "      <td>0.30</td>\n",
       "      <td>2</td>\n",
       "      <td>6</td>\n",
       "      <td>...</td>\n",
       "      <td>1698.406374</td>\n",
       "      <td>1656.865438</td>\n",
       "      <td>1633.740231</td>\n",
       "      <td>1615.215878</td>\n",
       "      <td>1592.030141</td>\n",
       "      <td>1767.401036</td>\n",
       "      <td>1675.341461</td>\n",
       "      <td>1633.740231</td>\n",
       "      <td>1610.581426</td>\n",
       "      <td>1592.030141</td>\n",
       "    </tr>\n",
       "    <tr>\n",
       "      <td>11339</td>\n",
       "      <td>CID</td>\n",
       "      <td>H3</td>\n",
       "      <td>34281</td>\n",
       "      <td>2006-2013</td>\n",
       "      <td>Large</td>\n",
       "      <td>94.0</td>\n",
       "      <td>2.60</td>\n",
       "      <td>0.30</td>\n",
       "      <td>2</td>\n",
       "      <td>6</td>\n",
       "      <td>...</td>\n",
       "      <td>1698.406374</td>\n",
       "      <td>1656.865438</td>\n",
       "      <td>1633.740231</td>\n",
       "      <td>1615.215878</td>\n",
       "      <td>1592.030141</td>\n",
       "      <td>1767.401036</td>\n",
       "      <td>1675.341461</td>\n",
       "      <td>1633.740231</td>\n",
       "      <td>1610.581426</td>\n",
       "      <td>1592.030141</td>\n",
       "    </tr>\n",
       "  </tbody>\n",
       "</table>\n",
       "<p>11340 rows × 1873 columns</p>\n",
       "</div>"
      ],
      "text/plain": [
       "      Dwelling_Type Climate_Type  Degrees_of_Reference Construction_Period  \\\n",
       "0               CID           H1                 59488               <1948   \n",
       "1               CID           H1                 59488               <1948   \n",
       "2               CID           H1                 59488               <1948   \n",
       "3               CID           H1                 59488               <1948   \n",
       "4               CID           H1                 59488               <1948   \n",
       "...             ...          ...                   ...                 ...   \n",
       "11335           CID           H3                 34281           2006-2013   \n",
       "11336           CID           H3                 34281           2006-2013   \n",
       "11337           CID           H3                 34281           2006-2013   \n",
       "11338           CID           H3                 34281           2006-2013   \n",
       "11339           CID           H3                 34281           2006-2013   \n",
       "\n",
       "      Size_Factor  Surface  Ceiling_Height  Share_of_Windows  \\\n",
       "0          Middle     60.5            2.98              0.28   \n",
       "1          Middle     60.5            2.98              0.28   \n",
       "2          Middle     60.5            2.98              0.28   \n",
       "3          Middle     60.5            2.98              0.28   \n",
       "4          Middle     60.5            2.98              0.28   \n",
       "...           ...      ...             ...               ...   \n",
       "11335       Large     94.0            2.60              0.30   \n",
       "11336       Large     94.0            2.60              0.30   \n",
       "11337       Large     94.0            2.60              0.30   \n",
       "11338       Large     94.0            2.60              0.30   \n",
       "11339       Large     94.0            2.60              0.30   \n",
       "\n",
       "       Dwelling_per_Floor  Floors  ...  ER_m18_w3_r2_f2 ER_m18_w3_r2_f3  \\\n",
       "0                       2       5  ...      2522.813706     2469.607367   \n",
       "1                       2       5  ...      2522.813706     2469.607367   \n",
       "2                       2       5  ...      2522.813706     2469.607367   \n",
       "3                       2       5  ...      2522.813706     2469.607367   \n",
       "4                       2       5  ...      2522.813706     2469.607367   \n",
       "...                   ...     ...  ...              ...             ...   \n",
       "11335                   2       6  ...      1698.406374     1656.865438   \n",
       "11336                   2       6  ...      1698.406374     1656.865438   \n",
       "11337                   2       6  ...      1698.406374     1656.865438   \n",
       "11338                   2       6  ...      1698.406374     1656.865438   \n",
       "11339                   2       6  ...      1698.406374     1656.865438   \n",
       "\n",
       "       ER_m18_w3_r2_f4  ER_m18_w3_r2_f5  ER_m18_w3_r3_f0  ER_m18_w3_r3_f1  \\\n",
       "0          2439.987656      2416.260621      2943.475584      2611.180424   \n",
       "1          2439.987656      2416.260621      2943.475584      2611.180424   \n",
       "2          2439.987656      2416.260621      2943.475584      2611.180424   \n",
       "3          2439.987656      2416.260621      2943.475584      2611.180424   \n",
       "4          2439.987656      2416.260621      2943.475584      2611.180424   \n",
       "...                ...              ...              ...              ...   \n",
       "11335      1633.740231      1615.215878      1592.030141      1767.401036   \n",
       "11336      1633.740231      1615.215878      1592.030141      1767.401036   \n",
       "11337      1633.740231      1615.215878      1592.030141      1767.401036   \n",
       "11338      1633.740231      1615.215878      1592.030141      1767.401036   \n",
       "11339      1633.740231      1615.215878      1592.030141      1767.401036   \n",
       "\n",
       "       ER_m18_w3_r3_f2  ER_m18_w3_r3_f3  ER_m18_w3_r3_f4  ER_m18_w3_r3_f5  \n",
       "0          2493.271930      2439.987656      2410.324514      2386.562666  \n",
       "1          2493.271930      2439.987656      2410.324514      2386.562666  \n",
       "2          2493.271930      2439.987656      2410.324514      2386.562666  \n",
       "3          2493.271930      2439.987656      2410.324514      2386.562666  \n",
       "4          2493.271930      2439.987656      2410.324514      2386.562666  \n",
       "...                ...              ...              ...              ...  \n",
       "11335      1675.341461      1633.740231      1610.581426      1592.030141  \n",
       "11336      1675.341461      1633.740231      1610.581426      1592.030141  \n",
       "11337      1675.341461      1633.740231      1610.581426      1592.030141  \n",
       "11338      1675.341461      1633.740231      1610.581426      1592.030141  \n",
       "11339      1675.341461      1633.740231      1610.581426      1592.030141  \n",
       "\n",
       "[11340 rows x 1873 columns]"
      ]
     },
     "execution_count": 88,
     "metadata": {},
     "output_type": "execute_result"
    }
   ],
   "source": [
    "d"
   ]
  },
  {
   "cell_type": "code",
   "execution_count": 31,
   "metadata": {
    "ExecuteTime": {
     "end_time": "2019-10-09T12:44:23.813155Z",
     "start_time": "2019-10-09T12:44:23.798303Z"
    }
   },
   "outputs": [
    {
     "data": {
      "text/plain": [
       "0        4.788674\n",
       "1        4.782250\n",
       "2        4.776132\n",
       "3        4.770305\n",
       "4        4.764756\n",
       "           ...   \n",
       "11335    2.551762\n",
       "11336    2.547642\n",
       "11337    2.543718\n",
       "11338    2.539981\n",
       "11339    2.536422\n",
       "Name: GHC_Total_Prices_19_39, Length: 11340, dtype: float64"
      ]
     },
     "execution_count": 31,
     "metadata": {},
     "output_type": "execute_result"
    }
   ],
   "source": [
    "d.GHC_Total_Prices_19_39"
   ]
  },
  {
   "cell_type": "markdown",
   "metadata": {},
   "source": [
    "## Qin"
   ]
  },
  {
   "cell_type": "code",
   "execution_count": 85,
   "metadata": {
    "ExecuteTime": {
     "end_time": "2019-10-09T14:02:26.286803Z",
     "start_time": "2019-10-09T14:02:25.727958Z"
    }
   },
   "outputs": [
    {
     "ename": "AttributeError",
     "evalue": "'DF_for_CD_U_Prices' object has no attribute 'UEN_per_Dwelling'",
     "output_type": "error",
     "traceback": [
      "\u001b[0;31m---------------------------------------------------------------------------\u001b[0m",
      "\u001b[0;31mAttributeError\u001b[0m                            Traceback (most recent call last)",
      "\u001b[0;32m<ipython-input-85-bda7a4607ac3>\u001b[0m in \u001b[0;36m<module>\u001b[0;34m\u001b[0m\n\u001b[1;32m      2\u001b[0m \u001b[0mB\u001b[0m \u001b[0;34m=\u001b[0m \u001b[0mA\u001b[0m\u001b[0;34m.\u001b[0m\u001b[0mAdd_Created_Columns\u001b[0m\u001b[0;34m(\u001b[0m\u001b[0;34m)\u001b[0m\u001b[0;34m\u001b[0m\u001b[0;34m\u001b[0m\u001b[0m\n\u001b[1;32m      3\u001b[0m \u001b[0mC\u001b[0m \u001b[0;34m=\u001b[0m \u001b[0mDF_for_CD_U_Prices\u001b[0m\u001b[0;34m(\u001b[0m\u001b[0mB\u001b[0m\u001b[0;34m)\u001b[0m\u001b[0;34m\u001b[0m\u001b[0;34m\u001b[0m\u001b[0m\n\u001b[0;32m----> 4\u001b[0;31m \u001b[0mD\u001b[0m \u001b[0;34m=\u001b[0m \u001b[0mC\u001b[0m\u001b[0;34m.\u001b[0m\u001b[0mUEN_per_Dwelling\u001b[0m\u001b[0;34m(\u001b[0m\u001b[0;34m)\u001b[0m\u001b[0;34m\u001b[0m\u001b[0;34m\u001b[0m\u001b[0m\n\u001b[0m",
      "\u001b[0;31mAttributeError\u001b[0m: 'DF_for_CD_U_Prices' object has no attribute 'UEN_per_Dwelling'"
     ]
    }
   ],
   "source": [
    "A = Columns_for_CxD_U_Prices(df_CID_UP, 0)\n",
    "B = A.Add_Created_Columns()\n",
    "C = DF_for_CD_U_Prices(B)\n",
    "D = C.Multiple_Cost_ER()"
   ]
  },
  {
   "cell_type": "code",
   "execution_count": null,
   "metadata": {
    "ExecuteTime": {
     "end_time": "2019-10-09T14:02:20.472937Z",
     "start_time": "2019-10-09T14:02:20.424Z"
    }
   },
   "outputs": [],
   "source": [
    "D.ER_m0_w0_r0_f0"
   ]
  },
  {
   "cell_type": "code",
   "execution_count": 34,
   "metadata": {
    "ExecuteTime": {
     "end_time": "2019-10-09T12:45:35.176045Z",
     "start_time": "2019-10-09T12:45:35.169050Z"
    }
   },
   "outputs": [
    {
     "data": {
      "text/plain": [
       "2882.701497630158"
      ]
     },
     "execution_count": 34,
     "metadata": {},
     "output_type": "execute_result"
    }
   ],
   "source": [
    "D.Maintenance.loc[20]"
   ]
  },
  {
   "cell_type": "code",
   "execution_count": 45,
   "metadata": {
    "ExecuteTime": {
     "end_time": "2019-10-09T12:46:39.499778Z",
     "start_time": "2019-10-09T12:46:39.494095Z"
    }
   },
   "outputs": [
    {
     "data": {
      "text/plain": [
       "1.7722233617378393"
      ]
     },
     "execution_count": 45,
     "metadata": {},
     "output_type": "execute_result"
    }
   ],
   "source": [
    "d.No_Gas_Prices.loc[120]"
   ]
  },
  {
   "cell_type": "code",
   "execution_count": 36,
   "metadata": {
    "ExecuteTime": {
     "end_time": "2019-10-09T12:45:35.198424Z",
     "start_time": "2019-10-09T12:45:35.186847Z"
    }
   },
   "outputs": [
    {
     "data": {
      "text/plain": [
       "0          0.000000\n",
       "1          0.000000\n",
       "2          0.000000\n",
       "3          0.000000\n",
       "4          0.000000\n",
       "            ...    \n",
       "11335    165.142857\n",
       "11336    165.142857\n",
       "11337    165.142857\n",
       "11338    165.142857\n",
       "11339    165.142857\n",
       "Length: 11340, dtype: float64"
      ]
     },
     "execution_count": 36,
     "metadata": {},
     "output_type": "execute_result"
    }
   ],
   "source": [
    "np.divide(\n",
    "    np.multiply(D.Maintenance_Cost, np.power(np.add(1, D.Inflation_Rate), 1)),\n",
    "    np.power(np.add(1, D.Discount_Rate), 1))"
   ]
  },
  {
   "cell_type": "code",
   "execution_count": 37,
   "metadata": {
    "ExecuteTime": {
     "end_time": "2019-10-09T12:45:35.370098Z",
     "start_time": "2019-10-09T12:45:35.200207Z"
    }
   },
   "outputs": [
    {
     "ename": "KeyError",
     "evalue": "'EHP_m18_w3_r3_f5'",
     "output_type": "error",
     "traceback": [
      "\u001b[0;31m---------------------------------------------------------------------------\u001b[0m",
      "\u001b[0;31mValueError\u001b[0m                                Traceback (most recent call last)",
      "\u001b[0;32m~/anaconda3/lib/python3.7/site-packages/pandas/core/indexes/base.py\u001b[0m in \u001b[0;36mget_slice_bound\u001b[0;34m(self, label, side, kind)\u001b[0m\n\u001b[1;32m   5166\u001b[0m             \u001b[0;32mtry\u001b[0m\u001b[0;34m:\u001b[0m\u001b[0;34m\u001b[0m\u001b[0;34m\u001b[0m\u001b[0m\n\u001b[0;32m-> 5167\u001b[0;31m                 \u001b[0;32mreturn\u001b[0m \u001b[0mself\u001b[0m\u001b[0;34m.\u001b[0m\u001b[0m_searchsorted_monotonic\u001b[0m\u001b[0;34m(\u001b[0m\u001b[0mlabel\u001b[0m\u001b[0;34m,\u001b[0m \u001b[0mside\u001b[0m\u001b[0;34m)\u001b[0m\u001b[0;34m\u001b[0m\u001b[0;34m\u001b[0m\u001b[0m\n\u001b[0m\u001b[1;32m   5168\u001b[0m             \u001b[0;32mexcept\u001b[0m \u001b[0mValueError\u001b[0m\u001b[0;34m:\u001b[0m\u001b[0;34m\u001b[0m\u001b[0;34m\u001b[0m\u001b[0m\n",
      "\u001b[0;32m~/anaconda3/lib/python3.7/site-packages/pandas/core/indexes/base.py\u001b[0m in \u001b[0;36m_searchsorted_monotonic\u001b[0;34m(self, label, side)\u001b[0m\n\u001b[1;32m   5127\u001b[0m \u001b[0;34m\u001b[0m\u001b[0m\n\u001b[0;32m-> 5128\u001b[0;31m         \u001b[0;32mraise\u001b[0m \u001b[0mValueError\u001b[0m\u001b[0;34m(\u001b[0m\u001b[0;34m\"index must be monotonic increasing or decreasing\"\u001b[0m\u001b[0;34m)\u001b[0m\u001b[0;34m\u001b[0m\u001b[0;34m\u001b[0m\u001b[0m\n\u001b[0m\u001b[1;32m   5129\u001b[0m \u001b[0;34m\u001b[0m\u001b[0m\n",
      "\u001b[0;31mValueError\u001b[0m: index must be monotonic increasing or decreasing",
      "\nDuring handling of the above exception, another exception occurred:\n",
      "\u001b[0;31mKeyError\u001b[0m                                  Traceback (most recent call last)",
      "\u001b[0;32m<ipython-input-37-f425f9b56bf2>\u001b[0m in \u001b[0;36m<module>\u001b[0;34m\u001b[0m\n\u001b[1;32m      1\u001b[0m selected_columns = d.loc[:, 'ER_m0_w0_r0_f0':\n\u001b[0;32m----> 2\u001b[0;31m                          'EHP_m18_w3_r3_f5'].columns.tolist()\n\u001b[0m\u001b[1;32m      3\u001b[0m \u001b[0;34m\u001b[0m\u001b[0m\n\u001b[1;32m      4\u001b[0m \u001b[0mtotal\u001b[0m \u001b[0;34m=\u001b[0m \u001b[0md\u001b[0m\u001b[0;34m[\u001b[0m\u001b[0mselected_columns\u001b[0m\u001b[0;34m]\u001b[0m \u001b[0;34m+\u001b[0m \u001b[0mD\u001b[0m\u001b[0;34m[\u001b[0m\u001b[0mselected_columns\u001b[0m\u001b[0;34m]\u001b[0m\u001b[0;34m\u001b[0m\u001b[0;34m\u001b[0m\u001b[0m\n\u001b[1;32m      5\u001b[0m \u001b[0mtotal\u001b[0m\u001b[0;34m\u001b[0m\u001b[0;34m\u001b[0m\u001b[0m\n",
      "\u001b[0;32m~/anaconda3/lib/python3.7/site-packages/pandas/core/indexing.py\u001b[0m in \u001b[0;36m__getitem__\u001b[0;34m(self, key)\u001b[0m\n\u001b[1;32m   1416\u001b[0m                 \u001b[0;32mexcept\u001b[0m \u001b[0;34m(\u001b[0m\u001b[0mKeyError\u001b[0m\u001b[0;34m,\u001b[0m \u001b[0mIndexError\u001b[0m\u001b[0;34m,\u001b[0m \u001b[0mAttributeError\u001b[0m\u001b[0;34m)\u001b[0m\u001b[0;34m:\u001b[0m\u001b[0;34m\u001b[0m\u001b[0;34m\u001b[0m\u001b[0m\n\u001b[1;32m   1417\u001b[0m                     \u001b[0;32mpass\u001b[0m\u001b[0;34m\u001b[0m\u001b[0;34m\u001b[0m\u001b[0m\n\u001b[0;32m-> 1418\u001b[0;31m             \u001b[0;32mreturn\u001b[0m \u001b[0mself\u001b[0m\u001b[0;34m.\u001b[0m\u001b[0m_getitem_tuple\u001b[0m\u001b[0;34m(\u001b[0m\u001b[0mkey\u001b[0m\u001b[0;34m)\u001b[0m\u001b[0;34m\u001b[0m\u001b[0;34m\u001b[0m\u001b[0m\n\u001b[0m\u001b[1;32m   1419\u001b[0m         \u001b[0;32melse\u001b[0m\u001b[0;34m:\u001b[0m\u001b[0;34m\u001b[0m\u001b[0;34m\u001b[0m\u001b[0m\n\u001b[1;32m   1420\u001b[0m             \u001b[0;31m# we by definition only have the 0th axis\u001b[0m\u001b[0;34m\u001b[0m\u001b[0;34m\u001b[0m\u001b[0;34m\u001b[0m\u001b[0m\n",
      "\u001b[0;32m~/anaconda3/lib/python3.7/site-packages/pandas/core/indexing.py\u001b[0m in \u001b[0;36m_getitem_tuple\u001b[0;34m(self, tup)\u001b[0m\n\u001b[1;32m    820\u001b[0m                 \u001b[0;32mcontinue\u001b[0m\u001b[0;34m\u001b[0m\u001b[0;34m\u001b[0m\u001b[0m\n\u001b[1;32m    821\u001b[0m \u001b[0;34m\u001b[0m\u001b[0m\n\u001b[0;32m--> 822\u001b[0;31m             \u001b[0mretval\u001b[0m \u001b[0;34m=\u001b[0m \u001b[0mgetattr\u001b[0m\u001b[0;34m(\u001b[0m\u001b[0mretval\u001b[0m\u001b[0;34m,\u001b[0m \u001b[0mself\u001b[0m\u001b[0;34m.\u001b[0m\u001b[0mname\u001b[0m\u001b[0;34m)\u001b[0m\u001b[0;34m.\u001b[0m\u001b[0m_getitem_axis\u001b[0m\u001b[0;34m(\u001b[0m\u001b[0mkey\u001b[0m\u001b[0;34m,\u001b[0m \u001b[0maxis\u001b[0m\u001b[0;34m=\u001b[0m\u001b[0mi\u001b[0m\u001b[0;34m)\u001b[0m\u001b[0;34m\u001b[0m\u001b[0;34m\u001b[0m\u001b[0m\n\u001b[0m\u001b[1;32m    823\u001b[0m \u001b[0;34m\u001b[0m\u001b[0m\n\u001b[1;32m    824\u001b[0m         \u001b[0;32mreturn\u001b[0m \u001b[0mretval\u001b[0m\u001b[0;34m\u001b[0m\u001b[0;34m\u001b[0m\u001b[0m\n",
      "\u001b[0;32m~/anaconda3/lib/python3.7/site-packages/pandas/core/indexing.py\u001b[0m in \u001b[0;36m_getitem_axis\u001b[0;34m(self, key, axis)\u001b[0m\n\u001b[1;32m   1795\u001b[0m         \u001b[0;32mif\u001b[0m \u001b[0misinstance\u001b[0m\u001b[0;34m(\u001b[0m\u001b[0mkey\u001b[0m\u001b[0;34m,\u001b[0m \u001b[0mslice\u001b[0m\u001b[0;34m)\u001b[0m\u001b[0;34m:\u001b[0m\u001b[0;34m\u001b[0m\u001b[0;34m\u001b[0m\u001b[0m\n\u001b[1;32m   1796\u001b[0m             \u001b[0mself\u001b[0m\u001b[0;34m.\u001b[0m\u001b[0m_validate_key\u001b[0m\u001b[0;34m(\u001b[0m\u001b[0mkey\u001b[0m\u001b[0;34m,\u001b[0m \u001b[0maxis\u001b[0m\u001b[0;34m)\u001b[0m\u001b[0;34m\u001b[0m\u001b[0;34m\u001b[0m\u001b[0m\n\u001b[0;32m-> 1797\u001b[0;31m             \u001b[0;32mreturn\u001b[0m \u001b[0mself\u001b[0m\u001b[0;34m.\u001b[0m\u001b[0m_get_slice_axis\u001b[0m\u001b[0;34m(\u001b[0m\u001b[0mkey\u001b[0m\u001b[0;34m,\u001b[0m \u001b[0maxis\u001b[0m\u001b[0;34m=\u001b[0m\u001b[0maxis\u001b[0m\u001b[0;34m)\u001b[0m\u001b[0;34m\u001b[0m\u001b[0;34m\u001b[0m\u001b[0m\n\u001b[0m\u001b[1;32m   1798\u001b[0m         \u001b[0;32melif\u001b[0m \u001b[0mcom\u001b[0m\u001b[0;34m.\u001b[0m\u001b[0mis_bool_indexer\u001b[0m\u001b[0;34m(\u001b[0m\u001b[0mkey\u001b[0m\u001b[0;34m)\u001b[0m\u001b[0;34m:\u001b[0m\u001b[0;34m\u001b[0m\u001b[0;34m\u001b[0m\u001b[0m\n\u001b[1;32m   1799\u001b[0m             \u001b[0;32mreturn\u001b[0m \u001b[0mself\u001b[0m\u001b[0;34m.\u001b[0m\u001b[0m_getbool_axis\u001b[0m\u001b[0;34m(\u001b[0m\u001b[0mkey\u001b[0m\u001b[0;34m,\u001b[0m \u001b[0maxis\u001b[0m\u001b[0;34m=\u001b[0m\u001b[0maxis\u001b[0m\u001b[0;34m)\u001b[0m\u001b[0;34m\u001b[0m\u001b[0;34m\u001b[0m\u001b[0m\n",
      "\u001b[0;32m~/anaconda3/lib/python3.7/site-packages/pandas/core/indexing.py\u001b[0m in \u001b[0;36m_get_slice_axis\u001b[0;34m(self, slice_obj, axis)\u001b[0m\n\u001b[1;32m   1452\u001b[0m         \u001b[0mlabels\u001b[0m \u001b[0;34m=\u001b[0m \u001b[0mobj\u001b[0m\u001b[0;34m.\u001b[0m\u001b[0m_get_axis\u001b[0m\u001b[0;34m(\u001b[0m\u001b[0maxis\u001b[0m\u001b[0;34m)\u001b[0m\u001b[0;34m\u001b[0m\u001b[0;34m\u001b[0m\u001b[0m\n\u001b[1;32m   1453\u001b[0m         indexer = labels.slice_indexer(\n\u001b[0;32m-> 1454\u001b[0;31m             \u001b[0mslice_obj\u001b[0m\u001b[0;34m.\u001b[0m\u001b[0mstart\u001b[0m\u001b[0;34m,\u001b[0m \u001b[0mslice_obj\u001b[0m\u001b[0;34m.\u001b[0m\u001b[0mstop\u001b[0m\u001b[0;34m,\u001b[0m \u001b[0mslice_obj\u001b[0m\u001b[0;34m.\u001b[0m\u001b[0mstep\u001b[0m\u001b[0;34m,\u001b[0m \u001b[0mkind\u001b[0m\u001b[0;34m=\u001b[0m\u001b[0mself\u001b[0m\u001b[0;34m.\u001b[0m\u001b[0mname\u001b[0m\u001b[0;34m\u001b[0m\u001b[0;34m\u001b[0m\u001b[0m\n\u001b[0m\u001b[1;32m   1455\u001b[0m         )\n\u001b[1;32m   1456\u001b[0m \u001b[0;34m\u001b[0m\u001b[0m\n",
      "\u001b[0;32m~/anaconda3/lib/python3.7/site-packages/pandas/core/indexes/base.py\u001b[0m in \u001b[0;36mslice_indexer\u001b[0;34m(self, start, end, step, kind)\u001b[0m\n\u001b[1;32m   5032\u001b[0m         \u001b[0mslice\u001b[0m\u001b[0;34m(\u001b[0m\u001b[0;36m1\u001b[0m\u001b[0;34m,\u001b[0m \u001b[0;36m3\u001b[0m\u001b[0;34m)\u001b[0m\u001b[0;34m\u001b[0m\u001b[0;34m\u001b[0m\u001b[0m\n\u001b[1;32m   5033\u001b[0m         \"\"\"\n\u001b[0;32m-> 5034\u001b[0;31m         \u001b[0mstart_slice\u001b[0m\u001b[0;34m,\u001b[0m \u001b[0mend_slice\u001b[0m \u001b[0;34m=\u001b[0m \u001b[0mself\u001b[0m\u001b[0;34m.\u001b[0m\u001b[0mslice_locs\u001b[0m\u001b[0;34m(\u001b[0m\u001b[0mstart\u001b[0m\u001b[0;34m,\u001b[0m \u001b[0mend\u001b[0m\u001b[0;34m,\u001b[0m \u001b[0mstep\u001b[0m\u001b[0;34m=\u001b[0m\u001b[0mstep\u001b[0m\u001b[0;34m,\u001b[0m \u001b[0mkind\u001b[0m\u001b[0;34m=\u001b[0m\u001b[0mkind\u001b[0m\u001b[0;34m)\u001b[0m\u001b[0;34m\u001b[0m\u001b[0;34m\u001b[0m\u001b[0m\n\u001b[0m\u001b[1;32m   5035\u001b[0m \u001b[0;34m\u001b[0m\u001b[0m\n\u001b[1;32m   5036\u001b[0m         \u001b[0;31m# return a slice\u001b[0m\u001b[0;34m\u001b[0m\u001b[0;34m\u001b[0m\u001b[0;34m\u001b[0m\u001b[0m\n",
      "\u001b[0;32m~/anaconda3/lib/python3.7/site-packages/pandas/core/indexes/base.py\u001b[0m in \u001b[0;36mslice_locs\u001b[0;34m(self, start, end, step, kind)\u001b[0m\n\u001b[1;32m   5252\u001b[0m         \u001b[0mend_slice\u001b[0m \u001b[0;34m=\u001b[0m \u001b[0;32mNone\u001b[0m\u001b[0;34m\u001b[0m\u001b[0;34m\u001b[0m\u001b[0m\n\u001b[1;32m   5253\u001b[0m         \u001b[0;32mif\u001b[0m \u001b[0mend\u001b[0m \u001b[0;32mis\u001b[0m \u001b[0;32mnot\u001b[0m \u001b[0;32mNone\u001b[0m\u001b[0;34m:\u001b[0m\u001b[0;34m\u001b[0m\u001b[0;34m\u001b[0m\u001b[0m\n\u001b[0;32m-> 5254\u001b[0;31m             \u001b[0mend_slice\u001b[0m \u001b[0;34m=\u001b[0m \u001b[0mself\u001b[0m\u001b[0;34m.\u001b[0m\u001b[0mget_slice_bound\u001b[0m\u001b[0;34m(\u001b[0m\u001b[0mend\u001b[0m\u001b[0;34m,\u001b[0m \u001b[0;34m\"right\"\u001b[0m\u001b[0;34m,\u001b[0m \u001b[0mkind\u001b[0m\u001b[0;34m)\u001b[0m\u001b[0;34m\u001b[0m\u001b[0;34m\u001b[0m\u001b[0m\n\u001b[0m\u001b[1;32m   5255\u001b[0m         \u001b[0;32mif\u001b[0m \u001b[0mend_slice\u001b[0m \u001b[0;32mis\u001b[0m \u001b[0;32mNone\u001b[0m\u001b[0;34m:\u001b[0m\u001b[0;34m\u001b[0m\u001b[0;34m\u001b[0m\u001b[0m\n\u001b[1;32m   5256\u001b[0m             \u001b[0mend_slice\u001b[0m \u001b[0;34m=\u001b[0m \u001b[0mlen\u001b[0m\u001b[0;34m(\u001b[0m\u001b[0mself\u001b[0m\u001b[0;34m)\u001b[0m\u001b[0;34m\u001b[0m\u001b[0;34m\u001b[0m\u001b[0m\n",
      "\u001b[0;32m~/anaconda3/lib/python3.7/site-packages/pandas/core/indexes/base.py\u001b[0m in \u001b[0;36mget_slice_bound\u001b[0;34m(self, label, side, kind)\u001b[0m\n\u001b[1;32m   5168\u001b[0m             \u001b[0;32mexcept\u001b[0m \u001b[0mValueError\u001b[0m\u001b[0;34m:\u001b[0m\u001b[0;34m\u001b[0m\u001b[0;34m\u001b[0m\u001b[0m\n\u001b[1;32m   5169\u001b[0m                 \u001b[0;31m# raise the original KeyError\u001b[0m\u001b[0;34m\u001b[0m\u001b[0;34m\u001b[0m\u001b[0;34m\u001b[0m\u001b[0m\n\u001b[0;32m-> 5170\u001b[0;31m                 \u001b[0;32mraise\u001b[0m \u001b[0merr\u001b[0m\u001b[0;34m\u001b[0m\u001b[0;34m\u001b[0m\u001b[0m\n\u001b[0m\u001b[1;32m   5171\u001b[0m \u001b[0;34m\u001b[0m\u001b[0m\n\u001b[1;32m   5172\u001b[0m         \u001b[0;32mif\u001b[0m \u001b[0misinstance\u001b[0m\u001b[0;34m(\u001b[0m\u001b[0mslc\u001b[0m\u001b[0;34m,\u001b[0m \u001b[0mnp\u001b[0m\u001b[0;34m.\u001b[0m\u001b[0mndarray\u001b[0m\u001b[0;34m)\u001b[0m\u001b[0;34m:\u001b[0m\u001b[0;34m\u001b[0m\u001b[0;34m\u001b[0m\u001b[0m\n",
      "\u001b[0;32m~/anaconda3/lib/python3.7/site-packages/pandas/core/indexes/base.py\u001b[0m in \u001b[0;36mget_slice_bound\u001b[0;34m(self, label, side, kind)\u001b[0m\n\u001b[1;32m   5162\u001b[0m         \u001b[0;31m# we need to look up the label\u001b[0m\u001b[0;34m\u001b[0m\u001b[0;34m\u001b[0m\u001b[0;34m\u001b[0m\u001b[0m\n\u001b[1;32m   5163\u001b[0m         \u001b[0;32mtry\u001b[0m\u001b[0;34m:\u001b[0m\u001b[0;34m\u001b[0m\u001b[0;34m\u001b[0m\u001b[0m\n\u001b[0;32m-> 5164\u001b[0;31m             \u001b[0mslc\u001b[0m \u001b[0;34m=\u001b[0m \u001b[0mself\u001b[0m\u001b[0;34m.\u001b[0m\u001b[0mget_loc\u001b[0m\u001b[0;34m(\u001b[0m\u001b[0mlabel\u001b[0m\u001b[0;34m)\u001b[0m\u001b[0;34m\u001b[0m\u001b[0;34m\u001b[0m\u001b[0m\n\u001b[0m\u001b[1;32m   5165\u001b[0m         \u001b[0;32mexcept\u001b[0m \u001b[0mKeyError\u001b[0m \u001b[0;32mas\u001b[0m \u001b[0merr\u001b[0m\u001b[0;34m:\u001b[0m\u001b[0;34m\u001b[0m\u001b[0;34m\u001b[0m\u001b[0m\n\u001b[1;32m   5166\u001b[0m             \u001b[0;32mtry\u001b[0m\u001b[0;34m:\u001b[0m\u001b[0;34m\u001b[0m\u001b[0;34m\u001b[0m\u001b[0m\n",
      "\u001b[0;32m~/anaconda3/lib/python3.7/site-packages/pandas/core/indexes/base.py\u001b[0m in \u001b[0;36mget_loc\u001b[0;34m(self, key, method, tolerance)\u001b[0m\n\u001b[1;32m   2897\u001b[0m                 \u001b[0;32mreturn\u001b[0m \u001b[0mself\u001b[0m\u001b[0;34m.\u001b[0m\u001b[0m_engine\u001b[0m\u001b[0;34m.\u001b[0m\u001b[0mget_loc\u001b[0m\u001b[0;34m(\u001b[0m\u001b[0mkey\u001b[0m\u001b[0;34m)\u001b[0m\u001b[0;34m\u001b[0m\u001b[0;34m\u001b[0m\u001b[0m\n\u001b[1;32m   2898\u001b[0m             \u001b[0;32mexcept\u001b[0m \u001b[0mKeyError\u001b[0m\u001b[0;34m:\u001b[0m\u001b[0;34m\u001b[0m\u001b[0;34m\u001b[0m\u001b[0m\n\u001b[0;32m-> 2899\u001b[0;31m                 \u001b[0;32mreturn\u001b[0m \u001b[0mself\u001b[0m\u001b[0;34m.\u001b[0m\u001b[0m_engine\u001b[0m\u001b[0;34m.\u001b[0m\u001b[0mget_loc\u001b[0m\u001b[0;34m(\u001b[0m\u001b[0mself\u001b[0m\u001b[0;34m.\u001b[0m\u001b[0m_maybe_cast_indexer\u001b[0m\u001b[0;34m(\u001b[0m\u001b[0mkey\u001b[0m\u001b[0;34m)\u001b[0m\u001b[0;34m)\u001b[0m\u001b[0;34m\u001b[0m\u001b[0;34m\u001b[0m\u001b[0m\n\u001b[0m\u001b[1;32m   2900\u001b[0m         \u001b[0mindexer\u001b[0m \u001b[0;34m=\u001b[0m \u001b[0mself\u001b[0m\u001b[0;34m.\u001b[0m\u001b[0mget_indexer\u001b[0m\u001b[0;34m(\u001b[0m\u001b[0;34m[\u001b[0m\u001b[0mkey\u001b[0m\u001b[0;34m]\u001b[0m\u001b[0;34m,\u001b[0m \u001b[0mmethod\u001b[0m\u001b[0;34m=\u001b[0m\u001b[0mmethod\u001b[0m\u001b[0;34m,\u001b[0m \u001b[0mtolerance\u001b[0m\u001b[0;34m=\u001b[0m\u001b[0mtolerance\u001b[0m\u001b[0;34m)\u001b[0m\u001b[0;34m\u001b[0m\u001b[0;34m\u001b[0m\u001b[0m\n\u001b[1;32m   2901\u001b[0m         \u001b[0;32mif\u001b[0m \u001b[0mindexer\u001b[0m\u001b[0;34m.\u001b[0m\u001b[0mndim\u001b[0m \u001b[0;34m>\u001b[0m \u001b[0;36m1\u001b[0m \u001b[0;32mor\u001b[0m \u001b[0mindexer\u001b[0m\u001b[0;34m.\u001b[0m\u001b[0msize\u001b[0m \u001b[0;34m>\u001b[0m \u001b[0;36m1\u001b[0m\u001b[0;34m:\u001b[0m\u001b[0;34m\u001b[0m\u001b[0;34m\u001b[0m\u001b[0m\n",
      "\u001b[0;32mpandas/_libs/index.pyx\u001b[0m in \u001b[0;36mpandas._libs.index.IndexEngine.get_loc\u001b[0;34m()\u001b[0m\n",
      "\u001b[0;32mpandas/_libs/index.pyx\u001b[0m in \u001b[0;36mpandas._libs.index.IndexEngine.get_loc\u001b[0;34m()\u001b[0m\n",
      "\u001b[0;32mpandas/_libs/hashtable_class_helper.pxi\u001b[0m in \u001b[0;36mpandas._libs.hashtable.PyObjectHashTable.get_item\u001b[0;34m()\u001b[0m\n",
      "\u001b[0;32mpandas/_libs/hashtable_class_helper.pxi\u001b[0m in \u001b[0;36mpandas._libs.hashtable.PyObjectHashTable.get_item\u001b[0;34m()\u001b[0m\n",
      "\u001b[0;31mKeyError\u001b[0m: 'EHP_m18_w3_r3_f5'"
     ]
    }
   ],
   "source": [
    "selected_columns = d.loc[:, 'ER_m0_w0_r0_f0':\n",
    "                         'EHP_m18_w3_r3_f5'].columns.tolist()\n",
    "\n",
    "total = d[selected_columns] + D[selected_columns]\n",
    "total"
   ]
  },
  {
   "cell_type": "code",
   "execution_count": null,
   "metadata": {
    "ExecuteTime": {
     "end_time": "2019-10-09T12:45:35.406003Z",
     "start_time": "2019-10-09T12:43:17.700Z"
    }
   },
   "outputs": [],
   "source": [
    "total.shape"
   ]
  },
  {
   "cell_type": "code",
   "execution_count": null,
   "metadata": {
    "ExecuteTime": {
     "end_time": "2019-10-09T12:45:35.412449Z",
     "start_time": "2019-10-09T12:43:17.747Z"
    }
   },
   "outputs": [],
   "source": [
    "D.ER_m0_w0_r0_f0"
   ]
  },
  {
   "cell_type": "code",
   "execution_count": null,
   "metadata": {
    "ExecuteTime": {
     "end_time": "2019-10-09T12:45:35.416080Z",
     "start_time": "2019-10-09T12:43:17.789Z"
    }
   },
   "outputs": [],
   "source": [
    "b.U_m0_w0"
   ]
  },
  {
   "cell_type": "code",
   "execution_count": null,
   "metadata": {
    "ExecuteTime": {
     "end_time": "2019-10-09T12:45:35.419349Z",
     "start_time": "2019-10-09T12:43:17.833Z"
    }
   },
   "outputs": [],
   "source": [
    "B.Maintenance_19_39"
   ]
  },
  {
   "cell_type": "code",
   "execution_count": null,
   "metadata": {
    "ExecuteTime": {
     "end_time": "2019-10-09T12:45:35.426814Z",
     "start_time": "2019-10-09T12:43:17.880Z"
    }
   },
   "outputs": [],
   "source": [
    "d.ER_m0_w0_r0_f0"
   ]
  },
  {
   "cell_type": "code",
   "execution_count": null,
   "metadata": {
    "ExecuteTime": {
     "end_time": "2019-10-09T12:45:35.431528Z",
     "start_time": "2019-10-09T12:43:17.926Z"
    }
   },
   "outputs": [],
   "source": [
    "d[selected_columns]"
   ]
  },
  {
   "cell_type": "code",
   "execution_count": null,
   "metadata": {
    "ExecuteTime": {
     "end_time": "2019-10-09T12:45:35.437147Z",
     "start_time": "2019-10-09T12:43:17.971Z"
    }
   },
   "outputs": [],
   "source": [
    "D[selected_columns]"
   ]
  },
  {
   "cell_type": "code",
   "execution_count": null,
   "metadata": {
    "ExecuteTime": {
     "end_time": "2019-10-09T12:45:35.439802Z",
     "start_time": "2019-10-09T12:43:18.014Z"
    }
   },
   "outputs": [],
   "source": [
    "D.Maintenance_19_39"
   ]
  },
  {
   "cell_type": "code",
   "execution_count": null,
   "metadata": {
    "ExecuteTime": {
     "end_time": "2019-10-09T12:45:35.446403Z",
     "start_time": "2019-10-09T12:43:18.059Z"
    }
   },
   "outputs": [],
   "source": [
    "d.GHC_Total_Prices_19_39"
   ]
  },
  {
   "cell_type": "code",
   "execution_count": null,
   "metadata": {
    "ExecuteTime": {
     "end_time": "2019-10-09T12:45:35.449486Z",
     "start_time": "2019-10-09T12:43:18.106Z"
    }
   },
   "outputs": [],
   "source": [
    "#total.to_csv('../Output_Data_CSV/Combination_with_Input_Data/total.csv',\n",
    "#             sep=';',\n",
    "#             index=None,\n",
    "#             header=True,\n",
    "#             encoding='utf-8')"
   ]
  },
  {
   "cell_type": "code",
   "execution_count": null,
   "metadata": {
    "ExecuteTime": {
     "end_time": "2019-10-08T09:28:10.656064Z",
     "start_time": "2019-10-08T09:28:10.643388Z"
    }
   },
   "outputs": [],
   "source": []
  },
  {
   "cell_type": "code",
   "execution_count": null,
   "metadata": {},
   "outputs": [],
   "source": []
  }
 ],
 "metadata": {
  "hide_input": false,
  "kernelspec": {
   "display_name": "Python 3",
   "language": "python",
   "name": "python3"
  },
  "language_info": {
   "codemirror_mode": {
    "name": "ipython",
    "version": 3
   },
   "file_extension": ".py",
   "mimetype": "text/x-python",
   "name": "python",
   "nbconvert_exporter": "python",
   "pygments_lexer": "ipython3",
   "version": "3.7.3"
  },
  "latex_envs": {
   "LaTeX_envs_menu_present": true,
   "autoclose": true,
   "autocomplete": false,
   "bibliofile": "biblio.bib",
   "cite_by": "apalike",
   "current_citInitial": 1,
   "eqLabelWithNumbers": true,
   "eqNumInitial": 1,
   "hotkeys": {
    "equation": "Ctrl-E",
    "itemize": "Ctrl-I"
   },
   "labels_anchors": true,
   "latex_user_defs": false,
   "report_style_numbering": true,
   "user_envs_cfg": true
  },
  "nbTranslate": {
   "displayLangs": [
    "*"
   ],
   "hotkey": "alt-t",
   "langInMainMenu": true,
   "sourceLang": "en",
   "targetLang": "fr",
   "useGoogleTranslate": true
  },
  "toc": {
   "base_numbering": 1,
   "nav_menu": {},
   "number_sections": true,
   "sideBar": true,
   "skip_h1_title": false,
   "title_cell": "Table of Contents",
   "title_sidebar": "Contents",
   "toc_cell": true,
   "toc_position": {
    "height": "calc(100% - 180px)",
    "left": "10px",
    "top": "150px",
    "width": "333.75px"
   },
   "toc_section_display": true,
   "toc_window_display": true
  },
  "varInspector": {
   "cols": {
    "lenName": 16,
    "lenType": 16,
    "lenVar": 40
   },
   "kernels_config": {
    "python": {
     "delete_cmd_postfix": "",
     "delete_cmd_prefix": "del ",
     "library": "var_list.py",
     "varRefreshCmd": "print(var_dic_list())"
    },
    "r": {
     "delete_cmd_postfix": ") ",
     "delete_cmd_prefix": "rm(",
     "library": "var_list.r",
     "varRefreshCmd": "cat(var_dic_list()) "
    }
   },
   "oldHeight": 122.43799999999999,
   "position": {
    "height": "152px",
    "left": "1060.98px",
    "right": "20px",
    "top": "188px",
    "width": "335px"
   },
   "types_to_exclude": [
    "module",
    "function",
    "builtin_function_or_method",
    "instance",
    "_Feature"
   ],
   "varInspector_section_display": "none",
   "window_display": true
  }
 },
 "nbformat": 4,
 "nbformat_minor": 2
}
