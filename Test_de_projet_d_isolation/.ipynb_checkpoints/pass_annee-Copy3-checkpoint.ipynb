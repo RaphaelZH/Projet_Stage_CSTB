{
 "cells": [
  {
   "cell_type": "markdown",
   "metadata": {
    "toc": true
   },
   "source": [
    "<h1>Table of Contents<span class=\"tocSkip\"></span></h1>\n",
    "<div class=\"toc\"><ul class=\"toc-item\"><li><span><a href=\"#Importation-of-necessary-libraries\" data-toc-modified-id=\"Importation-of-necessary-libraries-1\"><span class=\"toc-item-num\">1&nbsp;&nbsp;</span>Importation of necessary libraries</a></span></li><li><span><a href=\"#Combination-of-all-the-necessary-data\" data-toc-modified-id=\"Combination-of-all-the-necessary-data-2\"><span class=\"toc-item-num\">2&nbsp;&nbsp;</span>Combination of all the necessary data</a></span><ul class=\"toc-item\"><li><span><a href=\"#Class-for-all-types-of-dwellings\" data-toc-modified-id=\"Class-for-all-types-of-dwellings-2.1\"><span class=\"toc-item-num\">2.1&nbsp;&nbsp;</span>Class for all types of dwellings</a></span></li><li><span><a href=\"#Class-for-the-CID-type-dwellings\" data-toc-modified-id=\"Class-for-the-CID-type-dwellings-2.2\"><span class=\"toc-item-num\">2.2&nbsp;&nbsp;</span>Class for the CID type dwellings</a></span><ul class=\"toc-item\"><li><span><a href=\"#Class-for-the-DataFrame-with-U-factors\" data-toc-modified-id=\"Class-for-the-DataFrame-with-U-factors-2.2.1\"><span class=\"toc-item-num\">2.2.1&nbsp;&nbsp;</span>Class for the DataFrame with U factors</a></span></li><li><span><a href=\"#Class-for-the-DataFrame-with-U-prices\" data-toc-modified-id=\"Class-for-the-DataFrame-with-U-prices-2.2.2\"><span class=\"toc-item-num\">2.2.2&nbsp;&nbsp;</span>Class for the DataFrame with U prices</a></span></li></ul></li><li><span><a href=\"#Class-for-the-CCD-type-dwellings\" data-toc-modified-id=\"Class-for-the-CCD-type-dwellings-2.3\"><span class=\"toc-item-num\">2.3&nbsp;&nbsp;</span>Class for the CCD type dwellings</a></span><ul class=\"toc-item\"><li><span><a href=\"#Class-for-the-DataFrame-with-U-factors\" data-toc-modified-id=\"Class-for-the-DataFrame-with-U-factors-2.3.1\"><span class=\"toc-item-num\">2.3.1&nbsp;&nbsp;</span>Class for the DataFrame with U factors</a></span></li><li><span><a href=\"#Class-for-the-DataFrame-with-U-prices\" data-toc-modified-id=\"Class-for-the-DataFrame-with-U-prices-2.3.2\"><span class=\"toc-item-num\">2.3.2&nbsp;&nbsp;</span>Class for the DataFrame with U prices</a></span></li></ul></li><li><span><a href=\"#Class-for-the-ID-type-dwellings\" data-toc-modified-id=\"Class-for-the-ID-type-dwellings-2.4\"><span class=\"toc-item-num\">2.4&nbsp;&nbsp;</span>Class for the ID type dwellings</a></span><ul class=\"toc-item\"><li><span><a href=\"#Class-for-the-DataFrame-with-U-prices\" data-toc-modified-id=\"Class-for-the-DataFrame-with-U-prices-2.4.1\"><span class=\"toc-item-num\">2.4.1&nbsp;&nbsp;</span>Class for the DataFrame with U prices</a></span></li></ul></li></ul></li><li><span><a href=\"#Creation-of-some-calculable-columns\" data-toc-modified-id=\"Creation-of-some-calculable-columns-3\"><span class=\"toc-item-num\">3&nbsp;&nbsp;</span>Creation of some calculable columns</a></span><ul class=\"toc-item\"><li><span><a href=\"#Class-for-all-types-of-dwellings\" data-toc-modified-id=\"Class-for-all-types-of-dwellings-3.1\"><span class=\"toc-item-num\">3.1&nbsp;&nbsp;</span>Class for all types of dwellings</a></span></li><li><span><a href=\"#Class-for-the-collective-dwellings\" data-toc-modified-id=\"Class-for-the-collective-dwellings-3.2\"><span class=\"toc-item-num\">3.2&nbsp;&nbsp;</span>Class for the collective dwellings</a></span><ul class=\"toc-item\"><li><span><a href=\"#Class-for-the-CID-type-with-U-Factors\" data-toc-modified-id=\"Class-for-the-CID-type-with-U-Factors-3.2.1\"><span class=\"toc-item-num\">3.2.1&nbsp;&nbsp;</span>Class for the CID type with U Factors</a></span></li><li><span><a href=\"#Class-for-the-CID-Type-with-U-Prices\" data-toc-modified-id=\"Class-for-the-CID-Type-with-U-Prices-3.2.2\"><span class=\"toc-item-num\">3.2.2&nbsp;&nbsp;</span>Class for the CID Type with U Prices</a></span></li><li><span><a href=\"#Class-for-the-CCD-type-with-U-Factors\" data-toc-modified-id=\"Class-for-the-CCD-type-with-U-Factors-3.2.3\"><span class=\"toc-item-num\">3.2.3&nbsp;&nbsp;</span>Class for the CCD type with U Factors</a></span></li><li><span><a href=\"#Class-for-the-CCD-Type-with-U-Prices\" data-toc-modified-id=\"Class-for-the-CCD-Type-with-U-Prices-3.2.4\"><span class=\"toc-item-num\">3.2.4&nbsp;&nbsp;</span>Class for the CCD Type with U Prices</a></span></li></ul></li><li><span><a href=\"#Class-for-the-individual-dwellings\" data-toc-modified-id=\"Class-for-the-individual-dwellings-3.3\"><span class=\"toc-item-num\">3.3&nbsp;&nbsp;</span>Class for the individual dwellings</a></span><ul class=\"toc-item\"><li><span><a href=\"#Class-for-the-ID-Type-with-U-Factors\" data-toc-modified-id=\"Class-for-the-ID-Type-with-U-Factors-3.3.1\"><span class=\"toc-item-num\">3.3.1&nbsp;&nbsp;</span>Class for the ID Type with U Factors</a></span></li><li><span><a href=\"#Class-for-the-DataFrame-with-U-Prices\" data-toc-modified-id=\"Class-for-the-DataFrame-with-U-Prices-3.3.2\"><span class=\"toc-item-num\">3.3.2&nbsp;&nbsp;</span>Class for the DataFrame with U Prices</a></span></li></ul></li></ul></li><li><span><a href=\"#Creation-of-some-calculable-DataFrames\" data-toc-modified-id=\"Creation-of-some-calculable-DataFrames-4\"><span class=\"toc-item-num\">4&nbsp;&nbsp;</span>Creation of some calculable DataFrames</a></span><ul class=\"toc-item\"><li><span><a href=\"#Class-for-the-CID-type-dwellings\" data-toc-modified-id=\"Class-for-the-CID-type-dwellings-4.1\"><span class=\"toc-item-num\">4.1&nbsp;&nbsp;</span>Class for the CID type dwellings</a></span><ul class=\"toc-item\"><li><span><a href=\"#Class-for-the-DataFrame-with-U-Factors\" data-toc-modified-id=\"Class-for-the-DataFrame-with-U-Factors-4.1.1\"><span class=\"toc-item-num\">4.1.1&nbsp;&nbsp;</span>Class for the DataFrame with U Factors</a></span></li><li><span><a href=\"#Class-for-the-DataFrame-with-U-Prices\" data-toc-modified-id=\"Class-for-the-DataFrame-with-U-Prices-4.1.2\"><span class=\"toc-item-num\">4.1.2&nbsp;&nbsp;</span>Class for the DataFrame with U Prices</a></span></li></ul></li><li><span><a href=\"#Class-for-the-CCD-type-dwellings\" data-toc-modified-id=\"Class-for-the-CCD-type-dwellings-4.2\"><span class=\"toc-item-num\">4.2&nbsp;&nbsp;</span>Class for the CCD type dwellings</a></span><ul class=\"toc-item\"><li><span><a href=\"#Class-for-the-DataFrame-with-U-Factors\" data-toc-modified-id=\"Class-for-the-DataFrame-with-U-Factors-4.2.1\"><span class=\"toc-item-num\">4.2.1&nbsp;&nbsp;</span>Class for the DataFrame with U Factors</a></span></li><li><span><a href=\"#Class-for-the-DataFrame-with-U-Prices\" data-toc-modified-id=\"Class-for-the-DataFrame-with-U-Prices-4.2.2\"><span class=\"toc-item-num\">4.2.2&nbsp;&nbsp;</span>Class for the DataFrame with U Prices</a></span></li></ul></li><li><span><a href=\"#Class-for-the-ID-type-dwellings\" data-toc-modified-id=\"Class-for-the-ID-type-dwellings-4.3\"><span class=\"toc-item-num\">4.3&nbsp;&nbsp;</span>Class for the ID type dwellings</a></span><ul class=\"toc-item\"><li><span><a href=\"#Class-for-the-DataFrame-with-U-Factors\" data-toc-modified-id=\"Class-for-the-DataFrame-with-U-Factors-4.3.1\"><span class=\"toc-item-num\">4.3.1&nbsp;&nbsp;</span>Class for the DataFrame with U Factors</a></span></li><li><span><a href=\"#Class-for-the-DataFrame-with-U-Prices\" data-toc-modified-id=\"Class-for-the-DataFrame-with-U-Prices-4.3.2\"><span class=\"toc-item-num\">4.3.2&nbsp;&nbsp;</span>Class for the DataFrame with U Prices</a></span></li></ul></li></ul></li><li><span><a href=\"#Class-for-the-GHC-Interface\" data-toc-modified-id=\"Class-for-the-GHC-Interface-5\"><span class=\"toc-item-num\">5&nbsp;&nbsp;</span>Class for the GHC Interface</a></span><ul class=\"toc-item\"><li><span><a href=\"#Class-for-the-terminal-calculator-of-GHC\" data-toc-modified-id=\"Class-for-the-terminal-calculator-of-GHC-5.1\"><span class=\"toc-item-num\">5.1&nbsp;&nbsp;</span>Class for the terminal calculator of GHC</a></span></li><li><span><a href=\"#Class-for-the-GHC-GHC-minimum-searcher\" data-toc-modified-id=\"Class-for-the-GHC-GHC-minimum-searcher-5.2\"><span class=\"toc-item-num\">5.2&nbsp;&nbsp;</span>Class for the GHC GHC minimum searcher</a></span></li><li><span><a href=\"#Class-for-the-evaluator-of-insulation\" data-toc-modified-id=\"Class-for-the-evaluator-of-insulation-5.3\"><span class=\"toc-item-num\">5.3&nbsp;&nbsp;</span>Class for the evaluator of insulation</a></span></li></ul></li><li><span><a href=\"#Bla-Bla-Bla\" data-toc-modified-id=\"Bla-Bla-Bla-6\"><span class=\"toc-item-num\">6&nbsp;&nbsp;</span>Bla Bla Bla</a></span></li><li><span><a href=\"#Bla-Bla-Bla\" data-toc-modified-id=\"Bla-Bla-Bla-7\"><span class=\"toc-item-num\">7&nbsp;&nbsp;</span>Bla Bla Bla</a></span></li><li><span><a href=\"#Bla-Bla-Bla\" data-toc-modified-id=\"Bla-Bla-Bla-8\"><span class=\"toc-item-num\">8&nbsp;&nbsp;</span>Bla Bla Bla</a></span></li></ul></div>"
   ]
  },
  {
   "cell_type": "markdown",
   "metadata": {},
   "source": [
    "# Importation of necessary libraries"
   ]
  },
  {
   "cell_type": "code",
   "execution_count": 1,
   "metadata": {
    "ExecuteTime": {
     "end_time": "2019-10-30T16:24:58.558281Z",
     "start_time": "2019-10-30T16:24:57.278180Z"
    }
   },
   "outputs": [],
   "source": [
    "import pandas as pd\n",
    "\n",
    "import itertools\n",
    "\n",
    "import numpy as np"
   ]
  },
  {
   "cell_type": "markdown",
   "metadata": {},
   "source": [
    "# Combination of all the necessary data"
   ]
  },
  {
   "cell_type": "markdown",
   "metadata": {},
   "source": [
    "## Class for all types of dwellings"
   ]
  },
  {
   "cell_type": "code",
   "execution_count": 2,
   "metadata": {
    "ExecuteTime": {
     "end_time": "2019-10-30T16:24:59.963173Z",
     "start_time": "2019-10-30T16:24:59.954784Z"
    }
   },
   "outputs": [],
   "source": [
    "class All_Types:\n",
    "    def __init__(self, *args):\n",
    "        self.df_1 = df_Climate_Zone = pd.read_csv(\n",
    "            '../Input_Data_CSV/Climate_Zone.csv',\n",
    "            sep=';',\n",
    "            index_col=None,\n",
    "            header=0)\n",
    "        self.df_2 = pd.read_csv(\n",
    "            '../Input_Data_CSV/Housing_Characteristics.csv',\n",
    "            sep=';',\n",
    "            index_col=None,\n",
    "            header=0)\n",
    "        self.df_3 = pd.read_csv('../Input_Data_CSV/Headcount.csv',\n",
    "                                sep=';',\n",
    "                                index_col=None,\n",
    "                                header=0)\n",
    "        self.df_4 = pd.read_csv('../Input_Data_CSV/Heating_System.csv',\n",
    "                                sep=';',\n",
    "                                index_col=None,\n",
    "                                header=0)\n",
    "        self.df_5 = pd.read_csv('../Input_Data_CSV/Economic_Hypothesis.csv',\n",
    "                                sep=';',\n",
    "                                index_col=None,\n",
    "                                header=0)\n",
    "        self.df_6 = pd.read_csv('../Input_Data_CSV/Wall_Investment.csv',\n",
    "                                sep=';',\n",
    "                                index_col=None,\n",
    "                                header=0)\n",
    "        self.df_7 = pd.read_csv('../Input_Data_CSV/Window_Investment.csv',\n",
    "                                sep=';',\n",
    "                                index_col=None,\n",
    "                                header=0)\n",
    "        self.df_8 = pd.read_csv('../Input_Data_CSV/Roof_Investment.csv',\n",
    "                                sep=';',\n",
    "                                index_col=None,\n",
    "                                header=0)\n",
    "        self.df_9 = pd.read_csv('../Input_Data_CSV/Floor_Investment.csv',\n",
    "                                sep=';',\n",
    "                                index_col=None,\n",
    "                                header=0)"
   ]
  },
  {
   "cell_type": "code",
   "execution_count": 3,
   "metadata": {
    "ExecuteTime": {
     "end_time": "2019-10-30T16:25:00.059481Z",
     "start_time": "2019-10-30T16:25:00.049665Z"
    }
   },
   "outputs": [
    {
     "data": {
      "text/plain": [
       "[__main__.All_Types, object]"
      ]
     },
     "execution_count": 3,
     "metadata": {},
     "output_type": "execute_result"
    }
   ],
   "source": [
    "All_Types.mro()"
   ]
  },
  {
   "cell_type": "markdown",
   "metadata": {},
   "source": [
    "## Class for the CID type dwellings"
   ]
  },
  {
   "cell_type": "code",
   "execution_count": 4,
   "metadata": {
    "ExecuteTime": {
     "end_time": "2019-10-30T16:25:01.214820Z",
     "start_time": "2019-10-30T16:25:01.198367Z"
    }
   },
   "outputs": [],
   "source": [
    "class CID_Type(All_Types):\n",
    "    def __init__(self, *args):\n",
    "        super().__init__(*args)\n",
    "\n",
    "    def Combine_Lists(self):\n",
    "        self.list_combined = []\n",
    "        list_dwelling_type = ['CID']\n",
    "        list_climate_type = self.df_1.iloc[:, 0].tolist()\n",
    "        list_construction_period = self.df_2.iloc[:21, 1].tolist()[::3]\n",
    "        list_size_factor = self.df_2.iloc[:3, 2].tolist()\n",
    "        list_heating_system = [\n",
    "            'ER', 'GB', 'CGB', 'OB', 'COB', 'EHP2', 'WB', 'WPB', 'EHP'\n",
    "        ]\n",
    "        list_initial_age = list(range(20))\n",
    "        self.list_combined.append(list_dwelling_type)\n",
    "        self.list_combined.append(list_climate_type)\n",
    "        self.list_combined.append(list_construction_period)\n",
    "        self.list_combined.append(list_size_factor)\n",
    "        self.list_combined.append(list_heating_system)\n",
    "        self.list_combined.append(list_initial_age)\n",
    "        return self.list_combined\n",
    "\n",
    "    def Generate_DF(self):\n",
    "        self.Combine_Lists()\n",
    "        itertools_product = list(itertools.product(*self.list_combined))\n",
    "        self.df = pd.DataFrame(itertools_product,\n",
    "                               columns=[\n",
    "                                   'Dwelling Type', 'Climate Type',\n",
    "                                   'Construction Period', 'Size Factor',\n",
    "                                   'Heating System', 'Initial Age'\n",
    "                               ])\n",
    "        return self.df\n",
    "\n",
    "    def Merge_DFs(self):\n",
    "        self.Generate_DF()\n",
    "        self.df = self.df.merge(self.df_1, how='left', on=['Climate Type'])\n",
    "        self.df = self.df.merge(self.df_2.iloc[:21, 1:9],\n",
    "                                how='left',\n",
    "                                on=['Construction Period', 'Size Factor'])\n",
    "        self.df = self.df.merge(self.df_4.iloc[:9, :],\n",
    "                                how='left',\n",
    "                                on=['Heating System'])\n",
    "        return self.df\n",
    "\n",
    "    def Add_Columns(self):\n",
    "        self.Merge_DFs()\n",
    "        self.df[self.df_5.columns[1]] = self.df_5.iloc[0, 1]\n",
    "        self.df[self.df_5.columns[2]] = self.df_5.iloc[0, 2]\n",
    "        self.df[self.df_5.columns[3]] = self.df_5.iloc[0, 3]\n",
    "        self.df[self.df_5.columns[4]] = self.df_5.iloc[0, 4]\n",
    "        return self.df\n",
    "\n",
    "    def Concat_DFs(self):\n",
    "        self.Add_Columns()\n",
    "        self.df = pd.concat([self.df, self.df_3.iloc[0:11340, 6]],\n",
    "                            axis=1,\n",
    "                            join='outer')\n",
    "        return self.df\n",
    "\n",
    "    def Reorder_Columns(self):\n",
    "        self.Concat_DFs()\n",
    "        cols = self.df.columns.tolist()\n",
    "        reordered_cols = cols[:2] + cols[6:7] + cols[2:4] + cols[7:13] + cols[\n",
    "            5:6] + cols[4:5] + cols[13:28] + cols[28:29]\n",
    "        self.df = self.df[reordered_cols]\n",
    "        return self.df"
   ]
  },
  {
   "cell_type": "code",
   "execution_count": 5,
   "metadata": {
    "ExecuteTime": {
     "end_time": "2019-10-30T16:25:01.296768Z",
     "start_time": "2019-10-30T16:25:01.291447Z"
    }
   },
   "outputs": [
    {
     "data": {
      "text/plain": [
       "[__main__.CID_Type, __main__.All_Types, object]"
      ]
     },
     "execution_count": 5,
     "metadata": {},
     "output_type": "execute_result"
    }
   ],
   "source": [
    "CID_Type.mro()"
   ]
  },
  {
   "cell_type": "markdown",
   "metadata": {},
   "source": [
    "### Class for the DataFrame with U factors"
   ]
  },
  {
   "cell_type": "code",
   "execution_count": 6,
   "metadata": {
    "ExecuteTime": {
     "end_time": "2019-10-30T16:25:02.718248Z",
     "start_time": "2019-10-30T16:25:02.700084Z"
    }
   },
   "outputs": [],
   "source": [
    "class CID_Factors(CID_Type):\n",
    "    def __init__(self, *args):\n",
    "        super().__init__(*args)\n",
    "\n",
    "    def Add_U_Factors(self):\n",
    "        self.Reorder_Columns()\n",
    "        self.df = self.df.merge(\n",
    "            self.df_2.loc[:20, ['Construction Period', 'Size Factor', 'Um0']],\n",
    "            how='left',\n",
    "            on=['Construction Period', 'Size Factor'])\n",
    "        for m in range(18):\n",
    "            self.df['Um' + str(m + 1)] = self.df_6.iloc[m, 2]\n",
    "        self.df = self.df.merge(\n",
    "            self.df_2.loc[:20, ['Construction Period', 'Size Factor', 'Uw0']],\n",
    "            how='left',\n",
    "            on=['Construction Period', 'Size Factor'])\n",
    "        for w in range(3):\n",
    "            self.df['Uw' + str(w + 1)] = self.df_7.iloc[w, 2]\n",
    "        self.df = self.df.merge(\n",
    "            self.df_2.loc[:20, ['Construction Period', 'Size Factor', 'Ur0']],\n",
    "            how='left',\n",
    "            on=['Construction Period', 'Size Factor'])\n",
    "        for r in range(3):\n",
    "            self.df['Ur' + str(r + 1)] = self.df_8.iloc[r, 2]\n",
    "        self.df = self.df.merge(\n",
    "            self.df_2.loc[:20, ['Construction Period', 'Size Factor', 'Uf0']],\n",
    "            how='left',\n",
    "            on=['Construction Period', 'Size Factor'])\n",
    "        for f in range(5):\n",
    "            self.df['Uf' + str(f + 1)] = self.df_9.iloc[f, 2]\n",
    "        return self.df\n",
    "\n",
    "    def DF_with_U(self):\n",
    "        self.Add_U_Factors()\n",
    "        return self.df"
   ]
  },
  {
   "cell_type": "code",
   "execution_count": 7,
   "metadata": {
    "ExecuteTime": {
     "end_time": "2019-10-30T16:25:02.841122Z",
     "start_time": "2019-10-30T16:25:02.815307Z"
    }
   },
   "outputs": [
    {
     "data": {
      "text/plain": [
       "[__main__.CID_Factors, __main__.CID_Type, __main__.All_Types, object]"
      ]
     },
     "execution_count": 7,
     "metadata": {},
     "output_type": "execute_result"
    }
   ],
   "source": [
    "CID_Factors.mro()"
   ]
  },
  {
   "cell_type": "markdown",
   "metadata": {},
   "source": [
    "### Class for the DataFrame with U prices"
   ]
  },
  {
   "cell_type": "code",
   "execution_count": 8,
   "metadata": {
    "ExecuteTime": {
     "end_time": "2019-10-30T16:25:04.262223Z",
     "start_time": "2019-10-30T16:25:04.255877Z"
    }
   },
   "outputs": [],
   "source": [
    "class CID_Prices(CID_Type):\n",
    "    def __init__(self, *args):\n",
    "        super().__init__(*args)\n",
    "\n",
    "    def Add_U_Prices(self):\n",
    "        self.Reorder_Columns()\n",
    "        self.df['Um0'] = 0\n",
    "        for m in range(18):\n",
    "            self.df['Um' + str(m + 1)] = self.df_6.iloc[m, 3]\n",
    "        self.df['Uw0'] = 0\n",
    "        for w in range(3):\n",
    "            self.df['Uw' + str(w + 1)] = self.df_7.iloc[w, 3]\n",
    "        self.df['Ur0'] = 0\n",
    "        for r in range(3):\n",
    "            self.df['Ur' + str(r + 1)] = self.df_8.iloc[r, 3]\n",
    "        self.df['Uf0'] = 0\n",
    "        for f in range(5):\n",
    "            self.df['Uf' + str(f + 1)] = self.df_9.iloc[f, 3]\n",
    "        return self.df\n",
    "\n",
    "    def DF_with_U(self):\n",
    "        self.Add_U_Prices()\n",
    "        return self.df"
   ]
  },
  {
   "cell_type": "code",
   "execution_count": 9,
   "metadata": {
    "ExecuteTime": {
     "end_time": "2019-10-30T16:25:04.340746Z",
     "start_time": "2019-10-30T16:25:04.336666Z"
    }
   },
   "outputs": [
    {
     "data": {
      "text/plain": [
       "[__main__.CID_Prices, __main__.CID_Type, __main__.All_Types, object]"
      ]
     },
     "execution_count": 9,
     "metadata": {},
     "output_type": "execute_result"
    }
   ],
   "source": [
    "CID_Prices.mro()"
   ]
  },
  {
   "cell_type": "markdown",
   "metadata": {},
   "source": [
    "## Class for the CCD type dwellings"
   ]
  },
  {
   "cell_type": "code",
   "execution_count": 10,
   "metadata": {
    "ExecuteTime": {
     "end_time": "2019-10-30T16:25:05.771472Z",
     "start_time": "2019-10-30T16:25:05.753960Z"
    }
   },
   "outputs": [],
   "source": [
    "class CCD_Type(All_Types):\n",
    "    def __init__(self, *args):\n",
    "        super().__init__(*args)\n",
    "\n",
    "    def Combine_Lists(self):\n",
    "        self.list_combined = []\n",
    "        list_dwelling_type = ['CCD']\n",
    "        list_climate_type = self.df_1.iloc[:, 0].tolist()\n",
    "        list_construction_period = self.df_2.iloc[:21, 1].tolist()[::3]\n",
    "        list_size_factor = self.df_2.iloc[:3, 2].tolist()\n",
    "        list_heating_system = [\n",
    "            'GB', 'CGB', 'OB', 'COB', 'EHP2', 'WB', 'WPB', 'EHP'\n",
    "        ]\n",
    "        list_initial_age = list(range(20))\n",
    "        self.list_combined.append(list_dwelling_type)\n",
    "        self.list_combined.append(list_climate_type)\n",
    "        self.list_combined.append(list_construction_period)\n",
    "        self.list_combined.append(list_size_factor)\n",
    "        self.list_combined.append(list_heating_system)\n",
    "        self.list_combined.append(list_initial_age)\n",
    "        return self.list_combined\n",
    "\n",
    "    def Generate_DF(self):\n",
    "        self.Combine_Lists()\n",
    "        itertools_product = list(itertools.product(*self.list_combined))\n",
    "        self.df = pd.DataFrame(itertools_product,\n",
    "                               columns=[\n",
    "                                   'Dwelling Type', 'Climate Type',\n",
    "                                   'Construction Period', 'Size Factor',\n",
    "                                   'Heating System', 'Initial Age'\n",
    "                               ])\n",
    "        return self.df\n",
    "\n",
    "    def Merge_DFs(self):\n",
    "        self.Generate_DF()\n",
    "        self.df = self.df.merge(self.df_1, how='left', on=['Climate Type'])\n",
    "        self.df = self.df.merge(self.df_2.iloc[:21, 1:9],\n",
    "                                how='left',\n",
    "                                on=['Construction Period', 'Size Factor'])\n",
    "        self.df = self.df.merge(self.df_4.iloc[9:17, :],\n",
    "                                how='left',\n",
    "                                on=['Heating System'])\n",
    "        return self.df\n",
    "\n",
    "    def Add_Columns(self):\n",
    "        self.Merge_DFs()\n",
    "        self.df[self.df_5.columns[1]] = self.df_5.iloc[1, 1]\n",
    "        self.df[self.df_5.columns[2]] = self.df_5.iloc[1, 2]\n",
    "        self.df[self.df_5.columns[3]] = self.df_5.iloc[1, 3]\n",
    "        self.df[self.df_5.columns[4]] = self.df_5.iloc[1, 4]\n",
    "        return self.df\n",
    "\n",
    "    def Concat_DFs(self):\n",
    "        self.Add_Columns()\n",
    "        self.df = pd.concat(\n",
    "            [self.df, self.df_3.iloc[11340:21420, 6].reset_index(drop=True)],\n",
    "            axis=1,\n",
    "            join='outer')\n",
    "        return self.df\n",
    "\n",
    "    def Reorder_Columns(self):\n",
    "        self.Concat_DFs()\n",
    "        cols = self.df.columns.tolist()\n",
    "        reordered_cols = cols[:2] + cols[6:7] + cols[2:4] + cols[7:13] + cols[\n",
    "            5:6] + cols[4:5] + cols[13:28] + cols[28:29]\n",
    "        self.df = self.df[reordered_cols]\n",
    "        return self.df"
   ]
  },
  {
   "cell_type": "code",
   "execution_count": 11,
   "metadata": {
    "ExecuteTime": {
     "end_time": "2019-10-30T16:25:05.904561Z",
     "start_time": "2019-10-30T16:25:05.894102Z"
    }
   },
   "outputs": [
    {
     "data": {
      "text/plain": [
       "[__main__.CCD_Type, __main__.All_Types, object]"
      ]
     },
     "execution_count": 11,
     "metadata": {},
     "output_type": "execute_result"
    }
   ],
   "source": [
    "CCD_Type.mro()"
   ]
  },
  {
   "cell_type": "markdown",
   "metadata": {},
   "source": [
    "### Class for the DataFrame with U factors"
   ]
  },
  {
   "cell_type": "code",
   "execution_count": 12,
   "metadata": {
    "ExecuteTime": {
     "end_time": "2019-10-30T16:25:07.271102Z",
     "start_time": "2019-10-30T16:25:07.261848Z"
    }
   },
   "outputs": [],
   "source": [
    "class CCD_Factors(CCD_Type):\n",
    "    def __init__(self, *args):\n",
    "        super().__init__(*args)\n",
    "\n",
    "    def Add_U_Factors(self):\n",
    "        self.Reorder_Columns()\n",
    "        self.df = self.df.merge(\n",
    "            self.df_2.loc[:20, ['Construction Period', 'Size Factor', 'Um0']],\n",
    "            how='left',\n",
    "            on=['Construction Period', 'Size Factor'])\n",
    "        for m in range(18):\n",
    "            self.df['Um' + str(m + 1)] = self.df_6.iloc[m, 2]\n",
    "        self.df = self.df.merge(\n",
    "            self.df_2.loc[:20, ['Construction Period', 'Size Factor', 'Uw0']],\n",
    "            how='left',\n",
    "            on=['Construction Period', 'Size Factor'])\n",
    "        for w in range(3):\n",
    "            self.df['Uw' + str(w + 1)] = self.df_7.iloc[w, 2]\n",
    "        self.df = self.df.merge(\n",
    "            self.df_2.loc[:20, ['Construction Period', 'Size Factor', 'Ur0']],\n",
    "            how='left',\n",
    "            on=['Construction Period', 'Size Factor'])\n",
    "        for r in range(3):\n",
    "            self.df['Ur' + str(r + 1)] = self.df_8.iloc[r, 2]\n",
    "        self.df = self.df.merge(\n",
    "            self.df_2.loc[:20, ['Construction Period', 'Size Factor', 'Uf0']],\n",
    "            how='left',\n",
    "            on=['Construction Period', 'Size Factor'])\n",
    "        for f in range(5):\n",
    "            self.df['Uf' + str(f + 1)] = self.df_9.iloc[f, 2]\n",
    "        return self.df\n",
    "\n",
    "    def DF_with_U(self):\n",
    "        self.Add_U_Factors()\n",
    "        return self.df"
   ]
  },
  {
   "cell_type": "code",
   "execution_count": 13,
   "metadata": {
    "ExecuteTime": {
     "end_time": "2019-10-30T16:25:07.384669Z",
     "start_time": "2019-10-30T16:25:07.379898Z"
    }
   },
   "outputs": [
    {
     "data": {
      "text/plain": [
       "[__main__.CCD_Factors, __main__.CCD_Type, __main__.All_Types, object]"
      ]
     },
     "execution_count": 13,
     "metadata": {},
     "output_type": "execute_result"
    }
   ],
   "source": [
    "CCD_Factors.mro()"
   ]
  },
  {
   "cell_type": "markdown",
   "metadata": {},
   "source": [
    "### Class for the DataFrame with U prices"
   ]
  },
  {
   "cell_type": "code",
   "execution_count": 14,
   "metadata": {
    "ExecuteTime": {
     "end_time": "2019-10-30T16:25:08.627550Z",
     "start_time": "2019-10-30T16:25:08.618224Z"
    }
   },
   "outputs": [],
   "source": [
    "class CCD_Prices(CCD_Type):\n",
    "    def __init__(self, *args):\n",
    "        super().__init__(*args)\n",
    "\n",
    "    def Add_U_Prices(self):\n",
    "        self.Reorder_Columns()\n",
    "        self.df['Um0'] = 0\n",
    "        for m in range(18):\n",
    "            self.df['Um' + str(m + 1)] = self.df_6.iloc[m, 3]\n",
    "        self.df['Uw0'] = 0\n",
    "        for w in range(3):\n",
    "            self.df['Uw' + str(w + 1)] = self.df_7.iloc[w, 3]\n",
    "        self.df['Ur0'] = 0\n",
    "        for r in range(3):\n",
    "            self.df['Ur' + str(r + 1)] = self.df_8.iloc[r, 3]\n",
    "        self.df['Uf0'] = 0\n",
    "        for f in range(5):\n",
    "            self.df['Uf' + str(f + 1)] = self.df_9.iloc[f, 3]\n",
    "        return self.df\n",
    "\n",
    "    def DF_with_U(self):\n",
    "        self.Add_U_Prices()\n",
    "        return self.df"
   ]
  },
  {
   "cell_type": "code",
   "execution_count": 15,
   "metadata": {
    "ExecuteTime": {
     "end_time": "2019-10-30T16:25:08.710225Z",
     "start_time": "2019-10-30T16:25:08.702848Z"
    }
   },
   "outputs": [
    {
     "data": {
      "text/plain": [
       "[__main__.CCD_Prices, __main__.CCD_Type, __main__.All_Types, object]"
      ]
     },
     "execution_count": 15,
     "metadata": {},
     "output_type": "execute_result"
    }
   ],
   "source": [
    "CCD_Prices.mro()"
   ]
  },
  {
   "cell_type": "markdown",
   "metadata": {},
   "source": [
    "## Class for the ID type dwellings"
   ]
  },
  {
   "cell_type": "code",
   "execution_count": 16,
   "metadata": {
    "ExecuteTime": {
     "end_time": "2019-10-30T16:25:09.824734Z",
     "start_time": "2019-10-30T16:25:09.811334Z"
    }
   },
   "outputs": [],
   "source": [
    "class ID_Type(All_Types):\n",
    "    def __init__(self, *args):\n",
    "        super().__init__(*args)\n",
    "\n",
    "    def Combine_Lists(self):\n",
    "        self.list_combined = []\n",
    "        list_dwelling_type = ['ID']\n",
    "        list_climate_type = self.df_1.iloc[:, 0].tolist()\n",
    "        list_construction_period = self.df_2.iloc[21:, 1].tolist()[::3]\n",
    "        list_size_factor = self.df_2.iloc[:3, 2].tolist()\n",
    "        list_heating_system = [\n",
    "            'ER', 'GB', 'CGB', 'OB', 'COB', 'EHP2', 'WB', 'WPB', 'EHP'\n",
    "        ]\n",
    "        list_initial_age = list(range(20))\n",
    "        self.list_combined.append(list_dwelling_type)\n",
    "        self.list_combined.append(list_climate_type)\n",
    "        self.list_combined.append(list_construction_period)\n",
    "        self.list_combined.append(list_size_factor)\n",
    "        self.list_combined.append(list_heating_system)\n",
    "        self.list_combined.append(list_initial_age)\n",
    "        return self.list_combined\n",
    "\n",
    "    def Generate_DF(self):\n",
    "        self.Combine_Lists()\n",
    "        itertools_product = list(itertools.product(*self.list_combined))\n",
    "        self.df = pd.DataFrame(itertools_product,\n",
    "                               columns=[\n",
    "                                   'Dwelling Type', 'Climate Type',\n",
    "                                   'Construction Period', 'Size Factor',\n",
    "                                   'Heating System', 'Initial Age'\n",
    "                               ])\n",
    "        return self.df\n",
    "\n",
    "    def Merge_DFs(self):\n",
    "        self.Generate_DF()\n",
    "        self.df = self.df.merge(self.df_1, how='left', on=['Climate Type'])\n",
    "        self.df = self.df.merge(self.df_2.iloc[21:, 1:9],\n",
    "                                how='left',\n",
    "                                on=['Construction Period', 'Size Factor'])\n",
    "        self.df = self.df.merge(self.df_4.iloc[17:, :],\n",
    "                                how='left',\n",
    "                                on=['Heating System'])\n",
    "        return self.df\n",
    "\n",
    "    def Add_Columns(self):\n",
    "        self.Merge_DFs()\n",
    "        self.df[self.df_5.columns[1]] = self.df_5.iloc[2, 1]\n",
    "        self.df[self.df_5.columns[2]] = self.df_5.iloc[2, 2]\n",
    "        self.df[self.df_5.columns[3]] = self.df_5.iloc[2, 3]\n",
    "        self.df[self.df_5.columns[4]] = self.df_5.iloc[2, 4]\n",
    "        return self.df\n",
    "\n",
    "    def Concat_DFs(self):\n",
    "        self.Add_Columns()\n",
    "        self.df = pd.concat(\n",
    "            [self.df, self.df_3.iloc[21420:, 6].reset_index(drop=True)],\n",
    "            axis=1,\n",
    "            join='outer')\n",
    "        return self.df\n",
    "\n",
    "    def Reorder_Columns(self):\n",
    "        self.Concat_DFs()\n",
    "        cols = self.df.columns.tolist()\n",
    "        reordered_cols = cols[:2] + cols[6:7] + cols[2:4] + cols[7:13] + cols[\n",
    "            5:6] + cols[4:5] + cols[13:28] + cols[28:29]\n",
    "        self.df = self.df[reordered_cols]\n",
    "        return self.df"
   ]
  },
  {
   "cell_type": "code",
   "execution_count": 17,
   "metadata": {
    "ExecuteTime": {
     "end_time": "2019-10-30T16:25:09.906248Z",
     "start_time": "2019-10-30T16:25:09.901676Z"
    }
   },
   "outputs": [
    {
     "data": {
      "text/plain": [
       "[__main__.ID_Type, __main__.All_Types, object]"
      ]
     },
     "execution_count": 17,
     "metadata": {},
     "output_type": "execute_result"
    }
   ],
   "source": [
    "ID_Type.mro()"
   ]
  },
  {
   "cell_type": "code",
   "execution_count": 18,
   "metadata": {
    "ExecuteTime": {
     "end_time": "2019-10-30T16:25:10.000140Z",
     "start_time": "2019-10-30T16:25:09.991312Z"
    }
   },
   "outputs": [],
   "source": [
    "class ID_Factors(ID_Type):\n",
    "    def __init__(self, *args):\n",
    "        super().__init__(*args)\n",
    "\n",
    "    def Add_U_Factors(self):\n",
    "        self.Reorder_Columns()\n",
    "        self.df = self.df.merge(\n",
    "            self.df_2.loc[21:, ['Construction Period', 'Size Factor', 'Um0']],\n",
    "            how='left',\n",
    "            on=['Construction Period', 'Size Factor'])\n",
    "        for m in range(19):\n",
    "            self.df['Um' + str(m + 1)] = self.df_6.iloc[m + 18, 2]\n",
    "        self.df = self.df.merge(\n",
    "            self.df_2.loc[21:, ['Construction Period', 'Size Factor', 'Uw0']],\n",
    "            how='left',\n",
    "            on=['Construction Period', 'Size Factor'])\n",
    "        for w in range(3):\n",
    "            self.df['Uw' + str(w + 1)] = self.df_7.iloc[w + 3, 2]\n",
    "        self.df = self.df.merge(\n",
    "            self.df_2.loc[21:, ['Construction Period', 'Size Factor', 'Ur0']],\n",
    "            how='left',\n",
    "            on=['Construction Period', 'Size Factor'])\n",
    "        for r in range(7):\n",
    "            self.df['Ur' + str(r + 1)] = self.df_8.iloc[r + 3, 2]\n",
    "        self.df = self.df.merge(\n",
    "            self.df_2.loc[21:, ['Construction Period', 'Size Factor', 'Uf0']],\n",
    "            how='left',\n",
    "            on=['Construction Period', 'Size Factor'])\n",
    "        for f in range(3):\n",
    "            self.df['Uf' + str(f + 1)] = self.df_9.iloc[f + 5, 2]\n",
    "        return self.df\n",
    "\n",
    "    def DF_with_U(self):\n",
    "        self.Add_U_Factors()\n",
    "        return self.df"
   ]
  },
  {
   "cell_type": "code",
   "execution_count": 19,
   "metadata": {
    "ExecuteTime": {
     "end_time": "2019-10-30T16:25:10.077251Z",
     "start_time": "2019-10-30T16:25:10.073129Z"
    }
   },
   "outputs": [
    {
     "data": {
      "text/plain": [
       "[__main__.ID_Factors, __main__.ID_Type, __main__.All_Types, object]"
      ]
     },
     "execution_count": 19,
     "metadata": {},
     "output_type": "execute_result"
    }
   ],
   "source": [
    "ID_Factors.mro()"
   ]
  },
  {
   "cell_type": "markdown",
   "metadata": {},
   "source": [
    "### Class for the DataFrame with U prices"
   ]
  },
  {
   "cell_type": "code",
   "execution_count": 20,
   "metadata": {
    "ExecuteTime": {
     "end_time": "2019-10-30T16:25:11.204485Z",
     "start_time": "2019-10-30T16:25:11.197576Z"
    }
   },
   "outputs": [],
   "source": [
    "class ID_Prices(ID_Type):\n",
    "    def __init__(self, *args):\n",
    "        super().__init__(*args)\n",
    "\n",
    "    def Add_U_Prices(self):\n",
    "        self.Reorder_Columns()\n",
    "        self.df['Um0'] = 0\n",
    "        for m in range(19):\n",
    "            self.df['Um' + str(m + 1)] = self.df_6.iloc[m + 18, 3]\n",
    "        self.df['Uw0'] = 0\n",
    "        for w in range(3):\n",
    "            self.df['Uw' + str(w + 1)] = self.df_7.iloc[w + 3, 3]\n",
    "        self.df['Ur0'] = 0\n",
    "        for r in range(7):\n",
    "            self.df['Ur' + str(r + 1)] = self.df_8.iloc[r + 3, 3]\n",
    "        self.df['Uf0'] = 0\n",
    "        for f in range(3):\n",
    "            self.df['Uf' + str(f + 1)] = self.df_9.iloc[f + 5, 3]\n",
    "        return self.df\n",
    "\n",
    "    def DF_with_U(self):\n",
    "        self.Add_U_Prices()\n",
    "        return self.df"
   ]
  },
  {
   "cell_type": "code",
   "execution_count": 21,
   "metadata": {
    "ExecuteTime": {
     "end_time": "2019-10-30T16:25:11.302318Z",
     "start_time": "2019-10-30T16:25:11.290307Z"
    }
   },
   "outputs": [
    {
     "data": {
      "text/plain": [
       "[__main__.ID_Prices, __main__.ID_Type, __main__.All_Types, object]"
      ]
     },
     "execution_count": 21,
     "metadata": {},
     "output_type": "execute_result"
    }
   ],
   "source": [
    "ID_Prices.mro()"
   ]
  },
  {
   "cell_type": "code",
   "execution_count": null,
   "metadata": {},
   "outputs": [],
   "source": []
  },
  {
   "cell_type": "code",
   "execution_count": null,
   "metadata": {},
   "outputs": [],
   "source": []
  },
  {
   "cell_type": "markdown",
   "metadata": {},
   "source": [
    "# Creation of some calculable columns"
   ]
  },
  {
   "cell_type": "markdown",
   "metadata": {},
   "source": [
    "## Class for all types of dwellings"
   ]
  },
  {
   "cell_type": "code",
   "execution_count": 22,
   "metadata": {
    "ExecuteTime": {
     "end_time": "2019-10-30T16:25:13.985051Z",
     "start_time": "2019-10-30T16:25:13.943231Z"
    }
   },
   "outputs": [],
   "source": [
    "class Calculable_Columns:\n",
    "    def Rename_Columns(self):\n",
    "        self.df.columns = self.df.columns.str.replace(' ', '_')\n",
    "        return self.df\n",
    "\n",
    "    def Carbon_Tax(self):\n",
    "        self.Rename_Columns()\n",
    "        self.df['Carbon_Tax'] = np.multiply(self.df.Emission_Factor,\n",
    "                                            self.df.Carbon_Price)\n",
    "        return self.df\n",
    "\n",
    "    def Energy_Bill(self):\n",
    "        self.Carbon_Tax()\n",
    "        self.df['Energy_Bill'] = 0\n",
    "        for i in range(1, 41):\n",
    "            self.df['Energy_Bill'] = np.add(\n",
    "                np.divide(\n",
    "                    np.add(\n",
    "                        np.multiply(\n",
    "                            self.df.Energy_Price,\n",
    "                            np.power(np.add(1, self.df.Annual_Variation),\n",
    "                                     np.add(i, np.subtract(self.year, 2)))),\n",
    "                        self.df.Carbon_Tax),\n",
    "                    np.power(np.add(1, self.df.Discount_Rate), i)),\n",
    "                self.df.Energy_Bill)\n",
    "        return self.df\n",
    "\n",
    "    def Inflation_Rate_1st(self):\n",
    "        self.Rename_Columns()\n",
    "        self.df['Inflation_Rate_1st'] = np.power(\n",
    "            np.add(1, self.df.Inflation_Rate),\n",
    "            np.subtract(np.add(18, self.year), self.df.Initial_Age))\n",
    "        return self.df\n",
    "\n",
    "    def Inflation_Rate_2nd(self):\n",
    "        self.Rename_Columns()\n",
    "        self.df['Inflation_Rate_2nd'] = np.power(\n",
    "            np.add(1, self.df.Inflation_Rate),\n",
    "            np.subtract(np.add(38, self.year), self.df.Initial_Age))\n",
    "        return self.df\n",
    "\n",
    "    def Discount_1st(self):\n",
    "        self.Rename_Columns()\n",
    "        self.df['Discount_1st'] = np.power(\n",
    "            np.add(1, self.df.Discount_Rate),\n",
    "            np.subtract(19, self.df.Initial_Age))\n",
    "        return self.df\n",
    "\n",
    "    def Discount_2nd(self):\n",
    "        self.Rename_Columns()\n",
    "        self.df['Discount_2nd'] = np.power(\n",
    "            np.add(1, self.df.Discount_Rate),\n",
    "            np.subtract(39, self.df.Initial_Age))\n",
    "        return self.df\n",
    "\n",
    "    def Time_Factor_1(self):\n",
    "        self.Inflation_Rate_1st()\n",
    "        self.Inflation_Rate_2nd()\n",
    "        self.Discount_1st()\n",
    "        self.Discount_2nd()\n",
    "        self.df['Time_Factor_1'] = np.divide(\n",
    "            np.add(\n",
    "                np.multiply(self.df.Inflation_Rate_1st, self.df.Discount_2nd),\n",
    "                np.multiply(self.df.Inflation_Rate_2nd, self.df.Discount_1st)),\n",
    "            np.multiply(self.df.Discount_1st, self.df.Discount_2nd))\n",
    "        return self.df\n",
    "\n",
    "    def UEN_Cost_1(self):\n",
    "        self.Energy_Bill()\n",
    "        self.Time_Factor_1()\n",
    "        self.df['UEN_Cost_1'] = np.add(\n",
    "            np.multiply(self.df.B_Investment, self.df.Time_Factor_1),\n",
    "            np.divide(self.df.Energy_Bill, self.df.Efficiency))\n",
    "        return self.df\n",
    "\n",
    "    def Discount_20(self):\n",
    "        self.Rename_Columns()\n",
    "        self.df['Discount_20'] = np.power(np.add(1, self.df.Discount_Rate), 20)\n",
    "        return self.df\n",
    "\n",
    "    def Inflation_Rate_0(self):\n",
    "        self.Rename_Columns()\n",
    "        self.df['Inflation_Rate_0'] = np.power(\n",
    "            np.add(1, self.df.Inflation_Rate), np.subtract(self.year, 1))\n",
    "        return self.df\n",
    "\n",
    "    def Inflation_Rate_20(self):\n",
    "        self.Rename_Columns()\n",
    "        self.df['Inflation_Rate_20'] = np.power(\n",
    "            np.add(1, self.df.Inflation_Rate), np.add(19, self.year))\n",
    "        return self.df\n",
    "\n",
    "    def Time_Factor_2(self):\n",
    "        self.Inflation_Rate_0()\n",
    "        self.Inflation_Rate_20()\n",
    "        self.Discount_20()\n",
    "        self.df['Time_Factor_2'] = np.divide(\n",
    "            np.add(np.multiply(self.df.Discount_20, self.df.Inflation_Rate_0),\n",
    "                   self.df.Inflation_Rate_20), self.df.Discount_20)\n",
    "        return self.df\n",
    "\n",
    "    def UEN_Cost_2(self):\n",
    "        self.Energy_Bill()\n",
    "        self.Time_Factor_2()\n",
    "        self.df['UEN_Cost_2'] = np.add(\n",
    "            np.multiply(self.df.B_Investment, self.df.Time_Factor_2),\n",
    "            np.divide(self.df.Energy_Bill, self.df.Efficiency))\n",
    "        return self.df\n",
    "\n",
    "    def No_Gas_Prices(self):\n",
    "        self.Carbon_Tax()\n",
    "        self.df['No_Gas_Prices'] = 0\n",
    "        for i in range(1, 41):\n",
    "            self.df['No_Gas_Prices'] = np.add(\n",
    "                np.divide(\n",
    "                    np.add(\n",
    "                        np.multiply(\n",
    "                            self.df.Specific_Gas_Price,\n",
    "                            np.power(np.add(1, self.df.Annual_Variation),\n",
    "                                     np.add(i, np.subtract(self.year, 2)))),\n",
    "                        self.df.Carbon_Tax),\n",
    "                    np.power(np.add(1, self.df.Discount_Rate), i),\n",
    "                ), self.df.No_Gas_Prices)\n",
    "        return self.df\n",
    "\n",
    "    def UEN_Cost_3(self):\n",
    "        self.No_Gas_Prices()\n",
    "        self.Time_Factor_2()\n",
    "        self.df['UEN_Cost_3'] = np.add(\n",
    "            np.multiply(self.df.B_Investment, self.df.Time_Factor_2),\n",
    "            np.divide(self.df.No_Gas_Prices, self.df.Efficiency))\n",
    "        return self.df\n",
    "\n",
    "    def Maintenance(self):\n",
    "        self.Rename_Columns()\n",
    "        self.df['Maintenance'] = 0\n",
    "        for i in range(40):\n",
    "            self.df['Maintenance'] = np.add(\n",
    "                np.divide(\n",
    "                    np.multiply(\n",
    "                        self.df.Maintenance_Cost,\n",
    "                        np.power(np.add(1, self.df.Inflation_Rate),\n",
    "                                 np.add(i, np.subtract(self.year, 1)))),\n",
    "                    np.power(np.add(1, self.df.Discount_Rate), i)),\n",
    "                self.df.Maintenance)\n",
    "        return self.df\n",
    "\n",
    "    def Fixed_Cost_1(self):\n",
    "        self.Maintenance()\n",
    "        self.Time_Factor_1()\n",
    "        self.df['Fixed_Cost_1'] = np.add(\n",
    "            np.multiply(self.df.A_Investment, self.df.Time_Factor_1),\n",
    "            self.df.Maintenance)\n",
    "        return self.df\n",
    "\n",
    "    def Fixed_Cost_2(self):\n",
    "        self.Maintenance()\n",
    "        self.Time_Factor_2()\n",
    "        self.df['Fixed_Cost_2'] = np.add(\n",
    "            np.multiply(self.df.A_Investment, self.df.Time_Factor_2),\n",
    "            np.add(self.df.Maintenance, self.df.Same_Switch_Cost))\n",
    "        return self.df\n",
    "\n",
    "    def Fixed_Cost_4(self):\n",
    "        self.Maintenance()\n",
    "        self.Time_Factor_2()\n",
    "        self.df['Fixed_Cost_4'] = np.add(\n",
    "            np.multiply(self.df.A_Investment, self.df.Time_Factor_2),\n",
    "            np.add(self.df.Maintenance, self.df.Different_Switch_Cost))\n",
    "        return self.df\n",
    "\n",
    "    def Control_Cost(self):\n",
    "        self.Rename_Columns()\n",
    "        self.df['Control_Cost'] = np.multiply(self.df.Delevery_Type_Cost,\n",
    "                                              self.df.Surface)\n",
    "        return self.df\n",
    "\n",
    "    def Fixed_Cost_3(self):\n",
    "        self.Fixed_Cost_2()\n",
    "        self.Control_Cost()\n",
    "        self.df['Fixed_Cost_3'] = np.add(self.df.Fixed_Cost_2,\n",
    "                                         self.df.Control_Cost)\n",
    "        return self.df\n",
    "\n",
    "    def Fixed_Cost_5(self):\n",
    "        self.Fixed_Cost_4()\n",
    "        self.Control_Cost()\n",
    "        self.df['Fixed_Cost_5'] = np.add(self.df.Fixed_Cost_4,\n",
    "                                         self.df.Control_Cost)\n",
    "        return self.df"
   ]
  },
  {
   "cell_type": "code",
   "execution_count": 23,
   "metadata": {
    "ExecuteTime": {
     "end_time": "2019-10-30T16:25:14.124074Z",
     "start_time": "2019-10-30T16:25:14.117641Z"
    }
   },
   "outputs": [
    {
     "data": {
      "text/plain": [
       "[__main__.Calculable_Columns, object]"
      ]
     },
     "execution_count": 23,
     "metadata": {},
     "output_type": "execute_result"
    }
   ],
   "source": [
    "Calculable_Columns.mro()"
   ]
  },
  {
   "cell_type": "markdown",
   "metadata": {},
   "source": [
    "## Class for the collective dwellings"
   ]
  },
  {
   "cell_type": "code",
   "execution_count": 24,
   "metadata": {
    "ExecuteTime": {
     "end_time": "2019-10-30T16:25:15.517814Z",
     "start_time": "2019-10-30T16:25:15.511739Z"
    }
   },
   "outputs": [],
   "source": [
    "class Calculable_Columns_for_CxD(Calculable_Columns):\n",
    "    def Surface_M(self):\n",
    "        self.Rename_Columns()\n",
    "        self.df['Surface_M'] = np.multiply(\n",
    "            np.multiply(\n",
    "                np.multiply(\n",
    "                    np.subtract(1, self.df.Share_of_Windows),\n",
    "                    np.sqrt(\n",
    "                        np.multiply(self.df.Surface,\n",
    "                                    self.df.Dwelling_per_Floor))), 4),\n",
    "            np.multiply(self.df.Ceiling_Height, np.add(self.df.Floors, 1)))\n",
    "        return self.df\n",
    "\n",
    "    def Surface_W(self):\n",
    "        self.Rename_Columns()\n",
    "        self.df['Surface_W'] = np.multiply(\n",
    "            np.multiply(\n",
    "                np.multiply(\n",
    "                    self.df.Share_of_Windows,\n",
    "                    np.sqrt(\n",
    "                        np.multiply(self.df.Surface,\n",
    "                                    self.df.Dwelling_per_Floor))), 4),\n",
    "            np.multiply(self.df.Ceiling_Height, np.add(self.df.Floors, 1)))\n",
    "        return self.df"
   ]
  },
  {
   "cell_type": "code",
   "execution_count": 25,
   "metadata": {
    "ExecuteTime": {
     "end_time": "2019-10-30T16:25:15.596871Z",
     "start_time": "2019-10-30T16:25:15.591630Z"
    }
   },
   "outputs": [
    {
     "data": {
      "text/plain": [
       "[__main__.Calculable_Columns_for_CxD, __main__.Calculable_Columns, object]"
      ]
     },
     "execution_count": 25,
     "metadata": {},
     "output_type": "execute_result"
    }
   ],
   "source": [
    "Calculable_Columns_for_CxD.mro()"
   ]
  },
  {
   "cell_type": "markdown",
   "metadata": {},
   "source": [
    "### Class for the CID type with U Factors"
   ]
  },
  {
   "cell_type": "code",
   "execution_count": 26,
   "metadata": {
    "ExecuteTime": {
     "end_time": "2019-10-30T16:25:16.833961Z",
     "start_time": "2019-10-30T16:25:16.816106Z"
    }
   },
   "outputs": [],
   "source": [
    "class Columns_for_CID_U_Factors(CID_Factors, Calculable_Columns_for_CxD):\n",
    "    def __init__(self, year, *args):\n",
    "        super().__init__(*args)\n",
    "        self.year = year\n",
    "        self.DF_with_U()\n",
    "\n",
    "    def Surface_R(self):\n",
    "        self.Rename_Columns()\n",
    "        self.df['Surface_R'] = np.multiply(self.df.Surface,\n",
    "                                           self.df.Dwelling_per_Floor)\n",
    "        return self.df\n",
    "\n",
    "    def Heightened_Surface_Habitable(self):\n",
    "        self.Surface_R()\n",
    "        self.df['Heightened_Surface_Habitable'] = np.multiply(\n",
    "            np.multiply(self.df.Surface_R, np.add(self.df.Floors, 1)),\n",
    "            self.df.Ceiling_Height)\n",
    "        return self.df\n",
    "\n",
    "    def UEN_per_Dwelling_2(self):\n",
    "        self.Rename_Columns()\n",
    "        self.df['UEN_per_Dwelling_2'] = np.multiply(\n",
    "            np.multiply(\n",
    "                np.multiply(self.df.Ceiling_Height, self.df.Intermittence),\n",
    "                np.multiply(self.df.Degrees_of_Reference, self.df.Surface)),\n",
    "            0.01)\n",
    "        return self.df\n",
    "\n",
    "    def Weighted_Surface(self):\n",
    "        self.Surface_M()\n",
    "        self.Surface_W()\n",
    "        self.Surface_R()\n",
    "        self.df.loc[:, 'Um0':'Um18'] = self.df.loc[:, 'Um0':'Um18'].apply(\n",
    "            lambda x: np.multiply(x, self.df.Surface_M))\n",
    "        self.df.loc[:, 'Uw0':'Uw3'] = self.df.loc[:, 'Uw0':'Uw3'].apply(\n",
    "            lambda x: np.multiply(x, self.df.Surface_W))\n",
    "        self.df.loc[:, 'Ur0':'Ur3'] = self.df.loc[:, 'Ur0':'Ur3'].apply(\n",
    "            lambda x: np.multiply(x, self.df.Surface_R))\n",
    "        self.df.loc[:, 'Uf0':'Uf5'] = self.df.loc[:, 'Uf0':'Uf5'].apply(\n",
    "            lambda x: np.multiply(x, self.df.Surface_R))\n",
    "        return self.df\n",
    "\n",
    "    def Duo_Weighted_Surface(self):\n",
    "        self.Weighted_Surface()\n",
    "        columns_list = []\n",
    "        columns_list_1 = []\n",
    "        columns_list_2 = []\n",
    "        for m in range(19):\n",
    "            for w in range(4):\n",
    "                column_name = 'U_m' + str(m) + '_w' + str(w)\n",
    "                columns_list_1.append(column_name)\n",
    "        for r in range(4):\n",
    "            for f in range(6):\n",
    "                column_name = 'U_r' + str(r) + '_f' + str(f)\n",
    "                columns_list_2.append(column_name)\n",
    "        columns_list = columns_list_1 + columns_list_2\n",
    "        self.df = pd.concat([\n",
    "            self.df,\n",
    "            pd.DataFrame(0, index=self.df.index, columns=columns_list)\n",
    "        ],\n",
    "                            axis=1)\n",
    "        self.df[columns_list_1] = self.df[columns_list_1].apply(\n",
    "            lambda x: np.add(self.df['U' + x.name.split('_')[1]], self.df[\n",
    "                'U' + x.name.split('_')[2]]))\n",
    "        self.df[columns_list_2] = self.df[columns_list_2].apply(\n",
    "            lambda x: np.add(self.df['U' + x.name.split('_')[1]], self.df[\n",
    "                'U' + x.name.split('_')[2]]))\n",
    "        selected_columns = self.df.loc[:, 'Um0':'Uf5'].columns.tolist()\n",
    "        self.df = self.df.drop(selected_columns, axis=1)\n",
    "        return self.df\n",
    "\n",
    "    def Add_Created_Columns(self):\n",
    "        self.Heightened_Surface_Habitable()\n",
    "        self.UEN_per_Dwelling_2()\n",
    "        self.Duo_Weighted_Surface()\n",
    "        self.UEN_Cost_1()\n",
    "        self.UEN_Cost_2()\n",
    "        self.UEN_Cost_3()\n",
    "        return self.df"
   ]
  },
  {
   "cell_type": "code",
   "execution_count": 27,
   "metadata": {
    "ExecuteTime": {
     "end_time": "2019-10-30T16:25:16.935188Z",
     "start_time": "2019-10-30T16:25:16.921861Z"
    }
   },
   "outputs": [
    {
     "data": {
      "text/plain": [
       "[__main__.Columns_for_CID_U_Factors,\n",
       " __main__.CID_Factors,\n",
       " __main__.CID_Type,\n",
       " __main__.All_Types,\n",
       " __main__.Calculable_Columns_for_CxD,\n",
       " __main__.Calculable_Columns,\n",
       " object]"
      ]
     },
     "execution_count": 27,
     "metadata": {},
     "output_type": "execute_result"
    }
   ],
   "source": [
    "Columns_for_CID_U_Factors.mro()"
   ]
  },
  {
   "cell_type": "markdown",
   "metadata": {},
   "source": [
    "### Class for the CID Type with U Prices"
   ]
  },
  {
   "cell_type": "code",
   "execution_count": 28,
   "metadata": {
    "ExecuteTime": {
     "end_time": "2019-10-30T16:25:18.297817Z",
     "start_time": "2019-10-30T16:25:18.277604Z"
    }
   },
   "outputs": [],
   "source": [
    "class Columns_for_CID_U_Prices(CID_Prices, Calculable_Columns_for_CxD):\n",
    "    def __init__(self, year, *args):\n",
    "        super().__init__(*args)\n",
    "        self.year = year\n",
    "        self.DF_with_U()\n",
    "\n",
    "    def Dwelling_Total(self):\n",
    "        self.Rename_Columns()\n",
    "        self.df['Dwelling_Total'] = np.multiply(self.df.Dwelling_per_Floor,\n",
    "                                                np.add(self.df.Floors, 1))\n",
    "        return self.df\n",
    "\n",
    "    def Priced_Surface(self):\n",
    "        self.Surface_M()\n",
    "        self.Surface_W()\n",
    "        self.Dwelling_Total()\n",
    "        self.df.loc[:, 'Um0':'Um18'] = self.df.loc[:, 'Um0':'Um18'].apply(\n",
    "            lambda x: np.multiply(\n",
    "                x, np.divide(self.df.Surface_M, self.df.Dwelling_Total)))\n",
    "        self.df.loc[:, 'Uw0':'Uw3'] = self.df.loc[:, 'Uw0':'Uw3'].apply(\n",
    "            lambda x: np.multiply(\n",
    "                x, np.divide(self.df.Surface_W, self.df.Dwelling_Total)))\n",
    "        self.df.loc[:, 'Ur0':'Ur3'] = self.df.loc[:, 'Ur0':'Ur3'].apply(\n",
    "            lambda x: np.multiply(\n",
    "                x, np.divide(self.df.Surface, np.add(self.df.Floors, 1))))\n",
    "        self.df.loc[:, 'Uf0':'Uf5'] = self.df.loc[:, 'Uf0':'Uf5'].apply(\n",
    "            lambda x: np.multiply(\n",
    "                x, np.divide(self.df.Surface, np.add(self.df.Floors, 1))))\n",
    "        return self.df\n",
    "\n",
    "    def Duo_Priced_Surface(self):\n",
    "        self.Priced_Surface()\n",
    "        columns_list = []\n",
    "        columns_list_1 = []\n",
    "        columns_list_2 = []\n",
    "        for m in range(19):\n",
    "            for w in range(4):\n",
    "                column_name = 'U_m' + str(m) + '_w' + str(w)\n",
    "                columns_list_1.append(column_name)\n",
    "        for r in range(4):\n",
    "            for f in range(6):\n",
    "                column_name = 'U_r' + str(r) + '_f' + str(f)\n",
    "                columns_list_2.append(column_name)\n",
    "        columns_list = columns_list_1 + columns_list_2\n",
    "        self.df = pd.concat([\n",
    "            self.df,\n",
    "            pd.DataFrame(0, index=self.df.index, columns=columns_list)\n",
    "        ],\n",
    "                            axis=1)\n",
    "        self.df[columns_list_1] = self.df[columns_list_1].apply(\n",
    "            lambda x: np.add(self.df['U' + x.name.split('_')[1]], self.df[\n",
    "                'U' + x.name.split('_')[2]]))\n",
    "        self.df[columns_list_2] = self.df[columns_list_2].apply(\n",
    "            lambda x: np.add(self.df['U' + x.name.split('_')[1]], self.df[\n",
    "                'U' + x.name.split('_')[2]]))\n",
    "        selected_columns = self.df.loc[:, 'Um0':'Uf5'].columns.tolist()\n",
    "        self.df = self.df.drop(selected_columns, axis=1)\n",
    "        return self.df\n",
    "\n",
    "    def Add_Created_Columns(self):\n",
    "        self.Duo_Priced_Surface()\n",
    "        self.Fixed_Cost_1()\n",
    "        self.Fixed_Cost_3()\n",
    "        self.Fixed_Cost_5()\n",
    "        return self.df"
   ]
  },
  {
   "cell_type": "code",
   "execution_count": 29,
   "metadata": {
    "ExecuteTime": {
     "end_time": "2019-10-30T16:25:18.438290Z",
     "start_time": "2019-10-30T16:25:18.410823Z"
    }
   },
   "outputs": [
    {
     "data": {
      "text/plain": [
       "[__main__.Columns_for_CID_U_Prices,\n",
       " __main__.CID_Prices,\n",
       " __main__.CID_Type,\n",
       " __main__.All_Types,\n",
       " __main__.Calculable_Columns_for_CxD,\n",
       " __main__.Calculable_Columns,\n",
       " object]"
      ]
     },
     "execution_count": 29,
     "metadata": {},
     "output_type": "execute_result"
    }
   ],
   "source": [
    "Columns_for_CID_U_Prices.mro()"
   ]
  },
  {
   "cell_type": "markdown",
   "metadata": {
    "ExecuteTime": {
     "end_time": "2019-10-29T03:22:11.994969Z",
     "start_time": "2019-10-29T03:22:11.834961Z"
    }
   },
   "source": [
    "### Class for the CCD type with U Factors"
   ]
  },
  {
   "cell_type": "code",
   "execution_count": 30,
   "metadata": {
    "ExecuteTime": {
     "end_time": "2019-10-30T16:25:20.001081Z",
     "start_time": "2019-10-30T16:25:19.984339Z"
    }
   },
   "outputs": [],
   "source": [
    "class Columns_for_CCD_U_Factors(CCD_Factors, Calculable_Columns_for_CxD):\n",
    "    def __init__(self, year, *args):\n",
    "        super().__init__(*args)\n",
    "        self.year = year\n",
    "        self.DF_with_U()\n",
    "\n",
    "    def Surface_R(self):\n",
    "        self.Rename_Columns()\n",
    "        self.df['Surface_R'] = np.multiply(self.df.Surface,\n",
    "                                           self.df.Dwelling_per_Floor)\n",
    "        return self.df\n",
    "\n",
    "    def Heightened_Surface_Habitable(self):\n",
    "        self.Surface_R()\n",
    "        self.df['Heightened_Surface_Habitable'] = np.multiply(\n",
    "            np.multiply(self.df.Surface_R, np.add(self.df.Floors, 1)),\n",
    "            self.df.Ceiling_Height)\n",
    "        return self.df\n",
    "\n",
    "    def UEN_per_Dwelling_2(self):\n",
    "        self.Rename_Columns()\n",
    "        self.df['UEN_per_Dwelling_2'] = np.multiply(\n",
    "            np.multiply(\n",
    "                np.multiply(self.df.Ceiling_Height, self.df.Intermittence),\n",
    "                np.multiply(self.df.Degrees_of_Reference, self.df.Surface)),\n",
    "            0.01)\n",
    "        return self.df\n",
    "\n",
    "    def Weighted_Surface(self):\n",
    "        self.Surface_M()\n",
    "        self.Surface_W()\n",
    "        self.Surface_R()\n",
    "        self.df.loc[:, 'Um0':'Um18'] = self.df.loc[:, 'Um0':'Um18'].apply(\n",
    "            lambda x: np.multiply(x, self.df.Surface_M))\n",
    "        self.df.loc[:, 'Uw0':'Uw3'] = self.df.loc[:, 'Uw0':'Uw3'].apply(\n",
    "            lambda x: np.multiply(x, self.df.Surface_W))\n",
    "        self.df.loc[:, 'Ur0':'Ur3'] = self.df.loc[:, 'Ur0':'Ur3'].apply(\n",
    "            lambda x: np.multiply(x, self.df.Surface_R))\n",
    "        self.df.loc[:, 'Uf0':'Uf5'] = self.df.loc[:, 'Uf0':'Uf5'].apply(\n",
    "            lambda x: np.multiply(x, self.df.Surface_R))\n",
    "        return self.df\n",
    "\n",
    "    def Duo_Weighted_Surface(self):\n",
    "        self.Weighted_Surface()\n",
    "        columns_list = []\n",
    "        columns_list_1 = []\n",
    "        columns_list_2 = []\n",
    "        for m in range(19):\n",
    "            for w in range(4):\n",
    "                column_name = 'U_m' + str(m) + '_w' + str(w)\n",
    "                columns_list_1.append(column_name)\n",
    "        for r in range(4):\n",
    "            for f in range(6):\n",
    "                column_name = 'U_r' + str(r) + '_f' + str(f)\n",
    "                columns_list_2.append(column_name)\n",
    "        columns_list = columns_list_1 + columns_list_2\n",
    "        self.df = pd.concat([\n",
    "            self.df,\n",
    "            pd.DataFrame(0, index=self.df.index, columns=columns_list)\n",
    "        ],\n",
    "                            axis=1)\n",
    "        self.df[columns_list_1] = self.df[columns_list_1].apply(\n",
    "            lambda x: np.add(self.df['U' + x.name.split('_')[1]], self.df[\n",
    "                'U' + x.name.split('_')[2]]))\n",
    "        self.df[columns_list_2] = self.df[columns_list_2].apply(\n",
    "            lambda x: np.add(self.df['U' + x.name.split('_')[1]], self.df[\n",
    "                'U' + x.name.split('_')[2]]))\n",
    "        selected_columns = self.df.loc[:, 'Um0':'Uf5'].columns.tolist()\n",
    "        self.df = self.df.drop(selected_columns, axis=1)\n",
    "        return self.df\n",
    "\n",
    "    def Add_Created_Columns(self):\n",
    "        self.Heightened_Surface_Habitable()\n",
    "        self.UEN_per_Dwelling_2()\n",
    "        self.Duo_Weighted_Surface()\n",
    "        self.UEN_Cost_1()\n",
    "        self.UEN_Cost_2()\n",
    "        self.UEN_Cost_3()\n",
    "        return self.df"
   ]
  },
  {
   "cell_type": "code",
   "execution_count": 31,
   "metadata": {
    "ExecuteTime": {
     "end_time": "2019-10-30T16:25:20.088941Z",
     "start_time": "2019-10-30T16:25:20.084936Z"
    }
   },
   "outputs": [
    {
     "data": {
      "text/plain": [
       "[__main__.Columns_for_CCD_U_Factors,\n",
       " __main__.CCD_Factors,\n",
       " __main__.CCD_Type,\n",
       " __main__.All_Types,\n",
       " __main__.Calculable_Columns_for_CxD,\n",
       " __main__.Calculable_Columns,\n",
       " object]"
      ]
     },
     "execution_count": 31,
     "metadata": {},
     "output_type": "execute_result"
    }
   ],
   "source": [
    "Columns_for_CCD_U_Factors.mro()"
   ]
  },
  {
   "cell_type": "markdown",
   "metadata": {},
   "source": [
    "### Class for the CCD Type with U Prices"
   ]
  },
  {
   "cell_type": "code",
   "execution_count": 32,
   "metadata": {
    "ExecuteTime": {
     "end_time": "2019-10-30T16:25:21.566624Z",
     "start_time": "2019-10-30T16:25:21.549769Z"
    },
    "code_folding": []
   },
   "outputs": [],
   "source": [
    "class Columns_for_CCD_U_Prices(CCD_Prices, Calculable_Columns_for_CxD):\n",
    "    def __init__(self, year, *args):\n",
    "        super().__init__(*args)\n",
    "        self.year = year\n",
    "        self.DF_with_U()\n",
    "\n",
    "    def Dwelling_Total(self):\n",
    "        self.Rename_Columns()\n",
    "        self.df['Dwelling_Total'] = np.multiply(self.df.Dwelling_per_Floor,\n",
    "                                                np.add(self.df.Floors, 1))\n",
    "        return self.df\n",
    "\n",
    "    def Priced_Surface(self):\n",
    "        self.Surface_M()\n",
    "        self.Surface_W()\n",
    "        self.Dwelling_Total()\n",
    "        self.df.loc[:, 'Um0':'Um18'] = self.df.loc[:, 'Um0':'Um18'].apply(\n",
    "            lambda x: np.multiply(\n",
    "                x, np.divide(self.df.Surface_M, self.df.Dwelling_Total)))\n",
    "        self.df.loc[:, 'Uw0':'Uw3'] = self.df.loc[:, 'Uw0':'Uw3'].apply(\n",
    "            lambda x: np.multiply(\n",
    "                x, np.divide(self.df.Surface_W, self.df.Dwelling_Total)))\n",
    "        self.df.loc[:, 'Ur0':'Ur3'] = self.df.loc[:, 'Ur0':'Ur3'].apply(\n",
    "            lambda x: np.multiply(\n",
    "                x, np.divide(self.df.Surface, np.add(self.df.Floors, 1))))\n",
    "        self.df.loc[:, 'Uf0':'Uf5'] = self.df.loc[:, 'Uf0':'Uf5'].apply(\n",
    "            lambda x: np.multiply(\n",
    "                x, np.divide(self.df.Surface, np.add(self.df.Floors, 1))))\n",
    "        return self.df\n",
    "\n",
    "    def Duo_Priced_Surface(self):\n",
    "        self.Priced_Surface()\n",
    "        columns_list = []\n",
    "        columns_list_1 = []\n",
    "        columns_list_2 = []\n",
    "        for m in range(19):\n",
    "            for w in range(4):\n",
    "                column_name = 'U_m' + str(m) + '_w' + str(w)\n",
    "                columns_list_1.append(column_name)\n",
    "        for r in range(4):\n",
    "            for f in range(6):\n",
    "                column_name = 'U_r' + str(r) + '_f' + str(f)\n",
    "                columns_list_2.append(column_name)\n",
    "        columns_list = columns_list_1 + columns_list_2\n",
    "        self.df = pd.concat([\n",
    "            self.df,\n",
    "            pd.DataFrame(0, index=self.df.index, columns=columns_list)\n",
    "        ],\n",
    "                            axis=1)\n",
    "        self.df[columns_list_1] = self.df[columns_list_1].apply(\n",
    "            lambda x: np.add(self.df['U' + x.name.split('_')[1]], self.df[\n",
    "                'U' + x.name.split('_')[2]]))\n",
    "        self.df[columns_list_2] = self.df[columns_list_2].apply(\n",
    "            lambda x: np.add(self.df['U' + x.name.split('_')[1]], self.df[\n",
    "                'U' + x.name.split('_')[2]]))\n",
    "        selected_columns = self.df.loc[:, 'Um0':'Uf5'].columns.tolist()\n",
    "        self.df = self.df.drop(selected_columns, axis=1)\n",
    "        return self.df\n",
    "\n",
    "    def Add_Created_Columns(self):\n",
    "        self.Duo_Priced_Surface()\n",
    "        self.Fixed_Cost_1()\n",
    "        self.Fixed_Cost_3()\n",
    "        self.Fixed_Cost_5()\n",
    "        return self.df"
   ]
  },
  {
   "cell_type": "code",
   "execution_count": 33,
   "metadata": {
    "ExecuteTime": {
     "end_time": "2019-10-30T16:25:21.652776Z",
     "start_time": "2019-10-30T16:25:21.647846Z"
    }
   },
   "outputs": [
    {
     "data": {
      "text/plain": [
       "[__main__.Columns_for_CCD_U_Prices,\n",
       " __main__.CCD_Prices,\n",
       " __main__.CCD_Type,\n",
       " __main__.All_Types,\n",
       " __main__.Calculable_Columns_for_CxD,\n",
       " __main__.Calculable_Columns,\n",
       " object]"
      ]
     },
     "execution_count": 33,
     "metadata": {},
     "output_type": "execute_result"
    }
   ],
   "source": [
    "Columns_for_CCD_U_Prices.mro()"
   ]
  },
  {
   "cell_type": "markdown",
   "metadata": {},
   "source": [
    "## Class for the individual dwellings"
   ]
  },
  {
   "cell_type": "code",
   "execution_count": 34,
   "metadata": {
    "ExecuteTime": {
     "end_time": "2019-10-30T16:25:23.018128Z",
     "start_time": "2019-10-30T16:25:23.002868Z"
    }
   },
   "outputs": [],
   "source": [
    "class Calculable_Columns_for_ID(Calculable_Columns):\n",
    "    def Surface_M(self):\n",
    "        self.Rename_Columns()\n",
    "        self.df['Surface_M'] = np.multiply(\n",
    "            np.multiply(\n",
    "                np.multiply(\n",
    "                    np.subtract(1, self.df.Share_of_Windows),\n",
    "                    np.sqrt(\n",
    "                        np.divide(self.df.Surface, np.add(self.df.Floors,\n",
    "                                                          1)))), 4),\n",
    "            np.multiply(self.df.Ceiling_Height, np.add(self.df.Floors, 1)))\n",
    "        return self.df\n",
    "\n",
    "    def Surface_W(self):\n",
    "        self.Rename_Columns()\n",
    "        self.df['Surface_W'] = np.multiply(\n",
    "            np.multiply(\n",
    "                np.multiply(\n",
    "                    self.df.Share_of_Windows,\n",
    "                    np.sqrt(\n",
    "                        np.divide(self.df.Surface, np.add(self.df.Floors,\n",
    "                                                          1)))), 4),\n",
    "            np.multiply(self.df.Ceiling_Height, np.add(self.df.Floors, 1)))\n",
    "        return self.df"
   ]
  },
  {
   "cell_type": "code",
   "execution_count": 35,
   "metadata": {
    "ExecuteTime": {
     "end_time": "2019-10-30T16:25:23.090463Z",
     "start_time": "2019-10-30T16:25:23.085530Z"
    }
   },
   "outputs": [
    {
     "data": {
      "text/plain": [
       "[__main__.Calculable_Columns_for_ID, __main__.Calculable_Columns, object]"
      ]
     },
     "execution_count": 35,
     "metadata": {},
     "output_type": "execute_result"
    }
   ],
   "source": [
    "Calculable_Columns_for_ID.mro()"
   ]
  },
  {
   "cell_type": "markdown",
   "metadata": {},
   "source": [
    "### Class for the ID Type with U Factors"
   ]
  },
  {
   "cell_type": "code",
   "execution_count": 36,
   "metadata": {
    "ExecuteTime": {
     "end_time": "2019-10-30T16:25:24.500234Z",
     "start_time": "2019-10-30T16:25:24.472252Z"
    }
   },
   "outputs": [],
   "source": [
    "class Columns_for_ID_U_Factors(ID_Factors, Calculable_Columns_for_ID):\n",
    "    def __init__(self, year, *args):\n",
    "        super().__init__(*args)\n",
    "        self.year = year\n",
    "        self.DF_with_U()\n",
    "\n",
    "    def Surface_R(self):\n",
    "        self.Rename_Columns()\n",
    "        self.df['Surface_R'] = np.divide(self.df.Surface,\n",
    "                                         np.add(self.df.Floors, 1))\n",
    "        return self.df\n",
    "\n",
    "    def Heightened_Surface_Habitable(self):\n",
    "        self.Surface_R()\n",
    "        self.df['Heightened_Surface_Habitable'] = np.multiply(\n",
    "            self.df.Surface, self.df.Ceiling_Height)\n",
    "        return self.df\n",
    "\n",
    "    def UEN_per_Dwelling_2(self):\n",
    "        self.Rename_Columns()\n",
    "        self.df['UEN_per_Dwelling_2'] = np.multiply(\n",
    "            np.multiply(\n",
    "                np.multiply(self.df.Ceiling_Height, self.df.Intermittence),\n",
    "                np.multiply(self.df.Degrees_of_Reference, self.df.Surface)),\n",
    "            0.01)\n",
    "        return self.df\n",
    "\n",
    "    def Weighted_Surface(self):\n",
    "        self.Surface_M()\n",
    "        self.Surface_W()\n",
    "        self.Surface_R()\n",
    "        self.df.loc[:, 'Um0':'Um19'] = self.df.loc[:, 'Um0':'Um19'].apply(\n",
    "            lambda x: np.multiply(x, self.df.Surface_M))\n",
    "        self.df.loc[:, 'Uw0':'Uw3'] = self.df.loc[:, 'Uw0':'Uw3'].apply(\n",
    "            lambda x: np.multiply(x, self.df.Surface_W))\n",
    "        self.df.loc[:, 'Ur0':'Ur7'] = self.df.loc[:, 'Ur0':'Ur7'].apply(\n",
    "            lambda x: np.multiply(x, self.df.Surface_R))\n",
    "        self.df.loc[:, 'Uf0':'Uf3'] = self.df.loc[:, 'Uf0':'Uf3'].apply(\n",
    "            lambda x: np.multiply(x, self.df.Surface_R))\n",
    "        return self.df\n",
    "\n",
    "    def Duo_Weighted_Surface(self):\n",
    "        self.Weighted_Surface()\n",
    "        columns_list = []\n",
    "        columns_list_1 = []\n",
    "        columns_list_2 = []\n",
    "        for m in range(20):\n",
    "            for w in range(4):\n",
    "                column_name = 'U_m' + str(m) + '_w' + str(w)\n",
    "                columns_list_1.append(column_name)\n",
    "        for r in range(8):\n",
    "            for f in range(4):\n",
    "                column_name = 'U_r' + str(r) + '_f' + str(f)\n",
    "                columns_list_2.append(column_name)\n",
    "        columns_list = columns_list_1 + columns_list_2\n",
    "        self.df = pd.concat([\n",
    "            self.df,\n",
    "            pd.DataFrame(0, index=self.df.index, columns=columns_list)\n",
    "        ],\n",
    "                            axis=1)\n",
    "        self.df[columns_list_1] = self.df[columns_list_1].apply(\n",
    "            lambda x: np.add(self.df['U' + x.name.split('_')[1]], self.df[\n",
    "                'U' + x.name.split('_')[2]]))\n",
    "        self.df[columns_list_2] = self.df[columns_list_2].apply(\n",
    "            lambda x: np.add(self.df['U' + x.name.split('_')[1]], self.df[\n",
    "                'U' + x.name.split('_')[2]]))\n",
    "        selected_columns = self.df.loc[:, 'Um0':'Uf3'].columns.tolist()\n",
    "        self.df = self.df.drop(selected_columns, axis=1)\n",
    "        return self.df\n",
    "\n",
    "    def Add_Created_Columns(self):\n",
    "        self.Heightened_Surface_Habitable()\n",
    "        self.UEN_per_Dwelling_2()\n",
    "        self.Duo_Weighted_Surface()\n",
    "        self.UEN_Cost_1()\n",
    "        self.UEN_Cost_2()\n",
    "        self.UEN_Cost_3()\n",
    "        return self.df"
   ]
  },
  {
   "cell_type": "code",
   "execution_count": 37,
   "metadata": {
    "ExecuteTime": {
     "end_time": "2019-10-30T16:25:24.659305Z",
     "start_time": "2019-10-30T16:25:24.655429Z"
    }
   },
   "outputs": [
    {
     "data": {
      "text/plain": [
       "[__main__.Columns_for_ID_U_Factors,\n",
       " __main__.ID_Factors,\n",
       " __main__.ID_Type,\n",
       " __main__.All_Types,\n",
       " __main__.Calculable_Columns_for_ID,\n",
       " __main__.Calculable_Columns,\n",
       " object]"
      ]
     },
     "execution_count": 37,
     "metadata": {},
     "output_type": "execute_result"
    }
   ],
   "source": [
    "Columns_for_ID_U_Factors.mro()"
   ]
  },
  {
   "cell_type": "markdown",
   "metadata": {},
   "source": [
    "### Class for the DataFrame with U Prices"
   ]
  },
  {
   "cell_type": "code",
   "execution_count": 38,
   "metadata": {
    "ExecuteTime": {
     "end_time": "2019-10-30T16:25:26.056607Z",
     "start_time": "2019-10-30T16:25:26.039691Z"
    }
   },
   "outputs": [],
   "source": [
    "class Columns_for_ID_U_Prices(ID_Prices, Calculable_Columns_for_ID):\n",
    "    def __init__(self, year, *args):\n",
    "        super().__init__(*args)\n",
    "        self.year = year\n",
    "        self.DF_with_U()\n",
    "\n",
    "    def Dwelling_Total(self):\n",
    "        self.Rename_Columns()\n",
    "        self.df['Dwelling_Total'] = 1\n",
    "        return self.df\n",
    "\n",
    "    def Priced_Surface(self):\n",
    "        self.Surface_M()\n",
    "        self.Surface_W()\n",
    "        self.Dwelling_Total()\n",
    "        self.df.loc[:, 'Um0':'Um19'] = self.df.loc[:, 'Um0':'Um19'].apply(\n",
    "            lambda x: np.multiply(\n",
    "                x, np.divide(self.df.Surface_M, self.df.Dwelling_Total)))\n",
    "        self.df.loc[:, 'Uw0':'Uw3'] = self.df.loc[:, 'Uw0':'Uw3'].apply(\n",
    "            lambda x: np.multiply(\n",
    "                x, np.divide(self.df.Surface_W, self.df.Dwelling_Total)))\n",
    "        self.df.loc[:, 'Ur0':'Ur7'] = self.df.loc[:, 'Ur0':'Ur7'].apply(\n",
    "            lambda x: np.multiply(\n",
    "                x, np.divide(self.df.Surface, np.add(self.df.Floors, 1))))\n",
    "        self.df.loc[:, 'Uf0':'Uf3'] = self.df.loc[:, 'Uf0':'Uf3'].apply(\n",
    "            lambda x: np.multiply(\n",
    "                x, np.divide(self.df.Surface, np.add(self.df.Floors, 1))))\n",
    "        return self.df\n",
    "\n",
    "    def Duo_Priced_Surface(self):\n",
    "        self.Priced_Surface()\n",
    "        columns_list = []\n",
    "        columns_list_1 = []\n",
    "        columns_list_2 = []\n",
    "        for m in range(20):\n",
    "            for w in range(4):\n",
    "                column_name = 'U_m' + str(m) + '_w' + str(w)\n",
    "                columns_list_1.append(column_name)\n",
    "        for r in range(8):\n",
    "            for f in range(4):\n",
    "                column_name = 'U_r' + str(r) + '_f' + str(f)\n",
    "                columns_list_2.append(column_name)\n",
    "        columns_list = columns_list_1 + columns_list_2\n",
    "        self.df = pd.concat([\n",
    "            self.df,\n",
    "            pd.DataFrame(0, index=self.df.index, columns=columns_list)\n",
    "        ],\n",
    "                            axis=1)\n",
    "        self.df[columns_list_1] = self.df[columns_list_1].apply(\n",
    "            lambda x: np.add(self.df['U' + x.name.split('_')[1]], self.df[\n",
    "                'U' + x.name.split('_')[2]]))\n",
    "        self.df[columns_list_2] = self.df[columns_list_2].apply(\n",
    "            lambda x: np.add(self.df['U' + x.name.split('_')[1]], self.df[\n",
    "                'U' + x.name.split('_')[2]]))\n",
    "        selected_columns = self.df.loc[:, 'Um0':'Uf3'].columns.tolist()\n",
    "        self.df = self.df.drop(selected_columns, axis=1)\n",
    "        return self.df\n",
    "\n",
    "    def Add_Created_Columns(self):\n",
    "        self.Duo_Priced_Surface()\n",
    "        self.Fixed_Cost_1()\n",
    "        self.Fixed_Cost_3()\n",
    "        self.Fixed_Cost_5()\n",
    "        return self.df"
   ]
  },
  {
   "cell_type": "code",
   "execution_count": 39,
   "metadata": {
    "ExecuteTime": {
     "end_time": "2019-10-30T16:25:26.134389Z",
     "start_time": "2019-10-30T16:25:26.129647Z"
    }
   },
   "outputs": [
    {
     "data": {
      "text/plain": [
       "[__main__.Columns_for_ID_U_Prices,\n",
       " __main__.ID_Prices,\n",
       " __main__.ID_Type,\n",
       " __main__.All_Types,\n",
       " __main__.Calculable_Columns_for_ID,\n",
       " __main__.Calculable_Columns,\n",
       " object]"
      ]
     },
     "execution_count": 39,
     "metadata": {},
     "output_type": "execute_result"
    }
   ],
   "source": [
    "Columns_for_ID_U_Prices.mro()"
   ]
  },
  {
   "cell_type": "markdown",
   "metadata": {},
   "source": [
    "# Creation of some calculable DataFrames"
   ]
  },
  {
   "cell_type": "markdown",
   "metadata": {},
   "source": [
    "## Class for the CID type dwellings"
   ]
  },
  {
   "cell_type": "code",
   "execution_count": 40,
   "metadata": {
    "ExecuteTime": {
     "end_time": "2019-10-30T16:25:28.452826Z",
     "start_time": "2019-10-30T16:25:28.434659Z"
    }
   },
   "outputs": [],
   "source": [
    "class Calculable_DFs_for_CID():\n",
    "    def Add_ER_Columns(self):\n",
    "        columns_list = []\n",
    "        for m in range(19):\n",
    "            for w in range(4):\n",
    "                for r in range(4):\n",
    "                    for f in range(6):\n",
    "                        column_name = 'ER_m' + str(m) + '_w' + str(\n",
    "                            w) + '_r' + str(r) + '_f' + str(f)\n",
    "                        columns_list.append(column_name)\n",
    "        self.df = pd.concat([\n",
    "            self.df,\n",
    "            pd.DataFrame(0, index=self.df.index, columns=columns_list)\n",
    "        ],\n",
    "                            axis=1)\n",
    "        return self.df\n",
    "\n",
    "    def Fill_ER_Columns(self):\n",
    "        self.Add_ER_Columns()\n",
    "        selected_columns = self.df.loc[:, 'ER_m0_w0_r0_f0':\n",
    "                                       'ER_m18_w3_r3_f5'].columns.tolist()\n",
    "        self.df[selected_columns] = self.df[selected_columns].apply(\n",
    "            lambda x: np.add(\n",
    "                self.df['U_' + x.name.split('_')[1] + '_' + x.name.split('_')[\n",
    "                    2]], self.df['U_' + x.name.split('_')[3] + '_' + x.name.\n",
    "                                 split('_')[4]]))\n",
    "        selected_columns = self.df.loc[:, 'U_m0_w0':'U_r3_f5'].columns.tolist()\n",
    "        self.df = self.df.drop(selected_columns, axis=1)\n",
    "        return self.df\n",
    "\n",
    "    def Generate_GB_Columns(self):\n",
    "        self.Generate_ER_Columns()\n",
    "        duplicate_df = self.df.loc[:, 'ER_m0_w0_r0_f0':'ER_m18_w3_r3_f5']\n",
    "        duplicate_df.columns = duplicate_df.columns.str.replace('ER_', 'GB_')\n",
    "        self.df = pd.concat([self.df, duplicate_df], axis=1)\n",
    "        del duplicate_df\n",
    "        return self.df\n",
    "\n",
    "    def Generate_CGB_Columns(self):\n",
    "        self.Generate_GB_Columns()\n",
    "        duplicate_df = self.df.loc[:, 'ER_m0_w0_r0_f0':'ER_m18_w3_r3_f5']\n",
    "        duplicate_df.columns = duplicate_df.columns.str.replace('ER_', 'CGB_')\n",
    "        self.df = pd.concat([self.df, duplicate_df], axis=1)\n",
    "        del duplicate_df\n",
    "        return self.df\n",
    "\n",
    "    def Generate_OB_Columns(self):\n",
    "        self.Generate_CGB_Columns()\n",
    "        duplicate_df = self.df.loc[:, 'ER_m0_w0_r0_f0':'ER_m18_w3_r3_f5']\n",
    "        duplicate_df.columns = duplicate_df.columns.str.replace('ER_', 'OB_')\n",
    "        self.df = pd.concat([self.df, duplicate_df], axis=1)\n",
    "        del duplicate_df\n",
    "        return self.df\n",
    "\n",
    "    def Generate_COB_Columns(self):\n",
    "        self.Generate_OB_Columns()\n",
    "        duplicate_df = self.df.loc[:, 'ER_m0_w0_r0_f0':'ER_m18_w3_r3_f5']\n",
    "        duplicate_df.columns = duplicate_df.columns.str.replace('ER_', 'COB_')\n",
    "        self.df = pd.concat([self.df, duplicate_df], axis=1)\n",
    "        del duplicate_df\n",
    "        return self.df\n",
    "\n",
    "    def Generate_EHP2_Columns(self):\n",
    "        self.Generate_COB_Columns()\n",
    "        duplicate_df = self.df.loc[:, 'ER_m0_w0_r0_f0':'ER_m18_w3_r3_f5']\n",
    "        duplicate_df.columns = duplicate_df.columns.str.replace('ER_', 'EHP2_')\n",
    "        self.df = pd.concat([self.df, duplicate_df], axis=1)\n",
    "        del duplicate_df\n",
    "        return self.df\n",
    "\n",
    "    def Generate_WB_Columns(self):\n",
    "        self.Generate_EHP2_Columns()\n",
    "        duplicate_df = self.df.loc[:, 'ER_m0_w0_r0_f0':'ER_m18_w3_r3_f5']\n",
    "        duplicate_df.columns = duplicate_df.columns.str.replace('ER_', 'WB_')\n",
    "        self.df = pd.concat([self.df, duplicate_df], axis=1)\n",
    "        del duplicate_df\n",
    "        return self.df\n",
    "\n",
    "    def Generate_WPB_Columns(self):\n",
    "        self.Generate_WB_Columns()\n",
    "        duplicate_df = self.df.loc[:, 'ER_m0_w0_r0_f0':'ER_m18_w3_r3_f5']\n",
    "        duplicate_df.columns = duplicate_df.columns.str.replace('ER_', 'WPB_')\n",
    "        self.df = pd.concat([self.df, duplicate_df], axis=1)\n",
    "        del duplicate_df\n",
    "        return self.df\n",
    "\n",
    "    def Generate_EHP_Columns(self):\n",
    "        self.Generate_WPB_Columns()\n",
    "        duplicate_df = self.df.loc[:, 'ER_m0_w0_r0_f0':'ER_m18_w3_r3_f5']\n",
    "        duplicate_df.columns = duplicate_df.columns.str.replace('ER_', 'EHP_')\n",
    "        self.df = pd.concat([self.df, duplicate_df], axis=1)\n",
    "        del duplicate_df\n",
    "        return self.df"
   ]
  },
  {
   "cell_type": "code",
   "execution_count": 41,
   "metadata": {
    "ExecuteTime": {
     "end_time": "2019-10-30T16:25:28.539388Z",
     "start_time": "2019-10-30T16:25:28.534597Z"
    }
   },
   "outputs": [
    {
     "data": {
      "text/plain": [
       "[__main__.Calculable_DFs_for_CID, object]"
      ]
     },
     "execution_count": 41,
     "metadata": {},
     "output_type": "execute_result"
    }
   ],
   "source": [
    "Calculable_DFs_for_CID.mro()"
   ]
  },
  {
   "cell_type": "markdown",
   "metadata": {},
   "source": [
    "### Class for the DataFrame with U Factors"
   ]
  },
  {
   "cell_type": "code",
   "execution_count": 42,
   "metadata": {
    "ExecuteTime": {
     "end_time": "2019-10-30T16:25:29.849272Z",
     "start_time": "2019-10-30T16:25:29.794940Z"
    }
   },
   "outputs": [],
   "source": [
    "class DF_for_CID_U_Factors(Columns_for_CID_U_Factors, Calculable_DFs_for_CID):\n",
    "    def __init__(self, year, *args):\n",
    "        super().__init__(year, *args)\n",
    "        self.Add_Created_Columns()\n",
    "\n",
    "    def Weighted_Surface_Total(self):\n",
    "        self.Fill_ER_Columns()\n",
    "        return self.df\n",
    "\n",
    "    def Enlarged_Weighted_Surface_Total(self):\n",
    "        self.Weighted_Surface_Total()\n",
    "        selected_columns = self.df.loc[:, 'ER_m0_w0_r0_f0':\n",
    "                                       'ER_m18_w3_r3_f5'].columns.tolist()\n",
    "        self.copied_df = self.df[selected_columns].copy()\n",
    "        self.copied_df = self.copied_df.apply(lambda x: np.add(\n",
    "            np.multiply(9, self.df.Heightened_Surface_Habitable),\n",
    "            np.multiply(2.5, x)))\n",
    "        return self.copied_df\n",
    "\n",
    "    def UEN_per_Dwelling_1(self):\n",
    "        self.Enlarged_Weighted_Surface_Total()\n",
    "        selected_columns = self.df.loc[:, 'ER_m0_w0_r0_f0':\n",
    "                                       'ER_m18_w3_r3_f5'].columns.tolist()\n",
    "        self.df[selected_columns] = self.df[selected_columns].div(\n",
    "            self.copied_df)\n",
    "        del self.copied_df\n",
    "        return self.df\n",
    "\n",
    "    def UEN_per_Dwelling(self):\n",
    "        self.UEN_per_Dwelling_1()\n",
    "        selected_columns = self.df.loc[:, 'ER_m0_w0_r0_f0':\n",
    "                                       'ER_m18_w3_r3_f5'].columns.tolist()\n",
    "        self.df[selected_columns] = self.df[selected_columns].apply(\n",
    "            lambda x: np.multiply(x, self.df.UEN_per_Dwelling_2))\n",
    "        return self.df\n",
    "\n",
    "    def Generate_ER_Columns(self):\n",
    "        self.UEN_per_Dwelling()\n",
    "        return self.df\n",
    "\n",
    "    def GHC_UEN_ER(self):\n",
    "        self.Generate_EHP_Columns()\n",
    "        selected_columns = self.df.loc[:, 'ER_m0_w0_r0_f0':\n",
    "                                       'ER_m18_w3_r3_f5'].columns.tolist()\n",
    "        condition_1 = self.df.Heating_System == 'ER'\n",
    "        condition_1 = np.array(condition_1).reshape(self.df.shape[0], 1)\n",
    "        condition_2 = ~condition_1\n",
    "        df_copy = self.df.loc[:, 'Initial_Age':]\n",
    "        df_copy = pd.DataFrame(df_copy['Initial_Age']).merge(\n",
    "            df_copy.loc[:19, :], how='left', on=['Initial_Age'])\n",
    "        A = np.array(df_copy.loc[:, 'UEN_Cost_1']).reshape(df_copy.shape[0], 1)\n",
    "        B = np.array(df_copy.loc[:, 'UEN_Cost_2']).reshape(df_copy.shape[0], 1)\n",
    "        matrix = self.df[selected_columns].values\n",
    "        matrix = np.multiply(matrix, np.multiply(\n",
    "            condition_1, A)) + np.multiply(matrix, np.multiply(condition_2, B))\n",
    "        self.df[selected_columns] = pd.DataFrame(matrix,\n",
    "                                                 columns=selected_columns)\n",
    "        del condition_1, condition_2, A, B, matrix, df_copy\n",
    "        return self.df\n",
    "\n",
    "    def GHC_UEN_GB(self):\n",
    "        self.GHC_UEN_ER()\n",
    "        selected_columns = self.df.loc[:, 'GB_m0_w0_r0_f0':\n",
    "                                       'GB_m18_w3_r3_f5'].columns.tolist()\n",
    "        condition_1 = self.df.Heating_System == 'GB'\n",
    "        condition_1 = np.array(condition_1).reshape(self.df.shape[0], 1)\n",
    "        condition_2 = (self.df.Heating_System == 'ER') | (\n",
    "            self.df.Heating_System == 'CGB') | (\n",
    "                self.df.Heating_System == 'EHP2') | (\n",
    "                    self.df.Heating_System == 'WB') | (\n",
    "                        self.df.Heating_System == 'WPB') | (\n",
    "                            self.df.Heating_System == 'EHP')\n",
    "        condition_2 = np.array(condition_2).reshape(self.df.shape[0], 1)\n",
    "        condition_3 = (self.df.Heating_System == 'OB') | (\n",
    "            self.df.Heating_System == 'COB')\n",
    "        condition_3 = np.array(condition_3).reshape(self.df.shape[0], 1)\n",
    "        df_copy = self.df.loc[:, 'Initial_Age':]\n",
    "        df_copy = pd.DataFrame(df_copy['Initial_Age']).merge(\n",
    "            df_copy.loc[20:39, :], how='left', on=['Initial_Age'])\n",
    "        A = np.array(df_copy.loc[:, 'UEN_Cost_1']).reshape(df_copy.shape[0], 1)\n",
    "        B = np.array(df_copy.loc[:, 'UEN_Cost_2']).reshape(df_copy.shape[0], 1)\n",
    "        C = np.array(df_copy.loc[:, 'UEN_Cost_3']).reshape(df_copy.shape[0], 1)\n",
    "        matrix = self.df[selected_columns].values\n",
    "        matrix = np.multiply(\n",
    "            matrix, np.multiply(condition_1, A)) + np.multiply(\n",
    "                matrix, np.multiply(condition_2, B)) + np.multiply(\n",
    "                    matrix, np.multiply(condition_3, C))\n",
    "        self.df[selected_columns] = pd.DataFrame(matrix,\n",
    "                                                 columns=selected_columns)\n",
    "        del condition_1, condition_2, condition_3, A, B, C, matrix, df_copy\n",
    "        return self.df\n",
    "\n",
    "    def GHC_UEN_CGB(self):\n",
    "        self.GHC_UEN_GB()\n",
    "        selected_columns = self.df.loc[:, 'CGB_m0_w0_r0_f0':\n",
    "                                       'CGB_m18_w3_r3_f5'].columns.tolist()\n",
    "        condition_1 = self.df.Heating_System == 'CGB'\n",
    "        condition_1 = np.array(condition_1).reshape(self.df.shape[0], 1)\n",
    "        condition_2 = (self.df.Heating_System == 'ER') | (\n",
    "            self.df.Heating_System == 'GB') | (\n",
    "                self.df.Heating_System == 'EHP2') | (\n",
    "                    self.df.Heating_System == 'WB') | (\n",
    "                        self.df.Heating_System == 'WPB') | (\n",
    "                            self.df.Heating_System == 'EHP')\n",
    "        condition_2 = np.array(condition_2).reshape(self.df.shape[0], 1)\n",
    "        condition_3 = (self.df.Heating_System == 'OB') | (\n",
    "            self.df.Heating_System == 'COB')\n",
    "        condition_3 = np.array(condition_3).reshape(self.df.shape[0], 1)\n",
    "        df_copy = self.df.loc[:, 'Initial_Age':]\n",
    "        df_copy = pd.DataFrame(df_copy['Initial_Age']).merge(\n",
    "            df_copy.loc[40:59, :], how='left', on=['Initial_Age'])\n",
    "        A = np.array(df_copy.loc[:, 'UEN_Cost_1']).reshape(df_copy.shape[0], 1)\n",
    "        B = np.array(df_copy.loc[:, 'UEN_Cost_2']).reshape(df_copy.shape[0], 1)\n",
    "        C = np.array(df_copy.loc[:, 'UEN_Cost_3']).reshape(df_copy.shape[0], 1)\n",
    "        matrix = self.df[selected_columns].values\n",
    "        matrix = np.multiply(\n",
    "            matrix, np.multiply(condition_1, A)) + np.multiply(\n",
    "                matrix, np.multiply(condition_2, B)) + np.multiply(\n",
    "                    matrix, np.multiply(condition_3, C))\n",
    "        self.df[selected_columns] = pd.DataFrame(matrix,\n",
    "                                                 columns=selected_columns)\n",
    "        del condition_1, condition_2, condition_3, A, B, C, matrix, df_copy\n",
    "        return self.df\n",
    "\n",
    "    def GHC_UEN_OB(self):\n",
    "        self.GHC_UEN_CGB()\n",
    "        selected_columns = self.df.loc[:, 'OB_m0_w0_r0_f0':\n",
    "                                       'OB_m18_w3_r3_f5'].columns.tolist()\n",
    "        condition_1 = self.df.Heating_System == 'OB'\n",
    "        condition_1 = np.array(condition_1).reshape(self.df.shape[0], 1)\n",
    "        condition_2 = ~condition_1\n",
    "        df_copy = self.df.loc[:, 'Initial_Age':]\n",
    "        df_copy = pd.DataFrame(df_copy['Initial_Age']).merge(\n",
    "            df_copy.loc[60:79, :], how='left', on=['Initial_Age'])\n",
    "        A = np.array(df_copy.loc[:, 'UEN_Cost_1']).reshape(df_copy.shape[0], 1)\n",
    "        B = np.array(df_copy.loc[:, 'UEN_Cost_2']).reshape(df_copy.shape[0], 1)\n",
    "        matrix = self.df[selected_columns].values\n",
    "        matrix = np.multiply(matrix, np.multiply(\n",
    "            condition_1, A)) + np.multiply(matrix, np.multiply(condition_2, B))\n",
    "        self.df[selected_columns] = pd.DataFrame(matrix,\n",
    "                                                 columns=selected_columns)\n",
    "        del condition_1, condition_2, A, B, matrix, df_copy\n",
    "        return self.df\n",
    "\n",
    "    def GHC_UEN_COB(self):\n",
    "        self.GHC_UEN_OB()\n",
    "        selected_columns = self.df.loc[:, 'COB_m0_w0_r0_f0':\n",
    "                                       'COB_m18_w3_r3_f5'].columns.tolist()\n",
    "        condition_1 = self.df.Heating_System == 'COB'\n",
    "        condition_1 = np.array(condition_1).reshape(self.df.shape[0], 1)\n",
    "        condition_2 = ~condition_1\n",
    "        df_copy = self.df.loc[:, 'Initial_Age':]\n",
    "        df_copy = pd.DataFrame(df_copy['Initial_Age']).merge(\n",
    "            df_copy.loc[80:99, :], how='left', on=['Initial_Age'])\n",
    "        A = np.array(df_copy.loc[:, 'UEN_Cost_1']).reshape(df_copy.shape[0], 1)\n",
    "        B = np.array(df_copy.loc[:, 'UEN_Cost_2']).reshape(df_copy.shape[0], 1)\n",
    "        matrix = self.df[selected_columns].values\n",
    "        matrix = np.multiply(matrix, np.multiply(\n",
    "            condition_1, A)) + np.multiply(matrix, np.multiply(condition_2, B))\n",
    "        self.df[selected_columns] = pd.DataFrame(matrix,\n",
    "                                                 columns=selected_columns)\n",
    "        del condition_1, condition_2, A, B, matrix, df_copy\n",
    "        return self.df\n",
    "\n",
    "    def GHC_UEN_EHP2(self):\n",
    "        self.GHC_UEN_COB()\n",
    "        selected_columns = self.df.loc[:, 'EHP2_m0_w0_r0_f0':\n",
    "                                       'EHP2_m18_w3_r3_f5'].columns.tolist()\n",
    "        condition_1 = self.df.Heating_System == 'EHP2'\n",
    "        condition_1 = np.array(condition_1).reshape(self.df.shape[0], 1)\n",
    "        condition_2 = ~condition_1\n",
    "        df_copy = self.df.loc[:, 'Initial_Age':]\n",
    "        df_copy = pd.DataFrame(df_copy['Initial_Age']).merge(\n",
    "            df_copy.loc[100:119, :], how='left', on=['Initial_Age'])\n",
    "        A = np.array(df_copy.loc[:, 'UEN_Cost_1']).reshape(df_copy.shape[0], 1)\n",
    "        B = np.array(df_copy.loc[:, 'UEN_Cost_2']).reshape(df_copy.shape[0], 1)\n",
    "        matrix = self.df[selected_columns].values\n",
    "        matrix = np.multiply(matrix, np.multiply(\n",
    "            condition_1, A)) + np.multiply(matrix, np.multiply(condition_2, B))\n",
    "        self.df[selected_columns] = pd.DataFrame(matrix,\n",
    "                                                 columns=selected_columns)\n",
    "        del condition_1, condition_2, A, B, matrix, df_copy\n",
    "        return self.df\n",
    "\n",
    "    def GHC_UEN_WB(self):\n",
    "        self.GHC_UEN_EHP2()\n",
    "        selected_columns = self.df.loc[:, 'WB_m0_w0_r0_f0':\n",
    "                                       'WB_m18_w3_r3_f5'].columns.tolist()\n",
    "        condition_1 = self.df.Heating_System == 'WB'\n",
    "        condition_1 = np.array(condition_1).reshape(self.df.shape[0], 1)\n",
    "        condition_2 = ~condition_1\n",
    "        df_copy = self.df.loc[:, 'Initial_Age':]\n",
    "        df_copy = pd.DataFrame(df_copy['Initial_Age']).merge(\n",
    "            df_copy.loc[120:139, :], how='left', on=['Initial_Age'])\n",
    "        A = np.array(df_copy.loc[:, 'UEN_Cost_1']).reshape(df_copy.shape[0], 1)\n",
    "        B = np.array(df_copy.loc[:, 'UEN_Cost_2']).reshape(df_copy.shape[0], 1)\n",
    "        matrix = self.df[selected_columns].values\n",
    "        matrix = np.multiply(matrix, np.multiply(\n",
    "            condition_1, A)) + np.multiply(matrix, np.multiply(condition_2, B))\n",
    "        self.df[selected_columns] = pd.DataFrame(matrix,\n",
    "                                                 columns=selected_columns)\n",
    "        del condition_1, condition_2, A, B, matrix, df_copy\n",
    "        return self.df\n",
    "\n",
    "    def GHC_UEN_WPB(self):\n",
    "        self.GHC_UEN_WB()\n",
    "        selected_columns = self.df.loc[:, 'WPB_m0_w0_r0_f0':\n",
    "                                       'WPB_m18_w3_r3_f5'].columns.tolist()\n",
    "        condition_1 = self.df.Heating_System == 'WPB'\n",
    "        condition_1 = np.array(condition_1).reshape(self.df.shape[0], 1)\n",
    "        condition_2 = ~condition_1\n",
    "        df_copy = self.df.loc[:, 'Initial_Age':]\n",
    "        df_copy = pd.DataFrame(df_copy['Initial_Age']).merge(\n",
    "            df_copy.loc[140:159, :], how='left', on=['Initial_Age'])\n",
    "        A = np.array(df_copy.loc[:, 'UEN_Cost_1']).reshape(df_copy.shape[0], 1)\n",
    "        B = np.array(df_copy.loc[:, 'UEN_Cost_2']).reshape(df_copy.shape[0], 1)\n",
    "        matrix = self.df[selected_columns].values\n",
    "        matrix = np.multiply(matrix, np.multiply(\n",
    "            condition_1, A)) + np.multiply(matrix, np.multiply(condition_2, B))\n",
    "        self.df[selected_columns] = pd.DataFrame(matrix,\n",
    "                                                 columns=selected_columns)\n",
    "        del condition_1, condition_2, A, B, matrix, df_copy\n",
    "        return self.df\n",
    "\n",
    "    def GHC_UEN_EHP(self):\n",
    "        self.GHC_UEN_WPB()\n",
    "        selected_columns = self.df.loc[:, 'EHP_m0_w0_r0_f0':\n",
    "                                       'EHP_m18_w3_r3_f5'].columns.tolist()\n",
    "        condition_1 = self.df.Heating_System == 'EHP'\n",
    "        condition_1 = np.array(condition_1).reshape(self.df.shape[0], 1)\n",
    "        condition_2 = ~condition_1\n",
    "        df_copy = self.df.loc[:, 'Initial_Age':]\n",
    "        df_copy = pd.DataFrame(df_copy['Initial_Age']).merge(\n",
    "            df_copy.loc[160:179, :], how='left', on=['Initial_Age'])\n",
    "        A = np.array(df_copy.loc[:, 'UEN_Cost_1']).reshape(df_copy.shape[0], 1)\n",
    "        B = np.array(df_copy.loc[:, 'UEN_Cost_2']).reshape(df_copy.shape[0], 1)\n",
    "        matrix = self.df[selected_columns].values\n",
    "        matrix = np.multiply(matrix, np.multiply(\n",
    "            condition_1, A)) + np.multiply(matrix, np.multiply(condition_2, B))\n",
    "        self.df[selected_columns] = pd.DataFrame(matrix,\n",
    "                                                 columns=selected_columns)\n",
    "        del condition_1, condition_2, A, B, matrix, df_copy\n",
    "        return self.df\n",
    "\n",
    "    def GHC_UEN_Conditions(self):\n",
    "        self.GHC_UEN_EHP()\n",
    "        return self.df"
   ]
  },
  {
   "cell_type": "code",
   "execution_count": 43,
   "metadata": {
    "ExecuteTime": {
     "end_time": "2019-10-30T16:25:29.948738Z",
     "start_time": "2019-10-30T16:25:29.944244Z"
    }
   },
   "outputs": [
    {
     "data": {
      "text/plain": [
       "[__main__.DF_for_CID_U_Factors,\n",
       " __main__.Columns_for_CID_U_Factors,\n",
       " __main__.CID_Factors,\n",
       " __main__.CID_Type,\n",
       " __main__.All_Types,\n",
       " __main__.Calculable_Columns_for_CxD,\n",
       " __main__.Calculable_Columns,\n",
       " __main__.Calculable_DFs_for_CID,\n",
       " object]"
      ]
     },
     "execution_count": 43,
     "metadata": {},
     "output_type": "execute_result"
    }
   ],
   "source": [
    "DF_for_CID_U_Factors.mro()"
   ]
  },
  {
   "cell_type": "markdown",
   "metadata": {},
   "source": [
    "### Class for the DataFrame with U Prices"
   ]
  },
  {
   "cell_type": "code",
   "execution_count": 44,
   "metadata": {
    "ExecuteTime": {
     "end_time": "2019-10-30T16:25:31.576917Z",
     "start_time": "2019-10-30T16:25:31.486749Z"
    },
    "code_folding": []
   },
   "outputs": [],
   "source": [
    "class DF_for_CID_U_Prices(Columns_for_CID_U_Prices, Calculable_DFs_for_CID):\n",
    "    def __init__(self, year, *args):\n",
    "        super().__init__(year, *args)\n",
    "        self.Add_Created_Columns()\n",
    "\n",
    "    def Insulation_Cost(self):\n",
    "        self.Fill_ER_Columns()\n",
    "        return self.df\n",
    "\n",
    "    def Generate_ER_Columns(self):\n",
    "        self.Insulation_Cost()\n",
    "        return self.df\n",
    "\n",
    "    def Multiple_Cost_ER(self):\n",
    "        self.Generate_EHP_Columns()\n",
    "        selected_columns = self.df.loc[:, 'ER_m0_w0_r0_f0':\n",
    "                                       'ER_m18_w3_r3_f5'].columns.tolist()\n",
    "        condition_1 = self.df.Heating_System == 'ER'\n",
    "        condition_1 = np.array(condition_1).reshape(self.df.shape[0], 1)\n",
    "        condition_2 = (self.df.Heating_System == 'WB') | (\n",
    "            self.df.Heating_System == 'EHP')\n",
    "        condition_2 = np.array(condition_2).reshape(self.df.shape[0], 1)\n",
    "        condition_3 = (self.df.Heating_System == 'GB') | (\n",
    "            self.df.Heating_System == 'CGB') | (\n",
    "                self.df.Heating_System == 'OB') | (\n",
    "                    self.df.Heating_System == 'COB') | (\n",
    "                        self.df.Heating_System == 'EHP2') | (\n",
    "                            self.df.Heating_System == 'WPB')\n",
    "        condition_3 = np.array(condition_3).reshape(self.df.shape[0], 1)\n",
    "        df_copy = self.df.loc[:, 'Initial_Age':]\n",
    "        df_copy = pd.DataFrame(df_copy['Initial_Age']).merge(\n",
    "            df_copy.loc[:19, :], how='left', on=['Initial_Age'])\n",
    "        A = np.array(df_copy.loc[:, 'Fixed_Cost_1']).reshape(\n",
    "            df_copy.shape[0], 1)\n",
    "        B = np.array(df_copy.loc[:, 'Fixed_Cost_2']).reshape(\n",
    "            df_copy.shape[0], 1)\n",
    "        C = np.array(df_copy.loc[:, 'Fixed_Cost_5']).reshape(\n",
    "            df_copy.shape[0], 1)\n",
    "        matrix = self.df[selected_columns].values\n",
    "        matrix = matrix + np.multiply(condition_1, A) + np.multiply(\n",
    "            condition_2, B) + np.multiply(condition_3, C)\n",
    "        self.df[selected_columns] = pd.DataFrame(matrix,\n",
    "                                                 columns=selected_columns)\n",
    "        del condition_1, condition_2, condition_3, A, B, C, matrix, df_copy\n",
    "        return self.df\n",
    "\n",
    "    def Multiple_Cost_GB(self):\n",
    "        self.Multiple_Cost_ER()\n",
    "        selected_columns = self.df.loc[:, 'GB_m0_w0_r0_f0':\n",
    "                                       'GB_m18_w3_r3_f5'].columns.tolist()\n",
    "        condition_1 = self.df.Heating_System == 'GB'\n",
    "        condition_1 = np.array(condition_1).reshape(self.df.shape[0], 1)\n",
    "        condition_2 = (self.df.Heating_System == 'CGB')\n",
    "        condition_2 = np.array(condition_2).reshape(self.df.shape[0], 1)\n",
    "        condition_3 = (self.df.Heating_System == 'OB') | (\n",
    "            self.df.Heating_System == 'COB') | (\n",
    "                self.df.Heating_System == 'EHP2') | (\n",
    "                    self.df.Heating_System == 'WPB')\n",
    "        condition_3 = np.array(condition_3).reshape(self.df.shape[0], 1)\n",
    "        condition_4 = (self.df.Heating_System == 'ER') | (\n",
    "            self.df.Heating_System == 'WB') | (self.df.Heating_System == 'EHP')\n",
    "        condition_4 = np.array(condition_4).reshape(self.df.shape[0], 1)\n",
    "        df_copy = self.df.loc[:, 'Initial_Age':]\n",
    "        df_copy = pd.DataFrame(df_copy['Initial_Age']).merge(\n",
    "            df_copy.loc[20:39, :], how='left', on=['Initial_Age'])\n",
    "        A = np.array(df_copy.loc[:, 'Fixed_Cost_1']).reshape(\n",
    "            df_copy.shape[0], 1)\n",
    "        B = np.array(df_copy.loc[:, 'Fixed_Cost_2']).reshape(\n",
    "            df_copy.shape[0], 1)\n",
    "        C = np.array(df_copy.loc[:, 'Fixed_Cost_4']).reshape(\n",
    "            df_copy.shape[0], 1)\n",
    "        D = np.array(df_copy.loc[:, 'Fixed_Cost_5']).reshape(\n",
    "            df_copy.shape[0], 1)\n",
    "        matrix = self.df[selected_columns].values\n",
    "        matrix = matrix + np.multiply(condition_1, A) + np.multiply(\n",
    "            condition_2, B) + np.multiply(condition_3, C) + np.multiply(\n",
    "                condition_4, D)\n",
    "        self.df[selected_columns] = pd.DataFrame(matrix,\n",
    "                                                 columns=selected_columns)\n",
    "        del condition_1, condition_2, condition_3, condition_4, A, B, C, D, matrix, df_copy\n",
    "        return self.df\n",
    "\n",
    "    def Multiple_Cost_CGB(self):\n",
    "        self.Multiple_Cost_GB()\n",
    "        selected_columns = self.df.loc[:, 'CGB_m0_w0_r0_f0':\n",
    "                                       'CGB_m18_w3_r3_f5'].columns.tolist()\n",
    "        condition_1 = self.df.Heating_System == 'CGB'\n",
    "        condition_1 = np.array(condition_1).reshape(self.df.shape[0], 1)\n",
    "        condition_2 = (self.df.Heating_System == 'GB')\n",
    "        condition_2 = np.array(condition_2).reshape(self.df.shape[0], 1)\n",
    "        condition_3 = (self.df.Heating_System == 'OB') | (\n",
    "            self.df.Heating_System == 'COB') | (\n",
    "                self.df.Heating_System == 'EHP2') | (\n",
    "                    self.df.Heating_System == 'WPB')\n",
    "        condition_3 = np.array(condition_3).reshape(self.df.shape[0], 1)\n",
    "        condition_4 = (self.df.Heating_System == 'ER') | (\n",
    "            self.df.Heating_System == 'WB') | (self.df.Heating_System == 'EHP')\n",
    "        condition_4 = np.array(condition_4).reshape(self.df.shape[0], 1)\n",
    "        df_copy = self.df.loc[:, 'Initial_Age':]\n",
    "        df_copy = pd.DataFrame(df_copy['Initial_Age']).merge(\n",
    "            df_copy.loc[40:59, :], how='left', on=['Initial_Age'])\n",
    "        A = np.array(df_copy.loc[:, 'Fixed_Cost_1']).reshape(\n",
    "            df_copy.shape[0], 1)\n",
    "        B = np.array(df_copy.loc[:, 'Fixed_Cost_2']).reshape(\n",
    "            df_copy.shape[0], 1)\n",
    "        C = np.array(df_copy.loc[:, 'Fixed_Cost_4']).reshape(\n",
    "            df_copy.shape[0], 1)\n",
    "        D = np.array(df_copy.loc[:, 'Fixed_Cost_5']).reshape(\n",
    "            df_copy.shape[0], 1)\n",
    "        matrix = self.df[selected_columns].values\n",
    "        matrix = matrix + np.multiply(condition_1, A) + np.multiply(\n",
    "            condition_2, B) + np.multiply(condition_3, C) + np.multiply(\n",
    "                condition_4, D)\n",
    "        self.df[selected_columns] = pd.DataFrame(matrix,\n",
    "                                                 columns=selected_columns)\n",
    "        del condition_1, condition_2, condition_3, condition_4, A, B, C, D, matrix, df_copy\n",
    "        return self.df\n",
    "\n",
    "    def Multiple_Cost_OB(self):\n",
    "        self.Multiple_Cost_CGB()\n",
    "        selected_columns = self.df.loc[:, 'OB_m0_w0_r0_f0':\n",
    "                                       'OB_m18_w3_r3_f5'].columns.tolist()\n",
    "        condition_1 = self.df.Heating_System == 'OB'\n",
    "        condition_1 = np.array(condition_1).reshape(self.df.shape[0], 1)\n",
    "        condition_2 = (self.df.Heating_System == 'COB')\n",
    "        condition_2 = np.array(condition_2).reshape(self.df.shape[0], 1)\n",
    "        condition_3 = (self.df.Heating_System == 'GB') | (\n",
    "            self.df.Heating_System == 'CGB') | (\n",
    "                self.df.Heating_System == 'EHP2') | (\n",
    "                    self.df.Heating_System == 'WPB')\n",
    "        condition_3 = np.array(condition_3).reshape(self.df.shape[0], 1)\n",
    "        condition_4 = (self.df.Heating_System == 'ER') | (\n",
    "            self.df.Heating_System == 'WB') | (self.df.Heating_System == 'EHP')\n",
    "        condition_4 = np.array(condition_4).reshape(self.df.shape[0], 1)\n",
    "        df_copy = self.df.loc[:, 'Initial_Age':]\n",
    "        df_copy = pd.DataFrame(df_copy['Initial_Age']).merge(\n",
    "            df_copy.loc[60:79, :], how='left', on=['Initial_Age'])\n",
    "        A = np.array(df_copy.loc[:, 'Fixed_Cost_1']).reshape(\n",
    "            df_copy.shape[0], 1)\n",
    "        B = np.array(df_copy.loc[:, 'Fixed_Cost_2']).reshape(\n",
    "            df_copy.shape[0], 1)\n",
    "        C = np.array(df_copy.loc[:, 'Fixed_Cost_4']).reshape(\n",
    "            df_copy.shape[0], 1)\n",
    "        D = np.array(df_copy.loc[:, 'Fixed_Cost_5']).reshape(\n",
    "            df_copy.shape[0], 1)\n",
    "        matrix = self.df[selected_columns].values\n",
    "        matrix = matrix + np.multiply(condition_1, A) + np.multiply(\n",
    "            condition_2, B) + np.multiply(condition_3, C) + np.multiply(\n",
    "                condition_4, D)\n",
    "        self.df[selected_columns] = pd.DataFrame(matrix,\n",
    "                                                 columns=selected_columns)\n",
    "        del condition_1, condition_2, condition_3, condition_4, A, B, C, D, matrix, df_copy\n",
    "        return self.df\n",
    "\n",
    "    def Multiple_Cost_COB(self):\n",
    "        self.Multiple_Cost_OB()\n",
    "        selected_columns = self.df.loc[:, 'COB_m0_w0_r0_f0':\n",
    "                                       'COB_m18_w3_r3_f5'].columns.tolist()\n",
    "        condition_1 = self.df.Heating_System == 'COB'\n",
    "        condition_1 = np.array(condition_1).reshape(self.df.shape[0], 1)\n",
    "        condition_2 = (self.df.Heating_System == 'OB')\n",
    "        condition_2 = np.array(condition_2).reshape(self.df.shape[0], 1)\n",
    "        condition_3 = (self.df.Heating_System == 'GB') | (\n",
    "            self.df.Heating_System == 'CGB') | (\n",
    "                self.df.Heating_System == 'EHP2') | (\n",
    "                    self.df.Heating_System == 'WPB')\n",
    "        condition_3 = np.array(condition_3).reshape(self.df.shape[0], 1)\n",
    "        condition_4 = (self.df.Heating_System == 'ER') | (\n",
    "            self.df.Heating_System == 'WB') | (self.df.Heating_System == 'EHP')\n",
    "        condition_4 = np.array(condition_4).reshape(self.df.shape[0], 1)\n",
    "        df_copy = self.df.loc[:, 'Initial_Age':]\n",
    "        df_copy = pd.DataFrame(df_copy['Initial_Age']).merge(\n",
    "            df_copy.loc[80:99, :], how='left', on=['Initial_Age'])\n",
    "        A = np.array(df_copy.loc[:, 'Fixed_Cost_1']).reshape(\n",
    "            df_copy.shape[0], 1)\n",
    "        B = np.array(df_copy.loc[:, 'Fixed_Cost_2']).reshape(\n",
    "            df_copy.shape[0], 1)\n",
    "        C = np.array(df_copy.loc[:, 'Fixed_Cost_4']).reshape(\n",
    "            df_copy.shape[0], 1)\n",
    "        D = np.array(df_copy.loc[:, 'Fixed_Cost_5']).reshape(\n",
    "            df_copy.shape[0], 1)\n",
    "        matrix = self.df[selected_columns].values\n",
    "        matrix = matrix + np.multiply(condition_1, A) + np.multiply(\n",
    "            condition_2, B) + np.multiply(condition_3, C) + np.multiply(\n",
    "                condition_4, D)\n",
    "        self.df[selected_columns] = pd.DataFrame(matrix,\n",
    "                                                 columns=selected_columns)\n",
    "        del condition_1, condition_2, condition_3, condition_4, A, B, C, D, matrix, df_copy\n",
    "        return self.df\n",
    "\n",
    "    def Multiple_Cost_EHP2(self):\n",
    "        self.Multiple_Cost_COB()\n",
    "        selected_columns = self.df.loc[:, 'EHP2_m0_w0_r0_f0':\n",
    "                                       'EHP2_m18_w3_r3_f5'].columns.tolist()\n",
    "        condition_1 = self.df.Heating_System == 'EHP2'\n",
    "        condition_1 = np.array(condition_1).reshape(self.df.shape[0], 1)\n",
    "        condition_2 = (self.df.Heating_System == 'GB') | (\n",
    "            self.df.Heating_System == 'CGB') | (\n",
    "                self.df.Heating_System == 'OB') | (\n",
    "                    self.df.Heating_System == 'COB') | (\n",
    "                        self.df.Heating_System == 'WPB')\n",
    "        condition_2 = np.array(condition_2).reshape(self.df.shape[0], 1)\n",
    "        condition_3 = (self.df.Heating_System == 'ER') | (\n",
    "            self.df.Heating_System == 'WB') | (self.df.Heating_System == 'EHP')\n",
    "        condition_3 = np.array(condition_3).reshape(self.df.shape[0], 1)\n",
    "        df_copy = self.df.loc[:, 'Initial_Age':]\n",
    "        df_copy = pd.DataFrame(df_copy['Initial_Age']).merge(\n",
    "            df_copy.loc[100:119, :], how='left', on=['Initial_Age'])\n",
    "        A = np.array(df_copy.loc[:, 'Fixed_Cost_1']).reshape(\n",
    "            df_copy.shape[0], 1)\n",
    "        B = np.array(df_copy.loc[:, 'Fixed_Cost_4']).reshape(\n",
    "            df_copy.shape[0], 1)\n",
    "        C = np.array(df_copy.loc[:, 'Fixed_Cost_5']).reshape(\n",
    "            df_copy.shape[0], 1)\n",
    "        matrix = self.df[selected_columns].values\n",
    "        matrix = matrix + np.multiply(condition_1, A) + np.multiply(\n",
    "            condition_2, B) + np.multiply(condition_3, C)\n",
    "        self.df[selected_columns] = pd.DataFrame(matrix,\n",
    "                                                 columns=selected_columns)\n",
    "        del condition_1, condition_2, condition_3, A, B, C, matrix, df_copy\n",
    "        return self.df\n",
    "\n",
    "    def Multiple_Cost_WB(self):\n",
    "        self.Multiple_Cost_EHP2()\n",
    "        selected_columns = self.df.loc[:, 'WB_m0_w0_r0_f0':\n",
    "                                       'WB_m18_w3_r3_f5'].columns.tolist()\n",
    "        condition_1 = self.df.Heating_System == 'WB'\n",
    "        condition_1 = np.array(condition_1).reshape(self.df.shape[0], 1)\n",
    "        condition_2 = (self.df.Heating_System == 'ER') | (\n",
    "            self.df.Heating_System == 'EHP')\n",
    "        condition_2 = np.array(condition_2).reshape(self.df.shape[0], 1)\n",
    "        condition_3 = (self.df.Heating_System == 'GB') | (\n",
    "            self.df.Heating_System == 'CGB') | (\n",
    "                self.df.Heating_System == 'OB') | (\n",
    "                    self.df.Heating_System == 'COB') | (\n",
    "                        self.df.Heating_System == 'EHP2') | (\n",
    "                            self.df.Heating_System == 'WPB')\n",
    "        condition_3 = np.array(condition_3).reshape(self.df.shape[0], 1)\n",
    "        df_copy = self.df.loc[:, 'Initial_Age':]\n",
    "        df_copy = pd.DataFrame(df_copy['Initial_Age']).merge(\n",
    "            df_copy.loc[120:139, :], how='left', on=['Initial_Age'])\n",
    "        A = np.array(df_copy.loc[:, 'Fixed_Cost_1']).reshape(\n",
    "            df_copy.shape[0], 1)\n",
    "        B = np.array(df_copy.loc[:, 'Fixed_Cost_2']).reshape(\n",
    "            df_copy.shape[0], 1)\n",
    "        C = np.array(df_copy.loc[:, 'Fixed_Cost_5']).reshape(\n",
    "            df_copy.shape[0], 1)\n",
    "        matrix = self.df[selected_columns].values\n",
    "        matrix = matrix + np.multiply(condition_1, A) + np.multiply(\n",
    "            condition_2, B) + np.multiply(condition_3, C)\n",
    "        self.df[selected_columns] = pd.DataFrame(matrix,\n",
    "                                                 columns=selected_columns)\n",
    "        del condition_1, condition_2, condition_3, A, B, C, matrix, df_copy\n",
    "        return self.df\n",
    "\n",
    "    def Multiple_Cost_WPB(self):\n",
    "        self.Multiple_Cost_WB()\n",
    "        selected_columns = self.df.loc[:, 'WPB_m0_w0_r0_f0':\n",
    "                                       'WPB_m18_w3_r3_f5'].columns.tolist()\n",
    "        condition_1 = self.df.Heating_System == 'WPB'\n",
    "        condition_1 = np.array(condition_1).reshape(self.df.shape[0], 1)\n",
    "        condition_2 = (self.df.Heating_System == 'WB')\n",
    "        condition_2 = np.array(condition_2).reshape(self.df.shape[0], 1)\n",
    "        condition_3 = (self.df.Heating_System == 'GB') | (\n",
    "            self.df.Heating_System == 'CGB') | (\n",
    "                self.df.Heating_System == 'OB') | (\n",
    "                    self.df.Heating_System == 'COB') | (\n",
    "                        self.df.Heating_System == 'EHP2')\n",
    "        condition_3 = np.array(condition_3).reshape(self.df.shape[0], 1)\n",
    "        condition_4 = (self.df.Heating_System == 'ER') | (\n",
    "            self.df.Heating_System == 'EHP')\n",
    "        condition_4 = np.array(condition_4).reshape(self.df.shape[0], 1)\n",
    "        df_copy = self.df.loc[:, 'Initial_Age':]\n",
    "        df_copy = pd.DataFrame(df_copy['Initial_Age']).merge(\n",
    "            df_copy.loc[140:159, :], how='left', on=['Initial_Age'])\n",
    "        A = np.array(df_copy.loc[:, 'Fixed_Cost_1']).reshape(\n",
    "            df_copy.shape[0], 1)\n",
    "        B = np.array(df_copy.loc[:, 'Fixed_Cost_3']).reshape(\n",
    "            df_copy.shape[0], 1)\n",
    "        C = np.array(df_copy.loc[:, 'Fixed_Cost_4']).reshape(\n",
    "            df_copy.shape[0], 1)\n",
    "        D = np.array(df_copy.loc[:, 'Fixed_Cost_5']).reshape(\n",
    "            df_copy.shape[0], 1)\n",
    "        matrix = self.df[selected_columns].values\n",
    "        matrix = matrix + np.multiply(condition_1, A) + np.multiply(\n",
    "            condition_2, B) + np.multiply(condition_3, C) + np.multiply(\n",
    "                condition_4, D)\n",
    "        self.df[selected_columns] = pd.DataFrame(matrix,\n",
    "                                                 columns=selected_columns)\n",
    "        del condition_1, condition_2, condition_3, condition_4, A, B, C, D, matrix, df_copy\n",
    "        return self.df\n",
    "\n",
    "    def Multiple_Cost_EHP(self):\n",
    "        self.Multiple_Cost_WPB()\n",
    "        selected_columns = self.df.loc[:, 'EHP_m0_w0_r0_f0':\n",
    "                                       'EHP_m18_w3_r3_f5'].columns.tolist()\n",
    "        condition_1 = self.df.Heating_System == 'EHP'\n",
    "        condition_1 = np.array(condition_1).reshape(self.df.shape[0], 1)\n",
    "        condition_2 = (self.df.Heating_System == 'ER') | (\n",
    "            self.df.Heating_System == 'WB')\n",
    "        condition_2 = np.array(condition_2).reshape(self.df.shape[0], 1)\n",
    "        condition_3 = (self.df.Heating_System == 'GB') | (\n",
    "            self.df.Heating_System == 'CGB') | (\n",
    "                self.df.Heating_System == 'OB') | (\n",
    "                    self.df.Heating_System == 'COB') | (\n",
    "                        self.df.Heating_System == 'EHP2') | (\n",
    "                            self.df.Heating_System == 'WPB')\n",
    "        condition_3 = np.array(condition_3).reshape(self.df.shape[0], 1)\n",
    "        df_copy = self.df.loc[:, 'Initial_Age':]\n",
    "        df_copy = pd.DataFrame(df_copy['Initial_Age']).merge(\n",
    "            df_copy.loc[160:179, :], how='left', on=['Initial_Age'])\n",
    "        A = np.array(df_copy.loc[:, 'Fixed_Cost_1']).reshape(\n",
    "            df_copy.shape[0], 1)\n",
    "        B = np.array(df_copy.loc[:, 'Fixed_Cost_2']).reshape(\n",
    "            df_copy.shape[0], 1)\n",
    "        C = np.array(df_copy.loc[:, 'Fixed_Cost_5']).reshape(\n",
    "            df_copy.shape[0], 1)\n",
    "        matrix = self.df[selected_columns].values\n",
    "        matrix = matrix + np.multiply(condition_1, A) + np.multiply(\n",
    "            condition_2, B) + np.multiply(condition_3, C)\n",
    "        self.df[selected_columns] = pd.DataFrame(matrix,\n",
    "                                                 columns=selected_columns)\n",
    "        del condition_1, condition_2, condition_3, A, B, C, matrix, df_copy\n",
    "        return self.df\n",
    "\n",
    "    def Unvariable_Costs(self):\n",
    "        self.Multiple_Cost_EHP()\n",
    "        return self.df"
   ]
  },
  {
   "cell_type": "code",
   "execution_count": 45,
   "metadata": {
    "ExecuteTime": {
     "end_time": "2019-10-30T16:25:31.653983Z",
     "start_time": "2019-10-30T16:25:31.648869Z"
    },
    "scrolled": true
   },
   "outputs": [
    {
     "data": {
      "text/plain": [
       "[__main__.DF_for_CID_U_Prices,\n",
       " __main__.Columns_for_CID_U_Prices,\n",
       " __main__.CID_Prices,\n",
       " __main__.CID_Type,\n",
       " __main__.All_Types,\n",
       " __main__.Calculable_Columns_for_CxD,\n",
       " __main__.Calculable_Columns,\n",
       " __main__.Calculable_DFs_for_CID,\n",
       " object]"
      ]
     },
     "execution_count": 45,
     "metadata": {},
     "output_type": "execute_result"
    }
   ],
   "source": [
    "DF_for_CID_U_Prices.mro()"
   ]
  },
  {
   "cell_type": "markdown",
   "metadata": {},
   "source": [
    "## Class for the CCD type dwellings"
   ]
  },
  {
   "cell_type": "code",
   "execution_count": 46,
   "metadata": {
    "ExecuteTime": {
     "end_time": "2019-10-30T16:25:32.820862Z",
     "start_time": "2019-10-30T16:25:32.803798Z"
    }
   },
   "outputs": [],
   "source": [
    "class Calculable_DFs_for_CCD():\n",
    "    def Add_GB_Columns(self):\n",
    "        columns_list = []\n",
    "        for m in range(19):\n",
    "            for w in range(4):\n",
    "                for r in range(4):\n",
    "                    for f in range(6):\n",
    "                        column_name = 'GB_m' + str(m) + '_w' + str(\n",
    "                            w) + '_r' + str(r) + '_f' + str(f)\n",
    "                        columns_list.append(column_name)\n",
    "        self.df = pd.concat([\n",
    "            self.df,\n",
    "            pd.DataFrame(0, index=self.df.index, columns=columns_list)\n",
    "        ],\n",
    "                            axis=1)\n",
    "        return self.df\n",
    "\n",
    "    def Fill_GB_Columns(self):\n",
    "        self.Add_GB_Columns()\n",
    "        selected_columns = self.df.loc[:, 'GB_m0_w0_r0_f0':\n",
    "                                       'GB_m18_w3_r3_f5'].columns.tolist()\n",
    "        self.df[selected_columns] = self.df[selected_columns].apply(\n",
    "            lambda x: np.add(\n",
    "                self.df['U_' + x.name.split('_')[1] + '_' + x.name.split('_')[\n",
    "                    2]], self.df['U_' + x.name.split('_')[3] + '_' + x.name.\n",
    "                                 split('_')[4]]))\n",
    "        selected_columns = self.df.loc[:, 'U_m0_w0':'U_r3_f5'].columns.tolist()\n",
    "        self.df = self.df.drop(selected_columns, axis=1)\n",
    "        return self.df\n",
    "\n",
    "    def Generate_CGB_Columns(self):\n",
    "        self.Generate_GB_Columns()\n",
    "        duplicate_df = self.df.loc[:, 'GB_m0_w0_r0_f0':'GB_m18_w3_r3_f5']\n",
    "        duplicate_df.columns = duplicate_df.columns.str.replace('GB_', 'CGB_')\n",
    "        self.df = pd.concat([self.df, duplicate_df], axis=1)\n",
    "        del duplicate_df\n",
    "        return self.df\n",
    "\n",
    "    def Generate_OB_Columns(self):\n",
    "        self.Generate_CGB_Columns()\n",
    "        duplicate_df = self.df.loc[:, 'GB_m0_w0_r0_f0':'GB_m18_w3_r3_f5']\n",
    "        duplicate_df.columns = duplicate_df.columns.str.replace('GB_', 'OB_')\n",
    "        self.df = pd.concat([self.df, duplicate_df], axis=1)\n",
    "        del duplicate_df\n",
    "        return self.df\n",
    "\n",
    "    def Generate_COB_Columns(self):\n",
    "        self.Generate_OB_Columns()\n",
    "        duplicate_df = self.df.loc[:, 'GB_m0_w0_r0_f0':'GB_m18_w3_r3_f5']\n",
    "        duplicate_df.columns = duplicate_df.columns.str.replace('GB_', 'COB_')\n",
    "        self.df = pd.concat([self.df, duplicate_df], axis=1)\n",
    "        del duplicate_df\n",
    "        return self.df\n",
    "\n",
    "    def Generate_EHP2_Columns(self):\n",
    "        self.Generate_COB_Columns()\n",
    "        duplicate_df = self.df.loc[:, 'GB_m0_w0_r0_f0':'GB_m18_w3_r3_f5']\n",
    "        duplicate_df.columns = duplicate_df.columns.str.replace('GB_', 'EHP2_')\n",
    "        self.df = pd.concat([self.df, duplicate_df], axis=1)\n",
    "        del duplicate_df\n",
    "        return self.df\n",
    "\n",
    "    def Generate_WB_Columns(self):\n",
    "        self.Generate_EHP2_Columns()\n",
    "        duplicate_df = self.df.loc[:, 'GB_m0_w0_r0_f0':'GB_m18_w3_r3_f5']\n",
    "        duplicate_df.columns = duplicate_df.columns.str.replace('GB_', 'WB_')\n",
    "        self.df = pd.concat([self.df, duplicate_df], axis=1)\n",
    "        del duplicate_df\n",
    "        return self.df\n",
    "\n",
    "    def Generate_WPB_Columns(self):\n",
    "        self.Generate_WB_Columns()\n",
    "        duplicate_df = self.df.loc[:, 'GB_m0_w0_r0_f0':'GB_m18_w3_r3_f5']\n",
    "        duplicate_df.columns = duplicate_df.columns.str.replace('GB_', 'WPB_')\n",
    "        self.df = pd.concat([self.df, duplicate_df], axis=1)\n",
    "        del duplicate_df\n",
    "        return self.df\n",
    "\n",
    "    def Generate_EHP_Columns(self):\n",
    "        self.Generate_WPB_Columns()\n",
    "        duplicate_df = self.df.loc[:, 'GB_m0_w0_r0_f0':'GB_m18_w3_r3_f5']\n",
    "        duplicate_df.columns = duplicate_df.columns.str.replace('GB_', 'EHP_')\n",
    "        self.df = pd.concat([self.df, duplicate_df], axis=1)\n",
    "        del duplicate_df\n",
    "        return self.df"
   ]
  },
  {
   "cell_type": "code",
   "execution_count": 47,
   "metadata": {
    "ExecuteTime": {
     "end_time": "2019-10-30T16:25:32.897974Z",
     "start_time": "2019-10-30T16:25:32.893594Z"
    }
   },
   "outputs": [
    {
     "data": {
      "text/plain": [
       "[__main__.Calculable_DFs_for_CCD, object]"
      ]
     },
     "execution_count": 47,
     "metadata": {},
     "output_type": "execute_result"
    }
   ],
   "source": [
    "Calculable_DFs_for_CCD.mro()"
   ]
  },
  {
   "cell_type": "markdown",
   "metadata": {},
   "source": [
    "### Class for the DataFrame with U Factors"
   ]
  },
  {
   "cell_type": "code",
   "execution_count": 48,
   "metadata": {
    "ExecuteTime": {
     "end_time": "2019-10-30T16:25:34.182375Z",
     "start_time": "2019-10-30T16:25:34.134159Z"
    }
   },
   "outputs": [],
   "source": [
    "class DF_for_CCD_U_Factors(Columns_for_CCD_U_Factors, Calculable_DFs_for_CCD):\n",
    "    def __init__(self, year, *args):\n",
    "        super().__init__(year, *args)\n",
    "        self.Add_Created_Columns()\n",
    "\n",
    "    def Weighted_Surface_Total(self):\n",
    "        self.Fill_GB_Columns()\n",
    "        return self.df\n",
    "\n",
    "    def Enlarged_Weighted_Surface_Total(self):\n",
    "        self.Weighted_Surface_Total()\n",
    "        selected_columns = self.df.loc[:, 'GB_m0_w0_r0_f0':\n",
    "                                       'GB_m18_w3_r3_f5'].columns.tolist()\n",
    "        self.copied_df = self.df[selected_columns].copy()\n",
    "        self.copied_df = self.copied_df.apply(lambda x: np.add(\n",
    "            np.multiply(9, self.df.Heightened_Surface_Habitable),\n",
    "            np.multiply(2.5, x)))\n",
    "        return self.copied_df\n",
    "\n",
    "    def UEN_per_Dwelling_1(self):\n",
    "        self.Enlarged_Weighted_Surface_Total()\n",
    "        selected_columns = self.df.loc[:, 'GB_m0_w0_r0_f0':\n",
    "                                       'GB_m18_w3_r3_f5'].columns.tolist()\n",
    "        self.df[selected_columns] = self.df[selected_columns].div(\n",
    "            self.copied_df)\n",
    "        del self.copied_df\n",
    "        return self.df\n",
    "\n",
    "    def UEN_per_Dwelling(self):\n",
    "        self.UEN_per_Dwelling_1()\n",
    "        selected_columns = self.df.loc[:, 'GB_m0_w0_r0_f0':\n",
    "                                       'GB_m18_w3_r3_f5'].columns.tolist()\n",
    "        self.df[selected_columns] = self.df[selected_columns].apply(\n",
    "            lambda x: np.multiply(x, self.df.UEN_per_Dwelling_2))\n",
    "        return self.df\n",
    "\n",
    "    def Generate_GB_Columns(self):\n",
    "        self.UEN_per_Dwelling()\n",
    "        return self.df\n",
    "\n",
    "    def GHC_UEN_GB(self):\n",
    "        self.Generate_EHP_Columns()\n",
    "        selected_columns = self.df.loc[:, 'GB_m0_w0_r0_f0':\n",
    "                                       'GB_m18_w3_r3_f5'].columns.tolist()\n",
    "        condition_1 = self.df.Heating_System == 'GB'\n",
    "        condition_1 = np.array(condition_1).reshape(self.df.shape[0], 1)\n",
    "        condition_2 = (self.df.Heating_System == 'CGB') | (\n",
    "            self.df.Heating_System == 'EHP2') | (\n",
    "                self.df.Heating_System == 'WB') | (\n",
    "                    self.df.Heating_System == 'WPB') | (\n",
    "                        self.df.Heating_System == 'EHP')\n",
    "        condition_2 = np.array(condition_2).reshape(self.df.shape[0], 1)\n",
    "        condition_3 = (self.df.Heating_System == 'OB') | (\n",
    "            self.df.Heating_System == 'COB')\n",
    "        condition_3 = np.array(condition_3).reshape(self.df.shape[0], 1)\n",
    "        df_copy = self.df.loc[:, 'Initial_Age':]\n",
    "        df_copy = pd.DataFrame(df_copy['Initial_Age']).merge(\n",
    "            df_copy.loc[:19, :], how='left', on=['Initial_Age'])\n",
    "        A = np.array(df_copy.loc[:, 'UEN_Cost_1']).reshape(df_copy.shape[0], 1)\n",
    "        B = np.array(df_copy.loc[:, 'UEN_Cost_2']).reshape(df_copy.shape[0], 1)\n",
    "        C = np.array(df_copy.loc[:, 'UEN_Cost_3']).reshape(df_copy.shape[0], 1)\n",
    "        matrix = self.df[selected_columns].values\n",
    "        matrix = np.multiply(\n",
    "            matrix, np.multiply(condition_1, A)) + np.multiply(\n",
    "                matrix, np.multiply(condition_2, B)) + np.multiply(\n",
    "                    matrix, np.multiply(condition_3, C))\n",
    "        self.df[selected_columns] = pd.DataFrame(matrix,\n",
    "                                                 columns=selected_columns)\n",
    "        del condition_1, condition_2, condition_3, A, B, C, matrix, df_copy\n",
    "        return self.df\n",
    "\n",
    "    def GHC_UEN_CGB(self):\n",
    "        self.GHC_UEN_GB()\n",
    "        selected_columns = self.df.loc[:, 'CGB_m0_w0_r0_f0':\n",
    "                                       'CGB_m18_w3_r3_f5'].columns.tolist()\n",
    "        condition_1 = self.df.Heating_System == 'CGB'\n",
    "        condition_1 = np.array(condition_1).reshape(self.df.shape[0], 1)\n",
    "        condition_2 = (self.df.Heating_System == 'GB') | (\n",
    "            self.df.Heating_System == 'EHP2') | (\n",
    "                self.df.Heating_System == 'WB') | (\n",
    "                    self.df.Heating_System == 'WPB') | (\n",
    "                        self.df.Heating_System == 'EHP')\n",
    "        condition_2 = np.array(condition_2).reshape(self.df.shape[0], 1)\n",
    "        condition_3 = (self.df.Heating_System == 'OB') | (\n",
    "            self.df.Heating_System == 'COB')\n",
    "        condition_3 = np.array(condition_3).reshape(self.df.shape[0], 1)\n",
    "        df_copy = self.df.loc[:, 'Initial_Age':]\n",
    "        df_copy = pd.DataFrame(df_copy['Initial_Age']).merge(\n",
    "            df_copy.loc[20:39, :], how='left', on=['Initial_Age'])\n",
    "        A = np.array(df_copy.loc[:, 'UEN_Cost_1']).reshape(df_copy.shape[0], 1)\n",
    "        B = np.array(df_copy.loc[:, 'UEN_Cost_2']).reshape(df_copy.shape[0], 1)\n",
    "        C = np.array(df_copy.loc[:, 'UEN_Cost_3']).reshape(df_copy.shape[0], 1)\n",
    "        matrix = self.df[selected_columns].values\n",
    "        matrix = np.multiply(\n",
    "            matrix, np.multiply(condition_1, A)) + np.multiply(\n",
    "                matrix, np.multiply(condition_2, B)) + np.multiply(\n",
    "                    matrix, np.multiply(condition_3, C))\n",
    "        self.df[selected_columns] = pd.DataFrame(matrix,\n",
    "                                                 columns=selected_columns)\n",
    "        del condition_1, condition_2, condition_3, A, B, C, matrix, df_copy\n",
    "        return self.df\n",
    "\n",
    "    def GHC_UEN_OB(self):\n",
    "        self.GHC_UEN_CGB()\n",
    "        selected_columns = self.df.loc[:, 'OB_m0_w0_r0_f0':\n",
    "                                       'OB_m18_w3_r3_f5'].columns.tolist()\n",
    "        condition_1 = self.df.Heating_System == 'OB'\n",
    "        condition_1 = np.array(condition_1).reshape(self.df.shape[0], 1)\n",
    "        condition_2 = ~condition_1\n",
    "        df_copy = self.df.loc[:, 'Initial_Age':]\n",
    "        df_copy = pd.DataFrame(df_copy['Initial_Age']).merge(\n",
    "            df_copy.loc[40:59, :], how='left', on=['Initial_Age'])\n",
    "        A = np.array(df_copy.loc[:, 'UEN_Cost_1']).reshape(df_copy.shape[0], 1)\n",
    "        B = np.array(df_copy.loc[:, 'UEN_Cost_2']).reshape(df_copy.shape[0], 1)\n",
    "        matrix = self.df[selected_columns].values\n",
    "        matrix = np.multiply(matrix, np.multiply(\n",
    "            condition_1, A)) + np.multiply(matrix, np.multiply(condition_2, B))\n",
    "        self.df[selected_columns] = pd.DataFrame(matrix,\n",
    "                                                 columns=selected_columns)\n",
    "        del condition_1, condition_2, A, B, matrix, df_copy\n",
    "        return self.df\n",
    "\n",
    "    def GHC_UEN_COB(self):\n",
    "        self.GHC_UEN_OB()\n",
    "        selected_columns = self.df.loc[:, 'COB_m0_w0_r0_f0':\n",
    "                                       'COB_m18_w3_r3_f5'].columns.tolist()\n",
    "        condition_1 = self.df.Heating_System == 'COB'\n",
    "        condition_1 = np.array(condition_1).reshape(self.df.shape[0], 1)\n",
    "        condition_2 = ~condition_1\n",
    "        df_copy = self.df.loc[:, 'Initial_Age':]\n",
    "        df_copy = pd.DataFrame(df_copy['Initial_Age']).merge(\n",
    "            df_copy.loc[60:79, :], how='left', on=['Initial_Age'])\n",
    "        A = np.array(df_copy.loc[:, 'UEN_Cost_1']).reshape(df_copy.shape[0], 1)\n",
    "        B = np.array(df_copy.loc[:, 'UEN_Cost_2']).reshape(df_copy.shape[0], 1)\n",
    "        matrix = self.df[selected_columns].values\n",
    "        matrix = np.multiply(matrix, np.multiply(\n",
    "            condition_1, A)) + np.multiply(matrix, np.multiply(condition_2, B))\n",
    "        self.df[selected_columns] = pd.DataFrame(matrix,\n",
    "                                                 columns=selected_columns)\n",
    "        del condition_1, condition_2, A, B, matrix, df_copy\n",
    "        return self.df\n",
    "\n",
    "    def GHC_UEN_EHP2(self):\n",
    "        self.GHC_UEN_COB()\n",
    "        selected_columns = self.df.loc[:, 'EHP2_m0_w0_r0_f0':\n",
    "                                       'EHP2_m18_w3_r3_f5'].columns.tolist()\n",
    "        condition_1 = self.df.Heating_System == 'EHP2'\n",
    "        condition_1 = np.array(condition_1).reshape(self.df.shape[0], 1)\n",
    "        condition_2 = ~condition_1\n",
    "        df_copy = self.df.loc[:, 'Initial_Age':]\n",
    "        df_copy = pd.DataFrame(df_copy['Initial_Age']).merge(\n",
    "            df_copy.loc[80:99, :], how='left', on=['Initial_Age'])\n",
    "        A = np.array(df_copy.loc[:, 'UEN_Cost_1']).reshape(df_copy.shape[0], 1)\n",
    "        B = np.array(df_copy.loc[:, 'UEN_Cost_2']).reshape(df_copy.shape[0], 1)\n",
    "        matrix = self.df[selected_columns].values\n",
    "        matrix = np.multiply(matrix, np.multiply(\n",
    "            condition_1, A)) + np.multiply(matrix, np.multiply(condition_2, B))\n",
    "        self.df[selected_columns] = pd.DataFrame(matrix,\n",
    "                                                 columns=selected_columns)\n",
    "        del condition_1, condition_2, A, B, matrix, df_copy\n",
    "        return self.df\n",
    "\n",
    "    def GHC_UEN_WB(self):\n",
    "        self.GHC_UEN_EHP2()\n",
    "        selected_columns = self.df.loc[:, 'WB_m0_w0_r0_f0':\n",
    "                                       'WB_m18_w3_r3_f5'].columns.tolist()\n",
    "        condition_1 = self.df.Heating_System == 'WB'\n",
    "        condition_1 = np.array(condition_1).reshape(self.df.shape[0], 1)\n",
    "        condition_2 = ~condition_1\n",
    "        df_copy = self.df.loc[:, 'Initial_Age':]\n",
    "        df_copy = pd.DataFrame(df_copy['Initial_Age']).merge(\n",
    "            df_copy.loc[100:119, :], how='left', on=['Initial_Age'])\n",
    "        A = np.array(df_copy.loc[:, 'UEN_Cost_1']).reshape(df_copy.shape[0], 1)\n",
    "        B = np.array(df_copy.loc[:, 'UEN_Cost_2']).reshape(df_copy.shape[0], 1)\n",
    "        matrix = self.df[selected_columns].values\n",
    "        matrix = np.multiply(matrix, np.multiply(\n",
    "            condition_1, A)) + np.multiply(matrix, np.multiply(condition_2, B))\n",
    "        self.df[selected_columns] = pd.DataFrame(matrix,\n",
    "                                                 columns=selected_columns)\n",
    "        del condition_1, condition_2, A, B, matrix, df_copy\n",
    "        return self.df\n",
    "\n",
    "    def GHC_UEN_WPB(self):\n",
    "        self.GHC_UEN_WB()\n",
    "        selected_columns = self.df.loc[:, 'WPB_m0_w0_r0_f0':\n",
    "                                       'WPB_m18_w3_r3_f5'].columns.tolist()\n",
    "        condition_1 = self.df.Heating_System == 'WPB'\n",
    "        condition_1 = np.array(condition_1).reshape(self.df.shape[0], 1)\n",
    "        condition_2 = ~condition_1\n",
    "        df_copy = self.df.loc[:, 'Initial_Age':]\n",
    "        df_copy = pd.DataFrame(df_copy['Initial_Age']).merge(\n",
    "            df_copy.loc[120:139, :], how='left', on=['Initial_Age'])\n",
    "        A = np.array(df_copy.loc[:, 'UEN_Cost_1']).reshape(df_copy.shape[0], 1)\n",
    "        B = np.array(df_copy.loc[:, 'UEN_Cost_2']).reshape(df_copy.shape[0], 1)\n",
    "        matrix = self.df[selected_columns].values\n",
    "        matrix = np.multiply(matrix, np.multiply(\n",
    "            condition_1, A)) + np.multiply(matrix, np.multiply(condition_2, B))\n",
    "        self.df[selected_columns] = pd.DataFrame(matrix,\n",
    "                                                 columns=selected_columns)\n",
    "        del condition_1, condition_2, A, B, matrix, df_copy\n",
    "        return self.df\n",
    "\n",
    "    def GHC_UEN_EHP(self):\n",
    "        self.GHC_UEN_WPB()\n",
    "        selected_columns = self.df.loc[:, 'EHP_m0_w0_r0_f0':\n",
    "                                       'EHP_m18_w3_r3_f5'].columns.tolist()\n",
    "        condition_1 = self.df.Heating_System == 'EHP'\n",
    "        condition_1 = np.array(condition_1).reshape(self.df.shape[0], 1)\n",
    "        condition_2 = ~condition_1\n",
    "        df_copy = self.df.loc[:, 'Initial_Age':]\n",
    "        df_copy = pd.DataFrame(df_copy['Initial_Age']).merge(\n",
    "            df_copy.loc[140:159, :], how='left', on=['Initial_Age'])\n",
    "        A = np.array(df_copy.loc[:, 'UEN_Cost_1']).reshape(df_copy.shape[0], 1)\n",
    "        B = np.array(df_copy.loc[:, 'UEN_Cost_2']).reshape(df_copy.shape[0], 1)\n",
    "        matrix = self.df[selected_columns].values\n",
    "        matrix = np.multiply(matrix, np.multiply(\n",
    "            condition_1, A)) + np.multiply(matrix, np.multiply(condition_2, B))\n",
    "        self.df[selected_columns] = pd.DataFrame(matrix,\n",
    "                                                 columns=selected_columns)\n",
    "        del condition_1, condition_2, A, B, matrix, df_copy\n",
    "        return self.df\n",
    "\n",
    "    def GHC_UEN_Conditions(self):\n",
    "        self.GHC_UEN_EHP()\n",
    "        return self.df"
   ]
  },
  {
   "cell_type": "code",
   "execution_count": 49,
   "metadata": {
    "ExecuteTime": {
     "end_time": "2019-10-30T16:25:34.273125Z",
     "start_time": "2019-10-30T16:25:34.268872Z"
    }
   },
   "outputs": [
    {
     "data": {
      "text/plain": [
       "[__main__.DF_for_CCD_U_Factors,\n",
       " __main__.Columns_for_CCD_U_Factors,\n",
       " __main__.CCD_Factors,\n",
       " __main__.CCD_Type,\n",
       " __main__.All_Types,\n",
       " __main__.Calculable_Columns_for_CxD,\n",
       " __main__.Calculable_Columns,\n",
       " __main__.Calculable_DFs_for_CCD,\n",
       " object]"
      ]
     },
     "execution_count": 49,
     "metadata": {},
     "output_type": "execute_result"
    }
   ],
   "source": [
    "DF_for_CCD_U_Factors.mro()"
   ]
  },
  {
   "cell_type": "markdown",
   "metadata": {},
   "source": [
    "### Class for the DataFrame with U Prices"
   ]
  },
  {
   "cell_type": "code",
   "execution_count": null,
   "metadata": {
    "ExecuteTime": {
     "start_time": "2019-10-30T16:25:35.545Z"
    }
   },
   "outputs": [],
   "source": [
    "class DF_for_CCD_U_Prices(Columns_for_CCD_U_Prices, Calculable_DFs_for_CCD):\n",
    "    def __init__(self, year, *args):\n",
    "        super().__init__(year, *args)\n",
    "        self.Add_Created_Columns()\n",
    "\n",
    "    def Insulation_Cost(self):\n",
    "        self.Fill_GB_Columns()\n",
    "        return self.df\n",
    "\n",
    "    def Generate_GB_Columns(self):\n",
    "        self.Insulation_Cost()\n",
    "        return self.df\n",
    "\n",
    "    def Multiple_Cost_GB(self):\n",
    "        self.Generate_EHP_Columns()\n",
    "        selected_columns = self.df.loc[:, 'GB_m0_w0_r0_f0':\n",
    "                                       'GB_m18_w3_r3_f5'].columns.tolist()\n",
    "        condition_1 = self.df.Heating_System == 'GB'\n",
    "        condition_1 = np.array(condition_1).reshape(self.df.shape[0], 1)\n",
    "        condition_2 = (self.df.Heating_System == 'CGB')\n",
    "        condition_2 = np.array(condition_2).reshape(self.df.shape[0], 1)\n",
    "        condition_3 = (self.df.Heating_System == 'OB') | (\n",
    "            self.df.Heating_System == 'COB') | (\n",
    "                self.df.Heating_System == 'EHP2') | (\n",
    "                    self.df.Heating_System == 'WPB')\n",
    "        condition_3 = np.array(condition_3).reshape(self.df.shape[0], 1)\n",
    "        condition_4 = (self.df.Heating_System == 'WB') | (\n",
    "            self.df.Heating_System == 'EHP')\n",
    "        condition_4 = np.array(condition_4).reshape(self.df.shape[0], 1)\n",
    "        df_copy = self.df.loc[:, 'Initial_Age':]\n",
    "        df_copy = pd.DataFrame(df_copy['Initial_Age']).merge(\n",
    "            df_copy.loc[:19, :], how='left', on=['Initial_Age'])\n",
    "        A = np.array(df_copy.loc[:, 'Fixed_Cost_1']).reshape(\n",
    "            df_copy.shape[0], 1)\n",
    "        B = np.array(df_copy.loc[:, 'Fixed_Cost_2']).reshape(\n",
    "            df_copy.shape[0], 1)\n",
    "        C = np.array(df_copy.loc[:, 'Fixed_Cost_4']).reshape(\n",
    "            df_copy.shape[0], 1)\n",
    "        D = np.array(df_copy.loc[:, 'Fixed_Cost_5']).reshape(\n",
    "            df_copy.shape[0], 1)\n",
    "        matrix = self.df[selected_columns].values\n",
    "        matrix = matrix + np.multiply(condition_1, A) + np.multiply(\n",
    "            condition_2, B) + np.multiply(condition_3, C) + np.multiply(\n",
    "                condition_4, D)\n",
    "        self.df[selected_columns] = pd.DataFrame(matrix,\n",
    "                                                 columns=selected_columns)\n",
    "        del condition_1, condition_2, condition_3, condition_4, A, B, C, D, matrix, df_copy\n",
    "        return self.df\n",
    "\n",
    "    def Multiple_Cost_CGB(self):\n",
    "        self.Multiple_Cost_GB()\n",
    "        selected_columns = self.df.loc[:, 'CGB_m0_w0_r0_f0':\n",
    "                                       'CGB_m18_w3_r3_f5'].columns.tolist()\n",
    "        condition_1 = self.df.Heating_System == 'CGB'\n",
    "        condition_1 = np.array(condition_1).reshape(self.df.shape[0], 1)\n",
    "        condition_2 = (self.df.Heating_System == 'GB')\n",
    "        condition_2 = np.array(condition_2).reshape(self.df.shape[0], 1)\n",
    "        condition_3 = (self.df.Heating_System == 'OB') | (\n",
    "            self.df.Heating_System == 'COB') | (\n",
    "                self.df.Heating_System == 'EHP2') | (\n",
    "                    self.df.Heating_System == 'WPB')\n",
    "        condition_3 = np.array(condition_3).reshape(self.df.shape[0], 1)\n",
    "        condition_4 = (self.df.Heating_System == 'WB') | (\n",
    "            self.df.Heating_System == 'EHP')\n",
    "        condition_4 = np.array(condition_4).reshape(self.df.shape[0], 1)\n",
    "        df_copy = self.df.loc[:, 'Initial_Age':]\n",
    "        df_copy = pd.DataFrame(df_copy['Initial_Age']).merge(\n",
    "            df_copy.loc[20:39, :], how='left', on=['Initial_Age'])\n",
    "        A = np.array(df_copy.loc[:, 'Fixed_Cost_1']).reshape(\n",
    "            df_copy.shape[0], 1)\n",
    "        B = np.array(df_copy.loc[:, 'Fixed_Cost_2']).reshape(\n",
    "            df_copy.shape[0], 1)\n",
    "        C = np.array(df_copy.loc[:, 'Fixed_Cost_4']).reshape(\n",
    "            df_copy.shape[0], 1)\n",
    "        D = np.array(df_copy.loc[:, 'Fixed_Cost_5']).reshape(\n",
    "            df_copy.shape[0], 1)\n",
    "        matrix = self.df[selected_columns].values\n",
    "        matrix = matrix + np.multiply(condition_1, A) + np.multiply(\n",
    "            condition_2, B) + np.multiply(condition_3, C) + np.multiply(\n",
    "                condition_4, D)\n",
    "        self.df[selected_columns] = pd.DataFrame(matrix,\n",
    "                                                 columns=selected_columns)\n",
    "        del condition_1, condition_2, condition_3, condition_4, A, B, C, D, matrix, df_copy\n",
    "        return self.df\n",
    "\n",
    "    def Multiple_Cost_OB(self):\n",
    "        self.Multiple_Cost_CGB()\n",
    "        selected_columns = self.df.loc[:, 'OB_m0_w0_r0_f0':\n",
    "                                       'OB_m18_w3_r3_f5'].columns.tolist()\n",
    "        condition_1 = self.df.Heating_System == 'OB'\n",
    "        condition_1 = np.array(condition_1).reshape(self.df.shape[0], 1)\n",
    "        condition_2 = (self.df.Heating_System == 'COB')\n",
    "        condition_2 = np.array(condition_2).reshape(self.df.shape[0], 1)\n",
    "        condition_3 = (self.df.Heating_System == 'GB') | (\n",
    "            self.df.Heating_System == 'CGB') | (\n",
    "                self.df.Heating_System == 'EHP2') | (\n",
    "                    self.df.Heating_System == 'WPB')\n",
    "        condition_3 = np.array(condition_3).reshape(self.df.shape[0], 1)\n",
    "        condition_4 = (self.df.Heating_System == 'WB') | (\n",
    "            self.df.Heating_System == 'EHP')\n",
    "        condition_4 = np.array(condition_4).reshape(self.df.shape[0], 1)\n",
    "        df_copy = self.df.loc[:, 'Initial_Age':]\n",
    "        df_copy = pd.DataFrame(df_copy['Initial_Age']).merge(\n",
    "            df_copy.loc[40:59, :], how='left', on=['Initial_Age'])\n",
    "        A = np.array(df_copy.loc[:, 'Fixed_Cost_1']).reshape(\n",
    "            df_copy.shape[0], 1)\n",
    "        B = np.array(df_copy.loc[:, 'Fixed_Cost_2']).reshape(\n",
    "            df_copy.shape[0], 1)\n",
    "        C = np.array(df_copy.loc[:, 'Fixed_Cost_4']).reshape(\n",
    "            df_copy.shape[0], 1)\n",
    "        D = np.array(df_copy.loc[:, 'Fixed_Cost_5']).reshape(\n",
    "            df_copy.shape[0], 1)\n",
    "        matrix = self.df[selected_columns].values\n",
    "        matrix = matrix + np.multiply(condition_1, A) + np.multiply(\n",
    "            condition_2, B) + np.multiply(condition_3, C) + np.multiply(\n",
    "                condition_4, D)\n",
    "        self.df[selected_columns] = pd.DataFrame(matrix,\n",
    "                                                 columns=selected_columns)\n",
    "        del condition_1, condition_2, condition_3, condition_4, A, B, C, D, matrix, df_copy\n",
    "        return self.df\n",
    "\n",
    "    def Multiple_Cost_COB(self):\n",
    "        self.Multiple_Cost_OB()\n",
    "        selected_columns = self.df.loc[:, 'COB_m0_w0_r0_f0':\n",
    "                                       'COB_m18_w3_r3_f5'].columns.tolist()\n",
    "        condition_1 = self.df.Heating_System == 'COB'\n",
    "        condition_1 = np.array(condition_1).reshape(self.df.shape[0], 1)\n",
    "        condition_2 = (self.df.Heating_System == 'OB')\n",
    "        condition_2 = np.array(condition_2).reshape(self.df.shape[0], 1)\n",
    "        condition_3 = (self.df.Heating_System == 'GB') | (\n",
    "            self.df.Heating_System == 'CGB') | (\n",
    "                self.df.Heating_System == 'EHP2') | (\n",
    "                    self.df.Heating_System == 'WPB')\n",
    "        condition_3 = np.array(condition_3).reshape(self.df.shape[0], 1)\n",
    "        condition_4 = (self.df.Heating_System == 'WB') | (\n",
    "            self.df.Heating_System == 'EHP')\n",
    "        condition_4 = np.array(condition_4).reshape(self.df.shape[0], 1)\n",
    "        df_copy = self.df.loc[:, 'Initial_Age':]\n",
    "        df_copy = pd.DataFrame(df_copy['Initial_Age']).merge(\n",
    "            df_copy.loc[60:79, :], how='left', on=['Initial_Age'])\n",
    "        A = np.array(df_copy.loc[:, 'Fixed_Cost_1']).reshape(\n",
    "            df_copy.shape[0], 1)\n",
    "        B = np.array(df_copy.loc[:, 'Fixed_Cost_2']).reshape(\n",
    "            df_copy.shape[0], 1)\n",
    "        C = np.array(df_copy.loc[:, 'Fixed_Cost_4']).reshape(\n",
    "            df_copy.shape[0], 1)\n",
    "        D = np.array(df_copy.loc[:, 'Fixed_Cost_5']).reshape(\n",
    "            df_copy.shape[0], 1)\n",
    "        matrix = self.df[selected_columns].values\n",
    "        matrix = matrix + np.multiply(condition_1, A) + np.multiply(\n",
    "            condition_2, B) + np.multiply(condition_3, C) + np.multiply(\n",
    "                condition_4, D)\n",
    "        self.df[selected_columns] = pd.DataFrame(matrix,\n",
    "                                                 columns=selected_columns)\n",
    "        del condition_1, condition_2, condition_3, condition_4, A, B, C, D, matrix, df_copy\n",
    "        return self.df\n",
    "\n",
    "    def Multiple_Cost_EHP2(self):\n",
    "        self.Multiple_Cost_COB()\n",
    "        selected_columns = self.df.loc[:, 'EHP2_m0_w0_r0_f0':\n",
    "                                       'EHP2_m18_w3_r3_f5'].columns.tolist()\n",
    "        condition_1 = self.df.Heating_System == 'EHP2'\n",
    "        condition_1 = np.array(condition_1).reshape(self.df.shape[0], 1)\n",
    "        condition_2 = (self.df.Heating_System == 'GB') | (\n",
    "            self.df.Heating_System == 'CGB') | (\n",
    "                self.df.Heating_System == 'OB') | (\n",
    "                    self.df.Heating_System == 'COB') | (\n",
    "                        self.df.Heating_System == 'WPB')\n",
    "        condition_2 = np.array(condition_2).reshape(self.df.shape[0], 1)\n",
    "        condition_3 = (self.df.Heating_System == 'WB') | (\n",
    "            self.df.Heating_System == 'EHP')\n",
    "        condition_3 = np.array(condition_3).reshape(self.df.shape[0], 1)\n",
    "        df_copy = self.df.loc[:, 'Initial_Age':]\n",
    "        df_copy = pd.DataFrame(df_copy['Initial_Age']).merge(\n",
    "            df_copy.loc[80:99, :], how='left', on=['Initial_Age'])\n",
    "        A = np.array(df_copy.loc[:, 'Fixed_Cost_1']).reshape(\n",
    "            df_copy.shape[0], 1)\n",
    "        B = np.array(df_copy.loc[:, 'Fixed_Cost_4']).reshape(\n",
    "            df_copy.shape[0], 1)\n",
    "        C = np.array(df_copy.loc[:, 'Fixed_Cost_5']).reshape(\n",
    "            df_copy.shape[0], 1)\n",
    "        matrix = self.df[selected_columns].values\n",
    "        matrix = matrix + np.multiply(condition_1, A) + np.multiply(\n",
    "            condition_2, B) + np.multiply(condition_3, C)\n",
    "        self.df[selected_columns] = pd.DataFrame(matrix,\n",
    "                                                 columns=selected_columns)\n",
    "        del condition_1, condition_2, condition_3, A, B, C, matrix, df_copy\n",
    "        return self.df\n",
    "\n",
    "    def Multiple_Cost_WB(self):\n",
    "        self.Multiple_Cost_EHP2()\n",
    "        selected_columns = self.df.loc[:, 'WB_m0_w0_r0_f0':\n",
    "                                       'WB_m18_w3_r3_f5'].columns.tolist()\n",
    "        condition_1 = self.df.Heating_System == 'WB'\n",
    "        condition_1 = np.array(condition_1).reshape(self.df.shape[0], 1)\n",
    "        condition_2 = self.df.Heating_System == 'WPB'\n",
    "        condition_2 = np.array(condition_2).reshape(self.df.shape[0], 1)\n",
    "        condition_3 = self.df.Heating_System == 'EHP'\n",
    "        condition_3 = np.array(condition_3).reshape(self.df.shape[0], 1)\n",
    "        condition_4 = (self.df.Heating_System == 'GB') | (\n",
    "            self.df.Heating_System == 'CGB') | (\n",
    "                self.df.Heating_System == 'OB') | (\n",
    "                    self.df.Heating_System == 'COB') | (\n",
    "                        self.df.Heating_System == 'EHP2')\n",
    "        condition_4 = np.array(condition_4).reshape(self.df.shape[0], 1)\n",
    "        df_copy = self.df.loc[:, 'Initial_Age':]\n",
    "        df_copy = pd.DataFrame(df_copy['Initial_Age']).merge(\n",
    "            df_copy.loc[100:119, :], how='left', on=['Initial_Age'])\n",
    "        A = np.array(df_copy.loc[:, 'Fixed_Cost_1']).reshape(\n",
    "            df_copy.shape[0], 1)\n",
    "        B = np.array(df_copy.loc[:, 'Fixed_Cost_3']).reshape(\n",
    "            df_copy.shape[0], 1)\n",
    "        C = np.array(df_copy.loc[:, 'Fixed_Cost_4']).reshape(\n",
    "            df_copy.shape[0], 1)\n",
    "        D = np.array(df_copy.loc[:, 'Fixed_Cost_5']).reshape(\n",
    "            df_copy.shape[0], 1)\n",
    "        matrix = self.df[selected_columns].values\n",
    "        matrix = matrix + np.multiply(condition_1, A) + np.multiply(\n",
    "            condition_2, B) + np.multiply(condition_3, C) + np.multiply(\n",
    "                condition_4, D)\n",
    "        self.df[selected_columns] = pd.DataFrame(matrix,\n",
    "                                                 columns=selected_columns)\n",
    "        del condition_1, condition_2, condition_3, condition_4, A, B, C, D, matrix, df_copy\n",
    "        return self.df\n",
    "\n",
    "    def Multiple_Cost_WPB(self):\n",
    "        self.Multiple_Cost_WB()\n",
    "        selected_columns = self.df.loc[:, 'WPB_m0_w0_r0_f0':\n",
    "                                       'WPB_m18_w3_r3_f5'].columns.tolist()\n",
    "        condition_1 = self.df.Heating_System == 'WPB'\n",
    "        condition_1 = np.array(condition_1).reshape(self.df.shape[0], 1)\n",
    "        condition_2 = self.df.Heating_System == 'WB'\n",
    "        condition_2 = np.array(condition_2).reshape(self.df.shape[0], 1)\n",
    "        condition_3 = (self.df.Heating_System == 'GB') | (\n",
    "            self.df.Heating_System == 'CGB') | (\n",
    "                self.df.Heating_System == 'OB') | (\n",
    "                    self.df.Heating_System == 'COB') | (\n",
    "                        self.df.Heating_System == 'EHP2')\n",
    "        condition_3 = np.array(condition_3).reshape(self.df.shape[0], 1)\n",
    "        condition_4 = self.df.Heating_System == 'EHP'\n",
    "        condition_4 = np.array(condition_4).reshape(self.df.shape[0], 1)\n",
    "        df_copy = self.df.loc[:, 'Initial_Age':]\n",
    "        df_copy = pd.DataFrame(df_copy['Initial_Age']).merge(\n",
    "            df_copy.loc[120:139, :], how='left', on=['Initial_Age'])\n",
    "        A = np.array(df_copy.loc[:, 'Fixed_Cost_1']).reshape(\n",
    "            df_copy.shape[0], 1)\n",
    "        B = np.array(df_copy.loc[:, 'Fixed_Cost_3']).reshape(\n",
    "            df_copy.shape[0], 1)\n",
    "        C = np.array(df_copy.loc[:, 'Fixed_Cost_4']).reshape(\n",
    "            df_copy.shape[0], 1)\n",
    "        D = np.array(df_copy.loc[:, 'Fixed_Cost_5']).reshape(\n",
    "            df_copy.shape[0], 1)\n",
    "        matrix = self.df[selected_columns].values\n",
    "        matrix = matrix + np.multiply(condition_1, A) + np.multiply(\n",
    "            condition_2, B) + np.multiply(condition_3, C) + np.multiply(\n",
    "                condition_4, D)\n",
    "        self.df[selected_columns] = pd.DataFrame(matrix,\n",
    "                                                 columns=selected_columns)\n",
    "        del condition_1, condition_2, condition_3, condition_4, A, B, C, D, matrix, df_copy\n",
    "        return self.df\n",
    "\n",
    "    def Multiple_Cost_EHP(self):\n",
    "        self.Multiple_Cost_WPB()\n",
    "        selected_columns = self.df.loc[:, 'EHP_m0_w0_r0_f0':\n",
    "                                       'EHP_m18_w3_r3_f5'].columns.tolist()\n",
    "        condition_1 = self.df.Heating_System == 'EHP'\n",
    "        condition_1 = np.array(condition_1).reshape(self.df.shape[0], 1)\n",
    "        condition_2 = self.df.Heating_System == 'WB'\n",
    "        condition_2 = np.array(condition_2).reshape(self.df.shape[0], 1)\n",
    "        condition_3 = (self.df.Heating_System == 'GB') | (\n",
    "            self.df.Heating_System == 'CGB') | (\n",
    "                self.df.Heating_System == 'OB') | (\n",
    "                    self.df.Heating_System == 'COB') | (\n",
    "                        self.df.Heating_System == 'EHP2') | (\n",
    "                            self.df.Heating_System == 'WPB')\n",
    "        condition_3 = np.array(condition_3).reshape(self.df.shape[0], 1)\n",
    "        df_copy = self.df.loc[:, 'Initial_Age':]\n",
    "        df_copy = pd.DataFrame(df_copy['Initial_Age']).merge(\n",
    "            df_copy.loc[140:159, :], how='left', on=['Initial_Age'])\n",
    "        A = np.array(df_copy.loc[:, 'Fixed_Cost_1']).reshape(\n",
    "            df_copy.shape[0], 1)\n",
    "        B = np.array(df_copy.loc[:, 'Fixed_Cost_4']).reshape(\n",
    "            df_copy.shape[0], 1)\n",
    "        C = np.array(df_copy.loc[:, 'Fixed_Cost_5']).reshape(\n",
    "            df_copy.shape[0], 1)\n",
    "        matrix = self.df[selected_columns].values\n",
    "        matrix = matrix + np.multiply(condition_1, A) + np.multiply(\n",
    "            condition_2, B) + np.multiply(condition_3, C)\n",
    "        self.df[selected_columns] = pd.DataFrame(matrix,\n",
    "                                                 columns=selected_columns)\n",
    "        del condition_1, condition_2, condition_3, A, B, C, matrix, df_copy\n",
    "        return self.df\n",
    "\n",
    "    def Unvariable_Costs(self):\n",
    "        self.Multiple_Cost_EHP()\n",
    "        return self.df"
   ]
  },
  {
   "cell_type": "code",
   "execution_count": null,
   "metadata": {
    "ExecuteTime": {
     "start_time": "2019-10-30T16:25:35.701Z"
    }
   },
   "outputs": [],
   "source": [
    "DF_for_CCD_U_Prices.mro()"
   ]
  },
  {
   "cell_type": "markdown",
   "metadata": {},
   "source": [
    "## Class for the ID type dwellings"
   ]
  },
  {
   "cell_type": "code",
   "execution_count": null,
   "metadata": {
    "ExecuteTime": {
     "start_time": "2019-10-30T16:25:37.221Z"
    }
   },
   "outputs": [],
   "source": [
    "class Calculable_DFs_for_ID():\n",
    "    def Add_ER_Columns(self):\n",
    "        columns_list = []\n",
    "        for m in range(20):\n",
    "            for w in range(4):\n",
    "                for r in range(8):\n",
    "                    for f in range(4):\n",
    "                        column_name = 'ER_m' + str(m) + '_w' + str(\n",
    "                            w) + '_r' + str(r) + '_f' + str(f)\n",
    "                        columns_list.append(column_name)\n",
    "        self.df = pd.concat([\n",
    "            self.df,\n",
    "            pd.DataFrame(0, index=self.df.index, columns=columns_list)\n",
    "        ],\n",
    "                            axis=1)\n",
    "        return self.df\n",
    "\n",
    "    def Fill_ER_Columns(self):\n",
    "        self.Add_ER_Columns()\n",
    "        selected_columns = self.df.loc[:, 'ER_m0_w0_r0_f0':\n",
    "                                       'ER_m19_w3_r7_f3'].columns.tolist()\n",
    "        self.df[selected_columns] = self.df[selected_columns].apply(\n",
    "            lambda x: np.add(\n",
    "                self.df['U_' + x.name.split('_')[1] + '_' + x.name.split('_')[\n",
    "                    2]], self.df['U_' + x.name.split('_')[3] + '_' + x.name.\n",
    "                                 split('_')[4]]))\n",
    "        selected_columns = self.df.loc[:, 'U_m0_w0':'U_r7_f3'].columns.tolist()\n",
    "        self.df = self.df.drop(selected_columns, axis=1)\n",
    "        return self.df\n",
    "\n",
    "    def Generate_GB_Columns(self):\n",
    "        self.Generate_ER_Columns()\n",
    "        duplicate_df = self.df.loc[:, 'ER_m0_w0_r0_f0':'ER_m19_w3_r7_f3']\n",
    "        duplicate_df.columns = duplicate_df.columns.str.replace('ER_', 'GB_')\n",
    "        self.df = pd.concat([self.df, duplicate_df], axis=1)\n",
    "        del duplicate_df\n",
    "        return self.df\n",
    "\n",
    "    def Generate_CGB_Columns(self):\n",
    "        self.Generate_GB_Columns()\n",
    "        duplicate_df = self.df.loc[:, 'ER_m0_w0_r0_f0':'ER_m19_w3_r7_f3']\n",
    "        duplicate_df.columns = duplicate_df.columns.str.replace('ER_', 'CGB_')\n",
    "        self.df = pd.concat([self.df, duplicate_df], axis=1)\n",
    "        del duplicate_df\n",
    "        return self.df\n",
    "\n",
    "    def Generate_OB_Columns(self):\n",
    "        self.Generate_CGB_Columns()\n",
    "        duplicate_df = self.df.loc[:, 'ER_m0_w0_r0_f0':'ER_m19_w3_r7_f3']\n",
    "        duplicate_df.columns = duplicate_df.columns.str.replace('ER_', 'OB_')\n",
    "        self.df = pd.concat([self.df, duplicate_df], axis=1)\n",
    "        del duplicate_df\n",
    "        return self.df\n",
    "\n",
    "    def Generate_COB_Columns(self):\n",
    "        self.Generate_OB_Columns()\n",
    "        duplicate_df = self.df.loc[:, 'ER_m0_w0_r0_f0':'ER_m19_w3_r7_f3']\n",
    "        duplicate_df.columns = duplicate_df.columns.str.replace('ER_', 'COB_')\n",
    "        self.df = pd.concat([self.df, duplicate_df], axis=1)\n",
    "        del duplicate_df\n",
    "        return self.df\n",
    "\n",
    "    def Generate_EHP2_Columns(self):\n",
    "        self.Generate_COB_Columns()\n",
    "        duplicate_df = self.df.loc[:, 'ER_m0_w0_r0_f0':'ER_m19_w3_r7_f3']\n",
    "        duplicate_df.columns = duplicate_df.columns.str.replace('ER_', 'EHP2_')\n",
    "        self.df = pd.concat([self.df, duplicate_df], axis=1)\n",
    "        del duplicate_df\n",
    "        return self.df\n",
    "\n",
    "    def Generate_WB_Columns(self):\n",
    "        self.Generate_EHP2_Columns()\n",
    "        duplicate_df = self.df.loc[:, 'ER_m0_w0_r0_f0':'ER_m19_w3_r7_f3']\n",
    "        duplicate_df.columns = duplicate_df.columns.str.replace('ER_', 'WB_')\n",
    "        self.df = pd.concat([self.df, duplicate_df], axis=1)\n",
    "        del duplicate_df\n",
    "        return self.df\n",
    "\n",
    "    def Generate_WPB_Columns(self):\n",
    "        self.Generate_WB_Columns()\n",
    "        duplicate_df = self.df.loc[:, 'ER_m0_w0_r0_f0':'ER_m19_w3_r7_f3']\n",
    "        duplicate_df.columns = duplicate_df.columns.str.replace('ER_', 'WPB_')\n",
    "        self.df = pd.concat([self.df, duplicate_df], axis=1)\n",
    "        del duplicate_df\n",
    "        return self.df\n",
    "\n",
    "    def Generate_EHP_Columns(self):\n",
    "        self.Generate_WPB_Columns()\n",
    "        duplicate_df = self.df.loc[:, 'ER_m0_w0_r0_f0':'ER_m19_w3_r7_f3']\n",
    "        duplicate_df.columns = duplicate_df.columns.str.replace('ER_', 'EHP_')\n",
    "        self.df = pd.concat([self.df, duplicate_df], axis=1)\n",
    "        del duplicate_df\n",
    "        return self.df"
   ]
  },
  {
   "cell_type": "code",
   "execution_count": null,
   "metadata": {
    "ExecuteTime": {
     "start_time": "2019-10-30T16:25:37.311Z"
    }
   },
   "outputs": [],
   "source": [
    "Calculable_DFs_for_ID.mro()"
   ]
  },
  {
   "cell_type": "markdown",
   "metadata": {},
   "source": [
    "### Class for the DataFrame with U Factors"
   ]
  },
  {
   "cell_type": "code",
   "execution_count": null,
   "metadata": {
    "ExecuteTime": {
     "start_time": "2019-10-30T16:25:38.585Z"
    }
   },
   "outputs": [],
   "source": [
    "class DF_for_ID_U_Factors(Columns_for_ID_U_Factors, Calculable_DFs_for_ID):\n",
    "    def __init__(self, year, *args):\n",
    "        super().__init__(year, *args)\n",
    "        self.Add_Created_Columns()\n",
    "\n",
    "    def Weighted_Surface_Total(self):\n",
    "        self.Fill_ER_Columns()\n",
    "        return self.df\n",
    "\n",
    "    def Enlarged_Weighted_Surface_Total(self):\n",
    "        self.Weighted_Surface_Total()\n",
    "        selected_columns = self.df.loc[:, 'ER_m0_w0_r0_f0':\n",
    "                                       'ER_m19_w3_r7_f3'].columns.tolist()\n",
    "        self.copied_df = self.df[selected_columns].copy()\n",
    "        self.copied_df = self.copied_df.apply(lambda x: np.add(\n",
    "            np.multiply(9, self.df.Heightened_Surface_Habitable),\n",
    "            np.multiply(2.5, x)))\n",
    "        return self.copied_df\n",
    "\n",
    "    def UEN_per_Dwelling_1(self):\n",
    "        self.Enlarged_Weighted_Surface_Total()\n",
    "        selected_columns = self.df.loc[:, 'ER_m0_w0_r0_f0':\n",
    "                                       'ER_m19_w3_r7_f3'].columns.tolist()\n",
    "        self.df[selected_columns] = self.df[selected_columns].div(\n",
    "            self.copied_df)\n",
    "        del self.copied_df\n",
    "        return self.df\n",
    "\n",
    "    def UEN_per_Dwelling(self):\n",
    "        self.UEN_per_Dwelling_1()\n",
    "        selected_columns = self.df.loc[:, 'ER_m0_w0_r0_f0':\n",
    "                                       'ER_m19_w3_r7_f3'].columns.tolist()\n",
    "        self.df[selected_columns] = self.df[selected_columns].apply(\n",
    "            lambda x: np.multiply(x, self.df.UEN_per_Dwelling_2))\n",
    "        return self.df\n",
    "\n",
    "    def Generate_ER_Columns(self):\n",
    "        self.UEN_per_Dwelling()\n",
    "        return self.df\n",
    "\n",
    "    def GHC_UEN_ER(self):\n",
    "        self.Generate_EHP_Columns()\n",
    "        selected_columns = self.df.loc[:, 'ER_m0_w0_r0_f0':\n",
    "                                       'ER_m19_w3_r7_f3'].columns.tolist()\n",
    "        condition_1 = self.df.Heating_System == 'ER'\n",
    "        condition_1 = np.array(condition_1).reshape(self.df.shape[0], 1)\n",
    "        condition_2 = ~condition_1\n",
    "        df_copy = self.df.loc[:, 'Initial_Age':]\n",
    "        df_copy = pd.DataFrame(df_copy['Initial_Age']).merge(\n",
    "            df_copy.loc[:19, :], how='left', on=['Initial_Age'])\n",
    "        A = np.array(df_copy.loc[:, 'UEN_Cost_1']).reshape(df_copy.shape[0], 1)\n",
    "        B = np.array(df_copy.loc[:, 'UEN_Cost_2']).reshape(df_copy.shape[0], 1)\n",
    "        matrix = self.df[selected_columns].values\n",
    "        matrix = np.multiply(matrix, np.multiply(\n",
    "            condition_1, A)) + np.multiply(matrix, np.multiply(condition_2, B))\n",
    "        self.df[selected_columns] = pd.DataFrame(matrix,\n",
    "                                                 columns=selected_columns)\n",
    "        del condition_1, condition_2, A, B, matrix, df_copy\n",
    "        return self.df\n",
    "\n",
    "    def GHC_UEN_GB(self):\n",
    "        self.GHC_UEN_ER()\n",
    "        selected_columns = self.df.loc[:, 'GB_m0_w0_r0_f0':\n",
    "                                       'GB_m19_w3_r7_f3'].columns.tolist()\n",
    "        condition_1 = self.df.Heating_System == 'GB'\n",
    "        condition_1 = np.array(condition_1).reshape(self.df.shape[0], 1)\n",
    "        condition_2 = (self.df.Heating_System == 'ER') | (\n",
    "            self.df.Heating_System == 'CGB') | (\n",
    "                self.df.Heating_System == 'EHP2') | (\n",
    "                    self.df.Heating_System == 'WB') | (\n",
    "                        self.df.Heating_System == 'WPB') | (\n",
    "                            self.df.Heating_System == 'EHP')\n",
    "        condition_2 = np.array(condition_2).reshape(self.df.shape[0], 1)\n",
    "        condition_3 = (self.df.Heating_System == 'OB') | (\n",
    "            self.df.Heating_System == 'COB')\n",
    "        condition_3 = np.array(condition_3).reshape(self.df.shape[0], 1)\n",
    "        df_copy = self.df.loc[:, 'Initial_Age':]\n",
    "        df_copy = pd.DataFrame(df_copy['Initial_Age']).merge(\n",
    "            df_copy.loc[20:39, :], how='left', on=['Initial_Age'])\n",
    "        A = np.array(df_copy.loc[:, 'UEN_Cost_1']).reshape(df_copy.shape[0], 1)\n",
    "        B = np.array(df_copy.loc[:, 'UEN_Cost_2']).reshape(df_copy.shape[0], 1)\n",
    "        C = np.array(df_copy.loc[:, 'UEN_Cost_3']).reshape(df_copy.shape[0], 1)\n",
    "        matrix = self.df[selected_columns].values\n",
    "        matrix = np.multiply(\n",
    "            matrix, np.multiply(condition_1, A)) + np.multiply(\n",
    "                matrix, np.multiply(condition_2, B)) + np.multiply(\n",
    "                    matrix, np.multiply(condition_3, C))\n",
    "        self.df[selected_columns] = pd.DataFrame(matrix,\n",
    "                                                 columns=selected_columns)\n",
    "        del condition_1, condition_2, condition_3, A, B, C, matrix, df_copy\n",
    "        return self.df\n",
    "\n",
    "    def GHC_UEN_CGB(self):\n",
    "        self.GHC_UEN_GB()\n",
    "        selected_columns = self.df.loc[:, 'CGB_m0_w0_r0_f0':\n",
    "                                       'CGB_m19_w3_r7_f3'].columns.tolist()\n",
    "        condition_1 = self.df.Heating_System == 'CGB'\n",
    "        condition_1 = np.array(condition_1).reshape(self.df.shape[0], 1)\n",
    "        condition_2 = (self.df.Heating_System == 'ER') | (\n",
    "            self.df.Heating_System == 'GB') | (\n",
    "                self.df.Heating_System == 'EHP2') | (\n",
    "                    self.df.Heating_System == 'WB') | (\n",
    "                        self.df.Heating_System == 'WPB') | (\n",
    "                            self.df.Heating_System == 'EHP')\n",
    "        condition_2 = np.array(condition_2).reshape(self.df.shape[0], 1)\n",
    "        condition_3 = (self.df.Heating_System == 'OB') | (\n",
    "            self.df.Heating_System == 'COB')\n",
    "        condition_3 = np.array(condition_3).reshape(self.df.shape[0], 1)\n",
    "        df_copy = self.df.loc[:, 'Initial_Age':]\n",
    "        df_copy = pd.DataFrame(df_copy['Initial_Age']).merge(\n",
    "            df_copy.loc[40:59, :], how='left', on=['Initial_Age'])\n",
    "        A = np.array(df_copy.loc[:, 'UEN_Cost_1']).reshape(df_copy.shape[0], 1)\n",
    "        B = np.array(df_copy.loc[:, 'UEN_Cost_2']).reshape(df_copy.shape[0], 1)\n",
    "        C = np.array(df_copy.loc[:, 'UEN_Cost_3']).reshape(df_copy.shape[0], 1)\n",
    "        matrix = self.df[selected_columns].values\n",
    "        matrix = np.multiply(\n",
    "            matrix, np.multiply(condition_1, A)) + np.multiply(\n",
    "                matrix, np.multiply(condition_2, B)) + np.multiply(\n",
    "                    matrix, np.multiply(condition_3, C))\n",
    "        self.df[selected_columns] = pd.DataFrame(matrix,\n",
    "                                                 columns=selected_columns)\n",
    "        del condition_1, condition_2, condition_3, A, B, C, matrix, df_copy\n",
    "        return self.df\n",
    "\n",
    "    def GHC_UEN_OB(self):\n",
    "        self.GHC_UEN_CGB()\n",
    "        selected_columns = self.df.loc[:, 'OB_m0_w0_r0_f0':\n",
    "                                       'OB_m19_w3_r7_f3'].columns.tolist()\n",
    "        condition_1 = self.df.Heating_System == 'OB'\n",
    "        condition_1 = np.array(condition_1).reshape(self.df.shape[0], 1)\n",
    "        condition_2 = ~condition_1\n",
    "        df_copy = self.df.loc[:, 'Initial_Age':]\n",
    "        df_copy = pd.DataFrame(df_copy['Initial_Age']).merge(\n",
    "            df_copy.loc[60:79, :], how='left', on=['Initial_Age'])\n",
    "        A = np.array(df_copy.loc[:, 'UEN_Cost_1']).reshape(df_copy.shape[0], 1)\n",
    "        B = np.array(df_copy.loc[:, 'UEN_Cost_2']).reshape(df_copy.shape[0], 1)\n",
    "        matrix = self.df[selected_columns].values\n",
    "        matrix = np.multiply(matrix, np.multiply(\n",
    "            condition_1, A)) + np.multiply(matrix, np.multiply(condition_2, B))\n",
    "        self.df[selected_columns] = pd.DataFrame(matrix,\n",
    "                                                 columns=selected_columns)\n",
    "        del condition_1, condition_2, A, B, matrix, df_copy\n",
    "        return self.df\n",
    "\n",
    "    def GHC_UEN_COB(self):\n",
    "        self.GHC_UEN_OB()\n",
    "        selected_columns = self.df.loc[:, 'COB_m0_w0_r0_f0':\n",
    "                                       'COB_m19_w3_r7_f3'].columns.tolist()\n",
    "        condition_1 = self.df.Heating_System == 'COB'\n",
    "        condition_1 = np.array(condition_1).reshape(self.df.shape[0], 1)\n",
    "        condition_2 = ~condition_1\n",
    "        df_copy = self.df.loc[:, 'Initial_Age':]\n",
    "        df_copy = pd.DataFrame(df_copy['Initial_Age']).merge(\n",
    "            df_copy.loc[80:99, :], how='left', on=['Initial_Age'])\n",
    "        A = np.array(df_copy.loc[:, 'UEN_Cost_1']).reshape(df_copy.shape[0], 1)\n",
    "        B = np.array(df_copy.loc[:, 'UEN_Cost_2']).reshape(df_copy.shape[0], 1)\n",
    "        matrix = self.df[selected_columns].values\n",
    "        matrix = np.multiply(matrix, np.multiply(\n",
    "            condition_1, A)) + np.multiply(matrix, np.multiply(condition_2, B))\n",
    "        self.df[selected_columns] = pd.DataFrame(matrix,\n",
    "                                                 columns=selected_columns)\n",
    "        del condition_1, condition_2, A, B, matrix, df_copy\n",
    "        return self.df\n",
    "\n",
    "    def GHC_UEN_EHP2(self):\n",
    "        self.GHC_UEN_COB()\n",
    "        selected_columns = self.df.loc[:, 'EHP2_m0_w0_r0_f0':\n",
    "                                       'EHP2_m19_w3_r7_f3'].columns.tolist()\n",
    "        condition_1 = self.df.Heating_System == 'EHP2'\n",
    "        condition_1 = np.array(condition_1).reshape(self.df.shape[0], 1)\n",
    "        condition_2 = ~condition_1\n",
    "        df_copy = self.df.loc[:, 'Initial_Age':]\n",
    "        df_copy = pd.DataFrame(df_copy['Initial_Age']).merge(\n",
    "            df_copy.loc[100:119, :], how='left', on=['Initial_Age'])\n",
    "        A = np.array(df_copy.loc[:, 'UEN_Cost_1']).reshape(df_copy.shape[0], 1)\n",
    "        B = np.array(df_copy.loc[:, 'UEN_Cost_2']).reshape(df_copy.shape[0], 1)\n",
    "        matrix = self.df[selected_columns].values\n",
    "        matrix = np.multiply(matrix, np.multiply(\n",
    "            condition_1, A)) + np.multiply(matrix, np.multiply(condition_2, B))\n",
    "        self.df[selected_columns] = pd.DataFrame(matrix,\n",
    "                                                 columns=selected_columns)\n",
    "        del condition_1, condition_2, A, B, matrix, df_copy\n",
    "        return self.df\n",
    "\n",
    "    def GHC_UEN_WB(self):\n",
    "        self.GHC_UEN_EHP2()\n",
    "        selected_columns = self.df.loc[:, 'WB_m0_w0_r0_f0':\n",
    "                                       'WB_m19_w3_r7_f3'].columns.tolist()\n",
    "        condition_1 = self.df.Heating_System == 'WB'\n",
    "        condition_1 = np.array(condition_1).reshape(self.df.shape[0], 1)\n",
    "        condition_2 = ~condition_1\n",
    "        df_copy = self.df.loc[:, 'Initial_Age':]\n",
    "        df_copy = pd.DataFrame(df_copy['Initial_Age']).merge(\n",
    "            df_copy.loc[120:139, :], how='left', on=['Initial_Age'])\n",
    "        A = np.array(df_copy.loc[:, 'UEN_Cost_1']).reshape(df_copy.shape[0], 1)\n",
    "        B = np.array(df_copy.loc[:, 'UEN_Cost_2']).reshape(df_copy.shape[0], 1)\n",
    "        matrix = self.df[selected_columns].values\n",
    "        matrix = np.multiply(matrix, np.multiply(\n",
    "            condition_1, A)) + np.multiply(matrix, np.multiply(condition_2, B))\n",
    "        self.df[selected_columns] = pd.DataFrame(matrix,\n",
    "                                                 columns=selected_columns)\n",
    "        del condition_1, condition_2, A, B, matrix, df_copy\n",
    "        return self.df\n",
    "\n",
    "    def GHC_UEN_WPB(self):\n",
    "        self.GHC_UEN_WB()\n",
    "        selected_columns = self.df.loc[:, 'WPB_m0_w0_r0_f0':\n",
    "                                       'WPB_m19_w3_r7_f3'].columns.tolist()\n",
    "        condition_1 = self.df.Heating_System == 'WPB'\n",
    "        condition_1 = np.array(condition_1).reshape(self.df.shape[0], 1)\n",
    "        condition_2 = ~condition_1\n",
    "        df_copy = self.df.loc[:, 'Initial_Age':]\n",
    "        df_copy = pd.DataFrame(df_copy['Initial_Age']).merge(\n",
    "            df_copy.loc[140:159, :], how='left', on=['Initial_Age'])\n",
    "        A = np.array(df_copy.loc[:, 'UEN_Cost_1']).reshape(df_copy.shape[0], 1)\n",
    "        B = np.array(df_copy.loc[:, 'UEN_Cost_2']).reshape(df_copy.shape[0], 1)\n",
    "        matrix = self.df[selected_columns].values\n",
    "        matrix = np.multiply(matrix, np.multiply(\n",
    "            condition_1, A)) + np.multiply(matrix, np.multiply(condition_2, B))\n",
    "        self.df[selected_columns] = pd.DataFrame(matrix,\n",
    "                                                 columns=selected_columns)\n",
    "        del condition_1, condition_2, A, B, matrix, df_copy\n",
    "        return self.df\n",
    "\n",
    "    def GHC_UEN_EHP(self):\n",
    "        self.GHC_UEN_WPB()\n",
    "        selected_columns = self.df.loc[:, 'EHP_m0_w0_r0_f0':\n",
    "                                       'EHP_m19_w3_r7_f3'].columns.tolist()\n",
    "        condition_1 = self.df.Heating_System == 'EHP'\n",
    "        condition_1 = np.array(condition_1).reshape(self.df.shape[0], 1)\n",
    "        condition_2 = ~condition_1\n",
    "        df_copy = self.df.loc[:, 'Initial_Age':]\n",
    "        df_copy = pd.DataFrame(df_copy['Initial_Age']).merge(\n",
    "            df_copy.loc[160:179, :], how='left', on=['Initial_Age'])\n",
    "        A = np.array(df_copy.loc[:, 'UEN_Cost_1']).reshape(df_copy.shape[0], 1)\n",
    "        B = np.array(df_copy.loc[:, 'UEN_Cost_2']).reshape(df_copy.shape[0], 1)\n",
    "        matrix = self.df[selected_columns].values\n",
    "        matrix = np.multiply(matrix, np.multiply(\n",
    "            condition_1, A)) + np.multiply(matrix, np.multiply(condition_2, B))\n",
    "        self.df[selected_columns] = pd.DataFrame(matrix,\n",
    "                                                 columns=selected_columns)\n",
    "        del condition_1, condition_2, A, B, matrix, df_copy\n",
    "        return self.df\n",
    "\n",
    "    def GHC_UEN_Conditions(self):\n",
    "        self.GHC_UEN_EHP()\n",
    "        return self.df"
   ]
  },
  {
   "cell_type": "code",
   "execution_count": null,
   "metadata": {
    "ExecuteTime": {
     "start_time": "2019-10-30T16:25:38.713Z"
    }
   },
   "outputs": [],
   "source": [
    "DF_for_ID_U_Factors.mro()"
   ]
  },
  {
   "cell_type": "markdown",
   "metadata": {},
   "source": [
    "### Class for the DataFrame with U Prices"
   ]
  },
  {
   "cell_type": "code",
   "execution_count": null,
   "metadata": {
    "ExecuteTime": {
     "start_time": "2019-10-30T16:25:39.999Z"
    }
   },
   "outputs": [],
   "source": [
    "class DF_for_ID_U_Prices(Columns_for_ID_U_Prices, Calculable_DFs_for_ID):\n",
    "    def __init__(self, year, *args):\n",
    "        super().__init__(year, *args)\n",
    "        self.Add_Created_Columns()\n",
    "\n",
    "    def Insulation_Cost(self):\n",
    "        self.Fill_ER_Columns()\n",
    "        return self.df\n",
    "\n",
    "    def Generate_ER_Columns(self):\n",
    "        self.Insulation_Cost()\n",
    "        return self.df\n",
    "\n",
    "    def Multiple_Cost_ER(self):\n",
    "        self.Generate_EHP_Columns()\n",
    "        selected_columns = self.df.loc[:, 'ER_m0_w0_r0_f0':\n",
    "                                       'ER_m19_w3_r7_f3'].columns.tolist()\n",
    "        condition_1 = self.df.Heating_System == 'ER'\n",
    "        condition_1 = np.array(condition_1).reshape(self.df.shape[0], 1)\n",
    "        condition_2 = (self.df.Heating_System == 'WB') | (\n",
    "            self.df.Heating_System == 'EHP')\n",
    "        condition_2 = np.array(condition_2).reshape(self.df.shape[0], 1)\n",
    "        condition_3 = (self.df.Heating_System == 'GB') | (\n",
    "            self.df.Heating_System == 'CGB') | (\n",
    "                self.df.Heating_System == 'OB') | (\n",
    "                    self.df.Heating_System == 'COB') | (\n",
    "                        self.df.Heating_System == 'EHP2') | (\n",
    "                            self.df.Heating_System == 'WPB')\n",
    "        condition_3 = np.array(condition_3).reshape(self.df.shape[0], 1)\n",
    "        df_copy = self.df.loc[:, 'Initial_Age':]\n",
    "        df_copy = pd.DataFrame(df_copy['Initial_Age']).merge(\n",
    "            df_copy.loc[:19, :], how='left', on=['Initial_Age'])\n",
    "        A = np.array(df_copy.loc[:, 'Fixed_Cost_1']).reshape(\n",
    "            df_copy.shape[0], 1)\n",
    "        B = np.array(df_copy.loc[:, 'Fixed_Cost_2']).reshape(\n",
    "            df_copy.shape[0], 1)\n",
    "        C = np.array(df_copy.loc[:, 'Fixed_Cost_5']).reshape(\n",
    "            df_copy.shape[0], 1)\n",
    "        matrix = self.df[selected_columns].values\n",
    "        matrix = matrix + np.multiply(condition_1, A) + np.multiply(\n",
    "            condition_2, B) + np.multiply(condition_3, C)\n",
    "        self.df[selected_columns] = pd.DataFrame(matrix,\n",
    "                                                 columns=selected_columns)\n",
    "        del condition_1, condition_2, condition_3, A, B, C, matrix, df_copy\n",
    "        return self.df\n",
    "\n",
    "    def Multiple_Cost_GB(self):\n",
    "        self.Multiple_Cost_ER()\n",
    "        selected_columns = self.df.loc[:, 'GB_m0_w0_r0_f0':\n",
    "                                       'GB_m19_w3_r7_f3'].columns.tolist()\n",
    "        condition_1 = self.df.Heating_System == 'GB'\n",
    "        condition_1 = np.array(condition_1).reshape(self.df.shape[0], 1)\n",
    "        condition_2 = (self.df.Heating_System == 'CGB')\n",
    "        condition_2 = np.array(condition_2).reshape(self.df.shape[0], 1)\n",
    "        condition_3 = (self.df.Heating_System == 'OB') | (\n",
    "            self.df.Heating_System == 'COB') | (\n",
    "                self.df.Heating_System == 'EHP2') | (\n",
    "                    self.df.Heating_System == 'WPB')\n",
    "        condition_3 = np.array(condition_3).reshape(self.df.shape[0], 1)\n",
    "        condition_4 = (self.df.Heating_System == 'ER') | (\n",
    "            self.df.Heating_System == 'WB') | (self.df.Heating_System == 'EHP')\n",
    "        condition_4 = np.array(condition_4).reshape(self.df.shape[0], 1)\n",
    "        df_copy = self.df.loc[:, 'Initial_Age':]\n",
    "        df_copy = pd.DataFrame(df_copy['Initial_Age']).merge(\n",
    "            df_copy.loc[20:39, :], how='left', on=['Initial_Age'])\n",
    "        A = np.array(df_copy.loc[:, 'Fixed_Cost_1']).reshape(\n",
    "            df_copy.shape[0], 1)\n",
    "        B = np.array(df_copy.loc[:, 'Fixed_Cost_2']).reshape(\n",
    "            df_copy.shape[0], 1)\n",
    "        C = np.array(df_copy.loc[:, 'Fixed_Cost_4']).reshape(\n",
    "            df_copy.shape[0], 1)\n",
    "        D = np.array(df_copy.loc[:, 'Fixed_Cost_5']).reshape(\n",
    "            df_copy.shape[0], 1)\n",
    "        matrix = self.df[selected_columns].values\n",
    "        matrix = matrix + np.multiply(condition_1, A) + np.multiply(\n",
    "            condition_2, B) + np.multiply(condition_3, C) + np.multiply(\n",
    "                condition_4, D)\n",
    "        self.df[selected_columns] = pd.DataFrame(matrix,\n",
    "                                                 columns=selected_columns)\n",
    "        del condition_1, condition_2, condition_3, condition_4, A, B, C, D, matrix, df_copy\n",
    "        return self.df\n",
    "\n",
    "    def Multiple_Cost_CGB(self):\n",
    "        self.Multiple_Cost_GB()\n",
    "        selected_columns = self.df.loc[:, 'CGB_m0_w0_r0_f0':\n",
    "                                       'CGB_m19_w3_r7_f3'].columns.tolist()\n",
    "        condition_1 = self.df.Heating_System == 'CGB'\n",
    "        condition_1 = np.array(condition_1).reshape(self.df.shape[0], 1)\n",
    "        condition_2 = (self.df.Heating_System == 'GB')\n",
    "        condition_2 = np.array(condition_2).reshape(self.df.shape[0], 1)\n",
    "        condition_3 = (self.df.Heating_System == 'OB') | (\n",
    "            self.df.Heating_System == 'COB') | (\n",
    "                self.df.Heating_System == 'EHP2') | (\n",
    "                    self.df.Heating_System == 'WPB')\n",
    "        condition_3 = np.array(condition_3).reshape(self.df.shape[0], 1)\n",
    "        condition_4 = (self.df.Heating_System == 'ER') | (\n",
    "            self.df.Heating_System == 'WB') | (self.df.Heating_System == 'EHP')\n",
    "        condition_4 = np.array(condition_4).reshape(self.df.shape[0], 1)\n",
    "        df_copy = self.df.loc[:, 'Initial_Age':]\n",
    "        df_copy = pd.DataFrame(df_copy['Initial_Age']).merge(\n",
    "            df_copy.loc[40:59, :], how='left', on=['Initial_Age'])\n",
    "        A = np.array(df_copy.loc[:, 'Fixed_Cost_1']).reshape(\n",
    "            df_copy.shape[0], 1)\n",
    "        B = np.array(df_copy.loc[:, 'Fixed_Cost_2']).reshape(\n",
    "            df_copy.shape[0], 1)\n",
    "        C = np.array(df_copy.loc[:, 'Fixed_Cost_4']).reshape(\n",
    "            df_copy.shape[0], 1)\n",
    "        D = np.array(df_copy.loc[:, 'Fixed_Cost_5']).reshape(\n",
    "            df_copy.shape[0], 1)\n",
    "        matrix = self.df[selected_columns].values\n",
    "        matrix = matrix + np.multiply(condition_1, A) + np.multiply(\n",
    "            condition_2, B) + np.multiply(condition_3, C) + np.multiply(\n",
    "                condition_4, D)\n",
    "        self.df[selected_columns] = pd.DataFrame(matrix,\n",
    "                                                 columns=selected_columns)\n",
    "        del condition_1, condition_2, condition_3, condition_4, A, B, C, D, matrix, df_copy\n",
    "        return self.df\n",
    "\n",
    "    def Multiple_Cost_OB(self):\n",
    "        self.Multiple_Cost_CGB()\n",
    "        selected_columns = self.df.loc[:, 'OB_m0_w0_r0_f0':\n",
    "                                       'OB_m19_w3_r7_f3'].columns.tolist()\n",
    "        condition_1 = self.df.Heating_System == 'OB'\n",
    "        condition_1 = np.array(condition_1).reshape(self.df.shape[0], 1)\n",
    "        condition_2 = (self.df.Heating_System == 'COB')\n",
    "        condition_2 = np.array(condition_2).reshape(self.df.shape[0], 1)\n",
    "        condition_3 = (self.df.Heating_System == 'GB') | (\n",
    "            self.df.Heating_System == 'CGB') | (\n",
    "                self.df.Heating_System == 'EHP2') | (\n",
    "                    self.df.Heating_System == 'WPB')\n",
    "        condition_3 = np.array(condition_3).reshape(self.df.shape[0], 1)\n",
    "        condition_4 = (self.df.Heating_System == 'ER') | (\n",
    "            self.df.Heating_System == 'WB') | (self.df.Heating_System == 'EHP')\n",
    "        condition_4 = np.array(condition_4).reshape(self.df.shape[0], 1)\n",
    "        df_copy = self.df.loc[:, 'Initial_Age':]\n",
    "        df_copy = pd.DataFrame(df_copy['Initial_Age']).merge(\n",
    "            df_copy.loc[60:79, :], how='left', on=['Initial_Age'])\n",
    "        A = np.array(df_copy.loc[:, 'Fixed_Cost_1']).reshape(\n",
    "            df_copy.shape[0], 1)\n",
    "        B = np.array(df_copy.loc[:, 'Fixed_Cost_2']).reshape(\n",
    "            df_copy.shape[0], 1)\n",
    "        C = np.array(df_copy.loc[:, 'Fixed_Cost_4']).reshape(\n",
    "            df_copy.shape[0], 1)\n",
    "        D = np.array(df_copy.loc[:, 'Fixed_Cost_5']).reshape(\n",
    "            df_copy.shape[0], 1)\n",
    "        matrix = self.df[selected_columns].values\n",
    "        matrix = matrix + np.multiply(condition_1, A) + np.multiply(\n",
    "            condition_2, B) + np.multiply(condition_3, C) + np.multiply(\n",
    "                condition_4, D)\n",
    "        self.df[selected_columns] = pd.DataFrame(matrix,\n",
    "                                                 columns=selected_columns)\n",
    "        del condition_1, condition_2, condition_3, condition_4, A, B, C, D, matrix, df_copy\n",
    "        return self.df\n",
    "\n",
    "    def Multiple_Cost_COB(self):\n",
    "        self.Multiple_Cost_OB()\n",
    "        selected_columns = self.df.loc[:, 'COB_m0_w0_r0_f0':\n",
    "                                       'COB_m19_w3_r7_f3'].columns.tolist()\n",
    "        condition_1 = self.df.Heating_System == 'COB'\n",
    "        condition_1 = np.array(condition_1).reshape(self.df.shape[0], 1)\n",
    "        condition_2 = (self.df.Heating_System == 'OB')\n",
    "        condition_2 = np.array(condition_2).reshape(self.df.shape[0], 1)\n",
    "        condition_3 = (self.df.Heating_System == 'GB') | (\n",
    "            self.df.Heating_System == 'CGB') | (\n",
    "                self.df.Heating_System == 'EHP2') | (\n",
    "                    self.df.Heating_System == 'WPB')\n",
    "        condition_3 = np.array(condition_3).reshape(self.df.shape[0], 1)\n",
    "        condition_4 = (self.df.Heating_System == 'ER') | (\n",
    "            self.df.Heating_System == 'WB') | (self.df.Heating_System == 'EHP')\n",
    "        condition_4 = np.array(condition_4).reshape(self.df.shape[0], 1)\n",
    "        df_copy = self.df.loc[:, 'Initial_Age':]\n",
    "        df_copy = pd.DataFrame(df_copy['Initial_Age']).merge(\n",
    "            df_copy.loc[80:99, :], how='left', on=['Initial_Age'])\n",
    "        A = np.array(df_copy.loc[:, 'Fixed_Cost_1']).reshape(\n",
    "            df_copy.shape[0], 1)\n",
    "        B = np.array(df_copy.loc[:, 'Fixed_Cost_2']).reshape(\n",
    "            df_copy.shape[0], 1)\n",
    "        C = np.array(df_copy.loc[:, 'Fixed_Cost_4']).reshape(\n",
    "            df_copy.shape[0], 1)\n",
    "        D = np.array(df_copy.loc[:, 'Fixed_Cost_5']).reshape(\n",
    "            df_copy.shape[0], 1)\n",
    "        matrix = self.df[selected_columns].values\n",
    "        matrix = matrix + np.multiply(condition_1, A) + np.multiply(\n",
    "            condition_2, B) + np.multiply(condition_3, C) + np.multiply(\n",
    "                condition_4, D)\n",
    "        self.df[selected_columns] = pd.DataFrame(matrix,\n",
    "                                                 columns=selected_columns)\n",
    "        del condition_1, condition_2, condition_3, condition_4, A, B, C, D, matrix, df_copy\n",
    "        return self.df\n",
    "\n",
    "    def Multiple_Cost_EHP2(self):\n",
    "        self.Multiple_Cost_COB()\n",
    "        selected_columns = self.df.loc[:, 'EHP2_m0_w0_r0_f0':\n",
    "                                       'EHP2_m19_w3_r7_f3'].columns.tolist()\n",
    "        condition_1 = self.df.Heating_System == 'EHP2'\n",
    "        condition_1 = np.array(condition_1).reshape(self.df.shape[0], 1)\n",
    "        condition_2 = (self.df.Heating_System == 'GB') | (\n",
    "            self.df.Heating_System == 'CGB') | (\n",
    "                self.df.Heating_System == 'OB') | (\n",
    "                    self.df.Heating_System == 'COB') | (\n",
    "                        self.df.Heating_System == 'WPB')\n",
    "        condition_2 = np.array(condition_2).reshape(self.df.shape[0], 1)\n",
    "        condition_3 = (self.df.Heating_System == 'ER') | (\n",
    "            self.df.Heating_System == 'WB') | (self.df.Heating_System == 'EHP')\n",
    "        condition_3 = np.array(condition_3).reshape(self.df.shape[0], 1)\n",
    "        df_copy = self.df.loc[:, 'Initial_Age':]\n",
    "        df_copy = pd.DataFrame(df_copy['Initial_Age']).merge(\n",
    "            df_copy.loc[100:119, :], how='left', on=['Initial_Age'])\n",
    "        A = np.array(df_copy.loc[:, 'Fixed_Cost_1']).reshape(\n",
    "            df_copy.shape[0], 1)\n",
    "        B = np.array(df_copy.loc[:, 'Fixed_Cost_4']).reshape(\n",
    "            df_copy.shape[0], 1)\n",
    "        C = np.array(df_copy.loc[:, 'Fixed_Cost_5']).reshape(\n",
    "            df_copy.shape[0], 1)\n",
    "        matrix = self.df[selected_columns].values\n",
    "        matrix = matrix + np.multiply(condition_1, A) + np.multiply(\n",
    "            condition_2, B) + np.multiply(condition_3, C)\n",
    "        self.df[selected_columns] = pd.DataFrame(matrix,\n",
    "                                                 columns=selected_columns)\n",
    "        del condition_1, condition_2, condition_3, A, B, C, matrix, df_copy\n",
    "        return self.df\n",
    "\n",
    "    def Multiple_Cost_WB(self):\n",
    "        self.Multiple_Cost_EHP2()\n",
    "        selected_columns = self.df.loc[:, 'WB_m0_w0_r0_f0':\n",
    "                                       'WB_m19_w3_r7_f3'].columns.tolist()\n",
    "        condition_1 = self.df.Heating_System == 'WB'\n",
    "        condition_1 = np.array(condition_1).reshape(self.df.shape[0], 1)\n",
    "        condition_2 = (self.df.Heating_System == 'ER') | (\n",
    "            self.df.Heating_System == 'EHP')\n",
    "        condition_2 = np.array(condition_2).reshape(self.df.shape[0], 1)\n",
    "        condition_3 = (self.df.Heating_System == 'GB') | (\n",
    "            self.df.Heating_System == 'CGB') | (\n",
    "                self.df.Heating_System == 'OB') | (\n",
    "                    self.df.Heating_System == 'COB') | (\n",
    "                        self.df.Heating_System == 'EHP2') | (\n",
    "                            self.df.Heating_System == 'WPB')\n",
    "        condition_3 = np.array(condition_3).reshape(self.df.shape[0], 1)\n",
    "        df_copy = self.df.loc[:, 'Initial_Age':]\n",
    "        df_copy = pd.DataFrame(df_copy['Initial_Age']).merge(\n",
    "            df_copy.loc[120:139, :], how='left', on=['Initial_Age'])\n",
    "        A = np.array(df_copy.loc[:, 'Fixed_Cost_1']).reshape(\n",
    "            df_copy.shape[0], 1)\n",
    "        B = np.array(df_copy.loc[:, 'Fixed_Cost_2']).reshape(\n",
    "            df_copy.shape[0], 1)\n",
    "        C = np.array(df_copy.loc[:, 'Fixed_Cost_5']).reshape(\n",
    "            df_copy.shape[0], 1)\n",
    "        matrix = self.df[selected_columns].values\n",
    "        matrix = matrix + np.multiply(condition_1, A) + np.multiply(\n",
    "            condition_2, B) + np.multiply(condition_3, C)\n",
    "        self.df[selected_columns] = pd.DataFrame(matrix,\n",
    "                                                 columns=selected_columns)\n",
    "        del condition_1, condition_2, condition_3, A, B, C, matrix, df_copy\n",
    "        return self.df\n",
    "\n",
    "    def Multiple_Cost_WPB(self):\n",
    "        self.Multiple_Cost_WB()\n",
    "        selected_columns = self.df.loc[:, 'WPB_m0_w0_r0_f0':\n",
    "                                       'WPB_m19_w3_r7_f3'].columns.tolist()\n",
    "        condition_1 = self.df.Heating_System == 'WPB'\n",
    "        condition_1 = np.array(condition_1).reshape(self.df.shape[0], 1)\n",
    "        condition_2 = (self.df.Heating_System == 'WB')\n",
    "        condition_2 = np.array(condition_2).reshape(self.df.shape[0], 1)\n",
    "        condition_3 = (self.df.Heating_System == 'GB') | (\n",
    "            self.df.Heating_System == 'CGB') | (\n",
    "                self.df.Heating_System == 'OB') | (\n",
    "                    self.df.Heating_System == 'COB') | (\n",
    "                        self.df.Heating_System == 'EHP2')\n",
    "        condition_3 = np.array(condition_3).reshape(self.df.shape[0], 1)\n",
    "        condition_4 = (self.df.Heating_System == 'ER') | (\n",
    "            self.df.Heating_System == 'EHP')\n",
    "        condition_4 = np.array(condition_4).reshape(self.df.shape[0], 1)\n",
    "        df_copy = self.df.loc[:, 'Initial_Age':]\n",
    "        df_copy = pd.DataFrame(df_copy['Initial_Age']).merge(\n",
    "            df_copy.loc[140:159, :], how='left', on=['Initial_Age'])\n",
    "        A = np.array(df_copy.loc[:, 'Fixed_Cost_1']).reshape(\n",
    "            df_copy.shape[0], 1)\n",
    "        B = np.array(df_copy.loc[:, 'Fixed_Cost_3']).reshape(\n",
    "            df_copy.shape[0], 1)\n",
    "        C = np.array(df_copy.loc[:, 'Fixed_Cost_4']).reshape(\n",
    "            df_copy.shape[0], 1)\n",
    "        D = np.array(df_copy.loc[:, 'Fixed_Cost_5']).reshape(\n",
    "            df_copy.shape[0], 1)\n",
    "        matrix = self.df[selected_columns].values\n",
    "        matrix = matrix + np.multiply(condition_1, A) + np.multiply(\n",
    "            condition_2, B) + np.multiply(condition_3, C) + np.multiply(\n",
    "                condition_4, D)\n",
    "        self.df[selected_columns] = pd.DataFrame(matrix,\n",
    "                                                 columns=selected_columns)\n",
    "        del condition_1, condition_2, condition_3, condition_4, A, B, C, D, matrix, df_copy\n",
    "        return self.df\n",
    "\n",
    "    def Multiple_Cost_EHP(self):\n",
    "        self.Multiple_Cost_WPB()\n",
    "        selected_columns = self.df.loc[:, 'EHP_m0_w0_r0_f0':\n",
    "                                       'EHP_m19_w3_r7_f3'].columns.tolist()\n",
    "        condition_1 = self.df.Heating_System == 'EHP'\n",
    "        condition_1 = np.array(condition_1).reshape(self.df.shape[0], 1)\n",
    "        condition_2 = (self.df.Heating_System == 'ER') | (\n",
    "            self.df.Heating_System == 'WB')\n",
    "        condition_2 = np.array(condition_2).reshape(self.df.shape[0], 1)\n",
    "        condition_3 = (self.df.Heating_System == 'GB') | (\n",
    "            self.df.Heating_System == 'CGB') | (\n",
    "                self.df.Heating_System == 'OB') | (\n",
    "                    self.df.Heating_System == 'COB') | (\n",
    "                        self.df.Heating_System == 'EHP2') | (\n",
    "                            self.df.Heating_System == 'WPB')\n",
    "        condition_3 = np.array(condition_3).reshape(self.df.shape[0], 1)\n",
    "        df_copy = self.df.loc[:, 'Initial_Age':]\n",
    "        df_copy = pd.DataFrame(df_copy['Initial_Age']).merge(\n",
    "            df_copy.loc[160:179, :], how='left', on=['Initial_Age'])\n",
    "        A = np.array(df_copy.loc[:, 'Fixed_Cost_1']).reshape(\n",
    "            df_copy.shape[0], 1)\n",
    "        B = np.array(df_copy.loc[:, 'Fixed_Cost_2']).reshape(\n",
    "            df_copy.shape[0], 1)\n",
    "        C = np.array(df_copy.loc[:, 'Fixed_Cost_5']).reshape(\n",
    "            df_copy.shape[0], 1)\n",
    "        matrix = self.df[selected_columns].values\n",
    "        matrix = matrix + np.multiply(condition_1, A) + np.multiply(\n",
    "            condition_2, B) + np.multiply(condition_3, C)\n",
    "        self.df[selected_columns] = pd.DataFrame(matrix,\n",
    "                                                 columns=selected_columns)\n",
    "        del condition_1, condition_2, condition_3, A, B, C, matrix, df_copy\n",
    "        return self.df\n",
    "\n",
    "    def Unvariable_Costs(self):\n",
    "        self.Multiple_Cost_EHP()\n",
    "        return self.df"
   ]
  },
  {
   "cell_type": "code",
   "execution_count": null,
   "metadata": {
    "ExecuteTime": {
     "start_time": "2019-10-30T16:25:40.157Z"
    }
   },
   "outputs": [],
   "source": [
    "DF_for_ID_U_Prices.mro()"
   ]
  },
  {
   "cell_type": "markdown",
   "metadata": {},
   "source": [
    "# Class for the GHC Interface"
   ]
  },
  {
   "cell_type": "markdown",
   "metadata": {},
   "source": [
    "## Class for the terminal calculator of GHC"
   ]
  },
  {
   "cell_type": "code",
   "execution_count": null,
   "metadata": {
    "ExecuteTime": {
     "start_time": "2019-10-30T16:25:42.565Z"
    }
   },
   "outputs": [],
   "source": [
    "class GHC_Terminal_Calculator():\n",
    "    def __init__(self, year):\n",
    "        self.year = year\n",
    "\n",
    "    def GHC_CID(self):\n",
    "        self.df_CID_F = DF_for_CID_U_Factors(self.year).GHC_UEN_Conditions()\n",
    "        self.df_CID_P = DF_for_CID_U_Prices(self.year).Unvariable_Costs()\n",
    "        selected_columns = self.df_CID_F.loc[:, 'ER_m0_w0_r0_f0':\n",
    "                                             'EHP_m18_w3_r3_f5'].columns.tolist(\n",
    "                                             )\n",
    "        self.df_CID = self.df_CID_F[selected_columns] + self.df_CID_P[\n",
    "            selected_columns]\n",
    "        self.df_CID_labels = self.df_CID_F.loc[:, 'Dwelling_Type':\n",
    "                                               'Heating_System']\n",
    "        self.df_CID_labels['Year'] = self.year\n",
    "        del self.df_CID_F, self.df_CID_P\n",
    "        return self.df_CID\n",
    "\n",
    "    def GHC_CCD(self):\n",
    "        self.df_CCD_F = DF_for_CCD_U_Factors(self.year).GHC_UEN_Conditions()\n",
    "        self.df_CCD_P = DF_for_CCD_U_Prices(self.year).Unvariable_Costs()\n",
    "        selected_columns = self.df_CCD_F.loc[:, 'GB_m0_w0_r0_f0':\n",
    "                                             'EHP_m18_w3_r3_f5'].columns.tolist(\n",
    "                                             )\n",
    "        self.df_CCD = self.df_CCD_F[selected_columns] + self.df_CCD_P[\n",
    "            selected_columns]\n",
    "        self.df_CCD_labels = self.df_CCD_F.loc[:, 'Dwelling_Type':\n",
    "                                               'Heating_System']\n",
    "        self.df_CCD_labels['Year'] = self.year\n",
    "        del self.df_CCD_F, self.df_CCD_P\n",
    "        return self.df_CCD\n",
    "\n",
    "    def GHC_ID(self):\n",
    "        self.df_ID_F = DF_for_ID_U_Factors(self.year).GHC_UEN_Conditions()\n",
    "        self.df_ID_P = DF_for_ID_U_Prices(self.year).Unvariable_Costs()\n",
    "        selected_columns = self.df_ID_F.loc[:, 'ER_m0_w0_r0_f0':\n",
    "                                            'EHP_m19_w3_r7_f3'].columns.tolist(\n",
    "                                            )\n",
    "        self.df_ID = self.df_ID_F[selected_columns] + self.df_ID_P[\n",
    "            selected_columns]\n",
    "        self.df_ID_labels = self.df_ID_F.loc[:, 'Dwelling_Type':\n",
    "                                               'Heating_System']\n",
    "        self.df_ID_labels['Year'] = self.year\n",
    "        del self.df_ID_F, self.df_ID_P\n",
    "        return self.df_ID\n",
    "\n",
    "    def Reorder_Columns_CID(self):\n",
    "        self.GHC_CID()\n",
    "        selected_columns = self.df_CID.columns.tolist()\n",
    "        new_columns = []\n",
    "        for i in range(1824):\n",
    "            HS_list = selected_columns[i::1824]\n",
    "            new_columns += HS_list\n",
    "        self.df_CID = self.df_CID[new_columns]\n",
    "        return self.df_CID\n",
    "\n",
    "    def Reorder_Columns_CCD(self):\n",
    "        self.GHC_CCD()\n",
    "        selected_columns = self.df_CCD.columns.tolist()\n",
    "        new_columns = []\n",
    "        for i in range(1824):\n",
    "            HS_list = selected_columns[i::1824]\n",
    "            new_columns += HS_list\n",
    "        self.df_CCD = self.df_CCD[new_columns]\n",
    "        return self.df_CCD\n",
    "\n",
    "    def Reorder_Columns_ID(self):\n",
    "        self.GHC_ID()\n",
    "        selected_columns = self.df_ID.columns.tolist()\n",
    "        new_columns = []\n",
    "        for i in range(2560):\n",
    "            HS_list = selected_columns[i::2560]\n",
    "            new_columns += HS_list\n",
    "        self.df_ID = self.df_ID[new_columns]\n",
    "        return self.df_ID"
   ]
  },
  {
   "cell_type": "code",
   "execution_count": null,
   "metadata": {
    "ExecuteTime": {
     "start_time": "2019-10-30T16:25:42.655Z"
    }
   },
   "outputs": [],
   "source": [
    "GHC_Terminal_Calculator.mro()"
   ]
  },
  {
   "cell_type": "markdown",
   "metadata": {},
   "source": [
    "## Class for the GHC GHC minimum searcher"
   ]
  },
  {
   "cell_type": "code",
   "execution_count": null,
   "metadata": {
    "ExecuteTime": {
     "start_time": "2019-10-30T16:25:44.207Z"
    }
   },
   "outputs": [],
   "source": [
    "class GHC_Minimum_Searcher(GHC_Terminal_Calculator):\n",
    "    def __init__(self, year):\n",
    "        super().__init__(year)\n",
    "\n",
    "    def Duo_Minimum_CID(self):\n",
    "        self.Reorder_Columns_CID()\n",
    "        selected_columns = self.df_CID.loc[:, 'ER_m0_w0_r0_f0':\n",
    "                                           'EHP_m18_w3_r3_f5'].columns.tolist(\n",
    "                                           )\n",
    "        self.df_CID['Minimized_GHC'] = pd.DataFrame.min(\n",
    "            self.df_CID[selected_columns], axis=1)\n",
    "        self.df_CID['Minimized_GHC_Index'] = pd.DataFrame.idxmin(\n",
    "            self.df_CID[selected_columns], axis=1)\n",
    "        selected_columns = self.df_CID.loc[:, 'ER_m0_w0_r0_f0':\n",
    "                                           'EHP_m0_w0_r0_f0'].columns.tolist()\n",
    "        self.df_CID['Switched_Minimized_GHC'] = pd.DataFrame.min(\n",
    "            self.df_CID[selected_columns], axis=1)\n",
    "        self.df_CID['Switched_Minimized_GHC_Index'] = pd.DataFrame.idxmin(\n",
    "            self.df_CID[selected_columns], axis=1)\n",
    "        return self.df_CID\n",
    "\n",
    "    def Duo_Minimum_CCD(self):\n",
    "        self.Reorder_Columns_CCD()\n",
    "        selected_columns = self.df_CCD.loc[:, 'GB_m0_w0_r0_f0':\n",
    "                                           'EHP_m18_w3_r3_f5'].columns.tolist(\n",
    "                                           )\n",
    "        self.df_CCD['Minimized_GHC'] = pd.DataFrame.min(\n",
    "            self.df_CCD[selected_columns], axis=1)\n",
    "        self.df_CCD['Minimized_GHC_Index'] = pd.DataFrame.idxmin(\n",
    "            self.df_CCD[selected_columns], axis=1)\n",
    "        selected_columns = self.df_CCD.loc[:, 'GB_m0_w0_r0_f0':\n",
    "                                           'EHP_m0_w0_r0_f0'].columns.tolist()\n",
    "        self.df_CCD['Switched_Minimized_GHC'] = pd.DataFrame.min(\n",
    "            self.df_CCD[selected_columns], axis=1)\n",
    "        self.df_CCD['Switched_Minimized_GHC_Index'] = pd.DataFrame.idxmin(\n",
    "            self.df_CCD[selected_columns], axis=1)\n",
    "        return self.df_CCD\n",
    "\n",
    "    def Duo_Minimum_ID(self):\n",
    "        self.Reorder_Columns_ID()\n",
    "        selected_columns = self.df_ID.loc[:, 'ER_m0_w0_r0_f0':\n",
    "                                          'EHP_m19_w3_r7_f3'].columns.tolist()\n",
    "        self.df_ID['Minimized_GHC'] = pd.DataFrame.min(\n",
    "            self.df_ID[selected_columns], axis=1)\n",
    "        self.df_ID['Minimized_GHC_Index'] = pd.DataFrame.idxmin(\n",
    "            self.df_ID[selected_columns], axis=1)\n",
    "        selected_columns = self.df_ID.loc[:, 'ER_m0_w0_r0_f0':\n",
    "                                          'EHP_m0_w0_r0_f0'].columns.tolist()\n",
    "        self.df_ID['Switched_Minimized_GHC'] = pd.DataFrame.min(\n",
    "            self.df_ID[selected_columns], axis=1)\n",
    "        self.df_ID['Switched_Minimized_GHC_Index'] = pd.DataFrame.idxmin(\n",
    "            self.df_ID[selected_columns], axis=1)\n",
    "        return self.df_ID\n",
    "\n",
    "    def Drop_Columns_CID(self):\n",
    "        self.Duo_Minimum_CID()\n",
    "        selected_columns = self.df_CID.loc[:, 'ER_m0_w0_r0_f0':\n",
    "                                           'EHP_m18_w3_r3_f5'].columns.tolist(\n",
    "                                           )\n",
    "        self.df_CID = self.df_CID.drop(selected_columns, axis=1)\n",
    "        return self.df_CID\n",
    "\n",
    "    def Drop_Columns_CCD(self):\n",
    "        self.Duo_Minimum_CCD()\n",
    "        selected_columns = self.df_CCD.loc[:, 'GB_m0_w0_r0_f0':\n",
    "                                           'EHP_m18_w3_r3_f5'].columns.tolist(\n",
    "                                           )\n",
    "        self.df_CCD = self.df_CCD.drop(selected_columns, axis=1)\n",
    "        return self.df_CCD\n",
    "\n",
    "    def Drop_Columns_ID(self):\n",
    "        self.Duo_Minimum_ID()\n",
    "        selected_columns = self.df_ID.loc[:, 'ER_m0_w0_r0_f0':\n",
    "                                          'EHP_m19_w3_r7_f3'].columns.tolist()\n",
    "        self.df_ID = self.df_ID.drop(selected_columns, axis=1)\n",
    "        return self.df_ID\n",
    "\n",
    "    def Add_Columns_CID(self):\n",
    "        self.Drop_Columns_CID()\n",
    "        self.df_CID_labels['Year'] = self.year\n",
    "        self.df_CID = pd.concat([self.df_CID_labels, self.df_CID],\n",
    "                                axis=1,\n",
    "                                join='outer')\n",
    "        del self.df_CID_labels\n",
    "        return self.df_CID\n",
    "\n",
    "    def Add_Columns_CCD(self):\n",
    "        self.Drop_Columns_CCD()\n",
    "        self.df_CCD_labels['Year'] = self.year\n",
    "        self.df_CCD = pd.concat([self.df_CCD_labels, self.df_CCD],\n",
    "                                axis=1,\n",
    "                                join='outer')\n",
    "        del self.df_CCD_labels\n",
    "        return self.df_CCD\n",
    "\n",
    "    def Add_Columns_ID(self):\n",
    "        self.Drop_Columns_ID()\n",
    "        self.df_ID_labels['Year'] = self.year\n",
    "        self.df_ID = pd.concat([self.df_ID_labels, self.df_ID],\n",
    "                               axis=1,\n",
    "                               join='outer')\n",
    "        del self.df_ID_labels\n",
    "        return self.df_ID"
   ]
  },
  {
   "cell_type": "code",
   "execution_count": null,
   "metadata": {
    "ExecuteTime": {
     "start_time": "2019-10-30T16:25:44.310Z"
    }
   },
   "outputs": [],
   "source": [
    "GHC_Minimum_Searcher.mro()"
   ]
  },
  {
   "cell_type": "markdown",
   "metadata": {},
   "source": [
    "## Class for the evaluator of insulation"
   ]
  },
  {
   "cell_type": "code",
   "execution_count": null,
   "metadata": {
    "ExecuteTime": {
     "start_time": "2019-10-30T16:25:45.531Z"
    }
   },
   "outputs": [],
   "source": [
    "class Evaluator_Insulation(GHC_Minimum_Searcher):\n",
    "    def __init__(self, year):\n",
    "        super().__init__(year)\n",
    "\n",
    "    def All_Types_Concat(self):\n",
    "        self.Add_Columns_CID()\n",
    "        self.Add_Columns_CCD()\n",
    "        self.Add_Columns_ID()\n",
    "        all_types = [self.df_CID, self.df_CCD, self.df_ID]\n",
    "        self.df_all_types = pd.concat(all_types, axis=0, ignore_index=True)\n",
    "        del self.df_CID, self.df_CCD, self.df_ID\n",
    "        return self.df_all_types"
   ]
  },
  {
   "cell_type": "code",
   "execution_count": null,
   "metadata": {
    "ExecuteTime": {
     "start_time": "2019-10-30T16:25:45.606Z"
    }
   },
   "outputs": [],
   "source": [
    "Evaluator_Insulation.mro()"
   ]
  },
  {
   "cell_type": "code",
   "execution_count": null,
   "metadata": {
    "ExecuteTime": {
     "start_time": "2019-10-30T16:25:45.677Z"
    }
   },
   "outputs": [],
   "source": [
    "a = Evaluator_Insulation(1)"
   ]
  },
  {
   "cell_type": "code",
   "execution_count": null,
   "metadata": {
    "ExecuteTime": {
     "start_time": "2019-10-30T16:25:45.748Z"
    }
   },
   "outputs": [],
   "source": [
    "b = a.All_Types_Concat()"
   ]
  },
  {
   "cell_type": "code",
   "execution_count": null,
   "metadata": {
    "ExecuteTime": {
     "start_time": "2019-10-30T16:25:45.819Z"
    }
   },
   "outputs": [],
   "source": [
    "b.shape"
   ]
  },
  {
   "cell_type": "code",
   "execution_count": null,
   "metadata": {
    "ExecuteTime": {
     "start_time": "2019-10-30T16:25:45.889Z"
    }
   },
   "outputs": [],
   "source": [
    "b"
   ]
  },
  {
   "cell_type": "code",
   "execution_count": null,
   "metadata": {},
   "outputs": [],
   "source": []
  },
  {
   "cell_type": "code",
   "execution_count": null,
   "metadata": {},
   "outputs": [],
   "source": []
  },
  {
   "cell_type": "markdown",
   "metadata": {
    "ExecuteTime": {
     "end_time": "2019-10-30T13:43:26.913966Z",
     "start_time": "2019-10-30T13:43:25.102334Z"
    }
   },
   "source": [
    "selected_columns = self.df_CID.loself.df_CID[:, 'ER_m0_w0_r0_f0':\n",
    "                                     'EHP_m18_w3_r3_f5'].columns.tolist()\n",
    "\n",
    "self.df_CID['Minimized_GHC'] = pd.DataFrame.min(self.df_CID[selected_columns], axis=1)\n",
    "\n",
    "self.df_CID['Minimized_GHC_Index'] = pd.DataFrame.idxmin(self.df_CID[selected_columns], axis=1)\n",
    "\n",
    "selected_columns = self.df_CID.loself.df_CID[:, 'ER_m0_w0_r0_f0': 'EHP_m0_w0_r0_f0'].columns.tolist()\n",
    "\n",
    "self.df_CID['Switched_Minimized_GHC'] = pd.DataFrame.min(self.df_CID[selected_columns], axis=1)\n",
    "\n",
    "self.df_CID['Switched_Minimized_GHC_Index'] = pd.DataFrame.idxmin(self.df_CID[selected_columns], axis=1)"
   ]
  },
  {
   "cell_type": "code",
   "execution_count": null,
   "metadata": {},
   "outputs": [],
   "source": []
  },
  {
   "cell_type": "code",
   "execution_count": null,
   "metadata": {},
   "outputs": [],
   "source": []
  },
  {
   "cell_type": "code",
   "execution_count": null,
   "metadata": {},
   "outputs": [],
   "source": []
  },
  {
   "cell_type": "code",
   "execution_count": null,
   "metadata": {},
   "outputs": [],
   "source": []
  },
  {
   "cell_type": "markdown",
   "metadata": {},
   "source": []
  },
  {
   "cell_type": "markdown",
   "metadata": {},
   "source": [
    "# Bla Bla Bla"
   ]
  },
  {
   "cell_type": "markdown",
   "metadata": {},
   "source": [
    "# Bla Bla Bla"
   ]
  },
  {
   "cell_type": "markdown",
   "metadata": {},
   "source": [
    "# Bla Bla Bla"
   ]
  },
  {
   "cell_type": "markdown",
   "metadata": {
    "ExecuteTime": {
     "end_time": "2019-10-30T08:12:13.749665Z",
     "start_time": "2019-10-30T08:02:31.326Z"
    }
   },
   "source": [
    "Instance_CID_GHC_UEN_Conditions = DF_for_CID_U_Factors(Prepared_df_CID_UF)\n",
    "df_CID_GHC_UEN_Conditions = Instance_CID_GHC_UEN_Conditions.GHC_UEN_EHP()\n",
    "df_CID_GHC_UEN_Conditions.shape"
   ]
  },
  {
   "cell_type": "markdown",
   "metadata": {
    "ExecuteTime": {
     "end_time": "2019-10-30T08:12:13.752313Z",
     "start_time": "2019-10-30T08:02:31.402Z"
    }
   },
   "source": [
    "Instance_CID_Unvariable_Costs = DF_for_CID_U_Prices(Prepared_df_CID_UP)\n",
    "df_CID_Unvariable_Costs = Instance_CID_Unvariable_Costs.Multiple_Cost_EHP()\n",
    "df_CID_Unvariable_Costs.shape"
   ]
  },
  {
   "cell_type": "markdown",
   "metadata": {
    "ExecuteTime": {
     "end_time": "2019-10-30T08:12:13.755039Z",
     "start_time": "2019-10-30T08:02:31.477Z"
    }
   },
   "source": [
    "df_CID_GHC = b.astype(np.int32)\n",
    "df_CID_GHC.shape"
   ]
  },
  {
   "cell_type": "markdown",
   "metadata": {
    "ExecuteTime": {
     "end_time": "2019-10-25T12:43:36.181632Z",
     "start_time": "2019-10-25T12:43:35.268763Z"
    }
   },
   "source": [
    "Test_CID_0 = df_1_sorted[new_columns_CID][\n",
    "    (df_1_sorted[\"Dwelling Type\"] == 'CID')\n",
    "    & (df_1_sorted[\"Climate Type\"] == 'H1') &\n",
    "    (df_1_sorted[\"Construction Period\"] == '<1948') &\n",
    "    (df_1_sorted[\"Size Factor\"] == 'Middle') &\n",
    "    (df_1_sorted[\"__init__ial Age\"] == 0)]\n",
    "\n",
    "CID_H1_P1_T1_A00 = pd.read_csv('../Test_Samples/CID_H1_P1_T1_A00.csv',\n",
    "                               sep=';',\n",
    "                               index_col=None,\n",
    "                               header=None)\n",
    "\n",
    "Test_CID_0 = Test_CID_0.T.reset_index(drop=True)\n",
    "\n",
    "Test_CID_0.columns = list(range(9))\n",
    "\n",
    "Test_CID_0 - CID_H1_P1_T1_A00"
   ]
  },
  {
   "cell_type": "markdown",
   "metadata": {
    "ExecuteTime": {
     "end_time": "2019-10-25T12:43:36.899831Z",
     "start_time": "2019-10-25T12:43:36.190065Z"
    }
   },
   "source": [
    "Test_CID_19 = df_1_sorted[new_columns_CID][\n",
    "    (df_1_sorted[\"Dwelling Type\"] == 'CID')\n",
    "    & (df_1_sorted[\"Climate Type\"] == 'H1') &\n",
    "    (df_1_sorted[\"Construction Period\"] == '<1948') &\n",
    "    (df_1_sorted[\"Size Factor\"] == 'Middle') &\n",
    "    (df_1_sorted[\"__init__ial Age\"] == 19)]\n",
    "\n",
    "CID_H1_P1_T1_A19 = pd.read_csv('../Test_Samples/CID_H1_P1_T1_A19.csv',\n",
    "                               sep=';',\n",
    "                               index_col=None,\n",
    "                               header=None)\n",
    "\n",
    "Test_CID_19 = Test_CID_19.T.reset_index(drop=True)\n",
    "\n",
    "Test_CID_19.columns = list(range(9))\n",
    "\n",
    "Test_CID_19 - CID_H1_P1_T1_A19"
   ]
  },
  {
   "cell_type": "markdown",
   "metadata": {},
   "source": []
  },
  {
   "cell_type": "markdown",
   "metadata": {},
   "source": []
  },
  {
   "cell_type": "markdown",
   "metadata": {
    "ExecuteTime": {
     "end_time": "2019-10-25T12:45:22.255198Z",
     "start_time": "2019-10-25T12:43:36.904169Z"
    }
   },
   "source": [
    "Instance_CCD_GHC_UEN_Conditions = DF_for_CCD_U_Factors(Prepared_df_CCD_UF)\n",
    "df_CCD_GHC_UEN_Conditions = Instance_CCD_GHC_UEN_Conditions.GHC_UEN_EHP()\n",
    "df_CCD_GHC_UEN_Conditions.shape"
   ]
  },
  {
   "cell_type": "markdown",
   "metadata": {
    "ExecuteTime": {
     "end_time": "2019-10-25T12:47:23.566979Z",
     "start_time": "2019-10-25T12:45:22.257553Z"
    }
   },
   "source": [
    "Instance_CCD_Unvariable_Costs = DF_for_CCD_U_Prices(Prepared_df_CCD_UP)\n",
    "df_CCD_Unvariable_Costs = Instance_CCD_Unvariable_Costs.Multiple_Cost_EHP()\n",
    "df_CCD_Unvariable_Costs.shape"
   ]
  },
  {
   "cell_type": "markdown",
   "metadata": {
    "ExecuteTime": {
     "end_time": "2019-10-25T12:47:34.513080Z",
     "start_time": "2019-10-25T12:47:23.573169Z"
    }
   },
   "source": [
    "selected_columns_CCD = df_CCD_Unvariable_Costs.loc[:, 'GB_m0_w0_r0_f0':\n",
    "                                                   'EHP_m18_w3_r3_f5'].columns.tolist(\n",
    "                                                   )\n",
    "df_CCD_GHC = df_CCD_GHC_UEN_Conditions[\n",
    "    selected_columns_CCD] + df_CCD_Unvariable_Costs[selected_columns_CCD]\n",
    "df_CCD_GHC = df_CCD_GHC.astype(np.int32)\n",
    "df_CCD_GHC.shape"
   ]
  },
  {
   "cell_type": "markdown",
   "metadata": {
    "ExecuteTime": {
     "end_time": "2019-10-25T12:47:34.973859Z",
     "start_time": "2019-10-25T12:47:34.520400Z"
    }
   },
   "source": [
    "new_columns_CCD = []\n",
    "for i in range(1824):\n",
    "    list_i = selected_columns_CCD[i::1824]\n",
    "    new_columns_CCD += list_i\n",
    "df_CCD_GHC_new = df_CCD_GHC[new_columns_CCD]\n",
    "df_CCD_GHC_new"
   ]
  },
  {
   "cell_type": "markdown",
   "metadata": {
    "ExecuteTime": {
     "end_time": "2019-10-25T12:47:35.708632Z",
     "start_time": "2019-10-25T12:47:34.977432Z"
    }
   },
   "source": [
    "df_2 = pd.concat([df_CCD, df_CCD_GHC_new], axis=1, join='outer')\n",
    "df_2_sorted = df_2.sort_values(by='__init__ial Age', kind='mergesort')\n",
    "df_2_sorted"
   ]
  },
  {
   "cell_type": "markdown",
   "metadata": {
    "ExecuteTime": {
     "end_time": "2019-10-25T12:47:36.282297Z",
     "start_time": "2019-10-25T12:47:35.714328Z"
    }
   },
   "source": [
    "Test_CCD_0 = df_2_sorted[new_columns_CCD][\n",
    "    (df_2_sorted[\"Dwelling Type\"] == 'CCD')\n",
    "    & (df_2_sorted[\"Climate Type\"] == 'H1') &\n",
    "    (df_2_sorted[\"Construction Period\"] == '<1948') &\n",
    "    (df_2_sorted[\"Size Factor\"] == 'Middle') &\n",
    "    (df_2_sorted[\"__init__ial Age\"] == 0)]\n",
    "\n",
    "CCD_H1_P1_T1_A00 = pd.read_csv('../Test_Samples/CCD_H1_P1_T1_A00.csv',\n",
    "                               sep=';',\n",
    "                               index_col=None,\n",
    "                               header=None)\n",
    "\n",
    "CCD_H1_P1_T1_A00 = CCD_H1_P1_T1_A00.dropna(axis=0,\n",
    "                                           how='all').reset_index(drop=True)\n",
    "\n",
    "Test_CCD_0 = Test_CCD_0.T.reset_index(drop=True)\n",
    "\n",
    "Test_CCD_0.columns = list(range(8))\n",
    "\n",
    "Test_CCD_0 - CCD_H1_P1_T1_A00"
   ]
  },
  {
   "cell_type": "markdown",
   "metadata": {
    "ExecuteTime": {
     "end_time": "2019-10-25T12:47:36.801947Z",
     "start_time": "2019-10-25T12:47:36.285574Z"
    }
   },
   "source": [
    "Test_CCD_19 = df_2_sorted[new_columns_CCD][\n",
    "    (df_2_sorted[\"Dwelling Type\"] == 'CCD')\n",
    "    & (df_2_sorted[\"Climate Type\"] == 'H1') &\n",
    "    (df_2_sorted[\"Construction Period\"] == '<1948') &\n",
    "    (df_2_sorted[\"Size Factor\"] == 'Middle') &\n",
    "    (df_2_sorted[\"__init__ial Age\"] == 19)]\n",
    "\n",
    "CCD_H1_P1_T1_A19 = pd.read_csv('../Test_Samples/CCD_H1_P1_T1_A19.csv',\n",
    "                               sep=';',\n",
    "                               index_col=None,\n",
    "                               header=None)\n",
    "\n",
    "CCD_H1_P1_T1_A19 = CCD_H1_P1_T1_A19.dropna(axis=0,\n",
    "                                           how='all').reset_index(drop=True)\n",
    "\n",
    "Test_CCD_19 = Test_CCD_19.T.reset_index(drop=True)\n",
    "\n",
    "Test_CCD_19.columns = list(range(8))\n",
    "\n",
    "Test_CCD_19 - CCD_H1_P1_T1_A19"
   ]
  },
  {
   "cell_type": "markdown",
   "metadata": {},
   "source": []
  },
  {
   "cell_type": "markdown",
   "metadata": {
    "ExecuteTime": {
     "end_time": "2019-10-25T12:52:33.365628Z",
     "start_time": "2019-10-25T12:47:36.804715Z"
    }
   },
   "source": [
    "Instance_ID_GHC_UEN_Conditions = DF_for_ID_U_Factors(Prepared_df_ID_UF)\n",
    "df_ID_GHC_UEN_Conditions = Instance_ID_GHC_UEN_Conditions.GHC_UEN_EHP()\n",
    "df_ID_GHC_UEN_Conditions.shape"
   ]
  },
  {
   "cell_type": "markdown",
   "metadata": {
    "ExecuteTime": {
     "end_time": "2019-10-25T12:57:24.547180Z",
     "start_time": "2019-10-25T12:52:33.373314Z"
    }
   },
   "source": [
    "Instance_ID_Unvariable_Costs = DF_for_ID_U_Prices(Prepared_df_ID_UP)\n",
    "df_ID_Unvariable_Costs = Instance_ID_Unvariable_Costs.Multiple_Cost_EHP()\n",
    "df_ID_Unvariable_Costs.shape"
   ]
  },
  {
   "cell_type": "markdown",
   "metadata": {
    "ExecuteTime": {
     "end_time": "2019-10-25T12:57:47.132564Z",
     "start_time": "2019-10-25T12:57:24.551621Z"
    }
   },
   "source": [
    "selected_columns_ID = df_ID_Unvariable_Costs.loc[:, 'ER_m0_w0_r0_f0':\n",
    "                                                 'EHP_m19_w3_r7_f3'].columns.tolist(\n",
    "                                                 )\n",
    "df_ID_GHC = df_ID_GHC_UEN_Conditions[\n",
    "    selected_columns_ID] + df_ID_Unvariable_Costs[selected_columns_ID]\n",
    "df_ID_GHC = df_ID_GHC.astype(np.int32)\n",
    "df_ID_GHC.shape"
   ]
  },
  {
   "cell_type": "markdown",
   "metadata": {
    "ExecuteTime": {
     "end_time": "2019-10-25T12:57:47.821880Z",
     "start_time": "2019-10-25T12:57:47.138946Z"
    }
   },
   "source": [
    "new_columns_ID = []\n",
    "for i in range(2560):\n",
    "    list_i = selected_columns_ID[i::2560]\n",
    "    new_columns_ID += list_i\n",
    "df_ID_GHC_new = df_ID_GHC[new_columns_ID]\n",
    "df_ID_GHC_new"
   ]
  },
  {
   "cell_type": "markdown",
   "metadata": {
    "ExecuteTime": {
     "end_time": "2019-10-25T12:57:49.144936Z",
     "start_time": "2019-10-25T12:57:47.824168Z"
    }
   },
   "source": [
    "df_3 = pd.concat([df_ID, df_ID_GHC_new], axis=1, join='outer')\n",
    "df_3_sorted = df_3.sort_values(by='__init__ial Age', kind='mergesort')\n",
    "df_3_sorted"
   ]
  },
  {
   "cell_type": "markdown",
   "metadata": {
    "ExecuteTime": {
     "end_time": "2019-10-25T12:57:52.040288Z",
     "start_time": "2019-10-25T12:57:49.147542Z"
    }
   },
   "source": [
    "Test_ID_0 = df_3_sorted[new_columns_ID][\n",
    "    (df_3_sorted[\"Dwelling Type\"] == 'ID')\n",
    "    & (df_3_sorted[\"Climate Type\"] == 'H1') &\n",
    "    (df_3_sorted[\"Construction Period\"] == '<1968') &\n",
    "    (df_3_sorted[\"Size Factor\"] == 'Middle') &\n",
    "    (df_3_sorted[\"__init__ial Age\"] == 0)]\n",
    "\n",
    "ID_H1_P1_T1_A00 = pd.read_csv('../Test_Samples/ID_H1_P1_T1_A00.csv',\n",
    "                              sep=';',\n",
    "                              index_col=None,\n",
    "                              header=None)\n",
    "\n",
    "ID_H1_P1_T1_A00 = ID_H1_P1_T1_A00.dropna(axis=0,\n",
    "                                         how='all').reset_index(drop=True)\n",
    "\n",
    "Test_ID_0 = Test_ID_0.T.reset_index(drop=True)\n",
    "\n",
    "Test_ID_0.columns = list(range(9))\n",
    "\n",
    "Test_ID_0 - ID_H1_P1_T1_A00"
   ]
  },
  {
   "cell_type": "markdown",
   "metadata": {
    "ExecuteTime": {
     "end_time": "2019-10-25T13:02:46.582515Z",
     "start_time": "2019-10-25T13:02:45.922749Z"
    }
   },
   "source": [
    "Test_ID_19 = df_3_sorted[new_columns_ID][\n",
    "    (df_3_sorted[\"Dwelling Type\"] == 'ID')\n",
    "    & (df_3_sorted[\"Climate Type\"] == 'H1') &\n",
    "    (df_3_sorted[\"Construction Period\"] == '<1968') &\n",
    "    (df_3_sorted[\"Size Factor\"] == 'Middle') &\n",
    "    (df_3_sorted[\"__init__ial Age\"] == 19)]\n",
    "\n",
    "ID_H1_P1_T1_A19 = pd.read_csv('../Test_Samples/ID_H1_P1_T1_A19.csv',\n",
    "                              sep=';',\n",
    "                              index_col=None,\n",
    "                              header=None)\n",
    "\n",
    "ID_H1_P1_T1_A19 = ID_H1_P1_T1_A19.dropna(axis=0,\n",
    "                                         how='all').reset_index(drop=True)\n",
    "\n",
    "Test_ID_19 = Test_ID_19.T.reset_index(drop=True)\n",
    "\n",
    "Test_ID_19.columns = list(range(9))\n",
    "\n",
    "Test_ID_19 - ID_H1_P1_T1_A19"
   ]
  },
  {
   "cell_type": "markdown",
   "metadata": {
    "ExecuteTime": {
     "end_time": "2019-10-25T13:02:51.322331Z",
     "start_time": "2019-10-25T13:02:51.301005Z"
    }
   },
   "source": [
    "Test_ID_19"
   ]
  },
  {
   "cell_type": "markdown",
   "metadata": {
    "ExecuteTime": {
     "end_time": "2019-10-25T13:02:45.150350Z",
     "start_time": "2019-10-25T13:02:41.464Z"
    }
   },
   "source": [
    "ID_H1_P1_T1_A19"
   ]
  },
  {
   "cell_type": "markdown",
   "metadata": {},
   "source": [
    "df = pd.concat([df_CID, Total_new], axis=1, join='outer')\n",
    "df.shape"
   ]
  },
  {
   "cell_type": "markdown",
   "metadata": {},
   "source": [
    "Total_sorted = df.sort_values(by='__init__ial Age', kind='mergesort')\n",
    "Total_sorted"
   ]
  },
  {
   "cell_type": "markdown",
   "metadata": {},
   "source": [
    "Total_sorted['__init__ial Age']"
   ]
  },
  {
   "cell_type": "markdown",
   "metadata": {
    "scrolled": true
   },
   "source": [
    "Test_1 = Total_sorted[list_all][\n",
    "    (Total_sorted[\"Dwelling Type\"] == 'CID')\n",
    "    & (Total_sorted[\"Climate Type\"] == 'H1') &\n",
    "    (Total_sorted[\"Construction Period\"] == '<1948') &\n",
    "    (Total_sorted[\"Size Factor\"] == 'Middle') &\n",
    "    (Total_sorted[\"__init__ial Age\"] == 0)]\n",
    "\n",
    "Classeur1 = pd.read_csv('../Classeur1.csv',\n",
    "                        sep=';',\n",
    "                        index_col=None,\n",
    "                        header=None)\n",
    "\n",
    "Test_1 = Test_1.T.reset_index(drop=True)\n",
    "\n",
    "Test_1.columns = list(range(9))\n",
    "\n",
    "Test_1 - Classeur1"
   ]
  },
  {
   "cell_type": "markdown",
   "metadata": {},
   "source": [
    "Test_2 = Total_sorted[list_all][\n",
    "    (Total_sorted[\"Dwelling Type\"] == 'CID')\n",
    "    & (Total_sorted[\"Climate Type\"] == 'H1') &\n",
    "    (Total_sorted[\"Construction Period\"] == '<1948') &\n",
    "    (Total_sorted[\"Size Factor\"] == 'Middle') &\n",
    "    (Total_sorted[\"__init__ial Age\"] == 10)]\n",
    "\n",
    "Classeur2 = pd.read_csv('../Classeur2.csv',\n",
    "                        sep=';',\n",
    "                        index_col=None,\n",
    "                        header=None)\n",
    "\n",
    "Test_2 = Test_2.T.reset_index(drop=True)\n",
    "\n",
    "Test_2.columns = list(range(9))\n",
    "\n",
    "Test_2 - Classeur2"
   ]
  },
  {
   "cell_type": "markdown",
   "metadata": {},
   "source": [
    "Test_2"
   ]
  },
  {
   "cell_type": "markdown",
   "metadata": {
    "ExecuteTime": {
     "end_time": "2019-10-25T12:57:53.648042Z",
     "start_time": "2019-10-25T12:57:53.628258Z"
    }
   },
   "source": [
    "Test_ID_0"
   ]
  },
  {
   "cell_type": "markdown",
   "metadata": {
    "ExecuteTime": {
     "end_time": "2019-10-25T13:00:28.748988Z",
     "start_time": "2019-10-25T12:57:53.653277Z"
    }
   },
   "source": [
    "a = DF_for_ID_U_Factors(Prepared_df_ID_UF)\n",
    "b = a.UEN_per_Dwelling()"
   ]
  },
  {
   "cell_type": "markdown",
   "metadata": {
    "ExecuteTime": {
     "end_time": "2019-10-25T13:00:28.832060Z",
     "start_time": "2019-10-25T13:00:28.752647Z"
    }
   },
   "source": [
    "b[b['Size_Factor'] == 'Large'].ER_m0_w0_r0_f0"
   ]
  },
  {
   "cell_type": "markdown",
   "metadata": {
    "ExecuteTime": {
     "end_time": "2019-10-25T13:00:28.843115Z",
     "start_time": "2019-10-25T13:00:28.833972Z"
    }
   },
   "source": [
    "Prepared_df_ID_UP.Surface_M / Prepared_df_ID_UP.Dwelling_Total"
   ]
  },
  {
   "cell_type": "markdown",
   "metadata": {
    "ExecuteTime": {
     "end_time": "2019-10-25T13:00:28.854528Z",
     "start_time": "2019-10-25T13:00:28.846587Z"
    }
   },
   "source": [
    "Prepared_df_ID_UP.U_m0_w0"
   ]
  },
  {
   "cell_type": "markdown",
   "metadata": {
    "ExecuteTime": {
     "end_time": "2019-10-25T13:00:28.880609Z",
     "start_time": "2019-10-25T13:00:28.856486Z"
    }
   },
   "source": [
    "Prepared_df_ID_UP.Dwelling_Total"
   ]
  },
  {
   "cell_type": "markdown",
   "metadata": {
    "ExecuteTime": {
     "end_time": "2019-10-25T13:00:28.897715Z",
     "start_time": "2019-10-25T13:00:28.884345Z"
    }
   },
   "source": [
    "df_ID_UP.Uw1"
   ]
  },
  {
   "cell_type": "code",
   "execution_count": null,
   "metadata": {},
   "outputs": [],
   "source": []
  }
 ],
 "metadata": {
  "hide_input": false,
  "kernelspec": {
   "display_name": "Python 3",
   "language": "python",
   "name": "python3"
  },
  "language_info": {
   "codemirror_mode": {
    "name": "ipython",
    "version": 3
   },
   "file_extension": ".py",
   "mimetype": "text/x-python",
   "name": "python",
   "nbconvert_exporter": "python",
   "pygments_lexer": "ipython3",
   "version": "3.7.3"
  },
  "latex_envs": {
   "LaTeX_envs_menu_present": true,
   "autoclose": true,
   "autocomplete": false,
   "bibliofile": "biblio.bib",
   "cite_by": "apalike",
   "current_citInitial": 1,
   "eqLabelWithNumbers": true,
   "eqNumInitial": 1,
   "hotkeys": {
    "equation": "Ctrl-E",
    "itemize": "Ctrl-I"
   },
   "labels_anchors": true,
   "latex_user_defs": false,
   "report_style_numbering": true,
   "user_envs_cfg": true
  },
  "nbTranslate": {
   "displayLangs": [
    "*"
   ],
   "hotkey": "alt-t",
   "langInMainMenu": true,
   "sourceLang": "en",
   "targetLang": "fr",
   "useGoogleTranslate": true
  },
  "toc": {
   "base_numbering": 1,
   "nav_menu": {},
   "number_sections": true,
   "sideBar": true,
   "skip_h1_title": false,
   "title_cell": "Table of Contents",
   "title_sidebar": "Contents",
   "toc_cell": true,
   "toc_position": {
    "height": "calc(100% - 180px)",
    "left": "10px",
    "top": "150px",
    "width": "333.75px"
   },
   "toc_section_display": true,
   "toc_window_display": true
  },
  "varInspector": {
   "cols": {
    "lenName": 16,
    "lenType": 16,
    "lenVar": 40
   },
   "kernels_config": {
    "python": {
     "delete_cmd_postfix": "",
     "delete_cmd_prefix": "del ",
     "library": "var_list.py",
     "varRefreshCmd": "print(var_dic_list())"
    },
    "r": {
     "delete_cmd_postfix": ") ",
     "delete_cmd_prefix": "rm(",
     "library": "var_list.r",
     "varRefreshCmd": "cat(var_dic_list()) "
    }
   },
   "oldHeight": 122.43799999999999,
   "position": {
    "height": "46px",
    "left": "1060.98px",
    "right": "20px",
    "top": "188px",
    "width": "314px"
   },
   "types_to_exclude": [
    "module",
    "function",
    "builtin_function_or_method",
    "instance",
    "_Feature"
   ],
   "varInspector_section_display": "none",
   "window_display": true
  }
 },
 "nbformat": 4,
 "nbformat_minor": 2
}
