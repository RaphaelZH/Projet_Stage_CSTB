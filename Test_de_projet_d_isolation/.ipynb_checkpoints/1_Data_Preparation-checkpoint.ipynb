{
 "cells": [
  {
   "cell_type": "markdown",
   "metadata": {
    "toc": true
   },
   "source": [
    "<h1>Table of Contents<span class=\"tocSkip\"></span></h1>\n",
    "<div class=\"toc\"><ul class=\"toc-item\"><li><span><a href=\"#Importation-of-necessary-libraries\" data-toc-modified-id=\"Importation-of-necessary-libraries-1\"><span class=\"toc-item-num\">1&nbsp;&nbsp;</span>Importation of necessary libraries</a></span></li><li><span><a href=\"#Extraction-of-data-from-Excel-sheets\" data-toc-modified-id=\"Extraction-of-data-from-Excel-sheets-2\"><span class=\"toc-item-num\">2&nbsp;&nbsp;</span>Extraction of data from Excel sheets</a></span></li><li><span><a href=\"#Data-conversion\" data-toc-modified-id=\"Data-conversion-3\"><span class=\"toc-item-num\">3&nbsp;&nbsp;</span>Data conversion</a></span></li><li><span><a href=\"#Extraction-of-data-from-CSV-files\" data-toc-modified-id=\"Extraction-of-data-from-CSV-files-4\"><span class=\"toc-item-num\">4&nbsp;&nbsp;</span>Extraction of data from CSV files</a></span></li><li><span><a href=\"#Comparison-of-the-execution-times\" data-toc-modified-id=\"Comparison-of-the-execution-times-5\"><span class=\"toc-item-num\">5&nbsp;&nbsp;</span>Comparison of the execution times</a></span></li></ul></div>"
   ]
  },
  {
   "cell_type": "markdown",
   "metadata": {},
   "source": [
    "# Importation of necessary libraries"
   ]
  },
  {
   "cell_type": "code",
   "execution_count": 1,
   "metadata": {
    "ExecuteTime": {
     "end_time": "2019-10-18T12:53:51.883607Z",
     "start_time": "2019-10-18T12:53:51.024655Z"
    }
   },
   "outputs": [],
   "source": [
    "import pandas as pd"
   ]
  },
  {
   "cell_type": "markdown",
   "metadata": {},
   "source": [
    "# Extraction of data from Excel sheets"
   ]
  },
  {
   "cell_type": "code",
   "execution_count": 2,
   "metadata": {
    "ExecuteTime": {
     "end_time": "2019-10-18T12:54:13.781995Z",
     "start_time": "2019-10-18T12:53:51.886471Z"
    }
   },
   "outputs": [],
   "source": [
    "df_excel_1 = pd.read_excel('../Input_Data_Excel/Input_Data.xlsx',\n",
    "                           index_col=False,\n",
    "                           header=0,\n",
    "                           sheet_name='Wall Investment')\n",
    "\n",
    "df_excel_2 = pd.read_excel('../Input_Data_Excel/Input_Data.xlsx',\n",
    "                           index_col=False,\n",
    "                           header=0,\n",
    "                           sheet_name='Window Investment')\n",
    "\n",
    "df_excel_3 = pd.read_excel('../Input_Data_Excel/Input_Data.xlsx',\n",
    "                           index_col=False,\n",
    "                           header=0,\n",
    "                           sheet_name='Roof Investment')\n",
    "\n",
    "df_excel_4 = pd.read_excel('../Input_Data_Excel/Input_Data.xlsx',\n",
    "                           index_col=False,\n",
    "                           header=0,\n",
    "                           sheet_name='Floor Investment')\n",
    "\n",
    "df_excel_5 = pd.read_excel('../Input_Data_Excel/Input_Data.xlsx',\n",
    "                           index_col=False,\n",
    "                           header=0,\n",
    "                           sheet_name='Housing Characteristics')\n",
    "\n",
    "df_excel_6 = pd.read_excel('../Input_Data_Excel/Input_Data.xlsx',\n",
    "                           index_col=False,\n",
    "                           header=0,\n",
    "                           sheet_name='Climate Zone')\n",
    "\n",
    "df_excel_7 = pd.read_excel('../Input_Data_Excel/Input_Data.xlsx',\n",
    "                           index_col=False,\n",
    "                           header=0,\n",
    "                           sheet_name='Heating System')\n",
    "\n",
    "df_excel_8 = pd.read_excel('../Input_Data_Excel/Input_Data.xlsx',\n",
    "                           index_col=False,\n",
    "                           header=0,\n",
    "                           sheet_name='Headcount')\n",
    "\n",
    "df_excel_9 = pd.read_excel('../Input_Data_Excel/Input_Data.xlsx',\n",
    "                           index_col=False,\n",
    "                           header=0,\n",
    "                           sheet_name='Economic Hypothesis')\n",
    "\n",
    "df_excel_10 = pd.read_excel('../Input_Data_Excel/Input_Data.xlsx',\n",
    "                            index_col=False,\n",
    "                            header=0,\n",
    "                            sheet_name='Headcount Sample')"
   ]
  },
  {
   "cell_type": "markdown",
   "metadata": {},
   "source": [
    "# Data conversion"
   ]
  },
  {
   "cell_type": "code",
   "execution_count": 3,
   "metadata": {
    "ExecuteTime": {
     "end_time": "2019-10-18T12:54:13.950378Z",
     "start_time": "2019-10-18T12:54:13.784241Z"
    }
   },
   "outputs": [],
   "source": [
    "df_excel_1.to_csv('../Input_Data_CSV/Wall_Investment.csv',\n",
    "                  sep=';',\n",
    "                  index=None,\n",
    "                  header=True,\n",
    "                  encoding='utf-8')\n",
    "\n",
    "df_excel_2.to_csv('../Input_Data_CSV/Window_Investment.csv',\n",
    "                  sep=';',\n",
    "                  index=None,\n",
    "                  header=True,\n",
    "                  encoding='utf-8')\n",
    "\n",
    "df_excel_3.to_csv('../Input_Data_CSV/Roof_Investment.csv',\n",
    "                  sep=';',\n",
    "                  index=None,\n",
    "                  header=True,\n",
    "                  encoding='utf-8')\n",
    "\n",
    "df_excel_4.to_csv('../Input_Data_CSV/Floor_Investment.csv',\n",
    "                  sep=';',\n",
    "                  index=None,\n",
    "                  header=True,\n",
    "                  encoding='utf-8')\n",
    "\n",
    "df_excel_5.to_csv('../Input_Data_CSV/Housing_Characteristics.csv',\n",
    "                  sep=';',\n",
    "                  index=None,\n",
    "                  header=True,\n",
    "                  encoding='utf-8')\n",
    "\n",
    "df_excel_6.to_csv('../Input_Data_CSV/Climate_Zone.csv',\n",
    "                  sep=';',\n",
    "                  index=None,\n",
    "                  header=True,\n",
    "                  encoding='utf-8')\n",
    "\n",
    "df_excel_7.to_csv('../Input_Data_CSV/Heating_System.csv',\n",
    "                  sep=';',\n",
    "                  index=None,\n",
    "                  header=True,\n",
    "                  encoding='utf-8')\n",
    "\n",
    "df_excel_8.to_csv('../Input_Data_CSV/Headcount.csv',\n",
    "                  sep=';',\n",
    "                  index=None,\n",
    "                  header=True,\n",
    "                  encoding='utf-8')\n",
    "\n",
    "df_excel_9.to_csv('../Input_Data_CSV/Economic_Hypothesis.csv',\n",
    "                  sep=';',\n",
    "                  index=None,\n",
    "                  header=True,\n",
    "                  encoding='utf-8')\n",
    "\n",
    "df_excel_10.to_csv('../Input_Data_CSV/Headcount_Sample.csv',\n",
    "                   sep=';',\n",
    "                   index=None,\n",
    "                   header=True,\n",
    "                   encoding='utf-8')"
   ]
  },
  {
   "cell_type": "markdown",
   "metadata": {},
   "source": [
    "# Extraction of data from CSV files"
   ]
  },
  {
   "cell_type": "code",
   "execution_count": 4,
   "metadata": {
    "ExecuteTime": {
     "end_time": "2019-10-18T12:54:14.009972Z",
     "start_time": "2019-10-18T12:54:13.952708Z"
    }
   },
   "outputs": [],
   "source": [
    "df_csv_1 = pd.read_csv('../Input_Data_CSV/Wall_Investment.csv',\n",
    "                       sep=';',\n",
    "                       index_col=False,\n",
    "                       header=0)\n",
    "\n",
    "df_csv_2 = pd.read_csv('../Input_Data_CSV/Window_Investment.csv',\n",
    "                       sep=';',\n",
    "                       index_col=False,\n",
    "                       header=0)\n",
    "\n",
    "df_csv_3 = pd.read_csv('../Input_Data_CSV/Roof_Investment.csv',\n",
    "                       sep=';',\n",
    "                       index_col=False,\n",
    "                       header=0)\n",
    "\n",
    "df_csv_4 = pd.read_csv('../Input_Data_CSV/Floor_Investment.csv',\n",
    "                       sep=';',\n",
    "                       index_col=False,\n",
    "                       header=0)\n",
    "\n",
    "df_csv_5 = pd.read_csv('../Input_Data_CSV/Housing_Characteristics.csv',\n",
    "                       sep=';',\n",
    "                       index_col=False,\n",
    "                       header=0)\n",
    "\n",
    "df_csv_6 = pd.read_csv('../Input_Data_CSV/Climate_Zone.csv',\n",
    "                       sep=';',\n",
    "                       index_col=False,\n",
    "                       header=0)\n",
    "\n",
    "df_csv_7 = pd.read_csv('../Input_Data_CSV/Heating_System.csv',\n",
    "                       sep=';',\n",
    "                       index_col=False,\n",
    "                       header=0)\n",
    "\n",
    "df_csv_8 = pd.read_csv('../Input_Data_CSV/Headcount.csv',\n",
    "                       sep=';',\n",
    "                       index_col=False,\n",
    "                       header=0)\n",
    "\n",
    "df_csv_9 = pd.read_csv('../Input_Data_CSV/Economic_Hypothesis.csv',\n",
    "                       sep=';',\n",
    "                       index_col=False,\n",
    "                       header=0)\n",
    "\n",
    "df_csv_10 = pd.read_csv('../Input_Data_CSV/Headcount_Sample.csv',\n",
    "                        sep=';',\n",
    "                        index_col=False,\n",
    "                        header=0)"
   ]
  },
  {
   "cell_type": "markdown",
   "metadata": {},
   "source": [
    "# Comparison of the execution times"
   ]
  },
  {
   "cell_type": "code",
   "execution_count": 5,
   "metadata": {
    "ExecuteTime": {
     "end_time": "2019-10-18T12:54:30.707780Z",
     "start_time": "2019-10-18T12:54:14.012813Z"
    }
   },
   "outputs": [
    {
     "name": "stdout",
     "output_type": "stream",
     "text": [
      "2.02 s ± 150 ms per loop (mean ± std. dev. of 7 runs, 1 loop each)\n"
     ]
    }
   ],
   "source": [
    "%%timeit\n",
    "df_excel_8 = pd.read_excel('../Input_Data_Excel/Input_Data.xlsx',\n",
    "                           index_col=False,\n",
    "                           header=0,\n",
    "                           sheet_name='Headcount')"
   ]
  },
  {
   "cell_type": "code",
   "execution_count": 6,
   "metadata": {
    "ExecuteTime": {
     "end_time": "2019-10-18T12:54:44.262445Z",
     "start_time": "2019-10-18T12:54:30.709402Z"
    }
   },
   "outputs": [
    {
     "name": "stdout",
     "output_type": "stream",
     "text": [
      "16.6 ms ± 175 µs per loop (mean ± std. dev. of 7 runs, 100 loops each)\n"
     ]
    }
   ],
   "source": [
    "%%timeit\n",
    "df_csv_8 = pd.read_csv('../Input_Data_CSV/Headcount.csv',\n",
    "                       sep=';',\n",
    "                       index_col=False,\n",
    "                       header=0)"
   ]
  }
 ],
 "metadata": {
  "hide_input": false,
  "kernelspec": {
   "display_name": "Python 3",
   "language": "python",
   "name": "python3"
  },
  "language_info": {
   "codemirror_mode": {
    "name": "ipython",
    "version": 3
   },
   "file_extension": ".py",
   "mimetype": "text/x-python",
   "name": "python",
   "nbconvert_exporter": "python",
   "pygments_lexer": "ipython3",
   "version": "3.7.3"
  },
  "latex_envs": {
   "LaTeX_envs_menu_present": true,
   "autoclose": true,
   "autocomplete": true,
   "bibliofile": "biblio.bib",
   "cite_by": "apalike",
   "current_citInitial": 1,
   "eqLabelWithNumbers": true,
   "eqNumInitial": 1,
   "hotkeys": {
    "equation": "Ctrl-E",
    "itemize": "Ctrl-I"
   },
   "labels_anchors": false,
   "latex_user_defs": false,
   "report_style_numbering": true,
   "user_envs_cfg": true
  },
  "nbTranslate": {
   "displayLangs": [
    "*"
   ],
   "hotkey": "alt-t",
   "langInMainMenu": true,
   "sourceLang": "en",
   "targetLang": "fr",
   "useGoogleTranslate": true
  },
  "toc": {
   "base_numbering": 1,
   "nav_menu": {},
   "number_sections": true,
   "sideBar": true,
   "skip_h1_title": false,
   "title_cell": "Table of Contents",
   "title_sidebar": "Contents",
   "toc_cell": true,
   "toc_position": {
    "height": "calc(100% - 180px)",
    "left": "10px",
    "top": "150px",
    "width": "256px"
   },
   "toc_section_display": true,
   "toc_window_display": true
  },
  "varInspector": {
   "cols": {
    "lenName": 16,
    "lenType": 16,
    "lenVar": 40
   },
   "kernels_config": {
    "python": {
     "delete_cmd_postfix": "",
     "delete_cmd_prefix": "del ",
     "library": "var_list.py",
     "varRefreshCmd": "print(var_dic_list())"
    },
    "r": {
     "delete_cmd_postfix": ") ",
     "delete_cmd_prefix": "rm(",
     "library": "var_list.r",
     "varRefreshCmd": "cat(var_dic_list()) "
    }
   },
   "position": {
    "height": "570.297px",
    "left": "1031px",
    "right": "20px",
    "top": "107px",
    "width": "352.844px"
   },
   "types_to_exclude": [
    "module",
    "function",
    "builtin_function_or_method",
    "instance",
    "_Feature"
   ],
   "window_display": true
  }
 },
 "nbformat": 4,
 "nbformat_minor": 2
}
