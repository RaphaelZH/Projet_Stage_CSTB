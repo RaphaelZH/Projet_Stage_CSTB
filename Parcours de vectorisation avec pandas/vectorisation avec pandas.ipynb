{
 "cells": [
  {
   "cell_type": "markdown",
   "metadata": {
    "toc": true
   },
   "source": [
    "<h1>Table of Contents<span class=\"tocSkip\"></span></h1>\n",
    "<div class=\"toc\"><ul class=\"toc-item\"><li><span><a href=\"#Combinaison-des-propriétés-des-logements\" data-toc-modified-id=\"Combinaison-des-propriétés-des-logements-1\"><span class=\"toc-item-num\">1&nbsp;&nbsp;</span>Combinaison des propriétés des logements</a></span><ul class=\"toc-item\"><li><span><a href=\"#Attribution-des-valeurs-de-chaque-propriété-par-listes\" data-toc-modified-id=\"Attribution-des-valeurs-de-chaque-propriété-par-listes-1.1\"><span class=\"toc-item-num\">1.1&nbsp;&nbsp;</span>Attribution des valeurs de chaque propriété par listes</a></span></li><li><span><a href=\"#Combinaison-des-listes-de-valeurs-par-une-liste-à-deux-dimensions\" data-toc-modified-id=\"Combinaison-des-listes-de-valeurs-par-une-liste-à-deux-dimensions-1.2\"><span class=\"toc-item-num\">1.2&nbsp;&nbsp;</span>Combinaison des listes de valeurs par une liste à deux dimensions</a></span></li><li><span><a href=\"#Création-d’une-liste-à-deux-dimensions-du-produit-cartésien\" data-toc-modified-id=\"Création-d’une-liste-à-deux-dimensions-du-produit-cartésien-1.3\"><span class=\"toc-item-num\">1.3&nbsp;&nbsp;</span>Création d’une liste à deux dimensions du produit cartésien</a></span></li></ul></li><li><span><a href=\"#Instanciation-des-logements\" data-toc-modified-id=\"Instanciation-des-logements-2\"><span class=\"toc-item-num\">2&nbsp;&nbsp;</span>Instanciation des logements</a></span><ul class=\"toc-item\"><li><span><a href=\"#Création-d’une-classe-pour-un-type-de-logement\" data-toc-modified-id=\"Création-d’une-classe-pour-un-type-de-logement-2.1\"><span class=\"toc-item-num\">2.1&nbsp;&nbsp;</span>Création d’une classe pour un type de logement</a></span></li><li><span><a href=\"#Instanciation-de-la-classe-de-logement-à-une-liste-à-deux-dimensions\" data-toc-modified-id=\"Instanciation-de-la-classe-de-logement-à-une-liste-à-deux-dimensions-2.2\"><span class=\"toc-item-num\">2.2&nbsp;&nbsp;</span>Instanciation de la classe de logement à une liste à deux dimensions</a></span></li></ul></li><li><span><a href=\"#Combinaisons-du-calcul-économique\" data-toc-modified-id=\"Combinaisons-du-calcul-économique-3\"><span class=\"toc-item-num\">3&nbsp;&nbsp;</span>Combinaisons du calcul économique</a></span><ul class=\"toc-item\"><li><span><a href=\"#Création-du-DataFrame-selon-la-liste-de-combinaison-des-propriétés\" data-toc-modified-id=\"Création-du-DataFrame-selon-la-liste-de-combinaison-des-propriétés-3.1\"><span class=\"toc-item-num\">3.1&nbsp;&nbsp;</span>Création du DataFrame selon la liste de combinaison des propriétés</a></span></li><li><span><a href=\"#Calcul-économique-en-utilisant-des-formules-uniformes\" data-toc-modified-id=\"Calcul-économique-en-utilisant-des-formules-uniformes-3.2\"><span class=\"toc-item-num\">3.2&nbsp;&nbsp;</span>Calcul économique en utilisant des formules uniformes</a></span></li><li><span><a href=\"#Calcul-économique-en-utilisant-des-formules-à-partir-de-booléen\" data-toc-modified-id=\"Calcul-économique-en-utilisant-des-formules-à-partir-de-booléen-3.3\"><span class=\"toc-item-num\">3.3&nbsp;&nbsp;</span>Calcul économique en utilisant des formules à partir de booléen</a></span></li><li><span><a href=\"#Calcul-économique-en-utilisant-des-formules-à-partir-d’un-intervalle-sélectionné\" data-toc-modified-id=\"Calcul-économique-en-utilisant-des-formules-à-partir-d’un-intervalle-sélectionné-3.4\"><span class=\"toc-item-num\">3.4&nbsp;&nbsp;</span>Calcul économique en utilisant des formules à partir d’un intervalle sélectionné</a></span></li><li><span><a href=\"#Calcul-économique-en-matrice-à-partir-de-booléen\" data-toc-modified-id=\"Calcul-économique-en-matrice-à-partir-de-booléen-3.5\"><span class=\"toc-item-num\">3.5&nbsp;&nbsp;</span>Calcul économique en matrice à partir de booléen</a></span></li><li><span><a href=\"#Calcul-économique-en-utilisant-des-fonctions\" data-toc-modified-id=\"Calcul-économique-en-utilisant-des-fonctions-3.6\"><span class=\"toc-item-num\">3.6&nbsp;&nbsp;</span>Calcul économique en utilisant des fonctions</a></span><ul class=\"toc-item\"><li><span><a href=\"#La-bonne-performance\" data-toc-modified-id=\"La-bonne-performance-3.6.1\"><span class=\"toc-item-num\">3.6.1&nbsp;&nbsp;</span>La bonne performance</a></span></li><li><span><a href=\"#La-mauvaise-performance\" data-toc-modified-id=\"La-mauvaise-performance-3.6.2\"><span class=\"toc-item-num\">3.6.2&nbsp;&nbsp;</span>La mauvaise performance</a></span></li></ul></li></ul></li><li><span><a href=\"#Jointure-de-table\" data-toc-modified-id=\"Jointure-de-table-4\"><span class=\"toc-item-num\">4&nbsp;&nbsp;</span>Jointure de table</a></span></li><li><span><a href=\"#Calcul-du-minimum-par-logement\" data-toc-modified-id=\"Calcul-du-minimum-par-logement-5\"><span class=\"toc-item-num\">5&nbsp;&nbsp;</span>Calcul du minimum par logement</a></span><ul class=\"toc-item\"><li><span><a href=\"#Calcul-avec-des-sorts\" data-toc-modified-id=\"Calcul-avec-des-sorts-5.1\"><span class=\"toc-item-num\">5.1&nbsp;&nbsp;</span>Calcul avec des sorts</a></span></li><li><span><a href=\"#Transformation-en-dictionnaire\" data-toc-modified-id=\"Transformation-en-dictionnaire-5.2\"><span class=\"toc-item-num\">5.2&nbsp;&nbsp;</span>Transformation en dictionnaire</a></span></li></ul></li><li><span><a href=\"#Calcul-final-qui-consiste-uniquement-à-requêter-le-résultat-dans-le-dictionnaire-réduit\" data-toc-modified-id=\"Calcul-final-qui-consiste-uniquement-à-requêter-le-résultat-dans-le-dictionnaire-réduit-6\"><span class=\"toc-item-num\">6&nbsp;&nbsp;</span>Calcul final qui consiste uniquement à requêter le résultat dans le dictionnaire réduit</a></span></li><li><span><a href=\"#Dimensionnement-et-segmentation-du-problème\" data-toc-modified-id=\"Dimensionnement-et-segmentation-du-problème-7\"><span class=\"toc-item-num\">7&nbsp;&nbsp;</span>Dimensionnement et segmentation du problème</a></span></li><li><span><a href=\"#Virement-des-combinaisons\" data-toc-modified-id=\"Virement-des-combinaisons-8\"><span class=\"toc-item-num\">8&nbsp;&nbsp;</span>Virement des combinaisons</a></span></li></ul></div>"
   ]
  },
  {
   "cell_type": "markdown",
   "metadata": {},
   "source": [
    "# Combinaison des propriétés des logements"
   ]
  },
  {
   "cell_type": "markdown",
   "metadata": {},
   "source": [
    "## Attribution des valeurs de chaque propriété par listes"
   ]
  },
  {
   "cell_type": "code",
   "execution_count": 1,
   "metadata": {
    "ExecuteTime": {
     "end_time": "2019-08-29T14:00:00.657609Z",
     "start_time": "2019-08-29T14:00:00.455873Z"
    }
   },
   "outputs": [],
   "source": [
    "import numpy as np\n",
    "\n",
    "list_surface = [110, 120, 130, 140, 150]\n",
    "\n",
    "list_ceiling_heigh = (2.5 + 0.5 * np.random.random((5, ))).tolist()\n",
    "\n",
    "list_share_of_windows = [0.3]\n",
    "\n",
    "list_dwelling_per_floor = np.random.randint(2, 10, size=3).tolist()\n",
    "\n",
    "list_floors = list(range(2, 10, 2))"
   ]
  },
  {
   "cell_type": "markdown",
   "metadata": {},
   "source": [
    "## Combinaison des listes de valeurs par une liste à deux dimensions"
   ]
  },
  {
   "cell_type": "code",
   "execution_count": 2,
   "metadata": {
    "ExecuteTime": {
     "end_time": "2019-08-29T14:00:01.458556Z",
     "start_time": "2019-08-29T14:00:01.449511Z"
    }
   },
   "outputs": [
    {
     "data": {
      "text/plain": [
       "[[110, 120, 130, 140, 150],\n",
       " [2.9522879195330676,\n",
       "  2.756376972059785,\n",
       "  2.628864360935954,\n",
       "  2.670649106673581,\n",
       "  2.9237944587795184],\n",
       " [0.3],\n",
       " [7, 8, 2],\n",
       " range(2, 10, 2)]"
      ]
     },
     "execution_count": 2,
     "metadata": {},
     "output_type": "execute_result"
    }
   ],
   "source": [
    "housing_characters = list()\n",
    "\n",
    "housing_characters.append(list_surface)\n",
    "\n",
    "housing_characters.append(list_ceiling_heigh)\n",
    "\n",
    "housing_characters += [\n",
    "    list_share_of_windows, list_dwelling_per_floor, list_floors\n",
    "]\n",
    "\n",
    "housing_characters"
   ]
  },
  {
   "cell_type": "code",
   "execution_count": 3,
   "metadata": {
    "ExecuteTime": {
     "end_time": "2019-08-29T14:00:01.597609Z",
     "start_time": "2019-08-29T14:00:01.593443Z"
    }
   },
   "outputs": [
    {
     "data": {
      "text/plain": [
       "5"
      ]
     },
     "execution_count": 3,
     "metadata": {},
     "output_type": "execute_result"
    }
   ],
   "source": [
    "len(housing_characters)"
   ]
  },
  {
   "cell_type": "markdown",
   "metadata": {},
   "source": [
    "## Création d’une liste à deux dimensions du produit cartésien"
   ]
  },
  {
   "cell_type": "code",
   "execution_count": 4,
   "metadata": {
    "ExecuteTime": {
     "end_time": "2019-08-29T14:00:02.502684Z",
     "start_time": "2019-08-29T14:00:02.491101Z"
    }
   },
   "outputs": [
    {
     "data": {
      "text/plain": [
       "[(110, 2.9522879195330676, 0.3, 7, 2),\n",
       " (110, 2.9522879195330676, 0.3, 7, 4),\n",
       " (110, 2.9522879195330676, 0.3, 7, 6),\n",
       " (110, 2.9522879195330676, 0.3, 7, 8),\n",
       " (110, 2.9522879195330676, 0.3, 8, 2)]"
      ]
     },
     "execution_count": 4,
     "metadata": {},
     "output_type": "execute_result"
    }
   ],
   "source": [
    "import itertools\n",
    "\n",
    "cartesian_product = list(itertools.product(*housing_characters))\n",
    "\n",
    "cartesian_product[:5]"
   ]
  },
  {
   "cell_type": "code",
   "execution_count": 5,
   "metadata": {
    "ExecuteTime": {
     "end_time": "2019-08-29T14:00:02.617546Z",
     "start_time": "2019-08-29T14:00:02.608765Z"
    }
   },
   "outputs": [
    {
     "data": {
      "text/plain": [
       "300"
      ]
     },
     "execution_count": 5,
     "metadata": {},
     "output_type": "execute_result"
    }
   ],
   "source": [
    "len(cartesian_product)"
   ]
  },
  {
   "cell_type": "code",
   "execution_count": 6,
   "metadata": {
    "ExecuteTime": {
     "end_time": "2019-08-29T14:00:02.713977Z",
     "start_time": "2019-08-29T14:00:02.708287Z"
    }
   },
   "outputs": [
    {
     "data": {
      "text/plain": [
       "5"
      ]
     },
     "execution_count": 6,
     "metadata": {},
     "output_type": "execute_result"
    }
   ],
   "source": [
    "len(cartesian_product[0])"
   ]
  },
  {
   "cell_type": "markdown",
   "metadata": {},
   "source": [
    "# Instanciation des logements"
   ]
  },
  {
   "cell_type": "markdown",
   "metadata": {},
   "source": [
    "## Création d’une classe pour un type de logement"
   ]
  },
  {
   "cell_type": "code",
   "execution_count": 7,
   "metadata": {
    "ExecuteTime": {
     "end_time": "2019-08-29T14:00:04.455545Z",
     "start_time": "2019-08-29T14:00:04.448956Z"
    }
   },
   "outputs": [],
   "source": [
    "class Collective_Dwelling_CI():\n",
    "    def __init__(self, a, b, c, d, e):\n",
    "        self.surface = a\n",
    "        self.ceiling_heigh = b\n",
    "        self.share_of_windows = c\n",
    "        self.dwelling_per_floor = d\n",
    "        self.floors = e\n",
    "\n",
    "    def __str__(self):\n",
    "        return f'\\n\\nCollective Dwelling CI:' + \\\n",
    "    f'\\nSurface: {self.surface},' + \\\n",
    "    f'\\nCeiling Heigh: {self.ceiling_heigh},' + \\\n",
    "    f'\\nShare of Windows: {self.share_of_windows},' + \\\n",
    "    f'\\nDwelling per Floor: {self.dwelling_per_floor},' + \\\n",
    "    f'\\nFloors: {self.floors}'\n",
    "\n",
    "    def __repr__(self):\n",
    "        return self.__str__()\n",
    "\n",
    "    def Surface_m(self):\n",
    "        self.surface_m = (1 - self.share_of_windows) * np.sqrt(\n",
    "            self.surface * self.dwelling_per_floor\n",
    "        ) * 4 * self.ceiling_heigh * (self.floors + 1)\n",
    "        return self.surface_m\n",
    "\n",
    "    def Dwellings_total(self):\n",
    "        self.dwellings_total = self.dwelling_per_floor * (self.floors + 1)\n",
    "        return self.dwellings_total\n",
    "\n",
    "    def Surface_component_m(self):\n",
    "        surface_component_m = self.surface_m / self.dwellings_total\n",
    "        return surface_component_m\n",
    "\n",
    "    def Final_calculation(self):\n",
    "        self.result = dict_min[(self.surface, self.floors)]\n",
    "        return self.result"
   ]
  },
  {
   "cell_type": "markdown",
   "metadata": {},
   "source": [
    "## Instanciation de la classe de logement à une liste à deux dimensions"
   ]
  },
  {
   "cell_type": "code",
   "execution_count": 8,
   "metadata": {
    "ExecuteTime": {
     "end_time": "2019-08-29T14:00:05.540326Z",
     "start_time": "2019-08-29T14:00:05.535154Z"
    }
   },
   "outputs": [
    {
     "data": {
      "text/plain": [
       "300"
      ]
     },
     "execution_count": 8,
     "metadata": {},
     "output_type": "execute_result"
    }
   ],
   "source": [
    "dwellings = list()\n",
    "\n",
    "for _tuple in cartesian_product:\n",
    "    dwellings.append(Collective_Dwelling_CI(*_tuple))\n",
    "\n",
    "len(dwellings)"
   ]
  },
  {
   "cell_type": "code",
   "execution_count": 9,
   "metadata": {
    "ExecuteTime": {
     "end_time": "2019-08-29T14:00:05.671805Z",
     "start_time": "2019-08-29T14:00:05.661846Z"
    }
   },
   "outputs": [
    {
     "data": {
      "text/plain": [
       "[\n",
       " \n",
       " Collective Dwelling CI:\n",
       " Surface: 110,\n",
       " Ceiling Heigh: 2.9522879195330676,\n",
       " Share of Windows: 0.3,\n",
       " Dwelling per Floor: 7,\n",
       " Floors: 2, \n",
       " \n",
       " Collective Dwelling CI:\n",
       " Surface: 110,\n",
       " Ceiling Heigh: 2.9522879195330676,\n",
       " Share of Windows: 0.3,\n",
       " Dwelling per Floor: 7,\n",
       " Floors: 4, \n",
       " \n",
       " Collective Dwelling CI:\n",
       " Surface: 110,\n",
       " Ceiling Heigh: 2.9522879195330676,\n",
       " Share of Windows: 0.3,\n",
       " Dwelling per Floor: 7,\n",
       " Floors: 6, \n",
       " \n",
       " Collective Dwelling CI:\n",
       " Surface: 110,\n",
       " Ceiling Heigh: 2.9522879195330676,\n",
       " Share of Windows: 0.3,\n",
       " Dwelling per Floor: 7,\n",
       " Floors: 8, \n",
       " \n",
       " Collective Dwelling CI:\n",
       " Surface: 110,\n",
       " Ceiling Heigh: 2.9522879195330676,\n",
       " Share of Windows: 0.3,\n",
       " Dwelling per Floor: 8,\n",
       " Floors: 2]"
      ]
     },
     "execution_count": 9,
     "metadata": {},
     "output_type": "execute_result"
    }
   ],
   "source": [
    "dwellings[:5]"
   ]
  },
  {
   "cell_type": "code",
   "execution_count": 10,
   "metadata": {
    "ExecuteTime": {
     "end_time": "2019-08-29T14:00:05.769704Z",
     "start_time": "2019-08-29T14:00:05.764979Z"
    }
   },
   "outputs": [
    {
     "data": {
      "text/plain": [
       "\n",
       "\n",
       "Collective Dwelling CI:\n",
       "Surface: 110,\n",
       "Ceiling Heigh: 2.9522879195330676,\n",
       "Share of Windows: 0.3,\n",
       "Dwelling per Floor: 7,\n",
       "Floors: 2"
      ]
     },
     "execution_count": 10,
     "metadata": {},
     "output_type": "execute_result"
    }
   ],
   "source": [
    "dwellings[0]"
   ]
  },
  {
   "cell_type": "code",
   "execution_count": 11,
   "metadata": {
    "ExecuteTime": {
     "end_time": "2019-08-29T14:00:05.870213Z",
     "start_time": "2019-08-29T14:00:05.864566Z"
    }
   },
   "outputs": [
    {
     "data": {
      "text/plain": [
       "688.150386428592"
      ]
     },
     "execution_count": 11,
     "metadata": {},
     "output_type": "execute_result"
    }
   ],
   "source": [
    "dwellings[0].Surface_m()"
   ]
  },
  {
   "cell_type": "code",
   "execution_count": 12,
   "metadata": {
    "ExecuteTime": {
     "end_time": "2019-08-29T14:00:06.033077Z",
     "start_time": "2019-08-29T14:00:06.027643Z"
    }
   },
   "outputs": [
    {
     "data": {
      "text/plain": [
       "21"
      ]
     },
     "execution_count": 12,
     "metadata": {},
     "output_type": "execute_result"
    }
   ],
   "source": [
    "dwellings[0].Dwellings_total()"
   ]
  },
  {
   "cell_type": "code",
   "execution_count": 13,
   "metadata": {
    "ExecuteTime": {
     "end_time": "2019-08-29T14:00:06.265408Z",
     "start_time": "2019-08-29T14:00:06.260769Z"
    }
   },
   "outputs": [
    {
     "data": {
      "text/plain": [
       "32.76906602040914"
      ]
     },
     "execution_count": 13,
     "metadata": {},
     "output_type": "execute_result"
    }
   ],
   "source": [
    "dwellings[0].Surface_component_m()"
   ]
  },
  {
   "cell_type": "markdown",
   "metadata": {},
   "source": [
    "# Combinaisons du calcul économique"
   ]
  },
  {
   "cell_type": "markdown",
   "metadata": {},
   "source": [
    "## Création du DataFrame selon la liste de combinaison des propriétés"
   ]
  },
  {
   "cell_type": "code",
   "execution_count": 14,
   "metadata": {
    "ExecuteTime": {
     "end_time": "2019-08-29T14:00:08.847379Z",
     "start_time": "2019-08-29T14:00:08.027112Z"
    }
   },
   "outputs": [
    {
     "data": {
      "text/plain": [
       "(300, 5)"
      ]
     },
     "execution_count": 14,
     "metadata": {},
     "output_type": "execute_result"
    }
   ],
   "source": [
    "import pandas as pd\n",
    "\n",
    "df = pd.DataFrame(cartesian_product)\n",
    "\n",
    "df.shape"
   ]
  },
  {
   "cell_type": "code",
   "execution_count": 15,
   "metadata": {
    "ExecuteTime": {
     "end_time": "2019-08-29T14:00:08.885555Z",
     "start_time": "2019-08-29T14:00:08.849621Z"
    }
   },
   "outputs": [
    {
     "data": {
      "text/html": [
       "<div>\n",
       "<style scoped>\n",
       "    .dataframe tbody tr th:only-of-type {\n",
       "        vertical-align: middle;\n",
       "    }\n",
       "\n",
       "    .dataframe tbody tr th {\n",
       "        vertical-align: top;\n",
       "    }\n",
       "\n",
       "    .dataframe thead th {\n",
       "        text-align: right;\n",
       "    }\n",
       "</style>\n",
       "<table border=\"1\" class=\"dataframe\">\n",
       "  <thead>\n",
       "    <tr style=\"text-align: right;\">\n",
       "      <th></th>\n",
       "      <th>0</th>\n",
       "      <th>1</th>\n",
       "      <th>2</th>\n",
       "      <th>3</th>\n",
       "      <th>4</th>\n",
       "    </tr>\n",
       "  </thead>\n",
       "  <tbody>\n",
       "    <tr>\n",
       "      <th>count</th>\n",
       "      <td>300.000000</td>\n",
       "      <td>300.000000</td>\n",
       "      <td>3.000000e+02</td>\n",
       "      <td>300.000000</td>\n",
       "      <td>300.000000</td>\n",
       "    </tr>\n",
       "    <tr>\n",
       "      <th>mean</th>\n",
       "      <td>130.000000</td>\n",
       "      <td>2.786395</td>\n",
       "      <td>3.000000e-01</td>\n",
       "      <td>5.666667</td>\n",
       "      <td>5.000000</td>\n",
       "    </tr>\n",
       "    <tr>\n",
       "      <th>std</th>\n",
       "      <td>14.165765</td>\n",
       "      <td>0.130996</td>\n",
       "      <td>1.668117e-15</td>\n",
       "      <td>2.629055</td>\n",
       "      <td>2.239804</td>\n",
       "    </tr>\n",
       "    <tr>\n",
       "      <th>min</th>\n",
       "      <td>110.000000</td>\n",
       "      <td>2.628864</td>\n",
       "      <td>3.000000e-01</td>\n",
       "      <td>2.000000</td>\n",
       "      <td>2.000000</td>\n",
       "    </tr>\n",
       "    <tr>\n",
       "      <th>25%</th>\n",
       "      <td>120.000000</td>\n",
       "      <td>2.670649</td>\n",
       "      <td>3.000000e-01</td>\n",
       "      <td>2.000000</td>\n",
       "      <td>3.500000</td>\n",
       "    </tr>\n",
       "    <tr>\n",
       "      <th>50%</th>\n",
       "      <td>130.000000</td>\n",
       "      <td>2.756377</td>\n",
       "      <td>3.000000e-01</td>\n",
       "      <td>7.000000</td>\n",
       "      <td>5.000000</td>\n",
       "    </tr>\n",
       "    <tr>\n",
       "      <th>75%</th>\n",
       "      <td>140.000000</td>\n",
       "      <td>2.923794</td>\n",
       "      <td>3.000000e-01</td>\n",
       "      <td>8.000000</td>\n",
       "      <td>6.500000</td>\n",
       "    </tr>\n",
       "    <tr>\n",
       "      <th>max</th>\n",
       "      <td>150.000000</td>\n",
       "      <td>2.952288</td>\n",
       "      <td>3.000000e-01</td>\n",
       "      <td>8.000000</td>\n",
       "      <td>8.000000</td>\n",
       "    </tr>\n",
       "  </tbody>\n",
       "</table>\n",
       "</div>"
      ],
      "text/plain": [
       "                0           1             2           3           4\n",
       "count  300.000000  300.000000  3.000000e+02  300.000000  300.000000\n",
       "mean   130.000000    2.786395  3.000000e-01    5.666667    5.000000\n",
       "std     14.165765    0.130996  1.668117e-15    2.629055    2.239804\n",
       "min    110.000000    2.628864  3.000000e-01    2.000000    2.000000\n",
       "25%    120.000000    2.670649  3.000000e-01    2.000000    3.500000\n",
       "50%    130.000000    2.756377  3.000000e-01    7.000000    5.000000\n",
       "75%    140.000000    2.923794  3.000000e-01    8.000000    6.500000\n",
       "max    150.000000    2.952288  3.000000e-01    8.000000    8.000000"
      ]
     },
     "execution_count": 15,
     "metadata": {},
     "output_type": "execute_result"
    }
   ],
   "source": [
    "df.describe()"
   ]
  },
  {
   "cell_type": "code",
   "execution_count": 16,
   "metadata": {
    "ExecuteTime": {
     "end_time": "2019-08-29T14:00:08.895699Z",
     "start_time": "2019-08-29T14:00:08.888095Z"
    }
   },
   "outputs": [
    {
     "name": "stdout",
     "output_type": "stream",
     "text": [
      "<class 'pandas.core.frame.DataFrame'>\n",
      "RangeIndex: 300 entries, 0 to 299\n",
      "Data columns (total 5 columns):\n",
      "0    300 non-null int64\n",
      "1    300 non-null float64\n",
      "2    300 non-null float64\n",
      "3    300 non-null int64\n",
      "4    300 non-null int64\n",
      "dtypes: float64(2), int64(3)\n",
      "memory usage: 11.8 KB\n"
     ]
    }
   ],
   "source": [
    "df.info()"
   ]
  },
  {
   "cell_type": "markdown",
   "metadata": {},
   "source": [
    "## Calcul économique en utilisant des formules uniformes"
   ]
  },
  {
   "cell_type": "code",
   "execution_count": 17,
   "metadata": {
    "ExecuteTime": {
     "end_time": "2019-08-29T14:00:09.354055Z",
     "start_time": "2019-08-29T14:00:09.342111Z"
    }
   },
   "outputs": [
    {
     "data": {
      "text/html": [
       "<div>\n",
       "<style scoped>\n",
       "    .dataframe tbody tr th:only-of-type {\n",
       "        vertical-align: middle;\n",
       "    }\n",
       "\n",
       "    .dataframe tbody tr th {\n",
       "        vertical-align: top;\n",
       "    }\n",
       "\n",
       "    .dataframe thead th {\n",
       "        text-align: right;\n",
       "    }\n",
       "</style>\n",
       "<table border=\"1\" class=\"dataframe\">\n",
       "  <thead>\n",
       "    <tr style=\"text-align: right;\">\n",
       "      <th></th>\n",
       "      <th>Surface</th>\n",
       "      <th>Ceiling_Heigh</th>\n",
       "      <th>Share_of_Windows</th>\n",
       "      <th>Dwelling_per_Floor</th>\n",
       "      <th>Floors</th>\n",
       "    </tr>\n",
       "  </thead>\n",
       "  <tbody>\n",
       "    <tr>\n",
       "      <th>0</th>\n",
       "      <td>110</td>\n",
       "      <td>2.952288</td>\n",
       "      <td>0.3</td>\n",
       "      <td>7</td>\n",
       "      <td>2</td>\n",
       "    </tr>\n",
       "    <tr>\n",
       "      <th>1</th>\n",
       "      <td>110</td>\n",
       "      <td>2.952288</td>\n",
       "      <td>0.3</td>\n",
       "      <td>7</td>\n",
       "      <td>4</td>\n",
       "    </tr>\n",
       "    <tr>\n",
       "      <th>2</th>\n",
       "      <td>110</td>\n",
       "      <td>2.952288</td>\n",
       "      <td>0.3</td>\n",
       "      <td>7</td>\n",
       "      <td>6</td>\n",
       "    </tr>\n",
       "    <tr>\n",
       "      <th>3</th>\n",
       "      <td>110</td>\n",
       "      <td>2.952288</td>\n",
       "      <td>0.3</td>\n",
       "      <td>7</td>\n",
       "      <td>8</td>\n",
       "    </tr>\n",
       "    <tr>\n",
       "      <th>4</th>\n",
       "      <td>110</td>\n",
       "      <td>2.952288</td>\n",
       "      <td>0.3</td>\n",
       "      <td>8</td>\n",
       "      <td>2</td>\n",
       "    </tr>\n",
       "  </tbody>\n",
       "</table>\n",
       "</div>"
      ],
      "text/plain": [
       "   Surface  Ceiling_Heigh  Share_of_Windows  Dwelling_per_Floor  Floors\n",
       "0      110       2.952288               0.3                   7       2\n",
       "1      110       2.952288               0.3                   7       4\n",
       "2      110       2.952288               0.3                   7       6\n",
       "3      110       2.952288               0.3                   7       8\n",
       "4      110       2.952288               0.3                   8       2"
      ]
     },
     "execution_count": 17,
     "metadata": {},
     "output_type": "execute_result"
    }
   ],
   "source": [
    "df.columns = [\n",
    "    'Surface', 'Ceiling_Heigh', 'Share_of_Windows', 'Dwelling_per_Floor',\n",
    "    'Floors'\n",
    "]\n",
    "\n",
    "df.head()"
   ]
  },
  {
   "cell_type": "code",
   "execution_count": 18,
   "metadata": {
    "ExecuteTime": {
     "end_time": "2019-08-29T14:00:09.549537Z",
     "start_time": "2019-08-29T14:00:09.522695Z"
    }
   },
   "outputs": [
    {
     "data": {
      "text/html": [
       "<div>\n",
       "<style scoped>\n",
       "    .dataframe tbody tr th:only-of-type {\n",
       "        vertical-align: middle;\n",
       "    }\n",
       "\n",
       "    .dataframe tbody tr th {\n",
       "        vertical-align: top;\n",
       "    }\n",
       "\n",
       "    .dataframe thead th {\n",
       "        text-align: right;\n",
       "    }\n",
       "</style>\n",
       "<table border=\"1\" class=\"dataframe\">\n",
       "  <thead>\n",
       "    <tr style=\"text-align: right;\">\n",
       "      <th></th>\n",
       "      <th>Surface</th>\n",
       "      <th>Ceiling_Heigh</th>\n",
       "      <th>Share_of_Windows</th>\n",
       "      <th>Dwelling_per_Floor</th>\n",
       "      <th>Floors</th>\n",
       "      <th>Surface_m</th>\n",
       "      <th>Dwellings_total</th>\n",
       "      <th>Surface_Component_m</th>\n",
       "    </tr>\n",
       "  </thead>\n",
       "  <tbody>\n",
       "    <tr>\n",
       "      <th>0</th>\n",
       "      <td>110</td>\n",
       "      <td>2.952288</td>\n",
       "      <td>0.3</td>\n",
       "      <td>7</td>\n",
       "      <td>2</td>\n",
       "      <td>688.150386</td>\n",
       "      <td>21</td>\n",
       "      <td>32.769066</td>\n",
       "    </tr>\n",
       "    <tr>\n",
       "      <th>1</th>\n",
       "      <td>110</td>\n",
       "      <td>2.952288</td>\n",
       "      <td>0.3</td>\n",
       "      <td>7</td>\n",
       "      <td>4</td>\n",
       "      <td>1146.917311</td>\n",
       "      <td>35</td>\n",
       "      <td>32.769066</td>\n",
       "    </tr>\n",
       "    <tr>\n",
       "      <th>2</th>\n",
       "      <td>110</td>\n",
       "      <td>2.952288</td>\n",
       "      <td>0.3</td>\n",
       "      <td>7</td>\n",
       "      <td>6</td>\n",
       "      <td>1605.684235</td>\n",
       "      <td>49</td>\n",
       "      <td>32.769066</td>\n",
       "    </tr>\n",
       "    <tr>\n",
       "      <th>3</th>\n",
       "      <td>110</td>\n",
       "      <td>2.952288</td>\n",
       "      <td>0.3</td>\n",
       "      <td>7</td>\n",
       "      <td>8</td>\n",
       "      <td>2064.451159</td>\n",
       "      <td>63</td>\n",
       "      <td>32.769066</td>\n",
       "    </tr>\n",
       "    <tr>\n",
       "      <th>4</th>\n",
       "      <td>110</td>\n",
       "      <td>2.952288</td>\n",
       "      <td>0.3</td>\n",
       "      <td>8</td>\n",
       "      <td>2</td>\n",
       "      <td>735.663708</td>\n",
       "      <td>24</td>\n",
       "      <td>30.652654</td>\n",
       "    </tr>\n",
       "  </tbody>\n",
       "</table>\n",
       "</div>"
      ],
      "text/plain": [
       "   Surface  Ceiling_Heigh  Share_of_Windows  Dwelling_per_Floor  Floors  \\\n",
       "0      110       2.952288               0.3                   7       2   \n",
       "1      110       2.952288               0.3                   7       4   \n",
       "2      110       2.952288               0.3                   7       6   \n",
       "3      110       2.952288               0.3                   7       8   \n",
       "4      110       2.952288               0.3                   8       2   \n",
       "\n",
       "     Surface_m  Dwellings_total  Surface_Component_m  \n",
       "0   688.150386               21            32.769066  \n",
       "1  1146.917311               35            32.769066  \n",
       "2  1605.684235               49            32.769066  \n",
       "3  2064.451159               63            32.769066  \n",
       "4   735.663708               24            30.652654  "
      ]
     },
     "execution_count": 18,
     "metadata": {},
     "output_type": "execute_result"
    }
   ],
   "source": [
    "df['Surface_m'] = (1 - df['Share_of_Windows']) * np.sqrt(\n",
    "    df['Surface'] * df['Dwelling_per_Floor']) * 4 * df['Ceiling_Heigh'] * (\n",
    "        df['Floors'] + 1)\n",
    "\n",
    "df['Dwellings_total'] = df['Dwelling_per_Floor'] * (df['Floors'] + 1)\n",
    "\n",
    "df['Surface_Component_m'] = df['Surface_m'] / df['Dwellings_total']\n",
    "\n",
    "df.head()"
   ]
  },
  {
   "cell_type": "markdown",
   "metadata": {},
   "source": [
    "## Calcul économique en utilisant des formules à partir de booléen"
   ]
  },
  {
   "cell_type": "code",
   "execution_count": 19,
   "metadata": {
    "ExecuteTime": {
     "end_time": "2019-08-29T14:00:10.543180Z",
     "start_time": "2019-08-29T14:00:10.517559Z"
    }
   },
   "outputs": [
    {
     "data": {
      "text/html": [
       "<div>\n",
       "<style scoped>\n",
       "    .dataframe tbody tr th:only-of-type {\n",
       "        vertical-align: middle;\n",
       "    }\n",
       "\n",
       "    .dataframe tbody tr th {\n",
       "        vertical-align: top;\n",
       "    }\n",
       "\n",
       "    .dataframe thead th {\n",
       "        text-align: right;\n",
       "    }\n",
       "</style>\n",
       "<table border=\"1\" class=\"dataframe\">\n",
       "  <thead>\n",
       "    <tr style=\"text-align: right;\">\n",
       "      <th></th>\n",
       "      <th>Surface</th>\n",
       "      <th>Ceiling_Heigh</th>\n",
       "      <th>Share_of_Windows</th>\n",
       "      <th>Dwelling_per_Floor</th>\n",
       "      <th>Floors</th>\n",
       "      <th>Surface_m</th>\n",
       "      <th>Dwellings_total</th>\n",
       "      <th>Surface_Component_m</th>\n",
       "      <th>Dwelling_total_bool</th>\n",
       "    </tr>\n",
       "  </thead>\n",
       "  <tbody>\n",
       "    <tr>\n",
       "      <th>0</th>\n",
       "      <td>110</td>\n",
       "      <td>2.952288</td>\n",
       "      <td>0.3</td>\n",
       "      <td>7</td>\n",
       "      <td>2</td>\n",
       "      <td>688.150386</td>\n",
       "      <td>21</td>\n",
       "      <td>32.769066</td>\n",
       "      <td>NaN</td>\n",
       "    </tr>\n",
       "    <tr>\n",
       "      <th>1</th>\n",
       "      <td>110</td>\n",
       "      <td>2.952288</td>\n",
       "      <td>0.3</td>\n",
       "      <td>7</td>\n",
       "      <td>4</td>\n",
       "      <td>1146.917311</td>\n",
       "      <td>35</td>\n",
       "      <td>32.769066</td>\n",
       "      <td>NaN</td>\n",
       "    </tr>\n",
       "    <tr>\n",
       "      <th>2</th>\n",
       "      <td>110</td>\n",
       "      <td>2.952288</td>\n",
       "      <td>0.3</td>\n",
       "      <td>7</td>\n",
       "      <td>6</td>\n",
       "      <td>1605.684235</td>\n",
       "      <td>49</td>\n",
       "      <td>32.769066</td>\n",
       "      <td>NaN</td>\n",
       "    </tr>\n",
       "    <tr>\n",
       "      <th>3</th>\n",
       "      <td>110</td>\n",
       "      <td>2.952288</td>\n",
       "      <td>0.3</td>\n",
       "      <td>7</td>\n",
       "      <td>8</td>\n",
       "      <td>2064.451159</td>\n",
       "      <td>63</td>\n",
       "      <td>32.769066</td>\n",
       "      <td>56.0</td>\n",
       "    </tr>\n",
       "    <tr>\n",
       "      <th>4</th>\n",
       "      <td>110</td>\n",
       "      <td>2.952288</td>\n",
       "      <td>0.3</td>\n",
       "      <td>8</td>\n",
       "      <td>2</td>\n",
       "      <td>735.663708</td>\n",
       "      <td>24</td>\n",
       "      <td>30.652654</td>\n",
       "      <td>NaN</td>\n",
       "    </tr>\n",
       "  </tbody>\n",
       "</table>\n",
       "</div>"
      ],
      "text/plain": [
       "   Surface  Ceiling_Heigh  Share_of_Windows  Dwelling_per_Floor  Floors  \\\n",
       "0      110       2.952288               0.3                   7       2   \n",
       "1      110       2.952288               0.3                   7       4   \n",
       "2      110       2.952288               0.3                   7       6   \n",
       "3      110       2.952288               0.3                   7       8   \n",
       "4      110       2.952288               0.3                   8       2   \n",
       "\n",
       "     Surface_m  Dwellings_total  Surface_Component_m  Dwelling_total_bool  \n",
       "0   688.150386               21            32.769066                  NaN  \n",
       "1  1146.917311               35            32.769066                  NaN  \n",
       "2  1605.684235               49            32.769066                  NaN  \n",
       "3  2064.451159               63            32.769066                 56.0  \n",
       "4   735.663708               24            30.652654                  NaN  "
      ]
     },
     "execution_count": 19,
     "metadata": {},
     "output_type": "execute_result"
    }
   ],
   "source": [
    "bool_floors = df.Floors >= 8\n",
    "\n",
    "df.loc[(bool_floors\n",
    "        ), 'Dwelling_total_bool'] = df['Dwelling_per_Floor'] * df['Floors']\n",
    "\n",
    "df.head()"
   ]
  },
  {
   "cell_type": "code",
   "execution_count": 20,
   "metadata": {
    "ExecuteTime": {
     "end_time": "2019-08-29T14:00:10.739867Z",
     "start_time": "2019-08-29T14:00:10.718244Z"
    }
   },
   "outputs": [
    {
     "data": {
      "text/html": [
       "<div>\n",
       "<style scoped>\n",
       "    .dataframe tbody tr th:only-of-type {\n",
       "        vertical-align: middle;\n",
       "    }\n",
       "\n",
       "    .dataframe tbody tr th {\n",
       "        vertical-align: top;\n",
       "    }\n",
       "\n",
       "    .dataframe thead th {\n",
       "        text-align: right;\n",
       "    }\n",
       "</style>\n",
       "<table border=\"1\" class=\"dataframe\">\n",
       "  <thead>\n",
       "    <tr style=\"text-align: right;\">\n",
       "      <th></th>\n",
       "      <th>Surface</th>\n",
       "      <th>Ceiling_Heigh</th>\n",
       "      <th>Share_of_Windows</th>\n",
       "      <th>Dwelling_per_Floor</th>\n",
       "      <th>Floors</th>\n",
       "      <th>Surface_m</th>\n",
       "      <th>Dwellings_total</th>\n",
       "      <th>Surface_Component_m</th>\n",
       "      <th>Dwelling_total_bool</th>\n",
       "    </tr>\n",
       "  </thead>\n",
       "  <tbody>\n",
       "    <tr>\n",
       "      <th>0</th>\n",
       "      <td>110</td>\n",
       "      <td>2.952288</td>\n",
       "      <td>0.3</td>\n",
       "      <td>7</td>\n",
       "      <td>2</td>\n",
       "      <td>688.150386</td>\n",
       "      <td>21</td>\n",
       "      <td>32.769066</td>\n",
       "      <td>21.0</td>\n",
       "    </tr>\n",
       "    <tr>\n",
       "      <th>1</th>\n",
       "      <td>110</td>\n",
       "      <td>2.952288</td>\n",
       "      <td>0.3</td>\n",
       "      <td>7</td>\n",
       "      <td>4</td>\n",
       "      <td>1146.917311</td>\n",
       "      <td>35</td>\n",
       "      <td>32.769066</td>\n",
       "      <td>35.0</td>\n",
       "    </tr>\n",
       "    <tr>\n",
       "      <th>2</th>\n",
       "      <td>110</td>\n",
       "      <td>2.952288</td>\n",
       "      <td>0.3</td>\n",
       "      <td>7</td>\n",
       "      <td>6</td>\n",
       "      <td>1605.684235</td>\n",
       "      <td>49</td>\n",
       "      <td>32.769066</td>\n",
       "      <td>49.0</td>\n",
       "    </tr>\n",
       "    <tr>\n",
       "      <th>3</th>\n",
       "      <td>110</td>\n",
       "      <td>2.952288</td>\n",
       "      <td>0.3</td>\n",
       "      <td>7</td>\n",
       "      <td>8</td>\n",
       "      <td>2064.451159</td>\n",
       "      <td>63</td>\n",
       "      <td>32.769066</td>\n",
       "      <td>56.0</td>\n",
       "    </tr>\n",
       "    <tr>\n",
       "      <th>4</th>\n",
       "      <td>110</td>\n",
       "      <td>2.952288</td>\n",
       "      <td>0.3</td>\n",
       "      <td>8</td>\n",
       "      <td>2</td>\n",
       "      <td>735.663708</td>\n",
       "      <td>24</td>\n",
       "      <td>30.652654</td>\n",
       "      <td>24.0</td>\n",
       "    </tr>\n",
       "  </tbody>\n",
       "</table>\n",
       "</div>"
      ],
      "text/plain": [
       "   Surface  Ceiling_Heigh  Share_of_Windows  Dwelling_per_Floor  Floors  \\\n",
       "0      110       2.952288               0.3                   7       2   \n",
       "1      110       2.952288               0.3                   7       4   \n",
       "2      110       2.952288               0.3                   7       6   \n",
       "3      110       2.952288               0.3                   7       8   \n",
       "4      110       2.952288               0.3                   8       2   \n",
       "\n",
       "     Surface_m  Dwellings_total  Surface_Component_m  Dwelling_total_bool  \n",
       "0   688.150386               21            32.769066                 21.0  \n",
       "1  1146.917311               35            32.769066                 35.0  \n",
       "2  1605.684235               49            32.769066                 49.0  \n",
       "3  2064.451159               63            32.769066                 56.0  \n",
       "4   735.663708               24            30.652654                 24.0  "
      ]
     },
     "execution_count": 20,
     "metadata": {},
     "output_type": "execute_result"
    }
   ],
   "source": [
    "df.loc[~bool_floors, 'Dwelling_total_bool'] = df['Dwelling_per_Floor'] * (\n",
    "    df['Floors'] + 1)\n",
    "\n",
    "df.head()"
   ]
  },
  {
   "cell_type": "markdown",
   "metadata": {},
   "source": [
    "## Calcul économique en utilisant des formules à partir d’un intervalle sélectionné"
   ]
  },
  {
   "cell_type": "code",
   "execution_count": 21,
   "metadata": {
    "ExecuteTime": {
     "end_time": "2019-08-29T14:00:11.987455Z",
     "start_time": "2019-08-29T14:00:11.962943Z"
    }
   },
   "outputs": [
    {
     "data": {
      "text/html": [
       "<div>\n",
       "<style scoped>\n",
       "    .dataframe tbody tr th:only-of-type {\n",
       "        vertical-align: middle;\n",
       "    }\n",
       "\n",
       "    .dataframe tbody tr th {\n",
       "        vertical-align: top;\n",
       "    }\n",
       "\n",
       "    .dataframe thead th {\n",
       "        text-align: right;\n",
       "    }\n",
       "</style>\n",
       "<table border=\"1\" class=\"dataframe\">\n",
       "  <thead>\n",
       "    <tr style=\"text-align: right;\">\n",
       "      <th></th>\n",
       "      <th>Surface</th>\n",
       "      <th>Ceiling_Heigh</th>\n",
       "      <th>Share_of_Windows</th>\n",
       "      <th>Dwelling_per_Floor</th>\n",
       "      <th>Floors</th>\n",
       "      <th>Surface_m</th>\n",
       "      <th>Dwellings_total</th>\n",
       "      <th>Surface_Component_m</th>\n",
       "      <th>Dwelling_total_bool</th>\n",
       "      <th>Dwelling_total_between</th>\n",
       "    </tr>\n",
       "  </thead>\n",
       "  <tbody>\n",
       "    <tr>\n",
       "      <th>0</th>\n",
       "      <td>110</td>\n",
       "      <td>2.952288</td>\n",
       "      <td>0.3</td>\n",
       "      <td>7</td>\n",
       "      <td>2</td>\n",
       "      <td>688.150386</td>\n",
       "      <td>21</td>\n",
       "      <td>32.769066</td>\n",
       "      <td>21.0</td>\n",
       "      <td>21</td>\n",
       "    </tr>\n",
       "    <tr>\n",
       "      <th>1</th>\n",
       "      <td>110</td>\n",
       "      <td>2.952288</td>\n",
       "      <td>0.3</td>\n",
       "      <td>7</td>\n",
       "      <td>4</td>\n",
       "      <td>1146.917311</td>\n",
       "      <td>35</td>\n",
       "      <td>32.769066</td>\n",
       "      <td>35.0</td>\n",
       "      <td>35</td>\n",
       "    </tr>\n",
       "    <tr>\n",
       "      <th>2</th>\n",
       "      <td>110</td>\n",
       "      <td>2.952288</td>\n",
       "      <td>0.3</td>\n",
       "      <td>7</td>\n",
       "      <td>6</td>\n",
       "      <td>1605.684235</td>\n",
       "      <td>49</td>\n",
       "      <td>32.769066</td>\n",
       "      <td>49.0</td>\n",
       "      <td>49</td>\n",
       "    </tr>\n",
       "    <tr>\n",
       "      <th>3</th>\n",
       "      <td>110</td>\n",
       "      <td>2.952288</td>\n",
       "      <td>0.3</td>\n",
       "      <td>7</td>\n",
       "      <td>8</td>\n",
       "      <td>2064.451159</td>\n",
       "      <td>63</td>\n",
       "      <td>32.769066</td>\n",
       "      <td>56.0</td>\n",
       "      <td>56</td>\n",
       "    </tr>\n",
       "    <tr>\n",
       "      <th>4</th>\n",
       "      <td>110</td>\n",
       "      <td>2.952288</td>\n",
       "      <td>0.3</td>\n",
       "      <td>8</td>\n",
       "      <td>2</td>\n",
       "      <td>735.663708</td>\n",
       "      <td>24</td>\n",
       "      <td>30.652654</td>\n",
       "      <td>24.0</td>\n",
       "      <td>24</td>\n",
       "    </tr>\n",
       "  </tbody>\n",
       "</table>\n",
       "</div>"
      ],
      "text/plain": [
       "   Surface  Ceiling_Heigh  Share_of_Windows  Dwelling_per_Floor  Floors  \\\n",
       "0      110       2.952288               0.3                   7       2   \n",
       "1      110       2.952288               0.3                   7       4   \n",
       "2      110       2.952288               0.3                   7       6   \n",
       "3      110       2.952288               0.3                   7       8   \n",
       "4      110       2.952288               0.3                   8       2   \n",
       "\n",
       "     Surface_m  Dwellings_total  Surface_Component_m  Dwelling_total_bool  \\\n",
       "0   688.150386               21            32.769066                 21.0   \n",
       "1  1146.917311               35            32.769066                 35.0   \n",
       "2  1605.684235               49            32.769066                 49.0   \n",
       "3  2064.451159               63            32.769066                 56.0   \n",
       "4   735.663708               24            30.652654                 24.0   \n",
       "\n",
       "   Dwelling_total_between  \n",
       "0                      21  \n",
       "1                      35  \n",
       "2                      49  \n",
       "3                      56  \n",
       "4                      24  "
      ]
     },
     "execution_count": 21,
     "metadata": {},
     "output_type": "execute_result"
    }
   ],
   "source": [
    "between_floors = df.Floors.between(2, 6)\n",
    "\n",
    "df['Dwelling_total_between'] = between_floors * df['Dwelling_per_Floor'] \\\n",
    "* (df['Floors'] + 1) + (1 - between_floors) * df['Dwelling_per_Floor'] * \\\n",
    "df['Floors']\n",
    "\n",
    "df.head()"
   ]
  },
  {
   "cell_type": "markdown",
   "metadata": {},
   "source": [
    "## Calcul économique en matrice à partir de booléen"
   ]
  },
  {
   "cell_type": "code",
   "execution_count": 22,
   "metadata": {
    "ExecuteTime": {
     "end_time": "2019-08-29T14:00:12.917038Z",
     "start_time": "2019-08-29T14:00:12.899293Z"
    }
   },
   "outputs": [
    {
     "data": {
      "text/html": [
       "<div>\n",
       "<style scoped>\n",
       "    .dataframe tbody tr th:only-of-type {\n",
       "        vertical-align: middle;\n",
       "    }\n",
       "\n",
       "    .dataframe tbody tr th {\n",
       "        vertical-align: top;\n",
       "    }\n",
       "\n",
       "    .dataframe thead th {\n",
       "        text-align: right;\n",
       "    }\n",
       "</style>\n",
       "<table border=\"1\" class=\"dataframe\">\n",
       "  <thead>\n",
       "    <tr style=\"text-align: right;\">\n",
       "      <th></th>\n",
       "      <th>Surface</th>\n",
       "      <th>Ceiling_Heigh</th>\n",
       "      <th>Share_of_Windows</th>\n",
       "      <th>Dwelling_per_Floor</th>\n",
       "      <th>Floors</th>\n",
       "      <th>Surface_m</th>\n",
       "      <th>Dwellings_total</th>\n",
       "      <th>Surface_Component_m</th>\n",
       "      <th>Dwelling_total_bool</th>\n",
       "      <th>Dwelling_total_between</th>\n",
       "      <th>Dwelling_total_matrix</th>\n",
       "    </tr>\n",
       "  </thead>\n",
       "  <tbody>\n",
       "    <tr>\n",
       "      <th>0</th>\n",
       "      <td>110</td>\n",
       "      <td>2.952288</td>\n",
       "      <td>0.3</td>\n",
       "      <td>7</td>\n",
       "      <td>2</td>\n",
       "      <td>688.150386</td>\n",
       "      <td>21</td>\n",
       "      <td>32.769066</td>\n",
       "      <td>21.0</td>\n",
       "      <td>21</td>\n",
       "      <td>21.0</td>\n",
       "    </tr>\n",
       "    <tr>\n",
       "      <th>1</th>\n",
       "      <td>110</td>\n",
       "      <td>2.952288</td>\n",
       "      <td>0.3</td>\n",
       "      <td>7</td>\n",
       "      <td>4</td>\n",
       "      <td>1146.917311</td>\n",
       "      <td>35</td>\n",
       "      <td>32.769066</td>\n",
       "      <td>35.0</td>\n",
       "      <td>35</td>\n",
       "      <td>35.0</td>\n",
       "    </tr>\n",
       "    <tr>\n",
       "      <th>2</th>\n",
       "      <td>110</td>\n",
       "      <td>2.952288</td>\n",
       "      <td>0.3</td>\n",
       "      <td>7</td>\n",
       "      <td>6</td>\n",
       "      <td>1605.684235</td>\n",
       "      <td>49</td>\n",
       "      <td>32.769066</td>\n",
       "      <td>49.0</td>\n",
       "      <td>49</td>\n",
       "      <td>49.0</td>\n",
       "    </tr>\n",
       "    <tr>\n",
       "      <th>3</th>\n",
       "      <td>110</td>\n",
       "      <td>2.952288</td>\n",
       "      <td>0.3</td>\n",
       "      <td>7</td>\n",
       "      <td>8</td>\n",
       "      <td>2064.451159</td>\n",
       "      <td>63</td>\n",
       "      <td>32.769066</td>\n",
       "      <td>56.0</td>\n",
       "      <td>56</td>\n",
       "      <td>56.0</td>\n",
       "    </tr>\n",
       "    <tr>\n",
       "      <th>4</th>\n",
       "      <td>110</td>\n",
       "      <td>2.952288</td>\n",
       "      <td>0.3</td>\n",
       "      <td>8</td>\n",
       "      <td>2</td>\n",
       "      <td>735.663708</td>\n",
       "      <td>24</td>\n",
       "      <td>30.652654</td>\n",
       "      <td>24.0</td>\n",
       "      <td>24</td>\n",
       "      <td>24.0</td>\n",
       "    </tr>\n",
       "  </tbody>\n",
       "</table>\n",
       "</div>"
      ],
      "text/plain": [
       "   Surface  Ceiling_Heigh  Share_of_Windows  Dwelling_per_Floor  Floors  \\\n",
       "0      110       2.952288               0.3                   7       2   \n",
       "1      110       2.952288               0.3                   7       4   \n",
       "2      110       2.952288               0.3                   7       6   \n",
       "3      110       2.952288               0.3                   7       8   \n",
       "4      110       2.952288               0.3                   8       2   \n",
       "\n",
       "     Surface_m  Dwellings_total  Surface_Component_m  Dwelling_total_bool  \\\n",
       "0   688.150386               21            32.769066                 21.0   \n",
       "1  1146.917311               35            32.769066                 35.0   \n",
       "2  1605.684235               49            32.769066                 49.0   \n",
       "3  2064.451159               63            32.769066                 56.0   \n",
       "4   735.663708               24            30.652654                 24.0   \n",
       "\n",
       "   Dwelling_total_between  Dwelling_total_matrix  \n",
       "0                      21                   21.0  \n",
       "1                      35                   35.0  \n",
       "2                      49                   49.0  \n",
       "3                      56                   56.0  \n",
       "4                      24                   24.0  "
      ]
     },
     "execution_count": 22,
     "metadata": {},
     "output_type": "execute_result"
    }
   ],
   "source": [
    "matrix = df.values\n",
    "dwelling_total_matrix = (bool_floors * matrix[:, 4] +\n",
    "                         (1 - bool_floors) * (matrix[:, 4] + 1)) * \\\n",
    "matrix[:, 3]\n",
    "df['Dwelling_total_matrix'] = dwelling_total_matrix\n",
    "df.head()"
   ]
  },
  {
   "cell_type": "code",
   "execution_count": 23,
   "metadata": {
    "ExecuteTime": {
     "end_time": "2019-08-29T14:00:13.057513Z",
     "start_time": "2019-08-29T14:00:13.039767Z"
    }
   },
   "outputs": [
    {
     "data": {
      "text/html": [
       "<div>\n",
       "<style scoped>\n",
       "    .dataframe tbody tr th:only-of-type {\n",
       "        vertical-align: middle;\n",
       "    }\n",
       "\n",
       "    .dataframe tbody tr th {\n",
       "        vertical-align: top;\n",
       "    }\n",
       "\n",
       "    .dataframe thead th {\n",
       "        text-align: right;\n",
       "    }\n",
       "</style>\n",
       "<table border=\"1\" class=\"dataframe\">\n",
       "  <thead>\n",
       "    <tr style=\"text-align: right;\">\n",
       "      <th></th>\n",
       "      <th>Surface</th>\n",
       "      <th>Ceiling_Heigh</th>\n",
       "      <th>Share_of_Windows</th>\n",
       "      <th>Dwelling_per_Floor</th>\n",
       "      <th>Floors</th>\n",
       "      <th>Surface_m</th>\n",
       "      <th>Dwellings_total</th>\n",
       "      <th>Surface_Component_m</th>\n",
       "      <th>Dwelling_total_bool</th>\n",
       "      <th>Dwelling_total_between</th>\n",
       "      <th>Dwelling_total_matrix</th>\n",
       "      <th>Modification</th>\n",
       "    </tr>\n",
       "  </thead>\n",
       "  <tbody>\n",
       "    <tr>\n",
       "      <th>0</th>\n",
       "      <td>110</td>\n",
       "      <td>2.952288</td>\n",
       "      <td>0.3</td>\n",
       "      <td>7</td>\n",
       "      <td>2</td>\n",
       "      <td>688.150386</td>\n",
       "      <td>21</td>\n",
       "      <td>32.769066</td>\n",
       "      <td>21.0</td>\n",
       "      <td>21</td>\n",
       "      <td>21.0</td>\n",
       "      <td>False</td>\n",
       "    </tr>\n",
       "    <tr>\n",
       "      <th>1</th>\n",
       "      <td>110</td>\n",
       "      <td>2.952288</td>\n",
       "      <td>0.3</td>\n",
       "      <td>7</td>\n",
       "      <td>4</td>\n",
       "      <td>1146.917311</td>\n",
       "      <td>35</td>\n",
       "      <td>32.769066</td>\n",
       "      <td>35.0</td>\n",
       "      <td>35</td>\n",
       "      <td>35.0</td>\n",
       "      <td>False</td>\n",
       "    </tr>\n",
       "    <tr>\n",
       "      <th>2</th>\n",
       "      <td>110</td>\n",
       "      <td>2.952288</td>\n",
       "      <td>0.3</td>\n",
       "      <td>7</td>\n",
       "      <td>6</td>\n",
       "      <td>1605.684235</td>\n",
       "      <td>49</td>\n",
       "      <td>32.769066</td>\n",
       "      <td>49.0</td>\n",
       "      <td>49</td>\n",
       "      <td>49.0</td>\n",
       "      <td>False</td>\n",
       "    </tr>\n",
       "    <tr>\n",
       "      <th>3</th>\n",
       "      <td>110</td>\n",
       "      <td>2.952288</td>\n",
       "      <td>0.3</td>\n",
       "      <td>7</td>\n",
       "      <td>8</td>\n",
       "      <td>2064.451159</td>\n",
       "      <td>63</td>\n",
       "      <td>32.769066</td>\n",
       "      <td>56.0</td>\n",
       "      <td>56</td>\n",
       "      <td>56.0</td>\n",
       "      <td>True</td>\n",
       "    </tr>\n",
       "    <tr>\n",
       "      <th>4</th>\n",
       "      <td>110</td>\n",
       "      <td>2.952288</td>\n",
       "      <td>0.3</td>\n",
       "      <td>8</td>\n",
       "      <td>2</td>\n",
       "      <td>735.663708</td>\n",
       "      <td>24</td>\n",
       "      <td>30.652654</td>\n",
       "      <td>24.0</td>\n",
       "      <td>24</td>\n",
       "      <td>24.0</td>\n",
       "      <td>False</td>\n",
       "    </tr>\n",
       "  </tbody>\n",
       "</table>\n",
       "</div>"
      ],
      "text/plain": [
       "   Surface  Ceiling_Heigh  Share_of_Windows  Dwelling_per_Floor  Floors  \\\n",
       "0      110       2.952288               0.3                   7       2   \n",
       "1      110       2.952288               0.3                   7       4   \n",
       "2      110       2.952288               0.3                   7       6   \n",
       "3      110       2.952288               0.3                   7       8   \n",
       "4      110       2.952288               0.3                   8       2   \n",
       "\n",
       "     Surface_m  Dwellings_total  Surface_Component_m  Dwelling_total_bool  \\\n",
       "0   688.150386               21            32.769066                 21.0   \n",
       "1  1146.917311               35            32.769066                 35.0   \n",
       "2  1605.684235               49            32.769066                 49.0   \n",
       "3  2064.451159               63            32.769066                 56.0   \n",
       "4   735.663708               24            30.652654                 24.0   \n",
       "\n",
       "   Dwelling_total_between  Dwelling_total_matrix  Modification  \n",
       "0                      21                   21.0         False  \n",
       "1                      35                   35.0         False  \n",
       "2                      49                   49.0         False  \n",
       "3                      56                   56.0          True  \n",
       "4                      24                   24.0         False  "
      ]
     },
     "execution_count": 23,
     "metadata": {},
     "output_type": "execute_result"
    }
   ],
   "source": [
    "df['Modification'] = df.Dwellings_total > dwelling_total_matrix\n",
    "df.head()"
   ]
  },
  {
   "cell_type": "markdown",
   "metadata": {},
   "source": [
    "## Calcul économique en utilisant des fonctions"
   ]
  },
  {
   "cell_type": "markdown",
   "metadata": {},
   "source": [
    "### La bonne performance"
   ]
  },
  {
   "cell_type": "code",
   "execution_count": 24,
   "metadata": {
    "ExecuteTime": {
     "end_time": "2019-08-29T14:00:14.750175Z",
     "start_time": "2019-08-29T14:00:14.745343Z"
    }
   },
   "outputs": [
    {
     "data": {
      "text/plain": [
       "{False: 'Without Hall', True: 'With Hall'}"
      ]
     },
     "execution_count": 24,
     "metadata": {},
     "output_type": "execute_result"
    }
   ],
   "source": [
    "dict_hall_info = {False: 'Without Hall', True: 'With Hall'}\n",
    "dict_hall_info"
   ]
  },
  {
   "cell_type": "code",
   "execution_count": 25,
   "metadata": {
    "ExecuteTime": {
     "end_time": "2019-08-29T14:00:18.176280Z",
     "start_time": "2019-08-29T14:00:14.868099Z"
    }
   },
   "outputs": [
    {
     "name": "stdout",
     "output_type": "stream",
     "text": [
      "403 µs ± 13.4 µs per loop (mean ± std. dev. of 7 runs, 1000 loops each)\n"
     ]
    }
   ],
   "source": [
    "%%timeit\n",
    "df['Hall_Info'] = df.Modification.apply(lambda x: dict_hall_info[x])"
   ]
  },
  {
   "cell_type": "code",
   "execution_count": 26,
   "metadata": {
    "ExecuteTime": {
     "end_time": "2019-08-29T14:00:18.198481Z",
     "start_time": "2019-08-29T14:00:18.179812Z"
    }
   },
   "outputs": [
    {
     "data": {
      "text/html": [
       "<div>\n",
       "<style scoped>\n",
       "    .dataframe tbody tr th:only-of-type {\n",
       "        vertical-align: middle;\n",
       "    }\n",
       "\n",
       "    .dataframe tbody tr th {\n",
       "        vertical-align: top;\n",
       "    }\n",
       "\n",
       "    .dataframe thead th {\n",
       "        text-align: right;\n",
       "    }\n",
       "</style>\n",
       "<table border=\"1\" class=\"dataframe\">\n",
       "  <thead>\n",
       "    <tr style=\"text-align: right;\">\n",
       "      <th></th>\n",
       "      <th>Surface</th>\n",
       "      <th>Ceiling_Heigh</th>\n",
       "      <th>Share_of_Windows</th>\n",
       "      <th>Dwelling_per_Floor</th>\n",
       "      <th>Floors</th>\n",
       "      <th>Surface_m</th>\n",
       "      <th>Dwellings_total</th>\n",
       "      <th>Surface_Component_m</th>\n",
       "      <th>Dwelling_total_bool</th>\n",
       "      <th>Dwelling_total_between</th>\n",
       "      <th>Dwelling_total_matrix</th>\n",
       "      <th>Modification</th>\n",
       "      <th>Hall_Info</th>\n",
       "    </tr>\n",
       "  </thead>\n",
       "  <tbody>\n",
       "    <tr>\n",
       "      <th>0</th>\n",
       "      <td>110</td>\n",
       "      <td>2.952288</td>\n",
       "      <td>0.3</td>\n",
       "      <td>7</td>\n",
       "      <td>2</td>\n",
       "      <td>688.150386</td>\n",
       "      <td>21</td>\n",
       "      <td>32.769066</td>\n",
       "      <td>21.0</td>\n",
       "      <td>21</td>\n",
       "      <td>21.0</td>\n",
       "      <td>False</td>\n",
       "      <td>Without Hall</td>\n",
       "    </tr>\n",
       "    <tr>\n",
       "      <th>1</th>\n",
       "      <td>110</td>\n",
       "      <td>2.952288</td>\n",
       "      <td>0.3</td>\n",
       "      <td>7</td>\n",
       "      <td>4</td>\n",
       "      <td>1146.917311</td>\n",
       "      <td>35</td>\n",
       "      <td>32.769066</td>\n",
       "      <td>35.0</td>\n",
       "      <td>35</td>\n",
       "      <td>35.0</td>\n",
       "      <td>False</td>\n",
       "      <td>Without Hall</td>\n",
       "    </tr>\n",
       "    <tr>\n",
       "      <th>2</th>\n",
       "      <td>110</td>\n",
       "      <td>2.952288</td>\n",
       "      <td>0.3</td>\n",
       "      <td>7</td>\n",
       "      <td>6</td>\n",
       "      <td>1605.684235</td>\n",
       "      <td>49</td>\n",
       "      <td>32.769066</td>\n",
       "      <td>49.0</td>\n",
       "      <td>49</td>\n",
       "      <td>49.0</td>\n",
       "      <td>False</td>\n",
       "      <td>Without Hall</td>\n",
       "    </tr>\n",
       "    <tr>\n",
       "      <th>3</th>\n",
       "      <td>110</td>\n",
       "      <td>2.952288</td>\n",
       "      <td>0.3</td>\n",
       "      <td>7</td>\n",
       "      <td>8</td>\n",
       "      <td>2064.451159</td>\n",
       "      <td>63</td>\n",
       "      <td>32.769066</td>\n",
       "      <td>56.0</td>\n",
       "      <td>56</td>\n",
       "      <td>56.0</td>\n",
       "      <td>True</td>\n",
       "      <td>With Hall</td>\n",
       "    </tr>\n",
       "    <tr>\n",
       "      <th>4</th>\n",
       "      <td>110</td>\n",
       "      <td>2.952288</td>\n",
       "      <td>0.3</td>\n",
       "      <td>8</td>\n",
       "      <td>2</td>\n",
       "      <td>735.663708</td>\n",
       "      <td>24</td>\n",
       "      <td>30.652654</td>\n",
       "      <td>24.0</td>\n",
       "      <td>24</td>\n",
       "      <td>24.0</td>\n",
       "      <td>False</td>\n",
       "      <td>Without Hall</td>\n",
       "    </tr>\n",
       "  </tbody>\n",
       "</table>\n",
       "</div>"
      ],
      "text/plain": [
       "   Surface  Ceiling_Heigh  Share_of_Windows  Dwelling_per_Floor  Floors  \\\n",
       "0      110       2.952288               0.3                   7       2   \n",
       "1      110       2.952288               0.3                   7       4   \n",
       "2      110       2.952288               0.3                   7       6   \n",
       "3      110       2.952288               0.3                   7       8   \n",
       "4      110       2.952288               0.3                   8       2   \n",
       "\n",
       "     Surface_m  Dwellings_total  Surface_Component_m  Dwelling_total_bool  \\\n",
       "0   688.150386               21            32.769066                 21.0   \n",
       "1  1146.917311               35            32.769066                 35.0   \n",
       "2  1605.684235               49            32.769066                 49.0   \n",
       "3  2064.451159               63            32.769066                 56.0   \n",
       "4   735.663708               24            30.652654                 24.0   \n",
       "\n",
       "   Dwelling_total_between  Dwelling_total_matrix  Modification     Hall_Info  \n",
       "0                      21                   21.0         False  Without Hall  \n",
       "1                      35                   35.0         False  Without Hall  \n",
       "2                      49                   49.0         False  Without Hall  \n",
       "3                      56                   56.0          True     With Hall  \n",
       "4                      24                   24.0         False  Without Hall  "
      ]
     },
     "execution_count": 26,
     "metadata": {},
     "output_type": "execute_result"
    }
   ],
   "source": [
    "df.head()"
   ]
  },
  {
   "cell_type": "markdown",
   "metadata": {
    "ExecuteTime": {
     "end_time": "2019-08-29T07:12:27.222388Z",
     "start_time": "2019-08-29T07:12:27.217067Z"
    }
   },
   "source": [
    "### La mauvaise performance"
   ]
  },
  {
   "cell_type": "code",
   "execution_count": 27,
   "metadata": {
    "ExecuteTime": {
     "end_time": "2019-08-29T14:00:18.206045Z",
     "start_time": "2019-08-29T14:00:18.200429Z"
    }
   },
   "outputs": [],
   "source": [
    "def func_apply(x):\n",
    "\n",
    "    if x.Dwelling_total_matrix < x.Dwellings_total:\n",
    "        return False\n",
    "    else:\n",
    "        return True"
   ]
  },
  {
   "cell_type": "code",
   "execution_count": 28,
   "metadata": {
    "ExecuteTime": {
     "end_time": "2019-08-29T14:00:25.191677Z",
     "start_time": "2019-08-29T14:00:18.207897Z"
    }
   },
   "outputs": [
    {
     "name": "stdout",
     "output_type": "stream",
     "text": [
      "8.55 ms ± 330 µs per loop (mean ± std. dev. of 7 runs, 100 loops each)\n"
     ]
    }
   ],
   "source": [
    "%%timeit\n",
    "df['Without_Hall'] = df.apply(lambda x: func_apply(x), axis=1)"
   ]
  },
  {
   "cell_type": "code",
   "execution_count": 29,
   "metadata": {
    "ExecuteTime": {
     "end_time": "2019-08-29T14:00:25.209744Z",
     "start_time": "2019-08-29T14:00:25.193478Z"
    }
   },
   "outputs": [
    {
     "data": {
      "text/html": [
       "<div>\n",
       "<style scoped>\n",
       "    .dataframe tbody tr th:only-of-type {\n",
       "        vertical-align: middle;\n",
       "    }\n",
       "\n",
       "    .dataframe tbody tr th {\n",
       "        vertical-align: top;\n",
       "    }\n",
       "\n",
       "    .dataframe thead th {\n",
       "        text-align: right;\n",
       "    }\n",
       "</style>\n",
       "<table border=\"1\" class=\"dataframe\">\n",
       "  <thead>\n",
       "    <tr style=\"text-align: right;\">\n",
       "      <th></th>\n",
       "      <th>Surface</th>\n",
       "      <th>Ceiling_Heigh</th>\n",
       "      <th>Share_of_Windows</th>\n",
       "      <th>Dwelling_per_Floor</th>\n",
       "      <th>Floors</th>\n",
       "      <th>Surface_m</th>\n",
       "      <th>Dwellings_total</th>\n",
       "      <th>Surface_Component_m</th>\n",
       "      <th>Dwelling_total_bool</th>\n",
       "      <th>Dwelling_total_between</th>\n",
       "      <th>Dwelling_total_matrix</th>\n",
       "      <th>Modification</th>\n",
       "      <th>Hall_Info</th>\n",
       "      <th>Without_Hall</th>\n",
       "    </tr>\n",
       "  </thead>\n",
       "  <tbody>\n",
       "    <tr>\n",
       "      <th>0</th>\n",
       "      <td>110</td>\n",
       "      <td>2.952288</td>\n",
       "      <td>0.3</td>\n",
       "      <td>7</td>\n",
       "      <td>2</td>\n",
       "      <td>688.150386</td>\n",
       "      <td>21</td>\n",
       "      <td>32.769066</td>\n",
       "      <td>21.0</td>\n",
       "      <td>21</td>\n",
       "      <td>21.0</td>\n",
       "      <td>False</td>\n",
       "      <td>Without Hall</td>\n",
       "      <td>True</td>\n",
       "    </tr>\n",
       "    <tr>\n",
       "      <th>1</th>\n",
       "      <td>110</td>\n",
       "      <td>2.952288</td>\n",
       "      <td>0.3</td>\n",
       "      <td>7</td>\n",
       "      <td>4</td>\n",
       "      <td>1146.917311</td>\n",
       "      <td>35</td>\n",
       "      <td>32.769066</td>\n",
       "      <td>35.0</td>\n",
       "      <td>35</td>\n",
       "      <td>35.0</td>\n",
       "      <td>False</td>\n",
       "      <td>Without Hall</td>\n",
       "      <td>True</td>\n",
       "    </tr>\n",
       "    <tr>\n",
       "      <th>2</th>\n",
       "      <td>110</td>\n",
       "      <td>2.952288</td>\n",
       "      <td>0.3</td>\n",
       "      <td>7</td>\n",
       "      <td>6</td>\n",
       "      <td>1605.684235</td>\n",
       "      <td>49</td>\n",
       "      <td>32.769066</td>\n",
       "      <td>49.0</td>\n",
       "      <td>49</td>\n",
       "      <td>49.0</td>\n",
       "      <td>False</td>\n",
       "      <td>Without Hall</td>\n",
       "      <td>True</td>\n",
       "    </tr>\n",
       "    <tr>\n",
       "      <th>3</th>\n",
       "      <td>110</td>\n",
       "      <td>2.952288</td>\n",
       "      <td>0.3</td>\n",
       "      <td>7</td>\n",
       "      <td>8</td>\n",
       "      <td>2064.451159</td>\n",
       "      <td>63</td>\n",
       "      <td>32.769066</td>\n",
       "      <td>56.0</td>\n",
       "      <td>56</td>\n",
       "      <td>56.0</td>\n",
       "      <td>True</td>\n",
       "      <td>With Hall</td>\n",
       "      <td>False</td>\n",
       "    </tr>\n",
       "    <tr>\n",
       "      <th>4</th>\n",
       "      <td>110</td>\n",
       "      <td>2.952288</td>\n",
       "      <td>0.3</td>\n",
       "      <td>8</td>\n",
       "      <td>2</td>\n",
       "      <td>735.663708</td>\n",
       "      <td>24</td>\n",
       "      <td>30.652654</td>\n",
       "      <td>24.0</td>\n",
       "      <td>24</td>\n",
       "      <td>24.0</td>\n",
       "      <td>False</td>\n",
       "      <td>Without Hall</td>\n",
       "      <td>True</td>\n",
       "    </tr>\n",
       "  </tbody>\n",
       "</table>\n",
       "</div>"
      ],
      "text/plain": [
       "   Surface  Ceiling_Heigh  Share_of_Windows  Dwelling_per_Floor  Floors  \\\n",
       "0      110       2.952288               0.3                   7       2   \n",
       "1      110       2.952288               0.3                   7       4   \n",
       "2      110       2.952288               0.3                   7       6   \n",
       "3      110       2.952288               0.3                   7       8   \n",
       "4      110       2.952288               0.3                   8       2   \n",
       "\n",
       "     Surface_m  Dwellings_total  Surface_Component_m  Dwelling_total_bool  \\\n",
       "0   688.150386               21            32.769066                 21.0   \n",
       "1  1146.917311               35            32.769066                 35.0   \n",
       "2  1605.684235               49            32.769066                 49.0   \n",
       "3  2064.451159               63            32.769066                 56.0   \n",
       "4   735.663708               24            30.652654                 24.0   \n",
       "\n",
       "   Dwelling_total_between  Dwelling_total_matrix  Modification     Hall_Info  \\\n",
       "0                      21                   21.0         False  Without Hall   \n",
       "1                      35                   35.0         False  Without Hall   \n",
       "2                      49                   49.0         False  Without Hall   \n",
       "3                      56                   56.0          True     With Hall   \n",
       "4                      24                   24.0         False  Without Hall   \n",
       "\n",
       "   Without_Hall  \n",
       "0          True  \n",
       "1          True  \n",
       "2          True  \n",
       "3         False  \n",
       "4          True  "
      ]
     },
     "execution_count": 29,
     "metadata": {},
     "output_type": "execute_result"
    }
   ],
   "source": [
    "df.head()"
   ]
  },
  {
   "cell_type": "markdown",
   "metadata": {},
   "source": [
    "# Jointure de table"
   ]
  },
  {
   "cell_type": "code",
   "execution_count": 30,
   "metadata": {
    "ExecuteTime": {
     "end_time": "2019-08-29T14:00:25.219605Z",
     "start_time": "2019-08-29T14:00:25.211324Z"
    }
   },
   "outputs": [
    {
     "data": {
      "text/plain": [
       "(25, 2)"
      ]
     },
     "execution_count": 30,
     "metadata": {},
     "output_type": "execute_result"
    }
   ],
   "source": [
    "df_autre = pd.DataFrame(list(itertools.product(*housing_characters[0:2])))\n",
    "df_autre.shape"
   ]
  },
  {
   "cell_type": "code",
   "execution_count": 31,
   "metadata": {
    "ExecuteTime": {
     "end_time": "2019-08-29T14:00:25.231086Z",
     "start_time": "2019-08-29T14:00:25.221427Z"
    }
   },
   "outputs": [
    {
     "data": {
      "text/html": [
       "<div>\n",
       "<style scoped>\n",
       "    .dataframe tbody tr th:only-of-type {\n",
       "        vertical-align: middle;\n",
       "    }\n",
       "\n",
       "    .dataframe tbody tr th {\n",
       "        vertical-align: top;\n",
       "    }\n",
       "\n",
       "    .dataframe thead th {\n",
       "        text-align: right;\n",
       "    }\n",
       "</style>\n",
       "<table border=\"1\" class=\"dataframe\">\n",
       "  <thead>\n",
       "    <tr style=\"text-align: right;\">\n",
       "      <th></th>\n",
       "      <th>0</th>\n",
       "      <th>1</th>\n",
       "    </tr>\n",
       "  </thead>\n",
       "  <tbody>\n",
       "    <tr>\n",
       "      <th>0</th>\n",
       "      <td>110</td>\n",
       "      <td>2.952288</td>\n",
       "    </tr>\n",
       "    <tr>\n",
       "      <th>1</th>\n",
       "      <td>110</td>\n",
       "      <td>2.756377</td>\n",
       "    </tr>\n",
       "    <tr>\n",
       "      <th>2</th>\n",
       "      <td>110</td>\n",
       "      <td>2.628864</td>\n",
       "    </tr>\n",
       "    <tr>\n",
       "      <th>3</th>\n",
       "      <td>110</td>\n",
       "      <td>2.670649</td>\n",
       "    </tr>\n",
       "    <tr>\n",
       "      <th>4</th>\n",
       "      <td>110</td>\n",
       "      <td>2.923794</td>\n",
       "    </tr>\n",
       "  </tbody>\n",
       "</table>\n",
       "</div>"
      ],
      "text/plain": [
       "     0         1\n",
       "0  110  2.952288\n",
       "1  110  2.756377\n",
       "2  110  2.628864\n",
       "3  110  2.670649\n",
       "4  110  2.923794"
      ]
     },
     "execution_count": 31,
     "metadata": {},
     "output_type": "execute_result"
    }
   ],
   "source": [
    "df_autre.head()"
   ]
  },
  {
   "cell_type": "code",
   "execution_count": 32,
   "metadata": {
    "ExecuteTime": {
     "end_time": "2019-08-29T14:00:25.242219Z",
     "start_time": "2019-08-29T14:00:25.232915Z"
    }
   },
   "outputs": [
    {
     "data": {
      "text/plain": [
       "(25, 3)"
      ]
     },
     "execution_count": 32,
     "metadata": {},
     "output_type": "execute_result"
    }
   ],
   "source": [
    "df_autre.columns = ['Surface', 'Ceiling_Heigh']\n",
    "\n",
    "dict_size_info = {\n",
    "    110: 'Small',\n",
    "    120: 'Middle-Small',\n",
    "    130: 'Middl',\n",
    "    140: 'Middl-Large',\n",
    "    150: 'Large'\n",
    "}\n",
    "\n",
    "df_autre['Size_Info'] = df_autre.Surface.apply(lambda x: dict_size_info[x])\n",
    "\n",
    "df_autre.shape"
   ]
  },
  {
   "cell_type": "code",
   "execution_count": 33,
   "metadata": {
    "ExecuteTime": {
     "end_time": "2019-08-29T14:00:25.255323Z",
     "start_time": "2019-08-29T14:00:25.246453Z"
    }
   },
   "outputs": [
    {
     "data": {
      "text/html": [
       "<div>\n",
       "<style scoped>\n",
       "    .dataframe tbody tr th:only-of-type {\n",
       "        vertical-align: middle;\n",
       "    }\n",
       "\n",
       "    .dataframe tbody tr th {\n",
       "        vertical-align: top;\n",
       "    }\n",
       "\n",
       "    .dataframe thead th {\n",
       "        text-align: right;\n",
       "    }\n",
       "</style>\n",
       "<table border=\"1\" class=\"dataframe\">\n",
       "  <thead>\n",
       "    <tr style=\"text-align: right;\">\n",
       "      <th></th>\n",
       "      <th>Surface</th>\n",
       "      <th>Ceiling_Heigh</th>\n",
       "      <th>Size_Info</th>\n",
       "    </tr>\n",
       "  </thead>\n",
       "  <tbody>\n",
       "    <tr>\n",
       "      <th>0</th>\n",
       "      <td>110</td>\n",
       "      <td>2.952288</td>\n",
       "      <td>Small</td>\n",
       "    </tr>\n",
       "    <tr>\n",
       "      <th>1</th>\n",
       "      <td>110</td>\n",
       "      <td>2.756377</td>\n",
       "      <td>Small</td>\n",
       "    </tr>\n",
       "    <tr>\n",
       "      <th>2</th>\n",
       "      <td>110</td>\n",
       "      <td>2.628864</td>\n",
       "      <td>Small</td>\n",
       "    </tr>\n",
       "    <tr>\n",
       "      <th>3</th>\n",
       "      <td>110</td>\n",
       "      <td>2.670649</td>\n",
       "      <td>Small</td>\n",
       "    </tr>\n",
       "    <tr>\n",
       "      <th>4</th>\n",
       "      <td>110</td>\n",
       "      <td>2.923794</td>\n",
       "      <td>Small</td>\n",
       "    </tr>\n",
       "  </tbody>\n",
       "</table>\n",
       "</div>"
      ],
      "text/plain": [
       "   Surface  Ceiling_Heigh Size_Info\n",
       "0      110       2.952288     Small\n",
       "1      110       2.756377     Small\n",
       "2      110       2.628864     Small\n",
       "3      110       2.670649     Small\n",
       "4      110       2.923794     Small"
      ]
     },
     "execution_count": 33,
     "metadata": {},
     "output_type": "execute_result"
    }
   ],
   "source": [
    "df_autre.head()"
   ]
  },
  {
   "cell_type": "code",
   "execution_count": 34,
   "metadata": {
    "ExecuteTime": {
     "end_time": "2019-08-29T14:00:25.269081Z",
     "start_time": "2019-08-29T14:00:25.257055Z"
    }
   },
   "outputs": [
    {
     "data": {
      "text/plain": [
       "(300, 15)"
      ]
     },
     "execution_count": 34,
     "metadata": {},
     "output_type": "execute_result"
    }
   ],
   "source": [
    "df = df.merge(df_autre, how='left', on=['Surface', 'Ceiling_Heigh'])\n",
    "df.shape"
   ]
  },
  {
   "cell_type": "code",
   "execution_count": 35,
   "metadata": {
    "ExecuteTime": {
     "end_time": "2019-08-29T14:00:25.289877Z",
     "start_time": "2019-08-29T14:00:25.270910Z"
    }
   },
   "outputs": [
    {
     "data": {
      "text/html": [
       "<div>\n",
       "<style scoped>\n",
       "    .dataframe tbody tr th:only-of-type {\n",
       "        vertical-align: middle;\n",
       "    }\n",
       "\n",
       "    .dataframe tbody tr th {\n",
       "        vertical-align: top;\n",
       "    }\n",
       "\n",
       "    .dataframe thead th {\n",
       "        text-align: right;\n",
       "    }\n",
       "</style>\n",
       "<table border=\"1\" class=\"dataframe\">\n",
       "  <thead>\n",
       "    <tr style=\"text-align: right;\">\n",
       "      <th></th>\n",
       "      <th>Surface</th>\n",
       "      <th>Ceiling_Heigh</th>\n",
       "      <th>Share_of_Windows</th>\n",
       "      <th>Dwelling_per_Floor</th>\n",
       "      <th>Floors</th>\n",
       "      <th>Surface_m</th>\n",
       "      <th>Dwellings_total</th>\n",
       "      <th>Surface_Component_m</th>\n",
       "      <th>Dwelling_total_bool</th>\n",
       "      <th>Dwelling_total_between</th>\n",
       "      <th>Dwelling_total_matrix</th>\n",
       "      <th>Modification</th>\n",
       "      <th>Hall_Info</th>\n",
       "      <th>Without_Hall</th>\n",
       "      <th>Size_Info</th>\n",
       "    </tr>\n",
       "  </thead>\n",
       "  <tbody>\n",
       "    <tr>\n",
       "      <th>0</th>\n",
       "      <td>110</td>\n",
       "      <td>2.952288</td>\n",
       "      <td>0.3</td>\n",
       "      <td>7</td>\n",
       "      <td>2</td>\n",
       "      <td>688.150386</td>\n",
       "      <td>21</td>\n",
       "      <td>32.769066</td>\n",
       "      <td>21.0</td>\n",
       "      <td>21</td>\n",
       "      <td>21.0</td>\n",
       "      <td>False</td>\n",
       "      <td>Without Hall</td>\n",
       "      <td>True</td>\n",
       "      <td>Small</td>\n",
       "    </tr>\n",
       "    <tr>\n",
       "      <th>1</th>\n",
       "      <td>110</td>\n",
       "      <td>2.952288</td>\n",
       "      <td>0.3</td>\n",
       "      <td>7</td>\n",
       "      <td>4</td>\n",
       "      <td>1146.917311</td>\n",
       "      <td>35</td>\n",
       "      <td>32.769066</td>\n",
       "      <td>35.0</td>\n",
       "      <td>35</td>\n",
       "      <td>35.0</td>\n",
       "      <td>False</td>\n",
       "      <td>Without Hall</td>\n",
       "      <td>True</td>\n",
       "      <td>Small</td>\n",
       "    </tr>\n",
       "    <tr>\n",
       "      <th>2</th>\n",
       "      <td>110</td>\n",
       "      <td>2.952288</td>\n",
       "      <td>0.3</td>\n",
       "      <td>7</td>\n",
       "      <td>6</td>\n",
       "      <td>1605.684235</td>\n",
       "      <td>49</td>\n",
       "      <td>32.769066</td>\n",
       "      <td>49.0</td>\n",
       "      <td>49</td>\n",
       "      <td>49.0</td>\n",
       "      <td>False</td>\n",
       "      <td>Without Hall</td>\n",
       "      <td>True</td>\n",
       "      <td>Small</td>\n",
       "    </tr>\n",
       "    <tr>\n",
       "      <th>3</th>\n",
       "      <td>110</td>\n",
       "      <td>2.952288</td>\n",
       "      <td>0.3</td>\n",
       "      <td>7</td>\n",
       "      <td>8</td>\n",
       "      <td>2064.451159</td>\n",
       "      <td>63</td>\n",
       "      <td>32.769066</td>\n",
       "      <td>56.0</td>\n",
       "      <td>56</td>\n",
       "      <td>56.0</td>\n",
       "      <td>True</td>\n",
       "      <td>With Hall</td>\n",
       "      <td>False</td>\n",
       "      <td>Small</td>\n",
       "    </tr>\n",
       "    <tr>\n",
       "      <th>4</th>\n",
       "      <td>110</td>\n",
       "      <td>2.952288</td>\n",
       "      <td>0.3</td>\n",
       "      <td>8</td>\n",
       "      <td>2</td>\n",
       "      <td>735.663708</td>\n",
       "      <td>24</td>\n",
       "      <td>30.652654</td>\n",
       "      <td>24.0</td>\n",
       "      <td>24</td>\n",
       "      <td>24.0</td>\n",
       "      <td>False</td>\n",
       "      <td>Without Hall</td>\n",
       "      <td>True</td>\n",
       "      <td>Small</td>\n",
       "    </tr>\n",
       "  </tbody>\n",
       "</table>\n",
       "</div>"
      ],
      "text/plain": [
       "   Surface  Ceiling_Heigh  Share_of_Windows  Dwelling_per_Floor  Floors  \\\n",
       "0      110       2.952288               0.3                   7       2   \n",
       "1      110       2.952288               0.3                   7       4   \n",
       "2      110       2.952288               0.3                   7       6   \n",
       "3      110       2.952288               0.3                   7       8   \n",
       "4      110       2.952288               0.3                   8       2   \n",
       "\n",
       "     Surface_m  Dwellings_total  Surface_Component_m  Dwelling_total_bool  \\\n",
       "0   688.150386               21            32.769066                 21.0   \n",
       "1  1146.917311               35            32.769066                 35.0   \n",
       "2  1605.684235               49            32.769066                 49.0   \n",
       "3  2064.451159               63            32.769066                 56.0   \n",
       "4   735.663708               24            30.652654                 24.0   \n",
       "\n",
       "   Dwelling_total_between  Dwelling_total_matrix  Modification     Hall_Info  \\\n",
       "0                      21                   21.0         False  Without Hall   \n",
       "1                      35                   35.0         False  Without Hall   \n",
       "2                      49                   49.0         False  Without Hall   \n",
       "3                      56                   56.0          True     With Hall   \n",
       "4                      24                   24.0         False  Without Hall   \n",
       "\n",
       "   Without_Hall Size_Info  \n",
       "0          True     Small  \n",
       "1          True     Small  \n",
       "2          True     Small  \n",
       "3         False     Small  \n",
       "4          True     Small  "
      ]
     },
     "execution_count": 35,
     "metadata": {},
     "output_type": "execute_result"
    }
   ],
   "source": [
    "df.head()"
   ]
  },
  {
   "cell_type": "markdown",
   "metadata": {},
   "source": [
    "# Calcul du minimum par logement"
   ]
  },
  {
   "cell_type": "markdown",
   "metadata": {},
   "source": [
    "## Calcul avec des sorts"
   ]
  },
  {
   "cell_type": "code",
   "execution_count": 36,
   "metadata": {
    "ExecuteTime": {
     "end_time": "2019-08-29T14:00:25.295786Z",
     "start_time": "2019-08-29T14:00:25.291977Z"
    }
   },
   "outputs": [],
   "source": [
    "essential_properties = ['Surface', 'Floors']\n",
    "target_value = ['Dwelling_per_Floor']"
   ]
  },
  {
   "cell_type": "code",
   "execution_count": 37,
   "metadata": {
    "ExecuteTime": {
     "end_time": "2019-08-29T14:00:25.307403Z",
     "start_time": "2019-08-29T14:00:25.297579Z"
    }
   },
   "outputs": [
    {
     "data": {
      "text/plain": [
       "(300, 15)"
      ]
     },
     "execution_count": 37,
     "metadata": {},
     "output_type": "execute_result"
    }
   ],
   "source": [
    "df_min = df.sort_values(essential_properties + target_value)\n",
    "df_min.shape"
   ]
  },
  {
   "cell_type": "code",
   "execution_count": 38,
   "metadata": {
    "ExecuteTime": {
     "end_time": "2019-08-29T14:00:25.330211Z",
     "start_time": "2019-08-29T14:00:25.310501Z"
    }
   },
   "outputs": [
    {
     "data": {
      "text/html": [
       "<div>\n",
       "<style scoped>\n",
       "    .dataframe tbody tr th:only-of-type {\n",
       "        vertical-align: middle;\n",
       "    }\n",
       "\n",
       "    .dataframe tbody tr th {\n",
       "        vertical-align: top;\n",
       "    }\n",
       "\n",
       "    .dataframe thead th {\n",
       "        text-align: right;\n",
       "    }\n",
       "</style>\n",
       "<table border=\"1\" class=\"dataframe\">\n",
       "  <thead>\n",
       "    <tr style=\"text-align: right;\">\n",
       "      <th></th>\n",
       "      <th>Surface</th>\n",
       "      <th>Ceiling_Heigh</th>\n",
       "      <th>Share_of_Windows</th>\n",
       "      <th>Dwelling_per_Floor</th>\n",
       "      <th>Floors</th>\n",
       "      <th>Surface_m</th>\n",
       "      <th>Dwellings_total</th>\n",
       "      <th>Surface_Component_m</th>\n",
       "      <th>Dwelling_total_bool</th>\n",
       "      <th>Dwelling_total_between</th>\n",
       "      <th>Dwelling_total_matrix</th>\n",
       "      <th>Modification</th>\n",
       "      <th>Hall_Info</th>\n",
       "      <th>Without_Hall</th>\n",
       "      <th>Size_Info</th>\n",
       "    </tr>\n",
       "  </thead>\n",
       "  <tbody>\n",
       "    <tr>\n",
       "      <th>8</th>\n",
       "      <td>110</td>\n",
       "      <td>2.952288</td>\n",
       "      <td>0.3</td>\n",
       "      <td>2</td>\n",
       "      <td>2</td>\n",
       "      <td>367.831854</td>\n",
       "      <td>6</td>\n",
       "      <td>61.305309</td>\n",
       "      <td>6.0</td>\n",
       "      <td>6</td>\n",
       "      <td>6.0</td>\n",
       "      <td>False</td>\n",
       "      <td>Without Hall</td>\n",
       "      <td>True</td>\n",
       "      <td>Small</td>\n",
       "    </tr>\n",
       "    <tr>\n",
       "      <th>20</th>\n",
       "      <td>110</td>\n",
       "      <td>2.756377</td>\n",
       "      <td>0.3</td>\n",
       "      <td>2</td>\n",
       "      <td>2</td>\n",
       "      <td>343.422891</td>\n",
       "      <td>6</td>\n",
       "      <td>57.237148</td>\n",
       "      <td>6.0</td>\n",
       "      <td>6</td>\n",
       "      <td>6.0</td>\n",
       "      <td>False</td>\n",
       "      <td>Without Hall</td>\n",
       "      <td>True</td>\n",
       "      <td>Small</td>\n",
       "    </tr>\n",
       "    <tr>\n",
       "      <th>32</th>\n",
       "      <td>110</td>\n",
       "      <td>2.628864</td>\n",
       "      <td>0.3</td>\n",
       "      <td>2</td>\n",
       "      <td>2</td>\n",
       "      <td>327.535822</td>\n",
       "      <td>6</td>\n",
       "      <td>54.589304</td>\n",
       "      <td>6.0</td>\n",
       "      <td>6</td>\n",
       "      <td>6.0</td>\n",
       "      <td>False</td>\n",
       "      <td>Without Hall</td>\n",
       "      <td>True</td>\n",
       "      <td>Small</td>\n",
       "    </tr>\n",
       "    <tr>\n",
       "      <th>44</th>\n",
       "      <td>110</td>\n",
       "      <td>2.670649</td>\n",
       "      <td>0.3</td>\n",
       "      <td>2</td>\n",
       "      <td>2</td>\n",
       "      <td>332.741873</td>\n",
       "      <td>6</td>\n",
       "      <td>55.456979</td>\n",
       "      <td>6.0</td>\n",
       "      <td>6</td>\n",
       "      <td>6.0</td>\n",
       "      <td>False</td>\n",
       "      <td>Without Hall</td>\n",
       "      <td>True</td>\n",
       "      <td>Small</td>\n",
       "    </tr>\n",
       "    <tr>\n",
       "      <th>56</th>\n",
       "      <td>110</td>\n",
       "      <td>2.923794</td>\n",
       "      <td>0.3</td>\n",
       "      <td>2</td>\n",
       "      <td>2</td>\n",
       "      <td>364.281793</td>\n",
       "      <td>6</td>\n",
       "      <td>60.713632</td>\n",
       "      <td>6.0</td>\n",
       "      <td>6</td>\n",
       "      <td>6.0</td>\n",
       "      <td>False</td>\n",
       "      <td>Without Hall</td>\n",
       "      <td>True</td>\n",
       "      <td>Small</td>\n",
       "    </tr>\n",
       "  </tbody>\n",
       "</table>\n",
       "</div>"
      ],
      "text/plain": [
       "    Surface  Ceiling_Heigh  Share_of_Windows  Dwelling_per_Floor  Floors  \\\n",
       "8       110       2.952288               0.3                   2       2   \n",
       "20      110       2.756377               0.3                   2       2   \n",
       "32      110       2.628864               0.3                   2       2   \n",
       "44      110       2.670649               0.3                   2       2   \n",
       "56      110       2.923794               0.3                   2       2   \n",
       "\n",
       "     Surface_m  Dwellings_total  Surface_Component_m  Dwelling_total_bool  \\\n",
       "8   367.831854                6            61.305309                  6.0   \n",
       "20  343.422891                6            57.237148                  6.0   \n",
       "32  327.535822                6            54.589304                  6.0   \n",
       "44  332.741873                6            55.456979                  6.0   \n",
       "56  364.281793                6            60.713632                  6.0   \n",
       "\n",
       "    Dwelling_total_between  Dwelling_total_matrix  Modification     Hall_Info  \\\n",
       "8                        6                    6.0         False  Without Hall   \n",
       "20                       6                    6.0         False  Without Hall   \n",
       "32                       6                    6.0         False  Without Hall   \n",
       "44                       6                    6.0         False  Without Hall   \n",
       "56                       6                    6.0         False  Without Hall   \n",
       "\n",
       "    Without_Hall Size_Info  \n",
       "8           True     Small  \n",
       "20          True     Small  \n",
       "32          True     Small  \n",
       "44          True     Small  \n",
       "56          True     Small  "
      ]
     },
     "execution_count": 38,
     "metadata": {},
     "output_type": "execute_result"
    }
   ],
   "source": [
    "df_min.head()"
   ]
  },
  {
   "cell_type": "code",
   "execution_count": 39,
   "metadata": {
    "ExecuteTime": {
     "end_time": "2019-08-29T14:00:25.344398Z",
     "start_time": "2019-08-29T14:00:25.332768Z"
    }
   },
   "outputs": [
    {
     "data": {
      "text/plain": [
       "(20, 15)"
      ]
     },
     "execution_count": 39,
     "metadata": {},
     "output_type": "execute_result"
    }
   ],
   "source": [
    "df_min_droped = df.sort_values(essential_properties +\n",
    "                               target_value).drop_duplicates(\n",
    "                                   tuple(essential_properties))\n",
    "df_min_droped.shape"
   ]
  },
  {
   "cell_type": "code",
   "execution_count": 40,
   "metadata": {
    "ExecuteTime": {
     "end_time": "2019-08-29T14:00:25.365422Z",
     "start_time": "2019-08-29T14:00:25.346233Z"
    }
   },
   "outputs": [
    {
     "data": {
      "text/html": [
       "<div>\n",
       "<style scoped>\n",
       "    .dataframe tbody tr th:only-of-type {\n",
       "        vertical-align: middle;\n",
       "    }\n",
       "\n",
       "    .dataframe tbody tr th {\n",
       "        vertical-align: top;\n",
       "    }\n",
       "\n",
       "    .dataframe thead th {\n",
       "        text-align: right;\n",
       "    }\n",
       "</style>\n",
       "<table border=\"1\" class=\"dataframe\">\n",
       "  <thead>\n",
       "    <tr style=\"text-align: right;\">\n",
       "      <th></th>\n",
       "      <th>Surface</th>\n",
       "      <th>Ceiling_Heigh</th>\n",
       "      <th>Share_of_Windows</th>\n",
       "      <th>Dwelling_per_Floor</th>\n",
       "      <th>Floors</th>\n",
       "      <th>Surface_m</th>\n",
       "      <th>Dwellings_total</th>\n",
       "      <th>Surface_Component_m</th>\n",
       "      <th>Dwelling_total_bool</th>\n",
       "      <th>Dwelling_total_between</th>\n",
       "      <th>Dwelling_total_matrix</th>\n",
       "      <th>Modification</th>\n",
       "      <th>Hall_Info</th>\n",
       "      <th>Without_Hall</th>\n",
       "      <th>Size_Info</th>\n",
       "    </tr>\n",
       "  </thead>\n",
       "  <tbody>\n",
       "    <tr>\n",
       "      <th>8</th>\n",
       "      <td>110</td>\n",
       "      <td>2.952288</td>\n",
       "      <td>0.3</td>\n",
       "      <td>2</td>\n",
       "      <td>2</td>\n",
       "      <td>367.831854</td>\n",
       "      <td>6</td>\n",
       "      <td>61.305309</td>\n",
       "      <td>6.0</td>\n",
       "      <td>6</td>\n",
       "      <td>6.0</td>\n",
       "      <td>False</td>\n",
       "      <td>Without Hall</td>\n",
       "      <td>True</td>\n",
       "      <td>Small</td>\n",
       "    </tr>\n",
       "    <tr>\n",
       "      <th>9</th>\n",
       "      <td>110</td>\n",
       "      <td>2.952288</td>\n",
       "      <td>0.3</td>\n",
       "      <td>2</td>\n",
       "      <td>4</td>\n",
       "      <td>613.053090</td>\n",
       "      <td>10</td>\n",
       "      <td>61.305309</td>\n",
       "      <td>10.0</td>\n",
       "      <td>10</td>\n",
       "      <td>10.0</td>\n",
       "      <td>False</td>\n",
       "      <td>Without Hall</td>\n",
       "      <td>True</td>\n",
       "      <td>Small</td>\n",
       "    </tr>\n",
       "    <tr>\n",
       "      <th>10</th>\n",
       "      <td>110</td>\n",
       "      <td>2.952288</td>\n",
       "      <td>0.3</td>\n",
       "      <td>2</td>\n",
       "      <td>6</td>\n",
       "      <td>858.274326</td>\n",
       "      <td>14</td>\n",
       "      <td>61.305309</td>\n",
       "      <td>14.0</td>\n",
       "      <td>14</td>\n",
       "      <td>14.0</td>\n",
       "      <td>False</td>\n",
       "      <td>Without Hall</td>\n",
       "      <td>True</td>\n",
       "      <td>Small</td>\n",
       "    </tr>\n",
       "    <tr>\n",
       "      <th>11</th>\n",
       "      <td>110</td>\n",
       "      <td>2.952288</td>\n",
       "      <td>0.3</td>\n",
       "      <td>2</td>\n",
       "      <td>8</td>\n",
       "      <td>1103.495561</td>\n",
       "      <td>18</td>\n",
       "      <td>61.305309</td>\n",
       "      <td>16.0</td>\n",
       "      <td>16</td>\n",
       "      <td>16.0</td>\n",
       "      <td>True</td>\n",
       "      <td>With Hall</td>\n",
       "      <td>False</td>\n",
       "      <td>Small</td>\n",
       "    </tr>\n",
       "    <tr>\n",
       "      <th>68</th>\n",
       "      <td>120</td>\n",
       "      <td>2.952288</td>\n",
       "      <td>0.3</td>\n",
       "      <td>2</td>\n",
       "      <td>2</td>\n",
       "      <td>384.187841</td>\n",
       "      <td>6</td>\n",
       "      <td>64.031307</td>\n",
       "      <td>6.0</td>\n",
       "      <td>6</td>\n",
       "      <td>6.0</td>\n",
       "      <td>False</td>\n",
       "      <td>Without Hall</td>\n",
       "      <td>True</td>\n",
       "      <td>Middle-Small</td>\n",
       "    </tr>\n",
       "  </tbody>\n",
       "</table>\n",
       "</div>"
      ],
      "text/plain": [
       "    Surface  Ceiling_Heigh  Share_of_Windows  Dwelling_per_Floor  Floors  \\\n",
       "8       110       2.952288               0.3                   2       2   \n",
       "9       110       2.952288               0.3                   2       4   \n",
       "10      110       2.952288               0.3                   2       6   \n",
       "11      110       2.952288               0.3                   2       8   \n",
       "68      120       2.952288               0.3                   2       2   \n",
       "\n",
       "      Surface_m  Dwellings_total  Surface_Component_m  Dwelling_total_bool  \\\n",
       "8    367.831854                6            61.305309                  6.0   \n",
       "9    613.053090               10            61.305309                 10.0   \n",
       "10   858.274326               14            61.305309                 14.0   \n",
       "11  1103.495561               18            61.305309                 16.0   \n",
       "68   384.187841                6            64.031307                  6.0   \n",
       "\n",
       "    Dwelling_total_between  Dwelling_total_matrix  Modification     Hall_Info  \\\n",
       "8                        6                    6.0         False  Without Hall   \n",
       "9                       10                   10.0         False  Without Hall   \n",
       "10                      14                   14.0         False  Without Hall   \n",
       "11                      16                   16.0          True     With Hall   \n",
       "68                       6                    6.0         False  Without Hall   \n",
       "\n",
       "    Without_Hall     Size_Info  \n",
       "8           True         Small  \n",
       "9           True         Small  \n",
       "10          True         Small  \n",
       "11         False         Small  \n",
       "68          True  Middle-Small  "
      ]
     },
     "execution_count": 40,
     "metadata": {},
     "output_type": "execute_result"
    }
   ],
   "source": [
    "df_min_droped.head()"
   ]
  },
  {
   "cell_type": "markdown",
   "metadata": {
    "ExecuteTime": {
     "end_time": "2019-08-29T09:02:03.410683Z",
     "start_time": "2019-08-29T09:02:03.401753Z"
    }
   },
   "source": [
    "## Transformation en dictionnaire"
   ]
  },
  {
   "cell_type": "code",
   "execution_count": 41,
   "metadata": {
    "ExecuteTime": {
     "end_time": "2019-08-29T14:00:25.378659Z",
     "start_time": "2019-08-29T14:00:25.368563Z"
    }
   },
   "outputs": [
    {
     "data": {
      "text/plain": [
       "dict_keys([(110, 2), (110, 4), (110, 6), (110, 8), (120, 2), (120, 4), (120, 6), (120, 8), (130, 2), (130, 4), (130, 6), (130, 8), (140, 2), (140, 4), (140, 6), (140, 8), (150, 2), (150, 4), (150, 6), (150, 8)])"
      ]
     },
     "execution_count": 41,
     "metadata": {},
     "output_type": "execute_result"
    }
   ],
   "source": [
    "dict_min = df_min_droped.set_index(['Surface',\n",
    "                                    'Floors']).to_dict(orient='index')\n",
    "list(dict_min.keys())"
   ]
  },
  {
   "cell_type": "code",
   "execution_count": 42,
   "metadata": {
    "ExecuteTime": {
     "end_time": "2019-08-29T14:00:25.387666Z",
     "start_time": "2019-08-29T14:00:25.380309Z"
    }
   },
   "outputs": [
    {
     "data": {
      "text/plain": [
       "[{'Ceiling_Heigh': 2.9522879195330676,\n",
       "  'Share_of_Windows': 0.3,\n",
       "  'Dwelling_per_Floor': 2,\n",
       "  'Surface_m': 367.83185379884054,\n",
       "  'Dwellings_total': 6,\n",
       "  'Surface_Component_m': 61.305308966473426,\n",
       "  'Dwelling_total_bool': 6.0,\n",
       "  'Dwelling_total_between': 6,\n",
       "  'Dwelling_total_matrix': 6.0,\n",
       "  'Modification': False,\n",
       "  'Hall_Info': 'Without Hall',\n",
       "  'Without_Hall': True,\n",
       "  'Size_Info': 'Small'},\n",
       " {'Ceiling_Heigh': 2.9522879195330676,\n",
       "  'Share_of_Windows': 0.3,\n",
       "  'Dwelling_per_Floor': 2,\n",
       "  'Surface_m': 613.0530896647342,\n",
       "  'Dwellings_total': 10,\n",
       "  'Surface_Component_m': 61.30530896647342,\n",
       "  'Dwelling_total_bool': 10.0,\n",
       "  'Dwelling_total_between': 10,\n",
       "  'Dwelling_total_matrix': 10.0,\n",
       "  'Modification': False,\n",
       "  'Hall_Info': 'Without Hall',\n",
       "  'Without_Hall': True,\n",
       "  'Size_Info': 'Small'}]"
      ]
     },
     "execution_count": 42,
     "metadata": {},
     "output_type": "execute_result"
    }
   ],
   "source": [
    "list(dict_min.values())[:2]"
   ]
  },
  {
   "cell_type": "code",
   "execution_count": 43,
   "metadata": {
    "ExecuteTime": {
     "end_time": "2019-08-29T14:00:25.396542Z",
     "start_time": "2019-08-29T14:00:25.389395Z"
    }
   },
   "outputs": [
    {
     "data": {
      "text/plain": [
       "{'Ceiling_Heigh': 2.9522879195330676,\n",
       " 'Share_of_Windows': 0.3,\n",
       " 'Dwelling_per_Floor': 2,\n",
       " 'Surface_m': 367.83185379884054,\n",
       " 'Dwellings_total': 6,\n",
       " 'Surface_Component_m': 61.305308966473426,\n",
       " 'Dwelling_total_bool': 6.0,\n",
       " 'Dwelling_total_between': 6,\n",
       " 'Dwelling_total_matrix': 6.0,\n",
       " 'Modification': False,\n",
       " 'Hall_Info': 'Without Hall',\n",
       " 'Without_Hall': True,\n",
       " 'Size_Info': 'Small'}"
      ]
     },
     "execution_count": 43,
     "metadata": {},
     "output_type": "execute_result"
    }
   ],
   "source": [
    "dict_min[(110, 2)]"
   ]
  },
  {
   "cell_type": "code",
   "execution_count": 44,
   "metadata": {
    "ExecuteTime": {
     "end_time": "2019-08-29T14:00:25.406628Z",
     "start_time": "2019-08-29T14:00:25.399166Z"
    }
   },
   "outputs": [
    {
     "data": {
      "text/plain": [
       "[((110, 2),\n",
       "  {'Ceiling_Heigh': 2.9522879195330676,\n",
       "   'Share_of_Windows': 0.3,\n",
       "   'Dwelling_per_Floor': 2,\n",
       "   'Surface_m': 367.83185379884054,\n",
       "   'Dwellings_total': 6,\n",
       "   'Surface_Component_m': 61.305308966473426,\n",
       "   'Dwelling_total_bool': 6.0,\n",
       "   'Dwelling_total_between': 6,\n",
       "   'Dwelling_total_matrix': 6.0,\n",
       "   'Modification': False,\n",
       "   'Hall_Info': 'Without Hall',\n",
       "   'Without_Hall': True,\n",
       "   'Size_Info': 'Small'}),\n",
       " ((110, 4),\n",
       "  {'Ceiling_Heigh': 2.9522879195330676,\n",
       "   'Share_of_Windows': 0.3,\n",
       "   'Dwelling_per_Floor': 2,\n",
       "   'Surface_m': 613.0530896647342,\n",
       "   'Dwellings_total': 10,\n",
       "   'Surface_Component_m': 61.30530896647342,\n",
       "   'Dwelling_total_bool': 10.0,\n",
       "   'Dwelling_total_between': 10,\n",
       "   'Dwelling_total_matrix': 10.0,\n",
       "   'Modification': False,\n",
       "   'Hall_Info': 'Without Hall',\n",
       "   'Without_Hall': True,\n",
       "   'Size_Info': 'Small'})]"
      ]
     },
     "execution_count": 44,
     "metadata": {},
     "output_type": "execute_result"
    }
   ],
   "source": [
    "list(dict_min.items())[:2]"
   ]
  },
  {
   "cell_type": "markdown",
   "metadata": {},
   "source": [
    "# Calcul final qui consiste uniquement à requêter le résultat dans le dictionnaire réduit"
   ]
  },
  {
   "cell_type": "code",
   "execution_count": 45,
   "metadata": {
    "ExecuteTime": {
     "end_time": "2019-08-29T14:00:25.416095Z",
     "start_time": "2019-08-29T14:00:25.408828Z"
    }
   },
   "outputs": [
    {
     "data": {
      "text/plain": [
       "300"
      ]
     },
     "execution_count": 45,
     "metadata": {},
     "output_type": "execute_result"
    }
   ],
   "source": [
    "list_surface_component_m = []\n",
    "for dwelling in dwellings:\n",
    "    list_surface_component_m.append(dwelling.Final_calculation())\n",
    "len(list_surface_component_m)"
   ]
  },
  {
   "cell_type": "code",
   "execution_count": 46,
   "metadata": {
    "ExecuteTime": {
     "end_time": "2019-08-29T14:00:25.422942Z",
     "start_time": "2019-08-29T14:00:25.418160Z"
    }
   },
   "outputs": [
    {
     "data": {
      "text/plain": [
       "{'Ceiling_Heigh': 2.9522879195330676,\n",
       " 'Share_of_Windows': 0.3,\n",
       " 'Dwelling_per_Floor': 2,\n",
       " 'Surface_m': 367.83185379884054,\n",
       " 'Dwellings_total': 6,\n",
       " 'Surface_Component_m': 61.305308966473426,\n",
       " 'Dwelling_total_bool': 6.0,\n",
       " 'Dwelling_total_between': 6,\n",
       " 'Dwelling_total_matrix': 6.0,\n",
       " 'Modification': False,\n",
       " 'Hall_Info': 'Without Hall',\n",
       " 'Without_Hall': True,\n",
       " 'Size_Info': 'Small'}"
      ]
     },
     "execution_count": 46,
     "metadata": {},
     "output_type": "execute_result"
    }
   ],
   "source": [
    "list_surface_component_m[0]"
   ]
  },
  {
   "cell_type": "markdown",
   "metadata": {},
   "source": [
    "# Dimensionnement et segmentation du problème "
   ]
  },
  {
   "cell_type": "code",
   "execution_count": 47,
   "metadata": {
    "ExecuteTime": {
     "end_time": "2019-08-29T14:00:25.444866Z",
     "start_time": "2019-08-29T14:00:25.425313Z"
    }
   },
   "outputs": [
    {
     "data": {
      "text/plain": [
       "(300, 5)"
      ]
     },
     "execution_count": 47,
     "metadata": {},
     "output_type": "execute_result"
    }
   ],
   "source": [
    "df_extended = pd.DataFrame()\n",
    "\n",
    "for i in range(0, 6):\n",
    "    df_partition = pd.DataFrame(\n",
    "        cartesian_product,\n",
    "        columns=[\n",
    "            'Surface', 'Ceiling_Heigh', 'Share_of_Windows',\n",
    "            'Dwelling_per_Floor', 'Floors'\n",
    "        ]).iloc[int((300 / 6) * i):int((300 / 6) * (i + 1)), :]\n",
    "    df_extended = pd.concat([df_extended, df_partition], axis=0)\n",
    "df_extended.shape"
   ]
  },
  {
   "cell_type": "code",
   "execution_count": 48,
   "metadata": {
    "ExecuteTime": {
     "end_time": "2019-08-29T14:00:25.457508Z",
     "start_time": "2019-08-29T14:00:25.447674Z"
    }
   },
   "outputs": [
    {
     "data": {
      "text/html": [
       "<div>\n",
       "<style scoped>\n",
       "    .dataframe tbody tr th:only-of-type {\n",
       "        vertical-align: middle;\n",
       "    }\n",
       "\n",
       "    .dataframe tbody tr th {\n",
       "        vertical-align: top;\n",
       "    }\n",
       "\n",
       "    .dataframe thead th {\n",
       "        text-align: right;\n",
       "    }\n",
       "</style>\n",
       "<table border=\"1\" class=\"dataframe\">\n",
       "  <thead>\n",
       "    <tr style=\"text-align: right;\">\n",
       "      <th></th>\n",
       "      <th>Surface</th>\n",
       "      <th>Ceiling_Heigh</th>\n",
       "      <th>Share_of_Windows</th>\n",
       "      <th>Dwelling_per_Floor</th>\n",
       "      <th>Floors</th>\n",
       "    </tr>\n",
       "  </thead>\n",
       "  <tbody>\n",
       "    <tr>\n",
       "      <th>250</th>\n",
       "      <td>150</td>\n",
       "      <td>2.952288</td>\n",
       "      <td>0.3</td>\n",
       "      <td>2</td>\n",
       "      <td>6</td>\n",
       "    </tr>\n",
       "    <tr>\n",
       "      <th>251</th>\n",
       "      <td>150</td>\n",
       "      <td>2.952288</td>\n",
       "      <td>0.3</td>\n",
       "      <td>2</td>\n",
       "      <td>8</td>\n",
       "    </tr>\n",
       "    <tr>\n",
       "      <th>252</th>\n",
       "      <td>150</td>\n",
       "      <td>2.756377</td>\n",
       "      <td>0.3</td>\n",
       "      <td>7</td>\n",
       "      <td>2</td>\n",
       "    </tr>\n",
       "    <tr>\n",
       "      <th>253</th>\n",
       "      <td>150</td>\n",
       "      <td>2.756377</td>\n",
       "      <td>0.3</td>\n",
       "      <td>7</td>\n",
       "      <td>4</td>\n",
       "    </tr>\n",
       "    <tr>\n",
       "      <th>254</th>\n",
       "      <td>150</td>\n",
       "      <td>2.756377</td>\n",
       "      <td>0.3</td>\n",
       "      <td>7</td>\n",
       "      <td>6</td>\n",
       "    </tr>\n",
       "  </tbody>\n",
       "</table>\n",
       "</div>"
      ],
      "text/plain": [
       "     Surface  Ceiling_Heigh  Share_of_Windows  Dwelling_per_Floor  Floors\n",
       "250      150       2.952288               0.3                   2       6\n",
       "251      150       2.952288               0.3                   2       8\n",
       "252      150       2.756377               0.3                   7       2\n",
       "253      150       2.756377               0.3                   7       4\n",
       "254      150       2.756377               0.3                   7       6"
      ]
     },
     "execution_count": 48,
     "metadata": {},
     "output_type": "execute_result"
    }
   ],
   "source": [
    "df_extended.iloc[250:, :].head()"
   ]
  },
  {
   "cell_type": "code",
   "execution_count": 49,
   "metadata": {
    "ExecuteTime": {
     "end_time": "2019-08-29T14:00:25.465018Z",
     "start_time": "2019-08-29T14:00:25.459035Z"
    }
   },
   "outputs": [
    {
     "data": {
      "text/plain": [
       "(50, 5)"
      ]
     },
     "execution_count": 49,
     "metadata": {},
     "output_type": "execute_result"
    }
   ],
   "source": [
    "df_partition.shape"
   ]
  },
  {
   "cell_type": "code",
   "execution_count": 50,
   "metadata": {
    "ExecuteTime": {
     "end_time": "2019-08-29T14:00:25.476111Z",
     "start_time": "2019-08-29T14:00:25.466482Z"
    }
   },
   "outputs": [
    {
     "data": {
      "text/html": [
       "<div>\n",
       "<style scoped>\n",
       "    .dataframe tbody tr th:only-of-type {\n",
       "        vertical-align: middle;\n",
       "    }\n",
       "\n",
       "    .dataframe tbody tr th {\n",
       "        vertical-align: top;\n",
       "    }\n",
       "\n",
       "    .dataframe thead th {\n",
       "        text-align: right;\n",
       "    }\n",
       "</style>\n",
       "<table border=\"1\" class=\"dataframe\">\n",
       "  <thead>\n",
       "    <tr style=\"text-align: right;\">\n",
       "      <th></th>\n",
       "      <th>Surface</th>\n",
       "      <th>Ceiling_Heigh</th>\n",
       "      <th>Share_of_Windows</th>\n",
       "      <th>Dwelling_per_Floor</th>\n",
       "      <th>Floors</th>\n",
       "    </tr>\n",
       "  </thead>\n",
       "  <tbody>\n",
       "    <tr>\n",
       "      <th>250</th>\n",
       "      <td>150</td>\n",
       "      <td>2.952288</td>\n",
       "      <td>0.3</td>\n",
       "      <td>2</td>\n",
       "      <td>6</td>\n",
       "    </tr>\n",
       "    <tr>\n",
       "      <th>251</th>\n",
       "      <td>150</td>\n",
       "      <td>2.952288</td>\n",
       "      <td>0.3</td>\n",
       "      <td>2</td>\n",
       "      <td>8</td>\n",
       "    </tr>\n",
       "    <tr>\n",
       "      <th>252</th>\n",
       "      <td>150</td>\n",
       "      <td>2.756377</td>\n",
       "      <td>0.3</td>\n",
       "      <td>7</td>\n",
       "      <td>2</td>\n",
       "    </tr>\n",
       "    <tr>\n",
       "      <th>253</th>\n",
       "      <td>150</td>\n",
       "      <td>2.756377</td>\n",
       "      <td>0.3</td>\n",
       "      <td>7</td>\n",
       "      <td>4</td>\n",
       "    </tr>\n",
       "    <tr>\n",
       "      <th>254</th>\n",
       "      <td>150</td>\n",
       "      <td>2.756377</td>\n",
       "      <td>0.3</td>\n",
       "      <td>7</td>\n",
       "      <td>6</td>\n",
       "    </tr>\n",
       "  </tbody>\n",
       "</table>\n",
       "</div>"
      ],
      "text/plain": [
       "     Surface  Ceiling_Heigh  Share_of_Windows  Dwelling_per_Floor  Floors\n",
       "250      150       2.952288               0.3                   2       6\n",
       "251      150       2.952288               0.3                   2       8\n",
       "252      150       2.756377               0.3                   7       2\n",
       "253      150       2.756377               0.3                   7       4\n",
       "254      150       2.756377               0.3                   7       6"
      ]
     },
     "execution_count": 50,
     "metadata": {},
     "output_type": "execute_result"
    }
   ],
   "source": [
    "df_partition.head()"
   ]
  },
  {
   "cell_type": "markdown",
   "metadata": {},
   "source": [
    "# Virement des combinaisons"
   ]
  },
  {
   "cell_type": "code",
   "execution_count": 51,
   "metadata": {
    "ExecuteTime": {
     "end_time": "2019-08-29T14:00:25.537485Z",
     "start_time": "2019-08-29T14:00:25.534964Z"
    }
   },
   "outputs": [],
   "source": [
    "combination_to_ignore = (110, 6)"
   ]
  },
  {
   "cell_type": "code",
   "execution_count": 52,
   "metadata": {
    "ExecuteTime": {
     "end_time": "2019-08-29T14:00:25.666867Z",
     "start_time": "2019-08-29T14:00:25.660377Z"
    }
   },
   "outputs": [
    {
     "data": {
      "text/plain": [
       "285"
      ]
     },
     "execution_count": 52,
     "metadata": {},
     "output_type": "execute_result"
    }
   ],
   "source": [
    "list_filtered = [element for element in cartesian_product if not \\\n",
    "                 set(combination_to_ignore) < set(element)]\n",
    "len(list_filtered)"
   ]
  },
  {
   "cell_type": "code",
   "execution_count": 53,
   "metadata": {
    "ExecuteTime": {
     "end_time": "2019-08-29T14:00:25.789661Z",
     "start_time": "2019-08-29T14:00:25.783808Z"
    }
   },
   "outputs": [
    {
     "data": {
      "text/plain": [
       "[(110, 2.9522879195330676, 0.3, 7, 2),\n",
       " (110, 2.9522879195330676, 0.3, 7, 4),\n",
       " (110, 2.9522879195330676, 0.3, 7, 8),\n",
       " (110, 2.9522879195330676, 0.3, 8, 2),\n",
       " (110, 2.9522879195330676, 0.3, 8, 4),\n",
       " (110, 2.9522879195330676, 0.3, 8, 8),\n",
       " (110, 2.9522879195330676, 0.3, 2, 2),\n",
       " (110, 2.9522879195330676, 0.3, 2, 4),\n",
       " (110, 2.9522879195330676, 0.3, 2, 8),\n",
       " (110, 2.756376972059785, 0.3, 7, 2)]"
      ]
     },
     "execution_count": 53,
     "metadata": {},
     "output_type": "execute_result"
    }
   ],
   "source": [
    "list_filtered[:10]"
   ]
  }
 ],
 "metadata": {
  "kernelspec": {
   "display_name": "Python 3",
   "language": "python",
   "name": "python3"
  },
  "language_info": {
   "codemirror_mode": {
    "name": "ipython",
    "version": 3
   },
   "file_extension": ".py",
   "mimetype": "text/x-python",
   "name": "python",
   "nbconvert_exporter": "python",
   "pygments_lexer": "ipython3",
   "version": "3.7.1"
  },
  "nbTranslate": {
   "displayLangs": [
    "*"
   ],
   "hotkey": "alt-t",
   "langInMainMenu": true,
   "sourceLang": "en",
   "targetLang": "fr",
   "useGoogleTranslate": true
  },
  "toc": {
   "base_numbering": 1,
   "nav_menu": {},
   "number_sections": true,
   "sideBar": true,
   "skip_h1_title": false,
   "title_cell": "Table of Contents",
   "title_sidebar": "Contents",
   "toc_cell": true,
   "toc_position": {
    "height": "calc(100% - 180px)",
    "left": "10px",
    "top": "150px",
    "width": "320px"
   },
   "toc_section_display": true,
   "toc_window_display": true
  },
  "varInspector": {
   "cols": {
    "lenName": 16,
    "lenType": 16,
    "lenVar": 40
   },
   "kernels_config": {
    "python": {
     "delete_cmd_postfix": "",
     "delete_cmd_prefix": "del ",
     "library": "var_list.py",
     "varRefreshCmd": "print(var_dic_list())"
    },
    "r": {
     "delete_cmd_postfix": ") ",
     "delete_cmd_prefix": "rm(",
     "library": "var_list.r",
     "varRefreshCmd": "cat(var_dic_list()) "
    }
   },
   "types_to_exclude": [
    "module",
    "function",
    "builtin_function_or_method",
    "instance",
    "_Feature"
   ],
   "window_display": true
  }
 },
 "nbformat": 4,
 "nbformat_minor": 2
}
